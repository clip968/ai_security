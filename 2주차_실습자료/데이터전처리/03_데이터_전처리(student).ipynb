{
  "cells": [
    {
      "cell_type": "markdown",
      "metadata": {
        "id": "joLICRrqyPQz"
      },
      "source": [
        "# I.데이터 전처리"
      ]
    },
    {
      "cell_type": "markdown",
      "metadata": {
        "id": "mIUj9ZbO0m1D"
      },
      "source": [
        "## **1. 결측치 처리**"
      ]
    },
    {
      "cell_type": "markdown",
      "metadata": {
        "id": "OAyR4bn3q9Mp"
      },
      "source": [
        "### 결측치 제거"
      ]
    },
    {
      "cell_type": "code",
      "execution_count": 2,
      "metadata": {
        "id": "TplxaSeqfETT"
      },
      "outputs": [
        {
          "data": {
            "text/html": [
              "<div>\n",
              "<style scoped>\n",
              "    .dataframe tbody tr th:only-of-type {\n",
              "        vertical-align: middle;\n",
              "    }\n",
              "\n",
              "    .dataframe tbody tr th {\n",
              "        vertical-align: top;\n",
              "    }\n",
              "\n",
              "    .dataframe thead th {\n",
              "        text-align: right;\n",
              "    }\n",
              "</style>\n",
              "<table border=\"1\" class=\"dataframe\">\n",
              "  <thead>\n",
              "    <tr style=\"text-align: right;\">\n",
              "      <th></th>\n",
              "      <th>A</th>\n",
              "      <th>B</th>\n",
              "      <th>C</th>\n",
              "    </tr>\n",
              "  </thead>\n",
              "  <tbody>\n",
              "    <tr>\n",
              "      <th>0</th>\n",
              "      <td>1.0</td>\n",
              "      <td>6.0</td>\n",
              "      <td>11.0</td>\n",
              "    </tr>\n",
              "    <tr>\n",
              "      <th>1</th>\n",
              "      <td>2.0</td>\n",
              "      <td>7.0</td>\n",
              "      <td>12.0</td>\n",
              "    </tr>\n",
              "    <tr>\n",
              "      <th>2</th>\n",
              "      <td>NaN</td>\n",
              "      <td>8.0</td>\n",
              "      <td>13.0</td>\n",
              "    </tr>\n",
              "    <tr>\n",
              "      <th>3</th>\n",
              "      <td>4.0</td>\n",
              "      <td>NaN</td>\n",
              "      <td>NaN</td>\n",
              "    </tr>\n",
              "    <tr>\n",
              "      <th>4</th>\n",
              "      <td>5.0</td>\n",
              "      <td>10.0</td>\n",
              "      <td>NaN</td>\n",
              "    </tr>\n",
              "  </tbody>\n",
              "</table>\n",
              "</div>"
            ],
            "text/plain": [
              "     A     B     C\n",
              "0  1.0   6.0  11.0\n",
              "1  2.0   7.0  12.0\n",
              "2  NaN   8.0  13.0\n",
              "3  4.0   NaN   NaN\n",
              "4  5.0  10.0   NaN"
            ]
          },
          "execution_count": 2,
          "metadata": {},
          "output_type": "execute_result"
        }
      ],
      "source": [
        "#[코드 8-1] 결측치가 있는 데이터프레임\n",
        "import pandas as pd\n",
        "import numpy as np\n",
        "\n",
        "df = pd.DataFrame({'A': [1, 2, np.nan, 4, 5],\n",
        "                   'B': [6, 7, 8, np.nan, 10],\n",
        "                   'C': [11, 12, 13, np.nan, np.nan]})\n",
        "df"
      ]
    },
    {
      "cell_type": "code",
      "execution_count": 3,
      "metadata": {
        "id": "jVS7TBB_fMl_"
      },
      "outputs": [
        {
          "data": {
            "text/html": [
              "<div>\n",
              "<style scoped>\n",
              "    .dataframe tbody tr th:only-of-type {\n",
              "        vertical-align: middle;\n",
              "    }\n",
              "\n",
              "    .dataframe tbody tr th {\n",
              "        vertical-align: top;\n",
              "    }\n",
              "\n",
              "    .dataframe thead th {\n",
              "        text-align: right;\n",
              "    }\n",
              "</style>\n",
              "<table border=\"1\" class=\"dataframe\">\n",
              "  <thead>\n",
              "    <tr style=\"text-align: right;\">\n",
              "      <th></th>\n",
              "      <th>A</th>\n",
              "      <th>B</th>\n",
              "      <th>C</th>\n",
              "    </tr>\n",
              "  </thead>\n",
              "  <tbody>\n",
              "    <tr>\n",
              "      <th>0</th>\n",
              "      <td>False</td>\n",
              "      <td>False</td>\n",
              "      <td>False</td>\n",
              "    </tr>\n",
              "    <tr>\n",
              "      <th>1</th>\n",
              "      <td>False</td>\n",
              "      <td>False</td>\n",
              "      <td>False</td>\n",
              "    </tr>\n",
              "    <tr>\n",
              "      <th>2</th>\n",
              "      <td>True</td>\n",
              "      <td>False</td>\n",
              "      <td>False</td>\n",
              "    </tr>\n",
              "    <tr>\n",
              "      <th>3</th>\n",
              "      <td>False</td>\n",
              "      <td>True</td>\n",
              "      <td>True</td>\n",
              "    </tr>\n",
              "    <tr>\n",
              "      <th>4</th>\n",
              "      <td>False</td>\n",
              "      <td>False</td>\n",
              "      <td>True</td>\n",
              "    </tr>\n",
              "  </tbody>\n",
              "</table>\n",
              "</div>"
            ],
            "text/plain": [
              "       A      B      C\n",
              "0  False  False  False\n",
              "1  False  False  False\n",
              "2   True  False  False\n",
              "3  False   True   True\n",
              "4  False  False   True"
            ]
          },
          "execution_count": 3,
          "metadata": {},
          "output_type": "execute_result"
        }
      ],
      "source": [
        "#[코드 8-2] 결측치 위치 확인\n",
        "pd.isna(df)"
      ]
    },
    {
      "cell_type": "code",
      "execution_count": 4,
      "metadata": {
        "id": "D0xiDWqWfP7q"
      },
      "outputs": [
        {
          "data": {
            "text/plain": [
              "A    1\n",
              "B    1\n",
              "C    2\n",
              "dtype: int64"
            ]
          },
          "execution_count": 4,
          "metadata": {},
          "output_type": "execute_result"
        }
      ],
      "source": [
        "#[코드 8-3] 열별 결측치 개수 확인\n",
        "pd.isna(df).sum()"
      ]
    },
    {
      "cell_type": "code",
      "execution_count": 5,
      "metadata": {
        "id": "qQTsUU9Eg5pD"
      },
      "outputs": [
        {
          "data": {
            "text/html": [
              "<div>\n",
              "<style scoped>\n",
              "    .dataframe tbody tr th:only-of-type {\n",
              "        vertical-align: middle;\n",
              "    }\n",
              "\n",
              "    .dataframe tbody tr th {\n",
              "        vertical-align: top;\n",
              "    }\n",
              "\n",
              "    .dataframe thead th {\n",
              "        text-align: right;\n",
              "    }\n",
              "</style>\n",
              "<table border=\"1\" class=\"dataframe\">\n",
              "  <thead>\n",
              "    <tr style=\"text-align: right;\">\n",
              "      <th></th>\n",
              "      <th>A</th>\n",
              "      <th>B</th>\n",
              "      <th>C</th>\n",
              "    </tr>\n",
              "  </thead>\n",
              "  <tbody>\n",
              "    <tr>\n",
              "      <th>0</th>\n",
              "      <td>1.0</td>\n",
              "      <td>6.0</td>\n",
              "      <td>11.0</td>\n",
              "    </tr>\n",
              "    <tr>\n",
              "      <th>1</th>\n",
              "      <td>2.0</td>\n",
              "      <td>7.0</td>\n",
              "      <td>12.0</td>\n",
              "    </tr>\n",
              "  </tbody>\n",
              "</table>\n",
              "</div>"
            ],
            "text/plain": [
              "     A    B     C\n",
              "0  1.0  6.0  11.0\n",
              "1  2.0  7.0  12.0"
            ]
          },
          "execution_count": 5,
          "metadata": {},
          "output_type": "execute_result"
        }
      ],
      "source": [
        "#[코드 8-4] 행별로 모든 결측치 제거\n",
        "df_drop_nan = df.dropna()\n",
        "df_drop_nan"
      ]
    },
    {
      "cell_type": "code",
      "execution_count": 6,
      "metadata": {
        "id": "gsQXNGqVj5Al"
      },
      "outputs": [
        {
          "data": {
            "text/html": [
              "<div>\n",
              "<style scoped>\n",
              "    .dataframe tbody tr th:only-of-type {\n",
              "        vertical-align: middle;\n",
              "    }\n",
              "\n",
              "    .dataframe tbody tr th {\n",
              "        vertical-align: top;\n",
              "    }\n",
              "\n",
              "    .dataframe thead th {\n",
              "        text-align: right;\n",
              "    }\n",
              "</style>\n",
              "<table border=\"1\" class=\"dataframe\">\n",
              "  <thead>\n",
              "    <tr style=\"text-align: right;\">\n",
              "      <th></th>\n",
              "      <th>A</th>\n",
              "      <th>B</th>\n",
              "      <th>C</th>\n",
              "    </tr>\n",
              "  </thead>\n",
              "  <tbody>\n",
              "    <tr>\n",
              "      <th>0</th>\n",
              "      <td>1.0</td>\n",
              "      <td>6.0</td>\n",
              "      <td>11.0</td>\n",
              "    </tr>\n",
              "    <tr>\n",
              "      <th>1</th>\n",
              "      <td>2.0</td>\n",
              "      <td>7.0</td>\n",
              "      <td>12.0</td>\n",
              "    </tr>\n",
              "    <tr>\n",
              "      <th>2</th>\n",
              "      <td>NaN</td>\n",
              "      <td>8.0</td>\n",
              "      <td>13.0</td>\n",
              "    </tr>\n",
              "  </tbody>\n",
              "</table>\n",
              "</div>"
            ],
            "text/plain": [
              "     A    B     C\n",
              "0  1.0  6.0  11.0\n",
              "1  2.0  7.0  12.0\n",
              "2  NaN  8.0  13.0"
            ]
          },
          "execution_count": 6,
          "metadata": {},
          "output_type": "execute_result"
        }
      ],
      "source": [
        "#특정 열의 결측치 제거\n",
        "df_drop_B_C = df.dropna(subset=['B','C'])\n",
        "df_drop_B_C"
      ]
    },
    {
      "cell_type": "markdown",
      "metadata": {
        "id": "pHHeo_YBq5_q"
      },
      "source": [
        "### 결측치 대체"
      ]
    },
    {
      "cell_type": "code",
      "execution_count": 7,
      "metadata": {
        "id": "iQ4Ba6Nxj-Ud"
      },
      "outputs": [
        {
          "name": "stdout",
          "output_type": "stream",
          "text": [
            "0    11.0\n",
            "1    12.0\n",
            "2    13.0\n",
            "3     0.0\n",
            "4     0.0\n",
            "Name: C, dtype: float64\n"
          ]
        }
      ],
      "source": [
        "#[코드 8-6] 숫자로 결측치 대체\n",
        "df_0 = df['C'].fillna(0)\n",
        "print(df_0)"
      ]
    },
    {
      "cell_type": "code",
      "execution_count": 8,
      "metadata": {
        "id": "qeMiBf_qlA69"
      },
      "outputs": [
        {
          "data": {
            "text/plain": [
              "0        1.0\n",
              "1        2.0\n",
              "2    missing\n",
              "3        4.0\n",
              "4        5.0\n",
              "Name: A, dtype: object"
            ]
          },
          "execution_count": 8,
          "metadata": {},
          "output_type": "execute_result"
        }
      ],
      "source": [
        "#[코드 8-7] 문자로 결측치 대체\n",
        "df_missing = df['A'].fillna('missing')\n",
        "df_missing"
      ]
    },
    {
      "cell_type": "code",
      "execution_count": 9,
      "metadata": {
        "id": "Ra9-BE-Flb5M"
      },
      "outputs": [
        {
          "name": "stdout",
          "output_type": "stream",
          "text": [
            "     A     B     C\n",
            "0  1.0   6.0  11.0\n",
            "1  2.0   7.0  12.0\n",
            "2  NaN   8.0  13.0\n",
            "3  4.0   NaN   NaN\n",
            "4  5.0  10.0   NaN \n",
            "\n",
            "     A      B     C\n",
            "0  1.0   6.00  11.0\n",
            "1  2.0   7.00  12.0\n",
            "2  3.0   8.00  13.0\n",
            "3  4.0   7.75  12.0\n",
            "4  5.0  10.00  12.0\n"
          ]
        }
      ],
      "source": [
        "#[코드 8-8] 평균으로 결측치 대체\n",
        "# df.fillna(df.mean(), inplace=True)\n",
        "df_mean = df.fillna(df.mean())\n",
        "print(df, '\\n')\n",
        "print(df_mean)"
      ]
    },
    {
      "cell_type": "code",
      "execution_count": 10,
      "metadata": {
        "id": "amQuxmgZlbvw"
      },
      "outputs": [
        {
          "name": "stdout",
          "output_type": "stream",
          "text": [
            "     A     B     C\n",
            "0  1.0   6.0  11.0\n",
            "1  2.0   7.0  12.0\n",
            "2  NaN   8.0  13.0\n",
            "3  4.0   NaN   NaN\n",
            "4  5.0  10.0   NaN \n",
            "\n",
            "     A     B     C\n",
            "0  1.0   6.0  11.0\n",
            "1  2.0   7.0  12.0\n",
            "2  2.0   8.0  13.0\n",
            "3  4.0   8.0  13.0\n",
            "4  5.0  10.0  13.0 \n",
            "\n",
            "     A     B     C\n",
            "0  1.0   6.0  11.0\n",
            "1  2.0   7.0  12.0\n",
            "2  4.0   8.0  13.0\n",
            "3  4.0  10.0   NaN\n",
            "4  5.0  10.0   NaN\n"
          ]
        },
        {
          "name": "stderr",
          "output_type": "stream",
          "text": [
            "/tmp/ipykernel_20232/3401270137.py:4: FutureWarning: DataFrame.fillna with 'method' is deprecated and will raise in a future version. Use obj.ffill() or obj.bfill() instead.\n",
            "  df_ffill = df.fillna(method='ffill')\n",
            "/tmp/ipykernel_20232/3401270137.py:7: FutureWarning: DataFrame.fillna with 'method' is deprecated and will raise in a future version. Use obj.ffill() or obj.bfill() instead.\n",
            "  df_bfill = df.fillna(method='bfill')\n"
          ]
        }
      ],
      "source": [
        "#[코드 8-9] 주변 데이터로 결측치 대체\n",
        "print(df, '\\n')\n",
        "#결측치 바로 위의 값으로 대체하기\n",
        "df_ffill = df.fillna(method='ffill')\n",
        "print(df_ffill, '\\n')\n",
        "#결측치 바로 아래의 값으로 대체하기\n",
        "df_bfill = df.fillna(method='bfill')\n",
        "print(df_bfill)"
      ]
    },
    {
      "cell_type": "code",
      "execution_count": 11,
      "metadata": {
        "id": "bYM61z6W1SCA"
      },
      "outputs": [
        {
          "data": {
            "text/html": [
              "<div>\n",
              "<style scoped>\n",
              "    .dataframe tbody tr th:only-of-type {\n",
              "        vertical-align: middle;\n",
              "    }\n",
              "\n",
              "    .dataframe tbody tr th {\n",
              "        vertical-align: top;\n",
              "    }\n",
              "\n",
              "    .dataframe thead th {\n",
              "        text-align: right;\n",
              "    }\n",
              "</style>\n",
              "<table border=\"1\" class=\"dataframe\">\n",
              "  <thead>\n",
              "    <tr style=\"text-align: right;\">\n",
              "      <th></th>\n",
              "      <th>A</th>\n",
              "      <th>B</th>\n",
              "      <th>C</th>\n",
              "    </tr>\n",
              "  </thead>\n",
              "  <tbody>\n",
              "    <tr>\n",
              "      <th>0</th>\n",
              "      <td>1.0</td>\n",
              "      <td>6.0</td>\n",
              "      <td>11.0</td>\n",
              "    </tr>\n",
              "    <tr>\n",
              "      <th>1</th>\n",
              "      <td>2.0</td>\n",
              "      <td>7.0</td>\n",
              "      <td>12.0</td>\n",
              "    </tr>\n",
              "    <tr>\n",
              "      <th>2</th>\n",
              "      <td>3.0</td>\n",
              "      <td>8.0</td>\n",
              "      <td>13.0</td>\n",
              "    </tr>\n",
              "    <tr>\n",
              "      <th>3</th>\n",
              "      <td>4.0</td>\n",
              "      <td>12/25</td>\n",
              "      <td>missing</td>\n",
              "    </tr>\n",
              "    <tr>\n",
              "      <th>4</th>\n",
              "      <td>5.0</td>\n",
              "      <td>10.0</td>\n",
              "      <td>missing</td>\n",
              "    </tr>\n",
              "  </tbody>\n",
              "</table>\n",
              "</div>"
            ],
            "text/plain": [
              "     A      B        C\n",
              "0  1.0    6.0     11.0\n",
              "1  2.0    7.0     12.0\n",
              "2  3.0    8.0     13.0\n",
              "3  4.0  12/25  missing\n",
              "4  5.0   10.0  missing"
            ]
          },
          "execution_count": 11,
          "metadata": {},
          "output_type": "execute_result"
        }
      ],
      "source": [
        "#[코드 8-10] 각 열을 서로 다른 값으로 대체\n",
        "fill_dict = {'A': df['A'].mean(), 'B': '12/25', 'C': 'missing'}\n",
        "df_filled = df.fillna(value=fill_dict)\n",
        "df_filled"
      ]
    },
    {
      "cell_type": "markdown",
      "metadata": {
        "id": "eF3HrAdE1EIU"
      },
      "source": [
        "## **2. 이상치**"
      ]
    },
    {
      "cell_type": "markdown",
      "metadata": {
        "id": "rtiYy_-w1JH_"
      },
      "source": [
        "## **3. 표준화와 정규화**"
      ]
    },
    {
      "cell_type": "markdown",
      "metadata": {
        "id": "qoin3ELbzOfu"
      },
      "source": [
        "#II. 데이터 전처리 활용"
      ]
    },
    {
      "cell_type": "markdown",
      "metadata": {
        "id": "a8UL1ExEPtHk"
      },
      "source": [
        "### **1. 지하수 데이터 수집**"
      ]
    },
    {
      "cell_type": "code",
      "execution_count": 12,
      "metadata": {
        "id": "4hcS3ty-QrSn"
      },
      "outputs": [],
      "source": [
        "#코드 8-11.라이브러리\n",
        "import os\n",
        "import pandas as pd\n",
        "import numpy as np\n",
        "import matplotlib.pyplot as plt\n",
        "import warnings\n",
        "from datetime import datetime, date, time\n",
        "\n",
        "warnings.filterwarnings('ignore')"
      ]
    },
    {
      "cell_type": "code",
      "execution_count": 13,
      "metadata": {
        "id": "IvLCAHW2QLva"
      },
      "outputs": [
        {
          "data": {
            "text/plain": [
              "['대전태평(암반)_2009_hr.xlsx',\n",
              " '대전태평(암반)_2010_hr.xlsx',\n",
              " '대전태평(암반)_2011_hr.xlsx',\n",
              " '대전태평(암반)_2012_hr.xlsx',\n",
              " '대전태평(암반)_2013_hr.xlsx',\n",
              " '대전태평(암반)_2014_hr.xlsx',\n",
              " '대전태평(암반)_2015_hr.xlsx',\n",
              " '대전태평(암반)_2016_hr.xlsx']"
            ]
          },
          "execution_count": 13,
          "metadata": {},
          "output_type": "execute_result"
        }
      ],
      "source": [
        "#코드 8-12.파일명확인\n",
        "path = './대전태평(암반)/'\n",
        "file_list = os.listdir(path)\n",
        "file_list_py = [file for file in file_list if file.endswith('.xlsx')]\n",
        "file_list_py "
      ]
    },
    {
      "cell_type": "code",
      "execution_count": 14,
      "metadata": {
        "id": "gSae3NkUQtik"
      },
      "outputs": [
        {
          "data": {
            "text/html": [
              "<div>\n",
              "<style scoped>\n",
              "    .dataframe tbody tr th:only-of-type {\n",
              "        vertical-align: middle;\n",
              "    }\n",
              "\n",
              "    .dataframe tbody tr th {\n",
              "        vertical-align: top;\n",
              "    }\n",
              "\n",
              "    .dataframe thead th {\n",
              "        text-align: right;\n",
              "    }\n",
              "</style>\n",
              "<table border=\"1\" class=\"dataframe\">\n",
              "  <thead>\n",
              "    <tr style=\"text-align: right;\">\n",
              "      <th></th>\n",
              "      <th>관측소</th>\n",
              "      <th>구분</th>\n",
              "      <th>날짜</th>\n",
              "      <th>시간</th>\n",
              "      <th>수온(℃)</th>\n",
              "      <th>수위(el.m)</th>\n",
              "      <th>EC(㎲/㎝)</th>\n",
              "    </tr>\n",
              "  </thead>\n",
              "  <tbody>\n",
              "    <tr>\n",
              "      <th>0</th>\n",
              "      <td>대전태평</td>\n",
              "      <td>(암반)</td>\n",
              "      <td>20090101</td>\n",
              "      <td>0</td>\n",
              "      <td>16.1</td>\n",
              "      <td>44.47</td>\n",
              "      <td>749</td>\n",
              "    </tr>\n",
              "    <tr>\n",
              "      <th>1</th>\n",
              "      <td>대전태평</td>\n",
              "      <td>(암반)</td>\n",
              "      <td>20090101</td>\n",
              "      <td>1</td>\n",
              "      <td>16.1</td>\n",
              "      <td>44.47</td>\n",
              "      <td>749</td>\n",
              "    </tr>\n",
              "    <tr>\n",
              "      <th>2</th>\n",
              "      <td>대전태평</td>\n",
              "      <td>(암반)</td>\n",
              "      <td>20090101</td>\n",
              "      <td>2</td>\n",
              "      <td>16.1</td>\n",
              "      <td>44.47</td>\n",
              "      <td>749</td>\n",
              "    </tr>\n",
              "    <tr>\n",
              "      <th>3</th>\n",
              "      <td>대전태평</td>\n",
              "      <td>(암반)</td>\n",
              "      <td>20090101</td>\n",
              "      <td>3</td>\n",
              "      <td>16.1</td>\n",
              "      <td>44.47</td>\n",
              "      <td>749</td>\n",
              "    </tr>\n",
              "    <tr>\n",
              "      <th>4</th>\n",
              "      <td>대전태평</td>\n",
              "      <td>(암반)</td>\n",
              "      <td>20090101</td>\n",
              "      <td>4</td>\n",
              "      <td>16.1</td>\n",
              "      <td>44.47</td>\n",
              "      <td>749</td>\n",
              "    </tr>\n",
              "    <tr>\n",
              "      <th>...</th>\n",
              "      <td>...</td>\n",
              "      <td>...</td>\n",
              "      <td>...</td>\n",
              "      <td>...</td>\n",
              "      <td>...</td>\n",
              "      <td>...</td>\n",
              "      <td>...</td>\n",
              "    </tr>\n",
              "    <tr>\n",
              "      <th>8761</th>\n",
              "      <td>대전태평</td>\n",
              "      <td>(암반)</td>\n",
              "      <td>20161231</td>\n",
              "      <td>19</td>\n",
              "      <td>16.2</td>\n",
              "      <td>44.49</td>\n",
              "      <td>725</td>\n",
              "    </tr>\n",
              "    <tr>\n",
              "      <th>8762</th>\n",
              "      <td>대전태평</td>\n",
              "      <td>(암반)</td>\n",
              "      <td>20161231</td>\n",
              "      <td>20</td>\n",
              "      <td>16.2</td>\n",
              "      <td>44.49</td>\n",
              "      <td>725</td>\n",
              "    </tr>\n",
              "    <tr>\n",
              "      <th>8763</th>\n",
              "      <td>대전태평</td>\n",
              "      <td>(암반)</td>\n",
              "      <td>20161231</td>\n",
              "      <td>21</td>\n",
              "      <td>16.2</td>\n",
              "      <td>44.49</td>\n",
              "      <td>725</td>\n",
              "    </tr>\n",
              "    <tr>\n",
              "      <th>8764</th>\n",
              "      <td>대전태평</td>\n",
              "      <td>(암반)</td>\n",
              "      <td>20161231</td>\n",
              "      <td>22</td>\n",
              "      <td>16.2</td>\n",
              "      <td>44.49</td>\n",
              "      <td>725</td>\n",
              "    </tr>\n",
              "    <tr>\n",
              "      <th>8765</th>\n",
              "      <td>대전태평</td>\n",
              "      <td>(암반)</td>\n",
              "      <td>20161231</td>\n",
              "      <td>23</td>\n",
              "      <td>16.2</td>\n",
              "      <td>44.49</td>\n",
              "      <td>725</td>\n",
              "    </tr>\n",
              "  </tbody>\n",
              "</table>\n",
              "<p>69548 rows × 7 columns</p>\n",
              "</div>"
            ],
            "text/plain": [
              "       관측소    구분        날짜  시간  수온(℃)  수위(el.m)  EC(㎲/㎝)\n",
              "0     대전태평  (암반)  20090101   0   16.1     44.47      749\n",
              "1     대전태평  (암반)  20090101   1   16.1     44.47      749\n",
              "2     대전태평  (암반)  20090101   2   16.1     44.47      749\n",
              "3     대전태평  (암반)  20090101   3   16.1     44.47      749\n",
              "4     대전태평  (암반)  20090101   4   16.1     44.47      749\n",
              "...    ...   ...       ...  ..    ...       ...      ...\n",
              "8761  대전태평  (암반)  20161231  19   16.2     44.49      725\n",
              "8762  대전태평  (암반)  20161231  20   16.2     44.49      725\n",
              "8763  대전태평  (암반)  20161231  21   16.2     44.49      725\n",
              "8764  대전태평  (암반)  20161231  22   16.2     44.49      725\n",
              "8765  대전태평  (암반)  20161231  23   16.2     44.49      725\n",
              "\n",
              "[69548 rows x 7 columns]"
            ]
          },
          "execution_count": 14,
          "metadata": {},
          "output_type": "execute_result"
        }
      ],
      "source": [
        "#코드 8-13.데이터프레임 하나로 병함\n",
        "df = pd.DataFrame()\n",
        "for i in file_list_py:\n",
        "  data = pd.read_excel(path + i)\n",
        "  df = pd.concat([df, data])\n",
        "df"
      ]
    },
    {
      "cell_type": "code",
      "execution_count": 15,
      "metadata": {
        "id": "16aGFuDqRuug"
      },
      "outputs": [
        {
          "data": {
            "text/html": [
              "<div>\n",
              "<style scoped>\n",
              "    .dataframe tbody tr th:only-of-type {\n",
              "        vertical-align: middle;\n",
              "    }\n",
              "\n",
              "    .dataframe tbody tr th {\n",
              "        vertical-align: top;\n",
              "    }\n",
              "\n",
              "    .dataframe thead th {\n",
              "        text-align: right;\n",
              "    }\n",
              "</style>\n",
              "<table border=\"1\" class=\"dataframe\">\n",
              "  <thead>\n",
              "    <tr style=\"text-align: right;\">\n",
              "      <th></th>\n",
              "      <th>관측소</th>\n",
              "      <th>구분</th>\n",
              "      <th>날짜</th>\n",
              "      <th>시간</th>\n",
              "      <th>수온(℃)</th>\n",
              "      <th>수위(el.m)</th>\n",
              "      <th>EC(㎲/㎝)</th>\n",
              "    </tr>\n",
              "  </thead>\n",
              "  <tbody>\n",
              "    <tr>\n",
              "      <th>0</th>\n",
              "      <td>대전태평</td>\n",
              "      <td>(암반)</td>\n",
              "      <td>20090101</td>\n",
              "      <td>0</td>\n",
              "      <td>16.1</td>\n",
              "      <td>44.47</td>\n",
              "      <td>749</td>\n",
              "    </tr>\n",
              "    <tr>\n",
              "      <th>1</th>\n",
              "      <td>대전태평</td>\n",
              "      <td>(암반)</td>\n",
              "      <td>20090101</td>\n",
              "      <td>1</td>\n",
              "      <td>16.1</td>\n",
              "      <td>44.47</td>\n",
              "      <td>749</td>\n",
              "    </tr>\n",
              "    <tr>\n",
              "      <th>2</th>\n",
              "      <td>대전태평</td>\n",
              "      <td>(암반)</td>\n",
              "      <td>20090101</td>\n",
              "      <td>2</td>\n",
              "      <td>16.1</td>\n",
              "      <td>44.47</td>\n",
              "      <td>749</td>\n",
              "    </tr>\n",
              "    <tr>\n",
              "      <th>3</th>\n",
              "      <td>대전태평</td>\n",
              "      <td>(암반)</td>\n",
              "      <td>20090101</td>\n",
              "      <td>3</td>\n",
              "      <td>16.1</td>\n",
              "      <td>44.47</td>\n",
              "      <td>749</td>\n",
              "    </tr>\n",
              "    <tr>\n",
              "      <th>4</th>\n",
              "      <td>대전태평</td>\n",
              "      <td>(암반)</td>\n",
              "      <td>20090101</td>\n",
              "      <td>4</td>\n",
              "      <td>16.1</td>\n",
              "      <td>44.47</td>\n",
              "      <td>749</td>\n",
              "    </tr>\n",
              "    <tr>\n",
              "      <th>...</th>\n",
              "      <td>...</td>\n",
              "      <td>...</td>\n",
              "      <td>...</td>\n",
              "      <td>...</td>\n",
              "      <td>...</td>\n",
              "      <td>...</td>\n",
              "      <td>...</td>\n",
              "    </tr>\n",
              "    <tr>\n",
              "      <th>69543</th>\n",
              "      <td>대전태평</td>\n",
              "      <td>(암반)</td>\n",
              "      <td>20161231</td>\n",
              "      <td>19</td>\n",
              "      <td>16.2</td>\n",
              "      <td>44.49</td>\n",
              "      <td>725</td>\n",
              "    </tr>\n",
              "    <tr>\n",
              "      <th>69544</th>\n",
              "      <td>대전태평</td>\n",
              "      <td>(암반)</td>\n",
              "      <td>20161231</td>\n",
              "      <td>20</td>\n",
              "      <td>16.2</td>\n",
              "      <td>44.49</td>\n",
              "      <td>725</td>\n",
              "    </tr>\n",
              "    <tr>\n",
              "      <th>69545</th>\n",
              "      <td>대전태평</td>\n",
              "      <td>(암반)</td>\n",
              "      <td>20161231</td>\n",
              "      <td>21</td>\n",
              "      <td>16.2</td>\n",
              "      <td>44.49</td>\n",
              "      <td>725</td>\n",
              "    </tr>\n",
              "    <tr>\n",
              "      <th>69546</th>\n",
              "      <td>대전태평</td>\n",
              "      <td>(암반)</td>\n",
              "      <td>20161231</td>\n",
              "      <td>22</td>\n",
              "      <td>16.2</td>\n",
              "      <td>44.49</td>\n",
              "      <td>725</td>\n",
              "    </tr>\n",
              "    <tr>\n",
              "      <th>69547</th>\n",
              "      <td>대전태평</td>\n",
              "      <td>(암반)</td>\n",
              "      <td>20161231</td>\n",
              "      <td>23</td>\n",
              "      <td>16.2</td>\n",
              "      <td>44.49</td>\n",
              "      <td>725</td>\n",
              "    </tr>\n",
              "  </tbody>\n",
              "</table>\n",
              "<p>69548 rows × 7 columns</p>\n",
              "</div>"
            ],
            "text/plain": [
              "        관측소    구분        날짜  시간  수온(℃)  수위(el.m)  EC(㎲/㎝)\n",
              "0      대전태평  (암반)  20090101   0   16.1     44.47      749\n",
              "1      대전태평  (암반)  20090101   1   16.1     44.47      749\n",
              "2      대전태평  (암반)  20090101   2   16.1     44.47      749\n",
              "3      대전태평  (암반)  20090101   3   16.1     44.47      749\n",
              "4      대전태평  (암반)  20090101   4   16.1     44.47      749\n",
              "...     ...   ...       ...  ..    ...       ...      ...\n",
              "69543  대전태평  (암반)  20161231  19   16.2     44.49      725\n",
              "69544  대전태평  (암반)  20161231  20   16.2     44.49      725\n",
              "69545  대전태평  (암반)  20161231  21   16.2     44.49      725\n",
              "69546  대전태평  (암반)  20161231  22   16.2     44.49      725\n",
              "69547  대전태평  (암반)  20161231  23   16.2     44.49      725\n",
              "\n",
              "[69548 rows x 7 columns]"
            ]
          },
          "execution_count": 15,
          "metadata": {},
          "output_type": "execute_result"
        }
      ],
      "source": [
        "#코드 8-14.행 인덱스 재설정\n",
        "df = df.reset_index(drop=True)\n",
        "df"
      ]
    },
    {
      "cell_type": "code",
      "execution_count": 16,
      "metadata": {
        "id": "FBcpe_CVR46H"
      },
      "outputs": [
        {
          "name": "stdout",
          "output_type": "stream",
          "text": [
            "<class 'pandas.core.frame.DataFrame'>\n",
            "RangeIndex: 69548 entries, 0 to 69547\n",
            "Data columns (total 7 columns):\n",
            " #   Column    Non-Null Count  Dtype  \n",
            "---  ------    --------------  -----  \n",
            " 0   관측소       69548 non-null  object \n",
            " 1   구분        69548 non-null  object \n",
            " 2   날짜        69548 non-null  int64  \n",
            " 3   시간        69548 non-null  int64  \n",
            " 4   수온(℃)     69548 non-null  float64\n",
            " 5   수위(el.m)  69548 non-null  float64\n",
            " 6   EC(㎲/㎝)   69548 non-null  int64  \n",
            "dtypes: float64(2), int64(3), object(2)\n",
            "memory usage: 3.7+ MB\n"
          ]
        }
      ],
      "source": [
        "#코드 8-15.데이터프레임 정보 확인\n",
        "df.info()"
      ]
    },
    {
      "cell_type": "code",
      "execution_count": null,
      "metadata": {
        "id": "pyjONTAuTAlX"
      },
      "outputs": [
        {
          "data": {
            "text/html": [
              "<div>\n",
              "<style scoped>\n",
              "    .dataframe tbody tr th:only-of-type {\n",
              "        vertical-align: middle;\n",
              "    }\n",
              "\n",
              "    .dataframe tbody tr th {\n",
              "        vertical-align: top;\n",
              "    }\n",
              "\n",
              "    .dataframe thead th {\n",
              "        text-align: right;\n",
              "    }\n",
              "</style>\n",
              "<table border=\"1\" class=\"dataframe\">\n",
              "  <thead>\n",
              "    <tr style=\"text-align: right;\">\n",
              "      <th></th>\n",
              "      <th>관측소</th>\n",
              "      <th>구분</th>\n",
              "      <th>날짜</th>\n",
              "      <th>시간</th>\n",
              "      <th>수온(℃)</th>\n",
              "      <th>수위(el.m)</th>\n",
              "      <th>EC(㎲/㎝)</th>\n",
              "      <th>Date</th>\n",
              "    </tr>\n",
              "    <tr>\n",
              "      <th>Date</th>\n",
              "      <th></th>\n",
              "      <th></th>\n",
              "      <th></th>\n",
              "      <th></th>\n",
              "      <th></th>\n",
              "      <th></th>\n",
              "      <th></th>\n",
              "      <th></th>\n",
              "    </tr>\n",
              "  </thead>\n",
              "  <tbody>\n",
              "    <tr>\n",
              "      <th>2009-01-01 00:00:00</th>\n",
              "      <td>대전태평</td>\n",
              "      <td>(암반)</td>\n",
              "      <td>20090101</td>\n",
              "      <td>0</td>\n",
              "      <td>16.1</td>\n",
              "      <td>44.47</td>\n",
              "      <td>749</td>\n",
              "      <td>2009-01-01 00:00:00</td>\n",
              "    </tr>\n",
              "    <tr>\n",
              "      <th>2009-01-01 01:00:00</th>\n",
              "      <td>대전태평</td>\n",
              "      <td>(암반)</td>\n",
              "      <td>20090101</td>\n",
              "      <td>1</td>\n",
              "      <td>16.1</td>\n",
              "      <td>44.47</td>\n",
              "      <td>749</td>\n",
              "      <td>2009-01-01 01:00:00</td>\n",
              "    </tr>\n",
              "    <tr>\n",
              "      <th>2009-01-01 02:00:00</th>\n",
              "      <td>대전태평</td>\n",
              "      <td>(암반)</td>\n",
              "      <td>20090101</td>\n",
              "      <td>2</td>\n",
              "      <td>16.1</td>\n",
              "      <td>44.47</td>\n",
              "      <td>749</td>\n",
              "      <td>2009-01-01 02:00:00</td>\n",
              "    </tr>\n",
              "  </tbody>\n",
              "</table>\n",
              "</div>"
            ],
            "text/plain": [
              "                      관측소    구분        날짜  시간  수온(℃)  수위(el.m)  EC(㎲/㎝)  \\\n",
              "Date                                                                      \n",
              "2009-01-01 00:00:00  대전태평  (암반)  20090101   0   16.1     44.47      749   \n",
              "2009-01-01 01:00:00  대전태평  (암반)  20090101   1   16.1     44.47      749   \n",
              "2009-01-01 02:00:00  대전태평  (암반)  20090101   2   16.1     44.47      749   \n",
              "\n",
              "                                   Date  \n",
              "Date                                     \n",
              "2009-01-01 00:00:00 2009-01-01 00:00:00  \n",
              "2009-01-01 01:00:00 2009-01-01 01:00:00  \n",
              "2009-01-01 02:00:00 2009-01-01 02:00:00  "
            ]
          },
          "execution_count": 17,
          "metadata": {},
          "output_type": "execute_result"
        }
      ],
      "source": [
        "#코드 8-16.인덱스지정 (Date를 인덱스로 지정)\n",
        "df['Date'] = pd.to_datetime(df['날짜'],format='%Y%m%d') +\\\n",
        "             pd.to_timedelta(df['시간'].astype(int),unit='h')\n",
        "\n",
        "df.set_index(df['Date'], inplace=True)\n",
        "df.head(3)"
      ]
    },
    {
      "cell_type": "code",
      "execution_count": 18,
      "metadata": {
        "id": "Vq_ZpE36TAgH"
      },
      "outputs": [
        {
          "data": {
            "text/html": [
              "<div>\n",
              "<style scoped>\n",
              "    .dataframe tbody tr th:only-of-type {\n",
              "        vertical-align: middle;\n",
              "    }\n",
              "\n",
              "    .dataframe tbody tr th {\n",
              "        vertical-align: top;\n",
              "    }\n",
              "\n",
              "    .dataframe thead th {\n",
              "        text-align: right;\n",
              "    }\n",
              "</style>\n",
              "<table border=\"1\" class=\"dataframe\">\n",
              "  <thead>\n",
              "    <tr style=\"text-align: right;\">\n",
              "      <th></th>\n",
              "      <th>temp</th>\n",
              "      <th>level</th>\n",
              "      <th>EC</th>\n",
              "    </tr>\n",
              "    <tr>\n",
              "      <th>Date</th>\n",
              "      <th></th>\n",
              "      <th></th>\n",
              "      <th></th>\n",
              "    </tr>\n",
              "  </thead>\n",
              "  <tbody>\n",
              "    <tr>\n",
              "      <th>2009-01-01 00:00:00</th>\n",
              "      <td>16.1</td>\n",
              "      <td>44.47</td>\n",
              "      <td>749</td>\n",
              "    </tr>\n",
              "    <tr>\n",
              "      <th>2009-01-01 01:00:00</th>\n",
              "      <td>16.1</td>\n",
              "      <td>44.47</td>\n",
              "      <td>749</td>\n",
              "    </tr>\n",
              "    <tr>\n",
              "      <th>2009-01-01 02:00:00</th>\n",
              "      <td>16.1</td>\n",
              "      <td>44.47</td>\n",
              "      <td>749</td>\n",
              "    </tr>\n",
              "  </tbody>\n",
              "</table>\n",
              "</div>"
            ],
            "text/plain": [
              "                     temp  level   EC\n",
              "Date                                 \n",
              "2009-01-01 00:00:00  16.1  44.47  749\n",
              "2009-01-01 01:00:00  16.1  44.47  749\n",
              "2009-01-01 02:00:00  16.1  44.47  749"
            ]
          },
          "execution_count": 18,
          "metadata": {},
          "output_type": "execute_result"
        }
      ],
      "source": [
        "#코드 8-17.분석할 속성만 조회하여 저장\n",
        "df1 = df[['수온(℃)', '수위(el.m)','EC(㎲/㎝)']]\n",
        "df1.columns = ['temp', 'level', 'EC']\n",
        "df1.head(3)"
      ]
    },
    {
      "cell_type": "code",
      "execution_count": 19,
      "metadata": {
        "id": "Xtl7GaQuwmJP"
      },
      "outputs": [
        {
          "data": {
            "text/plain": [
              "temp     0\n",
              "level    0\n",
              "EC       0\n",
              "dtype: int64"
            ]
          },
          "execution_count": 19,
          "metadata": {},
          "output_type": "execute_result"
        }
      ],
      "source": [
        "#코드 8-18.결측치 수 확인\n",
        "df1.isnull().sum()"
      ]
    },
    {
      "cell_type": "code",
      "execution_count": 20,
      "metadata": {
        "id": "cfH6gVFrmoBM"
      },
      "outputs": [],
      "source": [
        "#코드 8-19.CSV파일 저장\n",
        "df1.to_csv('./대전지하수.csv', encoding='cp949')"
      ]
    },
    {
      "cell_type": "markdown",
      "metadata": {
        "id": "fS4qUGqu2vuE"
      },
      "source": [
        "### **2. 이상치 확인 및 제거**"
      ]
    },
    {
      "cell_type": "code",
      "execution_count": null,
      "metadata": {
        "id": "yiaAR6r6mvKM"
      },
      "outputs": [
        {
          "data": {
            "text/html": [
              "<div>\n",
              "<style scoped>\n",
              "    .dataframe tbody tr th:only-of-type {\n",
              "        vertical-align: middle;\n",
              "    }\n",
              "\n",
              "    .dataframe tbody tr th {\n",
              "        vertical-align: top;\n",
              "    }\n",
              "\n",
              "    .dataframe thead th {\n",
              "        text-align: right;\n",
              "    }\n",
              "</style>\n",
              "<table border=\"1\" class=\"dataframe\">\n",
              "  <thead>\n",
              "    <tr style=\"text-align: right;\">\n",
              "      <th></th>\n",
              "      <th>temp</th>\n",
              "      <th>level</th>\n",
              "      <th>EC</th>\n",
              "    </tr>\n",
              "  </thead>\n",
              "  <tbody>\n",
              "    <tr>\n",
              "      <th>count</th>\n",
              "      <td>69548.000000</td>\n",
              "      <td>69548.000000</td>\n",
              "      <td>69548.000000</td>\n",
              "    </tr>\n",
              "    <tr>\n",
              "      <th>mean</th>\n",
              "      <td>16.262491</td>\n",
              "      <td>44.295353</td>\n",
              "      <td>727.024027</td>\n",
              "    </tr>\n",
              "    <tr>\n",
              "      <th>std</th>\n",
              "      <td>0.089778</td>\n",
              "      <td>2.539464</td>\n",
              "      <td>51.544590</td>\n",
              "    </tr>\n",
              "    <tr>\n",
              "      <th>min</th>\n",
              "      <td>15.800000</td>\n",
              "      <td>11.530000</td>\n",
              "      <td>13.000000</td>\n",
              "    </tr>\n",
              "    <tr>\n",
              "      <th>25%</th>\n",
              "      <td>16.200000</td>\n",
              "      <td>44.370000</td>\n",
              "      <td>722.000000</td>\n",
              "    </tr>\n",
              "    <tr>\n",
              "      <th>50%</th>\n",
              "      <td>16.300000</td>\n",
              "      <td>44.460000</td>\n",
              "      <td>730.000000</td>\n",
              "    </tr>\n",
              "    <tr>\n",
              "      <th>75%</th>\n",
              "      <td>16.300000</td>\n",
              "      <td>44.550000</td>\n",
              "      <td>742.000000</td>\n",
              "    </tr>\n",
              "    <tr>\n",
              "      <th>max</th>\n",
              "      <td>16.500000</td>\n",
              "      <td>45.900000</td>\n",
              "      <td>778.000000</td>\n",
              "    </tr>\n",
              "  </tbody>\n",
              "</table>\n",
              "</div>"
            ],
            "text/plain": [
              "               temp         level            EC\n",
              "count  69548.000000  69548.000000  69548.000000\n",
              "mean      16.262491     44.295353    727.024027\n",
              "std        0.089778      2.539464     51.544590\n",
              "min       15.800000     11.530000     13.000000\n",
              "25%       16.200000     44.370000    722.000000\n",
              "50%       16.300000     44.460000    730.000000\n",
              "75%       16.300000     44.550000    742.000000\n",
              "max       16.500000     45.900000    778.000000"
            ]
          },
          "execution_count": 21,
          "metadata": {},
          "output_type": "execute_result"
        }
      ],
      "source": [
        "#코드 8-20.통계량으로 이상치 확인 (min 값이 13인게 이상치)\n",
        "df = pd.read_csv('./대전지하수.csv', index_col='Date', parse_dates=True, encoding='cp949')\n",
        "df.describe()"
      ]
    },
    {
      "cell_type": "code",
      "execution_count": 22,
      "metadata": {
        "id": "iMigMyL8jor_"
      },
      "outputs": [
        {
          "data": {
            "image/png": "[encoded data removed]",
            "text/plain": [
              "<Figure size 1000x600 with 4 Axes>"
            ]
          },
          "metadata": {},
          "output_type": "display_data"
        }
      ],
      "source": [
        "#코드 8-21.히스토그램\n",
        "df.hist(bins=50, figsize=(10,6))\n",
        "plt.show()"
      ]
    },
    {
      "cell_type": "code",
      "execution_count": 23,
      "metadata": {
        "id": "nLxCOpqOjoy_"
      },
      "outputs": [
        {
          "data": {
            "text/plain": [
              "<Axes: >"
            ]
          },
          "execution_count": 23,
          "metadata": {},
          "output_type": "execute_result"
        },
        {
          "data": {
            "image/png": "[encoded data removed]",
            "text/plain": [
              "<Figure size 640x480 with 1 Axes>"
            ]
          },
          "metadata": {},
          "output_type": "display_data"
        }
      ],
      "source": [
        "#코드 8-22.상자 그래프로 이상치 확인\n",
        "df.boxplot()"
      ]
    },
    {
      "cell_type": "code",
      "execution_count": 24,
      "metadata": {
        "id": "M6SiJmKL6U71"
      },
      "outputs": [
        {
          "data": {
            "image/png": "[encoded data removed]",
            "text/plain": [
              "<Figure size 640x480 with 3 Axes>"
            ]
          },
          "metadata": {},
          "output_type": "display_data"
        }
      ],
      "source": [
        "#코드 8-23.다중 상자 그래프로 이상치 확인\n",
        "plt.subplot(1, 3, 1)\n",
        "df.boxplot(column='temp', return_type='both')\n",
        "plt.subplot(1, 3, 2)\n",
        "df.boxplot(column='level', return_type='both')\n",
        "plt.subplot(1, 3, 3)\n",
        "df.boxplot(column='EC', return_type='both')\n",
        "plt.show()"
      ]
    },
    {
      "cell_type": "code",
      "execution_count": 25,
      "metadata": {
        "id": "4tByDhRk79FF"
      },
      "outputs": [
        {
          "data": {
            "image/png": "[encoded data removed]",
            "text/plain": [
              "<Figure size 640x480 with 3 Axes>"
            ]
          },
          "metadata": {},
          "output_type": "display_data"
        }
      ],
      "source": [
        "#코드 8-24.다중 시계열 그래프\n",
        "plt.subplot(3, 1, 1)\n",
        "df['temp'].plot()\n",
        "plt.subplot(3, 1, 2)\n",
        "df['level'].plot()\n",
        "plt.subplot(3, 1, 3)\n",
        "df['EC'].plot()\n",
        "plt.show()"
      ]
    },
    {
      "cell_type": "code",
      "execution_count": 26,
      "metadata": {
        "id": "Rh_yng9D9oEL"
      },
      "outputs": [
        {
          "name": "stdout",
          "output_type": "stream",
          "text": [
            "0.17999999999999972\n"
          ]
        }
      ],
      "source": [
        "#코드 8-25.지하수위 IQR\n",
        "q3_level = df['level'].quantile(q=0.75)\n",
        "q1_level = df['level'].quantile(q=0.25)\n",
        "iqr_level = q3_level - q1_level\n",
        "print(iqr_level)"
      ]
    },
    {
      "cell_type": "code",
      "execution_count": 27,
      "metadata": {
        "id": "Wgeve72Z_qB2"
      },
      "outputs": [
        {
          "name": "stdout",
          "output_type": "stream",
          "text": [
            "44.81999999999999 / 44.099999999999994\n",
            "4492\n",
            "1273\n"
          ]
        }
      ],
      "source": [
        "#코드 8-26.지하수위 상하한값과 이상치 개수\n",
        "upper_level = q3_level + 1.5 * iqr_level\n",
        "lower_level = q1_level - 1.5 * iqr_level\n",
        "print(upper_level, '/', lower_level)\n",
        "print((df['level'] > upper_level).sum())\n",
        "print((df['level'] < lower_level).sum())"
      ]
    },
    {
      "cell_type": "code",
      "execution_count": null,
      "metadata": {
        "id": "lk42ZZcYP4Fy"
      },
      "outputs": [
        {
          "data": {
            "text/plain": [
              "<Axes: xlabel='Date'>"
            ]
          },
          "execution_count": 28,
          "metadata": {},
          "output_type": "execute_result"
        },
        {
          "data": {
            "image/png": "[encoded data removed]",
            "text/plain": [
              "<Figure size 640x480 with 1 Axes>"
            ]
          },
          "metadata": {},
          "output_type": "display_data"
        }
      ],
      "source": [
        "#코드 8-27.이상치를 제거한 지하수위 => 스케일링 작업 후\n",
        "df_iqr_level = df[(df['level'] < upper_level) & (df['level'] > lower_level)]\n",
        "df_iqr_level['level'].plot()"
      ]
    },
    {
      "cell_type": "code",
      "execution_count": 29,
      "metadata": {
        "id": "PghFCMh3kOzd"
      },
      "outputs": [
        {
          "name": "stdout",
          "output_type": "stream",
          "text": [
            "IQR: 0.10000000000000142\n",
            "16.450000000000003 / 16.049999999999997\n",
            "227\n",
            "15\n"
          ]
        }
      ],
      "source": [
        "#코드 8-28.지하수온 IQR과 이상치 개수\n",
        "#사분위수와 IQR 구하기\n",
        "q3_temp = df['temp'].quantile(q=0.75)\n",
        "q1_temp = df['temp'].quantile(q=0.25)\n",
        "iqr_temp = q3_temp-q1_temp\n",
        "print('IQR:', iqr_temp)\n",
        "#지하수온 상한값, 하한값, 이상치 개수 구하기\n",
        "upper_temp = q3_temp + iqr_temp * 1.5\n",
        "lower_temp = q1_temp - iqr_temp * 1.5\n",
        "print(upper_temp, '/', lower_temp)\n",
        "print((df['temp'] > upper_temp).sum())\n",
        "print((df['temp'] < lower_temp).sum())"
      ]
    },
    {
      "cell_type": "code",
      "execution_count": 31,
      "metadata": {
        "id": "-yQYL3cpkSyM"
      },
      "outputs": [
        {
          "name": "stdout",
          "output_type": "stream",
          "text": [
            "IQR: 20.0\n",
            "772.0 / 692.0\n",
            "831\n",
            "788\n"
          ]
        }
      ],
      "source": [
        "#코드 8-29.전기전도도 IQR과 이상치 개수\n",
        "#사분위수와 IQR 구하기\n",
        "q3_ec = df['EC'].quantile(q=0.75)##채우기\n",
        "q1_ec = df['EC'].quantile(q=0.25)##채우기\n",
        "iqr_ec = q3_ec - q1_ec##채우기\n",
        "print('IQR:', iqr_ec)\n",
        "#지하수온 상한값, 하한값, 이상치 개수 구하기\n",
        "upper_ec = q3_ec + iqr_ec * 1.5 ##채우기\n",
        "lower_ec = q1_ec - iqr_ec * 1.5 ##채우기\n",
        "print(upper_ec, '/', lower_ec)\n",
        "print((df['EC'] > upper_ec).sum())\n",
        "print((df['EC'] < lower_ec).sum())"
      ]
    },
    {
      "cell_type": "code",
      "execution_count": 32,
      "metadata": {
        "id": "gQ60LA4YkWy_"
      },
      "outputs": [],
      "source": [
        "#코드 8-30. 이상치를 한꺼번에 제거\n",
        "df_iqr = df[(df['temp'] < upper_temp) & (df['temp'] > lower_temp) &\\\n",
        "            (df['level'] < upper_level) & (df['level'] > lower_level) &\\\n",
        "             (df['EC'] < upper_ec) & (df['EC'] > lower_ec)]"
      ]
    },
    {
      "cell_type": "code",
      "execution_count": 33,
      "metadata": {
        "id": "vN_zvRnnkYsC"
      },
      "outputs": [
        {
          "data": {
            "text/html": [
              "<div>\n",
              "<style scoped>\n",
              "    .dataframe tbody tr th:only-of-type {\n",
              "        vertical-align: middle;\n",
              "    }\n",
              "\n",
              "    .dataframe tbody tr th {\n",
              "        vertical-align: top;\n",
              "    }\n",
              "\n",
              "    .dataframe thead th {\n",
              "        text-align: right;\n",
              "    }\n",
              "</style>\n",
              "<table border=\"1\" class=\"dataframe\">\n",
              "  <thead>\n",
              "    <tr style=\"text-align: right;\">\n",
              "      <th></th>\n",
              "      <th>temp</th>\n",
              "      <th>level</th>\n",
              "      <th>EC</th>\n",
              "    </tr>\n",
              "  </thead>\n",
              "  <tbody>\n",
              "    <tr>\n",
              "      <th>count</th>\n",
              "      <td>61814.000000</td>\n",
              "      <td>61814.000000</td>\n",
              "      <td>61814.000000</td>\n",
              "    </tr>\n",
              "    <tr>\n",
              "      <th>mean</th>\n",
              "      <td>16.256793</td>\n",
              "      <td>44.459701</td>\n",
              "      <td>731.698612</td>\n",
              "    </tr>\n",
              "    <tr>\n",
              "      <th>std</th>\n",
              "      <td>0.089692</td>\n",
              "      <td>0.128256</td>\n",
              "      <td>13.882905</td>\n",
              "    </tr>\n",
              "    <tr>\n",
              "      <th>min</th>\n",
              "      <td>16.100000</td>\n",
              "      <td>44.100000</td>\n",
              "      <td>693.000000</td>\n",
              "    </tr>\n",
              "    <tr>\n",
              "      <th>25%</th>\n",
              "      <td>16.200000</td>\n",
              "      <td>44.370000</td>\n",
              "      <td>722.000000</td>\n",
              "    </tr>\n",
              "    <tr>\n",
              "      <th>50%</th>\n",
              "      <td>16.300000</td>\n",
              "      <td>44.450000</td>\n",
              "      <td>730.000000</td>\n",
              "    </tr>\n",
              "    <tr>\n",
              "      <th>75%</th>\n",
              "      <td>16.300000</td>\n",
              "      <td>44.520000</td>\n",
              "      <td>742.000000</td>\n",
              "    </tr>\n",
              "    <tr>\n",
              "      <th>max</th>\n",
              "      <td>16.400000</td>\n",
              "      <td>44.810000</td>\n",
              "      <td>771.000000</td>\n",
              "    </tr>\n",
              "  </tbody>\n",
              "</table>\n",
              "</div>"
            ],
            "text/plain": [
              "               temp         level            EC\n",
              "count  61814.000000  61814.000000  61814.000000\n",
              "mean      16.256793     44.459701    731.698612\n",
              "std        0.089692      0.128256     13.882905\n",
              "min       16.100000     44.100000    693.000000\n",
              "25%       16.200000     44.370000    722.000000\n",
              "50%       16.300000     44.450000    730.000000\n",
              "75%       16.300000     44.520000    742.000000\n",
              "max       16.400000     44.810000    771.000000"
            ]
          },
          "execution_count": 33,
          "metadata": {},
          "output_type": "execute_result"
        }
      ],
      "source": [
        "#코드 8-31.이상치 제거 후 통계량\n",
        "df_iqr.describe()"
      ]
    },
    {
      "cell_type": "code",
      "execution_count": 34,
      "metadata": {
        "id": "BVcL5MkYkuFr"
      },
      "outputs": [
        {
          "data": {
            "image/png": "[encoded data removed]",
            "text/plain": [
              "<Figure size 1000x600 with 4 Axes>"
            ]
          },
          "metadata": {},
          "output_type": "display_data"
        }
      ],
      "source": [
        "#코드 8-32.이상치 제거 후 히스토그램\n",
        "df_iqr.hist(bins=50, figsize=(10,6))\n",
        "plt.show()"
      ]
    },
    {
      "cell_type": "code",
      "execution_count": 35,
      "metadata": {
        "id": "8t2fHwJckwR9"
      },
      "outputs": [
        {
          "data": {
            "image/png": "[encoded data removed]",
            "text/plain": [
              "<Figure size 640x480 with 3 Axes>"
            ]
          },
          "metadata": {},
          "output_type": "display_data"
        }
      ],
      "source": [
        "#코드 8-33.이상치 제거 후 상자 그래프\n",
        "plt.subplot(1, 3, 1)\n",
        "df_iqr.boxplot(column='temp', return_type='both')\n",
        "plt.subplot(1, 3, 2)\n",
        "df_iqr.boxplot(column='level', return_type='both')\n",
        "plt.subplot(1, 3, 3)\n",
        "df_iqr.boxplot(column='EC', return_type='both')\n",
        "plt.show()"
      ]
    },
    {
      "cell_type": "code",
      "execution_count": 36,
      "metadata": {
        "id": "WGygVd6XkyGn"
      },
      "outputs": [
        {
          "data": {
            "image/png": "[encoded data removed]",
            "text/plain": [
              "<Figure size 640x480 with 3 Axes>"
            ]
          },
          "metadata": {},
          "output_type": "display_data"
        }
      ],
      "source": [
        "#코드 8-34.이상치 제거 후 추이 그래프\n",
        "plt.subplot(3, 1, 1)\n",
        "df_iqr['temp'].plot()\n",
        "plt.subplot(3, 1, 2)\n",
        "df_iqr['level'].plot()\n",
        "plt.subplot(3, 1, 3)\n",
        "df_iqr['EC'].plot()\n",
        "plt.show()"
      ]
    },
    {
      "cell_type": "code",
      "execution_count": 37,
      "metadata": {
        "id": "FVDeTGO8k1Ep"
      },
      "outputs": [],
      "source": [
        "#코드 8-35.csv파일로 저장\n",
        "df_iqr.to_csv('대전지하수_정제.csv', encoding='cp949')"
      ]
    },
    {
      "cell_type": "markdown",
      "metadata": {
        "id": "IIwu-WjMnX8y"
      },
      "source": [
        "### **3. 표준화와 정규화**"
      ]
    },
    {
      "cell_type": "code",
      "execution_count": 38,
      "metadata": {
        "id": "druRtDZok2Iw"
      },
      "outputs": [
        {
          "data": {
            "text/html": [
              "<div>\n",
              "<style scoped>\n",
              "    .dataframe tbody tr th:only-of-type {\n",
              "        vertical-align: middle;\n",
              "    }\n",
              "\n",
              "    .dataframe tbody tr th {\n",
              "        vertical-align: top;\n",
              "    }\n",
              "\n",
              "    .dataframe thead th {\n",
              "        text-align: right;\n",
              "    }\n",
              "</style>\n",
              "<table border=\"1\" class=\"dataframe\">\n",
              "  <thead>\n",
              "    <tr style=\"text-align: right;\">\n",
              "      <th></th>\n",
              "      <th>Date</th>\n",
              "      <th>temp</th>\n",
              "      <th>level</th>\n",
              "      <th>EC</th>\n",
              "    </tr>\n",
              "  </thead>\n",
              "  <tbody>\n",
              "    <tr>\n",
              "      <th>0</th>\n",
              "      <td>2009-01-01 00:00:00</td>\n",
              "      <td>16.1</td>\n",
              "      <td>44.47</td>\n",
              "      <td>749</td>\n",
              "    </tr>\n",
              "    <tr>\n",
              "      <th>1</th>\n",
              "      <td>2009-01-01 01:00:00</td>\n",
              "      <td>16.1</td>\n",
              "      <td>44.47</td>\n",
              "      <td>749</td>\n",
              "    </tr>\n",
              "    <tr>\n",
              "      <th>2</th>\n",
              "      <td>2009-01-01 02:00:00</td>\n",
              "      <td>16.1</td>\n",
              "      <td>44.47</td>\n",
              "      <td>749</td>\n",
              "    </tr>\n",
              "    <tr>\n",
              "      <th>3</th>\n",
              "      <td>2009-01-01 03:00:00</td>\n",
              "      <td>16.1</td>\n",
              "      <td>44.47</td>\n",
              "      <td>749</td>\n",
              "    </tr>\n",
              "    <tr>\n",
              "      <th>4</th>\n",
              "      <td>2009-01-01 04:00:00</td>\n",
              "      <td>16.1</td>\n",
              "      <td>44.47</td>\n",
              "      <td>749</td>\n",
              "    </tr>\n",
              "  </tbody>\n",
              "</table>\n",
              "</div>"
            ],
            "text/plain": [
              "                  Date  temp  level   EC\n",
              "0  2009-01-01 00:00:00  16.1  44.47  749\n",
              "1  2009-01-01 01:00:00  16.1  44.47  749\n",
              "2  2009-01-01 02:00:00  16.1  44.47  749\n",
              "3  2009-01-01 03:00:00  16.1  44.47  749\n",
              "4  2009-01-01 04:00:00  16.1  44.47  749"
            ]
          },
          "execution_count": 38,
          "metadata": {},
          "output_type": "execute_result"
        }
      ],
      "source": [
        "#코드 8-36.파일 불러오기\n",
        "import pandas as pd\n",
        "import numpy as np\n",
        "import matplotlib.pyplot as plt\n",
        "\n",
        "df = pd.read_csv('./대전지하수_정제.csv')\n",
        "df.head()  "
      ]
    },
    {
      "cell_type": "code",
      "execution_count": 39,
      "metadata": {
        "id": "fMBFhjVKk3P-"
      },
      "outputs": [
        {
          "data": {
            "text/html": [
              "<div>\n",
              "<style scoped>\n",
              "    .dataframe tbody tr th:only-of-type {\n",
              "        vertical-align: middle;\n",
              "    }\n",
              "\n",
              "    .dataframe tbody tr th {\n",
              "        vertical-align: top;\n",
              "    }\n",
              "\n",
              "    .dataframe thead th {\n",
              "        text-align: right;\n",
              "    }\n",
              "</style>\n",
              "<table border=\"1\" class=\"dataframe\">\n",
              "  <thead>\n",
              "    <tr style=\"text-align: right;\">\n",
              "      <th></th>\n",
              "      <th>level</th>\n",
              "      <th>EC</th>\n",
              "    </tr>\n",
              "  </thead>\n",
              "  <tbody>\n",
              "    <tr>\n",
              "      <th>count</th>\n",
              "      <td>61814.000000</td>\n",
              "      <td>61814.000000</td>\n",
              "    </tr>\n",
              "    <tr>\n",
              "      <th>mean</th>\n",
              "      <td>44.459701</td>\n",
              "      <td>731.698612</td>\n",
              "    </tr>\n",
              "    <tr>\n",
              "      <th>std</th>\n",
              "      <td>0.128256</td>\n",
              "      <td>13.882905</td>\n",
              "    </tr>\n",
              "    <tr>\n",
              "      <th>min</th>\n",
              "      <td>44.100000</td>\n",
              "      <td>693.000000</td>\n",
              "    </tr>\n",
              "    <tr>\n",
              "      <th>25%</th>\n",
              "      <td>44.370000</td>\n",
              "      <td>722.000000</td>\n",
              "    </tr>\n",
              "    <tr>\n",
              "      <th>50%</th>\n",
              "      <td>44.450000</td>\n",
              "      <td>730.000000</td>\n",
              "    </tr>\n",
              "    <tr>\n",
              "      <th>75%</th>\n",
              "      <td>44.520000</td>\n",
              "      <td>742.000000</td>\n",
              "    </tr>\n",
              "    <tr>\n",
              "      <th>max</th>\n",
              "      <td>44.810000</td>\n",
              "      <td>771.000000</td>\n",
              "    </tr>\n",
              "  </tbody>\n",
              "</table>\n",
              "</div>"
            ],
            "text/plain": [
              "              level            EC\n",
              "count  61814.000000  61814.000000\n",
              "mean      44.459701    731.698612\n",
              "std        0.128256     13.882905\n",
              "min       44.100000    693.000000\n",
              "25%       44.370000    722.000000\n",
              "50%       44.450000    730.000000\n",
              "75%       44.520000    742.000000\n",
              "max       44.810000    771.000000"
            ]
          },
          "execution_count": 39,
          "metadata": {},
          "output_type": "execute_result"
        }
      ],
      "source": [
        "#코드 8-37.스케일링할 열 확인\n",
        "df = df[['level', 'EC']]\n",
        "df.describe()"
      ]
    },
    {
      "cell_type": "code",
      "execution_count": 40,
      "metadata": {
        "id": "1O4I-MYnk5RB"
      },
      "outputs": [
        {
          "data": {
            "image/png": "[encoded data removed]",
            "text/plain": [
              "<Figure size 640x480 with 2 Axes>"
            ]
          },
          "metadata": {},
          "output_type": "display_data"
        }
      ],
      "source": [
        "#코드 8-38.히스토그램\n",
        "df.hist()\n",
        "plt.show()"
      ]
    },
    {
      "cell_type": "code",
      "execution_count": 41,
      "metadata": {
        "id": "PmcqFGO8k77H"
      },
      "outputs": [
        {
          "data": {
            "text/html": [
              "<div>\n",
              "<style scoped>\n",
              "    .dataframe tbody tr th:only-of-type {\n",
              "        vertical-align: middle;\n",
              "    }\n",
              "\n",
              "    .dataframe tbody tr th {\n",
              "        vertical-align: top;\n",
              "    }\n",
              "\n",
              "    .dataframe thead th {\n",
              "        text-align: right;\n",
              "    }\n",
              "</style>\n",
              "<table border=\"1\" class=\"dataframe\">\n",
              "  <thead>\n",
              "    <tr style=\"text-align: right;\">\n",
              "      <th></th>\n",
              "      <th>level</th>\n",
              "      <th>EC</th>\n",
              "    </tr>\n",
              "  </thead>\n",
              "  <tbody>\n",
              "    <tr>\n",
              "      <th>0</th>\n",
              "      <td>44.47</td>\n",
              "      <td>749</td>\n",
              "    </tr>\n",
              "    <tr>\n",
              "      <th>1</th>\n",
              "      <td>44.47</td>\n",
              "      <td>749</td>\n",
              "    </tr>\n",
              "    <tr>\n",
              "      <th>2</th>\n",
              "      <td>44.47</td>\n",
              "      <td>749</td>\n",
              "    </tr>\n",
              "  </tbody>\n",
              "</table>\n",
              "</div>"
            ],
            "text/plain": [
              "   level   EC\n",
              "0  44.47  749\n",
              "1  44.47  749\n",
              "2  44.47  749"
            ]
          },
          "execution_count": 41,
          "metadata": {},
          "output_type": "execute_result"
        }
      ],
      "source": [
        "#코드 8-39.사본생성\n",
        "df1 = df.copy()\n",
        "df1.head(3)"
      ]
    },
    {
      "cell_type": "code",
      "execution_count": null,
      "metadata": {
        "id": "pHQ_V_Sjk8_c"
      },
      "outputs": [
        {
          "data": {
            "text/html": [
              "<div>\n",
              "<style scoped>\n",
              "    .dataframe tbody tr th:only-of-type {\n",
              "        vertical-align: middle;\n",
              "    }\n",
              "\n",
              "    .dataframe tbody tr th {\n",
              "        vertical-align: top;\n",
              "    }\n",
              "\n",
              "    .dataframe thead th {\n",
              "        text-align: right;\n",
              "    }\n",
              "</style>\n",
              "<table border=\"1\" class=\"dataframe\">\n",
              "  <thead>\n",
              "    <tr style=\"text-align: right;\">\n",
              "      <th></th>\n",
              "      <th>level</th>\n",
              "      <th>EC</th>\n",
              "      <th>level_z_score</th>\n",
              "      <th>EC_z_score</th>\n",
              "    </tr>\n",
              "  </thead>\n",
              "  <tbody>\n",
              "    <tr>\n",
              "      <th>0</th>\n",
              "      <td>44.47</td>\n",
              "      <td>749</td>\n",
              "      <td>0.0803</td>\n",
              "      <td>1.246237</td>\n",
              "    </tr>\n",
              "    <tr>\n",
              "      <th>1</th>\n",
              "      <td>44.47</td>\n",
              "      <td>749</td>\n",
              "      <td>0.0803</td>\n",
              "      <td>1.246237</td>\n",
              "    </tr>\n",
              "    <tr>\n",
              "      <th>2</th>\n",
              "      <td>44.47</td>\n",
              "      <td>749</td>\n",
              "      <td>0.0803</td>\n",
              "      <td>1.246237</td>\n",
              "    </tr>\n",
              "  </tbody>\n",
              "</table>\n",
              "</div>"
            ],
            "text/plain": [
              "   level   EC  level_z_score  EC_z_score\n",
              "0  44.47  749         0.0803    1.246237\n",
              "1  44.47  749         0.0803    1.246237\n",
              "2  44.47  749         0.0803    1.246237"
            ]
          },
          "execution_count": 42,
          "metadata": {},
          "output_type": "execute_result"
        }
      ],
      "source": [
        "#코드 8-40.표준화 (인공지능 학습 시킬 때 스케일링 하는 건 서로 비교가 용이해지기 때문)\n",
        "df1['level_z_score'] = (df1['level'] - df1['level'].mean()) / df1['level'].std()\n",
        "df1['EC_z_score'] = (df1['EC'] - df1['EC'].mean()) / df1['EC'].std()\n",
        "df1.head(3)"
      ]
    },
    {
      "cell_type": "code",
      "execution_count": 43,
      "metadata": {
        "id": "0TVljqfYlA9z"
      },
      "outputs": [
        {
          "data": {
            "text/html": [
              "<div>\n",
              "<style scoped>\n",
              "    .dataframe tbody tr th:only-of-type {\n",
              "        vertical-align: middle;\n",
              "    }\n",
              "\n",
              "    .dataframe tbody tr th {\n",
              "        vertical-align: top;\n",
              "    }\n",
              "\n",
              "    .dataframe thead th {\n",
              "        text-align: right;\n",
              "    }\n",
              "</style>\n",
              "<table border=\"1\" class=\"dataframe\">\n",
              "  <thead>\n",
              "    <tr style=\"text-align: right;\">\n",
              "      <th></th>\n",
              "      <th>level</th>\n",
              "      <th>EC</th>\n",
              "      <th>level_z_score</th>\n",
              "      <th>EC_z_score</th>\n",
              "    </tr>\n",
              "  </thead>\n",
              "  <tbody>\n",
              "    <tr>\n",
              "      <th>count</th>\n",
              "      <td>61814.000000</td>\n",
              "      <td>61814.000000</td>\n",
              "      <td>6.181400e+04</td>\n",
              "      <td>6.181400e+04</td>\n",
              "    </tr>\n",
              "    <tr>\n",
              "      <th>mean</th>\n",
              "      <td>44.459701</td>\n",
              "      <td>731.698612</td>\n",
              "      <td>6.867116e-14</td>\n",
              "      <td>-2.052521e-15</td>\n",
              "    </tr>\n",
              "    <tr>\n",
              "      <th>std</th>\n",
              "      <td>0.128256</td>\n",
              "      <td>13.882905</td>\n",
              "      <td>1.000000e+00</td>\n",
              "      <td>1.000000e+00</td>\n",
              "    </tr>\n",
              "    <tr>\n",
              "      <th>min</th>\n",
              "      <td>44.100000</td>\n",
              "      <td>693.000000</td>\n",
              "      <td>-2.804553e+00</td>\n",
              "      <td>-2.787501e+00</td>\n",
              "    </tr>\n",
              "    <tr>\n",
              "      <th>25%</th>\n",
              "      <td>44.370000</td>\n",
              "      <td>722.000000</td>\n",
              "      <td>-6.993901e-01</td>\n",
              "      <td>-6.986011e-01</td>\n",
              "    </tr>\n",
              "    <tr>\n",
              "      <th>50%</th>\n",
              "      <td>44.450000</td>\n",
              "      <td>730.000000</td>\n",
              "      <td>-7.563803e-02</td>\n",
              "      <td>-1.223528e-01</td>\n",
              "    </tr>\n",
              "    <tr>\n",
              "      <th>75%</th>\n",
              "      <td>44.520000</td>\n",
              "      <td>742.000000</td>\n",
              "      <td>4.701450e-01</td>\n",
              "      <td>7.420196e-01</td>\n",
              "    </tr>\n",
              "    <tr>\n",
              "      <th>max</th>\n",
              "      <td>44.810000</td>\n",
              "      <td>771.000000</td>\n",
              "      <td>2.731246e+00</td>\n",
              "      <td>2.830920e+00</td>\n",
              "    </tr>\n",
              "  </tbody>\n",
              "</table>\n",
              "</div>"
            ],
            "text/plain": [
              "              level            EC  level_z_score    EC_z_score\n",
              "count  61814.000000  61814.000000   6.181400e+04  6.181400e+04\n",
              "mean      44.459701    731.698612   6.867116e-14 -2.052521e-15\n",
              "std        0.128256     13.882905   1.000000e+00  1.000000e+00\n",
              "min       44.100000    693.000000  -2.804553e+00 -2.787501e+00\n",
              "25%       44.370000    722.000000  -6.993901e-01 -6.986011e-01\n",
              "50%       44.450000    730.000000  -7.563803e-02 -1.223528e-01\n",
              "75%       44.520000    742.000000   4.701450e-01  7.420196e-01\n",
              "max       44.810000    771.000000   2.731246e+00  2.830920e+00"
            ]
          },
          "execution_count": 43,
          "metadata": {},
          "output_type": "execute_result"
        }
      ],
      "source": [
        "#코드 8-41.표준화 후 통계량\n",
        "df1.describe()"
      ]
    },
    {
      "cell_type": "code",
      "execution_count": 44,
      "metadata": {
        "id": "jd0CM7LnlA4X"
      },
      "outputs": [
        {
          "data": {
            "image/png": "[encoded data removed]",
            "text/plain": [
              "<Figure size 800x500 with 4 Axes>"
            ]
          },
          "metadata": {},
          "output_type": "display_data"
        }
      ],
      "source": [
        "#코드 8-42.표준화 후 히스토그램\n",
        "df1.hist(figsize=(8,5))\n",
        "plt.show()"
      ]
    },
    {
      "cell_type": "code",
      "execution_count": 45,
      "metadata": {
        "id": "mzdO2ayVlAzf"
      },
      "outputs": [
        {
          "data": {
            "text/html": [
              "<div>\n",
              "<style scoped>\n",
              "    .dataframe tbody tr th:only-of-type {\n",
              "        vertical-align: middle;\n",
              "    }\n",
              "\n",
              "    .dataframe tbody tr th {\n",
              "        vertical-align: top;\n",
              "    }\n",
              "\n",
              "    .dataframe thead th {\n",
              "        text-align: right;\n",
              "    }\n",
              "</style>\n",
              "<table border=\"1\" class=\"dataframe\">\n",
              "  <thead>\n",
              "    <tr style=\"text-align: right;\">\n",
              "      <th></th>\n",
              "      <th>level</th>\n",
              "      <th>EC</th>\n",
              "    </tr>\n",
              "  </thead>\n",
              "  <tbody>\n",
              "    <tr>\n",
              "      <th>0</th>\n",
              "      <td>0.0803</td>\n",
              "      <td>1.246237</td>\n",
              "    </tr>\n",
              "    <tr>\n",
              "      <th>1</th>\n",
              "      <td>0.0803</td>\n",
              "      <td>1.246237</td>\n",
              "    </tr>\n",
              "    <tr>\n",
              "      <th>2</th>\n",
              "      <td>0.0803</td>\n",
              "      <td>1.246237</td>\n",
              "    </tr>\n",
              "  </tbody>\n",
              "</table>\n",
              "</div>"
            ],
            "text/plain": [
              "    level        EC\n",
              "0  0.0803  1.246237\n",
              "1  0.0803  1.246237\n",
              "2  0.0803  1.246237"
            ]
          },
          "execution_count": 45,
          "metadata": {},
          "output_type": "execute_result"
        }
      ],
      "source": [
        "#코드 8-43.데이터프레임 이름으로 표준화\n",
        "df2 = df.copy()\n",
        "df2_standard = (df2-df2.mean()) / df2.std()\n",
        "df2_standard.head(3)"
      ]
    },
    {
      "cell_type": "code",
      "execution_count": 47,
      "metadata": {
        "id": "NAIH4QpxlFce"
      },
      "outputs": [
        {
          "data": {
            "text/html": [
              "<div>\n",
              "<style scoped>\n",
              "    .dataframe tbody tr th:only-of-type {\n",
              "        vertical-align: middle;\n",
              "    }\n",
              "\n",
              "    .dataframe tbody tr th {\n",
              "        vertical-align: top;\n",
              "    }\n",
              "\n",
              "    .dataframe thead th {\n",
              "        text-align: right;\n",
              "    }\n",
              "</style>\n",
              "<table border=\"1\" class=\"dataframe\">\n",
              "  <thead>\n",
              "    <tr style=\"text-align: right;\">\n",
              "      <th></th>\n",
              "      <th>level</th>\n",
              "      <th>EC</th>\n",
              "      <th>level_minmax</th>\n",
              "      <th>EC_minmax</th>\n",
              "    </tr>\n",
              "  </thead>\n",
              "  <tbody>\n",
              "    <tr>\n",
              "      <th>0</th>\n",
              "      <td>44.47</td>\n",
              "      <td>749</td>\n",
              "      <td>0.521127</td>\n",
              "      <td>0.717949</td>\n",
              "    </tr>\n",
              "    <tr>\n",
              "      <th>1</th>\n",
              "      <td>44.47</td>\n",
              "      <td>749</td>\n",
              "      <td>0.521127</td>\n",
              "      <td>0.717949</td>\n",
              "    </tr>\n",
              "    <tr>\n",
              "      <th>2</th>\n",
              "      <td>44.47</td>\n",
              "      <td>749</td>\n",
              "      <td>0.521127</td>\n",
              "      <td>0.717949</td>\n",
              "    </tr>\n",
              "  </tbody>\n",
              "</table>\n",
              "</div>"
            ],
            "text/plain": [
              "   level   EC  level_minmax  EC_minmax\n",
              "0  44.47  749      0.521127   0.717949\n",
              "1  44.47  749      0.521127   0.717949\n",
              "2  44.47  749      0.521127   0.717949"
            ]
          },
          "execution_count": 47,
          "metadata": {},
          "output_type": "execute_result"
        }
      ],
      "source": [
        "#코드 8-44.데이터 사본 정규화\n",
        "df3 = df.copy()\n",
        "\n",
        "df3['level_minmax'] = (df3['level']-df3['level'].min()) / (df3['level'].max()\\\n",
        "                                                           -df3['level'].min())\n",
        "df3['EC_minmax'] = (df3['EC']-df3['EC'].min()) / (df3['EC'].max() - df3['EC'].min())    \n",
        "df3.head(3)"
      ]
    },
    {
      "cell_type": "code",
      "execution_count": 48,
      "metadata": {
        "id": "0pTOcoPwlHfJ"
      },
      "outputs": [
        {
          "data": {
            "text/html": [
              "<div>\n",
              "<style scoped>\n",
              "    .dataframe tbody tr th:only-of-type {\n",
              "        vertical-align: middle;\n",
              "    }\n",
              "\n",
              "    .dataframe tbody tr th {\n",
              "        vertical-align: top;\n",
              "    }\n",
              "\n",
              "    .dataframe thead th {\n",
              "        text-align: right;\n",
              "    }\n",
              "</style>\n",
              "<table border=\"1\" class=\"dataframe\">\n",
              "  <thead>\n",
              "    <tr style=\"text-align: right;\">\n",
              "      <th></th>\n",
              "      <th>level</th>\n",
              "      <th>EC</th>\n",
              "      <th>level_minmax</th>\n",
              "      <th>EC_minmax</th>\n",
              "    </tr>\n",
              "  </thead>\n",
              "  <tbody>\n",
              "    <tr>\n",
              "      <th>count</th>\n",
              "      <td>61814.000000</td>\n",
              "      <td>61814.000000</td>\n",
              "      <td>61814.000000</td>\n",
              "      <td>61814.000000</td>\n",
              "    </tr>\n",
              "    <tr>\n",
              "      <th>mean</th>\n",
              "      <td>44.459701</td>\n",
              "      <td>731.698612</td>\n",
              "      <td>0.506621</td>\n",
              "      <td>0.496136</td>\n",
              "    </tr>\n",
              "    <tr>\n",
              "      <th>std</th>\n",
              "      <td>0.128256</td>\n",
              "      <td>13.882905</td>\n",
              "      <td>0.180642</td>\n",
              "      <td>0.177986</td>\n",
              "    </tr>\n",
              "    <tr>\n",
              "      <th>min</th>\n",
              "      <td>44.100000</td>\n",
              "      <td>693.000000</td>\n",
              "      <td>0.000000</td>\n",
              "      <td>0.000000</td>\n",
              "    </tr>\n",
              "    <tr>\n",
              "      <th>25%</th>\n",
              "      <td>44.370000</td>\n",
              "      <td>722.000000</td>\n",
              "      <td>0.380282</td>\n",
              "      <td>0.371795</td>\n",
              "    </tr>\n",
              "    <tr>\n",
              "      <th>50%</th>\n",
              "      <td>44.450000</td>\n",
              "      <td>730.000000</td>\n",
              "      <td>0.492958</td>\n",
              "      <td>0.474359</td>\n",
              "    </tr>\n",
              "    <tr>\n",
              "      <th>75%</th>\n",
              "      <td>44.520000</td>\n",
              "      <td>742.000000</td>\n",
              "      <td>0.591549</td>\n",
              "      <td>0.628205</td>\n",
              "    </tr>\n",
              "    <tr>\n",
              "      <th>max</th>\n",
              "      <td>44.810000</td>\n",
              "      <td>771.000000</td>\n",
              "      <td>1.000000</td>\n",
              "      <td>1.000000</td>\n",
              "    </tr>\n",
              "  </tbody>\n",
              "</table>\n",
              "</div>"
            ],
            "text/plain": [
              "              level            EC  level_minmax     EC_minmax\n",
              "count  61814.000000  61814.000000  61814.000000  61814.000000\n",
              "mean      44.459701    731.698612      0.506621      0.496136\n",
              "std        0.128256     13.882905      0.180642      0.177986\n",
              "min       44.100000    693.000000      0.000000      0.000000\n",
              "25%       44.370000    722.000000      0.380282      0.371795\n",
              "50%       44.450000    730.000000      0.492958      0.474359\n",
              "75%       44.520000    742.000000      0.591549      0.628205\n",
              "max       44.810000    771.000000      1.000000      1.000000"
            ]
          },
          "execution_count": 48,
          "metadata": {},
          "output_type": "execute_result"
        }
      ],
      "source": [
        "#코드 8-45.정규화 후 통계량\n",
        "df3.describe()"
      ]
    },
    {
      "cell_type": "code",
      "execution_count": null,
      "metadata": {
        "id": "Z04E1t4clKx7"
      },
      "outputs": [
        {
          "data": {
            "image/png": "[encoded data removed]",
            "text/plain": [
              "<Figure size 800x600 with 4 Axes>"
            ]
          },
          "metadata": {},
          "output_type": "display_data"
        }
      ],
      "source": [
        "#코드 8-46.정규화 후 히스토그램\n",
        "df3.hist(figsize=(8,6)) \n",
        "plt.show()"
      ]
    }
  ],
  "metadata": {
    "colab": {
      "collapsed_sections": [
        "eF3HrAdE1EIU"
      ],
      "provenance": []
    },
    "kernelspec": {
      "display_name": "Python 3",
      "name": "python3"
    },
    "language_info": {
      "codemirror_mode": {
        "name": "ipython",
        "version": 3
      },
      "file_extension": ".py",
      "mimetype": "text/x-python",
      "name": "python",
      "nbconvert_exporter": "python",
      "pygments_lexer": "ipython3",
      "version": "3.13.3"
    }
  },
  "nbformat": 4,
  "nbformat_minor": 0
}
