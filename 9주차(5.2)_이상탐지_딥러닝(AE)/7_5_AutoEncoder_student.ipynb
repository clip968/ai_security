{
  "cells": [
    {
      "cell_type": "markdown",
      "metadata": {
        "id": "H2PiE6pYmBv7"
      },
      "source": [
        "# AutoEncoder\n",
        "\n",
        "어제 다뤘던 이동통신 고객 이탈 데이터를 이용하여, AE 모델을 생성하고 예측해 봅시다.\n",
        "\n"
      ]
    },
    {
      "cell_type": "markdown",
      "metadata": {
        "id": "Wyg1gRj8ZxMK"
      },
      "source": [
        "## 1.환경준비"
      ]
    },
    {
      "cell_type": "markdown",
      "metadata": {
        "id": "dSsCFlrNaQQW"
      },
      "source": [
        "### 1) 라이브러리 로딩"
      ]
    },
    {
      "cell_type": "code",
      "execution_count": 2,
      "metadata": {
        "id": "NJ_O2dJ1iNH-"
      },
      "outputs": [
        {
          "name": "stderr",
          "output_type": "stream",
          "text": [
            "2025-05-02 10:24:48.394006: I tensorflow/core/util/port.cc:153] oneDNN custom operations are on. You may see slightly different numerical results due to floating-point round-off errors from different computation orders. To turn them off, set the environment variable `TF_ENABLE_ONEDNN_OPTS=0`.\n",
            "2025-05-02 10:24:48.395693: I external/local_xla/xla/tsl/cuda/cudart_stub.cc:32] Could not find cuda drivers on your machine, GPU will not be used.\n",
            "2025-05-02 10:24:48.399342: I external/local_xla/xla/tsl/cuda/cudart_stub.cc:32] Could not find cuda drivers on your machine, GPU will not be used.\n",
            "2025-05-02 10:24:48.406991: E external/local_xla/xla/stream_executor/cuda/cuda_fft.cc:467] Unable to register cuFFT factory: Attempting to register factory for plugin cuFFT when one has already been registered\n",
            "WARNING: All log messages before absl::InitializeLog() is called are written to STDERR\n",
            "E0000 00:00:1746149088.417894   14031 cuda_dnn.cc:8579] Unable to register cuDNN factory: Attempting to register factory for plugin cuDNN when one has already been registered\n",
            "E0000 00:00:1746149088.421089   14031 cuda_blas.cc:1407] Unable to register cuBLAS factory: Attempting to register factory for plugin cuBLAS when one has already been registered\n",
            "W0000 00:00:1746149088.431055   14031 computation_placer.cc:177] computation placer already registered. Please check linkage and avoid linking the same target more than once.\n",
            "W0000 00:00:1746149088.431086   14031 computation_placer.cc:177] computation placer already registered. Please check linkage and avoid linking the same target more than once.\n",
            "W0000 00:00:1746149088.431088   14031 computation_placer.cc:177] computation placer already registered. Please check linkage and avoid linking the same target more than once.\n",
            "W0000 00:00:1746149088.431089   14031 computation_placer.cc:177] computation placer already registered. Please check linkage and avoid linking the same target more than once.\n",
            "2025-05-02 10:24:48.434388: I tensorflow/core/platform/cpu_feature_guard.cc:210] This TensorFlow binary is optimized to use available CPU instructions in performance-critical operations.\n",
            "To enable the following instructions: AVX2 AVX512F AVX512_VNNI AVX512_BF16 FMA, in other operations, rebuild TensorFlow with the appropriate compiler flags.\n"
          ]
        }
      ],
      "source": [
        "# import packages\n",
        "import pandas as pd\n",
        "import numpy as np\n",
        "import matplotlib.pyplot as plt\n",
        "import seaborn as sns\n",
        "\n",
        "from sklearn.model_selection import train_test_split\n",
        "from sklearn.metrics import *\n",
        "from sklearn.preprocessing import StandardScaler, MinMaxScaler\n",
        "\n",
        "import tensorflow as tf\n",
        "from keras.models import Model, load_model, Sequential\n",
        "from keras.layers import Input, Dense\n",
        "from keras.backend import clear_session\n",
        "from tensorflow.keras.optimizers import Adam"
      ]
    },
    {
      "cell_type": "markdown",
      "metadata": {
        "id": "pPagQ37T137D"
      },
      "source": [
        "### 2) 필요 함수들 생성"
      ]
    },
    {
      "cell_type": "markdown",
      "metadata": {
        "id": "4E65EHcv137D"
      },
      "source": [
        "#### ① reconstruction error plot\n",
        "\n",
        "> * input과 output의 차이(mse)를 계산하고\n",
        "* 시각화 합니다.\n",
        "\n"
      ]
    },
    {
      "cell_type": "code",
      "execution_count": 3,
      "metadata": {
        "id": "KJA0YCdb137D"
      },
      "outputs": [],
      "source": [
        "def recon_err_plot(x, x_pred, y, threshold=0):\n",
        "    # treshold : 우리가 지정해줘야 함.(어떻게?)\n",
        "\n",
        "    mse = np.mean(np.power(x - x_pred, 2), axis=1)\n",
        "    error_df = pd.DataFrame({'Reconstruction_error': mse, 'True_class': y})\n",
        "    error_df = error_df.reset_index()\n",
        "\n",
        "    groups = error_df.groupby('True_class')\n",
        "    fig, ax = plt.subplots()\n",
        "    for name, group in groups:\n",
        "        ax.plot(group.index, group.Reconstruction_error, marker='o', ms=3.5, linestyle='',\n",
        "                label= \"Abnormal\" if name == 1 else \"Normal\")\n",
        "    ax.hlines(threshold, ax.get_xlim()[0], ax.get_xlim()[1], colors=\"r\", zorder=100, label='Threshold')\n",
        "    ax.legend()\n",
        "    plt.title(\"Reconstruction error for different classes\")\n",
        "    plt.ylabel(\"Reconstruction error\")\n",
        "    plt.xlabel(\"Data point index\")\n",
        "    plt.show()\n",
        "\n",
        "    return error_df"
      ]
    },
    {
      "cell_type": "markdown",
      "metadata": {
        "id": "1EqlkCUs137E"
      },
      "source": [
        "#### ② precision, recall, f1 curve\n",
        "\n",
        "> * sklearn에서는 precision, recall curve만 제공됩니다.\n",
        "* 그래서, f1 curve도 추가해서 구하고, plot을 그립니다.\n",
        "\n"
      ]
    },
    {
      "cell_type": "code",
      "execution_count": 4,
      "metadata": {
        "id": "r6Z2hJv9137E"
      },
      "outputs": [],
      "source": [
        "from sklearn.metrics import precision_recall_curve\n",
        "import matplotlib.pyplot as plt\n",
        "\n",
        "def prec_rec_f1_curve(y, score, pos = 1) :\n",
        "    precision, recall, thresholds  = precision_recall_curve(y, score, pos_label=1)\n",
        "    f1 = 2 / (1/precision + 1/recall)\n",
        "\n",
        "    plt.plot(thresholds, np.delete(precision, -1), label = 'precision')\n",
        "    plt.plot(thresholds, np.delete(recall, -1), label = 'recall')\n",
        "    plt.plot(thresholds, np.delete(f1, -1), label = 'f1')\n",
        "    plt.xlabel('Anomaly Score')\n",
        "    plt.legend()\n",
        "    plt.grid()\n",
        "    plt.show()\n",
        "\n",
        "    return precision, recall, f1, thresholds"
      ]
    },
    {
      "cell_type": "markdown",
      "metadata": {
        "id": "Vmz-Bj8N137E"
      },
      "source": [
        "#### ③ threshold로 잘랐을 때, 분류 평가 함수\n"
      ]
    },
    {
      "cell_type": "code",
      "execution_count": 5,
      "metadata": {
        "id": "iSOHX0GO137F"
      },
      "outputs": [],
      "source": [
        "from sklearn.metrics import confusion_matrix, classification_report\n",
        "\n",
        "def classification_report2(y, pred, thresholds):\n",
        "    pred_temp = np.where(pred > thresholds , 1, 0)\n",
        "\n",
        "    print('< confusion matrix >\\n')\n",
        "    print(confusion_matrix(y, pred_temp))\n",
        "    print('\\n' + '='*60 + '\\n')\n",
        "\n",
        "    print('< classification_report >\\n')\n",
        "    print(classification_report(y, pred_temp))"
      ]
    },
    {
      "cell_type": "markdown",
      "metadata": {
        "id": "fGcFDTqnEJX0"
      },
      "source": [
        "#### ④ DL 학습곡선 그리기\n"
      ]
    },
    {
      "cell_type": "code",
      "execution_count": 6,
      "metadata": {
        "id": "2xXRg45kEJX0"
      },
      "outputs": [],
      "source": [
        "def plot_learning_curve(history) :\n",
        "    plt.plot(history['loss'], label='Train')\n",
        "    plt.plot(history['val_loss'], label='Validation')\n",
        "\n",
        "    plt.ylabel('Loss')\n",
        "    plt.xlabel('Epoch')\n",
        "    plt.grid()\n",
        "    plt.show()"
      ]
    },
    {
      "cell_type": "markdown",
      "metadata": {
        "id": "PS-b3yGY2Jvp"
      },
      "source": [
        "### 3) 데이터셋 불러오기"
      ]
    },
    {
      "cell_type": "code",
      "execution_count": 9,
      "metadata": {
        "id": "jTqKGz43vG_M"
      },
      "outputs": [],
      "source": [
        "# secom\n",
        "path = \"secom_9.csv\"\n",
        "data = pd.read_csv(path)\n",
        "\n",
        "data['label'] = 0\n",
        "data.loc[data['defeat']== 'defeat', 'label']= 1\n",
        "data.drop(['datetime','defeat'], axis = 1, inplace=True)\n",
        "\n",
        "target = 'label'\n",
        "x = data.drop(target, axis = 1)\n",
        "y = data.loc[:,target]"
      ]
    },
    {
      "cell_type": "code",
      "execution_count": 10,
      "metadata": {
        "colab": {
          "base_uri": "https://localhost:8080/"
        },
        "id": "ec3xuHRhva4n",
        "outputId": "17f8a7f4-48ca-4112-a900-2db070af6cab"
      },
      "outputs": [
        {
          "data": {
            "text/plain": [
              "(1567, 53)"
            ]
          },
          "execution_count": 10,
          "metadata": {},
          "output_type": "execute_result"
        }
      ],
      "source": [
        "data.shape"
      ]
    },
    {
      "cell_type": "code",
      "execution_count": 11,
      "metadata": {
        "colab": {
          "base_uri": "https://localhost:8080/",
          "height": 255
        },
        "id": "slQzhe7LXVug",
        "outputId": "8ff4d373-7fd7-4398-aa8c-7180a6d310c6"
      },
      "outputs": [
        {
          "data": {
            "text/html": [
              "<div>\n",
              "<style scoped>\n",
              "    .dataframe tbody tr th:only-of-type {\n",
              "        vertical-align: middle;\n",
              "    }\n",
              "\n",
              "    .dataframe tbody tr th {\n",
              "        vertical-align: top;\n",
              "    }\n",
              "\n",
              "    .dataframe thead th {\n",
              "        text-align: right;\n",
              "    }\n",
              "</style>\n",
              "<table border=\"1\" class=\"dataframe\">\n",
              "  <thead>\n",
              "    <tr style=\"text-align: right;\">\n",
              "      <th></th>\n",
              "      <th>v021</th>\n",
              "      <th>v087</th>\n",
              "      <th>v088</th>\n",
              "      <th>v089</th>\n",
              "      <th>v114</th>\n",
              "      <th>v115</th>\n",
              "      <th>v116</th>\n",
              "      <th>v117</th>\n",
              "      <th>v118</th>\n",
              "      <th>v120</th>\n",
              "      <th>...</th>\n",
              "      <th>v528</th>\n",
              "      <th>v571</th>\n",
              "      <th>v572</th>\n",
              "      <th>v573</th>\n",
              "      <th>v574</th>\n",
              "      <th>v575</th>\n",
              "      <th>v576</th>\n",
              "      <th>v577</th>\n",
              "      <th>v578</th>\n",
              "      <th>label</th>\n",
              "    </tr>\n",
              "  </thead>\n",
              "  <tbody>\n",
              "    <tr>\n",
              "      <th>0</th>\n",
              "      <td>1.4026</td>\n",
              "      <td>2.3895</td>\n",
              "      <td>0.9690</td>\n",
              "      <td>1747.6049</td>\n",
              "      <td>0.9460</td>\n",
              "      <td>0.0</td>\n",
              "      <td>748.6115</td>\n",
              "      <td>0.9908</td>\n",
              "      <td>58.4306</td>\n",
              "      <td>0.9804</td>\n",
              "      <td>...</td>\n",
              "      <td>6.6926</td>\n",
              "      <td>533.8500</td>\n",
              "      <td>2.1113</td>\n",
              "      <td>8.95</td>\n",
              "      <td>0.3157</td>\n",
              "      <td>3.0624</td>\n",
              "      <td>0.1026</td>\n",
              "      <td>1.6765</td>\n",
              "      <td>14.9509</td>\n",
              "      <td>0</td>\n",
              "    </tr>\n",
              "    <tr>\n",
              "      <th>1</th>\n",
              "      <td>1.3825</td>\n",
              "      <td>2.3754</td>\n",
              "      <td>0.9894</td>\n",
              "      <td>1931.6464</td>\n",
              "      <td>0.9425</td>\n",
              "      <td>0.0</td>\n",
              "      <td>731.2517</td>\n",
              "      <td>0.9902</td>\n",
              "      <td>58.6680</td>\n",
              "      <td>0.9731</td>\n",
              "      <td>...</td>\n",
              "      <td>8.8370</td>\n",
              "      <td>535.0164</td>\n",
              "      <td>2.4335</td>\n",
              "      <td>5.92</td>\n",
              "      <td>0.2653</td>\n",
              "      <td>2.0111</td>\n",
              "      <td>0.0772</td>\n",
              "      <td>1.1065</td>\n",
              "      <td>10.9003</td>\n",
              "      <td>0</td>\n",
              "    </tr>\n",
              "    <tr>\n",
              "      <th>2</th>\n",
              "      <td>1.4123</td>\n",
              "      <td>2.4532</td>\n",
              "      <td>0.9880</td>\n",
              "      <td>1685.8514</td>\n",
              "      <td>0.9231</td>\n",
              "      <td>0.0</td>\n",
              "      <td>718.5777</td>\n",
              "      <td>0.9899</td>\n",
              "      <td>58.4808</td>\n",
              "      <td>0.9772</td>\n",
              "      <td>...</td>\n",
              "      <td>6.4568</td>\n",
              "      <td>535.0245</td>\n",
              "      <td>2.0293</td>\n",
              "      <td>11.21</td>\n",
              "      <td>0.1882</td>\n",
              "      <td>4.0923</td>\n",
              "      <td>0.0640</td>\n",
              "      <td>2.0952</td>\n",
              "      <td>9.2721</td>\n",
              "      <td>1</td>\n",
              "    </tr>\n",
              "    <tr>\n",
              "      <th>3</th>\n",
              "      <td>1.4011</td>\n",
              "      <td>2.4004</td>\n",
              "      <td>0.9904</td>\n",
              "      <td>1752.0968</td>\n",
              "      <td>0.9564</td>\n",
              "      <td>0.0</td>\n",
              "      <td>709.0867</td>\n",
              "      <td>0.9906</td>\n",
              "      <td>58.6635</td>\n",
              "      <td>0.9761</td>\n",
              "      <td>...</td>\n",
              "      <td>6.4865</td>\n",
              "      <td>530.5682</td>\n",
              "      <td>2.0253</td>\n",
              "      <td>9.33</td>\n",
              "      <td>0.1738</td>\n",
              "      <td>2.8971</td>\n",
              "      <td>0.0525</td>\n",
              "      <td>1.7585</td>\n",
              "      <td>8.5831</td>\n",
              "      <td>0</td>\n",
              "    </tr>\n",
              "    <tr>\n",
              "      <th>4</th>\n",
              "      <td>1.3888</td>\n",
              "      <td>2.4530</td>\n",
              "      <td>0.9902</td>\n",
              "      <td>1828.3846</td>\n",
              "      <td>0.9424</td>\n",
              "      <td>0.0</td>\n",
              "      <td>796.5950</td>\n",
              "      <td>0.9908</td>\n",
              "      <td>58.3858</td>\n",
              "      <td>0.9628</td>\n",
              "      <td>...</td>\n",
              "      <td>6.3745</td>\n",
              "      <td>532.0155</td>\n",
              "      <td>2.0275</td>\n",
              "      <td>8.83</td>\n",
              "      <td>0.2224</td>\n",
              "      <td>3.1776</td>\n",
              "      <td>0.0706</td>\n",
              "      <td>1.6597</td>\n",
              "      <td>10.9698</td>\n",
              "      <td>0</td>\n",
              "    </tr>\n",
              "  </tbody>\n",
              "</table>\n",
              "<p>5 rows × 53 columns</p>\n",
              "</div>"
            ],
            "text/plain": [
              "     v021    v087    v088       v089    v114  v115      v116    v117     v118  \\\n",
              "0  1.4026  2.3895  0.9690  1747.6049  0.9460   0.0  748.6115  0.9908  58.4306   \n",
              "1  1.3825  2.3754  0.9894  1931.6464  0.9425   0.0  731.2517  0.9902  58.6680   \n",
              "2  1.4123  2.4532  0.9880  1685.8514  0.9231   0.0  718.5777  0.9899  58.4808   \n",
              "3  1.4011  2.4004  0.9904  1752.0968  0.9564   0.0  709.0867  0.9906  58.6635   \n",
              "4  1.3888  2.4530  0.9902  1828.3846  0.9424   0.0  796.5950  0.9908  58.3858   \n",
              "\n",
              "     v120  ...    v528      v571    v572   v573    v574    v575    v576  \\\n",
              "0  0.9804  ...  6.6926  533.8500  2.1113   8.95  0.3157  3.0624  0.1026   \n",
              "1  0.9731  ...  8.8370  535.0164  2.4335   5.92  0.2653  2.0111  0.0772   \n",
              "2  0.9772  ...  6.4568  535.0245  2.0293  11.21  0.1882  4.0923  0.0640   \n",
              "3  0.9761  ...  6.4865  530.5682  2.0253   9.33  0.1738  2.8971  0.0525   \n",
              "4  0.9628  ...  6.3745  532.0155  2.0275   8.83  0.2224  3.1776  0.0706   \n",
              "\n",
              "     v577     v578  label  \n",
              "0  1.6765  14.9509      0  \n",
              "1  1.1065  10.9003      0  \n",
              "2  2.0952   9.2721      1  \n",
              "3  1.7585   8.5831      0  \n",
              "4  1.6597  10.9698      0  \n",
              "\n",
              "[5 rows x 53 columns]"
            ]
          },
          "execution_count": 11,
          "metadata": {},
          "output_type": "execute_result"
        }
      ],
      "source": [
        "data.head()"
      ]
    },
    {
      "cell_type": "code",
      "execution_count": 12,
      "metadata": {
        "colab": {
          "base_uri": "https://localhost:8080/"
        },
        "id": "lXe2-FqGva4p",
        "outputId": "cb0e7715-7697-4280-b631-30467d179ded"
      },
      "outputs": [
        {
          "data": {
            "text/plain": [
              "label\n",
              "0    1463\n",
              "1     104\n",
              "Name: count, dtype: int64"
            ]
          },
          "execution_count": 12,
          "metadata": {},
          "output_type": "execute_result"
        }
      ],
      "source": [
        "y.value_counts()"
      ]
    },
    {
      "cell_type": "code",
      "execution_count": 13,
      "metadata": {
        "colab": {
          "base_uri": "https://localhost:8080/"
        },
        "id": "6a9w0Zwzva4p",
        "outputId": "4918ac85-3d3e-4a63-e9b2-ac6cec9881c0"
      },
      "outputs": [
        {
          "data": {
            "text/plain": [
              "label\n",
              "0    0.933631\n",
              "1    0.066369\n",
              "Name: count, dtype: float64"
            ]
          },
          "execution_count": 13,
          "metadata": {},
          "output_type": "execute_result"
        }
      ],
      "source": [
        "y.value_counts() / y.shape[0]"
      ]
    },
    {
      "cell_type": "markdown",
      "metadata": {
        "id": "Wzfn7Eqr1-eY"
      },
      "source": [
        "## 2.데이터 준비"
      ]
    },
    {
      "cell_type": "markdown",
      "metadata": {
        "id": "oiV8Kj-73mAD"
      },
      "source": [
        "* 분할"
      ]
    },
    {
      "cell_type": "code",
      "execution_count": 14,
      "metadata": {
        "colab": {
          "base_uri": "https://localhost:8080/"
        },
        "id": "9QxeivC33Muc",
        "outputId": "5b77b770-4aea-48c5-df4d-6ec7c187f36e"
      },
      "outputs": [
        {
          "data": {
            "text/plain": [
              "(1567, 52)"
            ]
          },
          "execution_count": 14,
          "metadata": {},
          "output_type": "execute_result"
        }
      ],
      "source": [
        "x.shape"
      ]
    },
    {
      "cell_type": "code",
      "execution_count": 15,
      "metadata": {
        "id": "8Eub2jQJ1-eY"
      },
      "outputs": [],
      "source": [
        "x_train, x_val, y_train, y_val = train_test_split(x, y, test_size = .2, random_state=2021)"
      ]
    },
    {
      "cell_type": "code",
      "execution_count": 16,
      "metadata": {
        "colab": {
          "base_uri": "https://localhost:8080/"
        },
        "id": "CvCO5Pru_vuo",
        "outputId": "22f26c8f-0856-486b-98a8-02dc537540d3"
      },
      "outputs": [
        {
          "data": {
            "text/plain": [
              "((1253, 52), (1253,))"
            ]
          },
          "execution_count": 16,
          "metadata": {},
          "output_type": "execute_result"
        }
      ],
      "source": [
        "x_train.shape, y_train.shape"
      ]
    },
    {
      "cell_type": "markdown",
      "metadata": {
        "id": "6rozCydt3olQ"
      },
      "source": [
        "* 스케일링"
      ]
    },
    {
      "cell_type": "code",
      "execution_count": 17,
      "metadata": {
        "id": "DNdor0xs3qsl"
      },
      "outputs": [],
      "source": [
        "scaler = MinMaxScaler()\n",
        "x_train = scaler.fit_transform(x_train)\n",
        "x_val = scaler.transform(x_val)"
      ]
    },
    {
      "cell_type": "markdown",
      "metadata": {
        "id": "H62SJTZ4D2hc"
      },
      "source": [
        "* Normal 데이터만 뽑기"
      ]
    },
    {
      "cell_type": "code",
      "execution_count": 18,
      "metadata": {
        "id": "5dWgQLV92grI"
      },
      "outputs": [],
      "source": [
        "# 학습을 위해서는 Normal 데이터만 이용한다.\n",
        "x_train0 = x_train[y_train == 0]"
      ]
    },
    {
      "cell_type": "code",
      "execution_count": 19,
      "metadata": {
        "colab": {
          "base_uri": "https://localhost:8080/"
        },
        "id": "91aDeFfG2grJ",
        "outputId": "4575baf8-7dba-45f9-f8b8-8734972eddcb"
      },
      "outputs": [
        {
          "data": {
            "text/plain": [
              "(1166, 52)"
            ]
          },
          "execution_count": 19,
          "metadata": {},
          "output_type": "execute_result"
        }
      ],
      "source": [
        "x_train0.shape"
      ]
    },
    {
      "cell_type": "markdown",
      "metadata": {
        "id": "iytxiq_R2Y91"
      },
      "source": [
        "## 3.모델링 : AE"
      ]
    },
    {
      "cell_type": "markdown",
      "metadata": {
        "id": "Jqheh5YL2Y92"
      },
      "source": [
        "### 1) 학습"
      ]
    },
    {
      "cell_type": "markdown",
      "metadata": {
        "id": "zpNHJNMB2Y93"
      },
      "source": [
        "* 모델 설계"
      ]
    },
    {
      "cell_type": "code",
      "execution_count": 20,
      "metadata": {
        "colab": {
          "base_uri": "https://localhost:8080/"
        },
        "id": "wccEo1OLwR2A",
        "outputId": "74860fb7-0685-4959-8292-41ab2c42fb77"
      },
      "outputs": [
        {
          "data": {
            "text/plain": [
              "52"
            ]
          },
          "execution_count": 20,
          "metadata": {},
          "output_type": "execute_result"
        }
      ],
      "source": [
        "input_dim = x_train0.shape[1]\n",
        "input_dim"
      ]
    },
    {
      "cell_type": "code",
      "execution_count": 21,
      "metadata": {
        "colab": {
          "base_uri": "https://localhost:8080/"
        },
        "id": "UZSlSNwKM1mC",
        "outputId": "1e258d22-429e-48bd-ac8c-073741654fff"
      },
      "outputs": [
        {
          "name": "stderr",
          "output_type": "stream",
          "text": [
            "/home/clip968/miniforge3/envs/pytorch/lib/python3.10/site-packages/keras/src/layers/core/dense.py:87: UserWarning: Do not pass an `input_shape`/`input_dim` argument to a layer. When using Sequential models, prefer using an `Input(shape)` object as the first layer in the model instead.\n",
            "  super().__init__(activity_regularizer=activity_regularizer, **kwargs)\n",
            "2025-05-02 10:26:56.119207: E external/local_xla/xla/stream_executor/cuda/cuda_platform.cc:51] failed call to cuInit: INTERNAL: CUDA error: Failed call to cuInit: UNKNOWN ERROR (303)\n"
          ]
        },
        {
          "data": {
            "text/html": [
              "<pre style=\"white-space:pre;overflow-x:auto;line-height:normal;font-family:Menlo,'DejaVu Sans Mono',consolas,'Courier New',monospace\"><span style=\"font-weight: bold\">Model: \"sequential\"</span>\n",
              "</pre>\n"
            ],
            "text/plain": [
              "\u001b[1mModel: \"sequential\"\u001b[0m\n"
            ]
          },
          "metadata": {},
          "output_type": "display_data"
        },
        {
          "data": {
            "text/html": [
              "<pre style=\"white-space:pre;overflow-x:auto;line-height:normal;font-family:Menlo,'DejaVu Sans Mono',consolas,'Courier New',monospace\">┏━━━━━━━━━━━━━━━━━━━━━━━━━━━━━━━━━┳━━━━━━━━━━━━━━━━━━━━━━━━┳━━━━━━━━━━━━━━━┓\n",
              "┃<span style=\"font-weight: bold\"> Layer (type)                    </span>┃<span style=\"font-weight: bold\"> Output Shape           </span>┃<span style=\"font-weight: bold\">       Param # </span>┃\n",
              "┡━━━━━━━━━━━━━━━━━━━━━━━━━━━━━━━━━╇━━━━━━━━━━━━━━━━━━━━━━━━╇━━━━━━━━━━━━━━━┩\n",
              "│ dense (<span style=\"color: #0087ff; text-decoration-color: #0087ff\">Dense</span>)                   │ (<span style=\"color: #00d7ff; text-decoration-color: #00d7ff\">None</span>, <span style=\"color: #00af00; text-decoration-color: #00af00\">32</span>)             │         <span style=\"color: #00af00; text-decoration-color: #00af00\">1,696</span> │\n",
              "├─────────────────────────────────┼────────────────────────┼───────────────┤\n",
              "│ dense_1 (<span style=\"color: #0087ff; text-decoration-color: #0087ff\">Dense</span>)                 │ (<span style=\"color: #00d7ff; text-decoration-color: #00d7ff\">None</span>, <span style=\"color: #00af00; text-decoration-color: #00af00\">16</span>)             │           <span style=\"color: #00af00; text-decoration-color: #00af00\">528</span> │\n",
              "├─────────────────────────────────┼────────────────────────┼───────────────┤\n",
              "│ dense_2 (<span style=\"color: #0087ff; text-decoration-color: #0087ff\">Dense</span>)                 │ (<span style=\"color: #00d7ff; text-decoration-color: #00d7ff\">None</span>, <span style=\"color: #00af00; text-decoration-color: #00af00\">32</span>)             │           <span style=\"color: #00af00; text-decoration-color: #00af00\">544</span> │\n",
              "├─────────────────────────────────┼────────────────────────┼───────────────┤\n",
              "│ dense_3 (<span style=\"color: #0087ff; text-decoration-color: #0087ff\">Dense</span>)                 │ (<span style=\"color: #00d7ff; text-decoration-color: #00d7ff\">None</span>, <span style=\"color: #00af00; text-decoration-color: #00af00\">52</span>)             │         <span style=\"color: #00af00; text-decoration-color: #00af00\">1,716</span> │\n",
              "└─────────────────────────────────┴────────────────────────┴───────────────┘\n",
              "</pre>\n"
            ],
            "text/plain": [
              "┏━━━━━━━━━━━━━━━━━━━━━━━━━━━━━━━━━┳━━━━━━━━━━━━━━━━━━━━━━━━┳━━━━━━━━━━━━━━━┓\n",
              "┃\u001b[1m \u001b[0m\u001b[1mLayer (type)                   \u001b[0m\u001b[1m \u001b[0m┃\u001b[1m \u001b[0m\u001b[1mOutput Shape          \u001b[0m\u001b[1m \u001b[0m┃\u001b[1m \u001b[0m\u001b[1m      Param #\u001b[0m\u001b[1m \u001b[0m┃\n",
              "┡━━━━━━━━━━━━━━━━━━━━━━━━━━━━━━━━━╇━━━━━━━━━━━━━━━━━━━━━━━━╇━━━━━━━━━━━━━━━┩\n",
              "│ dense (\u001b[38;5;33mDense\u001b[0m)                   │ (\u001b[38;5;45mNone\u001b[0m, \u001b[38;5;34m32\u001b[0m)             │         \u001b[38;5;34m1,696\u001b[0m │\n",
              "├─────────────────────────────────┼────────────────────────┼───────────────┤\n",
              "│ dense_1 (\u001b[38;5;33mDense\u001b[0m)                 │ (\u001b[38;5;45mNone\u001b[0m, \u001b[38;5;34m16\u001b[0m)             │           \u001b[38;5;34m528\u001b[0m │\n",
              "├─────────────────────────────────┼────────────────────────┼───────────────┤\n",
              "│ dense_2 (\u001b[38;5;33mDense\u001b[0m)                 │ (\u001b[38;5;45mNone\u001b[0m, \u001b[38;5;34m32\u001b[0m)             │           \u001b[38;5;34m544\u001b[0m │\n",
              "├─────────────────────────────────┼────────────────────────┼───────────────┤\n",
              "│ dense_3 (\u001b[38;5;33mDense\u001b[0m)                 │ (\u001b[38;5;45mNone\u001b[0m, \u001b[38;5;34m52\u001b[0m)             │         \u001b[38;5;34m1,716\u001b[0m │\n",
              "└─────────────────────────────────┴────────────────────────┴───────────────┘\n"
            ]
          },
          "metadata": {},
          "output_type": "display_data"
        },
        {
          "data": {
            "text/html": [
              "<pre style=\"white-space:pre;overflow-x:auto;line-height:normal;font-family:Menlo,'DejaVu Sans Mono',consolas,'Courier New',monospace\"><span style=\"font-weight: bold\"> Total params: </span><span style=\"color: #00af00; text-decoration-color: #00af00\">4,484</span> (17.52 KB)\n",
              "</pre>\n"
            ],
            "text/plain": [
              "\u001b[1m Total params: \u001b[0m\u001b[38;5;34m4,484\u001b[0m (17.52 KB)\n"
            ]
          },
          "metadata": {},
          "output_type": "display_data"
        },
        {
          "data": {
            "text/html": [
              "<pre style=\"white-space:pre;overflow-x:auto;line-height:normal;font-family:Menlo,'DejaVu Sans Mono',consolas,'Courier New',monospace\"><span style=\"font-weight: bold\"> Trainable params: </span><span style=\"color: #00af00; text-decoration-color: #00af00\">4,484</span> (17.52 KB)\n",
              "</pre>\n"
            ],
            "text/plain": [
              "\u001b[1m Trainable params: \u001b[0m\u001b[38;5;34m4,484\u001b[0m (17.52 KB)\n"
            ]
          },
          "metadata": {},
          "output_type": "display_data"
        },
        {
          "data": {
            "text/html": [
              "<pre style=\"white-space:pre;overflow-x:auto;line-height:normal;font-family:Menlo,'DejaVu Sans Mono',consolas,'Courier New',monospace\"><span style=\"font-weight: bold\"> Non-trainable params: </span><span style=\"color: #00af00; text-decoration-color: #00af00\">0</span> (0.00 B)\n",
              "</pre>\n"
            ],
            "text/plain": [
              "\u001b[1m Non-trainable params: \u001b[0m\u001b[38;5;34m0\u001b[0m (0.00 B)\n"
            ]
          },
          "metadata": {},
          "output_type": "display_data"
        }
      ],
      "source": [
        "input_dim = x_train0.shape[1] #num of columns\n",
        "\n",
        "clear_session()\n",
        "autoencoder = Sequential([Dense(32, input_shape = (input_dim,), activation = 'relu'),\n",
        "                          Dense(16, activation=\"relu\"),\n",
        "                          Dense(32, activation='relu'),\n",
        "                          Dense(input_dim, activation='relu')])\n",
        "\n",
        "autoencoder.summary()"
      ]
    },
    {
      "cell_type": "markdown",
      "metadata": {
        "id": "p9pnMdXE2Y93"
      },
      "source": [
        "* compile + 학습"
      ]
    },
    {
      "cell_type": "code",
      "execution_count": 22,
      "metadata": {
        "colab": {
          "base_uri": "https://localhost:8080/"
        },
        "id": "DZhoXG0a2Y94",
        "outputId": "9b388830-db5b-41a1-a4c5-641d8b24df60"
      },
      "outputs": [
        {
          "name": "stdout",
          "output_type": "stream",
          "text": [
            "Epoch 1/50\n",
            "\u001b[1m15/15\u001b[0m \u001b[32m━━━━━━━━━━━━━━━━━━━━\u001b[0m\u001b[37m\u001b[0m \u001b[1m1s\u001b[0m 8ms/step - loss: 0.1168 - val_loss: 0.0934\n",
            "Epoch 2/50\n",
            "\u001b[1m15/15\u001b[0m \u001b[32m━━━━━━━━━━━━━━━━━━━━\u001b[0m\u001b[37m\u001b[0m \u001b[1m0s\u001b[0m 3ms/step - loss: 0.0878 - val_loss: 0.0717\n",
            "Epoch 3/50\n",
            "\u001b[1m15/15\u001b[0m \u001b[32m━━━━━━━━━━━━━━━━━━━━\u001b[0m\u001b[37m\u001b[0m \u001b[1m0s\u001b[0m 3ms/step - loss: 0.0693 - val_loss: 0.0624\n",
            "Epoch 4/50\n",
            "\u001b[1m15/15\u001b[0m \u001b[32m━━━━━━━━━━━━━━━━━━━━\u001b[0m\u001b[37m\u001b[0m \u001b[1m0s\u001b[0m 3ms/step - loss: 0.0616 - val_loss: 0.0592\n",
            "Epoch 5/50\n",
            "\u001b[1m15/15\u001b[0m \u001b[32m━━━━━━━━━━━━━━━━━━━━\u001b[0m\u001b[37m\u001b[0m \u001b[1m0s\u001b[0m 3ms/step - loss: 0.0590 - val_loss: 0.0586\n",
            "Epoch 6/50\n",
            "\u001b[1m15/15\u001b[0m \u001b[32m━━━━━━━━━━━━━━━━━━━━\u001b[0m\u001b[37m\u001b[0m \u001b[1m0s\u001b[0m 3ms/step - loss: 0.0587 - val_loss: 0.0580\n",
            "Epoch 7/50\n",
            "\u001b[1m15/15\u001b[0m \u001b[32m━━━━━━━━━━━━━━━━━━━━\u001b[0m\u001b[37m\u001b[0m \u001b[1m0s\u001b[0m 4ms/step - loss: 0.0575 - val_loss: 0.0575\n",
            "Epoch 8/50\n",
            "\u001b[1m15/15\u001b[0m \u001b[32m━━━━━━━━━━━━━━━━━━━━\u001b[0m\u001b[37m\u001b[0m \u001b[1m0s\u001b[0m 3ms/step - loss: 0.0551 - val_loss: 0.0417\n",
            "Epoch 9/50\n",
            "\u001b[1m15/15\u001b[0m \u001b[32m━━━━━━━━━━━━━━━━━━━━\u001b[0m\u001b[37m\u001b[0m \u001b[1m0s\u001b[0m 3ms/step - loss: 0.0369 - val_loss: 0.0298\n",
            "Epoch 10/50\n",
            "\u001b[1m15/15\u001b[0m \u001b[32m━━━━━━━━━━━━━━━━━━━━\u001b[0m\u001b[37m\u001b[0m \u001b[1m0s\u001b[0m 3ms/step - loss: 0.0297 - val_loss: 0.0290\n",
            "Epoch 11/50\n",
            "\u001b[1m15/15\u001b[0m \u001b[32m━━━━━━━━━━━━━━━━━━━━\u001b[0m\u001b[37m\u001b[0m \u001b[1m0s\u001b[0m 4ms/step - loss: 0.0288 - val_loss: 0.0286\n",
            "Epoch 12/50\n",
            "\u001b[1m15/15\u001b[0m \u001b[32m━━━━━━━━━━━━━━━━━━━━\u001b[0m\u001b[37m\u001b[0m \u001b[1m0s\u001b[0m 3ms/step - loss: 0.0286 - val_loss: 0.0284\n",
            "Epoch 13/50\n",
            "\u001b[1m15/15\u001b[0m \u001b[32m━━━━━━━━━━━━━━━━━━━━\u001b[0m\u001b[37m\u001b[0m \u001b[1m0s\u001b[0m 3ms/step - loss: 0.0283 - val_loss: 0.0283\n",
            "Epoch 14/50\n",
            "\u001b[1m15/15\u001b[0m \u001b[32m━━━━━━━━━━━━━━━━━━━━\u001b[0m\u001b[37m\u001b[0m \u001b[1m0s\u001b[0m 4ms/step - loss: 0.0285 - val_loss: 0.0280\n",
            "Epoch 15/50\n",
            "\u001b[1m15/15\u001b[0m \u001b[32m━━━━━━━━━━━━━━━━━━━━\u001b[0m\u001b[37m\u001b[0m \u001b[1m0s\u001b[0m 3ms/step - loss: 0.0284 - val_loss: 0.0278\n",
            "Epoch 16/50\n",
            "\u001b[1m15/15\u001b[0m \u001b[32m━━━━━━━━━━━━━━━━━━━━\u001b[0m\u001b[37m\u001b[0m \u001b[1m0s\u001b[0m 4ms/step - loss: 0.0276 - val_loss: 0.0276\n",
            "Epoch 17/50\n",
            "\u001b[1m15/15\u001b[0m \u001b[32m━━━━━━━━━━━━━━━━━━━━\u001b[0m\u001b[37m\u001b[0m \u001b[1m0s\u001b[0m 3ms/step - loss: 0.0280 - val_loss: 0.0274\n",
            "Epoch 18/50\n",
            "\u001b[1m15/15\u001b[0m \u001b[32m━━━━━━━━━━━━━━━━━━━━\u001b[0m\u001b[37m\u001b[0m \u001b[1m0s\u001b[0m 3ms/step - loss: 0.0279 - val_loss: 0.0273\n",
            "Epoch 19/50\n",
            "\u001b[1m15/15\u001b[0m \u001b[32m━━━━━━━━━━━━━━━━━━━━\u001b[0m\u001b[37m\u001b[0m \u001b[1m0s\u001b[0m 3ms/step - loss: 0.0272 - val_loss: 0.0271\n",
            "Epoch 20/50\n",
            "\u001b[1m15/15\u001b[0m \u001b[32m━━━━━━━━━━━━━━━━━━━━\u001b[0m\u001b[37m\u001b[0m \u001b[1m0s\u001b[0m 4ms/step - loss: 0.0268 - val_loss: 0.0270\n",
            "Epoch 21/50\n",
            "\u001b[1m15/15\u001b[0m \u001b[32m━━━━━━━━━━━━━━━━━━━━\u001b[0m\u001b[37m\u001b[0m \u001b[1m0s\u001b[0m 4ms/step - loss: 0.0269 - val_loss: 0.0268\n",
            "Epoch 22/50\n",
            "\u001b[1m15/15\u001b[0m \u001b[32m━━━━━━━━━━━━━━━━━━━━\u001b[0m\u001b[37m\u001b[0m \u001b[1m0s\u001b[0m 4ms/step - loss: 0.0267 - val_loss: 0.0267\n",
            "Epoch 23/50\n",
            "\u001b[1m15/15\u001b[0m \u001b[32m━━━━━━━━━━━━━━━━━━━━\u001b[0m\u001b[37m\u001b[0m \u001b[1m0s\u001b[0m 3ms/step - loss: 0.0263 - val_loss: 0.0266\n",
            "Epoch 24/50\n",
            "\u001b[1m15/15\u001b[0m \u001b[32m━━━━━━━━━━━━━━━━━━━━\u001b[0m\u001b[37m\u001b[0m \u001b[1m0s\u001b[0m 3ms/step - loss: 0.0262 - val_loss: 0.0265\n",
            "Epoch 25/50\n",
            "\u001b[1m15/15\u001b[0m \u001b[32m━━━━━━━━━━━━━━━━━━━━\u001b[0m\u001b[37m\u001b[0m \u001b[1m0s\u001b[0m 3ms/step - loss: 0.0263 - val_loss: 0.0264\n",
            "Epoch 26/50\n",
            "\u001b[1m15/15\u001b[0m \u001b[32m━━━━━━━━━━━━━━━━━━━━\u001b[0m\u001b[37m\u001b[0m \u001b[1m0s\u001b[0m 4ms/step - loss: 0.0262 - val_loss: 0.0264\n",
            "Epoch 27/50\n",
            "\u001b[1m15/15\u001b[0m \u001b[32m━━━━━━━━━━━━━━━━━━━━\u001b[0m\u001b[37m\u001b[0m \u001b[1m0s\u001b[0m 3ms/step - loss: 0.0267 - val_loss: 0.0263\n",
            "Epoch 28/50\n",
            "\u001b[1m15/15\u001b[0m \u001b[32m━━━━━━━━━━━━━━━━━━━━\u001b[0m\u001b[37m\u001b[0m \u001b[1m0s\u001b[0m 3ms/step - loss: 0.0261 - val_loss: 0.0263\n",
            "Epoch 29/50\n",
            "\u001b[1m15/15\u001b[0m \u001b[32m━━━━━━━━━━━━━━━━━━━━\u001b[0m\u001b[37m\u001b[0m \u001b[1m0s\u001b[0m 4ms/step - loss: 0.0260 - val_loss: 0.0262\n",
            "Epoch 30/50\n",
            "\u001b[1m15/15\u001b[0m \u001b[32m━━━━━━━━━━━━━━━━━━━━\u001b[0m\u001b[37m\u001b[0m \u001b[1m0s\u001b[0m 3ms/step - loss: 0.0259 - val_loss: 0.0262\n",
            "Epoch 31/50\n",
            "\u001b[1m15/15\u001b[0m \u001b[32m━━━━━━━━━━━━━━━━━━━━\u001b[0m\u001b[37m\u001b[0m \u001b[1m0s\u001b[0m 3ms/step - loss: 0.0258 - val_loss: 0.0262\n",
            "Epoch 32/50\n",
            "\u001b[1m15/15\u001b[0m \u001b[32m━━━━━━━━━━━━━━━━━━━━\u001b[0m\u001b[37m\u001b[0m \u001b[1m0s\u001b[0m 3ms/step - loss: 0.0262 - val_loss: 0.0261\n",
            "Epoch 33/50\n",
            "\u001b[1m15/15\u001b[0m \u001b[32m━━━━━━━━━━━━━━━━━━━━\u001b[0m\u001b[37m\u001b[0m \u001b[1m0s\u001b[0m 3ms/step - loss: 0.0261 - val_loss: 0.0261\n",
            "Epoch 34/50\n",
            "\u001b[1m15/15\u001b[0m \u001b[32m━━━━━━━━━━━━━━━━━━━━\u001b[0m\u001b[37m\u001b[0m \u001b[1m0s\u001b[0m 3ms/step - loss: 0.0262 - val_loss: 0.0261\n",
            "Epoch 35/50\n",
            "\u001b[1m15/15\u001b[0m \u001b[32m━━━━━━━━━━━━━━━━━━━━\u001b[0m\u001b[37m\u001b[0m \u001b[1m0s\u001b[0m 3ms/step - loss: 0.0257 - val_loss: 0.0261\n",
            "Epoch 36/50\n",
            "\u001b[1m15/15\u001b[0m \u001b[32m━━━━━━━━━━━━━━━━━━━━\u001b[0m\u001b[37m\u001b[0m \u001b[1m0s\u001b[0m 3ms/step - loss: 0.0259 - val_loss: 0.0260\n",
            "Epoch 37/50\n",
            "\u001b[1m15/15\u001b[0m \u001b[32m━━━━━━━━━━━━━━━━━━━━\u001b[0m\u001b[37m\u001b[0m \u001b[1m0s\u001b[0m 3ms/step - loss: 0.0262 - val_loss: 0.0260\n",
            "Epoch 38/50\n",
            "\u001b[1m15/15\u001b[0m \u001b[32m━━━━━━━━━━━━━━━━━━━━\u001b[0m\u001b[37m\u001b[0m \u001b[1m0s\u001b[0m 3ms/step - loss: 0.0260 - val_loss: 0.0260\n",
            "Epoch 39/50\n",
            "\u001b[1m15/15\u001b[0m \u001b[32m━━━━━━━━━━━━━━━━━━━━\u001b[0m\u001b[37m\u001b[0m \u001b[1m0s\u001b[0m 3ms/step - loss: 0.0254 - val_loss: 0.0259\n",
            "Epoch 40/50\n",
            "\u001b[1m15/15\u001b[0m \u001b[32m━━━━━━━━━━━━━━━━━━━━\u001b[0m\u001b[37m\u001b[0m \u001b[1m0s\u001b[0m 3ms/step - loss: 0.0258 - val_loss: 0.0259\n",
            "Epoch 41/50\n",
            "\u001b[1m15/15\u001b[0m \u001b[32m━━━━━━━━━━━━━━━━━━━━\u001b[0m\u001b[37m\u001b[0m \u001b[1m0s\u001b[0m 4ms/step - loss: 0.0256 - val_loss: 0.0259\n",
            "Epoch 42/50\n",
            "\u001b[1m15/15\u001b[0m \u001b[32m━━━━━━━━━━━━━━━━━━━━\u001b[0m\u001b[37m\u001b[0m \u001b[1m0s\u001b[0m 3ms/step - loss: 0.0257 - val_loss: 0.0258\n",
            "Epoch 43/50\n",
            "\u001b[1m15/15\u001b[0m \u001b[32m━━━━━━━━━━━━━━━━━━━━\u001b[0m\u001b[37m\u001b[0m \u001b[1m0s\u001b[0m 3ms/step - loss: 0.0258 - val_loss: 0.0258\n",
            "Epoch 44/50\n",
            "\u001b[1m15/15\u001b[0m \u001b[32m━━━━━━━━━━━━━━━━━━━━\u001b[0m\u001b[37m\u001b[0m \u001b[1m0s\u001b[0m 3ms/step - loss: 0.0255 - val_loss: 0.0187\n",
            "Epoch 45/50\n",
            "\u001b[1m15/15\u001b[0m \u001b[32m━━━━━━━━━━━━━━━━━━━━\u001b[0m\u001b[37m\u001b[0m \u001b[1m0s\u001b[0m 4ms/step - loss: 0.0163 - val_loss: 0.0149\n",
            "Epoch 46/50\n",
            "\u001b[1m15/15\u001b[0m \u001b[32m━━━━━━━━━━━━━━━━━━━━\u001b[0m\u001b[37m\u001b[0m \u001b[1m0s\u001b[0m 4ms/step - loss: 0.0140 - val_loss: 0.0143\n",
            "Epoch 47/50\n",
            "\u001b[1m15/15\u001b[0m \u001b[32m━━━━━━━━━━━━━━━━━━━━\u001b[0m\u001b[37m\u001b[0m \u001b[1m0s\u001b[0m 4ms/step - loss: 0.0138 - val_loss: 0.0141\n",
            "Epoch 48/50\n",
            "\u001b[1m15/15\u001b[0m \u001b[32m━━━━━━━━━━━━━━━━━━━━\u001b[0m\u001b[37m\u001b[0m \u001b[1m0s\u001b[0m 4ms/step - loss: 0.0138 - val_loss: 0.0141\n",
            "Epoch 49/50\n",
            "\u001b[1m15/15\u001b[0m \u001b[32m━━━━━━━━━━━━━━━━━━━━\u001b[0m\u001b[37m\u001b[0m \u001b[1m0s\u001b[0m 3ms/step - loss: 0.0138 - val_loss: 0.0140\n",
            "Epoch 50/50\n",
            "\u001b[1m15/15\u001b[0m \u001b[32m━━━━━━━━━━━━━━━━━━━━\u001b[0m\u001b[37m\u001b[0m \u001b[1m0s\u001b[0m 3ms/step - loss: 0.0140 - val_loss: 0.0140\n"
          ]
        }
      ],
      "source": [
        "autoencoder.compile(optimizer='adam', loss='mse')\n",
        "\n",
        "history = autoencoder.fit(x=x_train0, y=x_train0,\n",
        "                          epochs=50, batch_size=64,\n",
        "                          validation_split = .2).history"
      ]
    },
    {
      "cell_type": "code",
      "execution_count": 23,
      "metadata": {
        "colab": {
          "base_uri": "https://localhost:8080/",
          "height": 449
        },
        "id": "uL9cw8Dh2Y94",
        "outputId": "8ee96d6b-262a-4d4f-c6c5-86c57db04d81"
      },
      "outputs": [
        {
          "data": {
            "image/png": "[encoded data removed]",
            "text/plain": [
              "<Figure size 640x480 with 1 Axes>"
            ]
          },
          "metadata": {},
          "output_type": "display_data"
        }
      ],
      "source": [
        "plot_learning_curve(history)"
      ]
    },
    {
      "cell_type": "markdown",
      "metadata": {
        "id": "9kiTRqUA2Y94"
      },
      "source": [
        "### 2) 예측 및 Reconstruction Error 계산"
      ]
    },
    {
      "cell_type": "markdown",
      "metadata": {
        "id": "2sAfU2tc2ZPy"
      },
      "source": [
        "#### ① 예측"
      ]
    },
    {
      "cell_type": "code",
      "execution_count": 24,
      "metadata": {
        "colab": {
          "base_uri": "https://localhost:8080/"
        },
        "id": "QL0_KgAH2Y94",
        "outputId": "56381b90-1494-4257-f5cf-b7d385f3fa63"
      },
      "outputs": [
        {
          "name": "stdout",
          "output_type": "stream",
          "text": [
            "\u001b[1m10/10\u001b[0m \u001b[32m━━━━━━━━━━━━━━━━━━━━\u001b[0m\u001b[37m\u001b[0m \u001b[1m0s\u001b[0m 3ms/step \n"
          ]
        }
      ],
      "source": [
        "pred = autoencoder.predict(x_val)"
      ]
    },
    {
      "cell_type": "markdown",
      "metadata": {
        "id": "gUoMCVIc2ac8"
      },
      "source": [
        "#### ② 재구성 오차 계산"
      ]
    },
    {
      "cell_type": "code",
      "execution_count": 25,
      "metadata": {
        "colab": {
          "base_uri": "https://localhost:8080/",
          "height": 472
        },
        "id": "fr-q9OPP2Y95",
        "outputId": "be7fd4d2-d14b-4c6b-e540-ccb13e18ce47"
      },
      "outputs": [
        {
          "data": {
            "image/png": "[encoded data removed]",
            "text/plain": [
              "<Figure size 640x480 with 1 Axes>"
            ]
          },
          "metadata": {},
          "output_type": "display_data"
        }
      ],
      "source": [
        "result = recon_err_plot(x_val, pred, y_val, .03)"
      ]
    },
    {
      "cell_type": "code",
      "execution_count": 26,
      "metadata": {
        "colab": {
          "base_uri": "https://localhost:8080/",
          "height": 206
        },
        "id": "nDsNMfLBqih1",
        "outputId": "c354256f-ad93-40ca-ca15-66f689c216de"
      },
      "outputs": [
        {
          "data": {
            "text/html": [
              "<div>\n",
              "<style scoped>\n",
              "    .dataframe tbody tr th:only-of-type {\n",
              "        vertical-align: middle;\n",
              "    }\n",
              "\n",
              "    .dataframe tbody tr th {\n",
              "        vertical-align: top;\n",
              "    }\n",
              "\n",
              "    .dataframe thead th {\n",
              "        text-align: right;\n",
              "    }\n",
              "</style>\n",
              "<table border=\"1\" class=\"dataframe\">\n",
              "  <thead>\n",
              "    <tr style=\"text-align: right;\">\n",
              "      <th></th>\n",
              "      <th>index</th>\n",
              "      <th>Reconstruction_error</th>\n",
              "      <th>True_class</th>\n",
              "    </tr>\n",
              "  </thead>\n",
              "  <tbody>\n",
              "    <tr>\n",
              "      <th>0</th>\n",
              "      <td>886</td>\n",
              "      <td>0.007131</td>\n",
              "      <td>0</td>\n",
              "    </tr>\n",
              "    <tr>\n",
              "      <th>1</th>\n",
              "      <td>759</td>\n",
              "      <td>0.016038</td>\n",
              "      <td>0</td>\n",
              "    </tr>\n",
              "    <tr>\n",
              "      <th>2</th>\n",
              "      <td>724</td>\n",
              "      <td>0.014321</td>\n",
              "      <td>0</td>\n",
              "    </tr>\n",
              "    <tr>\n",
              "      <th>3</th>\n",
              "      <td>737</td>\n",
              "      <td>0.015056</td>\n",
              "      <td>0</td>\n",
              "    </tr>\n",
              "    <tr>\n",
              "      <th>4</th>\n",
              "      <td>1352</td>\n",
              "      <td>0.013021</td>\n",
              "      <td>0</td>\n",
              "    </tr>\n",
              "  </tbody>\n",
              "</table>\n",
              "</div>"
            ],
            "text/plain": [
              "   index  Reconstruction_error  True_class\n",
              "0    886              0.007131           0\n",
              "1    759              0.016038           0\n",
              "2    724              0.014321           0\n",
              "3    737              0.015056           0\n",
              "4   1352              0.013021           0"
            ]
          },
          "execution_count": 26,
          "metadata": {},
          "output_type": "execute_result"
        }
      ],
      "source": [
        "result.head()"
      ]
    },
    {
      "cell_type": "markdown",
      "metadata": {
        "id": "MB57pIRA2eYd"
      },
      "source": [
        "#### ③ Threshold 찾기 : precision_recall_f1_curve"
      ]
    },
    {
      "cell_type": "code",
      "execution_count": 27,
      "metadata": {
        "colab": {
          "base_uri": "https://localhost:8080/",
          "height": 484
        },
        "id": "GiN6REJx2Y95",
        "outputId": "b3f7c2c6-cc8e-4a55-d739-6f4b47261019"
      },
      "outputs": [
        {
          "name": "stderr",
          "output_type": "stream",
          "text": [
            "/tmp/ipykernel_14031/3279574342.py:6: RuntimeWarning: divide by zero encountered in divide\n",
            "  f1 = 2 / (1/precision + 1/recall)\n"
          ]
        },
        {
          "data": {
            "image/png": "[encoded data removed]",
            "text/plain": [
              "<Figure size 640x480 with 1 Axes>"
            ]
          },
          "metadata": {},
          "output_type": "display_data"
        }
      ],
      "source": [
        "precision, recall, f1, thresholds = prec_rec_f1_curve(result['True_class'], result['Reconstruction_error'])"
      ]
    },
    {
      "cell_type": "code",
      "execution_count": 28,
      "metadata": {
        "colab": {
          "base_uri": "https://localhost:8080/"
        },
        "id": "afihgy3K2Y95",
        "outputId": "3a2fbc0c-5992-4e28-a9e0-edc01bf4eb96"
      },
      "outputs": [
        {
          "data": {
            "text/plain": [
              "0.010269413796610675"
            ]
          },
          "execution_count": 28,
          "metadata": {},
          "output_type": "execute_result"
        }
      ],
      "source": [
        "thres_f1_max = thresholds[np.argmax(f1)]\n",
        "thres_f1_max"
      ]
    },
    {
      "cell_type": "markdown",
      "metadata": {
        "id": "Fch0Rr-62pIb"
      },
      "source": [
        "#### ④ f1을 최대화 하는 threshold 값으로 잘라서 평가"
      ]
    },
    {
      "cell_type": "code",
      "execution_count": 29,
      "metadata": {
        "colab": {
          "base_uri": "https://localhost:8080/"
        },
        "id": "Q9--GYva2Y96",
        "outputId": "11054b2a-89c6-4cea-85a0-aab042cdd42e"
      },
      "outputs": [
        {
          "name": "stdout",
          "output_type": "stream",
          "text": [
            "< confusion matrix >\n",
            "\n",
            "[[ 97 200]\n",
            " [  3  14]]\n",
            "\n",
            "============================================================\n",
            "\n",
            "< classification_report >\n",
            "\n",
            "              precision    recall  f1-score   support\n",
            "\n",
            "           0       0.97      0.33      0.49       297\n",
            "           1       0.07      0.82      0.12        17\n",
            "\n",
            "    accuracy                           0.35       314\n",
            "   macro avg       0.52      0.58      0.30       314\n",
            "weighted avg       0.92      0.35      0.47       314\n",
            "\n"
          ]
        }
      ],
      "source": [
        "classification_report2(result['True_class'], result['Reconstruction_error'], thres_f1_max)"
      ]
    },
    {
      "cell_type": "markdown",
      "metadata": {
        "id": "8Mb8gz6dCOIn"
      },
      "source": [
        "## 4.실습 : mobile 데이터"
      ]
    },
    {
      "cell_type": "markdown",
      "metadata": {
        "id": "xu8P-_l2COIo"
      },
      "source": [
        "### 1) 데이터셋 불러오기"
      ]
    },
    {
      "cell_type": "code",
      "execution_count": 31,
      "metadata": {
        "id": "2zyxe46-Bdms"
      },
      "outputs": [],
      "source": [
        "path = \"mobile_class_imbalance.csv\"\n",
        "data = pd.read_csv(path)\n",
        "\n",
        "target = 'CHURN'\n",
        "x = data.drop(target, axis = 1)\n",
        "y = data.loc[:,target]"
      ]
    },
    {
      "cell_type": "code",
      "execution_count": 32,
      "metadata": {
        "colab": {
          "base_uri": "https://localhost:8080/",
          "height": 226
        },
        "id": "5W3wA7Y_U6Pk",
        "outputId": "14546a38-d067-450a-e756-09ab8a649eca"
      },
      "outputs": [
        {
          "data": {
            "text/html": [
              "<div>\n",
              "<style scoped>\n",
              "    .dataframe tbody tr th:only-of-type {\n",
              "        vertical-align: middle;\n",
              "    }\n",
              "\n",
              "    .dataframe tbody tr th {\n",
              "        vertical-align: top;\n",
              "    }\n",
              "\n",
              "    .dataframe thead th {\n",
              "        text-align: right;\n",
              "    }\n",
              "</style>\n",
              "<table border=\"1\" class=\"dataframe\">\n",
              "  <thead>\n",
              "    <tr style=\"text-align: right;\">\n",
              "      <th></th>\n",
              "      <th>COLLEGE</th>\n",
              "      <th>INCOME</th>\n",
              "      <th>OVERAGE</th>\n",
              "      <th>LEFTOVER</th>\n",
              "      <th>HOUSE</th>\n",
              "      <th>HANDSET_PRICE</th>\n",
              "      <th>OVER_15MINS_CALLS_PER_MONTH</th>\n",
              "      <th>AVERAGE_CALL_DURATION</th>\n",
              "      <th>REPORTED_SATISFACTION</th>\n",
              "      <th>REPORTED_USAGE_LEVEL</th>\n",
              "      <th>CONSIDERING_CHANGE_OF_PLAN</th>\n",
              "      <th>CHURN</th>\n",
              "    </tr>\n",
              "  </thead>\n",
              "  <tbody>\n",
              "    <tr>\n",
              "      <th>0</th>\n",
              "      <td>1</td>\n",
              "      <td>145297</td>\n",
              "      <td>71</td>\n",
              "      <td>37</td>\n",
              "      <td>969515</td>\n",
              "      <td>478</td>\n",
              "      <td>4</td>\n",
              "      <td>1</td>\n",
              "      <td>avg</td>\n",
              "      <td>very_little</td>\n",
              "      <td>no</td>\n",
              "      <td>0</td>\n",
              "    </tr>\n",
              "    <tr>\n",
              "      <th>1</th>\n",
              "      <td>0</td>\n",
              "      <td>115956</td>\n",
              "      <td>0</td>\n",
              "      <td>11</td>\n",
              "      <td>899704</td>\n",
              "      <td>710</td>\n",
              "      <td>0</td>\n",
              "      <td>5</td>\n",
              "      <td>unsat</td>\n",
              "      <td>very_high</td>\n",
              "      <td>actively_looking_into_it</td>\n",
              "      <td>0</td>\n",
              "    </tr>\n",
              "    <tr>\n",
              "      <th>2</th>\n",
              "      <td>0</td>\n",
              "      <td>40683</td>\n",
              "      <td>212</td>\n",
              "      <td>15</td>\n",
              "      <td>844664</td>\n",
              "      <td>188</td>\n",
              "      <td>24</td>\n",
              "      <td>5</td>\n",
              "      <td>very_unsat</td>\n",
              "      <td>very_little</td>\n",
              "      <td>no</td>\n",
              "      <td>0</td>\n",
              "    </tr>\n",
              "    <tr>\n",
              "      <th>3</th>\n",
              "      <td>1</td>\n",
              "      <td>33043</td>\n",
              "      <td>0</td>\n",
              "      <td>81</td>\n",
              "      <td>539732</td>\n",
              "      <td>162</td>\n",
              "      <td>1</td>\n",
              "      <td>1</td>\n",
              "      <td>unsat</td>\n",
              "      <td>very_little</td>\n",
              "      <td>never_thought</td>\n",
              "      <td>0</td>\n",
              "    </tr>\n",
              "    <tr>\n",
              "      <th>4</th>\n",
              "      <td>1</td>\n",
              "      <td>50743</td>\n",
              "      <td>0</td>\n",
              "      <td>22</td>\n",
              "      <td>430005</td>\n",
              "      <td>318</td>\n",
              "      <td>16</td>\n",
              "      <td>5</td>\n",
              "      <td>unsat</td>\n",
              "      <td>very_high</td>\n",
              "      <td>actively_looking_into_it</td>\n",
              "      <td>0</td>\n",
              "    </tr>\n",
              "  </tbody>\n",
              "</table>\n",
              "</div>"
            ],
            "text/plain": [
              "   COLLEGE  INCOME  OVERAGE  LEFTOVER   HOUSE  HANDSET_PRICE  \\\n",
              "0        1  145297       71        37  969515            478   \n",
              "1        0  115956        0        11  899704            710   \n",
              "2        0   40683      212        15  844664            188   \n",
              "3        1   33043        0        81  539732            162   \n",
              "4        1   50743        0        22  430005            318   \n",
              "\n",
              "   OVER_15MINS_CALLS_PER_MONTH  AVERAGE_CALL_DURATION REPORTED_SATISFACTION  \\\n",
              "0                            4                      1                   avg   \n",
              "1                            0                      5                 unsat   \n",
              "2                           24                      5            very_unsat   \n",
              "3                            1                      1                 unsat   \n",
              "4                           16                      5                 unsat   \n",
              "\n",
              "  REPORTED_USAGE_LEVEL CONSIDERING_CHANGE_OF_PLAN  CHURN  \n",
              "0          very_little                         no      0  \n",
              "1            very_high   actively_looking_into_it      0  \n",
              "2          very_little                         no      0  \n",
              "3          very_little              never_thought      0  \n",
              "4            very_high   actively_looking_into_it      0  "
            ]
          },
          "execution_count": 32,
          "metadata": {},
          "output_type": "execute_result"
        }
      ],
      "source": [
        "data.head()"
      ]
    },
    {
      "cell_type": "markdown",
      "metadata": {
        "id": "Gj8GcKR3ar5B"
      },
      "source": [
        "### 2) 데이터 준비"
      ]
    },
    {
      "cell_type": "markdown",
      "metadata": {
        "id": "pxgEVZ9FaphV"
      },
      "source": [
        "* 가변수화"
      ]
    },
    {
      "cell_type": "code",
      "execution_count": 33,
      "metadata": {
        "id": "FMKrp7I5aq5T"
      },
      "outputs": [],
      "source": [
        "cat = ['REPORTED_SATISFACTION','REPORTED_USAGE_LEVEL','CONSIDERING_CHANGE_OF_PLAN']\n",
        "\n",
        "for v in cat :\n",
        "    dumm = pd.get_dummies(x[v], prefix=v, drop_first=True)\n",
        "    x = pd.concat([x, dumm], axis=1)\n",
        "    x.drop(v, axis=1, inplace = True)"
      ]
    },
    {
      "cell_type": "markdown",
      "metadata": {
        "id": "l8Y_ixwT6RXC"
      },
      "source": [
        "* 데이터 분할"
      ]
    },
    {
      "cell_type": "code",
      "execution_count": 34,
      "metadata": {
        "id": "eqAnzAbDikcr"
      },
      "outputs": [],
      "source": [
        "x_train, x_test, y_train, y_test = train_test_split(x, y, test_size = 2000, random_state=2021)\n",
        "x_train, x_val, y_train, y_val = train_test_split(x_train, y_train, test_size = 2000, random_state=2021)"
      ]
    },
    {
      "cell_type": "markdown",
      "metadata": {
        "id": "GZdv6lRaCOIr"
      },
      "source": [
        "* 스케일링"
      ]
    },
    {
      "cell_type": "code",
      "execution_count": 35,
      "metadata": {
        "id": "xd6PxmYuCOIr"
      },
      "outputs": [],
      "source": [
        "scaler = MinMaxScaler()\n",
        "x_train = scaler.fit_transform(x_train)\n",
        "x_val = scaler.transform(x_val)\n",
        "x_test = scaler.transform(x_test)"
      ]
    },
    {
      "cell_type": "markdown",
      "metadata": {
        "id": "qBm5eyRaCUmB"
      },
      "source": [
        "* Normal 데이터만 저장"
      ]
    },
    {
      "cell_type": "code",
      "execution_count": 36,
      "metadata": {
        "id": "GePZNdcTCUmB"
      },
      "outputs": [],
      "source": [
        "# 학습을 위해서는 Normal 데이터만 이용한다.\n",
        "x_train0 = x_train[y_train == 0]"
      ]
    },
    {
      "cell_type": "markdown",
      "metadata": {
        "id": "yFgEBoVFCUmC"
      },
      "source": [
        "### 2) 모델링 : AE"
      ]
    },
    {
      "cell_type": "markdown",
      "metadata": {
        "id": "s7RTyzcmCUmC"
      },
      "source": [
        "#### ① 학습"
      ]
    },
    {
      "cell_type": "code",
      "execution_count": 40,
      "metadata": {
        "id": "DPiJQXh2cIQr"
      },
      "outputs": [],
      "source": [
        "input_dim = x_train0.shape[1]"
      ]
    },
    {
      "cell_type": "code",
      "execution_count": 41,
      "metadata": {
        "id": "N-9CcGA_cIFi"
      },
      "outputs": [
        {
          "name": "stderr",
          "output_type": "stream",
          "text": [
            "/home/clip968/miniforge3/envs/pytorch/lib/python3.10/site-packages/keras/src/layers/core/dense.py:87: UserWarning: Do not pass an `input_shape`/`input_dim` argument to a layer. When using Sequential models, prefer using an `Input(shape)` object as the first layer in the model instead.\n",
            "  super().__init__(activity_regularizer=activity_regularizer, **kwargs)\n"
          ]
        },
        {
          "data": {
            "text/html": [
              "<pre style=\"white-space:pre;overflow-x:auto;line-height:normal;font-family:Menlo,'DejaVu Sans Mono',consolas,'Courier New',monospace\"><span style=\"font-weight: bold\">Model: \"sequential\"</span>\n",
              "</pre>\n"
            ],
            "text/plain": [
              "\u001b[1mModel: \"sequential\"\u001b[0m\n"
            ]
          },
          "metadata": {},
          "output_type": "display_data"
        },
        {
          "data": {
            "text/html": [
              "<pre style=\"white-space:pre;overflow-x:auto;line-height:normal;font-family:Menlo,'DejaVu Sans Mono',consolas,'Courier New',monospace\">┏━━━━━━━━━━━━━━━━━━━━━━━━━━━━━━━━━┳━━━━━━━━━━━━━━━━━━━━━━━━┳━━━━━━━━━━━━━━━┓\n",
              "┃<span style=\"font-weight: bold\"> Layer (type)                    </span>┃<span style=\"font-weight: bold\"> Output Shape           </span>┃<span style=\"font-weight: bold\">       Param # </span>┃\n",
              "┡━━━━━━━━━━━━━━━━━━━━━━━━━━━━━━━━━╇━━━━━━━━━━━━━━━━━━━━━━━━╇━━━━━━━━━━━━━━━┩\n",
              "│ dense (<span style=\"color: #0087ff; text-decoration-color: #0087ff\">Dense</span>)                   │ (<span style=\"color: #00d7ff; text-decoration-color: #00d7ff\">None</span>, <span style=\"color: #00af00; text-decoration-color: #00af00\">32</span>)             │           <span style=\"color: #00af00; text-decoration-color: #00af00\">672</span> │\n",
              "├─────────────────────────────────┼────────────────────────┼───────────────┤\n",
              "│ dense_1 (<span style=\"color: #0087ff; text-decoration-color: #0087ff\">Dense</span>)                 │ (<span style=\"color: #00d7ff; text-decoration-color: #00d7ff\">None</span>, <span style=\"color: #00af00; text-decoration-color: #00af00\">16</span>)             │           <span style=\"color: #00af00; text-decoration-color: #00af00\">528</span> │\n",
              "├─────────────────────────────────┼────────────────────────┼───────────────┤\n",
              "│ dense_2 (<span style=\"color: #0087ff; text-decoration-color: #0087ff\">Dense</span>)                 │ (<span style=\"color: #00d7ff; text-decoration-color: #00d7ff\">None</span>, <span style=\"color: #00af00; text-decoration-color: #00af00\">32</span>)             │           <span style=\"color: #00af00; text-decoration-color: #00af00\">544</span> │\n",
              "├─────────────────────────────────┼────────────────────────┼───────────────┤\n",
              "│ dense_3 (<span style=\"color: #0087ff; text-decoration-color: #0087ff\">Dense</span>)                 │ (<span style=\"color: #00d7ff; text-decoration-color: #00d7ff\">None</span>, <span style=\"color: #00af00; text-decoration-color: #00af00\">20</span>)             │           <span style=\"color: #00af00; text-decoration-color: #00af00\">660</span> │\n",
              "└─────────────────────────────────┴────────────────────────┴───────────────┘\n",
              "</pre>\n"
            ],
            "text/plain": [
              "┏━━━━━━━━━━━━━━━━━━━━━━━━━━━━━━━━━┳━━━━━━━━━━━━━━━━━━━━━━━━┳━━━━━━━━━━━━━━━┓\n",
              "┃\u001b[1m \u001b[0m\u001b[1mLayer (type)                   \u001b[0m\u001b[1m \u001b[0m┃\u001b[1m \u001b[0m\u001b[1mOutput Shape          \u001b[0m\u001b[1m \u001b[0m┃\u001b[1m \u001b[0m\u001b[1m      Param #\u001b[0m\u001b[1m \u001b[0m┃\n",
              "┡━━━━━━━━━━━━━━━━━━━━━━━━━━━━━━━━━╇━━━━━━━━━━━━━━━━━━━━━━━━╇━━━━━━━━━━━━━━━┩\n",
              "│ dense (\u001b[38;5;33mDense\u001b[0m)                   │ (\u001b[38;5;45mNone\u001b[0m, \u001b[38;5;34m32\u001b[0m)             │           \u001b[38;5;34m672\u001b[0m │\n",
              "├─────────────────────────────────┼────────────────────────┼───────────────┤\n",
              "│ dense_1 (\u001b[38;5;33mDense\u001b[0m)                 │ (\u001b[38;5;45mNone\u001b[0m, \u001b[38;5;34m16\u001b[0m)             │           \u001b[38;5;34m528\u001b[0m │\n",
              "├─────────────────────────────────┼────────────────────────┼───────────────┤\n",
              "│ dense_2 (\u001b[38;5;33mDense\u001b[0m)                 │ (\u001b[38;5;45mNone\u001b[0m, \u001b[38;5;34m32\u001b[0m)             │           \u001b[38;5;34m544\u001b[0m │\n",
              "├─────────────────────────────────┼────────────────────────┼───────────────┤\n",
              "│ dense_3 (\u001b[38;5;33mDense\u001b[0m)                 │ (\u001b[38;5;45mNone\u001b[0m, \u001b[38;5;34m20\u001b[0m)             │           \u001b[38;5;34m660\u001b[0m │\n",
              "└─────────────────────────────────┴────────────────────────┴───────────────┘\n"
            ]
          },
          "metadata": {},
          "output_type": "display_data"
        },
        {
          "data": {
            "text/html": [
              "<pre style=\"white-space:pre;overflow-x:auto;line-height:normal;font-family:Menlo,'DejaVu Sans Mono',consolas,'Courier New',monospace\"><span style=\"font-weight: bold\"> Total params: </span><span style=\"color: #00af00; text-decoration-color: #00af00\">2,404</span> (9.39 KB)\n",
              "</pre>\n"
            ],
            "text/plain": [
              "\u001b[1m Total params: \u001b[0m\u001b[38;5;34m2,404\u001b[0m (9.39 KB)\n"
            ]
          },
          "metadata": {},
          "output_type": "display_data"
        },
        {
          "data": {
            "text/html": [
              "<pre style=\"white-space:pre;overflow-x:auto;line-height:normal;font-family:Menlo,'DejaVu Sans Mono',consolas,'Courier New',monospace\"><span style=\"font-weight: bold\"> Trainable params: </span><span style=\"color: #00af00; text-decoration-color: #00af00\">2,404</span> (9.39 KB)\n",
              "</pre>\n"
            ],
            "text/plain": [
              "\u001b[1m Trainable params: \u001b[0m\u001b[38;5;34m2,404\u001b[0m (9.39 KB)\n"
            ]
          },
          "metadata": {},
          "output_type": "display_data"
        },
        {
          "data": {
            "text/html": [
              "<pre style=\"white-space:pre;overflow-x:auto;line-height:normal;font-family:Menlo,'DejaVu Sans Mono',consolas,'Courier New',monospace\"><span style=\"font-weight: bold\"> Non-trainable params: </span><span style=\"color: #00af00; text-decoration-color: #00af00\">0</span> (0.00 B)\n",
              "</pre>\n"
            ],
            "text/plain": [
              "\u001b[1m Non-trainable params: \u001b[0m\u001b[38;5;34m0\u001b[0m (0.00 B)\n"
            ]
          },
          "metadata": {},
          "output_type": "display_data"
        }
      ],
      "source": [
        "clear_session()\n",
        "autoencoder = Sequential([Dense(32, input_shape = (input_dim,), activation = 'relu'),\n",
        "                          Dense(16, activation=\"relu\"),\n",
        "                          Dense(32, activation='relu'),\n",
        "                          Dense(input_dim, activation='relu')])\n",
        "autoencoder.summary()"
      ]
    },
    {
      "cell_type": "markdown",
      "metadata": {
        "id": "bZxhueVmCUmC"
      },
      "source": [
        "* compile + 학습"
      ]
    },
    {
      "cell_type": "code",
      "execution_count": 42,
      "metadata": {
        "id": "HXt3rsGIcKuo"
      },
      "outputs": [
        {
          "name": "stdout",
          "output_type": "stream",
          "text": [
            "Epoch 1/50\n"
          ]
        },
        {
          "name": "stdout",
          "output_type": "stream",
          "text": [
            "\u001b[1m79/79\u001b[0m \u001b[32m━━━━━━━━━━━━━━━━━━━━\u001b[0m\u001b[37m\u001b[0m \u001b[1m1s\u001b[0m 2ms/step - loss: 0.1647 - val_loss: 0.1140\n",
            "Epoch 2/50\n",
            "\u001b[1m79/79\u001b[0m \u001b[32m━━━━━━━━━━━━━━━━━━━━\u001b[0m\u001b[37m\u001b[0m \u001b[1m0s\u001b[0m 1ms/step - loss: 0.1023 - val_loss: 0.0672\n",
            "Epoch 3/50\n",
            "\u001b[1m79/79\u001b[0m \u001b[32m━━━━━━━━━━━━━━━━━━━━\u001b[0m\u001b[37m\u001b[0m \u001b[1m0s\u001b[0m 1ms/step - loss: 0.0617 - val_loss: 0.0532\n",
            "Epoch 4/50\n",
            "\u001b[1m79/79\u001b[0m \u001b[32m━━━━━━━━━━━━━━━━━━━━\u001b[0m\u001b[37m\u001b[0m \u001b[1m0s\u001b[0m 1ms/step - loss: 0.0494 - val_loss: 0.0405\n",
            "Epoch 5/50\n",
            "\u001b[1m79/79\u001b[0m \u001b[32m━━━━━━━━━━━━━━━━━━━━\u001b[0m\u001b[37m\u001b[0m \u001b[1m0s\u001b[0m 1ms/step - loss: 0.0383 - val_loss: 0.0371\n",
            "Epoch 6/50\n",
            "\u001b[1m79/79\u001b[0m \u001b[32m━━━━━━━━━━━━━━━━━━━━\u001b[0m\u001b[37m\u001b[0m \u001b[1m0s\u001b[0m 1ms/step - loss: 0.0358 - val_loss: 0.0362\n",
            "Epoch 7/50\n",
            "\u001b[1m79/79\u001b[0m \u001b[32m━━━━━━━━━━━━━━━━━━━━\u001b[0m\u001b[37m\u001b[0m \u001b[1m0s\u001b[0m 1ms/step - loss: 0.0349 - val_loss: 0.0357\n",
            "Epoch 8/50\n",
            "\u001b[1m79/79\u001b[0m \u001b[32m━━━━━━━━━━━━━━━━━━━━\u001b[0m\u001b[37m\u001b[0m \u001b[1m0s\u001b[0m 1ms/step - loss: 0.0346 - val_loss: 0.0353\n",
            "Epoch 9/50\n",
            "\u001b[1m79/79\u001b[0m \u001b[32m━━━━━━━━━━━━━━━━━━━━\u001b[0m\u001b[37m\u001b[0m \u001b[1m0s\u001b[0m 1ms/step - loss: 0.0342 - val_loss: 0.0350\n",
            "Epoch 10/50\n",
            "\u001b[1m79/79\u001b[0m \u001b[32m━━━━━━━━━━━━━━━━━━━━\u001b[0m\u001b[37m\u001b[0m \u001b[1m0s\u001b[0m 1ms/step - loss: 0.0344 - val_loss: 0.0347\n",
            "Epoch 11/50\n",
            "\u001b[1m79/79\u001b[0m \u001b[32m━━━━━━━━━━━━━━━━━━━━\u001b[0m\u001b[37m\u001b[0m \u001b[1m0s\u001b[0m 1ms/step - loss: 0.0342 - val_loss: 0.0345\n",
            "Epoch 12/50\n",
            "\u001b[1m79/79\u001b[0m \u001b[32m━━━━━━━━━━━━━━━━━━━━\u001b[0m\u001b[37m\u001b[0m \u001b[1m0s\u001b[0m 1ms/step - loss: 0.0335 - val_loss: 0.0342\n",
            "Epoch 13/50\n",
            "\u001b[1m79/79\u001b[0m \u001b[32m━━━━━━━━━━━━━━━━━━━━\u001b[0m\u001b[37m\u001b[0m \u001b[1m0s\u001b[0m 1ms/step - loss: 0.0334 - val_loss: 0.0339\n",
            "Epoch 14/50\n",
            "\u001b[1m79/79\u001b[0m \u001b[32m━━━━━━━━━━━━━━━━━━━━\u001b[0m\u001b[37m\u001b[0m \u001b[1m0s\u001b[0m 1ms/step - loss: 0.0332 - val_loss: 0.0337\n",
            "Epoch 15/50\n",
            "\u001b[1m79/79\u001b[0m \u001b[32m━━━━━━━━━━━━━━━━━━━━\u001b[0m\u001b[37m\u001b[0m \u001b[1m0s\u001b[0m 1ms/step - loss: 0.0325 - val_loss: 0.0335\n",
            "Epoch 16/50\n",
            "\u001b[1m79/79\u001b[0m \u001b[32m━━━━━━━━━━━━━━━━━━━━\u001b[0m\u001b[37m\u001b[0m \u001b[1m0s\u001b[0m 1ms/step - loss: 0.0328 - val_loss: 0.0334\n",
            "Epoch 17/50\n",
            "\u001b[1m79/79\u001b[0m \u001b[32m━━━━━━━━━━━━━━━━━━━━\u001b[0m\u001b[37m\u001b[0m \u001b[1m0s\u001b[0m 1ms/step - loss: 0.0322 - val_loss: 0.0333\n",
            "Epoch 18/50\n",
            "\u001b[1m79/79\u001b[0m \u001b[32m━━━━━━━━━━━━━━━━━━━━\u001b[0m\u001b[37m\u001b[0m \u001b[1m0s\u001b[0m 2ms/step - loss: 0.0320 - val_loss: 0.0333\n",
            "Epoch 19/50\n",
            "\u001b[1m79/79\u001b[0m \u001b[32m━━━━━━━━━━━━━━━━━━━━\u001b[0m\u001b[37m\u001b[0m \u001b[1m0s\u001b[0m 1ms/step - loss: 0.0322 - val_loss: 0.0333\n",
            "Epoch 20/50\n",
            "\u001b[1m79/79\u001b[0m \u001b[32m━━━━━━━━━━━━━━━━━━━━\u001b[0m\u001b[37m\u001b[0m \u001b[1m0s\u001b[0m 1ms/step - loss: 0.0332 - val_loss: 0.0333\n",
            "Epoch 21/50\n",
            "\u001b[1m79/79\u001b[0m \u001b[32m━━━━━━━━━━━━━━━━━━━━\u001b[0m\u001b[37m\u001b[0m \u001b[1m0s\u001b[0m 1ms/step - loss: 0.0323 - val_loss: 0.0332\n",
            "Epoch 22/50\n",
            "\u001b[1m79/79\u001b[0m \u001b[32m━━━━━━━━━━━━━━━━━━━━\u001b[0m\u001b[37m\u001b[0m \u001b[1m0s\u001b[0m 1ms/step - loss: 0.0320 - val_loss: 0.0332\n",
            "Epoch 23/50\n",
            "\u001b[1m79/79\u001b[0m \u001b[32m━━━━━━━━━━━━━━━━━━━━\u001b[0m\u001b[37m\u001b[0m \u001b[1m0s\u001b[0m 1ms/step - loss: 0.0324 - val_loss: 0.0332\n",
            "Epoch 24/50\n",
            "\u001b[1m79/79\u001b[0m \u001b[32m━━━━━━━━━━━━━━━━━━━━\u001b[0m\u001b[37m\u001b[0m \u001b[1m0s\u001b[0m 1ms/step - loss: 0.0327 - val_loss: 0.0332\n",
            "Epoch 25/50\n",
            "\u001b[1m79/79\u001b[0m \u001b[32m━━━━━━━━━━━━━━━━━━━━\u001b[0m\u001b[37m\u001b[0m \u001b[1m0s\u001b[0m 1ms/step - loss: 0.0323 - val_loss: 0.0332\n",
            "Epoch 26/50\n",
            "\u001b[1m79/79\u001b[0m \u001b[32m━━━━━━━━━━━━━━━━━━━━\u001b[0m\u001b[37m\u001b[0m \u001b[1m0s\u001b[0m 1ms/step - loss: 0.0320 - val_loss: 0.0332\n",
            "Epoch 27/50\n",
            "\u001b[1m79/79\u001b[0m \u001b[32m━━━━━━━━━━━━━━━━━━━━\u001b[0m\u001b[37m\u001b[0m \u001b[1m0s\u001b[0m 1ms/step - loss: 0.0326 - val_loss: 0.0332\n",
            "Epoch 28/50\n",
            "\u001b[1m79/79\u001b[0m \u001b[32m━━━━━━━━━━━━━━━━━━━━\u001b[0m\u001b[37m\u001b[0m \u001b[1m0s\u001b[0m 1ms/step - loss: 0.0324 - val_loss: 0.0332\n",
            "Epoch 29/50\n",
            "\u001b[1m79/79\u001b[0m \u001b[32m━━━━━━━━━━━━━━━━━━━━\u001b[0m\u001b[37m\u001b[0m \u001b[1m0s\u001b[0m 1ms/step - loss: 0.0318 - val_loss: 0.0332\n",
            "Epoch 30/50\n",
            "\u001b[1m79/79\u001b[0m \u001b[32m━━━━━━━━━━━━━━━━━━━━\u001b[0m\u001b[37m\u001b[0m \u001b[1m0s\u001b[0m 1ms/step - loss: 0.0325 - val_loss: 0.0332\n",
            "Epoch 31/50\n",
            "\u001b[1m79/79\u001b[0m \u001b[32m━━━━━━━━━━━━━━━━━━━━\u001b[0m\u001b[37m\u001b[0m \u001b[1m0s\u001b[0m 1ms/step - loss: 0.0322 - val_loss: 0.0332\n",
            "Epoch 32/50\n",
            "\u001b[1m79/79\u001b[0m \u001b[32m━━━━━━━━━━━━━━━━━━━━\u001b[0m\u001b[37m\u001b[0m \u001b[1m0s\u001b[0m 1ms/step - loss: 0.0323 - val_loss: 0.0332\n",
            "Epoch 33/50\n",
            "\u001b[1m79/79\u001b[0m \u001b[32m━━━━━━━━━━━━━━━━━━━━\u001b[0m\u001b[37m\u001b[0m \u001b[1m0s\u001b[0m 1ms/step - loss: 0.0319 - val_loss: 0.0332\n",
            "Epoch 34/50\n",
            "\u001b[1m79/79\u001b[0m \u001b[32m━━━━━━━━━━━━━━━━━━━━\u001b[0m\u001b[37m\u001b[0m \u001b[1m0s\u001b[0m 1ms/step - loss: 0.0317 - val_loss: 0.0332\n",
            "Epoch 35/50\n",
            "\u001b[1m79/79\u001b[0m \u001b[32m━━━━━━━━━━━━━━━━━━━━\u001b[0m\u001b[37m\u001b[0m \u001b[1m0s\u001b[0m 1ms/step - loss: 0.0330 - val_loss: 0.0332\n",
            "Epoch 36/50\n",
            "\u001b[1m79/79\u001b[0m \u001b[32m━━━━━━━━━━━━━━━━━━━━\u001b[0m\u001b[37m\u001b[0m \u001b[1m0s\u001b[0m 1ms/step - loss: 0.0322 - val_loss: 0.0332\n",
            "Epoch 37/50\n",
            "\u001b[1m79/79\u001b[0m \u001b[32m━━━━━━━━━━━━━━━━━━━━\u001b[0m\u001b[37m\u001b[0m \u001b[1m0s\u001b[0m 1ms/step - loss: 0.0326 - val_loss: 0.0332\n",
            "Epoch 38/50\n",
            "\u001b[1m79/79\u001b[0m \u001b[32m━━━━━━━━━━━━━━━━━━━━\u001b[0m\u001b[37m\u001b[0m \u001b[1m0s\u001b[0m 1ms/step - loss: 0.0321 - val_loss: 0.0332\n",
            "Epoch 39/50\n",
            "\u001b[1m79/79\u001b[0m \u001b[32m━━━━━━━━━━━━━━━━━━━━\u001b[0m\u001b[37m\u001b[0m \u001b[1m0s\u001b[0m 1ms/step - loss: 0.0326 - val_loss: 0.0332\n",
            "Epoch 40/50\n",
            "\u001b[1m79/79\u001b[0m \u001b[32m━━━━━━━━━━━━━━━━━━━━\u001b[0m\u001b[37m\u001b[0m \u001b[1m0s\u001b[0m 1ms/step - loss: 0.0326 - val_loss: 0.0332\n",
            "Epoch 41/50\n",
            "\u001b[1m79/79\u001b[0m \u001b[32m━━━━━━━━━━━━━━━━━━━━\u001b[0m\u001b[37m\u001b[0m \u001b[1m0s\u001b[0m 1ms/step - loss: 0.0329 - val_loss: 0.0332\n",
            "Epoch 42/50\n",
            "\u001b[1m79/79\u001b[0m \u001b[32m━━━━━━━━━━━━━━━━━━━━\u001b[0m\u001b[37m\u001b[0m \u001b[1m0s\u001b[0m 1ms/step - loss: 0.0319 - val_loss: 0.0332\n",
            "Epoch 43/50\n",
            "\u001b[1m79/79\u001b[0m \u001b[32m━━━━━━━━━━━━━━━━━━━━\u001b[0m\u001b[37m\u001b[0m \u001b[1m0s\u001b[0m 1ms/step - loss: 0.0326 - val_loss: 0.0332\n",
            "Epoch 44/50\n",
            "\u001b[1m79/79\u001b[0m \u001b[32m━━━━━━━━━━━━━━━━━━━━\u001b[0m\u001b[37m\u001b[0m \u001b[1m0s\u001b[0m 1ms/step - loss: 0.0324 - val_loss: 0.0332\n",
            "Epoch 45/50\n",
            "\u001b[1m79/79\u001b[0m \u001b[32m━━━━━━━━━━━━━━━━━━━━\u001b[0m\u001b[37m\u001b[0m \u001b[1m0s\u001b[0m 2ms/step - loss: 0.0314 - val_loss: 0.0333\n",
            "Epoch 46/50\n",
            "\u001b[1m79/79\u001b[0m \u001b[32m━━━━━━━━━━━━━━━━━━━━\u001b[0m\u001b[37m\u001b[0m \u001b[1m0s\u001b[0m 1ms/step - loss: 0.0322 - val_loss: 0.0332\n",
            "Epoch 47/50\n",
            "\u001b[1m79/79\u001b[0m \u001b[32m━━━━━━━━━━━━━━━━━━━━\u001b[0m\u001b[37m\u001b[0m \u001b[1m0s\u001b[0m 1ms/step - loss: 0.0323 - val_loss: 0.0332\n",
            "Epoch 48/50\n",
            "\u001b[1m79/79\u001b[0m \u001b[32m━━━━━━━━━━━━━━━━━━━━\u001b[0m\u001b[37m\u001b[0m \u001b[1m0s\u001b[0m 1ms/step - loss: 0.0325 - val_loss: 0.0332\n",
            "Epoch 49/50\n",
            "\u001b[1m79/79\u001b[0m \u001b[32m━━━━━━━━━━━━━━━━━━━━\u001b[0m\u001b[37m\u001b[0m \u001b[1m0s\u001b[0m 1ms/step - loss: 0.0323 - val_loss: 0.0332\n",
            "Epoch 50/50\n",
            "\u001b[1m79/79\u001b[0m \u001b[32m━━━━━━━━━━━━━━━━━━━━\u001b[0m\u001b[37m\u001b[0m \u001b[1m0s\u001b[0m 1ms/step - loss: 0.0330 - val_loss: 0.0332\n"
          ]
        }
      ],
      "source": [
        "autoencoder.compile(optimizer='adam', loss='mse')\n",
        "\n",
        "history = autoencoder.fit(x=x_train0, y=x_train0,\n",
        "                          epochs=50, batch_size=64,\n",
        "                          validation_split = .2).history"
      ]
    },
    {
      "cell_type": "code",
      "execution_count": 43,
      "metadata": {
        "id": "YzEXr2twcKlQ"
      },
      "outputs": [
        {
          "data": {
            "image/png": "[encoded data removed]",
            "text/plain": [
              "<Figure size 640x480 with 1 Axes>"
            ]
          },
          "metadata": {},
          "output_type": "display_data"
        }
      ],
      "source": [
        "plot_learning_curve(history)"
      ]
    },
    {
      "cell_type": "markdown",
      "metadata": {
        "id": "TDkuKqu9CUmC"
      },
      "source": [
        "#### ② 예측 및 검증"
      ]
    },
    {
      "cell_type": "markdown",
      "metadata": {
        "id": "yrPMNi3ECUmD"
      },
      "source": [
        "* 예측"
      ]
    },
    {
      "cell_type": "code",
      "execution_count": 44,
      "metadata": {
        "id": "CwODtvVYcLtW"
      },
      "outputs": [
        {
          "name": "stdout",
          "output_type": "stream",
          "text": [
            "\u001b[1m63/63\u001b[0m \u001b[32m━━━━━━━━━━━━━━━━━━━━\u001b[0m\u001b[37m\u001b[0m \u001b[1m0s\u001b[0m 777us/step\n"
          ]
        }
      ],
      "source": [
        "pred = autoencoder.predict(x_val)"
      ]
    },
    {
      "cell_type": "markdown",
      "metadata": {
        "id": "h7M9nMZRCUmD"
      },
      "source": [
        "* 재구성 오차 그래프"
      ]
    },
    {
      "cell_type": "code",
      "execution_count": 45,
      "metadata": {
        "id": "O8FQPvP_cNNn"
      },
      "outputs": [
        {
          "data": {
            "image/png": "[encoded data removed]",
            "text/plain": [
              "<Figure size 640x480 with 1 Axes>"
            ]
          },
          "metadata": {},
          "output_type": "display_data"
        }
      ],
      "source": [
        "result = recon_err_plot(x_val, pred, y_val, .03)"
      ]
    },
    {
      "cell_type": "markdown",
      "metadata": {
        "id": "0JE_BHMhCUmD"
      },
      "source": [
        "* precision_recall_f1_curve"
      ]
    },
    {
      "cell_type": "code",
      "execution_count": 46,
      "metadata": {
        "id": "Xv-6bC_YcOmJ"
      },
      "outputs": [
        {
          "name": "stderr",
          "output_type": "stream",
          "text": [
            "/tmp/ipykernel_14031/3279574342.py:6: RuntimeWarning: divide by zero encountered in divide\n",
            "  f1 = 2 / (1/precision + 1/recall)\n"
          ]
        },
        {
          "data": {
            "image/png": "[encoded data removed]",
            "text/plain": [
              "<Figure size 640x480 with 1 Axes>"
            ]
          },
          "metadata": {},
          "output_type": "display_data"
        }
      ],
      "source": [
        "precision, recall, f1, thresholds = prec_rec_f1_curve(result['True_class'], result['Reconstruction_error'])"
      ]
    },
    {
      "cell_type": "code",
      "execution_count": 47,
      "metadata": {
        "id": "HhlHg9XgcQIW"
      },
      "outputs": [
        {
          "data": {
            "text/plain": [
              "0.031057080544746006"
            ]
          },
          "execution_count": 47,
          "metadata": {},
          "output_type": "execute_result"
        }
      ],
      "source": [
        "thres_f1_max = thresholds[np.argmax(f1)]\n",
        "thres_f1_max"
      ]
    },
    {
      "cell_type": "markdown",
      "metadata": {
        "id": "ib-sPFt1CUmD"
      },
      "source": [
        "* f1을 최대화 하는 threshold 값으로 평가"
      ]
    },
    {
      "cell_type": "code",
      "execution_count": 49,
      "metadata": {
        "id": "xHTYFW97cRoX"
      },
      "outputs": [
        {
          "name": "stdout",
          "output_type": "stream",
          "text": [
            "< confusion matrix >\n",
            "\n",
            "[[1079  870]\n",
            " [  25   26]]\n",
            "\n",
            "============================================================\n",
            "\n",
            "< classification_report >\n",
            "\n",
            "              precision    recall  f1-score   support\n",
            "\n",
            "           0       0.98      0.55      0.71      1949\n",
            "           1       0.03      0.51      0.05        51\n",
            "\n",
            "    accuracy                           0.55      2000\n",
            "   macro avg       0.50      0.53      0.38      2000\n",
            "weighted avg       0.95      0.55      0.69      2000\n",
            "\n"
          ]
        }
      ],
      "source": [
        "classification_report2(result['True_class'], result['Reconstruction_error'], thres_f1_max)"
      ]
    },
    {
      "cell_type": "code",
      "execution_count": null,
      "metadata": {},
      "outputs": [],
      "source": []
    }
  ],
  "metadata": {
    "colab": {
      "provenance": [],
      "toc_visible": true
    },
    "kernelspec": {
      "display_name": "pytorch",
      "language": "python",
      "name": "python3"
    },
    "language_info": {
      "codemirror_mode": {
        "name": "ipython",
        "version": 3
      },
      "file_extension": ".py",
      "mimetype": "text/x-python",
      "name": "python",
      "nbconvert_exporter": "python",
      "pygments_lexer": "ipython3",
      "version": "3.10.16"
    }
  },
  "nbformat": 4,
  "nbformat_minor": 0
}
