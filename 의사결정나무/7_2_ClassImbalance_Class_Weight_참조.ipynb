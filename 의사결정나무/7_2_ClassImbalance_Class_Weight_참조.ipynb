{
  "nbformat": 4,
  "nbformat_minor": 0,
  "metadata": {
    "colab": {
      "provenance": [],
      "toc_visible": true
    },
    "kernelspec": {
      "display_name": "Python 3",
      "language": "python",
      "name": "python3"
    },
    "language_info": {
      "codemirror_mode": {
        "name": "ipython",
        "version": 3
      },
      "file_extension": ".py",
      "mimetype": "text/x-python",
      "name": "python",
      "nbconvert_exporter": "python",
      "pygments_lexer": "ipython3",
      "version": "3.7.10"
    }
  },
  "cells": [
    {
      "cell_type": "markdown",
      "metadata": {
        "id": "H2PiE6pYmBv7"
      },
      "source": [
        "# Class Weight\n",
        "\n"
      ]
    },
    {
      "cell_type": "markdown",
      "metadata": {
        "id": "Wyg1gRj8ZxMK"
      },
      "source": [
        "## 0.환경준비"
      ]
    },
    {
      "cell_type": "markdown",
      "metadata": {
        "id": "dSsCFlrNaQQW"
      },
      "source": [
        "### (1) 라이브러리 로딩"
      ]
    },
    {
      "cell_type": "code",
      "metadata": {
        "id": "6g46eHDnW2QX"
      },
      "source": [
        "import pandas as pd\n",
        "import numpy as np\n",
        "import matplotlib.pyplot as plt\n",
        "import seaborn as sns\n",
        "\n",
        "import warnings\n",
        "warnings.simplefilter(action='ignore')"
      ],
      "execution_count": 1,
      "outputs": []
    },
    {
      "cell_type": "markdown",
      "metadata": {
        "id": "oivLe5kRaO8V"
      },
      "source": [
        "### (2) 데이터 로딩"
      ]
    },
    {
      "cell_type": "markdown",
      "metadata": {
        "id": "Ly9-R3Pyd-2L"
      },
      "source": [
        "> 예제 데이터는 공정간 불량을 예측하는 데이터입니다.  \n",
        "여기서는 class imbalance 에 대한 샘플링과 성능에만 초점을 맞추겠습니다.\n"
      ]
    },
    {
      "cell_type": "code",
      "metadata": {
        "id": "4LQpkcFgm50W"
      },
      "source": [
        "path = \"secom_9.csv\"\n",
        "data = pd.read_csv(path)\n",
        "\n",
        "data['label'] = 0\n",
        "data.loc[data['defeat']== 'defeat', 'label']= 1\n",
        "data.drop(['datetime','defeat'], axis = 1, inplace=True)\n",
        "\n",
        "target = 'label'\n",
        "x = data.drop(target, axis = 1)\n",
        "y = data.loc[:,target]"
      ],
      "execution_count": 2,
      "outputs": []
    },
    {
      "cell_type": "markdown",
      "metadata": {
        "id": "Gj8GcKR3ar5B"
      },
      "source": [
        "## 1.데이터 탐색"
      ]
    },
    {
      "cell_type": "markdown",
      "metadata": {
        "id": "gym6dx7Dppnc"
      },
      "source": [
        "## 2.데이터 준비\n"
      ]
    },
    {
      "cell_type": "code",
      "metadata": {
        "id": "HGhXkvBTmfUO"
      },
      "source": [
        "from sklearn.model_selection import train_test_split"
      ],
      "execution_count": 3,
      "outputs": []
    },
    {
      "cell_type": "code",
      "metadata": {
        "id": "eqAnzAbDikcr"
      },
      "source": [
        "x_train, x_val, y_train, y_val = train_test_split(x, y, test_size = .4, random_state = 2021)"
      ],
      "execution_count": 4,
      "outputs": []
    },
    {
      "cell_type": "code",
      "metadata": {
        "id": "mg2Tp4G9UhuG",
        "colab": {
          "base_uri": "https://localhost:8080/"
        },
        "outputId": "81d1e538-2b23-4612-cd1e-c4f2a6425ab3"
      },
      "source": [
        "x_train.shape"
      ],
      "execution_count": 5,
      "outputs": [
        {
          "output_type": "execute_result",
          "data": {
            "text/plain": [
              "(940, 52)"
            ]
          },
          "metadata": {},
          "execution_count": 5
        }
      ]
    },
    {
      "cell_type": "markdown",
      "metadata": {
        "id": "LAzxx0nkh1LX"
      },
      "source": [
        "## 3.모델링"
      ]
    },
    {
      "cell_type": "code",
      "metadata": {
        "id": "6VkF0-iXijKk"
      },
      "source": [
        "# 필요한 라이브러리, 함수들을 불러옵시다.\n",
        "from sklearn.linear_model import LogisticRegression\n",
        "from sklearn.tree import DecisionTreeClassifier, plot_tree\n",
        "from sklearn.metrics import *\n",
        "\n",
        "from sklearn.model_selection import GridSearchCV, StratifiedKFold"
      ],
      "execution_count": 6,
      "outputs": []
    },
    {
      "cell_type": "markdown",
      "metadata": {
        "id": "Z1XvZlGFcHbn"
      },
      "source": [
        "### (1) 기본 모델링\n",
        "\n",
        "* 로지스틱 회귀 + 데이터 그대로 이용"
      ]
    },
    {
      "cell_type": "code",
      "metadata": {
        "id": "01zxVgqYI797",
        "colab": {
          "base_uri": "https://localhost:8080/"
        },
        "outputId": "71d21e56-7658-4bf1-9fb7-a2515321187d"
      },
      "source": [
        "model = LogisticRegression()\n",
        "model.fit(x_train, y_train)\n",
        "pred = model.predict(x_val)\n",
        "\n",
        "print(confusion_matrix(y_val, pred))\n",
        "print('-' * 55)\n",
        "print(classification_report(y_val, pred))"
      ],
      "execution_count": 7,
      "outputs": [
        {
          "output_type": "stream",
          "name": "stdout",
          "text": [
            "[[587   1]\n",
            " [ 39   0]]\n",
            "-------------------------------------------------------\n",
            "              precision    recall  f1-score   support\n",
            "\n",
            "           0       0.94      1.00      0.97       588\n",
            "           1       0.00      0.00      0.00        39\n",
            "\n",
            "    accuracy                           0.94       627\n",
            "   macro avg       0.47      0.50      0.48       627\n",
            "weighted avg       0.88      0.94      0.91       627\n",
            "\n"
          ]
        }
      ]
    },
    {
      "cell_type": "markdown",
      "metadata": {
        "id": "_FREl9UnaMm6"
      },
      "source": [
        "### (2) Class Weight 조정"
      ]
    },
    {
      "cell_type": "markdown",
      "metadata": {
        "id": "4iSZtiKdIVYS"
      },
      "source": [
        "#### 1) class_weight = 'balanced'"
      ]
    },
    {
      "cell_type": "code",
      "metadata": {
        "id": "3gjF85SNIYX_",
        "colab": {
          "base_uri": "https://localhost:8080/"
        },
        "outputId": "3fbd2653-dac1-4ab9-ff38-6f13134922ae"
      },
      "source": [
        "# class_weight = 'balanced'\n",
        "\n",
        "model = LogisticRegression(class_weight='balanced')\n",
        "model.fit(x_train, y_train)\n",
        "pred = model.predict(x_val)\n",
        "\n",
        "print(confusion_matrix(y_val, pred))\n",
        "print('-' * 55)\n",
        "print(classification_report(y_val, pred))"
      ],
      "execution_count": 8,
      "outputs": [
        {
          "output_type": "stream",
          "name": "stdout",
          "text": [
            "[[370 218]\n",
            " [ 16  23]]\n",
            "-------------------------------------------------------\n",
            "              precision    recall  f1-score   support\n",
            "\n",
            "           0       0.96      0.63      0.76       588\n",
            "           1       0.10      0.59      0.16        39\n",
            "\n",
            "    accuracy                           0.63       627\n",
            "   macro avg       0.53      0.61      0.46       627\n",
            "weighted avg       0.90      0.63      0.72       627\n",
            "\n"
          ]
        }
      ]
    },
    {
      "cell_type": "markdown",
      "source": [
        " * 반복실행 후 f1 score 확인하기"
      ],
      "metadata": {
        "id": "huM98BLKsUOB"
      }
    },
    {
      "cell_type": "code",
      "metadata": {
        "id": "TmqJXQZwgVIT",
        "colab": {
          "base_uri": "https://localhost:8080/"
        },
        "outputId": "e504b84f-72b3-4456-8717-39f85d5c7996"
      },
      "source": [
        "result = []\n",
        "\n",
        "for i in range(50):\n",
        "    x_train, x_val, y_train, y_val = train_test_split(x, y, test_size = .4)\n",
        "    model = LogisticRegression(class_weight='balanced')\n",
        "    model.fit(x_train, y_train)\n",
        "    pred = model.predict(x_val)\n",
        "    result.append(f1_score(y_val, pred, pos_label=1))\n",
        "    print(i)"
      ],
      "execution_count": 9,
      "outputs": [
        {
          "output_type": "stream",
          "name": "stdout",
          "text": [
            "0\n",
            "1\n",
            "2\n",
            "3\n",
            "4\n",
            "5\n",
            "6\n",
            "7\n",
            "8\n",
            "9\n",
            "10\n",
            "11\n",
            "12\n",
            "13\n",
            "14\n",
            "15\n",
            "16\n",
            "17\n",
            "18\n",
            "19\n",
            "20\n",
            "21\n",
            "22\n",
            "23\n",
            "24\n",
            "25\n",
            "26\n",
            "27\n",
            "28\n",
            "29\n",
            "30\n",
            "31\n",
            "32\n",
            "33\n",
            "34\n",
            "35\n",
            "36\n",
            "37\n",
            "38\n",
            "39\n",
            "40\n",
            "41\n",
            "42\n",
            "43\n",
            "44\n",
            "45\n",
            "46\n",
            "47\n",
            "48\n",
            "49\n"
          ]
        }
      ]
    },
    {
      "cell_type": "code",
      "metadata": {
        "id": "RKqVcBqfgkwD",
        "colab": {
          "base_uri": "https://localhost:8080/",
          "height": 462
        },
        "outputId": "9409520d-42d2-4abf-b765-40a2fba44701"
      },
      "source": [
        "plt.figure(figsize=(12, 8))\n",
        "sns.distplot(result, hist = False)\n",
        "plt.title('F1 Score')\n",
        "plt.grid()\n",
        "plt.show()"
      ],
      "execution_count": 10,
      "outputs": [
        {
          "output_type": "display_data",
          "data": {
            "text/plain": [
              "<Figure size 1200x800 with 1 Axes>"
            ],
            "image/png": "[encoded data removed]"
          },
          "metadata": {}
        }
      ]
    },
    {
      "cell_type": "markdown",
      "source": [
        "#### 2) class_weight = 수동\n",
        "* y_train 비율의 역수로"
      ],
      "metadata": {
        "id": "DSDGUjkvsbTp"
      }
    },
    {
      "cell_type": "code",
      "source": [
        "# 다수, 소수 클래스 비율 저장\n",
        "c0 = (y_train.value_counts() / y_train.shape[0])[0]\n",
        "c1 = (y_train.value_counts() / y_train.shape[0])[1]\n",
        "c0, c1"
      ],
      "metadata": {
        "id": "OEzv392ZtKQn",
        "colab": {
          "base_uri": "https://localhost:8080/"
        },
        "outputId": "f5da92d9-5457-46c0-b10a-58515360ef0f"
      },
      "execution_count": 11,
      "outputs": [
        {
          "output_type": "execute_result",
          "data": {
            "text/plain": [
              "(0.9340425531914893, 0.06595744680851064)"
            ]
          },
          "metadata": {},
          "execution_count": 11
        }
      ]
    },
    {
      "cell_type": "code",
      "source": [
        "# class_weight = 수도\n",
        "\n",
        "model = LogisticRegression(class_weight={0:c1, 1:c0})\n",
        "model.fit(x_train, y_train)\n",
        "pred = model.predict(x_val)\n",
        "\n",
        "print(confusion_matrix(y_val, pred))\n",
        "print('-' * 55)\n",
        "print(classification_report(y_val, pred))"
      ],
      "metadata": {
        "id": "Fmw73z4YtC1k",
        "colab": {
          "base_uri": "https://localhost:8080/"
        },
        "outputId": "424ae9ca-3f9a-44fa-b063-b4cda312d8ba"
      },
      "execution_count": 12,
      "outputs": [
        {
          "output_type": "stream",
          "name": "stdout",
          "text": [
            "[[383 202]\n",
            " [ 23  19]]\n",
            "-------------------------------------------------------\n",
            "              precision    recall  f1-score   support\n",
            "\n",
            "           0       0.94      0.65      0.77       585\n",
            "           1       0.09      0.45      0.14        42\n",
            "\n",
            "    accuracy                           0.64       627\n",
            "   macro avg       0.51      0.55      0.46       627\n",
            "weighted avg       0.89      0.64      0.73       627\n",
            "\n"
          ]
        }
      ]
    },
    {
      "cell_type": "markdown",
      "source": [
        "#### 3) class_weight = GridSearch로 조절"
      ],
      "metadata": {
        "id": "gtwfsPY0A6UZ"
      }
    },
    {
      "cell_type": "code",
      "metadata": {
        "id": "w1D5rILVgvHM",
        "colab": {
          "base_uri": "https://localhost:8080/"
        },
        "outputId": "d6ac4027-ca33-4915-e559-e2051bc04a78"
      },
      "source": [
        "# class_weight = 비율로 수동 조절하도록 파라미터 설정\n",
        "weights = np.linspace(0.01,.99,100)\n",
        "\n",
        "params = {'class_weight': [{0:x, 1:1.0-x} for x in weights]}\n",
        "params"
      ],
      "execution_count": 13,
      "outputs": [
        {
          "output_type": "execute_result",
          "data": {
            "text/plain": [
              "{'class_weight': [{0: 0.01, 1: 0.99},\n",
              "  {0: 0.0198989898989899, 1: 0.9801010101010101},\n",
              "  {0: 0.029797979797979796, 1: 0.9702020202020202},\n",
              "  {0: 0.039696969696969696, 1: 0.9603030303030303},\n",
              "  {0: 0.049595959595959596, 1: 0.9504040404040404},\n",
              "  {0: 0.059494949494949496, 1: 0.9405050505050505},\n",
              "  {0: 0.06939393939393938, 1: 0.9306060606060607},\n",
              "  {0: 0.07929292929292929, 1: 0.9207070707070707},\n",
              "  {0: 0.08919191919191918, 1: 0.9108080808080808},\n",
              "  {0: 0.09909090909090908, 1: 0.9009090909090909},\n",
              "  {0: 0.10898989898989898, 1: 0.891010101010101},\n",
              "  {0: 0.11888888888888888, 1: 0.8811111111111112},\n",
              "  {0: 0.12878787878787878, 1: 0.8712121212121212},\n",
              "  {0: 0.1386868686868687, 1: 0.8613131313131313},\n",
              "  {0: 0.1485858585858586, 1: 0.8514141414141414},\n",
              "  {0: 0.15848484848484848, 1: 0.8415151515151515},\n",
              "  {0: 0.16838383838383839, 1: 0.8316161616161616},\n",
              "  {0: 0.1782828282828283, 1: 0.8217171717171717},\n",
              "  {0: 0.18818181818181817, 1: 0.8118181818181818},\n",
              "  {0: 0.19808080808080808, 1: 0.8019191919191919},\n",
              "  {0: 0.207979797979798, 1: 0.7920202020202021},\n",
              "  {0: 0.21787878787878787, 1: 0.7821212121212121},\n",
              "  {0: 0.22777777777777777, 1: 0.7722222222222223},\n",
              "  {0: 0.23767676767676768, 1: 0.7623232323232323},\n",
              "  {0: 0.24757575757575756, 1: 0.7524242424242424},\n",
              "  {0: 0.25747474747474747, 1: 0.7425252525252526},\n",
              "  {0: 0.2673737373737374, 1: 0.7326262626262626},\n",
              "  {0: 0.2772727272727273, 1: 0.7227272727272727},\n",
              "  {0: 0.2871717171717172, 1: 0.7128282828282828},\n",
              "  {0: 0.29707070707070704, 1: 0.702929292929293},\n",
              "  {0: 0.30696969696969695, 1: 0.6930303030303031},\n",
              "  {0: 0.31686868686868686, 1: 0.6831313131313131},\n",
              "  {0: 0.32676767676767676, 1: 0.6732323232323232},\n",
              "  {0: 0.33666666666666667, 1: 0.6633333333333333},\n",
              "  {0: 0.3465656565656566, 1: 0.6534343434343435},\n",
              "  {0: 0.3564646464646465, 1: 0.6435353535353535},\n",
              "  {0: 0.36636363636363634, 1: 0.6336363636363637},\n",
              "  {0: 0.37626262626262624, 1: 0.6237373737373737},\n",
              "  {0: 0.38616161616161615, 1: 0.6138383838383838},\n",
              "  {0: 0.39606060606060606, 1: 0.603939393939394},\n",
              "  {0: 0.40595959595959596, 1: 0.594040404040404},\n",
              "  {0: 0.41585858585858587, 1: 0.5841414141414141},\n",
              "  {0: 0.4257575757575757, 1: 0.5742424242424242},\n",
              "  {0: 0.43565656565656563, 1: 0.5643434343434344},\n",
              "  {0: 0.44555555555555554, 1: 0.5544444444444445},\n",
              "  {0: 0.45545454545454545, 1: 0.5445454545454546},\n",
              "  {0: 0.46535353535353535, 1: 0.5346464646464646},\n",
              "  {0: 0.47525252525252526, 1: 0.5247474747474747},\n",
              "  {0: 0.4851515151515151, 1: 0.5148484848484849},\n",
              "  {0: 0.495050505050505, 1: 0.504949494949495},\n",
              "  {0: 0.5049494949494949, 1: 0.4950505050505051},\n",
              "  {0: 0.5148484848484849, 1: 0.4851515151515151},\n",
              "  {0: 0.5247474747474747, 1: 0.47525252525252526},\n",
              "  {0: 0.5346464646464646, 1: 0.4653535353535354},\n",
              "  {0: 0.5445454545454546, 1: 0.45545454545454545},\n",
              "  {0: 0.5544444444444444, 1: 0.4455555555555556},\n",
              "  {0: 0.5643434343434344, 1: 0.43565656565656563},\n",
              "  {0: 0.5742424242424242, 1: 0.4257575757575758},\n",
              "  {0: 0.5841414141414141, 1: 0.4158585858585859},\n",
              "  {0: 0.594040404040404, 1: 0.40595959595959596},\n",
              "  {0: 0.6039393939393939, 1: 0.3960606060606061},\n",
              "  {0: 0.6138383838383838, 1: 0.38616161616161615},\n",
              "  {0: 0.6237373737373737, 1: 0.3762626262626263},\n",
              "  {0: 0.6336363636363637, 1: 0.36636363636363634},\n",
              "  {0: 0.6435353535353535, 1: 0.3564646464646465},\n",
              "  {0: 0.6534343434343434, 1: 0.34656565656565663},\n",
              "  {0: 0.6633333333333333, 1: 0.33666666666666667},\n",
              "  {0: 0.6732323232323232, 1: 0.3267676767676768},\n",
              "  {0: 0.6831313131313131, 1: 0.31686868686868686},\n",
              "  {0: 0.693030303030303, 1: 0.306969696969697},\n",
              "  {0: 0.702929292929293, 1: 0.29707070707070704},\n",
              "  {0: 0.7128282828282828, 1: 0.2871717171717172},\n",
              "  {0: 0.7227272727272727, 1: 0.27727272727272734},\n",
              "  {0: 0.7326262626262626, 1: 0.2673737373737374},\n",
              "  {0: 0.7425252525252525, 1: 0.2574747474747475},\n",
              "  {0: 0.7524242424242424, 1: 0.24757575757575756},\n",
              "  {0: 0.7623232323232323, 1: 0.2376767676767677},\n",
              "  {0: 0.7722222222222221, 1: 0.22777777777777786},\n",
              "  {0: 0.7821212121212121, 1: 0.2178787878787879},\n",
              "  {0: 0.792020202020202, 1: 0.20797979797979804},\n",
              "  {0: 0.8019191919191919, 1: 0.19808080808080808},\n",
              "  {0: 0.8118181818181818, 1: 0.18818181818181823},\n",
              "  {0: 0.8217171717171717, 1: 0.17828282828282827},\n",
              "  {0: 0.8316161616161616, 1: 0.1683838383838384},\n",
              "  {0: 0.8415151515151514, 1: 0.15848484848484856},\n",
              "  {0: 0.8514141414141414, 1: 0.1485858585858586},\n",
              "  {0: 0.8613131313131313, 1: 0.13868686868686875},\n",
              "  {0: 0.8712121212121212, 1: 0.12878787878787878},\n",
              "  {0: 0.8811111111111111, 1: 0.11888888888888893},\n",
              "  {0: 0.891010101010101, 1: 0.10898989898989897},\n",
              "  {0: 0.9009090909090909, 1: 0.09909090909090912},\n",
              "  {0: 0.9108080808080807, 1: 0.08919191919191927},\n",
              "  {0: 0.9207070707070707, 1: 0.0792929292929293},\n",
              "  {0: 0.9306060606060605, 1: 0.06939393939393945},\n",
              "  {0: 0.9405050505050505, 1: 0.05949494949494949},\n",
              "  {0: 0.9504040404040404, 1: 0.04959595959595964},\n",
              "  {0: 0.9603030303030302, 1: 0.039696969696969786},\n",
              "  {0: 0.9702020202020202, 1: 0.029797979797979823},\n",
              "  {0: 0.98010101010101, 1: 0.01989898989898997},\n",
              "  {0: 0.99, 1: 0.010000000000000009}]}"
            ]
          },
          "metadata": {},
          "execution_count": 13
        }
      ]
    },
    {
      "cell_type": "code",
      "metadata": {
        "id": "SMexkzTBedVd",
        "colab": {
          "base_uri": "https://localhost:8080/",
          "height": 117
        },
        "outputId": "589ce07b-6674-49cb-cd1a-ef7f1853fcce"
      },
      "source": [
        "# Grid Search : 그리드서치로 튜닝\n",
        "# StratifiedKFold : 층화추출\n",
        "model = GridSearchCV(LogisticRegression(), params\n",
        "                    , cv= StratifiedKFold(5), scoring='f1')\n",
        "model.fit(x_train, y_train)"
      ],
      "execution_count": 14,
      "outputs": [
        {
          "output_type": "execute_result",
          "data": {
            "text/plain": [
              "GridSearchCV(cv=StratifiedKFold(n_splits=5, random_state=None, shuffle=False),\n",
              "             estimator=LogisticRegression(),\n",
              "             param_grid={'class_weight': [{0: 0.01, 1: 0.99},\n",
              "                                          {0: 0.0198989898989899,\n",
              "                                           1: 0.9801010101010101},\n",
              "                                          {0: 0.029797979797979796,\n",
              "                                           1: 0.9702020202020202},\n",
              "                                          {0: 0.039696969696969696,\n",
              "                                           1: 0.9603030303030303},\n",
              "                                          {0: 0.049595959595959596,\n",
              "                                           1: 0.9504040404040404},\n",
              "                                          {0: 0.059494949494...\n",
              "                                           1: 0.7722222222222223},\n",
              "                                          {0: 0.23767676767676768,\n",
              "                                           1: 0.7623232323232323},\n",
              "                                          {0: 0.24757575757575756,\n",
              "                                           1: 0.7524242424242424},\n",
              "                                          {0: 0.25747474747474747,\n",
              "                                           1: 0.7425252525252526},\n",
              "                                          {0: 0.2673737373737374,\n",
              "                                           1: 0.7326262626262626},\n",
              "                                          {0: 0.2772727272727273,\n",
              "                                           1: 0.7227272727272727},\n",
              "                                          {0: 0.2871717171717172,\n",
              "                                           1: 0.7128282828282828},\n",
              "                                          {0: 0.29707070707070704,\n",
              "                                           1: 0.702929292929293}, ...]},\n",
              "             scoring='f1')"
            ],
            "text/html": [
              "<style>#sk-container-id-1 {color: black;background-color: white;}#sk-container-id-1 pre{padding: 0;}#sk-container-id-1 div.sk-toggleable {background-color: white;}#sk-container-id-1 label.sk-toggleable__label {cursor: pointer;display: block;width: 100%;margin-bottom: 0;padding: 0.3em;box-sizing: border-box;text-align: center;}#sk-container-id-1 label.sk-toggleable__label-arrow:before {content: \"▸\";float: left;margin-right: 0.25em;color: #696969;}#sk-container-id-1 label.sk-toggleable__label-arrow:hover:before {color: black;}#sk-container-id-1 div.sk-estimator:hover label.sk-toggleable__label-arrow:before {color: black;}#sk-container-id-1 div.sk-toggleable__content {max-height: 0;max-width: 0;overflow: hidden;text-align: left;background-color: #f0f8ff;}#sk-container-id-1 div.sk-toggleable__content pre {margin: 0.2em;color: black;border-radius: 0.25em;background-color: #f0f8ff;}#sk-container-id-1 input.sk-toggleable__control:checked~div.sk-toggleable__content {max-height: 200px;max-width: 100%;overflow: auto;}#sk-container-id-1 input.sk-toggleable__control:checked~label.sk-toggleable__label-arrow:before {content: \"▾\";}#sk-container-id-1 div.sk-estimator input.sk-toggleable__control:checked~label.sk-toggleable__label {background-color: #d4ebff;}#sk-container-id-1 div.sk-label input.sk-toggleable__control:checked~label.sk-toggleable__label {background-color: #d4ebff;}#sk-container-id-1 input.sk-hidden--visually {border: 0;clip: rect(1px 1px 1px 1px);clip: rect(1px, 1px, 1px, 1px);height: 1px;margin: -1px;overflow: hidden;padding: 0;position: absolute;width: 1px;}#sk-container-id-1 div.sk-estimator {font-family: monospace;background-color: #f0f8ff;border: 1px dotted black;border-radius: 0.25em;box-sizing: border-box;margin-bottom: 0.5em;}#sk-container-id-1 div.sk-estimator:hover {background-color: #d4ebff;}#sk-container-id-1 div.sk-parallel-item::after {content: \"\";width: 100%;border-bottom: 1px solid gray;flex-grow: 1;}#sk-container-id-1 div.sk-label:hover label.sk-toggleable__label {background-color: #d4ebff;}#sk-container-id-1 div.sk-serial::before {content: \"\";position: absolute;border-left: 1px solid gray;box-sizing: border-box;top: 0;bottom: 0;left: 50%;z-index: 0;}#sk-container-id-1 div.sk-serial {display: flex;flex-direction: column;align-items: center;background-color: white;padding-right: 0.2em;padding-left: 0.2em;position: relative;}#sk-container-id-1 div.sk-item {position: relative;z-index: 1;}#sk-container-id-1 div.sk-parallel {display: flex;align-items: stretch;justify-content: center;background-color: white;position: relative;}#sk-container-id-1 div.sk-item::before, #sk-container-id-1 div.sk-parallel-item::before {content: \"\";position: absolute;border-left: 1px solid gray;box-sizing: border-box;top: 0;bottom: 0;left: 50%;z-index: -1;}#sk-container-id-1 div.sk-parallel-item {display: flex;flex-direction: column;z-index: 1;position: relative;background-color: white;}#sk-container-id-1 div.sk-parallel-item:first-child::after {align-self: flex-end;width: 50%;}#sk-container-id-1 div.sk-parallel-item:last-child::after {align-self: flex-start;width: 50%;}#sk-container-id-1 div.sk-parallel-item:only-child::after {width: 0;}#sk-container-id-1 div.sk-dashed-wrapped {border: 1px dashed gray;margin: 0 0.4em 0.5em 0.4em;box-sizing: border-box;padding-bottom: 0.4em;background-color: white;}#sk-container-id-1 div.sk-label label {font-family: monospace;font-weight: bold;display: inline-block;line-height: 1.2em;}#sk-container-id-1 div.sk-label-container {text-align: center;}#sk-container-id-1 div.sk-container {/* jupyter's `normalize.less` sets `[hidden] { display: none; }` but bootstrap.min.css set `[hidden] { display: none !important; }` so we also need the `!important` here to be able to override the default hidden behavior on the sphinx rendered scikit-learn.org. See: https://github.com/scikit-learn/scikit-learn/issues/21755 */display: inline-block !important;position: relative;}#sk-container-id-1 div.sk-text-repr-fallback {display: none;}</style><div id=\"sk-container-id-1\" class=\"sk-top-container\"><div class=\"sk-text-repr-fallback\"><pre>GridSearchCV(cv=StratifiedKFold(n_splits=5, random_state=None, shuffle=False),\n",
              "             estimator=LogisticRegression(),\n",
              "             param_grid={&#x27;class_weight&#x27;: [{0: 0.01, 1: 0.99},\n",
              "                                          {0: 0.0198989898989899,\n",
              "                                           1: 0.9801010101010101},\n",
              "                                          {0: 0.029797979797979796,\n",
              "                                           1: 0.9702020202020202},\n",
              "                                          {0: 0.039696969696969696,\n",
              "                                           1: 0.9603030303030303},\n",
              "                                          {0: 0.049595959595959596,\n",
              "                                           1: 0.9504040404040404},\n",
              "                                          {0: 0.059494949494...\n",
              "                                           1: 0.7722222222222223},\n",
              "                                          {0: 0.23767676767676768,\n",
              "                                           1: 0.7623232323232323},\n",
              "                                          {0: 0.24757575757575756,\n",
              "                                           1: 0.7524242424242424},\n",
              "                                          {0: 0.25747474747474747,\n",
              "                                           1: 0.7425252525252526},\n",
              "                                          {0: 0.2673737373737374,\n",
              "                                           1: 0.7326262626262626},\n",
              "                                          {0: 0.2772727272727273,\n",
              "                                           1: 0.7227272727272727},\n",
              "                                          {0: 0.2871717171717172,\n",
              "                                           1: 0.7128282828282828},\n",
              "                                          {0: 0.29707070707070704,\n",
              "                                           1: 0.702929292929293}, ...]},\n",
              "             scoring=&#x27;f1&#x27;)</pre><b>In a Jupyter environment, please rerun this cell to show the HTML representation or trust the notebook. <br />On GitHub, the HTML representation is unable to render, please try loading this page with nbviewer.org.</b></div><div class=\"sk-container\" hidden><div class=\"sk-item sk-dashed-wrapped\"><div class=\"sk-label-container\"><div class=\"sk-label sk-toggleable\"><input class=\"sk-toggleable__control sk-hidden--visually\" id=\"sk-estimator-id-1\" type=\"checkbox\" ><label for=\"sk-estimator-id-1\" class=\"sk-toggleable__label sk-toggleable__label-arrow\">GridSearchCV</label><div class=\"sk-toggleable__content\"><pre>GridSearchCV(cv=StratifiedKFold(n_splits=5, random_state=None, shuffle=False),\n",
              "             estimator=LogisticRegression(),\n",
              "             param_grid={&#x27;class_weight&#x27;: [{0: 0.01, 1: 0.99},\n",
              "                                          {0: 0.0198989898989899,\n",
              "                                           1: 0.9801010101010101},\n",
              "                                          {0: 0.029797979797979796,\n",
              "                                           1: 0.9702020202020202},\n",
              "                                          {0: 0.039696969696969696,\n",
              "                                           1: 0.9603030303030303},\n",
              "                                          {0: 0.049595959595959596,\n",
              "                                           1: 0.9504040404040404},\n",
              "                                          {0: 0.059494949494...\n",
              "                                           1: 0.7722222222222223},\n",
              "                                          {0: 0.23767676767676768,\n",
              "                                           1: 0.7623232323232323},\n",
              "                                          {0: 0.24757575757575756,\n",
              "                                           1: 0.7524242424242424},\n",
              "                                          {0: 0.25747474747474747,\n",
              "                                           1: 0.7425252525252526},\n",
              "                                          {0: 0.2673737373737374,\n",
              "                                           1: 0.7326262626262626},\n",
              "                                          {0: 0.2772727272727273,\n",
              "                                           1: 0.7227272727272727},\n",
              "                                          {0: 0.2871717171717172,\n",
              "                                           1: 0.7128282828282828},\n",
              "                                          {0: 0.29707070707070704,\n",
              "                                           1: 0.702929292929293}, ...]},\n",
              "             scoring=&#x27;f1&#x27;)</pre></div></div></div><div class=\"sk-parallel\"><div class=\"sk-parallel-item\"><div class=\"sk-item\"><div class=\"sk-label-container\"><div class=\"sk-label sk-toggleable\"><input class=\"sk-toggleable__control sk-hidden--visually\" id=\"sk-estimator-id-2\" type=\"checkbox\" ><label for=\"sk-estimator-id-2\" class=\"sk-toggleable__label sk-toggleable__label-arrow\">estimator: LogisticRegression</label><div class=\"sk-toggleable__content\"><pre>LogisticRegression()</pre></div></div></div><div class=\"sk-serial\"><div class=\"sk-item\"><div class=\"sk-estimator sk-toggleable\"><input class=\"sk-toggleable__control sk-hidden--visually\" id=\"sk-estimator-id-3\" type=\"checkbox\" ><label for=\"sk-estimator-id-3\" class=\"sk-toggleable__label sk-toggleable__label-arrow\">LogisticRegression</label><div class=\"sk-toggleable__content\"><pre>LogisticRegression()</pre></div></div></div></div></div></div></div></div></div></div>"
            ]
          },
          "metadata": {},
          "execution_count": 14
        }
      ]
    },
    {
      "cell_type": "code",
      "metadata": {
        "id": "y2mjBYUJEASR",
        "colab": {
          "base_uri": "https://localhost:8080/"
        },
        "outputId": "239635a3-d514-43e5-fe3a-96c77b1229c3"
      },
      "source": [
        "model.cv_results_"
      ],
      "execution_count": 15,
      "outputs": [
        {
          "output_type": "execute_result",
          "data": {
            "text/plain": [
              "{'mean_fit_time': array([0.04136105, 0.03561726, 0.04663148, 0.04505157, 0.03546534,\n",
              "        0.03936319, 0.03820662, 0.04329095, 0.03741593, 0.0393816 ,\n",
              "        0.03487163, 0.03801446, 0.04249029, 0.03659582, 0.03790326,\n",
              "        0.04168901, 0.04245729, 0.03774829, 0.03901196, 0.03837795,\n",
              "        0.04773159, 0.10781965, 0.09212313, 0.09074798, 0.10198445,\n",
              "        0.1030642 , 0.09448104, 0.03678946, 0.03697042, 0.03684406,\n",
              "        0.04068432, 0.03494725, 0.03492408, 0.03313894, 0.04102683,\n",
              "        0.0422256 , 0.03736696, 0.04016767, 0.03564296, 0.03813744,\n",
              "        0.0365263 , 0.03477368, 0.03484735, 0.03401656, 0.03793817,\n",
              "        0.03752131, 0.03690181, 0.03613954, 0.03998923, 0.04097357,\n",
              "        0.037394  , 0.03584237, 0.03600941, 0.03471365, 0.04683185,\n",
              "        0.03705711, 0.03619461, 0.03481011, 0.04326787, 0.03382812,\n",
              "        0.03447461, 0.03339562, 0.03627901, 0.04722829, 0.04378867,\n",
              "        0.03878665, 0.04435215, 0.04607625, 0.03634906, 0.03827062,\n",
              "        0.04922776, 0.12729783, 0.09030437, 0.08960376, 0.10447254,\n",
              "        0.10778737, 0.13302178, 0.03621836, 0.03884406, 0.03640761,\n",
              "        0.0462604 , 0.03543868, 0.03418713, 0.04205623, 0.03916645,\n",
              "        0.04536481, 0.03469934, 0.04004622, 0.04022655, 0.04260178,\n",
              "        0.03683696, 0.04392552, 0.03856139, 0.04880204, 0.03713169,\n",
              "        0.03836875, 0.04187751, 0.04111042, 0.03202729, 0.03619695]),\n",
              " 'std_fit_time': array([0.00701599, 0.00139206, 0.01435338, 0.01259672, 0.00260146,\n",
              "        0.00445084, 0.00710175, 0.00884598, 0.00417728, 0.00392666,\n",
              "        0.00186365, 0.00366104, 0.014347  , 0.00274998, 0.00444619,\n",
              "        0.00945881, 0.01030225, 0.00507549, 0.00591241, 0.00371701,\n",
              "        0.02594318, 0.00653727, 0.01222911, 0.01444536, 0.01709678,\n",
              "        0.0210382 , 0.01327617, 0.00497051, 0.00324142, 0.00413298,\n",
              "        0.01168678, 0.00407269, 0.00319237, 0.00026574, 0.00750216,\n",
              "        0.01255767, 0.00296689, 0.00415234, 0.00235082, 0.00553818,\n",
              "        0.00569677, 0.0017357 , 0.00328204, 0.00292076, 0.01051404,\n",
              "        0.00417257, 0.0029597 , 0.00274153, 0.01026541, 0.01507124,\n",
              "        0.00259605, 0.00372563, 0.00432953, 0.0026765 , 0.01744283,\n",
              "        0.00222774, 0.00143893, 0.00117934, 0.0090386 , 0.00094942,\n",
              "        0.00345024, 0.0012013 , 0.00178636, 0.01088568, 0.00318319,\n",
              "        0.00394082, 0.01006498, 0.02007764, 0.00223432, 0.00439027,\n",
              "        0.02747986, 0.01581368, 0.01295421, 0.01992539, 0.02435291,\n",
              "        0.02306588, 0.04040376, 0.00215497, 0.00819967, 0.00140451,\n",
              "        0.00878006, 0.00091176, 0.00139008, 0.00689591, 0.00181407,\n",
              "        0.01221653, 0.00098071, 0.00383804, 0.00365528, 0.01249504,\n",
              "        0.00211077, 0.00505395, 0.0039375 , 0.01992882, 0.00174144,\n",
              "        0.00224883, 0.0023764 , 0.00341409, 0.0129547 , 0.00063217]),\n",
              " 'mean_score_time': array([0.00587678, 0.00679259, 0.00756865, 0.00630083, 0.00602937,\n",
              "        0.00637798, 0.00590096, 0.00904908, 0.0062223 , 0.00621996,\n",
              "        0.00630031, 0.00587959, 0.00619845, 0.0067821 , 0.00733376,\n",
              "        0.00614109, 0.00671172, 0.00624681, 0.00618401, 0.00629144,\n",
              "        0.0074801 , 0.012012  , 0.01059818, 0.01384587, 0.01144853,\n",
              "        0.0094305 , 0.01210613, 0.0096571 , 0.00613089, 0.00618043,\n",
              "        0.00636363, 0.00916319, 0.00590534, 0.00971208, 0.00598803,\n",
              "        0.00599031, 0.00642781, 0.00782008, 0.00611129, 0.00842772,\n",
              "        0.00741525, 0.00794196, 0.00608058, 0.00621037, 0.00775075,\n",
              "        0.00614352, 0.00620384, 0.00607276, 0.00644007, 0.00602612,\n",
              "        0.00614591, 0.00576515, 0.00592694, 0.00597706, 0.00596228,\n",
              "        0.00622005, 0.00591402, 0.00581932, 0.00789413, 0.00579643,\n",
              "        0.00677953, 0.00574203, 0.00616908, 0.00696635, 0.00666056,\n",
              "        0.00619884, 0.00663886, 0.00592666, 0.0068984 , 0.00609016,\n",
              "        0.00610003, 0.01374469, 0.0097393 , 0.00803771, 0.01031771,\n",
              "        0.00896463, 0.01501203, 0.00591803, 0.00620928, 0.00640678,\n",
              "        0.00712676, 0.00609555, 0.00580497, 0.00671802, 0.0067812 ,\n",
              "        0.00607295, 0.00725355, 0.00628934, 0.00654588, 0.00604014,\n",
              "        0.00646119, 0.0065835 , 0.00637217, 0.00605431, 0.00619073,\n",
              "        0.0059968 , 0.00713406, 0.00616713, 0.00695443, 0.0059279 ]),\n",
              " 'std_score_time': array([7.76161422e-05, 1.72571512e-03, 2.07393402e-03, 6.01775930e-04,\n",
              "        4.11660481e-04, 9.59052328e-04, 2.19348130e-04, 5.86347895e-03,\n",
              "        6.78263630e-04, 6.12206446e-04, 5.77755264e-04, 1.48494579e-04,\n",
              "        6.51426287e-04, 1.50840424e-03, 2.19802769e-03, 3.01573948e-04,\n",
              "        1.16808827e-03, 7.67605757e-04, 3.64914059e-04, 4.89651269e-04,\n",
              "        2.59349101e-03, 3.22669076e-03, 8.02312959e-04, 3.17318574e-03,\n",
              "        2.60426379e-03, 2.58062448e-03, 6.25967920e-03, 3.45975889e-03,\n",
              "        2.22055974e-04, 4.70632589e-04, 5.64516010e-04, 3.05296419e-03,\n",
              "        2.18841368e-04, 4.76999632e-03, 2.11014672e-04, 3.98072313e-04,\n",
              "        5.89775310e-04, 2.03378486e-03, 3.34858554e-04, 3.77254070e-03,\n",
              "        1.06856951e-03, 3.25504247e-03, 5.51560519e-04, 4.64248383e-04,\n",
              "        3.92830695e-03, 3.66493776e-04, 7.10654661e-04, 3.65592483e-04,\n",
              "        5.48794962e-04, 3.39179288e-04, 3.28000799e-04, 1.31909603e-04,\n",
              "        2.90394871e-04, 4.37954841e-04, 1.31474874e-04, 2.78993481e-04,\n",
              "        7.95623053e-05, 1.01430560e-04, 4.21595901e-03, 1.31660862e-04,\n",
              "        1.19854243e-03, 8.59559523e-05, 4.16064972e-04, 1.15724301e-03,\n",
              "        5.19072775e-04, 5.91731962e-04, 5.42549723e-04, 2.47431964e-04,\n",
              "        1.80350095e-03, 4.06601788e-04, 4.36862075e-04, 4.56500459e-03,\n",
              "        1.62376760e-03, 1.92597480e-03, 2.10435548e-03, 1.84459867e-03,\n",
              "        3.49652225e-03, 2.03764240e-04, 5.52420460e-04, 4.03819676e-04,\n",
              "        1.97374082e-03, 4.77978737e-04, 1.52610122e-04, 5.37599746e-04,\n",
              "        1.47855618e-03, 5.07462582e-04, 2.98440747e-03, 5.58846509e-04,\n",
              "        5.74500556e-04, 3.07812602e-04, 6.73453688e-04, 4.71666323e-04,\n",
              "        9.72808240e-04, 4.88918804e-04, 7.45796477e-04, 4.00136662e-04,\n",
              "        7.04590672e-04, 5.12174305e-04, 2.28942085e-03, 2.74468297e-04]),\n",
              " 'param_class_weight': masked_array(data=[{0: 0.01, 1: 0.99},\n",
              "                    {0: 0.0198989898989899, 1: 0.9801010101010101},\n",
              "                    {0: 0.029797979797979796, 1: 0.9702020202020202},\n",
              "                    {0: 0.039696969696969696, 1: 0.9603030303030303},\n",
              "                    {0: 0.049595959595959596, 1: 0.9504040404040404},\n",
              "                    {0: 0.059494949494949496, 1: 0.9405050505050505},\n",
              "                    {0: 0.06939393939393938, 1: 0.9306060606060607},\n",
              "                    {0: 0.07929292929292929, 1: 0.9207070707070707},\n",
              "                    {0: 0.08919191919191918, 1: 0.9108080808080808},\n",
              "                    {0: 0.09909090909090908, 1: 0.9009090909090909},\n",
              "                    {0: 0.10898989898989898, 1: 0.891010101010101},\n",
              "                    {0: 0.11888888888888888, 1: 0.8811111111111112},\n",
              "                    {0: 0.12878787878787878, 1: 0.8712121212121212},\n",
              "                    {0: 0.1386868686868687, 1: 0.8613131313131313},\n",
              "                    {0: 0.1485858585858586, 1: 0.8514141414141414},\n",
              "                    {0: 0.15848484848484848, 1: 0.8415151515151515},\n",
              "                    {0: 0.16838383838383839, 1: 0.8316161616161616},\n",
              "                    {0: 0.1782828282828283, 1: 0.8217171717171717},\n",
              "                    {0: 0.18818181818181817, 1: 0.8118181818181818},\n",
              "                    {0: 0.19808080808080808, 1: 0.8019191919191919},\n",
              "                    {0: 0.207979797979798, 1: 0.7920202020202021},\n",
              "                    {0: 0.21787878787878787, 1: 0.7821212121212121},\n",
              "                    {0: 0.22777777777777777, 1: 0.7722222222222223},\n",
              "                    {0: 0.23767676767676768, 1: 0.7623232323232323},\n",
              "                    {0: 0.24757575757575756, 1: 0.7524242424242424},\n",
              "                    {0: 0.25747474747474747, 1: 0.7425252525252526},\n",
              "                    {0: 0.2673737373737374, 1: 0.7326262626262626},\n",
              "                    {0: 0.2772727272727273, 1: 0.7227272727272727},\n",
              "                    {0: 0.2871717171717172, 1: 0.7128282828282828},\n",
              "                    {0: 0.29707070707070704, 1: 0.702929292929293},\n",
              "                    {0: 0.30696969696969695, 1: 0.6930303030303031},\n",
              "                    {0: 0.31686868686868686, 1: 0.6831313131313131},\n",
              "                    {0: 0.32676767676767676, 1: 0.6732323232323232},\n",
              "                    {0: 0.33666666666666667, 1: 0.6633333333333333},\n",
              "                    {0: 0.3465656565656566, 1: 0.6534343434343435},\n",
              "                    {0: 0.3564646464646465, 1: 0.6435353535353535},\n",
              "                    {0: 0.36636363636363634, 1: 0.6336363636363637},\n",
              "                    {0: 0.37626262626262624, 1: 0.6237373737373737},\n",
              "                    {0: 0.38616161616161615, 1: 0.6138383838383838},\n",
              "                    {0: 0.39606060606060606, 1: 0.603939393939394},\n",
              "                    {0: 0.40595959595959596, 1: 0.594040404040404},\n",
              "                    {0: 0.41585858585858587, 1: 0.5841414141414141},\n",
              "                    {0: 0.4257575757575757, 1: 0.5742424242424242},\n",
              "                    {0: 0.43565656565656563, 1: 0.5643434343434344},\n",
              "                    {0: 0.44555555555555554, 1: 0.5544444444444445},\n",
              "                    {0: 0.45545454545454545, 1: 0.5445454545454546},\n",
              "                    {0: 0.46535353535353535, 1: 0.5346464646464646},\n",
              "                    {0: 0.47525252525252526, 1: 0.5247474747474747},\n",
              "                    {0: 0.4851515151515151, 1: 0.5148484848484849},\n",
              "                    {0: 0.495050505050505, 1: 0.504949494949495},\n",
              "                    {0: 0.5049494949494949, 1: 0.4950505050505051},\n",
              "                    {0: 0.5148484848484849, 1: 0.4851515151515151},\n",
              "                    {0: 0.5247474747474747, 1: 0.47525252525252526},\n",
              "                    {0: 0.5346464646464646, 1: 0.4653535353535354},\n",
              "                    {0: 0.5445454545454546, 1: 0.45545454545454545},\n",
              "                    {0: 0.5544444444444444, 1: 0.4455555555555556},\n",
              "                    {0: 0.5643434343434344, 1: 0.43565656565656563},\n",
              "                    {0: 0.5742424242424242, 1: 0.4257575757575758},\n",
              "                    {0: 0.5841414141414141, 1: 0.4158585858585859},\n",
              "                    {0: 0.594040404040404, 1: 0.40595959595959596},\n",
              "                    {0: 0.6039393939393939, 1: 0.3960606060606061},\n",
              "                    {0: 0.6138383838383838, 1: 0.38616161616161615},\n",
              "                    {0: 0.6237373737373737, 1: 0.3762626262626263},\n",
              "                    {0: 0.6336363636363637, 1: 0.36636363636363634},\n",
              "                    {0: 0.6435353535353535, 1: 0.3564646464646465},\n",
              "                    {0: 0.6534343434343434, 1: 0.34656565656565663},\n",
              "                    {0: 0.6633333333333333, 1: 0.33666666666666667},\n",
              "                    {0: 0.6732323232323232, 1: 0.3267676767676768},\n",
              "                    {0: 0.6831313131313131, 1: 0.31686868686868686},\n",
              "                    {0: 0.693030303030303, 1: 0.306969696969697},\n",
              "                    {0: 0.702929292929293, 1: 0.29707070707070704},\n",
              "                    {0: 0.7128282828282828, 1: 0.2871717171717172},\n",
              "                    {0: 0.7227272727272727, 1: 0.27727272727272734},\n",
              "                    {0: 0.7326262626262626, 1: 0.2673737373737374},\n",
              "                    {0: 0.7425252525252525, 1: 0.2574747474747475},\n",
              "                    {0: 0.7524242424242424, 1: 0.24757575757575756},\n",
              "                    {0: 0.7623232323232323, 1: 0.2376767676767677},\n",
              "                    {0: 0.7722222222222221, 1: 0.22777777777777786},\n",
              "                    {0: 0.7821212121212121, 1: 0.2178787878787879},\n",
              "                    {0: 0.792020202020202, 1: 0.20797979797979804},\n",
              "                    {0: 0.8019191919191919, 1: 0.19808080808080808},\n",
              "                    {0: 0.8118181818181818, 1: 0.18818181818181823},\n",
              "                    {0: 0.8217171717171717, 1: 0.17828282828282827},\n",
              "                    {0: 0.8316161616161616, 1: 0.1683838383838384},\n",
              "                    {0: 0.8415151515151514, 1: 0.15848484848484856},\n",
              "                    {0: 0.8514141414141414, 1: 0.1485858585858586},\n",
              "                    {0: 0.8613131313131313, 1: 0.13868686868686875},\n",
              "                    {0: 0.8712121212121212, 1: 0.12878787878787878},\n",
              "                    {0: 0.8811111111111111, 1: 0.11888888888888893},\n",
              "                    {0: 0.891010101010101, 1: 0.10898989898989897},\n",
              "                    {0: 0.9009090909090909, 1: 0.09909090909090912},\n",
              "                    {0: 0.9108080808080807, 1: 0.08919191919191927},\n",
              "                    {0: 0.9207070707070707, 1: 0.0792929292929293},\n",
              "                    {0: 0.9306060606060605, 1: 0.06939393939393945},\n",
              "                    {0: 0.9405050505050505, 1: 0.05949494949494949},\n",
              "                    {0: 0.9504040404040404, 1: 0.04959595959595964},\n",
              "                    {0: 0.9603030303030302, 1: 0.039696969696969786},\n",
              "                    {0: 0.9702020202020202, 1: 0.029797979797979823},\n",
              "                    {0: 0.98010101010101, 1: 0.01989898989898997},\n",
              "                    {0: 0.99, 1: 0.010000000000000009}],\n",
              "              mask=[False, False, False, False, False, False, False, False,\n",
              "                    False, False, False, False, False, False, False, False,\n",
              "                    False, False, False, False, False, False, False, False,\n",
              "                    False, False, False, False, False, False, False, False,\n",
              "                    False, False, False, False, False, False, False, False,\n",
              "                    False, False, False, False, False, False, False, False,\n",
              "                    False, False, False, False, False, False, False, False,\n",
              "                    False, False, False, False, False, False, False, False,\n",
              "                    False, False, False, False, False, False, False, False,\n",
              "                    False, False, False, False, False, False, False, False,\n",
              "                    False, False, False, False, False, False, False, False,\n",
              "                    False, False, False, False, False, False, False, False,\n",
              "                    False, False, False, False],\n",
              "        fill_value='?',\n",
              "             dtype=object),\n",
              " 'params': [{'class_weight': {0: 0.01, 1: 0.99}},\n",
              "  {'class_weight': {0: 0.0198989898989899, 1: 0.9801010101010101}},\n",
              "  {'class_weight': {0: 0.029797979797979796, 1: 0.9702020202020202}},\n",
              "  {'class_weight': {0: 0.039696969696969696, 1: 0.9603030303030303}},\n",
              "  {'class_weight': {0: 0.049595959595959596, 1: 0.9504040404040404}},\n",
              "  {'class_weight': {0: 0.059494949494949496, 1: 0.9405050505050505}},\n",
              "  {'class_weight': {0: 0.06939393939393938, 1: 0.9306060606060607}},\n",
              "  {'class_weight': {0: 0.07929292929292929, 1: 0.9207070707070707}},\n",
              "  {'class_weight': {0: 0.08919191919191918, 1: 0.9108080808080808}},\n",
              "  {'class_weight': {0: 0.09909090909090908, 1: 0.9009090909090909}},\n",
              "  {'class_weight': {0: 0.10898989898989898, 1: 0.891010101010101}},\n",
              "  {'class_weight': {0: 0.11888888888888888, 1: 0.8811111111111112}},\n",
              "  {'class_weight': {0: 0.12878787878787878, 1: 0.8712121212121212}},\n",
              "  {'class_weight': {0: 0.1386868686868687, 1: 0.8613131313131313}},\n",
              "  {'class_weight': {0: 0.1485858585858586, 1: 0.8514141414141414}},\n",
              "  {'class_weight': {0: 0.15848484848484848, 1: 0.8415151515151515}},\n",
              "  {'class_weight': {0: 0.16838383838383839, 1: 0.8316161616161616}},\n",
              "  {'class_weight': {0: 0.1782828282828283, 1: 0.8217171717171717}},\n",
              "  {'class_weight': {0: 0.18818181818181817, 1: 0.8118181818181818}},\n",
              "  {'class_weight': {0: 0.19808080808080808, 1: 0.8019191919191919}},\n",
              "  {'class_weight': {0: 0.207979797979798, 1: 0.7920202020202021}},\n",
              "  {'class_weight': {0: 0.21787878787878787, 1: 0.7821212121212121}},\n",
              "  {'class_weight': {0: 0.22777777777777777, 1: 0.7722222222222223}},\n",
              "  {'class_weight': {0: 0.23767676767676768, 1: 0.7623232323232323}},\n",
              "  {'class_weight': {0: 0.24757575757575756, 1: 0.7524242424242424}},\n",
              "  {'class_weight': {0: 0.25747474747474747, 1: 0.7425252525252526}},\n",
              "  {'class_weight': {0: 0.2673737373737374, 1: 0.7326262626262626}},\n",
              "  {'class_weight': {0: 0.2772727272727273, 1: 0.7227272727272727}},\n",
              "  {'class_weight': {0: 0.2871717171717172, 1: 0.7128282828282828}},\n",
              "  {'class_weight': {0: 0.29707070707070704, 1: 0.702929292929293}},\n",
              "  {'class_weight': {0: 0.30696969696969695, 1: 0.6930303030303031}},\n",
              "  {'class_weight': {0: 0.31686868686868686, 1: 0.6831313131313131}},\n",
              "  {'class_weight': {0: 0.32676767676767676, 1: 0.6732323232323232}},\n",
              "  {'class_weight': {0: 0.33666666666666667, 1: 0.6633333333333333}},\n",
              "  {'class_weight': {0: 0.3465656565656566, 1: 0.6534343434343435}},\n",
              "  {'class_weight': {0: 0.3564646464646465, 1: 0.6435353535353535}},\n",
              "  {'class_weight': {0: 0.36636363636363634, 1: 0.6336363636363637}},\n",
              "  {'class_weight': {0: 0.37626262626262624, 1: 0.6237373737373737}},\n",
              "  {'class_weight': {0: 0.38616161616161615, 1: 0.6138383838383838}},\n",
              "  {'class_weight': {0: 0.39606060606060606, 1: 0.603939393939394}},\n",
              "  {'class_weight': {0: 0.40595959595959596, 1: 0.594040404040404}},\n",
              "  {'class_weight': {0: 0.41585858585858587, 1: 0.5841414141414141}},\n",
              "  {'class_weight': {0: 0.4257575757575757, 1: 0.5742424242424242}},\n",
              "  {'class_weight': {0: 0.43565656565656563, 1: 0.5643434343434344}},\n",
              "  {'class_weight': {0: 0.44555555555555554, 1: 0.5544444444444445}},\n",
              "  {'class_weight': {0: 0.45545454545454545, 1: 0.5445454545454546}},\n",
              "  {'class_weight': {0: 0.46535353535353535, 1: 0.5346464646464646}},\n",
              "  {'class_weight': {0: 0.47525252525252526, 1: 0.5247474747474747}},\n",
              "  {'class_weight': {0: 0.4851515151515151, 1: 0.5148484848484849}},\n",
              "  {'class_weight': {0: 0.495050505050505, 1: 0.504949494949495}},\n",
              "  {'class_weight': {0: 0.5049494949494949, 1: 0.4950505050505051}},\n",
              "  {'class_weight': {0: 0.5148484848484849, 1: 0.4851515151515151}},\n",
              "  {'class_weight': {0: 0.5247474747474747, 1: 0.47525252525252526}},\n",
              "  {'class_weight': {0: 0.5346464646464646, 1: 0.4653535353535354}},\n",
              "  {'class_weight': {0: 0.5445454545454546, 1: 0.45545454545454545}},\n",
              "  {'class_weight': {0: 0.5544444444444444, 1: 0.4455555555555556}},\n",
              "  {'class_weight': {0: 0.5643434343434344, 1: 0.43565656565656563}},\n",
              "  {'class_weight': {0: 0.5742424242424242, 1: 0.4257575757575758}},\n",
              "  {'class_weight': {0: 0.5841414141414141, 1: 0.4158585858585859}},\n",
              "  {'class_weight': {0: 0.594040404040404, 1: 0.40595959595959596}},\n",
              "  {'class_weight': {0: 0.6039393939393939, 1: 0.3960606060606061}},\n",
              "  {'class_weight': {0: 0.6138383838383838, 1: 0.38616161616161615}},\n",
              "  {'class_weight': {0: 0.6237373737373737, 1: 0.3762626262626263}},\n",
              "  {'class_weight': {0: 0.6336363636363637, 1: 0.36636363636363634}},\n",
              "  {'class_weight': {0: 0.6435353535353535, 1: 0.3564646464646465}},\n",
              "  {'class_weight': {0: 0.6534343434343434, 1: 0.34656565656565663}},\n",
              "  {'class_weight': {0: 0.6633333333333333, 1: 0.33666666666666667}},\n",
              "  {'class_weight': {0: 0.6732323232323232, 1: 0.3267676767676768}},\n",
              "  {'class_weight': {0: 0.6831313131313131, 1: 0.31686868686868686}},\n",
              "  {'class_weight': {0: 0.693030303030303, 1: 0.306969696969697}},\n",
              "  {'class_weight': {0: 0.702929292929293, 1: 0.29707070707070704}},\n",
              "  {'class_weight': {0: 0.7128282828282828, 1: 0.2871717171717172}},\n",
              "  {'class_weight': {0: 0.7227272727272727, 1: 0.27727272727272734}},\n",
              "  {'class_weight': {0: 0.7326262626262626, 1: 0.2673737373737374}},\n",
              "  {'class_weight': {0: 0.7425252525252525, 1: 0.2574747474747475}},\n",
              "  {'class_weight': {0: 0.7524242424242424, 1: 0.24757575757575756}},\n",
              "  {'class_weight': {0: 0.7623232323232323, 1: 0.2376767676767677}},\n",
              "  {'class_weight': {0: 0.7722222222222221, 1: 0.22777777777777786}},\n",
              "  {'class_weight': {0: 0.7821212121212121, 1: 0.2178787878787879}},\n",
              "  {'class_weight': {0: 0.792020202020202, 1: 0.20797979797979804}},\n",
              "  {'class_weight': {0: 0.8019191919191919, 1: 0.19808080808080808}},\n",
              "  {'class_weight': {0: 0.8118181818181818, 1: 0.18818181818181823}},\n",
              "  {'class_weight': {0: 0.8217171717171717, 1: 0.17828282828282827}},\n",
              "  {'class_weight': {0: 0.8316161616161616, 1: 0.1683838383838384}},\n",
              "  {'class_weight': {0: 0.8415151515151514, 1: 0.15848484848484856}},\n",
              "  {'class_weight': {0: 0.8514141414141414, 1: 0.1485858585858586}},\n",
              "  {'class_weight': {0: 0.8613131313131313, 1: 0.13868686868686875}},\n",
              "  {'class_weight': {0: 0.8712121212121212, 1: 0.12878787878787878}},\n",
              "  {'class_weight': {0: 0.8811111111111111, 1: 0.11888888888888893}},\n",
              "  {'class_weight': {0: 0.891010101010101, 1: 0.10898989898989897}},\n",
              "  {'class_weight': {0: 0.9009090909090909, 1: 0.09909090909090912}},\n",
              "  {'class_weight': {0: 0.9108080808080807, 1: 0.08919191919191927}},\n",
              "  {'class_weight': {0: 0.9207070707070707, 1: 0.0792929292929293}},\n",
              "  {'class_weight': {0: 0.9306060606060605, 1: 0.06939393939393945}},\n",
              "  {'class_weight': {0: 0.9405050505050505, 1: 0.05949494949494949}},\n",
              "  {'class_weight': {0: 0.9504040404040404, 1: 0.04959595959595964}},\n",
              "  {'class_weight': {0: 0.9603030303030302, 1: 0.039696969696969786}},\n",
              "  {'class_weight': {0: 0.9702020202020202, 1: 0.029797979797979823}},\n",
              "  {'class_weight': {0: 0.98010101010101, 1: 0.01989898989898997}},\n",
              "  {'class_weight': {0: 0.99, 1: 0.010000000000000009}}],\n",
              " 'split0_test_score': array([0.12565445, 0.11956522, 0.13333333, 0.13714286, 0.16296296,\n",
              "        0.19607843, 0.12820513, 0.17241379, 0.23529412, 0.06666667,\n",
              "        0.0952381 , 0.0625    , 0.10526316, 0.11764706, 0.125     ,\n",
              "        0.        , 0.11111111, 0.11764706, 0.15384615, 0.13333333,\n",
              "        0.13333333, 0.        , 0.        , 0.        , 0.        ,\n",
              "        0.        , 0.        , 0.        , 0.        , 0.        ,\n",
              "        0.15384615, 0.        , 0.15384615, 0.15384615, 0.        ,\n",
              "        0.        , 0.        , 0.15384615, 0.        , 0.        ,\n",
              "        0.15384615, 0.        , 0.        , 0.15384615, 0.        ,\n",
              "        0.        , 0.        , 0.        , 0.        , 0.        ,\n",
              "        0.        , 0.        , 0.        , 0.        , 0.        ,\n",
              "        0.        , 0.        , 0.        , 0.        , 0.        ,\n",
              "        0.        , 0.        , 0.        , 0.        , 0.        ,\n",
              "        0.        , 0.        , 0.        , 0.        , 0.        ,\n",
              "        0.        , 0.        , 0.        , 0.        , 0.        ,\n",
              "        0.        , 0.        , 0.        , 0.        , 0.        ,\n",
              "        0.        , 0.        , 0.        , 0.        , 0.        ,\n",
              "        0.        , 0.        , 0.        , 0.        , 0.        ,\n",
              "        0.        , 0.        , 0.        , 0.        , 0.        ,\n",
              "        0.        , 0.        , 0.        , 0.        , 0.        ]),\n",
              " 'split1_test_score': array([0.11702128, 0.12571429, 0.1038961 , 0.08450704, 0.09090909,\n",
              "        0.0754717 , 0.07142857, 0.02739726, 0.03571429, 0.        ,\n",
              "        0.        , 0.        , 0.        , 0.        , 0.        ,\n",
              "        0.        , 0.        , 0.        , 0.        , 0.        ,\n",
              "        0.        , 0.        , 0.        , 0.        , 0.        ,\n",
              "        0.        , 0.        , 0.        , 0.        , 0.        ,\n",
              "        0.        , 0.        , 0.        , 0.        , 0.        ,\n",
              "        0.        , 0.        , 0.        , 0.        , 0.        ,\n",
              "        0.        , 0.        , 0.        , 0.        , 0.        ,\n",
              "        0.        , 0.        , 0.        , 0.        , 0.        ,\n",
              "        0.        , 0.        , 0.        , 0.        , 0.        ,\n",
              "        0.        , 0.        , 0.        , 0.        , 0.        ,\n",
              "        0.        , 0.        , 0.        , 0.        , 0.        ,\n",
              "        0.        , 0.        , 0.        , 0.        , 0.        ,\n",
              "        0.        , 0.        , 0.        , 0.        , 0.        ,\n",
              "        0.        , 0.        , 0.        , 0.        , 0.        ,\n",
              "        0.        , 0.        , 0.        , 0.        , 0.        ,\n",
              "        0.        , 0.        , 0.        , 0.        , 0.        ,\n",
              "        0.        , 0.        , 0.        , 0.        , 0.        ,\n",
              "        0.        , 0.        , 0.        , 0.        , 0.        ]),\n",
              " 'split2_test_score': array([0.12182741, 0.11702128, 0.12903226, 0.14516129, 0.14678899,\n",
              "        0.19512195, 0.1875    , 0.21818182, 0.08695652, 0.10810811,\n",
              "        0.06896552, 0.13793103, 0.        , 0.        , 0.        ,\n",
              "        0.        , 0.        , 0.        , 0.        , 0.        ,\n",
              "        0.        , 0.        , 0.        , 0.        , 0.        ,\n",
              "        0.        , 0.        , 0.        , 0.        , 0.        ,\n",
              "        0.        , 0.        , 0.        , 0.        , 0.        ,\n",
              "        0.        , 0.        , 0.        , 0.        , 0.        ,\n",
              "        0.        , 0.        , 0.        , 0.        , 0.        ,\n",
              "        0.        , 0.        , 0.        , 0.        , 0.        ,\n",
              "        0.        , 0.        , 0.        , 0.        , 0.        ,\n",
              "        0.        , 0.        , 0.        , 0.        , 0.        ,\n",
              "        0.        , 0.        , 0.        , 0.        , 0.        ,\n",
              "        0.        , 0.        , 0.        , 0.        , 0.        ,\n",
              "        0.        , 0.        , 0.        , 0.        , 0.        ,\n",
              "        0.        , 0.        , 0.        , 0.        , 0.        ,\n",
              "        0.        , 0.        , 0.        , 0.        , 0.        ,\n",
              "        0.        , 0.        , 0.        , 0.        , 0.        ,\n",
              "        0.        , 0.        , 0.        , 0.        , 0.        ,\n",
              "        0.        , 0.        , 0.        , 0.        , 0.        ]),\n",
              " 'split3_test_score': array([0.12182741, 0.12222222, 0.13173653, 0.13043478, 0.12244898,\n",
              "        0.13636364, 0.13157895, 0.14705882, 0.17241379, 0.2173913 ,\n",
              "        0.17142857, 0.1875    , 0.3125    , 0.09090909, 0.08      ,\n",
              "        0.16      , 0.09090909, 0.0952381 , 0.        , 0.0952381 ,\n",
              "        0.        , 0.        , 0.        , 0.        , 0.        ,\n",
              "        0.        , 0.        , 0.        , 0.        , 0.        ,\n",
              "        0.        , 0.        , 0.        , 0.        , 0.        ,\n",
              "        0.        , 0.        , 0.        , 0.        , 0.        ,\n",
              "        0.        , 0.        , 0.        , 0.        , 0.        ,\n",
              "        0.        , 0.        , 0.        , 0.        , 0.        ,\n",
              "        0.        , 0.        , 0.        , 0.        , 0.        ,\n",
              "        0.        , 0.        , 0.        , 0.        , 0.        ,\n",
              "        0.        , 0.        , 0.        , 0.        , 0.        ,\n",
              "        0.        , 0.        , 0.        , 0.        , 0.        ,\n",
              "        0.        , 0.        , 0.        , 0.        , 0.        ,\n",
              "        0.        , 0.        , 0.        , 0.        , 0.        ,\n",
              "        0.        , 0.        , 0.        , 0.        , 0.        ,\n",
              "        0.        , 0.        , 0.        , 0.        , 0.        ,\n",
              "        0.        , 0.        , 0.        , 0.        , 0.        ,\n",
              "        0.        , 0.        , 0.        , 0.        , 0.        ]),\n",
              " 'split4_test_score': array([0.12903226, 0.13559322, 0.13924051, 0.14814815, 0.15929204,\n",
              "        0.16161616, 0.1686747 , 0.11764706, 0.14285714, 0.08888889,\n",
              "        0.1025641 , 0.10810811, 0.11764706, 0.12903226, 0.06060606,\n",
              "        0.06896552, 0.07142857, 0.        , 0.        , 0.        ,\n",
              "        0.07692308, 0.        , 0.        , 0.        , 0.        ,\n",
              "        0.        , 0.        , 0.        , 0.        , 0.        ,\n",
              "        0.        , 0.        , 0.        , 0.        , 0.        ,\n",
              "        0.        , 0.        , 0.        , 0.        , 0.        ,\n",
              "        0.        , 0.        , 0.        , 0.        , 0.        ,\n",
              "        0.        , 0.        , 0.        , 0.        , 0.        ,\n",
              "        0.        , 0.        , 0.        , 0.        , 0.        ,\n",
              "        0.        , 0.        , 0.        , 0.        , 0.        ,\n",
              "        0.        , 0.        , 0.        , 0.        , 0.        ,\n",
              "        0.        , 0.        , 0.        , 0.        , 0.        ,\n",
              "        0.        , 0.        , 0.        , 0.        , 0.        ,\n",
              "        0.        , 0.        , 0.        , 0.        , 0.        ,\n",
              "        0.        , 0.        , 0.        , 0.        , 0.        ,\n",
              "        0.        , 0.        , 0.        , 0.        , 0.        ,\n",
              "        0.        , 0.        , 0.        , 0.        , 0.        ,\n",
              "        0.        , 0.        , 0.        , 0.        , 0.        ]),\n",
              " 'mean_test_score': array([0.12307256, 0.12402324, 0.12744775, 0.12907882, 0.13648041,\n",
              "        0.15293038, 0.13747747, 0.13653975, 0.13464717, 0.09621099,\n",
              "        0.08763926, 0.09920783, 0.10708204, 0.06751768, 0.05312121,\n",
              "        0.0457931 , 0.05468975, 0.04257703, 0.03076923, 0.04571429,\n",
              "        0.04205128, 0.        , 0.        , 0.        , 0.        ,\n",
              "        0.        , 0.        , 0.        , 0.        , 0.        ,\n",
              "        0.03076923, 0.        , 0.03076923, 0.03076923, 0.        ,\n",
              "        0.        , 0.        , 0.03076923, 0.        , 0.        ,\n",
              "        0.03076923, 0.        , 0.        , 0.03076923, 0.        ,\n",
              "        0.        , 0.        , 0.        , 0.        , 0.        ,\n",
              "        0.        , 0.        , 0.        , 0.        , 0.        ,\n",
              "        0.        , 0.        , 0.        , 0.        , 0.        ,\n",
              "        0.        , 0.        , 0.        , 0.        , 0.        ,\n",
              "        0.        , 0.        , 0.        , 0.        , 0.        ,\n",
              "        0.        , 0.        , 0.        , 0.        , 0.        ,\n",
              "        0.        , 0.        , 0.        , 0.        , 0.        ,\n",
              "        0.        , 0.        , 0.        , 0.        , 0.        ,\n",
              "        0.        , 0.        , 0.        , 0.        , 0.        ,\n",
              "        0.        , 0.        , 0.        , 0.        , 0.        ,\n",
              "        0.        , 0.        , 0.        , 0.        , 0.        ]),\n",
              " 'std_test_score': array([0.00404729, 0.00646327, 0.01224168, 0.02313351, 0.02683874,\n",
              "        0.04470264, 0.03989673, 0.0637684 , 0.0688268 , 0.07072375,\n",
              "        0.05537236, 0.06413091, 0.11423186, 0.05650032, 0.04814308,\n",
              "        0.06304158, 0.04638391, 0.05262529, 0.06153846, 0.0572697 ,\n",
              "        0.05450392, 0.        , 0.        , 0.        , 0.        ,\n",
              "        0.        , 0.        , 0.        , 0.        , 0.        ,\n",
              "        0.06153846, 0.        , 0.06153846, 0.06153846, 0.        ,\n",
              "        0.        , 0.        , 0.06153846, 0.        , 0.        ,\n",
              "        0.06153846, 0.        , 0.        , 0.06153846, 0.        ,\n",
              "        0.        , 0.        , 0.        , 0.        , 0.        ,\n",
              "        0.        , 0.        , 0.        , 0.        , 0.        ,\n",
              "        0.        , 0.        , 0.        , 0.        , 0.        ,\n",
              "        0.        , 0.        , 0.        , 0.        , 0.        ,\n",
              "        0.        , 0.        , 0.        , 0.        , 0.        ,\n",
              "        0.        , 0.        , 0.        , 0.        , 0.        ,\n",
              "        0.        , 0.        , 0.        , 0.        , 0.        ,\n",
              "        0.        , 0.        , 0.        , 0.        , 0.        ,\n",
              "        0.        , 0.        , 0.        , 0.        , 0.        ,\n",
              "        0.        , 0.        , 0.        , 0.        , 0.        ,\n",
              "        0.        , 0.        , 0.        , 0.        , 0.        ]),\n",
              " 'rank_test_score': array([ 9,  8,  7,  6,  4,  1,  2,  3,  5, 12, 13, 11, 10, 14, 16, 17, 15,\n",
              "        19, 21, 18, 20, 28, 28, 28, 28, 28, 28, 28, 28, 28, 21, 28, 21, 21,\n",
              "        28, 28, 28, 21, 28, 28, 21, 28, 28, 21, 28, 28, 28, 28, 28, 28, 28,\n",
              "        28, 28, 28, 28, 28, 28, 28, 28, 28, 28, 28, 28, 28, 28, 28, 28, 28,\n",
              "        28, 28, 28, 28, 28, 28, 28, 28, 28, 28, 28, 28, 28, 28, 28, 28, 28,\n",
              "        28, 28, 28, 28, 28, 28, 28, 28, 28, 28, 28, 28, 28, 28, 28],\n",
              "       dtype=int32)}"
            ]
          },
          "metadata": {},
          "execution_count": 15
        }
      ]
    },
    {
      "cell_type": "code",
      "source": [
        "model.best_params_"
      ],
      "metadata": {
        "colab": {
          "base_uri": "https://localhost:8080/"
        },
        "id": "IMlT1r_zhCMR",
        "outputId": "f6939b4e-25f3-48e6-9fba-11990ce8025d"
      },
      "execution_count": 16,
      "outputs": [
        {
          "output_type": "execute_result",
          "data": {
            "text/plain": [
              "{'class_weight': {0: 0.059494949494949496, 1: 0.9405050505050505}}"
            ]
          },
          "metadata": {},
          "execution_count": 16
        }
      ]
    },
    {
      "cell_type": "code",
      "metadata": {
        "id": "gB7j4EfPqpBp",
        "colab": {
          "base_uri": "https://localhost:8080/",
          "height": 479
        },
        "outputId": "760d23a5-cb75-4f6e-92ff-25761810fa72"
      },
      "source": [
        "weight_1 = 1.0 - weights\n",
        "f1 = model.cv_results_['mean_test_score']\n",
        "\n",
        "print(model.best_params_)\n",
        "plt.figure(figsize=(12, 8))\n",
        "plt.plot(weight_1, f1)\n",
        "plt.axvline(model.best_params_['class_weight'][1], color = 'r')\n",
        "plt.axvline(0.93, color = 'g')\n",
        "plt.ylabel('F1 Score')\n",
        "plt.xlabel('Class 1 weight')\n",
        "plt.grid()\n",
        "plt.show()"
      ],
      "execution_count": 19,
      "outputs": [
        {
          "output_type": "stream",
          "name": "stdout",
          "text": [
            "{'class_weight': {0: 0.059494949494949496, 1: 0.9405050505050505}}\n"
          ]
        },
        {
          "output_type": "display_data",
          "data": {
            "text/plain": [
              "<Figure size 1200x800 with 1 Axes>"
            ],
            "image/png": "[encoded data removed]"
          },
          "metadata": {}
        }
      ]
    },
    {
      "cell_type": "markdown",
      "metadata": {
        "id": "eI_oSZ6UCL9N"
      },
      "source": [
        "## 4.실습 : 고객이탈 예측 - class weight 조정하기"
      ]
    },
    {
      "cell_type": "markdown",
      "metadata": {
        "id": "7S36humGXR-C"
      },
      "source": [
        "### (1) 데이터 준비"
      ]
    },
    {
      "cell_type": "markdown",
      "metadata": {
        "id": "sNmoIs-3amws"
      },
      "source": [
        "* 데이터 로딩"
      ]
    },
    {
      "cell_type": "code",
      "metadata": {
        "id": "2zyxe46-Bdms"
      },
      "source": [
        "path = \"mobile_class_imbalance.csv\"\n",
        "data = pd.read_csv(path)\n",
        "\n",
        "target = 'CHURN'\n",
        "x = data.drop(target, axis = 1)\n",
        "y = data.loc[:,target]"
      ],
      "execution_count": 20,
      "outputs": []
    },
    {
      "cell_type": "code",
      "metadata": {
        "id": "5W3wA7Y_U6Pk",
        "colab": {
          "base_uri": "https://localhost:8080/",
          "height": 226
        },
        "outputId": "215263b0-4564-4040-e252-1167895ea5dd"
      },
      "source": [
        "data.head()"
      ],
      "execution_count": 21,
      "outputs": [
        {
          "output_type": "execute_result",
          "data": {
            "text/plain": [
              "   COLLEGE  INCOME  OVERAGE  LEFTOVER   HOUSE  HANDSET_PRICE  \\\n",
              "0        1  145297       71        37  969515            478   \n",
              "1        0  115956        0        11  899704            710   \n",
              "2        0   40683      212        15  844664            188   \n",
              "3        1   33043        0        81  539732            162   \n",
              "4        1   50743        0        22  430005            318   \n",
              "\n",
              "   OVER_15MINS_CALLS_PER_MONTH  AVERAGE_CALL_DURATION REPORTED_SATISFACTION  \\\n",
              "0                            4                      1                   avg   \n",
              "1                            0                      5                 unsat   \n",
              "2                           24                      5            very_unsat   \n",
              "3                            1                      1                 unsat   \n",
              "4                           16                      5                 unsat   \n",
              "\n",
              "  REPORTED_USAGE_LEVEL CONSIDERING_CHANGE_OF_PLAN  CHURN  \n",
              "0          very_little                         no      0  \n",
              "1            very_high   actively_looking_into_it      0  \n",
              "2          very_little                         no      0  \n",
              "3          very_little              never_thought      0  \n",
              "4            very_high   actively_looking_into_it      0  "
            ],
            "text/html": [
              "\n",
              "  <div id=\"df-8258eed9-817d-4e4e-a7f5-32cb2782ee12\" class=\"colab-df-container\">\n",
              "    <div>\n",
              "<style scoped>\n",
              "    .dataframe tbody tr th:only-of-type {\n",
              "        vertical-align: middle;\n",
              "    }\n",
              "\n",
              "    .dataframe tbody tr th {\n",
              "        vertical-align: top;\n",
              "    }\n",
              "\n",
              "    .dataframe thead th {\n",
              "        text-align: right;\n",
              "    }\n",
              "</style>\n",
              "<table border=\"1\" class=\"dataframe\">\n",
              "  <thead>\n",
              "    <tr style=\"text-align: right;\">\n",
              "      <th></th>\n",
              "      <th>COLLEGE</th>\n",
              "      <th>INCOME</th>\n",
              "      <th>OVERAGE</th>\n",
              "      <th>LEFTOVER</th>\n",
              "      <th>HOUSE</th>\n",
              "      <th>HANDSET_PRICE</th>\n",
              "      <th>OVER_15MINS_CALLS_PER_MONTH</th>\n",
              "      <th>AVERAGE_CALL_DURATION</th>\n",
              "      <th>REPORTED_SATISFACTION</th>\n",
              "      <th>REPORTED_USAGE_LEVEL</th>\n",
              "      <th>CONSIDERING_CHANGE_OF_PLAN</th>\n",
              "      <th>CHURN</th>\n",
              "    </tr>\n",
              "  </thead>\n",
              "  <tbody>\n",
              "    <tr>\n",
              "      <th>0</th>\n",
              "      <td>1</td>\n",
              "      <td>145297</td>\n",
              "      <td>71</td>\n",
              "      <td>37</td>\n",
              "      <td>969515</td>\n",
              "      <td>478</td>\n",
              "      <td>4</td>\n",
              "      <td>1</td>\n",
              "      <td>avg</td>\n",
              "      <td>very_little</td>\n",
              "      <td>no</td>\n",
              "      <td>0</td>\n",
              "    </tr>\n",
              "    <tr>\n",
              "      <th>1</th>\n",
              "      <td>0</td>\n",
              "      <td>115956</td>\n",
              "      <td>0</td>\n",
              "      <td>11</td>\n",
              "      <td>899704</td>\n",
              "      <td>710</td>\n",
              "      <td>0</td>\n",
              "      <td>5</td>\n",
              "      <td>unsat</td>\n",
              "      <td>very_high</td>\n",
              "      <td>actively_looking_into_it</td>\n",
              "      <td>0</td>\n",
              "    </tr>\n",
              "    <tr>\n",
              "      <th>2</th>\n",
              "      <td>0</td>\n",
              "      <td>40683</td>\n",
              "      <td>212</td>\n",
              "      <td>15</td>\n",
              "      <td>844664</td>\n",
              "      <td>188</td>\n",
              "      <td>24</td>\n",
              "      <td>5</td>\n",
              "      <td>very_unsat</td>\n",
              "      <td>very_little</td>\n",
              "      <td>no</td>\n",
              "      <td>0</td>\n",
              "    </tr>\n",
              "    <tr>\n",
              "      <th>3</th>\n",
              "      <td>1</td>\n",
              "      <td>33043</td>\n",
              "      <td>0</td>\n",
              "      <td>81</td>\n",
              "      <td>539732</td>\n",
              "      <td>162</td>\n",
              "      <td>1</td>\n",
              "      <td>1</td>\n",
              "      <td>unsat</td>\n",
              "      <td>very_little</td>\n",
              "      <td>never_thought</td>\n",
              "      <td>0</td>\n",
              "    </tr>\n",
              "    <tr>\n",
              "      <th>4</th>\n",
              "      <td>1</td>\n",
              "      <td>50743</td>\n",
              "      <td>0</td>\n",
              "      <td>22</td>\n",
              "      <td>430005</td>\n",
              "      <td>318</td>\n",
              "      <td>16</td>\n",
              "      <td>5</td>\n",
              "      <td>unsat</td>\n",
              "      <td>very_high</td>\n",
              "      <td>actively_looking_into_it</td>\n",
              "      <td>0</td>\n",
              "    </tr>\n",
              "  </tbody>\n",
              "</table>\n",
              "</div>\n",
              "    <div class=\"colab-df-buttons\">\n",
              "\n",
              "  <div class=\"colab-df-container\">\n",
              "    <button class=\"colab-df-convert\" onclick=\"convertToInteractive('df-8258eed9-817d-4e4e-a7f5-32cb2782ee12')\"\n",
              "            title=\"Convert this dataframe to an interactive table.\"\n",
              "            style=\"display:none;\">\n",
              "\n",
              "  <svg xmlns=\"http://www.w3.org/2000/svg\" height=\"24px\" viewBox=\"0 -960 960 960\">\n",
              "    <path d=\"M120-120v-720h720v720H120Zm60-500h600v-160H180v160Zm220 220h160v-160H400v160Zm0 220h160v-160H400v160ZM180-400h160v-160H180v160Zm440 0h160v-160H620v160ZM180-180h160v-160H180v160Zm440 0h160v-160H620v160Z\"/>\n",
              "  </svg>\n",
              "    </button>\n",
              "\n",
              "  <style>\n",
              "    .colab-df-container {\n",
              "      display:flex;\n",
              "      gap: 12px;\n",
              "    }\n",
              "\n",
              "    .colab-df-convert {\n",
              "      background-color: #E8F0FE;\n",
              "      border: none;\n",
              "      border-radius: 50%;\n",
              "      cursor: pointer;\n",
              "      display: none;\n",
              "      fill: #1967D2;\n",
              "      height: 32px;\n",
              "      padding: 0 0 0 0;\n",
              "      width: 32px;\n",
              "    }\n",
              "\n",
              "    .colab-df-convert:hover {\n",
              "      background-color: #E2EBFA;\n",
              "      box-shadow: 0px 1px 2px rgba(60, 64, 67, 0.3), 0px 1px 3px 1px rgba(60, 64, 67, 0.15);\n",
              "      fill: #174EA6;\n",
              "    }\n",
              "\n",
              "    .colab-df-buttons div {\n",
              "      margin-bottom: 4px;\n",
              "    }\n",
              "\n",
              "    [theme=dark] .colab-df-convert {\n",
              "      background-color: #3B4455;\n",
              "      fill: #D2E3FC;\n",
              "    }\n",
              "\n",
              "    [theme=dark] .colab-df-convert:hover {\n",
              "      background-color: #434B5C;\n",
              "      box-shadow: 0px 1px 3px 1px rgba(0, 0, 0, 0.15);\n",
              "      filter: drop-shadow(0px 1px 2px rgba(0, 0, 0, 0.3));\n",
              "      fill: #FFFFFF;\n",
              "    }\n",
              "  </style>\n",
              "\n",
              "    <script>\n",
              "      const buttonEl =\n",
              "        document.querySelector('#df-8258eed9-817d-4e4e-a7f5-32cb2782ee12 button.colab-df-convert');\n",
              "      buttonEl.style.display =\n",
              "        google.colab.kernel.accessAllowed ? 'block' : 'none';\n",
              "\n",
              "      async function convertToInteractive(key) {\n",
              "        const element = document.querySelector('#df-8258eed9-817d-4e4e-a7f5-32cb2782ee12');\n",
              "        const dataTable =\n",
              "          await google.colab.kernel.invokeFunction('convertToInteractive',\n",
              "                                                    [key], {});\n",
              "        if (!dataTable) return;\n",
              "\n",
              "        const docLinkHtml = 'Like what you see? Visit the ' +\n",
              "          '<a target=\"_blank\" href=https://colab.research.google.com/notebooks/data_table.ipynb>data table notebook</a>'\n",
              "          + ' to learn more about interactive tables.';\n",
              "        element.innerHTML = '';\n",
              "        dataTable['output_type'] = 'display_data';\n",
              "        await google.colab.output.renderOutput(dataTable, element);\n",
              "        const docLink = document.createElement('div');\n",
              "        docLink.innerHTML = docLinkHtml;\n",
              "        element.appendChild(docLink);\n",
              "      }\n",
              "    </script>\n",
              "  </div>\n",
              "\n",
              "\n",
              "<div id=\"df-5437babe-616e-4b6a-8649-a5bb12047f31\">\n",
              "  <button class=\"colab-df-quickchart\" onclick=\"quickchart('df-5437babe-616e-4b6a-8649-a5bb12047f31')\"\n",
              "            title=\"Suggest charts\"\n",
              "            style=\"display:none;\">\n",
              "\n",
              "<svg xmlns=\"http://www.w3.org/2000/svg\" height=\"24px\"viewBox=\"0 0 24 24\"\n",
              "     width=\"24px\">\n",
              "    <g>\n",
              "        <path d=\"M19 3H5c-1.1 0-2 .9-2 2v14c0 1.1.9 2 2 2h14c1.1 0 2-.9 2-2V5c0-1.1-.9-2-2-2zM9 17H7v-7h2v7zm4 0h-2V7h2v10zm4 0h-2v-4h2v4z\"/>\n",
              "    </g>\n",
              "</svg>\n",
              "  </button>\n",
              "\n",
              "<style>\n",
              "  .colab-df-quickchart {\n",
              "      --bg-color: #E8F0FE;\n",
              "      --fill-color: #1967D2;\n",
              "      --hover-bg-color: #E2EBFA;\n",
              "      --hover-fill-color: #174EA6;\n",
              "      --disabled-fill-color: #AAA;\n",
              "      --disabled-bg-color: #DDD;\n",
              "  }\n",
              "\n",
              "  [theme=dark] .colab-df-quickchart {\n",
              "      --bg-color: #3B4455;\n",
              "      --fill-color: #D2E3FC;\n",
              "      --hover-bg-color: #434B5C;\n",
              "      --hover-fill-color: #FFFFFF;\n",
              "      --disabled-bg-color: #3B4455;\n",
              "      --disabled-fill-color: #666;\n",
              "  }\n",
              "\n",
              "  .colab-df-quickchart {\n",
              "    background-color: var(--bg-color);\n",
              "    border: none;\n",
              "    border-radius: 50%;\n",
              "    cursor: pointer;\n",
              "    display: none;\n",
              "    fill: var(--fill-color);\n",
              "    height: 32px;\n",
              "    padding: 0;\n",
              "    width: 32px;\n",
              "  }\n",
              "\n",
              "  .colab-df-quickchart:hover {\n",
              "    background-color: var(--hover-bg-color);\n",
              "    box-shadow: 0 1px 2px rgba(60, 64, 67, 0.3), 0 1px 3px 1px rgba(60, 64, 67, 0.15);\n",
              "    fill: var(--button-hover-fill-color);\n",
              "  }\n",
              "\n",
              "  .colab-df-quickchart-complete:disabled,\n",
              "  .colab-df-quickchart-complete:disabled:hover {\n",
              "    background-color: var(--disabled-bg-color);\n",
              "    fill: var(--disabled-fill-color);\n",
              "    box-shadow: none;\n",
              "  }\n",
              "\n",
              "  .colab-df-spinner {\n",
              "    border: 2px solid var(--fill-color);\n",
              "    border-color: transparent;\n",
              "    border-bottom-color: var(--fill-color);\n",
              "    animation:\n",
              "      spin 1s steps(1) infinite;\n",
              "  }\n",
              "\n",
              "  @keyframes spin {\n",
              "    0% {\n",
              "      border-color: transparent;\n",
              "      border-bottom-color: var(--fill-color);\n",
              "      border-left-color: var(--fill-color);\n",
              "    }\n",
              "    20% {\n",
              "      border-color: transparent;\n",
              "      border-left-color: var(--fill-color);\n",
              "      border-top-color: var(--fill-color);\n",
              "    }\n",
              "    30% {\n",
              "      border-color: transparent;\n",
              "      border-left-color: var(--fill-color);\n",
              "      border-top-color: var(--fill-color);\n",
              "      border-right-color: var(--fill-color);\n",
              "    }\n",
              "    40% {\n",
              "      border-color: transparent;\n",
              "      border-right-color: var(--fill-color);\n",
              "      border-top-color: var(--fill-color);\n",
              "    }\n",
              "    60% {\n",
              "      border-color: transparent;\n",
              "      border-right-color: var(--fill-color);\n",
              "    }\n",
              "    80% {\n",
              "      border-color: transparent;\n",
              "      border-right-color: var(--fill-color);\n",
              "      border-bottom-color: var(--fill-color);\n",
              "    }\n",
              "    90% {\n",
              "      border-color: transparent;\n",
              "      border-bottom-color: var(--fill-color);\n",
              "    }\n",
              "  }\n",
              "</style>\n",
              "\n",
              "  <script>\n",
              "    async function quickchart(key) {\n",
              "      const quickchartButtonEl =\n",
              "        document.querySelector('#' + key + ' button');\n",
              "      quickchartButtonEl.disabled = true;  // To prevent multiple clicks.\n",
              "      quickchartButtonEl.classList.add('colab-df-spinner');\n",
              "      try {\n",
              "        const charts = await google.colab.kernel.invokeFunction(\n",
              "            'suggestCharts', [key], {});\n",
              "      } catch (error) {\n",
              "        console.error('Error during call to suggestCharts:', error);\n",
              "      }\n",
              "      quickchartButtonEl.classList.remove('colab-df-spinner');\n",
              "      quickchartButtonEl.classList.add('colab-df-quickchart-complete');\n",
              "    }\n",
              "    (() => {\n",
              "      let quickchartButtonEl =\n",
              "        document.querySelector('#df-5437babe-616e-4b6a-8649-a5bb12047f31 button');\n",
              "      quickchartButtonEl.style.display =\n",
              "        google.colab.kernel.accessAllowed ? 'block' : 'none';\n",
              "    })();\n",
              "  </script>\n",
              "</div>\n",
              "    </div>\n",
              "  </div>\n"
            ],
            "application/vnd.google.colaboratory.intrinsic+json": {
              "type": "dataframe",
              "variable_name": "data",
              "summary": "{\n  \"name\": \"data\",\n  \"rows\": 10448,\n  \"fields\": [\n    {\n      \"column\": \"COLLEGE\",\n      \"properties\": {\n        \"dtype\": \"number\",\n        \"std\": 0,\n        \"min\": 0,\n        \"max\": 1,\n        \"num_unique_values\": 2,\n        \"samples\": [\n          0,\n          1\n        ],\n        \"semantic_type\": \"\",\n        \"description\": \"\"\n      }\n    },\n    {\n      \"column\": \"INCOME\",\n      \"properties\": {\n        \"dtype\": \"number\",\n        \"std\": 40440,\n        \"min\": 20012,\n        \"max\": 159983,\n        \"num_unique_values\": 10030,\n        \"samples\": [\n          69499,\n          59050\n        ],\n        \"semantic_type\": \"\",\n        \"description\": \"\"\n      }\n    },\n    {\n      \"column\": \"OVERAGE\",\n      \"properties\": {\n        \"dtype\": \"number\",\n        \"std\": 79,\n        \"min\": -2,\n        \"max\": 301,\n        \"num_unique_values\": 258,\n        \"samples\": [\n          261,\n          81\n        ],\n        \"semantic_type\": \"\",\n        \"description\": \"\"\n      }\n    },\n    {\n      \"column\": \"LEFTOVER\",\n      \"properties\": {\n        \"dtype\": \"number\",\n        \"std\": 25,\n        \"min\": 0,\n        \"max\": 89,\n        \"num_unique_values\": 86,\n        \"samples\": [\n          61,\n          37\n        ],\n        \"semantic_type\": \"\",\n        \"description\": \"\"\n      }\n    },\n    {\n      \"column\": \"HOUSE\",\n      \"properties\": {\n        \"dtype\": \"number\",\n        \"std\": 262925,\n        \"min\": 150298,\n        \"max\": 999996,\n        \"num_unique_values\": 10379,\n        \"samples\": [\n          743017,\n          358370\n        ],\n        \"semantic_type\": \"\",\n        \"description\": \"\"\n      }\n    },\n    {\n      \"column\": \"HANDSET_PRICE\",\n      \"properties\": {\n        \"dtype\": \"number\",\n        \"std\": 205,\n        \"min\": 130,\n        \"max\": 899,\n        \"num_unique_values\": 768,\n        \"samples\": [\n          766,\n          377\n        ],\n        \"semantic_type\": \"\",\n        \"description\": \"\"\n      }\n    },\n    {\n      \"column\": \"OVER_15MINS_CALLS_PER_MONTH\",\n      \"properties\": {\n        \"dtype\": \"number\",\n        \"std\": 8,\n        \"min\": 0,\n        \"max\": 29,\n        \"num_unique_values\": 25,\n        \"samples\": [\n          17,\n          19\n        ],\n        \"semantic_type\": \"\",\n        \"description\": \"\"\n      }\n    },\n    {\n      \"column\": \"AVERAGE_CALL_DURATION\",\n      \"properties\": {\n        \"dtype\": \"number\",\n        \"std\": 4,\n        \"min\": 1,\n        \"max\": 15,\n        \"num_unique_values\": 13,\n        \"samples\": [\n          11,\n          15\n        ],\n        \"semantic_type\": \"\",\n        \"description\": \"\"\n      }\n    },\n    {\n      \"column\": \"REPORTED_SATISFACTION\",\n      \"properties\": {\n        \"dtype\": \"category\",\n        \"num_unique_values\": 5,\n        \"samples\": [\n          \"unsat\",\n          \"sat\"\n        ],\n        \"semantic_type\": \"\",\n        \"description\": \"\"\n      }\n    },\n    {\n      \"column\": \"REPORTED_USAGE_LEVEL\",\n      \"properties\": {\n        \"dtype\": \"category\",\n        \"num_unique_values\": 5,\n        \"samples\": [\n          \"very_high\",\n          \"avg\"\n        ],\n        \"semantic_type\": \"\",\n        \"description\": \"\"\n      }\n    },\n    {\n      \"column\": \"CONSIDERING_CHANGE_OF_PLAN\",\n      \"properties\": {\n        \"dtype\": \"category\",\n        \"num_unique_values\": 5,\n        \"samples\": [\n          \"actively_looking_into_it\",\n          \"perhaps\"\n        ],\n        \"semantic_type\": \"\",\n        \"description\": \"\"\n      }\n    },\n    {\n      \"column\": \"CHURN\",\n      \"properties\": {\n        \"dtype\": \"number\",\n        \"std\": 0,\n        \"min\": 0,\n        \"max\": 1,\n        \"num_unique_values\": 2,\n        \"samples\": [\n          1,\n          0\n        ],\n        \"semantic_type\": \"\",\n        \"description\": \"\"\n      }\n    }\n  ]\n}"
            }
          },
          "metadata": {},
          "execution_count": 21
        }
      ]
    },
    {
      "cell_type": "code",
      "metadata": {
        "id": "CXZZOvW5UlW7",
        "colab": {
          "base_uri": "https://localhost:8080/"
        },
        "outputId": "e1171cc4-8bc0-4a18-9363-1820043fd7f5"
      },
      "source": [
        "y.value_counts() / y.shape[0]"
      ],
      "execution_count": null,
      "outputs": [
        {
          "output_type": "execute_result",
          "data": {
            "text/plain": [
              "0    0.971286\n",
              "1    0.028714\n",
              "Name: CHURN, dtype: float64"
            ]
          },
          "metadata": {},
          "execution_count": 21
        }
      ]
    },
    {
      "cell_type": "markdown",
      "metadata": {
        "id": "pxgEVZ9FaphV"
      },
      "source": [
        "* 가변수화"
      ]
    },
    {
      "cell_type": "code",
      "metadata": {
        "id": "FMKrp7I5aq5T"
      },
      "source": [
        "cat = ['REPORTED_SATISFACTION','REPORTED_USAGE_LEVEL','CONSIDERING_CHANGE_OF_PLAN']\n",
        "\n",
        "for v in cat :\n",
        "    dumm = pd.get_dummies(x[v], prefix=v, drop_first=True)\n",
        "    x = pd.concat([x, dumm], axis=1)\n",
        "    x.drop(v, axis=1, inplace = True)"
      ],
      "execution_count": 22,
      "outputs": []
    },
    {
      "cell_type": "markdown",
      "metadata": {
        "id": "9VHT2bGTcPM7"
      },
      "source": [
        "* 데이터 분할"
      ]
    },
    {
      "cell_type": "code",
      "metadata": {
        "id": "QycPweFycQoo"
      },
      "source": [
        "x_train, x_test, y_train, y_test = train_test_split(x, y, test_size = 2000, random_state=2021)\n",
        "x_train, x_val, y_train, y_val = train_test_split(x_train, y_train, test_size = 2000, random_state=2021)"
      ],
      "execution_count": 23,
      "outputs": []
    },
    {
      "cell_type": "markdown",
      "metadata": {
        "id": "xKqqwwgOcr6l"
      },
      "source": [
        "### (2)기본모델링\n",
        "> * 데이터셋을 그대로 모델링을 수행하시오.\n",
        "* 알고리즘 : 로지스틱회귀, decision tree, SVM 등\n",
        "* validate set으로 예측하고 평가(classification report, f1 score)해 봅시다.\n"
      ]
    },
    {
      "cell_type": "code",
      "metadata": {
        "id": "xVnwu6wmfD7N",
        "colab": {
          "base_uri": "https://localhost:8080/"
        },
        "outputId": "db50bcb8-5741-4dae-f631-873c28af7f6e"
      },
      "source": [
        "model = LogisticRegression()\n",
        "model.fit(x_train, y_train)\n",
        "pred = model.predict(x_val)\n",
        "\n",
        "print(confusion_matrix(y_val, pred))\n",
        "print('-' * 55)\n",
        "print(classification_report(y_val, pred))"
      ],
      "execution_count": 24,
      "outputs": [
        {
          "output_type": "stream",
          "name": "stdout",
          "text": [
            "[[1949    0]\n",
            " [  51    0]]\n",
            "-------------------------------------------------------\n",
            "              precision    recall  f1-score   support\n",
            "\n",
            "           0       0.97      1.00      0.99      1949\n",
            "           1       0.00      0.00      0.00        51\n",
            "\n",
            "    accuracy                           0.97      2000\n",
            "   macro avg       0.49      0.50      0.49      2000\n",
            "weighted avg       0.95      0.97      0.96      2000\n",
            "\n"
          ]
        }
      ]
    },
    {
      "cell_type": "markdown",
      "metadata": {
        "id": "kp0fafqDk8Yz"
      },
      "source": [
        "### (3) class weight : 값의 비율을 역으로 지정 'balanced'\n",
        "> * class_weight 값을 지정해서 모델링 해 봅시다.\n",
        "* 알고리즘 : 비교를 위해서 기본모델링에 사용한 알고리즘 사용\n",
        "* validate set으로 예측하고 평가(classification report, f1 score)해 봅시다.\n",
        "* resampling 후 수행한 모델과 성능에 대해 비교해 봅시다."
      ]
    },
    {
      "cell_type": "code",
      "metadata": {
        "id": "4G45yhmJk8Y0",
        "colab": {
          "base_uri": "https://localhost:8080/"
        },
        "outputId": "06ec948e-32bd-4cdd-8d8a-a1ce3f8eb6ac"
      },
      "source": [
        "# class_weight = 'balanced'\n",
        "\n",
        "model = LogisticRegression(class_weight='balanced')\n",
        "model.fit(x_train, y_train)\n",
        "pred = model.predict(x_val)\n",
        "\n",
        "print(confusion_matrix(y_val, pred))\n",
        "print('-' * 55)\n",
        "print(classification_report(y_val, pred))"
      ],
      "execution_count": 25,
      "outputs": [
        {
          "output_type": "stream",
          "name": "stdout",
          "text": [
            "[[1246  703]\n",
            " [  22   29]]\n",
            "-------------------------------------------------------\n",
            "              precision    recall  f1-score   support\n",
            "\n",
            "           0       0.98      0.64      0.77      1949\n",
            "           1       0.04      0.57      0.07        51\n",
            "\n",
            "    accuracy                           0.64      2000\n",
            "   macro avg       0.51      0.60      0.42      2000\n",
            "weighted avg       0.96      0.64      0.76      2000\n",
            "\n"
          ]
        }
      ]
    },
    {
      "cell_type": "code",
      "metadata": {
        "id": "CqKJgvb4k8Y0"
      },
      "source": [],
      "execution_count": null,
      "outputs": []
    },
    {
      "cell_type": "markdown",
      "metadata": {
        "id": "dTDa7cL9C2Vo"
      },
      "source": [
        "### (4) class weight : Grid Search 튜닝\n",
        "> * class_weight 값을 조금씩 조정하며 튜닝해 봅시다.\n",
        "* 최적의 성능 지점과 (3)의 비율과 비교해 봅시다."
      ]
    },
    {
      "cell_type": "code",
      "metadata": {
        "id": "RfomZHwYiiDz",
        "colab": {
          "base_uri": "https://localhost:8080/"
        },
        "outputId": "e2d935b7-a079-48f7-891f-ede31a90a95c"
      },
      "source": [
        "# class_weight = 비율로 수동 조절하도록 파라미터 설정\n",
        "weights = np.linspace(0.01,.99,100)\n",
        "\n",
        "params = {'class_weight': [{0:x, 1:1.0-x} for x in weights]}\n",
        "params"
      ],
      "execution_count": 26,
      "outputs": [
        {
          "output_type": "execute_result",
          "data": {
            "text/plain": [
              "{'class_weight': [{0: 0.01, 1: 0.99},\n",
              "  {0: 0.0198989898989899, 1: 0.9801010101010101},\n",
              "  {0: 0.029797979797979796, 1: 0.9702020202020202},\n",
              "  {0: 0.039696969696969696, 1: 0.9603030303030303},\n",
              "  {0: 0.049595959595959596, 1: 0.9504040404040404},\n",
              "  {0: 0.059494949494949496, 1: 0.9405050505050505},\n",
              "  {0: 0.06939393939393938, 1: 0.9306060606060607},\n",
              "  {0: 0.07929292929292929, 1: 0.9207070707070707},\n",
              "  {0: 0.08919191919191918, 1: 0.9108080808080808},\n",
              "  {0: 0.09909090909090908, 1: 0.9009090909090909},\n",
              "  {0: 0.10898989898989898, 1: 0.891010101010101},\n",
              "  {0: 0.11888888888888888, 1: 0.8811111111111112},\n",
              "  {0: 0.12878787878787878, 1: 0.8712121212121212},\n",
              "  {0: 0.1386868686868687, 1: 0.8613131313131313},\n",
              "  {0: 0.1485858585858586, 1: 0.8514141414141414},\n",
              "  {0: 0.15848484848484848, 1: 0.8415151515151515},\n",
              "  {0: 0.16838383838383839, 1: 0.8316161616161616},\n",
              "  {0: 0.1782828282828283, 1: 0.8217171717171717},\n",
              "  {0: 0.18818181818181817, 1: 0.8118181818181818},\n",
              "  {0: 0.19808080808080808, 1: 0.8019191919191919},\n",
              "  {0: 0.207979797979798, 1: 0.7920202020202021},\n",
              "  {0: 0.21787878787878787, 1: 0.7821212121212121},\n",
              "  {0: 0.22777777777777777, 1: 0.7722222222222223},\n",
              "  {0: 0.23767676767676768, 1: 0.7623232323232323},\n",
              "  {0: 0.24757575757575756, 1: 0.7524242424242424},\n",
              "  {0: 0.25747474747474747, 1: 0.7425252525252526},\n",
              "  {0: 0.2673737373737374, 1: 0.7326262626262626},\n",
              "  {0: 0.2772727272727273, 1: 0.7227272727272727},\n",
              "  {0: 0.2871717171717172, 1: 0.7128282828282828},\n",
              "  {0: 0.29707070707070704, 1: 0.702929292929293},\n",
              "  {0: 0.30696969696969695, 1: 0.6930303030303031},\n",
              "  {0: 0.31686868686868686, 1: 0.6831313131313131},\n",
              "  {0: 0.32676767676767676, 1: 0.6732323232323232},\n",
              "  {0: 0.33666666666666667, 1: 0.6633333333333333},\n",
              "  {0: 0.3465656565656566, 1: 0.6534343434343435},\n",
              "  {0: 0.3564646464646465, 1: 0.6435353535353535},\n",
              "  {0: 0.36636363636363634, 1: 0.6336363636363637},\n",
              "  {0: 0.37626262626262624, 1: 0.6237373737373737},\n",
              "  {0: 0.38616161616161615, 1: 0.6138383838383838},\n",
              "  {0: 0.39606060606060606, 1: 0.603939393939394},\n",
              "  {0: 0.40595959595959596, 1: 0.594040404040404},\n",
              "  {0: 0.41585858585858587, 1: 0.5841414141414141},\n",
              "  {0: 0.4257575757575757, 1: 0.5742424242424242},\n",
              "  {0: 0.43565656565656563, 1: 0.5643434343434344},\n",
              "  {0: 0.44555555555555554, 1: 0.5544444444444445},\n",
              "  {0: 0.45545454545454545, 1: 0.5445454545454546},\n",
              "  {0: 0.46535353535353535, 1: 0.5346464646464646},\n",
              "  {0: 0.47525252525252526, 1: 0.5247474747474747},\n",
              "  {0: 0.4851515151515151, 1: 0.5148484848484849},\n",
              "  {0: 0.495050505050505, 1: 0.504949494949495},\n",
              "  {0: 0.5049494949494949, 1: 0.4950505050505051},\n",
              "  {0: 0.5148484848484849, 1: 0.4851515151515151},\n",
              "  {0: 0.5247474747474747, 1: 0.47525252525252526},\n",
              "  {0: 0.5346464646464646, 1: 0.4653535353535354},\n",
              "  {0: 0.5445454545454546, 1: 0.45545454545454545},\n",
              "  {0: 0.5544444444444444, 1: 0.4455555555555556},\n",
              "  {0: 0.5643434343434344, 1: 0.43565656565656563},\n",
              "  {0: 0.5742424242424242, 1: 0.4257575757575758},\n",
              "  {0: 0.5841414141414141, 1: 0.4158585858585859},\n",
              "  {0: 0.594040404040404, 1: 0.40595959595959596},\n",
              "  {0: 0.6039393939393939, 1: 0.3960606060606061},\n",
              "  {0: 0.6138383838383838, 1: 0.38616161616161615},\n",
              "  {0: 0.6237373737373737, 1: 0.3762626262626263},\n",
              "  {0: 0.6336363636363637, 1: 0.36636363636363634},\n",
              "  {0: 0.6435353535353535, 1: 0.3564646464646465},\n",
              "  {0: 0.6534343434343434, 1: 0.34656565656565663},\n",
              "  {0: 0.6633333333333333, 1: 0.33666666666666667},\n",
              "  {0: 0.6732323232323232, 1: 0.3267676767676768},\n",
              "  {0: 0.6831313131313131, 1: 0.31686868686868686},\n",
              "  {0: 0.693030303030303, 1: 0.306969696969697},\n",
              "  {0: 0.702929292929293, 1: 0.29707070707070704},\n",
              "  {0: 0.7128282828282828, 1: 0.2871717171717172},\n",
              "  {0: 0.7227272727272727, 1: 0.27727272727272734},\n",
              "  {0: 0.7326262626262626, 1: 0.2673737373737374},\n",
              "  {0: 0.7425252525252525, 1: 0.2574747474747475},\n",
              "  {0: 0.7524242424242424, 1: 0.24757575757575756},\n",
              "  {0: 0.7623232323232323, 1: 0.2376767676767677},\n",
              "  {0: 0.7722222222222221, 1: 0.22777777777777786},\n",
              "  {0: 0.7821212121212121, 1: 0.2178787878787879},\n",
              "  {0: 0.792020202020202, 1: 0.20797979797979804},\n",
              "  {0: 0.8019191919191919, 1: 0.19808080808080808},\n",
              "  {0: 0.8118181818181818, 1: 0.18818181818181823},\n",
              "  {0: 0.8217171717171717, 1: 0.17828282828282827},\n",
              "  {0: 0.8316161616161616, 1: 0.1683838383838384},\n",
              "  {0: 0.8415151515151514, 1: 0.15848484848484856},\n",
              "  {0: 0.8514141414141414, 1: 0.1485858585858586},\n",
              "  {0: 0.8613131313131313, 1: 0.13868686868686875},\n",
              "  {0: 0.8712121212121212, 1: 0.12878787878787878},\n",
              "  {0: 0.8811111111111111, 1: 0.11888888888888893},\n",
              "  {0: 0.891010101010101, 1: 0.10898989898989897},\n",
              "  {0: 0.9009090909090909, 1: 0.09909090909090912},\n",
              "  {0: 0.9108080808080807, 1: 0.08919191919191927},\n",
              "  {0: 0.9207070707070707, 1: 0.0792929292929293},\n",
              "  {0: 0.9306060606060605, 1: 0.06939393939393945},\n",
              "  {0: 0.9405050505050505, 1: 0.05949494949494949},\n",
              "  {0: 0.9504040404040404, 1: 0.04959595959595964},\n",
              "  {0: 0.9603030303030302, 1: 0.039696969696969786},\n",
              "  {0: 0.9702020202020202, 1: 0.029797979797979823},\n",
              "  {0: 0.98010101010101, 1: 0.01989898989898997},\n",
              "  {0: 0.99, 1: 0.010000000000000009}]}"
            ]
          },
          "metadata": {},
          "execution_count": 26
        }
      ]
    },
    {
      "cell_type": "code",
      "metadata": {
        "colab": {
          "base_uri": "https://localhost:8080/",
          "height": 117
        },
        "id": "vxWFM5CbiiD0",
        "outputId": "343159d5-9662-4edc-d623-d1e04b5dc01e"
      },
      "source": [
        "# Grid Search : 그리드서치로 튜닝\n",
        "# StratifiedKFold : 층화추출\n",
        "model = GridSearchCV(LogisticRegression(), params\n",
        "                    , cv= StratifiedKFold(5), scoring='f1')\n",
        "model.fit(x_train, y_train)"
      ],
      "execution_count": 27,
      "outputs": [
        {
          "output_type": "execute_result",
          "data": {
            "text/plain": [
              "GridSearchCV(cv=StratifiedKFold(n_splits=5, random_state=None, shuffle=False),\n",
              "             estimator=LogisticRegression(),\n",
              "             param_grid={'class_weight': [{0: 0.01, 1: 0.99},\n",
              "                                          {0: 0.0198989898989899,\n",
              "                                           1: 0.9801010101010101},\n",
              "                                          {0: 0.029797979797979796,\n",
              "                                           1: 0.9702020202020202},\n",
              "                                          {0: 0.039696969696969696,\n",
              "                                           1: 0.9603030303030303},\n",
              "                                          {0: 0.049595959595959596,\n",
              "                                           1: 0.9504040404040404},\n",
              "                                          {0: 0.059494949494...\n",
              "                                           1: 0.7722222222222223},\n",
              "                                          {0: 0.23767676767676768,\n",
              "                                           1: 0.7623232323232323},\n",
              "                                          {0: 0.24757575757575756,\n",
              "                                           1: 0.7524242424242424},\n",
              "                                          {0: 0.25747474747474747,\n",
              "                                           1: 0.7425252525252526},\n",
              "                                          {0: 0.2673737373737374,\n",
              "                                           1: 0.7326262626262626},\n",
              "                                          {0: 0.2772727272727273,\n",
              "                                           1: 0.7227272727272727},\n",
              "                                          {0: 0.2871717171717172,\n",
              "                                           1: 0.7128282828282828},\n",
              "                                          {0: 0.29707070707070704,\n",
              "                                           1: 0.702929292929293}, ...]},\n",
              "             scoring='f1')"
            ],
            "text/html": [
              "<style>#sk-container-id-2 {color: black;background-color: white;}#sk-container-id-2 pre{padding: 0;}#sk-container-id-2 div.sk-toggleable {background-color: white;}#sk-container-id-2 label.sk-toggleable__label {cursor: pointer;display: block;width: 100%;margin-bottom: 0;padding: 0.3em;box-sizing: border-box;text-align: center;}#sk-container-id-2 label.sk-toggleable__label-arrow:before {content: \"▸\";float: left;margin-right: 0.25em;color: #696969;}#sk-container-id-2 label.sk-toggleable__label-arrow:hover:before {color: black;}#sk-container-id-2 div.sk-estimator:hover label.sk-toggleable__label-arrow:before {color: black;}#sk-container-id-2 div.sk-toggleable__content {max-height: 0;max-width: 0;overflow: hidden;text-align: left;background-color: #f0f8ff;}#sk-container-id-2 div.sk-toggleable__content pre {margin: 0.2em;color: black;border-radius: 0.25em;background-color: #f0f8ff;}#sk-container-id-2 input.sk-toggleable__control:checked~div.sk-toggleable__content {max-height: 200px;max-width: 100%;overflow: auto;}#sk-container-id-2 input.sk-toggleable__control:checked~label.sk-toggleable__label-arrow:before {content: \"▾\";}#sk-container-id-2 div.sk-estimator input.sk-toggleable__control:checked~label.sk-toggleable__label {background-color: #d4ebff;}#sk-container-id-2 div.sk-label input.sk-toggleable__control:checked~label.sk-toggleable__label {background-color: #d4ebff;}#sk-container-id-2 input.sk-hidden--visually {border: 0;clip: rect(1px 1px 1px 1px);clip: rect(1px, 1px, 1px, 1px);height: 1px;margin: -1px;overflow: hidden;padding: 0;position: absolute;width: 1px;}#sk-container-id-2 div.sk-estimator {font-family: monospace;background-color: #f0f8ff;border: 1px dotted black;border-radius: 0.25em;box-sizing: border-box;margin-bottom: 0.5em;}#sk-container-id-2 div.sk-estimator:hover {background-color: #d4ebff;}#sk-container-id-2 div.sk-parallel-item::after {content: \"\";width: 100%;border-bottom: 1px solid gray;flex-grow: 1;}#sk-container-id-2 div.sk-label:hover label.sk-toggleable__label {background-color: #d4ebff;}#sk-container-id-2 div.sk-serial::before {content: \"\";position: absolute;border-left: 1px solid gray;box-sizing: border-box;top: 0;bottom: 0;left: 50%;z-index: 0;}#sk-container-id-2 div.sk-serial {display: flex;flex-direction: column;align-items: center;background-color: white;padding-right: 0.2em;padding-left: 0.2em;position: relative;}#sk-container-id-2 div.sk-item {position: relative;z-index: 1;}#sk-container-id-2 div.sk-parallel {display: flex;align-items: stretch;justify-content: center;background-color: white;position: relative;}#sk-container-id-2 div.sk-item::before, #sk-container-id-2 div.sk-parallel-item::before {content: \"\";position: absolute;border-left: 1px solid gray;box-sizing: border-box;top: 0;bottom: 0;left: 50%;z-index: -1;}#sk-container-id-2 div.sk-parallel-item {display: flex;flex-direction: column;z-index: 1;position: relative;background-color: white;}#sk-container-id-2 div.sk-parallel-item:first-child::after {align-self: flex-end;width: 50%;}#sk-container-id-2 div.sk-parallel-item:last-child::after {align-self: flex-start;width: 50%;}#sk-container-id-2 div.sk-parallel-item:only-child::after {width: 0;}#sk-container-id-2 div.sk-dashed-wrapped {border: 1px dashed gray;margin: 0 0.4em 0.5em 0.4em;box-sizing: border-box;padding-bottom: 0.4em;background-color: white;}#sk-container-id-2 div.sk-label label {font-family: monospace;font-weight: bold;display: inline-block;line-height: 1.2em;}#sk-container-id-2 div.sk-label-container {text-align: center;}#sk-container-id-2 div.sk-container {/* jupyter's `normalize.less` sets `[hidden] { display: none; }` but bootstrap.min.css set `[hidden] { display: none !important; }` so we also need the `!important` here to be able to override the default hidden behavior on the sphinx rendered scikit-learn.org. See: https://github.com/scikit-learn/scikit-learn/issues/21755 */display: inline-block !important;position: relative;}#sk-container-id-2 div.sk-text-repr-fallback {display: none;}</style><div id=\"sk-container-id-2\" class=\"sk-top-container\"><div class=\"sk-text-repr-fallback\"><pre>GridSearchCV(cv=StratifiedKFold(n_splits=5, random_state=None, shuffle=False),\n",
              "             estimator=LogisticRegression(),\n",
              "             param_grid={&#x27;class_weight&#x27;: [{0: 0.01, 1: 0.99},\n",
              "                                          {0: 0.0198989898989899,\n",
              "                                           1: 0.9801010101010101},\n",
              "                                          {0: 0.029797979797979796,\n",
              "                                           1: 0.9702020202020202},\n",
              "                                          {0: 0.039696969696969696,\n",
              "                                           1: 0.9603030303030303},\n",
              "                                          {0: 0.049595959595959596,\n",
              "                                           1: 0.9504040404040404},\n",
              "                                          {0: 0.059494949494...\n",
              "                                           1: 0.7722222222222223},\n",
              "                                          {0: 0.23767676767676768,\n",
              "                                           1: 0.7623232323232323},\n",
              "                                          {0: 0.24757575757575756,\n",
              "                                           1: 0.7524242424242424},\n",
              "                                          {0: 0.25747474747474747,\n",
              "                                           1: 0.7425252525252526},\n",
              "                                          {0: 0.2673737373737374,\n",
              "                                           1: 0.7326262626262626},\n",
              "                                          {0: 0.2772727272727273,\n",
              "                                           1: 0.7227272727272727},\n",
              "                                          {0: 0.2871717171717172,\n",
              "                                           1: 0.7128282828282828},\n",
              "                                          {0: 0.29707070707070704,\n",
              "                                           1: 0.702929292929293}, ...]},\n",
              "             scoring=&#x27;f1&#x27;)</pre><b>In a Jupyter environment, please rerun this cell to show the HTML representation or trust the notebook. <br />On GitHub, the HTML representation is unable to render, please try loading this page with nbviewer.org.</b></div><div class=\"sk-container\" hidden><div class=\"sk-item sk-dashed-wrapped\"><div class=\"sk-label-container\"><div class=\"sk-label sk-toggleable\"><input class=\"sk-toggleable__control sk-hidden--visually\" id=\"sk-estimator-id-4\" type=\"checkbox\" ><label for=\"sk-estimator-id-4\" class=\"sk-toggleable__label sk-toggleable__label-arrow\">GridSearchCV</label><div class=\"sk-toggleable__content\"><pre>GridSearchCV(cv=StratifiedKFold(n_splits=5, random_state=None, shuffle=False),\n",
              "             estimator=LogisticRegression(),\n",
              "             param_grid={&#x27;class_weight&#x27;: [{0: 0.01, 1: 0.99},\n",
              "                                          {0: 0.0198989898989899,\n",
              "                                           1: 0.9801010101010101},\n",
              "                                          {0: 0.029797979797979796,\n",
              "                                           1: 0.9702020202020202},\n",
              "                                          {0: 0.039696969696969696,\n",
              "                                           1: 0.9603030303030303},\n",
              "                                          {0: 0.049595959595959596,\n",
              "                                           1: 0.9504040404040404},\n",
              "                                          {0: 0.059494949494...\n",
              "                                           1: 0.7722222222222223},\n",
              "                                          {0: 0.23767676767676768,\n",
              "                                           1: 0.7623232323232323},\n",
              "                                          {0: 0.24757575757575756,\n",
              "                                           1: 0.7524242424242424},\n",
              "                                          {0: 0.25747474747474747,\n",
              "                                           1: 0.7425252525252526},\n",
              "                                          {0: 0.2673737373737374,\n",
              "                                           1: 0.7326262626262626},\n",
              "                                          {0: 0.2772727272727273,\n",
              "                                           1: 0.7227272727272727},\n",
              "                                          {0: 0.2871717171717172,\n",
              "                                           1: 0.7128282828282828},\n",
              "                                          {0: 0.29707070707070704,\n",
              "                                           1: 0.702929292929293}, ...]},\n",
              "             scoring=&#x27;f1&#x27;)</pre></div></div></div><div class=\"sk-parallel\"><div class=\"sk-parallel-item\"><div class=\"sk-item\"><div class=\"sk-label-container\"><div class=\"sk-label sk-toggleable\"><input class=\"sk-toggleable__control sk-hidden--visually\" id=\"sk-estimator-id-5\" type=\"checkbox\" ><label for=\"sk-estimator-id-5\" class=\"sk-toggleable__label sk-toggleable__label-arrow\">estimator: LogisticRegression</label><div class=\"sk-toggleable__content\"><pre>LogisticRegression()</pre></div></div></div><div class=\"sk-serial\"><div class=\"sk-item\"><div class=\"sk-estimator sk-toggleable\"><input class=\"sk-toggleable__control sk-hidden--visually\" id=\"sk-estimator-id-6\" type=\"checkbox\" ><label for=\"sk-estimator-id-6\" class=\"sk-toggleable__label sk-toggleable__label-arrow\">LogisticRegression</label><div class=\"sk-toggleable__content\"><pre>LogisticRegression()</pre></div></div></div></div></div></div></div></div></div></div>"
            ]
          },
          "metadata": {},
          "execution_count": 27
        }
      ]
    },
    {
      "cell_type": "code",
      "metadata": {
        "id": "kbBm51GmiiD1",
        "colab": {
          "base_uri": "https://localhost:8080/"
        },
        "outputId": "51b87c95-2597-4e64-d3b6-ef01f0b08432"
      },
      "source": [
        "model.cv_results_"
      ],
      "execution_count": 28,
      "outputs": [
        {
          "output_type": "execute_result",
          "data": {
            "text/plain": [
              "{'mean_fit_time': array([0.08920898, 0.04867182, 0.04600916, 0.06074324, 0.04991555,\n",
              "        0.04345155, 0.04119124, 0.05327945, 0.0597785 , 0.04259262,\n",
              "        0.05018177, 0.03901181, 0.04898081, 0.0511745 , 0.05273066,\n",
              "        0.0563798 , 0.0469388 , 0.04902306, 0.04386115, 0.04989448,\n",
              "        0.04257188, 0.05337954, 0.05356274, 0.05181475, 0.05139608,\n",
              "        0.05232944, 0.04846101, 0.05252314, 0.05436654, 0.04893098,\n",
              "        0.05223646, 0.05692906, 0.05436187, 0.05508342, 0.09933372,\n",
              "        0.14960203, 0.11369939, 0.13650379, 0.17614498, 0.05818005,\n",
              "        0.05795317, 0.06231251, 0.06281462, 0.06593933, 0.07315755,\n",
              "        0.06678777, 0.06220231, 0.06819267, 0.06440196, 0.05683641,\n",
              "        0.05818586, 0.0598856 , 0.05945029, 0.06370802, 0.06465368,\n",
              "        0.05031939, 0.0703043 , 0.06368303, 0.06214719, 0.06248164,\n",
              "        0.05359578, 0.04633198, 0.07890124, 0.06371608, 0.05747485,\n",
              "        0.07197161, 0.06275406, 0.10738583, 0.16823344, 0.12973361,\n",
              "        0.13938432, 0.1531322 , 0.04807582, 0.05883293, 0.06453047,\n",
              "        0.05532503, 0.04370565, 0.06047606, 0.04663959, 0.05474491,\n",
              "        0.06442943, 0.05303841, 0.07274094, 0.0770268 , 0.0516252 ,\n",
              "        0.06526399, 0.07381463, 0.06219935, 0.06787701, 0.07028279,\n",
              "        0.06812916, 0.05923638, 0.05874276, 0.07085948, 0.05628181,\n",
              "        0.05527334, 0.06559072, 0.08195972, 0.06507788, 0.15053725]),\n",
              " 'std_fit_time': array([0.03568463, 0.0048293 , 0.00701605, 0.02417096, 0.01327528,\n",
              "        0.00624125, 0.0090267 , 0.01598797, 0.01517335, 0.01166937,\n",
              "        0.01451898, 0.00576633, 0.00866545, 0.01131269, 0.02164247,\n",
              "        0.01241601, 0.00834193, 0.01383715, 0.00922968, 0.01319035,\n",
              "        0.00795   , 0.02205986, 0.01379343, 0.01145899, 0.00636419,\n",
              "        0.01813403, 0.01098959, 0.0101491 , 0.01064249, 0.00906175,\n",
              "        0.01733427, 0.02150932, 0.02051723, 0.00618723, 0.01732574,\n",
              "        0.04222655, 0.02381919, 0.03789619, 0.0291402 , 0.01418587,\n",
              "        0.01229911, 0.01542533, 0.01505776, 0.01460283, 0.01696784,\n",
              "        0.01154792, 0.01652047, 0.02472642, 0.00725926, 0.01337711,\n",
              "        0.02663832, 0.01525349, 0.00711083, 0.01439509, 0.01711934,\n",
              "        0.01172317, 0.02123535, 0.01493937, 0.01130491, 0.01780559,\n",
              "        0.0152195 , 0.01135801, 0.01140103, 0.01332956, 0.00613499,\n",
              "        0.02970728, 0.00936181, 0.04197643, 0.03681854, 0.03898801,\n",
              "        0.04540495, 0.07607853, 0.01574327, 0.01604878, 0.01736295,\n",
              "        0.01411242, 0.01754755, 0.01966734, 0.0153997 , 0.01049607,\n",
              "        0.01458578, 0.01792776, 0.02018905, 0.01509389, 0.0155558 ,\n",
              "        0.01624493, 0.02510572, 0.01598945, 0.02298734, 0.01213075,\n",
              "        0.01559742, 0.01764852, 0.02809688, 0.01805084, 0.02147039,\n",
              "        0.01555078, 0.02114015, 0.010035  , 0.02943402, 0.08125415]),\n",
              " 'mean_score_time': array([0.01152611, 0.00833821, 0.0067348 , 0.0079576 , 0.00836821,\n",
              "        0.00650406, 0.00702229, 0.00909905, 0.00753512, 0.00738907,\n",
              "        0.00730081, 0.00682449, 0.00782208, 0.0069232 , 0.00660634,\n",
              "        0.00707479, 0.00701785, 0.00870609, 0.0068224 , 0.00650845,\n",
              "        0.0081027 , 0.00868988, 0.00680056, 0.00709529, 0.00686264,\n",
              "        0.00708771, 0.0086534 , 0.00676155, 0.00769477, 0.00771027,\n",
              "        0.00740423, 0.00713515, 0.00730629, 0.00721989, 0.01315522,\n",
              "        0.01339941, 0.01004581, 0.01525478, 0.01439829, 0.00670753,\n",
              "        0.00720663, 0.00682778, 0.00746307, 0.00653253, 0.00720887,\n",
              "        0.00691099, 0.00769339, 0.00815992, 0.00681853, 0.00672493,\n",
              "        0.00704875, 0.00721741, 0.0068068 , 0.00678601, 0.00696106,\n",
              "        0.00673561, 0.0067317 , 0.00694466, 0.00691156, 0.00869761,\n",
              "        0.00687127, 0.00682898, 0.00668426, 0.00686431, 0.00695753,\n",
              "        0.00715132, 0.00715027, 0.01348033, 0.01493087, 0.0099401 ,\n",
              "        0.01704297, 0.00981636, 0.0082653 , 0.00726132, 0.00673475,\n",
              "        0.00651627, 0.00756078, 0.00689297, 0.00677018, 0.00698166,\n",
              "        0.0081099 , 0.00674987, 0.00779152, 0.00695844, 0.00664682,\n",
              "        0.00688138, 0.00679173, 0.00792441, 0.00668983, 0.00708232,\n",
              "        0.00648594, 0.00812764, 0.00680523, 0.00656581, 0.00690327,\n",
              "        0.00676303, 0.0066709 , 0.00727229, 0.0077105 , 0.01031618]),\n",
              " 'std_score_time': array([0.00548192, 0.00329176, 0.00024039, 0.00223893, 0.003096  ,\n",
              "        0.00014805, 0.00062122, 0.00227008, 0.00198987, 0.00108374,\n",
              "        0.00065875, 0.00040704, 0.00254646, 0.00053095, 0.00020561,\n",
              "        0.00074623, 0.00036435, 0.00324674, 0.00042053, 0.00010095,\n",
              "        0.00146504, 0.003115  , 0.00042209, 0.00038591, 0.00011936,\n",
              "        0.00062715, 0.00219851, 0.00013117, 0.00163343, 0.00117708,\n",
              "        0.00063242, 0.00049206, 0.00029152, 0.00050731, 0.00439357,\n",
              "        0.00588612, 0.00252097, 0.00452315, 0.00461682, 0.00015969,\n",
              "        0.00025601, 0.00024893, 0.00129975, 0.00011851, 0.00059862,\n",
              "        0.000268  , 0.00079504, 0.00258835, 0.00038484, 0.00037853,\n",
              "        0.00065747, 0.00102763, 0.00038149, 0.00044028, 0.00041131,\n",
              "        0.00019123, 0.00034763, 0.0004293 , 0.00024012, 0.00281843,\n",
              "        0.00035057, 0.00029089, 0.00014241, 0.00035964, 0.00062295,\n",
              "        0.00081649, 0.00066827, 0.00424228, 0.00471296, 0.00075381,\n",
              "        0.00277087, 0.00447802, 0.00283312, 0.00060429, 0.0003462 ,\n",
              "        0.00011264, 0.00167739, 0.00033138, 0.00024828, 0.00047824,\n",
              "        0.00159841, 0.00042949, 0.00097823, 0.00037789, 0.00020192,\n",
              "        0.0003125 , 0.00032574, 0.00253689, 0.00028296, 0.00093266,\n",
              "        0.00026684, 0.00216348, 0.0003792 , 0.00013119, 0.00019051,\n",
              "        0.00024976, 0.00025127, 0.0016429 , 0.00042252, 0.0041993 ]),\n",
              " 'param_class_weight': masked_array(data=[{0: 0.01, 1: 0.99},\n",
              "                    {0: 0.0198989898989899, 1: 0.9801010101010101},\n",
              "                    {0: 0.029797979797979796, 1: 0.9702020202020202},\n",
              "                    {0: 0.039696969696969696, 1: 0.9603030303030303},\n",
              "                    {0: 0.049595959595959596, 1: 0.9504040404040404},\n",
              "                    {0: 0.059494949494949496, 1: 0.9405050505050505},\n",
              "                    {0: 0.06939393939393938, 1: 0.9306060606060607},\n",
              "                    {0: 0.07929292929292929, 1: 0.9207070707070707},\n",
              "                    {0: 0.08919191919191918, 1: 0.9108080808080808},\n",
              "                    {0: 0.09909090909090908, 1: 0.9009090909090909},\n",
              "                    {0: 0.10898989898989898, 1: 0.891010101010101},\n",
              "                    {0: 0.11888888888888888, 1: 0.8811111111111112},\n",
              "                    {0: 0.12878787878787878, 1: 0.8712121212121212},\n",
              "                    {0: 0.1386868686868687, 1: 0.8613131313131313},\n",
              "                    {0: 0.1485858585858586, 1: 0.8514141414141414},\n",
              "                    {0: 0.15848484848484848, 1: 0.8415151515151515},\n",
              "                    {0: 0.16838383838383839, 1: 0.8316161616161616},\n",
              "                    {0: 0.1782828282828283, 1: 0.8217171717171717},\n",
              "                    {0: 0.18818181818181817, 1: 0.8118181818181818},\n",
              "                    {0: 0.19808080808080808, 1: 0.8019191919191919},\n",
              "                    {0: 0.207979797979798, 1: 0.7920202020202021},\n",
              "                    {0: 0.21787878787878787, 1: 0.7821212121212121},\n",
              "                    {0: 0.22777777777777777, 1: 0.7722222222222223},\n",
              "                    {0: 0.23767676767676768, 1: 0.7623232323232323},\n",
              "                    {0: 0.24757575757575756, 1: 0.7524242424242424},\n",
              "                    {0: 0.25747474747474747, 1: 0.7425252525252526},\n",
              "                    {0: 0.2673737373737374, 1: 0.7326262626262626},\n",
              "                    {0: 0.2772727272727273, 1: 0.7227272727272727},\n",
              "                    {0: 0.2871717171717172, 1: 0.7128282828282828},\n",
              "                    {0: 0.29707070707070704, 1: 0.702929292929293},\n",
              "                    {0: 0.30696969696969695, 1: 0.6930303030303031},\n",
              "                    {0: 0.31686868686868686, 1: 0.6831313131313131},\n",
              "                    {0: 0.32676767676767676, 1: 0.6732323232323232},\n",
              "                    {0: 0.33666666666666667, 1: 0.6633333333333333},\n",
              "                    {0: 0.3465656565656566, 1: 0.6534343434343435},\n",
              "                    {0: 0.3564646464646465, 1: 0.6435353535353535},\n",
              "                    {0: 0.36636363636363634, 1: 0.6336363636363637},\n",
              "                    {0: 0.37626262626262624, 1: 0.6237373737373737},\n",
              "                    {0: 0.38616161616161615, 1: 0.6138383838383838},\n",
              "                    {0: 0.39606060606060606, 1: 0.603939393939394},\n",
              "                    {0: 0.40595959595959596, 1: 0.594040404040404},\n",
              "                    {0: 0.41585858585858587, 1: 0.5841414141414141},\n",
              "                    {0: 0.4257575757575757, 1: 0.5742424242424242},\n",
              "                    {0: 0.43565656565656563, 1: 0.5643434343434344},\n",
              "                    {0: 0.44555555555555554, 1: 0.5544444444444445},\n",
              "                    {0: 0.45545454545454545, 1: 0.5445454545454546},\n",
              "                    {0: 0.46535353535353535, 1: 0.5346464646464646},\n",
              "                    {0: 0.47525252525252526, 1: 0.5247474747474747},\n",
              "                    {0: 0.4851515151515151, 1: 0.5148484848484849},\n",
              "                    {0: 0.495050505050505, 1: 0.504949494949495},\n",
              "                    {0: 0.5049494949494949, 1: 0.4950505050505051},\n",
              "                    {0: 0.5148484848484849, 1: 0.4851515151515151},\n",
              "                    {0: 0.5247474747474747, 1: 0.47525252525252526},\n",
              "                    {0: 0.5346464646464646, 1: 0.4653535353535354},\n",
              "                    {0: 0.5445454545454546, 1: 0.45545454545454545},\n",
              "                    {0: 0.5544444444444444, 1: 0.4455555555555556},\n",
              "                    {0: 0.5643434343434344, 1: 0.43565656565656563},\n",
              "                    {0: 0.5742424242424242, 1: 0.4257575757575758},\n",
              "                    {0: 0.5841414141414141, 1: 0.4158585858585859},\n",
              "                    {0: 0.594040404040404, 1: 0.40595959595959596},\n",
              "                    {0: 0.6039393939393939, 1: 0.3960606060606061},\n",
              "                    {0: 0.6138383838383838, 1: 0.38616161616161615},\n",
              "                    {0: 0.6237373737373737, 1: 0.3762626262626263},\n",
              "                    {0: 0.6336363636363637, 1: 0.36636363636363634},\n",
              "                    {0: 0.6435353535353535, 1: 0.3564646464646465},\n",
              "                    {0: 0.6534343434343434, 1: 0.34656565656565663},\n",
              "                    {0: 0.6633333333333333, 1: 0.33666666666666667},\n",
              "                    {0: 0.6732323232323232, 1: 0.3267676767676768},\n",
              "                    {0: 0.6831313131313131, 1: 0.31686868686868686},\n",
              "                    {0: 0.693030303030303, 1: 0.306969696969697},\n",
              "                    {0: 0.702929292929293, 1: 0.29707070707070704},\n",
              "                    {0: 0.7128282828282828, 1: 0.2871717171717172},\n",
              "                    {0: 0.7227272727272727, 1: 0.27727272727272734},\n",
              "                    {0: 0.7326262626262626, 1: 0.2673737373737374},\n",
              "                    {0: 0.7425252525252525, 1: 0.2574747474747475},\n",
              "                    {0: 0.7524242424242424, 1: 0.24757575757575756},\n",
              "                    {0: 0.7623232323232323, 1: 0.2376767676767677},\n",
              "                    {0: 0.7722222222222221, 1: 0.22777777777777786},\n",
              "                    {0: 0.7821212121212121, 1: 0.2178787878787879},\n",
              "                    {0: 0.792020202020202, 1: 0.20797979797979804},\n",
              "                    {0: 0.8019191919191919, 1: 0.19808080808080808},\n",
              "                    {0: 0.8118181818181818, 1: 0.18818181818181823},\n",
              "                    {0: 0.8217171717171717, 1: 0.17828282828282827},\n",
              "                    {0: 0.8316161616161616, 1: 0.1683838383838384},\n",
              "                    {0: 0.8415151515151514, 1: 0.15848484848484856},\n",
              "                    {0: 0.8514141414141414, 1: 0.1485858585858586},\n",
              "                    {0: 0.8613131313131313, 1: 0.13868686868686875},\n",
              "                    {0: 0.8712121212121212, 1: 0.12878787878787878},\n",
              "                    {0: 0.8811111111111111, 1: 0.11888888888888893},\n",
              "                    {0: 0.891010101010101, 1: 0.10898989898989897},\n",
              "                    {0: 0.9009090909090909, 1: 0.09909090909090912},\n",
              "                    {0: 0.9108080808080807, 1: 0.08919191919191927},\n",
              "                    {0: 0.9207070707070707, 1: 0.0792929292929293},\n",
              "                    {0: 0.9306060606060605, 1: 0.06939393939393945},\n",
              "                    {0: 0.9405050505050505, 1: 0.05949494949494949},\n",
              "                    {0: 0.9504040404040404, 1: 0.04959595959595964},\n",
              "                    {0: 0.9603030303030302, 1: 0.039696969696969786},\n",
              "                    {0: 0.9702020202020202, 1: 0.029797979797979823},\n",
              "                    {0: 0.98010101010101, 1: 0.01989898989898997},\n",
              "                    {0: 0.99, 1: 0.010000000000000009}],\n",
              "              mask=[False, False, False, False, False, False, False, False,\n",
              "                    False, False, False, False, False, False, False, False,\n",
              "                    False, False, False, False, False, False, False, False,\n",
              "                    False, False, False, False, False, False, False, False,\n",
              "                    False, False, False, False, False, False, False, False,\n",
              "                    False, False, False, False, False, False, False, False,\n",
              "                    False, False, False, False, False, False, False, False,\n",
              "                    False, False, False, False, False, False, False, False,\n",
              "                    False, False, False, False, False, False, False, False,\n",
              "                    False, False, False, False, False, False, False, False,\n",
              "                    False, False, False, False, False, False, False, False,\n",
              "                    False, False, False, False, False, False, False, False,\n",
              "                    False, False, False, False],\n",
              "        fill_value='?',\n",
              "             dtype=object),\n",
              " 'params': [{'class_weight': {0: 0.01, 1: 0.99}},\n",
              "  {'class_weight': {0: 0.0198989898989899, 1: 0.9801010101010101}},\n",
              "  {'class_weight': {0: 0.029797979797979796, 1: 0.9702020202020202}},\n",
              "  {'class_weight': {0: 0.039696969696969696, 1: 0.9603030303030303}},\n",
              "  {'class_weight': {0: 0.049595959595959596, 1: 0.9504040404040404}},\n",
              "  {'class_weight': {0: 0.059494949494949496, 1: 0.9405050505050505}},\n",
              "  {'class_weight': {0: 0.06939393939393938, 1: 0.9306060606060607}},\n",
              "  {'class_weight': {0: 0.07929292929292929, 1: 0.9207070707070707}},\n",
              "  {'class_weight': {0: 0.08919191919191918, 1: 0.9108080808080808}},\n",
              "  {'class_weight': {0: 0.09909090909090908, 1: 0.9009090909090909}},\n",
              "  {'class_weight': {0: 0.10898989898989898, 1: 0.891010101010101}},\n",
              "  {'class_weight': {0: 0.11888888888888888, 1: 0.8811111111111112}},\n",
              "  {'class_weight': {0: 0.12878787878787878, 1: 0.8712121212121212}},\n",
              "  {'class_weight': {0: 0.1386868686868687, 1: 0.8613131313131313}},\n",
              "  {'class_weight': {0: 0.1485858585858586, 1: 0.8514141414141414}},\n",
              "  {'class_weight': {0: 0.15848484848484848, 1: 0.8415151515151515}},\n",
              "  {'class_weight': {0: 0.16838383838383839, 1: 0.8316161616161616}},\n",
              "  {'class_weight': {0: 0.1782828282828283, 1: 0.8217171717171717}},\n",
              "  {'class_weight': {0: 0.18818181818181817, 1: 0.8118181818181818}},\n",
              "  {'class_weight': {0: 0.19808080808080808, 1: 0.8019191919191919}},\n",
              "  {'class_weight': {0: 0.207979797979798, 1: 0.7920202020202021}},\n",
              "  {'class_weight': {0: 0.21787878787878787, 1: 0.7821212121212121}},\n",
              "  {'class_weight': {0: 0.22777777777777777, 1: 0.7722222222222223}},\n",
              "  {'class_weight': {0: 0.23767676767676768, 1: 0.7623232323232323}},\n",
              "  {'class_weight': {0: 0.24757575757575756, 1: 0.7524242424242424}},\n",
              "  {'class_weight': {0: 0.25747474747474747, 1: 0.7425252525252526}},\n",
              "  {'class_weight': {0: 0.2673737373737374, 1: 0.7326262626262626}},\n",
              "  {'class_weight': {0: 0.2772727272727273, 1: 0.7227272727272727}},\n",
              "  {'class_weight': {0: 0.2871717171717172, 1: 0.7128282828282828}},\n",
              "  {'class_weight': {0: 0.29707070707070704, 1: 0.702929292929293}},\n",
              "  {'class_weight': {0: 0.30696969696969695, 1: 0.6930303030303031}},\n",
              "  {'class_weight': {0: 0.31686868686868686, 1: 0.6831313131313131}},\n",
              "  {'class_weight': {0: 0.32676767676767676, 1: 0.6732323232323232}},\n",
              "  {'class_weight': {0: 0.33666666666666667, 1: 0.6633333333333333}},\n",
              "  {'class_weight': {0: 0.3465656565656566, 1: 0.6534343434343435}},\n",
              "  {'class_weight': {0: 0.3564646464646465, 1: 0.6435353535353535}},\n",
              "  {'class_weight': {0: 0.36636363636363634, 1: 0.6336363636363637}},\n",
              "  {'class_weight': {0: 0.37626262626262624, 1: 0.6237373737373737}},\n",
              "  {'class_weight': {0: 0.38616161616161615, 1: 0.6138383838383838}},\n",
              "  {'class_weight': {0: 0.39606060606060606, 1: 0.603939393939394}},\n",
              "  {'class_weight': {0: 0.40595959595959596, 1: 0.594040404040404}},\n",
              "  {'class_weight': {0: 0.41585858585858587, 1: 0.5841414141414141}},\n",
              "  {'class_weight': {0: 0.4257575757575757, 1: 0.5742424242424242}},\n",
              "  {'class_weight': {0: 0.43565656565656563, 1: 0.5643434343434344}},\n",
              "  {'class_weight': {0: 0.44555555555555554, 1: 0.5544444444444445}},\n",
              "  {'class_weight': {0: 0.45545454545454545, 1: 0.5445454545454546}},\n",
              "  {'class_weight': {0: 0.46535353535353535, 1: 0.5346464646464646}},\n",
              "  {'class_weight': {0: 0.47525252525252526, 1: 0.5247474747474747}},\n",
              "  {'class_weight': {0: 0.4851515151515151, 1: 0.5148484848484849}},\n",
              "  {'class_weight': {0: 0.495050505050505, 1: 0.504949494949495}},\n",
              "  {'class_weight': {0: 0.5049494949494949, 1: 0.4950505050505051}},\n",
              "  {'class_weight': {0: 0.5148484848484849, 1: 0.4851515151515151}},\n",
              "  {'class_weight': {0: 0.5247474747474747, 1: 0.47525252525252526}},\n",
              "  {'class_weight': {0: 0.5346464646464646, 1: 0.4653535353535354}},\n",
              "  {'class_weight': {0: 0.5445454545454546, 1: 0.45545454545454545}},\n",
              "  {'class_weight': {0: 0.5544444444444444, 1: 0.4455555555555556}},\n",
              "  {'class_weight': {0: 0.5643434343434344, 1: 0.43565656565656563}},\n",
              "  {'class_weight': {0: 0.5742424242424242, 1: 0.4257575757575758}},\n",
              "  {'class_weight': {0: 0.5841414141414141, 1: 0.4158585858585859}},\n",
              "  {'class_weight': {0: 0.594040404040404, 1: 0.40595959595959596}},\n",
              "  {'class_weight': {0: 0.6039393939393939, 1: 0.3960606060606061}},\n",
              "  {'class_weight': {0: 0.6138383838383838, 1: 0.38616161616161615}},\n",
              "  {'class_weight': {0: 0.6237373737373737, 1: 0.3762626262626263}},\n",
              "  {'class_weight': {0: 0.6336363636363637, 1: 0.36636363636363634}},\n",
              "  {'class_weight': {0: 0.6435353535353535, 1: 0.3564646464646465}},\n",
              "  {'class_weight': {0: 0.6534343434343434, 1: 0.34656565656565663}},\n",
              "  {'class_weight': {0: 0.6633333333333333, 1: 0.33666666666666667}},\n",
              "  {'class_weight': {0: 0.6732323232323232, 1: 0.3267676767676768}},\n",
              "  {'class_weight': {0: 0.6831313131313131, 1: 0.31686868686868686}},\n",
              "  {'class_weight': {0: 0.693030303030303, 1: 0.306969696969697}},\n",
              "  {'class_weight': {0: 0.702929292929293, 1: 0.29707070707070704}},\n",
              "  {'class_weight': {0: 0.7128282828282828, 1: 0.2871717171717172}},\n",
              "  {'class_weight': {0: 0.7227272727272727, 1: 0.27727272727272734}},\n",
              "  {'class_weight': {0: 0.7326262626262626, 1: 0.2673737373737374}},\n",
              "  {'class_weight': {0: 0.7425252525252525, 1: 0.2574747474747475}},\n",
              "  {'class_weight': {0: 0.7524242424242424, 1: 0.24757575757575756}},\n",
              "  {'class_weight': {0: 0.7623232323232323, 1: 0.2376767676767677}},\n",
              "  {'class_weight': {0: 0.7722222222222221, 1: 0.22777777777777786}},\n",
              "  {'class_weight': {0: 0.7821212121212121, 1: 0.2178787878787879}},\n",
              "  {'class_weight': {0: 0.792020202020202, 1: 0.20797979797979804}},\n",
              "  {'class_weight': {0: 0.8019191919191919, 1: 0.19808080808080808}},\n",
              "  {'class_weight': {0: 0.8118181818181818, 1: 0.18818181818181823}},\n",
              "  {'class_weight': {0: 0.8217171717171717, 1: 0.17828282828282827}},\n",
              "  {'class_weight': {0: 0.8316161616161616, 1: 0.1683838383838384}},\n",
              "  {'class_weight': {0: 0.8415151515151514, 1: 0.15848484848484856}},\n",
              "  {'class_weight': {0: 0.8514141414141414, 1: 0.1485858585858586}},\n",
              "  {'class_weight': {0: 0.8613131313131313, 1: 0.13868686868686875}},\n",
              "  {'class_weight': {0: 0.8712121212121212, 1: 0.12878787878787878}},\n",
              "  {'class_weight': {0: 0.8811111111111111, 1: 0.11888888888888893}},\n",
              "  {'class_weight': {0: 0.891010101010101, 1: 0.10898989898989897}},\n",
              "  {'class_weight': {0: 0.9009090909090909, 1: 0.09909090909090912}},\n",
              "  {'class_weight': {0: 0.9108080808080807, 1: 0.08919191919191927}},\n",
              "  {'class_weight': {0: 0.9207070707070707, 1: 0.0792929292929293}},\n",
              "  {'class_weight': {0: 0.9306060606060605, 1: 0.06939393939393945}},\n",
              "  {'class_weight': {0: 0.9405050505050505, 1: 0.05949494949494949}},\n",
              "  {'class_weight': {0: 0.9504040404040404, 1: 0.04959595959595964}},\n",
              "  {'class_weight': {0: 0.9603030303030302, 1: 0.039696969696969786}},\n",
              "  {'class_weight': {0: 0.9702020202020202, 1: 0.029797979797979823}},\n",
              "  {'class_weight': {0: 0.98010101010101, 1: 0.01989898989898997}},\n",
              "  {'class_weight': {0: 0.99, 1: 0.010000000000000009}}],\n",
              " 'split0_test_score': array([0.06304729, 0.08405439, 0.10810811, 0.14245014, 0.13385827,\n",
              "        0.17045455, 0.14814815, 0.13675214, 0.13207547, 0.12244898,\n",
              "        0.13636364, 0.08219178, 0.08955224, 0.09090909, 0.10344828,\n",
              "        0.10714286, 0.10714286, 0.        , 0.08695652, 0.09302326,\n",
              "        0.0952381 , 0.09756098, 0.1       , 0.0952381 , 0.05128205,\n",
              "        0.09756098, 0.0952381 , 0.1       , 0.1       , 0.1       ,\n",
              "        0.1       , 0.        , 0.05128205, 0.05128205, 0.        ,\n",
              "        0.        , 0.        , 0.        , 0.        , 0.        ,\n",
              "        0.        , 0.        , 0.        , 0.        , 0.        ,\n",
              "        0.        , 0.        , 0.        , 0.        , 0.        ,\n",
              "        0.        , 0.        , 0.        , 0.        , 0.        ,\n",
              "        0.        , 0.        , 0.        , 0.        , 0.        ,\n",
              "        0.        , 0.        , 0.        , 0.        , 0.        ,\n",
              "        0.        , 0.        , 0.        , 0.        , 0.        ,\n",
              "        0.        , 0.        , 0.        , 0.        , 0.        ,\n",
              "        0.        , 0.        , 0.        , 0.        , 0.        ,\n",
              "        0.        , 0.        , 0.        , 0.        , 0.        ,\n",
              "        0.        , 0.        , 0.        , 0.        , 0.        ,\n",
              "        0.        , 0.        , 0.        , 0.        , 0.        ,\n",
              "        0.        , 0.        , 0.        , 0.        , 0.        ]),\n",
              " 'split1_test_score': array([0.06406926, 0.08741722, 0.10588235, 0.12578616, 0.14414414,\n",
              "        0.09876543, 0.10294118, 0.11864407, 0.09615385, 0.09090909,\n",
              "        0.09090909, 0.09230769, 0.05970149, 0.09230769, 0.09677419,\n",
              "        0.07142857, 0.10714286, 0.0754717 , 0.08163265, 0.04347826,\n",
              "        0.04651163, 0.        , 0.        , 0.        , 0.        ,\n",
              "        0.        , 0.        , 0.        , 0.        , 0.        ,\n",
              "        0.        , 0.        , 0.        , 0.        , 0.        ,\n",
              "        0.        , 0.        , 0.        , 0.        , 0.        ,\n",
              "        0.        , 0.        , 0.        , 0.        , 0.        ,\n",
              "        0.        , 0.        , 0.        , 0.        , 0.        ,\n",
              "        0.        , 0.        , 0.        , 0.        , 0.        ,\n",
              "        0.        , 0.        , 0.        , 0.        , 0.        ,\n",
              "        0.        , 0.        , 0.        , 0.        , 0.        ,\n",
              "        0.        , 0.        , 0.        , 0.        , 0.        ,\n",
              "        0.        , 0.        , 0.        , 0.        , 0.        ,\n",
              "        0.        , 0.        , 0.        , 0.        , 0.        ,\n",
              "        0.        , 0.        , 0.        , 0.        , 0.        ,\n",
              "        0.        , 0.        , 0.        , 0.        , 0.        ,\n",
              "        0.        , 0.        , 0.        , 0.        , 0.        ,\n",
              "        0.        , 0.        , 0.        , 0.        , 0.        ]),\n",
              " 'split2_test_score': array([0.06334842, 0.08811749, 0.11132438, 0.13253012, 0.14468085,\n",
              "        0.21052632, 0.16      , 0.18018018, 0.17647059, 0.14893617,\n",
              "        0.15909091, 0.15      , 0.16901408, 0.14492754, 0.15873016,\n",
              "        0.16666667, 0.14285714, 0.1509434 , 0.15384615, 0.12765957,\n",
              "        0.13043478, 0.        , 0.13333333, 0.09302326, 0.04878049,\n",
              "        0.        , 0.        , 0.        , 0.        , 0.        ,\n",
              "        0.        , 0.        , 0.        , 0.        , 0.        ,\n",
              "        0.        , 0.        , 0.        , 0.        , 0.        ,\n",
              "        0.        , 0.        , 0.        , 0.        , 0.        ,\n",
              "        0.        , 0.        , 0.        , 0.        , 0.        ,\n",
              "        0.        , 0.        , 0.        , 0.        , 0.        ,\n",
              "        0.        , 0.        , 0.        , 0.        , 0.        ,\n",
              "        0.        , 0.        , 0.        , 0.        , 0.        ,\n",
              "        0.        , 0.        , 0.        , 0.        , 0.        ,\n",
              "        0.        , 0.        , 0.        , 0.        , 0.        ,\n",
              "        0.        , 0.        , 0.        , 0.        , 0.        ,\n",
              "        0.        , 0.        , 0.        , 0.        , 0.        ,\n",
              "        0.        , 0.        , 0.        , 0.        , 0.        ,\n",
              "        0.        , 0.        , 0.        , 0.        , 0.        ,\n",
              "        0.        , 0.        , 0.        , 0.        , 0.        ]),\n",
              " 'split3_test_score': array([0.05955812, 0.06397775, 0.07968127, 0.10495627, 0.12295082,\n",
              "        0.125     , 0.14634146, 0.16107383, 0.16793893, 0.16949153,\n",
              "        0.16071429, 0.15533981, 0.15053763, 0.15      , 0.13888889,\n",
              "        0.11940299, 0.09836066, 0.13793103, 0.0754717 , 0.11764706,\n",
              "        0.08510638, 0.13043478, 0.        , 0.        , 0.        ,\n",
              "        0.        , 0.        , 0.        , 0.        , 0.        ,\n",
              "        0.        , 0.        , 0.        , 0.        , 0.        ,\n",
              "        0.        , 0.        , 0.        , 0.        , 0.        ,\n",
              "        0.        , 0.        , 0.        , 0.        , 0.        ,\n",
              "        0.        , 0.        , 0.        , 0.        , 0.        ,\n",
              "        0.        , 0.        , 0.        , 0.        , 0.        ,\n",
              "        0.        , 0.        , 0.        , 0.        , 0.        ,\n",
              "        0.        , 0.        , 0.        , 0.        , 0.        ,\n",
              "        0.        , 0.        , 0.        , 0.        , 0.        ,\n",
              "        0.        , 0.        , 0.        , 0.        , 0.        ,\n",
              "        0.        , 0.        , 0.        , 0.        , 0.        ,\n",
              "        0.        , 0.        , 0.        , 0.        , 0.        ,\n",
              "        0.        , 0.        , 0.        , 0.        , 0.        ,\n",
              "        0.        , 0.        , 0.        , 0.        , 0.        ,\n",
              "        0.        , 0.        , 0.        , 0.        , 0.        ]),\n",
              " 'split4_test_score': array([0.06493506, 0.07726597, 0.10933941, 0.13286713, 0.13065327,\n",
              "        0.13580247, 0.11940299, 0.12068966, 0.13861386, 0.14736842,\n",
              "        0.11764706, 0.1038961 , 0.06153846, 0.0952381 , 0.10169492,\n",
              "        0.10526316, 0.07407407, 0.07692308, 0.08      , 0.        ,\n",
              "        0.        , 0.        , 0.        , 0.        , 0.        ,\n",
              "        0.        , 0.        , 0.        , 0.        , 0.        ,\n",
              "        0.        , 0.        , 0.        , 0.        , 0.        ,\n",
              "        0.        , 0.        , 0.        , 0.        , 0.        ,\n",
              "        0.        , 0.        , 0.        , 0.        , 0.        ,\n",
              "        0.        , 0.        , 0.        , 0.        , 0.        ,\n",
              "        0.        , 0.        , 0.        , 0.        , 0.        ,\n",
              "        0.        , 0.        , 0.        , 0.        , 0.        ,\n",
              "        0.        , 0.        , 0.        , 0.        , 0.        ,\n",
              "        0.        , 0.        , 0.        , 0.        , 0.        ,\n",
              "        0.        , 0.        , 0.        , 0.        , 0.        ,\n",
              "        0.        , 0.        , 0.        , 0.        , 0.        ,\n",
              "        0.        , 0.        , 0.        , 0.        , 0.        ,\n",
              "        0.        , 0.        , 0.        , 0.        , 0.        ,\n",
              "        0.        , 0.        , 0.        , 0.        , 0.        ,\n",
              "        0.        , 0.        , 0.        , 0.        , 0.        ]),\n",
              " 'mean_test_score': array([0.06299163, 0.08016656, 0.1028671 , 0.12771797, 0.13525747,\n",
              "        0.14810975, 0.13536675, 0.14346797, 0.14225054, 0.13583084,\n",
              "        0.132945  , 0.11674708, 0.10606878, 0.11467648, 0.11990729,\n",
              "        0.11398085, 0.10591552, 0.08825384, 0.09558141, 0.07636163,\n",
              "        0.07145818, 0.04559915, 0.04666667, 0.03765227, 0.02001251,\n",
              "        0.0195122 , 0.01904762, 0.02      , 0.02      , 0.02      ,\n",
              "        0.02      , 0.        , 0.01025641, 0.01025641, 0.        ,\n",
              "        0.        , 0.        , 0.        , 0.        , 0.        ,\n",
              "        0.        , 0.        , 0.        , 0.        , 0.        ,\n",
              "        0.        , 0.        , 0.        , 0.        , 0.        ,\n",
              "        0.        , 0.        , 0.        , 0.        , 0.        ,\n",
              "        0.        , 0.        , 0.        , 0.        , 0.        ,\n",
              "        0.        , 0.        , 0.        , 0.        , 0.        ,\n",
              "        0.        , 0.        , 0.        , 0.        , 0.        ,\n",
              "        0.        , 0.        , 0.        , 0.        , 0.        ,\n",
              "        0.        , 0.        , 0.        , 0.        , 0.        ,\n",
              "        0.        , 0.        , 0.        , 0.        , 0.        ,\n",
              "        0.        , 0.        , 0.        , 0.        , 0.        ,\n",
              "        0.        , 0.        , 0.        , 0.        , 0.        ,\n",
              "        0.        , 0.        , 0.        , 0.        , 0.        ]),\n",
              " 'std_test_score': array([0.00183617, 0.00895986, 0.01172654, 0.01255814, 0.00827506,\n",
              "        0.03876986, 0.02096123, 0.02382407, 0.02853968, 0.02696273,\n",
              "        0.02633429, 0.03017169, 0.04548684, 0.02685509, 0.02451631,\n",
              "        0.03078522, 0.02208461, 0.05381136, 0.02936296, 0.04801248,\n",
              "        0.04462869, 0.05680663, 0.05811865, 0.04611974, 0.02452298,\n",
              "        0.03902439, 0.03809524, 0.04      , 0.04      , 0.04      ,\n",
              "        0.04      , 0.        , 0.02051282, 0.02051282, 0.        ,\n",
              "        0.        , 0.        , 0.        , 0.        , 0.        ,\n",
              "        0.        , 0.        , 0.        , 0.        , 0.        ,\n",
              "        0.        , 0.        , 0.        , 0.        , 0.        ,\n",
              "        0.        , 0.        , 0.        , 0.        , 0.        ,\n",
              "        0.        , 0.        , 0.        , 0.        , 0.        ,\n",
              "        0.        , 0.        , 0.        , 0.        , 0.        ,\n",
              "        0.        , 0.        , 0.        , 0.        , 0.        ,\n",
              "        0.        , 0.        , 0.        , 0.        , 0.        ,\n",
              "        0.        , 0.        , 0.        , 0.        , 0.        ,\n",
              "        0.        , 0.        , 0.        , 0.        , 0.        ,\n",
              "        0.        , 0.        , 0.        , 0.        , 0.        ,\n",
              "        0.        , 0.        , 0.        , 0.        , 0.        ,\n",
              "        0.        , 0.        , 0.        , 0.        , 0.        ]),\n",
              " 'rank_test_score': array([21, 18, 15,  8,  6,  1,  5,  2,  3,  4,  7, 10, 13, 11,  9, 12, 14,\n",
              "        17, 16, 19, 20, 23, 22, 24, 25, 30, 31, 26, 26, 26, 26, 34, 32, 32,\n",
              "        34, 34, 34, 34, 34, 34, 34, 34, 34, 34, 34, 34, 34, 34, 34, 34, 34,\n",
              "        34, 34, 34, 34, 34, 34, 34, 34, 34, 34, 34, 34, 34, 34, 34, 34, 34,\n",
              "        34, 34, 34, 34, 34, 34, 34, 34, 34, 34, 34, 34, 34, 34, 34, 34, 34,\n",
              "        34, 34, 34, 34, 34, 34, 34, 34, 34, 34, 34, 34, 34, 34, 34],\n",
              "       dtype=int32)}"
            ]
          },
          "metadata": {},
          "execution_count": 28
        }
      ]
    },
    {
      "cell_type": "code",
      "source": [
        "c0 = (y_train.value_counts() / y_train.shape[0])[0]\n",
        "c1 = (y_train.value_counts() / y_train.shape[0])[1]\n",
        "c0, c1"
      ],
      "metadata": {
        "colab": {
          "base_uri": "https://localhost:8080/"
        },
        "id": "DgM7xTSuiuqi",
        "outputId": "512d98eb-b6e6-4ba5-9975-be4f77686e18"
      },
      "execution_count": 29,
      "outputs": [
        {
          "output_type": "execute_result",
          "data": {
            "text/plain": [
              "(0.9708436724565757, 0.02915632754342432)"
            ]
          },
          "metadata": {},
          "execution_count": 29
        }
      ]
    },
    {
      "cell_type": "code",
      "source": [
        "model.best_params_"
      ],
      "metadata": {
        "colab": {
          "base_uri": "https://localhost:8080/"
        },
        "outputId": "e0e1c5bd-6ef6-4587-b1b2-0ac7c8a48891",
        "id": "eHj8vpOJiiD1"
      },
      "execution_count": 30,
      "outputs": [
        {
          "output_type": "execute_result",
          "data": {
            "text/plain": [
              "{'class_weight': {0: 0.059494949494949496, 1: 0.9405050505050505}}"
            ]
          },
          "metadata": {},
          "execution_count": 30
        }
      ]
    },
    {
      "cell_type": "code",
      "metadata": {
        "colab": {
          "base_uri": "https://localhost:8080/",
          "height": 477
        },
        "outputId": "76c3a934-3946-46a8-8e50-26d150a58227",
        "id": "FTWWB3cGiiD2"
      },
      "source": [
        "weight_1 = 1.0 - weights\n",
        "f1 = model.cv_results_['mean_test_score']\n",
        "\n",
        "print(model.best_params_)\n",
        "plt.figure(figsize=(12, 8))\n",
        "plt.plot(weight_1, f1)\n",
        "plt.axvline(model.best_params_['class_weight'][1], color = 'r')\n",
        "plt.axvline(0.97, color = 'g')\n",
        "plt.ylabel('F1 Score')\n",
        "plt.xlabel('Class 1 weight')\n",
        "plt.grid()\n",
        "plt.show()"
      ],
      "execution_count": 31,
      "outputs": [
        {
          "output_type": "stream",
          "name": "stdout",
          "text": [
            "{'class_weight': {0: 0.059494949494949496, 1: 0.9405050505050505}}\n"
          ]
        },
        {
          "output_type": "display_data",
          "data": {
            "text/plain": [
              "<Figure size 1200x800 with 1 Axes>"
            ],
            "image/png": "[encoded data removed]"
          },
          "metadata": {}
        }
      ]
    },
    {
      "cell_type": "code",
      "source": [],
      "metadata": {
        "id": "dB0pGB_1lpgI"
      },
      "execution_count": null,
      "outputs": []
    }
  ]
}