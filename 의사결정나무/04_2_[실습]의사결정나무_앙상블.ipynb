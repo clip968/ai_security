{
  "cells": [
    {
      "cell_type": "markdown",
      "metadata": {
        "id": "gJKfIr0UlYPH"
      },
      "source": [
        "# 의사결정나무 알고리즘"
      ]
    },
    {
      "cell_type": "markdown",
      "metadata": {
        "id": "oPKohB23lmcq"
      },
      "source": [
        "## (1) 분류 예측 실습"
      ]
    },
    {
      "cell_type": "markdown",
      "metadata": {
        "id": "UFqS022YlvYt"
      },
      "source": [
        "### 유방암 데이터 분류 실습"
      ]
    },
    {
      "cell_type": "markdown",
      "metadata": {
        "id": "E1ehJ-xjl0zG"
      },
      "source": [
        "사이킷런에서 제공하는 유방암 데이터를 활용하여 결정트리 분류 실습을 해보겠습니다. 전반적인 방식은 지금까지 했던 다른 머신러닝 모델과 유사합니다. Classifier를 만들고, fitting한 뒤, Test해보는 식입니다. Classifier만 DecisionTreeClassfier를 사용한다는 것을 제외하고는 다른게 거의 없습니다."
      ]
    },
    {
      "cell_type": "markdown",
      "metadata": {
        "id": "nFjwnEBDmDoT"
      },
      "source": [
        "* 변수 지정 및 전처리"
      ]
    },
    {
      "cell_type": "code",
      "execution_count": 2,
      "metadata": {
        "id": "KWj4WnlSl20R"
      },
      "outputs": [],
      "source": [
        "#1. 모듈 및 함수 불러오기\n",
        "from sklearn.datasets import load_breast_cancer\n",
        "from sklearn.model_selection import train_test_split\n",
        "\n",
        "#2. 데이터 불러오기\n",
        "cancer = load_breast_cancer()\n",
        "\n",
        "#3. 데이터 분할\n",
        "X_train, X_test, y_train, y_test = train_test_split(\n",
        "    cancer.data, cancer.target, stratify=cancer.target, random_state=42)"
      ]
    },
    {
      "cell_type": "markdown",
      "metadata": {
        "id": "I7O-vleJTdw3"
      },
      "source": [
        "stratify값을 target 값으로 지정해주면 target의 class 비율을 유지 한 채로 데이터 셋을 split 하게 됩니다. 만약 이 옵션을 지정해주지 않고 classification 문제를 다룬다면, 성능의 차이가 많이 날 수 있습니다."
      ]
    },
    {
      "cell_type": "markdown",
      "metadata": {
        "id": "l6mtE9lDmIHM"
      },
      "source": [
        "* 모형 학습 및 예측"
      ]
    },
    {
      "cell_type": "code",
      "execution_count": 3,
      "metadata": {
        "colab": {
          "base_uri": "https://localhost:8080/"
        },
        "id": "kJSHO1pPmLLX",
        "outputId": "e53acd90-e3e5-4232-b7c4-fa2cc67c9815"
      },
      "outputs": [
        {
          "name": "stdout",
          "output_type": "stream",
          "text": [
            "훈련 세트 정확도: 1.000\n",
            "테스트 세트 정확도: 0.937\n"
          ]
        }
      ],
      "source": [
        "#1. 모듈 및 함수 불러오기\n",
        "from sklearn.tree import DecisionTreeClassifier\n",
        "\n",
        "#2. 모형 생성\n",
        "tree = DecisionTreeClassifier(random_state=0)\n",
        "\n",
        "#3. 모형 학습 및 예측\n",
        "tree.fit(X_train, y_train)\n",
        "\n",
        "#4. 모형 평가\n",
        "print(\"훈련 세트 정확도: {:.3f}\".format(tree.score(X_train, y_train)))\n",
        "print(\"테스트 세트 정확도: {:.3f}\".format(tree.score(X_test, y_test)))"
      ]
    },
    {
      "cell_type": "markdown",
      "metadata": {
        "id": "C9P6C9Azmb1w"
      },
      "source": [
        "결정 트리의 default는 max_depth, min_sample_split 제한이 없으므로 한 범주에 한 종류의 데이터가 남을 때까지 가지를 칩니다. 따라서 훈련 세트의 정확도는 100%인데 테스트 세트의 정확도는 93.7%입니다"
      ]
    },
    {
      "cell_type": "code",
      "execution_count": 4,
      "metadata": {
        "colab": {
          "base_uri": "https://localhost:8080/"
        },
        "id": "5VvAe0dtmfGK",
        "outputId": "da3da443-a1b3-49f3-8516-b52da1d48ba1"
      },
      "outputs": [
        {
          "name": "stdout",
          "output_type": "stream",
          "text": [
            "훈련 세트 정확도: 0.988\n",
            "테스트 세트 정확도: 0.951\n"
          ]
        }
      ],
      "source": [
        "# 오버피팅 완화하기\n",
        "tree = DecisionTreeClassifier(max_depth=4, random_state=0)\n",
        "tree.fit(X_train, y_train)\n",
        "\n",
        "print(\"훈련 세트 정확도: {:.3f}\".format(tree.score(X_train, y_train)))\n",
        "print(\"테스트 세트 정확도: {:.3f}\".format(tree.score(X_test, y_test)))"
      ]
    },
    {
      "cell_type": "markdown",
      "metadata": {
        "id": "Sa0AzNrYmiLa"
      },
      "source": [
        "반면, max_depth=4로 설정해주면 오버피팅을 막아 훈련 세트 정확도는 아까보다 떨어지지만 테스트 세트 정확도가 더 높아졌습니다."
      ]
    },
    {
      "cell_type": "markdown",
      "metadata": {
        "id": "lr8mVcpVnQqK"
      },
      "source": [
        "* 모형 평가"
      ]
    },
    {
      "cell_type": "code",
      "execution_count": 5,
      "metadata": {
        "colab": {
          "base_uri": "https://localhost:8080/"
        },
        "id": "TXkRq7sUnPoH",
        "outputId": "ec3da120-927d-4587-86af-2ebd1384f426"
      },
      "outputs": [
        {
          "name": "stdout",
          "output_type": "stream",
          "text": [
            "              precision    recall  f1-score   support\n",
            "\n",
            "           0       0.94      0.92      0.93        53\n",
            "           1       0.96      0.97      0.96        90\n",
            "\n",
            "    accuracy                           0.95       143\n",
            "   macro avg       0.95      0.95      0.95       143\n",
            "weighted avg       0.95      0.95      0.95       143\n",
            "\n"
          ]
        }
      ],
      "source": [
        "#1. 모듈 및 함수 불러오기\n",
        "from sklearn.metrics import classification_report\n",
        "\n",
        "#2. 정밀도, 재현율, F1 스코어 출력\n",
        "Y_pred=tree.predict(X_test)\n",
        "print(classification_report(y_test, Y_pred))"
      ]
    },
    {
      "cell_type": "markdown",
      "metadata": {
        "id": "gExN9jfRnlZS"
      },
      "source": [
        "* 변수 중요도 출력"
      ]
    },
    {
      "cell_type": "code",
      "execution_count": 6,
      "metadata": {
        "colab": {
          "base_uri": "https://localhost:8080/"
        },
        "id": "rkOzj0U8nkZ8",
        "outputId": "5c0abc26-4584-4325-fb2a-fd66479704ad"
      },
      "outputs": [
        {
          "data": {
            "text/plain": [
              "[(0.7268285094603201, 20),\n",
              " (0.12211319926548449, 27),\n",
              " (0.0483982536186494, 11),\n",
              " (0.045815897088866304, 21),\n",
              " (0.0181879968644502, 26),\n",
              " (0.014157702104714051, 24),\n",
              " (0.01188547831013032, 28),\n",
              " (0.010197368202069328, 10),\n",
              " (0.002415595085315826, 14),\n",
              " (0.0, 29),\n",
              " (0.0, 25),\n",
              " (0.0, 23),\n",
              " (0.0, 22),\n",
              " (0.0, 19),\n",
              " (0.0, 18),\n",
              " (0.0, 17),\n",
              " (0.0, 16),\n",
              " (0.0, 15),\n",
              " (0.0, 13),\n",
              " (0.0, 12),\n",
              " (0.0, 9),\n",
              " (0.0, 8),\n",
              " (0.0, 7),\n",
              " (0.0, 6),\n",
              " (0.0, 5),\n",
              " (0.0, 4),\n",
              " (0.0, 3),\n",
              " (0.0, 2),\n",
              " (0.0, 1),\n",
              " (0.0, 0)]"
            ]
          },
          "execution_count": 6,
          "metadata": {},
          "output_type": "execute_result"
        }
      ],
      "source": [
        "import pandas as pd\n",
        "X = pd.DataFrame(X_train)\n",
        "feature_name = X.columns\n",
        "feature_importances = tree.feature_importances_\n",
        "sorted(zip(feature_importances, feature_name), reverse=True)"
      ]
    },
    {
      "cell_type": "markdown",
      "metadata": {
        "id": "cEkF-xgbofpf"
      },
      "source": [
        "* 모형의 시각화"
      ]
    },
    {
      "cell_type": "code",
      "execution_count": 9,
      "metadata": {
        "colab": {
          "base_uri": "https://localhost:8080/",
          "height": 777
        },
        "id": "2Y3w7jcJohHw",
        "outputId": "ba775e01-1471-4fbf-e6b1-b795a2fe4d5b"
      },
      "outputs": [
        {
          "data": {
            "image/svg+xml": [
              "<?xml version=\"1.0\" encoding=\"UTF-8\" standalone=\"no\"?>\n",
              "<!DOCTYPE svg PUBLIC \"-//W3C//DTD SVG 1.1//EN\"\n",
              " \"http://www.w3.org/Graphics/SVG/1.1/DTD/svg11.dtd\">\n",
              "<!-- Generated by graphviz version 12.1.0 (20240811.2233)\n",
              " -->\n",
              "<!-- Title: Tree Pages: 1 -->\n",
              "<svg width=\"930pt\" height=\"596pt\"\n",
              " viewBox=\"0.00 0.00 929.50 596.25\" xmlns=\"http://www.w3.org/2000/svg\" xmlns:xlink=\"http://www.w3.org/1999/xlink\">\n",
              "<g id=\"graph0\" class=\"graph\" transform=\"scale(1 1) rotate(0) translate(4 592.25)\">\n",
              "<title>Tree</title>\n",
              "<polygon fill=\"white\" stroke=\"none\" points=\"-4,4 -4,-592.25 925.5,-592.25 925.5,4 -4,4\"/>\n",
              "<!-- 0 -->\n",
              "<g id=\"node1\" class=\"node\">\n",
              "<title>0</title>\n",
              "<polygon fill=\"#afd7f4\" stroke=\"black\" points=\"622,-588.25 498,-588.25 498,-496.25 622,-496.25 622,-588.25\"/>\n",
              "<text text-anchor=\"middle\" x=\"560\" y=\"-570.95\" font-family=\"Helvetica,sans-Serif\" font-size=\"14.00\">20 &lt;= 16.795</text>\n",
              "<text text-anchor=\"middle\" x=\"560\" y=\"-555.2\" font-family=\"Helvetica,sans-Serif\" font-size=\"14.00\">gini = 0.468</text>\n",
              "<text text-anchor=\"middle\" x=\"560\" y=\"-539.45\" font-family=\"Helvetica,sans-Serif\" font-size=\"14.00\">samples = 426</text>\n",
              "<text text-anchor=\"middle\" x=\"560\" y=\"-523.7\" font-family=\"Helvetica,sans-Serif\" font-size=\"14.00\">value = [159, 267]</text>\n",
              "<text text-anchor=\"middle\" x=\"560\" y=\"-507.95\" font-family=\"Helvetica,sans-Serif\" font-size=\"14.00\">class = 음성</text>\n",
              "</g>\n",
              "<!-- 1 -->\n",
              "<g id=\"node2\" class=\"node\">\n",
              "<title>1</title>\n",
              "<polygon fill=\"#4ca6e8\" stroke=\"black\" points=\"512.25,-460.25 395.75,-460.25 395.75,-368.25 512.25,-368.25 512.25,-460.25\"/>\n",
              "<text text-anchor=\"middle\" x=\"454\" y=\"-442.95\" font-family=\"Helvetica,sans-Serif\" font-size=\"14.00\">27 &lt;= 0.136</text>\n",
              "<text text-anchor=\"middle\" x=\"454\" y=\"-427.2\" font-family=\"Helvetica,sans-Serif\" font-size=\"14.00\">gini = 0.161</text>\n",
              "<text text-anchor=\"middle\" x=\"454\" y=\"-411.45\" font-family=\"Helvetica,sans-Serif\" font-size=\"14.00\">samples = 284</text>\n",
              "<text text-anchor=\"middle\" x=\"454\" y=\"-395.7\" font-family=\"Helvetica,sans-Serif\" font-size=\"14.00\">value = [25, 259]</text>\n",
              "<text text-anchor=\"middle\" x=\"454\" y=\"-379.95\" font-family=\"Helvetica,sans-Serif\" font-size=\"14.00\">class = 음성</text>\n",
              "</g>\n",
              "<!-- 0&#45;&gt;1 -->\n",
              "<g id=\"edge1\" class=\"edge\">\n",
              "<title>0&#45;&gt;1</title>\n",
              "<path fill=\"none\" stroke=\"black\" d=\"M521.73,-495.76C514.53,-487.2 506.93,-478.16 499.53,-469.37\"/>\n",
              "<polygon fill=\"black\" stroke=\"black\" points=\"502.3,-467.23 493.19,-461.83 496.95,-471.74 502.3,-467.23\"/>\n",
              "<text text-anchor=\"middle\" x=\"490.07\" y=\"-480.15\" font-family=\"Helvetica,sans-Serif\" font-size=\"14.00\">True</text>\n",
              "</g>\n",
              "<!-- 14 -->\n",
              "<g id=\"node15\" class=\"node\">\n",
              "<title>14</title>\n",
              "<polygon fill=\"#e78945\" stroke=\"black\" points=\"660.5,-460.25 551.5,-460.25 551.5,-368.25 660.5,-368.25 660.5,-460.25\"/>\n",
              "<text text-anchor=\"middle\" x=\"606\" y=\"-442.95\" font-family=\"Helvetica,sans-Serif\" font-size=\"14.00\">11 &lt;= 0.473</text>\n",
              "<text text-anchor=\"middle\" x=\"606\" y=\"-427.2\" font-family=\"Helvetica,sans-Serif\" font-size=\"14.00\">gini = 0.106</text>\n",
              "<text text-anchor=\"middle\" x=\"606\" y=\"-411.45\" font-family=\"Helvetica,sans-Serif\" font-size=\"14.00\">samples = 142</text>\n",
              "<text text-anchor=\"middle\" x=\"606\" y=\"-395.7\" font-family=\"Helvetica,sans-Serif\" font-size=\"14.00\">value = [134, 8]</text>\n",
              "<text text-anchor=\"middle\" x=\"606\" y=\"-379.95\" font-family=\"Helvetica,sans-Serif\" font-size=\"14.00\">class = 양성</text>\n",
              "</g>\n",
              "<!-- 0&#45;&gt;14 -->\n",
              "<g id=\"edge14\" class=\"edge\">\n",
              "<title>0&#45;&gt;14</title>\n",
              "<path fill=\"none\" stroke=\"black\" d=\"M576.61,-495.76C579.51,-487.82 582.55,-479.48 585.54,-471.29\"/>\n",
              "<polygon fill=\"black\" stroke=\"black\" points=\"588.76,-472.69 588.9,-462.09 582.18,-470.29 588.76,-472.69\"/>\n",
              "<text text-anchor=\"middle\" x=\"599.96\" y=\"-477.92\" font-family=\"Helvetica,sans-Serif\" font-size=\"14.00\">False</text>\n",
              "</g>\n",
              "<!-- 2 -->\n",
              "<g id=\"node3\" class=\"node\">\n",
              "<title>2</title>\n",
              "<polygon fill=\"#3c9fe5\" stroke=\"black\" points=\"341.5,-332.25 232.5,-332.25 232.5,-240.25 341.5,-240.25 341.5,-332.25\"/>\n",
              "<text text-anchor=\"middle\" x=\"287\" y=\"-314.95\" font-family=\"Helvetica,sans-Serif\" font-size=\"14.00\">10 &lt;= 1.048</text>\n",
              "<text text-anchor=\"middle\" x=\"287\" y=\"-299.2\" font-family=\"Helvetica,sans-Serif\" font-size=\"14.00\">gini = 0.031</text>\n",
              "<text text-anchor=\"middle\" x=\"287\" y=\"-283.45\" font-family=\"Helvetica,sans-Serif\" font-size=\"14.00\">samples = 252</text>\n",
              "<text text-anchor=\"middle\" x=\"287\" y=\"-267.7\" font-family=\"Helvetica,sans-Serif\" font-size=\"14.00\">value = [4, 248]</text>\n",
              "<text text-anchor=\"middle\" x=\"287\" y=\"-251.95\" font-family=\"Helvetica,sans-Serif\" font-size=\"14.00\">class = 음성</text>\n",
              "</g>\n",
              "<!-- 1&#45;&gt;2 -->\n",
              "<g id=\"edge2\" class=\"edge\">\n",
              "<title>1&#45;&gt;2</title>\n",
              "<path fill=\"none\" stroke=\"black\" d=\"M395.59,-369.18C381.1,-358.25 365.5,-346.48 350.77,-335.37\"/>\n",
              "<polygon fill=\"black\" stroke=\"black\" points=\"353.03,-332.69 342.94,-329.46 348.82,-338.27 353.03,-332.69\"/>\n",
              "</g>\n",
              "<!-- 7 -->\n",
              "<g id=\"node8\" class=\"node\">\n",
              "<title>7</title>\n",
              "<polygon fill=\"#f3c3a1\" stroke=\"black\" points=\"508.12,-332.25 399.88,-332.25 399.88,-240.25 508.12,-240.25 508.12,-332.25\"/>\n",
              "<text text-anchor=\"middle\" x=\"454\" y=\"-314.95\" font-family=\"Helvetica,sans-Serif\" font-size=\"14.00\">21 &lt;= 25.62</text>\n",
              "<text text-anchor=\"middle\" x=\"454\" y=\"-299.2\" font-family=\"Helvetica,sans-Serif\" font-size=\"14.00\">gini = 0.451</text>\n",
              "<text text-anchor=\"middle\" x=\"454\" y=\"-283.45\" font-family=\"Helvetica,sans-Serif\" font-size=\"14.00\">samples = 32</text>\n",
              "<text text-anchor=\"middle\" x=\"454\" y=\"-267.7\" font-family=\"Helvetica,sans-Serif\" font-size=\"14.00\">value = [21, 11]</text>\n",
              "<text text-anchor=\"middle\" x=\"454\" y=\"-251.95\" font-family=\"Helvetica,sans-Serif\" font-size=\"14.00\">class = 양성</text>\n",
              "</g>\n",
              "<!-- 1&#45;&gt;7 -->\n",
              "<g id=\"edge7\" class=\"edge\">\n",
              "<title>1&#45;&gt;7</title>\n",
              "<path fill=\"none\" stroke=\"black\" d=\"M454,-367.76C454,-360.09 454,-352.04 454,-344.12\"/>\n",
              "<polygon fill=\"black\" stroke=\"black\" points=\"457.5,-344.19 454,-334.19 450.5,-344.19 457.5,-344.19\"/>\n",
              "</g>\n",
              "<!-- 3 -->\n",
              "<g id=\"node4\" class=\"node\">\n",
              "<title>3</title>\n",
              "<polygon fill=\"#3b9ee5\" stroke=\"black\" points=\"221.5,-204.25 112.5,-204.25 112.5,-112.25 221.5,-112.25 221.5,-204.25\"/>\n",
              "<text text-anchor=\"middle\" x=\"167\" y=\"-186.95\" font-family=\"Helvetica,sans-Serif\" font-size=\"14.00\">14 &lt;= 0.003</text>\n",
              "<text text-anchor=\"middle\" x=\"167\" y=\"-171.2\" font-family=\"Helvetica,sans-Serif\" font-size=\"14.00\">gini = 0.024</text>\n",
              "<text text-anchor=\"middle\" x=\"167\" y=\"-155.45\" font-family=\"Helvetica,sans-Serif\" font-size=\"14.00\">samples = 251</text>\n",
              "<text text-anchor=\"middle\" x=\"167\" y=\"-139.7\" font-family=\"Helvetica,sans-Serif\" font-size=\"14.00\">value = [3, 248]</text>\n",
              "<text text-anchor=\"middle\" x=\"167\" y=\"-123.95\" font-family=\"Helvetica,sans-Serif\" font-size=\"14.00\">class = 음성</text>\n",
              "</g>\n",
              "<!-- 2&#45;&gt;3 -->\n",
              "<g id=\"edge3\" class=\"edge\">\n",
              "<title>2&#45;&gt;3</title>\n",
              "<path fill=\"none\" stroke=\"black\" d=\"M243.68,-239.76C235.35,-231.02 226.56,-221.79 218.01,-212.82\"/>\n",
              "<polygon fill=\"black\" stroke=\"black\" points=\"220.73,-210.6 211.3,-205.77 215.67,-215.42 220.73,-210.6\"/>\n",
              "</g>\n",
              "<!-- 6 -->\n",
              "<g id=\"node7\" class=\"node\">\n",
              "<title>6</title>\n",
              "<polygon fill=\"#e58139\" stroke=\"black\" points=\"334,-196.38 240,-196.38 240,-120.12 334,-120.12 334,-196.38\"/>\n",
              "<text text-anchor=\"middle\" x=\"287\" y=\"-179.07\" font-family=\"Helvetica,sans-Serif\" font-size=\"14.00\">gini = 0.0</text>\n",
              "<text text-anchor=\"middle\" x=\"287\" y=\"-163.32\" font-family=\"Helvetica,sans-Serif\" font-size=\"14.00\">samples = 1</text>\n",
              "<text text-anchor=\"middle\" x=\"287\" y=\"-147.57\" font-family=\"Helvetica,sans-Serif\" font-size=\"14.00\">value = [1, 0]</text>\n",
              "<text text-anchor=\"middle\" x=\"287\" y=\"-131.82\" font-family=\"Helvetica,sans-Serif\" font-size=\"14.00\">class = 양성</text>\n",
              "</g>\n",
              "<!-- 2&#45;&gt;6 -->\n",
              "<g id=\"edge6\" class=\"edge\">\n",
              "<title>2&#45;&gt;6</title>\n",
              "<path fill=\"none\" stroke=\"black\" d=\"M287,-239.76C287,-229.52 287,-218.6 287,-208.22\"/>\n",
              "<polygon fill=\"black\" stroke=\"black\" points=\"290.5,-208.31 287,-198.31 283.5,-208.31 290.5,-208.31\"/>\n",
              "</g>\n",
              "<!-- 4 -->\n",
              "<g id=\"node5\" class=\"node\">\n",
              "<title>4</title>\n",
              "<polygon fill=\"#7bbeee\" stroke=\"black\" points=\"94,-76.25 0,-76.25 0,0 94,0 94,-76.25\"/>\n",
              "<text text-anchor=\"middle\" x=\"47\" y=\"-58.95\" font-family=\"Helvetica,sans-Serif\" font-size=\"14.00\">gini = 0.375</text>\n",
              "<text text-anchor=\"middle\" x=\"47\" y=\"-43.2\" font-family=\"Helvetica,sans-Serif\" font-size=\"14.00\">samples = 4</text>\n",
              "<text text-anchor=\"middle\" x=\"47\" y=\"-27.45\" font-family=\"Helvetica,sans-Serif\" font-size=\"14.00\">value = [1, 3]</text>\n",
              "<text text-anchor=\"middle\" x=\"47\" y=\"-11.7\" font-family=\"Helvetica,sans-Serif\" font-size=\"14.00\">class = 음성</text>\n",
              "</g>\n",
              "<!-- 3&#45;&gt;4 -->\n",
              "<g id=\"edge4\" class=\"edge\">\n",
              "<title>3&#45;&gt;4</title>\n",
              "<path fill=\"none\" stroke=\"black\" d=\"M120.95,-111.92C111.75,-102.86 102.08,-93.35 92.89,-84.29\"/>\n",
              "<polygon fill=\"black\" stroke=\"black\" points=\"95.61,-82.06 86.03,-77.54 90.7,-87.05 95.61,-82.06\"/>\n",
              "</g>\n",
              "<!-- 5 -->\n",
              "<g id=\"node6\" class=\"node\">\n",
              "<title>5</title>\n",
              "<polygon fill=\"#3b9ee5\" stroke=\"black\" points=\"221.5,-76.25 112.5,-76.25 112.5,0 221.5,0 221.5,-76.25\"/>\n",
              "<text text-anchor=\"middle\" x=\"167\" y=\"-58.95\" font-family=\"Helvetica,sans-Serif\" font-size=\"14.00\">gini = 0.016</text>\n",
              "<text text-anchor=\"middle\" x=\"167\" y=\"-43.2\" font-family=\"Helvetica,sans-Serif\" font-size=\"14.00\">samples = 247</text>\n",
              "<text text-anchor=\"middle\" x=\"167\" y=\"-27.45\" font-family=\"Helvetica,sans-Serif\" font-size=\"14.00\">value = [2, 245]</text>\n",
              "<text text-anchor=\"middle\" x=\"167\" y=\"-11.7\" font-family=\"Helvetica,sans-Serif\" font-size=\"14.00\">class = 음성</text>\n",
              "</g>\n",
              "<!-- 3&#45;&gt;5 -->\n",
              "<g id=\"edge5\" class=\"edge\">\n",
              "<title>3&#45;&gt;5</title>\n",
              "<path fill=\"none\" stroke=\"black\" d=\"M167,-111.92C167,-104.05 167,-95.84 167,-87.88\"/>\n",
              "<polygon fill=\"black\" stroke=\"black\" points=\"170.5,-87.99 167,-77.99 163.5,-87.99 170.5,-87.99\"/>\n",
              "</g>\n",
              "<!-- 8 -->\n",
              "<g id=\"node9\" class=\"node\">\n",
              "<title>8</title>\n",
              "<polygon fill=\"#7bbeee\" stroke=\"black\" points=\"449.88,-204.25 352.12,-204.25 352.12,-112.25 449.88,-112.25 449.88,-204.25\"/>\n",
              "<text text-anchor=\"middle\" x=\"401\" y=\"-186.95\" font-family=\"Helvetica,sans-Serif\" font-size=\"14.00\">24 &lt;= 0.179</text>\n",
              "<text text-anchor=\"middle\" x=\"401\" y=\"-171.2\" font-family=\"Helvetica,sans-Serif\" font-size=\"14.00\">gini = 0.375</text>\n",
              "<text text-anchor=\"middle\" x=\"401\" y=\"-155.45\" font-family=\"Helvetica,sans-Serif\" font-size=\"14.00\">samples = 12</text>\n",
              "<text text-anchor=\"middle\" x=\"401\" y=\"-139.7\" font-family=\"Helvetica,sans-Serif\" font-size=\"14.00\">value = [3, 9]</text>\n",
              "<text text-anchor=\"middle\" x=\"401\" y=\"-123.95\" font-family=\"Helvetica,sans-Serif\" font-size=\"14.00\">class = 음성</text>\n",
              "</g>\n",
              "<!-- 7&#45;&gt;8 -->\n",
              "<g id=\"edge8\" class=\"edge\">\n",
              "<title>7&#45;&gt;8</title>\n",
              "<path fill=\"none\" stroke=\"black\" d=\"M434.87,-239.76C431.49,-231.73 427.94,-223.29 424.46,-215.02\"/>\n",
              "<polygon fill=\"black\" stroke=\"black\" points=\"427.8,-213.93 420.69,-206.07 421.34,-216.64 427.8,-213.93\"/>\n",
              "</g>\n",
              "<!-- 11 -->\n",
              "<g id=\"node12\" class=\"node\">\n",
              "<title>11</title>\n",
              "<polygon fill=\"#e88f4f\" stroke=\"black\" points=\"569.75,-204.25 468.25,-204.25 468.25,-112.25 569.75,-112.25 569.75,-204.25\"/>\n",
              "<text text-anchor=\"middle\" x=\"519\" y=\"-186.95\" font-family=\"Helvetica,sans-Serif\" font-size=\"14.00\">28 &lt;= 0.268</text>\n",
              "<text text-anchor=\"middle\" x=\"519\" y=\"-171.2\" font-family=\"Helvetica,sans-Serif\" font-size=\"14.00\">gini = 0.18</text>\n",
              "<text text-anchor=\"middle\" x=\"519\" y=\"-155.45\" font-family=\"Helvetica,sans-Serif\" font-size=\"14.00\">samples = 20</text>\n",
              "<text text-anchor=\"middle\" x=\"519\" y=\"-139.7\" font-family=\"Helvetica,sans-Serif\" font-size=\"14.00\">value = [18, 2]</text>\n",
              "<text text-anchor=\"middle\" x=\"519\" y=\"-123.95\" font-family=\"Helvetica,sans-Serif\" font-size=\"14.00\">class = 양성</text>\n",
              "</g>\n",
              "<!-- 7&#45;&gt;11 -->\n",
              "<g id=\"edge11\" class=\"edge\">\n",
              "<title>7&#45;&gt;11</title>\n",
              "<path fill=\"none\" stroke=\"black\" d=\"M477.47,-239.76C481.65,-231.64 486.06,-223.1 490.37,-214.74\"/>\n",
              "<polygon fill=\"black\" stroke=\"black\" points=\"493.4,-216.51 494.87,-206.02 487.18,-213.3 493.4,-216.51\"/>\n",
              "</g>\n",
              "<!-- 9 -->\n",
              "<g id=\"node10\" class=\"node\">\n",
              "<title>9</title>\n",
              "<polygon fill=\"#4fa8e8\" stroke=\"black\" points=\"336.88,-76.25 239.12,-76.25 239.12,0 336.88,0 336.88,-76.25\"/>\n",
              "<text text-anchor=\"middle\" x=\"288\" y=\"-58.95\" font-family=\"Helvetica,sans-Serif\" font-size=\"14.00\">gini = 0.18</text>\n",
              "<text text-anchor=\"middle\" x=\"288\" y=\"-43.2\" font-family=\"Helvetica,sans-Serif\" font-size=\"14.00\">samples = 10</text>\n",
              "<text text-anchor=\"middle\" x=\"288\" y=\"-27.45\" font-family=\"Helvetica,sans-Serif\" font-size=\"14.00\">value = [1, 9]</text>\n",
              "<text text-anchor=\"middle\" x=\"288\" y=\"-11.7\" font-family=\"Helvetica,sans-Serif\" font-size=\"14.00\">class = 음성</text>\n",
              "</g>\n",
              "<!-- 8&#45;&gt;9 -->\n",
              "<g id=\"edge9\" class=\"edge\">\n",
              "<title>8&#45;&gt;9</title>\n",
              "<path fill=\"none\" stroke=\"black\" d=\"M357.63,-111.92C349.06,-102.95 340.05,-93.54 331.47,-84.57\"/>\n",
              "<polygon fill=\"black\" stroke=\"black\" points=\"334.22,-82.38 324.78,-77.57 329.16,-87.22 334.22,-82.38\"/>\n",
              "</g>\n",
              "<!-- 10 -->\n",
              "<g id=\"node11\" class=\"node\">\n",
              "<title>10</title>\n",
              "<polygon fill=\"#e58139\" stroke=\"black\" points=\"449,-76.25 355,-76.25 355,0 449,0 449,-76.25\"/>\n",
              "<text text-anchor=\"middle\" x=\"402\" y=\"-58.95\" font-family=\"Helvetica,sans-Serif\" font-size=\"14.00\">gini = 0.0</text>\n",
              "<text text-anchor=\"middle\" x=\"402\" y=\"-43.2\" font-family=\"Helvetica,sans-Serif\" font-size=\"14.00\">samples = 2</text>\n",
              "<text text-anchor=\"middle\" x=\"402\" y=\"-27.45\" font-family=\"Helvetica,sans-Serif\" font-size=\"14.00\">value = [2, 0]</text>\n",
              "<text text-anchor=\"middle\" x=\"402\" y=\"-11.7\" font-family=\"Helvetica,sans-Serif\" font-size=\"14.00\">class = 양성</text>\n",
              "</g>\n",
              "<!-- 8&#45;&gt;10 -->\n",
              "<g id=\"edge10\" class=\"edge\">\n",
              "<title>8&#45;&gt;10</title>\n",
              "<path fill=\"none\" stroke=\"black\" d=\"M401.38,-111.92C401.45,-104.05 401.52,-95.84 401.59,-87.88\"/>\n",
              "<polygon fill=\"black\" stroke=\"black\" points=\"405.09,-88.02 401.67,-77.99 398.09,-87.96 405.09,-88.02\"/>\n",
              "</g>\n",
              "<!-- 12 -->\n",
              "<g id=\"node13\" class=\"node\">\n",
              "<title>12</title>\n",
              "<polygon fill=\"#9ccef2\" stroke=\"black\" points=\"561,-76.25 467,-76.25 467,0 561,0 561,-76.25\"/>\n",
              "<text text-anchor=\"middle\" x=\"514\" y=\"-58.95\" font-family=\"Helvetica,sans-Serif\" font-size=\"14.00\">gini = 0.444</text>\n",
              "<text text-anchor=\"middle\" x=\"514\" y=\"-43.2\" font-family=\"Helvetica,sans-Serif\" font-size=\"14.00\">samples = 3</text>\n",
              "<text text-anchor=\"middle\" x=\"514\" y=\"-27.45\" font-family=\"Helvetica,sans-Serif\" font-size=\"14.00\">value = [1, 2]</text>\n",
              "<text text-anchor=\"middle\" x=\"514\" y=\"-11.7\" font-family=\"Helvetica,sans-Serif\" font-size=\"14.00\">class = 음성</text>\n",
              "</g>\n",
              "<!-- 11&#45;&gt;12 -->\n",
              "<g id=\"edge12\" class=\"edge\">\n",
              "<title>11&#45;&gt;12</title>\n",
              "<path fill=\"none\" stroke=\"black\" d=\"M517.08,-111.92C516.75,-104.05 516.4,-95.84 516.06,-87.88\"/>\n",
              "<polygon fill=\"black\" stroke=\"black\" points=\"519.57,-87.84 515.65,-77.99 512.57,-88.13 519.57,-87.84\"/>\n",
              "</g>\n",
              "<!-- 13 -->\n",
              "<g id=\"node14\" class=\"node\">\n",
              "<title>13</title>\n",
              "<polygon fill=\"#e58139\" stroke=\"black\" points=\"680.75,-76.25 579.25,-76.25 579.25,0 680.75,0 680.75,-76.25\"/>\n",
              "<text text-anchor=\"middle\" x=\"630\" y=\"-58.95\" font-family=\"Helvetica,sans-Serif\" font-size=\"14.00\">gini = 0.0</text>\n",
              "<text text-anchor=\"middle\" x=\"630\" y=\"-43.2\" font-family=\"Helvetica,sans-Serif\" font-size=\"14.00\">samples = 17</text>\n",
              "<text text-anchor=\"middle\" x=\"630\" y=\"-27.45\" font-family=\"Helvetica,sans-Serif\" font-size=\"14.00\">value = [17, 0]</text>\n",
              "<text text-anchor=\"middle\" x=\"630\" y=\"-11.7\" font-family=\"Helvetica,sans-Serif\" font-size=\"14.00\">class = 양성</text>\n",
              "</g>\n",
              "<!-- 11&#45;&gt;13 -->\n",
              "<g id=\"edge13\" class=\"edge\">\n",
              "<title>11&#45;&gt;13</title>\n",
              "<path fill=\"none\" stroke=\"black\" d=\"M561.6,-111.92C569.94,-103.04 578.69,-93.73 587.04,-84.84\"/>\n",
              "<polygon fill=\"black\" stroke=\"black\" points=\"589.56,-87.27 593.86,-77.58 584.46,-82.47 589.56,-87.27\"/>\n",
              "</g>\n",
              "<!-- 15 -->\n",
              "<g id=\"node16\" class=\"node\">\n",
              "<title>15</title>\n",
              "<polygon fill=\"#399de5\" stroke=\"black\" points=\"653,-324.38 559,-324.38 559,-248.12 653,-248.12 653,-324.38\"/>\n",
              "<text text-anchor=\"middle\" x=\"606\" y=\"-307.07\" font-family=\"Helvetica,sans-Serif\" font-size=\"14.00\">gini = 0.0</text>\n",
              "<text text-anchor=\"middle\" x=\"606\" y=\"-291.32\" font-family=\"Helvetica,sans-Serif\" font-size=\"14.00\">samples = 5</text>\n",
              "<text text-anchor=\"middle\" x=\"606\" y=\"-275.57\" font-family=\"Helvetica,sans-Serif\" font-size=\"14.00\">value = [0, 5]</text>\n",
              "<text text-anchor=\"middle\" x=\"606\" y=\"-259.82\" font-family=\"Helvetica,sans-Serif\" font-size=\"14.00\">class = 음성</text>\n",
              "</g>\n",
              "<!-- 14&#45;&gt;15 -->\n",
              "<g id=\"edge15\" class=\"edge\">\n",
              "<title>14&#45;&gt;15</title>\n",
              "<path fill=\"none\" stroke=\"black\" d=\"M606,-367.76C606,-357.52 606,-346.6 606,-336.22\"/>\n",
              "<polygon fill=\"black\" stroke=\"black\" points=\"609.5,-336.31 606,-326.31 602.5,-336.31 609.5,-336.31\"/>\n",
              "</g>\n",
              "<!-- 16 -->\n",
              "<g id=\"node17\" class=\"node\">\n",
              "<title>16</title>\n",
              "<polygon fill=\"#e6843d\" stroke=\"black\" points=\"800.5,-332.25 691.5,-332.25 691.5,-240.25 800.5,-240.25 800.5,-332.25\"/>\n",
              "<text text-anchor=\"middle\" x=\"746\" y=\"-314.95\" font-family=\"Helvetica,sans-Serif\" font-size=\"14.00\">26 &lt;= 0.191</text>\n",
              "<text text-anchor=\"middle\" x=\"746\" y=\"-299.2\" font-family=\"Helvetica,sans-Serif\" font-size=\"14.00\">gini = 0.043</text>\n",
              "<text text-anchor=\"middle\" x=\"746\" y=\"-283.45\" font-family=\"Helvetica,sans-Serif\" font-size=\"14.00\">samples = 137</text>\n",
              "<text text-anchor=\"middle\" x=\"746\" y=\"-267.7\" font-family=\"Helvetica,sans-Serif\" font-size=\"14.00\">value = [134, 3]</text>\n",
              "<text text-anchor=\"middle\" x=\"746\" y=\"-251.95\" font-family=\"Helvetica,sans-Serif\" font-size=\"14.00\">class = 양성</text>\n",
              "</g>\n",
              "<!-- 14&#45;&gt;16 -->\n",
              "<g id=\"edge16\" class=\"edge\">\n",
              "<title>14&#45;&gt;16</title>\n",
              "<path fill=\"none\" stroke=\"black\" d=\"M656.54,-367.76C666.46,-358.84 676.93,-349.41 687.09,-340.27\"/>\n",
              "<polygon fill=\"black\" stroke=\"black\" points=\"689.31,-342.98 694.41,-333.68 684.63,-337.77 689.31,-342.98\"/>\n",
              "</g>\n",
              "<!-- 17 -->\n",
              "<g id=\"node18\" class=\"node\">\n",
              "<title>17</title>\n",
              "<polygon fill=\"#bddef6\" stroke=\"black\" points=\"794.12,-204.25 697.88,-204.25 697.88,-112.25 794.12,-112.25 794.12,-204.25\"/>\n",
              "<text text-anchor=\"middle\" x=\"746\" y=\"-186.95\" font-family=\"Helvetica,sans-Serif\" font-size=\"14.00\">21 &lt;= 30.975</text>\n",
              "<text text-anchor=\"middle\" x=\"746\" y=\"-171.2\" font-family=\"Helvetica,sans-Serif\" font-size=\"14.00\">gini = 0.48</text>\n",
              "<text text-anchor=\"middle\" x=\"746\" y=\"-155.45\" font-family=\"Helvetica,sans-Serif\" font-size=\"14.00\">samples = 5</text>\n",
              "<text text-anchor=\"middle\" x=\"746\" y=\"-139.7\" font-family=\"Helvetica,sans-Serif\" font-size=\"14.00\">value = [2, 3]</text>\n",
              "<text text-anchor=\"middle\" x=\"746\" y=\"-123.95\" font-family=\"Helvetica,sans-Serif\" font-size=\"14.00\">class = 음성</text>\n",
              "</g>\n",
              "<!-- 16&#45;&gt;17 -->\n",
              "<g id=\"edge17\" class=\"edge\">\n",
              "<title>16&#45;&gt;17</title>\n",
              "<path fill=\"none\" stroke=\"black\" d=\"M746,-239.76C746,-232.09 746,-224.04 746,-216.12\"/>\n",
              "<polygon fill=\"black\" stroke=\"black\" points=\"749.5,-216.19 746,-206.19 742.5,-216.19 749.5,-216.19\"/>\n",
              "</g>\n",
              "<!-- 20 -->\n",
              "<g id=\"node21\" class=\"node\">\n",
              "<title>20</title>\n",
              "<polygon fill=\"#e58139\" stroke=\"black\" points=\"921.5,-196.38 812.5,-196.38 812.5,-120.12 921.5,-120.12 921.5,-196.38\"/>\n",
              "<text text-anchor=\"middle\" x=\"867\" y=\"-179.07\" font-family=\"Helvetica,sans-Serif\" font-size=\"14.00\">gini = 0.0</text>\n",
              "<text text-anchor=\"middle\" x=\"867\" y=\"-163.32\" font-family=\"Helvetica,sans-Serif\" font-size=\"14.00\">samples = 132</text>\n",
              "<text text-anchor=\"middle\" x=\"867\" y=\"-147.57\" font-family=\"Helvetica,sans-Serif\" font-size=\"14.00\">value = [132, 0]</text>\n",
              "<text text-anchor=\"middle\" x=\"867\" y=\"-131.82\" font-family=\"Helvetica,sans-Serif\" font-size=\"14.00\">class = 양성</text>\n",
              "</g>\n",
              "<!-- 16&#45;&gt;20 -->\n",
              "<g id=\"edge20\" class=\"edge\">\n",
              "<title>16&#45;&gt;20</title>\n",
              "<path fill=\"none\" stroke=\"black\" d=\"M789.68,-239.76C800.58,-228.42 812.26,-216.25 823.16,-204.9\"/>\n",
              "<polygon fill=\"black\" stroke=\"black\" points=\"825.49,-207.53 829.89,-197.89 820.44,-202.68 825.49,-207.53\"/>\n",
              "</g>\n",
              "<!-- 18 -->\n",
              "<g id=\"node19\" class=\"node\">\n",
              "<title>18</title>\n",
              "<polygon fill=\"#399de5\" stroke=\"black\" points=\"793,-76.25 699,-76.25 699,0 793,0 793,-76.25\"/>\n",
              "<text text-anchor=\"middle\" x=\"746\" y=\"-58.95\" font-family=\"Helvetica,sans-Serif\" font-size=\"14.00\">gini = 0.0</text>\n",
              "<text text-anchor=\"middle\" x=\"746\" y=\"-43.2\" font-family=\"Helvetica,sans-Serif\" font-size=\"14.00\">samples = 3</text>\n",
              "<text text-anchor=\"middle\" x=\"746\" y=\"-27.45\" font-family=\"Helvetica,sans-Serif\" font-size=\"14.00\">value = [0, 3]</text>\n",
              "<text text-anchor=\"middle\" x=\"746\" y=\"-11.7\" font-family=\"Helvetica,sans-Serif\" font-size=\"14.00\">class = 음성</text>\n",
              "</g>\n",
              "<!-- 17&#45;&gt;18 -->\n",
              "<g id=\"edge18\" class=\"edge\">\n",
              "<title>17&#45;&gt;18</title>\n",
              "<path fill=\"none\" stroke=\"black\" d=\"M746,-111.92C746,-104.05 746,-95.84 746,-87.88\"/>\n",
              "<polygon fill=\"black\" stroke=\"black\" points=\"749.5,-87.99 746,-77.99 742.5,-87.99 749.5,-87.99\"/>\n",
              "</g>\n",
              "<!-- 19 -->\n",
              "<g id=\"node20\" class=\"node\">\n",
              "<title>19</title>\n",
              "<polygon fill=\"#e58139\" stroke=\"black\" points=\"905,-76.25 811,-76.25 811,0 905,0 905,-76.25\"/>\n",
              "<text text-anchor=\"middle\" x=\"858\" y=\"-58.95\" font-family=\"Helvetica,sans-Serif\" font-size=\"14.00\">gini = 0.0</text>\n",
              "<text text-anchor=\"middle\" x=\"858\" y=\"-43.2\" font-family=\"Helvetica,sans-Serif\" font-size=\"14.00\">samples = 2</text>\n",
              "<text text-anchor=\"middle\" x=\"858\" y=\"-27.45\" font-family=\"Helvetica,sans-Serif\" font-size=\"14.00\">value = [2, 0]</text>\n",
              "<text text-anchor=\"middle\" x=\"858\" y=\"-11.7\" font-family=\"Helvetica,sans-Serif\" font-size=\"14.00\">class = 양성</text>\n",
              "</g>\n",
              "<!-- 17&#45;&gt;19 -->\n",
              "<g id=\"edge19\" class=\"edge\">\n",
              "<title>17&#45;&gt;19</title>\n",
              "<path fill=\"none\" stroke=\"black\" d=\"M788.98,-111.92C797.48,-102.95 806.41,-93.54 814.91,-84.57\"/>\n",
              "<polygon fill=\"black\" stroke=\"black\" points=\"817.2,-87.24 821.54,-77.58 812.12,-82.43 817.2,-87.24\"/>\n",
              "</g>\n",
              "</g>\n",
              "</svg>\n"
            ],
            "text/plain": [
              "<graphviz.sources.Source at 0x7fbc447580a0>"
            ]
          },
          "execution_count": 9,
          "metadata": {},
          "output_type": "execute_result"
        }
      ],
      "source": [
        "#1. 모듈 및 함수 불러오기\n",
        "from sklearn.tree import export_graphviz\n",
        "import graphviz\n",
        "\n",
        "#2. tree.dot 파일 생성\n",
        "feature_name = [str(name) for name in X.columns]\n",
        "export_graphviz(tree, out_file='tree.dot', class_names= ['양성', '음성'] , \\\n",
        "                feature_names = feature_name, impurity=True, filled=True)\n",
        "#3. tree.dot 파일 읽기\n",
        "with open('tree.dot', encoding = 'utf-8') as f:\n",
        "    dot_graph = f.read()\n",
        "graphviz.Source(dot_graph)"
      ]
    },
    {
      "cell_type": "markdown",
      "metadata": {
        "id": "QMsOv2d9lYPK"
      },
      "source": [
        "### 고객 이탈여부 분류 예측"
      ]
    },
    {
      "cell_type": "markdown",
      "metadata": {
        "id": "G-tnBGW9lYPK"
      },
      "source": [
        "- 변수 지정 및 전처리"
      ]
    },
    {
      "cell_type": "code",
      "execution_count": 10,
      "metadata": {
        "id": "at9_tHXFlYPL"
      },
      "outputs": [],
      "source": [
        "#1. 모듈 및 함수 불러오기\n",
        "import pandas as pd\n",
        "from sklearn.model_selection import train_test_split\n",
        "from imblearn.over_sampling import SMOTE\n",
        "\n",
        "#2. 데이터 불러오기\n",
        "df = pd.read_csv('Ashopping.csv', encoding = 'cp949')\n",
        "\n",
        "#3. 변수 지정(독립변수/종속변수)\n",
        "X=df[['총매출액', '구매금액대', '할인권 사용 횟수', '총 할인 금액', '구매유형', '구매카테고리수', '성별', '거래기간','방문빈도', '할인민감여부']]\n",
        "Y=df['이탈여부']\n",
        "\n",
        "#4. 데이터 분할\n",
        "X_train, X_test, Y_train, Y_test = train_test_split(X, Y, test_size=0.3, random_state=0)\n",
        "\n",
        "#5. 오버 샘플링\n",
        "smote = SMOTE(random_state=0)\n",
        "X_train, Y_train = smote.fit_resample(X_train, Y_train)\n"
      ]
    },
    {
      "cell_type": "markdown",
      "metadata": {
        "id": "zII8DrgelYPN"
      },
      "source": [
        "- 모형 학습 및 예측"
      ]
    },
    {
      "cell_type": "code",
      "execution_count": 11,
      "metadata": {
        "colab": {
          "base_uri": "https://localhost:8080/"
        },
        "id": "doZ6oM0TlYPN",
        "outputId": "cb7c53cc-0af8-42ef-ed4a-2bbf326e5239"
      },
      "outputs": [
        {
          "name": "stdout",
          "output_type": "stream",
          "text": [
            "평가용 데이터 세트에 대한 예측값\n",
            ": [0 0 0 0 0 0 0 1 0 0 0 0 0 1 0 0 0 1 1 1 0 0 0 0 0 0 1 1 1 0 0 0 0 0 0 0 0\n",
            " 1 0 1 0 0 0 0 1 0 0 1 1 0 0 1 1 0 1 0 1 0 0 0 1 0 1 1 0 1 0 0 1 0 0 1 0 1\n",
            " 0 0 0 0 1 0 1 0 1 0 1 0 1 0 0 0 0 0 0 1 1 0 0 1 0 1 0 0 1 0 0 0 0 0 0 1 1\n",
            " 0 0 1 1 0 0 1 0 1 0 0 0 0 1 0 0 1 0 0 0 0 0 0 0 0 0 1 0 1 1 1 0 1 0 0 1 0\n",
            " 0 1 0 1 0 0 0 0 0 1 0 1 0 0 1 1 0 0 0 0 0 1 0 0 1 0 0 0 1 1 0 1 0 0 0 0 0\n",
            " 1 0 0 0 0 0 0 0 1 0 0 0 1 0 0 1 0 0 0 0 0 0 0 0 0 1 1 1 0 0 0 1 1 0 0 0 0\n",
            " 0 1 1 0 0 0 1 0 0 0 0 0 1 0 1 1 0 0 0 0 1 0 0 0 0 1 0 0 1 0 1 1 0 0 0 0 1\n",
            " 1 0 0 0 1 0 0 0 1 1 0 0 0 1 1 0 0 1 0 0 1 0 1 0 1 0 1 0 0 1 1 0 1 0 0 0 1\n",
            " 1 0 0 0]\n"
          ]
        }
      ],
      "source": [
        "#1. 모듈 및 함수 불러오기\n",
        "from sklearn.tree import DecisionTreeClassifier\n",
        "\n",
        "#2. 모형 생성\n",
        "model = DecisionTreeClassifier(random_state=0, max_depth = 3)\n",
        "\n",
        "#3. 모형 학습 및 예측\n",
        "model.fit(X_train, Y_train)\n",
        "Y_pred = model.predict(X_test)\n",
        "print('평가용 데이터 세트에 대한 예측값\\n:', Y_pred)"
      ]
    },
    {
      "cell_type": "markdown",
      "metadata": {
        "id": "m2hc41uMlYPP"
      },
      "source": [
        "- 모형 평가"
      ]
    },
    {
      "cell_type": "code",
      "execution_count": 12,
      "metadata": {
        "colab": {
          "base_uri": "https://localhost:8080/"
        },
        "id": "weHfHXXOlYPQ",
        "outputId": "cb7246e5-fa47-42a0-968b-3e4db4cfa252"
      },
      "outputs": [
        {
          "name": "stdout",
          "output_type": "stream",
          "text": [
            "학습용 데이터 세트 정확도: 0.849\n",
            "평가용 데이터 세트 정확도: 0.817\n"
          ]
        }
      ],
      "source": [
        "print('학습용 데이터 세트 정확도: {:.3f}'.format(model.score(X_train, Y_train)))\n",
        "print('평가용 데이터 세트 정확도: {:.3f}'.format(model.score(X_test, Y_test)))"
      ]
    },
    {
      "cell_type": "code",
      "execution_count": 13,
      "metadata": {
        "colab": {
          "base_uri": "https://localhost:8080/"
        },
        "id": "mcMvHi05lYPR",
        "outputId": "ea293935-cedf-475b-996a-d50ec533cd71"
      },
      "outputs": [
        {
          "name": "stdout",
          "output_type": "stream",
          "text": [
            "              precision    recall  f1-score   support\n",
            "\n",
            "           0       0.90      0.84      0.87       219\n",
            "           1       0.64      0.75      0.69        81\n",
            "\n",
            "    accuracy                           0.82       300\n",
            "   macro avg       0.77      0.80      0.78       300\n",
            "weighted avg       0.83      0.82      0.82       300\n",
            "\n"
          ]
        }
      ],
      "source": [
        "#1. 모듈 및 함수 불러오기\n",
        "from sklearn.metrics import classification_report\n",
        "\n",
        "#2. 정밀도, 재현율, F1 스코어 출력\n",
        "Y_pred=model.predict(X_test)\n",
        "print(classification_report(Y_test, Y_pred))"
      ]
    },
    {
      "cell_type": "markdown",
      "metadata": {
        "id": "9xPIAo64lYPR"
      },
      "source": [
        "- 변수 중요도 출력"
      ]
    },
    {
      "cell_type": "code",
      "execution_count": 14,
      "metadata": {
        "colab": {
          "base_uri": "https://localhost:8080/"
        },
        "id": "4nNVa_DSlYPS",
        "outputId": "63d461a3-7c7a-4447-cd89-72d94ff9fd09"
      },
      "outputs": [
        {
          "data": {
            "text/plain": [
              "[(0.9016870952751362, '거래기간'),\n",
              " (0.09813536640549, '방문빈도'),\n",
              " (0.00017753831937378827, '총 할인 금액'),\n",
              " (0.0, '할인민감여부'),\n",
              " (0.0, '할인권 사용 횟수'),\n",
              " (0.0, '총매출액'),\n",
              " (0.0, '성별'),\n",
              " (0.0, '구매카테고리수'),\n",
              " (0.0, '구매유형'),\n",
              " (0.0, '구매금액대')]"
            ]
          },
          "execution_count": 14,
          "metadata": {},
          "output_type": "execute_result"
        }
      ],
      "source": [
        "feature_name = X.columns\n",
        "feature_importances = model.feature_importances_\n",
        "sorted(zip(feature_importances, feature_name), reverse=True)"
      ]
    },
    {
      "cell_type": "markdown",
      "metadata": {
        "id": "BRQzSN6glYPS"
      },
      "source": [
        "- 모형의 시각화"
      ]
    },
    {
      "cell_type": "code",
      "execution_count": 15,
      "metadata": {
        "colab": {
          "base_uri": "https://localhost:8080/",
          "height": 598
        },
        "id": "5GpefNAflYPS",
        "outputId": "ff3f0896-9b6e-45c9-c606-f54f3e45adb0"
      },
      "outputs": [
        {
          "data": {
            "image/svg+xml": [
              "<?xml version=\"1.0\" encoding=\"UTF-8\" standalone=\"no\"?>\n",
              "<!DOCTYPE svg PUBLIC \"-//W3C//DTD SVG 1.1//EN\"\n",
              " \"http://www.w3.org/Graphics/SVG/1.1/DTD/svg11.dtd\">\n",
              "<!-- Generated by graphviz version 12.1.0 (20240811.2233)\n",
              " -->\n",
              "<!-- Title: Tree Pages: 1 -->\n",
              "<svg width=\"811pt\" height=\"484pt\"\n",
              " viewBox=\"0.00 0.00 811.25 484.00\" xmlns=\"http://www.w3.org/2000/svg\" xmlns:xlink=\"http://www.w3.org/1999/xlink\">\n",
              "<g id=\"graph0\" class=\"graph\" transform=\"scale(1 1) rotate(0) translate(4 480)\">\n",
              "<title>Tree</title>\n",
              "<polygon fill=\"white\" stroke=\"none\" points=\"-4,4 -4,-480 807.25,-480 807.25,4 -4,4\"/>\n",
              "<!-- 0 -->\n",
              "<g id=\"node1\" class=\"node\">\n",
              "<title>0</title>\n",
              "<polygon fill=\"#ffffff\" stroke=\"black\" points=\"594.38,-476 462.12,-476 462.12,-378.75 594.38,-378.75 594.38,-476\"/>\n",
              "<text text-anchor=\"middle\" x=\"528.25\" y=\"-458.7\" font-family=\"Helvetica,sans-Serif\" font-size=\"14.00\">거래기간 &lt;= 3927.0</text>\n",
              "<text text-anchor=\"middle\" x=\"528.25\" y=\"-437.7\" font-family=\"Helvetica,sans-Serif\" font-size=\"14.00\">gini = 0.5</text>\n",
              "<text text-anchor=\"middle\" x=\"528.25\" y=\"-421.95\" font-family=\"Helvetica,sans-Serif\" font-size=\"14.00\">samples = 962</text>\n",
              "<text text-anchor=\"middle\" x=\"528.25\" y=\"-406.2\" font-family=\"Helvetica,sans-Serif\" font-size=\"14.00\">value = [481, 481]</text>\n",
              "<text text-anchor=\"middle\" x=\"528.25\" y=\"-390.45\" font-family=\"Helvetica,sans-Serif\" font-size=\"14.00\">class = 비이탈</text>\n",
              "</g>\n",
              "<!-- 1 -->\n",
              "<g id=\"node2\" class=\"node\">\n",
              "<title>1</title>\n",
              "<polygon fill=\"#81c1ee\" stroke=\"black\" points=\"463.38,-342.75 331.12,-342.75 331.12,-245.5 463.38,-245.5 463.38,-342.75\"/>\n",
              "<text text-anchor=\"middle\" x=\"397.25\" y=\"-325.45\" font-family=\"Helvetica,sans-Serif\" font-size=\"14.00\">거래기간 &lt;= 3411.0</text>\n",
              "<text text-anchor=\"middle\" x=\"397.25\" y=\"-304.45\" font-family=\"Helvetica,sans-Serif\" font-size=\"14.00\">gini = 0.391</text>\n",
              "<text text-anchor=\"middle\" x=\"397.25\" y=\"-288.7\" font-family=\"Helvetica,sans-Serif\" font-size=\"14.00\">samples = 652</text>\n",
              "<text text-anchor=\"middle\" x=\"397.25\" y=\"-272.95\" font-family=\"Helvetica,sans-Serif\" font-size=\"14.00\">value = [174, 478]</text>\n",
              "<text text-anchor=\"middle\" x=\"397.25\" y=\"-257.2\" font-family=\"Helvetica,sans-Serif\" font-size=\"14.00\">class = 이탈</text>\n",
              "</g>\n",
              "<!-- 0&#45;&gt;1 -->\n",
              "<g id=\"edge1\" class=\"edge\">\n",
              "<title>0&#45;&gt;1</title>\n",
              "<path fill=\"none\" stroke=\"black\" d=\"M480.59,-378.62C471.65,-369.66 462.23,-360.22 453.06,-351.05\"/>\n",
              "<polygon fill=\"black\" stroke=\"black\" points=\"455.71,-348.74 446.17,-344.14 450.75,-353.69 455.71,-348.74\"/>\n",
              "<text text-anchor=\"middle\" x=\"445.07\" y=\"-362.64\" font-family=\"Helvetica,sans-Serif\" font-size=\"14.00\">True</text>\n",
              "</g>\n",
              "<!-- 8 -->\n",
              "<g id=\"node9\" class=\"node\">\n",
              "<title>8</title>\n",
              "<polygon fill=\"#e5823b\" stroke=\"black\" points=\"674.38,-342.75 542.12,-342.75 542.12,-245.5 674.38,-245.5 674.38,-342.75\"/>\n",
              "<text text-anchor=\"middle\" x=\"608.25\" y=\"-325.45\" font-family=\"Helvetica,sans-Serif\" font-size=\"14.00\">거래기간 &lt;= 4933.5</text>\n",
              "<text text-anchor=\"middle\" x=\"608.25\" y=\"-304.45\" font-family=\"Helvetica,sans-Serif\" font-size=\"14.00\">gini = 0.019</text>\n",
              "<text text-anchor=\"middle\" x=\"608.25\" y=\"-288.7\" font-family=\"Helvetica,sans-Serif\" font-size=\"14.00\">samples = 310</text>\n",
              "<text text-anchor=\"middle\" x=\"608.25\" y=\"-272.95\" font-family=\"Helvetica,sans-Serif\" font-size=\"14.00\">value = [307, 3]</text>\n",
              "<text text-anchor=\"middle\" x=\"608.25\" y=\"-257.2\" font-family=\"Helvetica,sans-Serif\" font-size=\"14.00\">class = 비이탈</text>\n",
              "</g>\n",
              "<!-- 0&#45;&gt;8 -->\n",
              "<g id=\"edge8\" class=\"edge\">\n",
              "<title>0&#45;&gt;8</title>\n",
              "<path fill=\"none\" stroke=\"black\" d=\"M557.36,-378.62C562.49,-370.21 567.87,-361.37 573.15,-352.72\"/>\n",
              "<polygon fill=\"black\" stroke=\"black\" points=\"576.03,-354.72 578.24,-344.36 570.05,-351.07 576.03,-354.72\"/>\n",
              "<text text-anchor=\"middle\" x=\"584.92\" y=\"-361.94\" font-family=\"Helvetica,sans-Serif\" font-size=\"14.00\">False</text>\n",
              "</g>\n",
              "<!-- 2 -->\n",
              "<g id=\"node3\" class=\"node\">\n",
              "<title>2</title>\n",
              "<polygon fill=\"#cae5f8\" stroke=\"black\" points=\"266.25,-209.5 142.25,-209.5 142.25,-112.25 266.25,-112.25 266.25,-209.5\"/>\n",
              "<text text-anchor=\"middle\" x=\"204.25\" y=\"-192.2\" font-family=\"Helvetica,sans-Serif\" font-size=\"14.00\">방문빈도 &lt;= 11.5</text>\n",
              "<text text-anchor=\"middle\" x=\"204.25\" y=\"-171.2\" font-family=\"Helvetica,sans-Serif\" font-size=\"14.00\">gini = 0.488</text>\n",
              "<text text-anchor=\"middle\" x=\"204.25\" y=\"-155.45\" font-family=\"Helvetica,sans-Serif\" font-size=\"14.00\">samples = 333</text>\n",
              "<text text-anchor=\"middle\" x=\"204.25\" y=\"-139.7\" font-family=\"Helvetica,sans-Serif\" font-size=\"14.00\">value = [141, 192]</text>\n",
              "<text text-anchor=\"middle\" x=\"204.25\" y=\"-123.95\" font-family=\"Helvetica,sans-Serif\" font-size=\"14.00\">class = 이탈</text>\n",
              "</g>\n",
              "<!-- 1&#45;&gt;2 -->\n",
              "<g id=\"edge2\" class=\"edge\">\n",
              "<title>1&#45;&gt;2</title>\n",
              "<path fill=\"none\" stroke=\"black\" d=\"M330.83,-247.96C313.1,-235.9 293.85,-222.81 275.85,-210.57\"/>\n",
              "<polygon fill=\"black\" stroke=\"black\" points=\"278.06,-207.83 267.82,-205.11 274.12,-213.62 278.06,-207.83\"/>\n",
              "</g>\n",
              "<!-- 5 -->\n",
              "<g id=\"node6\" class=\"node\">\n",
              "<title>5</title>\n",
              "<polygon fill=\"#50a8e8\" stroke=\"black\" points=\"455.88,-209.5 338.62,-209.5 338.62,-112.25 455.88,-112.25 455.88,-209.5\"/>\n",
              "<text text-anchor=\"middle\" x=\"397.25\" y=\"-192.2\" font-family=\"Helvetica,sans-Serif\" font-size=\"14.00\">방문빈도 &lt;= 12.5</text>\n",
              "<text text-anchor=\"middle\" x=\"397.25\" y=\"-171.2\" font-family=\"Helvetica,sans-Serif\" font-size=\"14.00\">gini = 0.185</text>\n",
              "<text text-anchor=\"middle\" x=\"397.25\" y=\"-155.45\" font-family=\"Helvetica,sans-Serif\" font-size=\"14.00\">samples = 319</text>\n",
              "<text text-anchor=\"middle\" x=\"397.25\" y=\"-139.7\" font-family=\"Helvetica,sans-Serif\" font-size=\"14.00\">value = [33, 286]</text>\n",
              "<text text-anchor=\"middle\" x=\"397.25\" y=\"-123.95\" font-family=\"Helvetica,sans-Serif\" font-size=\"14.00\">class = 이탈</text>\n",
              "</g>\n",
              "<!-- 1&#45;&gt;5 -->\n",
              "<g id=\"edge5\" class=\"edge\">\n",
              "<title>1&#45;&gt;5</title>\n",
              "<path fill=\"none\" stroke=\"black\" d=\"M397.25,-245.37C397.25,-237.5 397.25,-229.26 397.25,-221.14\"/>\n",
              "<polygon fill=\"black\" stroke=\"black\" points=\"400.75,-221.33 397.25,-211.33 393.75,-221.33 400.75,-221.33\"/>\n",
              "</g>\n",
              "<!-- 3 -->\n",
              "<g id=\"node4\" class=\"node\">\n",
              "<title>3</title>\n",
              "<polygon fill=\"#5fb0ea\" stroke=\"black\" points=\"116.5,-76.25 0,-76.25 0,0 116.5,0 116.5,-76.25\"/>\n",
              "<text text-anchor=\"middle\" x=\"58.25\" y=\"-58.95\" font-family=\"Helvetica,sans-Serif\" font-size=\"14.00\">gini = 0.268</text>\n",
              "<text text-anchor=\"middle\" x=\"58.25\" y=\"-43.2\" font-family=\"Helvetica,sans-Serif\" font-size=\"14.00\">samples = 119</text>\n",
              "<text text-anchor=\"middle\" x=\"58.25\" y=\"-27.45\" font-family=\"Helvetica,sans-Serif\" font-size=\"14.00\">value = [19, 100]</text>\n",
              "<text text-anchor=\"middle\" x=\"58.25\" y=\"-11.7\" font-family=\"Helvetica,sans-Serif\" font-size=\"14.00\">class = 이탈</text>\n",
              "</g>\n",
              "<!-- 2&#45;&gt;3 -->\n",
              "<g id=\"edge3\" class=\"edge\">\n",
              "<title>2&#45;&gt;3</title>\n",
              "<path fill=\"none\" stroke=\"black\" d=\"M146.13,-111.8C134.96,-102.57 123.3,-92.93 112.27,-83.8\"/>\n",
              "<polygon fill=\"black\" stroke=\"black\" points=\"114.68,-81.25 104.74,-77.58 110.22,-86.65 114.68,-81.25\"/>\n",
              "</g>\n",
              "<!-- 4 -->\n",
              "<g id=\"node5\" class=\"node\">\n",
              "<title>4</title>\n",
              "<polygon fill=\"#f9e0ce\" stroke=\"black\" points=\"273.75,-76.25 134.75,-76.25 134.75,0 273.75,0 273.75,-76.25\"/>\n",
              "<text text-anchor=\"middle\" x=\"204.25\" y=\"-58.95\" font-family=\"Helvetica,sans-Serif\" font-size=\"14.00\">gini = 0.49</text>\n",
              "<text text-anchor=\"middle\" x=\"204.25\" y=\"-43.2\" font-family=\"Helvetica,sans-Serif\" font-size=\"14.00\">samples = 214</text>\n",
              "<text text-anchor=\"middle\" x=\"204.25\" y=\"-27.45\" font-family=\"Helvetica,sans-Serif\" font-size=\"14.00\">value = [122.0, 92.0]</text>\n",
              "<text text-anchor=\"middle\" x=\"204.25\" y=\"-11.7\" font-family=\"Helvetica,sans-Serif\" font-size=\"14.00\">class = 비이탈</text>\n",
              "</g>\n",
              "<!-- 2&#45;&gt;4 -->\n",
              "<g id=\"edge4\" class=\"edge\">\n",
              "<title>2&#45;&gt;4</title>\n",
              "<path fill=\"none\" stroke=\"black\" d=\"M204.25,-111.8C204.25,-103.94 204.25,-95.78 204.25,-87.9\"/>\n",
              "<polygon fill=\"black\" stroke=\"black\" points=\"207.75,-88.13 204.25,-78.13 200.75,-88.13 207.75,-88.13\"/>\n",
              "</g>\n",
              "<!-- 6 -->\n",
              "<g id=\"node7\" class=\"node\">\n",
              "<title>6</title>\n",
              "<polygon fill=\"#41a1e6\" stroke=\"black\" points=\"400.75,-76.25 291.75,-76.25 291.75,0 400.75,0 400.75,-76.25\"/>\n",
              "<text text-anchor=\"middle\" x=\"346.25\" y=\"-58.95\" font-family=\"Helvetica,sans-Serif\" font-size=\"14.00\">gini = 0.077</text>\n",
              "<text text-anchor=\"middle\" x=\"346.25\" y=\"-43.2\" font-family=\"Helvetica,sans-Serif\" font-size=\"14.00\">samples = 149</text>\n",
              "<text text-anchor=\"middle\" x=\"346.25\" y=\"-27.45\" font-family=\"Helvetica,sans-Serif\" font-size=\"14.00\">value = [6, 143]</text>\n",
              "<text text-anchor=\"middle\" x=\"346.25\" y=\"-11.7\" font-family=\"Helvetica,sans-Serif\" font-size=\"14.00\">class = 이탈</text>\n",
              "</g>\n",
              "<!-- 5&#45;&gt;6 -->\n",
              "<g id=\"edge6\" class=\"edge\">\n",
              "<title>5&#45;&gt;6</title>\n",
              "<path fill=\"none\" stroke=\"black\" d=\"M376.95,-111.8C373.51,-103.66 369.94,-95.21 366.5,-87.08\"/>\n",
              "<polygon fill=\"black\" stroke=\"black\" points=\"369.79,-85.86 362.67,-78.01 363.34,-88.58 369.79,-85.86\"/>\n",
              "</g>\n",
              "<!-- 7 -->\n",
              "<g id=\"node8\" class=\"node\">\n",
              "<title>7</title>\n",
              "<polygon fill=\"#5eb0ea\" stroke=\"black\" points=\"535.5,-76.25 419,-76.25 419,0 535.5,0 535.5,-76.25\"/>\n",
              "<text text-anchor=\"middle\" x=\"477.25\" y=\"-58.95\" font-family=\"Helvetica,sans-Serif\" font-size=\"14.00\">gini = 0.267</text>\n",
              "<text text-anchor=\"middle\" x=\"477.25\" y=\"-43.2\" font-family=\"Helvetica,sans-Serif\" font-size=\"14.00\">samples = 170</text>\n",
              "<text text-anchor=\"middle\" x=\"477.25\" y=\"-27.45\" font-family=\"Helvetica,sans-Serif\" font-size=\"14.00\">value = [27, 143]</text>\n",
              "<text text-anchor=\"middle\" x=\"477.25\" y=\"-11.7\" font-family=\"Helvetica,sans-Serif\" font-size=\"14.00\">class = 이탈</text>\n",
              "</g>\n",
              "<!-- 5&#45;&gt;7 -->\n",
              "<g id=\"edge7\" class=\"edge\">\n",
              "<title>5&#45;&gt;7</title>\n",
              "<path fill=\"none\" stroke=\"black\" d=\"M429.1,-111.8C434.73,-103.3 440.59,-94.45 446.21,-85.98\"/>\n",
              "<polygon fill=\"black\" stroke=\"black\" points=\"448.97,-88.14 451.58,-77.88 443.14,-84.28 448.97,-88.14\"/>\n",
              "</g>\n",
              "<!-- 9 -->\n",
              "<g id=\"node10\" class=\"node\">\n",
              "<title>9</title>\n",
              "<polygon fill=\"#e5813a\" stroke=\"black\" points=\"691.25,-209.5 525.25,-209.5 525.25,-112.25 691.25,-112.25 691.25,-209.5\"/>\n",
              "<text text-anchor=\"middle\" x=\"608.25\" y=\"-192.2\" font-family=\"Helvetica,sans-Serif\" font-size=\"14.00\">총 할인 금액 &lt;= 375578.5</text>\n",
              "<text text-anchor=\"middle\" x=\"608.25\" y=\"-171.2\" font-family=\"Helvetica,sans-Serif\" font-size=\"14.00\">gini = 0.006</text>\n",
              "<text text-anchor=\"middle\" x=\"608.25\" y=\"-155.45\" font-family=\"Helvetica,sans-Serif\" font-size=\"14.00\">samples = 308</text>\n",
              "<text text-anchor=\"middle\" x=\"608.25\" y=\"-139.7\" font-family=\"Helvetica,sans-Serif\" font-size=\"14.00\">value = [307, 1]</text>\n",
              "<text text-anchor=\"middle\" x=\"608.25\" y=\"-123.95\" font-family=\"Helvetica,sans-Serif\" font-size=\"14.00\">class = 비이탈</text>\n",
              "</g>\n",
              "<!-- 8&#45;&gt;9 -->\n",
              "<g id=\"edge9\" class=\"edge\">\n",
              "<title>8&#45;&gt;9</title>\n",
              "<path fill=\"none\" stroke=\"black\" d=\"M608.25,-245.37C608.25,-237.5 608.25,-229.26 608.25,-221.14\"/>\n",
              "<polygon fill=\"black\" stroke=\"black\" points=\"611.75,-221.33 608.25,-211.33 604.75,-221.33 611.75,-221.33\"/>\n",
              "</g>\n",
              "<!-- 12 -->\n",
              "<g id=\"node13\" class=\"node\">\n",
              "<title>12</title>\n",
              "<polygon fill=\"#399de5\" stroke=\"black\" points=\"803.25,-199 709.25,-199 709.25,-122.75 803.25,-122.75 803.25,-199\"/>\n",
              "<text text-anchor=\"middle\" x=\"756.25\" y=\"-181.7\" font-family=\"Helvetica,sans-Serif\" font-size=\"14.00\">gini = 0.0</text>\n",
              "<text text-anchor=\"middle\" x=\"756.25\" y=\"-165.95\" font-family=\"Helvetica,sans-Serif\" font-size=\"14.00\">samples = 2</text>\n",
              "<text text-anchor=\"middle\" x=\"756.25\" y=\"-150.2\" font-family=\"Helvetica,sans-Serif\" font-size=\"14.00\">value = [0, 2]</text>\n",
              "<text text-anchor=\"middle\" x=\"756.25\" y=\"-134.45\" font-family=\"Helvetica,sans-Serif\" font-size=\"14.00\">class = 이탈</text>\n",
              "</g>\n",
              "<!-- 8&#45;&gt;12 -->\n",
              "<g id=\"edge12\" class=\"edge\">\n",
              "<title>8&#45;&gt;12</title>\n",
              "<path fill=\"none\" stroke=\"black\" d=\"M662.1,-245.37C676.34,-232.74 691.65,-219.16 705.7,-206.7\"/>\n",
              "<polygon fill=\"black\" stroke=\"black\" points=\"707.98,-209.36 713.14,-200.11 703.34,-204.12 707.98,-209.36\"/>\n",
              "</g>\n",
              "<!-- 10 -->\n",
              "<g id=\"node11\" class=\"node\">\n",
              "<title>10</title>\n",
              "<polygon fill=\"#e58139\" stroke=\"black\" points=\"662.75,-76.25 553.75,-76.25 553.75,0 662.75,0 662.75,-76.25\"/>\n",
              "<text text-anchor=\"middle\" x=\"608.25\" y=\"-58.95\" font-family=\"Helvetica,sans-Serif\" font-size=\"14.00\">gini = 0.0</text>\n",
              "<text text-anchor=\"middle\" x=\"608.25\" y=\"-43.2\" font-family=\"Helvetica,sans-Serif\" font-size=\"14.00\">samples = 273</text>\n",
              "<text text-anchor=\"middle\" x=\"608.25\" y=\"-27.45\" font-family=\"Helvetica,sans-Serif\" font-size=\"14.00\">value = [273, 0]</text>\n",
              "<text text-anchor=\"middle\" x=\"608.25\" y=\"-11.7\" font-family=\"Helvetica,sans-Serif\" font-size=\"14.00\">class = 비이탈</text>\n",
              "</g>\n",
              "<!-- 9&#45;&gt;10 -->\n",
              "<g id=\"edge10\" class=\"edge\">\n",
              "<title>9&#45;&gt;10</title>\n",
              "<path fill=\"none\" stroke=\"black\" d=\"M608.25,-111.8C608.25,-103.94 608.25,-95.78 608.25,-87.9\"/>\n",
              "<polygon fill=\"black\" stroke=\"black\" points=\"611.75,-88.13 608.25,-78.13 604.75,-88.13 611.75,-88.13\"/>\n",
              "</g>\n",
              "<!-- 11 -->\n",
              "<g id=\"node12\" class=\"node\">\n",
              "<title>11</title>\n",
              "<polygon fill=\"#e6853f\" stroke=\"black\" points=\"782,-76.25 680.5,-76.25 680.5,0 782,0 782,-76.25\"/>\n",
              "<text text-anchor=\"middle\" x=\"731.25\" y=\"-58.95\" font-family=\"Helvetica,sans-Serif\" font-size=\"14.00\">gini = 0.056</text>\n",
              "<text text-anchor=\"middle\" x=\"731.25\" y=\"-43.2\" font-family=\"Helvetica,sans-Serif\" font-size=\"14.00\">samples = 35</text>\n",
              "<text text-anchor=\"middle\" x=\"731.25\" y=\"-27.45\" font-family=\"Helvetica,sans-Serif\" font-size=\"14.00\">value = [34, 1]</text>\n",
              "<text text-anchor=\"middle\" x=\"731.25\" y=\"-11.7\" font-family=\"Helvetica,sans-Serif\" font-size=\"14.00\">class = 비이탈</text>\n",
              "</g>\n",
              "<!-- 9&#45;&gt;11 -->\n",
              "<g id=\"edge11\" class=\"edge\">\n",
              "<title>9&#45;&gt;11</title>\n",
              "<path fill=\"none\" stroke=\"black\" d=\"M657.22,-111.8C666.35,-102.84 675.86,-93.5 684.91,-84.62\"/>\n",
              "<polygon fill=\"black\" stroke=\"black\" points=\"687.3,-87.18 691.98,-77.67 682.39,-82.18 687.3,-87.18\"/>\n",
              "</g>\n",
              "</g>\n",
              "</svg>\n"
            ],
            "text/plain": [
              "<graphviz.sources.Source at 0x7fbcc01f44f0>"
            ]
          },
          "execution_count": 15,
          "metadata": {},
          "output_type": "execute_result"
        }
      ],
      "source": [
        "#1. 모듈 및 함수 불러오기\n",
        "from sklearn.tree import export_graphviz\n",
        "import graphviz\n",
        "\n",
        "#2. tree.dot 파일 생성\n",
        "export_graphviz(model, out_file='tree.dot', class_names= ['비이탈', '이탈'] , \\\n",
        "                feature_names = feature_name, impurity=True, filled=True)\n",
        "#3. tree.dot 파일 읽기\n",
        "with open('tree.dot', encoding = 'utf-8') as f:\n",
        "    dot_graph = f.read()\n",
        "graphviz.Source(dot_graph)"
      ]
    },
    {
      "cell_type": "markdown",
      "metadata": {
        "id": "VtTIOZ6UlYPT"
      },
      "source": [
        "## (2) 수치 예측 실습"
      ]
    },
    {
      "cell_type": "markdown",
      "metadata": {
        "id": "ycZW4WAZlYPT"
      },
      "source": [
        "- 변수 지정 및 전처리"
      ]
    },
    {
      "cell_type": "code",
      "execution_count": 16,
      "metadata": {
        "id": "mAN1DrsYlYPT"
      },
      "outputs": [],
      "source": [
        "#1. 데이터 불러오기\n",
        "df = pd.read_csv('Ashopping.csv', encoding = 'cp949')\n",
        "\n",
        "#2. 변수 지정(독립변수/종속변수)\n",
        "X = df[df.이탈여부==0][['총매출액', '구매금액대', '1회 평균매출액', '할인권 사용 횟수', '총 할인 금액', '고객등급', '구매유형', '구매카테고리수', '할인민감여부', '성별']]\n",
        "Y =df[df.이탈여부==0]['평균 구매주기']\n",
        "\n",
        "#3. 데이터 분할(학습용/평가용 데이터 세트)\n",
        "X_train, X_test, Y_train, Y_test = train_test_split(X, Y, test_size=0.3, random_state=0)"
      ]
    },
    {
      "cell_type": "markdown",
      "metadata": {
        "id": "1kx2erKTlYPU"
      },
      "source": [
        "- 모형 학습 및 예측"
      ]
    },
    {
      "cell_type": "code",
      "execution_count": 17,
      "metadata": {
        "colab": {
          "base_uri": "https://localhost:8080/"
        },
        "id": "SSpS29JelYPU",
        "outputId": "73ed211f-10c2-4583-9830-76b51c0bc628"
      },
      "outputs": [
        {
          "name": "stdout",
          "output_type": "stream",
          "text": [
            "평가용 데이터 세트에 대한 예측값\n",
            " [455.64747475 219.52891923 188.43794852 132.12982455 121.98842338\n",
            " 455.64747475  36.4605307   36.87257686 188.43794852 219.52891923\n",
            " 235.97570051  52.57351837  74.96853132 219.52891923 400.49652778\n",
            " 159.47256847 246.68568749 235.97570051 235.97570051 159.47256847\n",
            " 298.75707848 188.43794852 182.98808089 124.78956387  69.63876479\n",
            " 246.68568749 298.75707848  76.76466611  81.69969608 219.52891923\n",
            " 159.47256847 423.55833333 159.47256847 297.         188.43794852\n",
            " 188.43794852 219.52891923 182.98808089 188.43794852 625.06696428\n",
            " 186.37920882 124.78956387 135.65359753 124.78956387 101.95083623\n",
            " 455.64747475  69.63876479 188.43794852 246.68568749 352.19658123\n",
            " 188.43794852 441.30536165 132.51288327 135.65359753 246.68568749\n",
            " 219.52891923 352.19658123 296.30798939 186.37920882 101.95083623\n",
            " 246.68568749 189.4718831  101.95083623 235.97570051 101.95083623\n",
            " 162.36665117 188.43794852 149.42775149 485.1375      49.21820922\n",
            " 235.97570051 149.42775149 162.36665117 162.36665117  76.76466611\n",
            " 485.1375     298.75707848 424.95        74.96853132 235.97570051\n",
            " 101.95083623 188.43794852 121.98842338  87.6122449  235.97570051\n",
            " 159.47256847 124.78956387 182.98808089 124.78956387 182.98808089\n",
            " 298.75707848 132.12982455 159.47256847 132.12982455 186.37920882\n",
            " 876.4        135.65359753  74.96853132 246.68568749  74.96853132\n",
            "  69.63876479 188.43794852 182.98808089 188.43794852 188.43794852\n",
            " 189.4718831  159.47256847  69.63876479 235.97570051 107.89843991\n",
            " 188.43794852 188.43794852 441.30536165 556.28571427 188.43794852\n",
            " 124.78956387 124.78956387 159.47256847 246.68568749 101.95083623\n",
            " 186.37920882 246.68568749 124.78956387 135.65359753 159.47256847\n",
            " 298.75707848 101.95083623  76.76466611 455.64747475 188.43794852\n",
            "  63.48144378 162.36665117 424.95       235.97570051 188.43794852\n",
            " 159.47256847  74.96853132 219.52891923 182.98808089 188.43794852\n",
            " 235.97570051 188.43794852 441.30536165 162.36665117 135.65359753\n",
            " 298.75707848 246.68568749 455.64747475  87.6122449  162.36665117\n",
            " 107.89843991 107.89843991 186.37920882 324.89840714 841.8\n",
            " 121.98842338  36.87257686 271.3333333  235.97570051 135.65359753\n",
            " 246.68568749 298.75707848 296.30798939 101.95083623 135.65359753\n",
            " 219.52891923 247.48096406  69.63876479 296.30798939 101.95083623\n",
            "  63.48144378 162.36665117 149.42775149 574.14285715  76.76466611\n",
            " 219.52891923 684.10119048 101.95083623 188.43794852 101.95083623\n",
            " 189.4718831  928.3        423.55833333 400.49652778 188.43794852\n",
            " 188.43794852 219.52891923 298.75707848  36.4605307  246.68568749\n",
            " 219.52891923 159.47256847 556.28571427  36.87257686 162.36665117\n",
            " 235.97570051 298.75707848  74.96853132 186.37920882  63.48144378\n",
            " 684.10119048  52.57351837 159.47256847 188.43794852 246.68568749\n",
            " 101.95083623 235.97570051 235.97570051 246.68568749 162.36665117]\n"
          ]
        }
      ],
      "source": [
        "#1. 모듈 및 함수 불러오기\n",
        "from sklearn.tree import DecisionTreeRegressor\n",
        "\n",
        "#2. 모형 생성\n",
        "model = DecisionTreeRegressor(random_state=0, max_depth=6)\n",
        "\n",
        "#3. 모형 학습 및 예측\n",
        "model.fit(X_train, Y_train)\n",
        "Y_pred = model.predict(X_test)\n",
        "print('평가용 데이터 세트에 대한 예측값\\n', Y_pred)"
      ]
    },
    {
      "cell_type": "markdown",
      "metadata": {
        "id": "Ls9e-RXvlYPU"
      },
      "source": [
        "- 모형 평가"
      ]
    },
    {
      "cell_type": "code",
      "execution_count": 18,
      "metadata": {
        "colab": {
          "base_uri": "https://localhost:8080/"
        },
        "id": "4e8azC_FlYPU",
        "outputId": "fcda4baa-1171-4382-a92b-406335e47340"
      },
      "outputs": [
        {
          "name": "stdout",
          "output_type": "stream",
          "text": [
            "학습용 데이터 세트 결정계수: 0.933\n",
            "평가용 데이터 세트 결정계수: 0.740\n"
          ]
        }
      ],
      "source": [
        "print('학습용 데이터 세트 결정계수: {:.3f}'.format(model.score(X_train, Y_train)))\n",
        "print('평가용 데이터 세트 결정계수: {:.3f}'.format(model.score(X_test, Y_test)))"
      ]
    },
    {
      "cell_type": "code",
      "execution_count": 19,
      "metadata": {
        "colab": {
          "base_uri": "https://localhost:8080/"
        },
        "id": "tUaOrtvSlYPV",
        "outputId": "1b30a5ce-0351-467a-d585-ca00e1f13210"
      },
      "outputs": [
        {
          "name": "stdout",
          "output_type": "stream",
          "text": [
            "RMSE:99.169\n"
          ]
        }
      ],
      "source": [
        "#1. 모듈 및 함수 불러오기\n",
        "from sklearn.metrics import mean_squared_error\n",
        "from math import sqrt\n",
        "\n",
        "#2. RMSE 계산\n",
        "rmse= sqrt(mean_squared_error(Y_test, Y_pred))\n",
        "print('RMSE:{:.3f}'.format(rmse))"
      ]
    },
    {
      "cell_type": "markdown",
      "metadata": {
        "id": "XtXrtDJxlYPV"
      },
      "source": [
        "- 변수 중요도 출력"
      ]
    },
    {
      "cell_type": "code",
      "execution_count": null,
      "metadata": {
        "colab": {
          "base_uri": "https://localhost:8080/"
        },
        "id": "lrTOyEQ9lYPV",
        "outputId": "77fe6d5f-d274-4f5a-93ca-f7fe8caf3b39"
      },
      "outputs": [
        {
          "data": {
            "text/plain": [
              "[(0.46532298995852994, '1회 평균매출액'),\n",
              " (0.4624969172850114, '총매출액'),\n",
              " (0.0319625523156692, '총 할인 금액'),\n",
              " (0.02330782493258377, '구매카테고리수'),\n",
              " (0.00933556691023202, '할인민감여부'),\n",
              " (0.006059980868302923, '구매유형'),\n",
              " (0.0010628868632488922, '고객등급'),\n",
              " (0.00045128086642188674, '할인권 사용 횟수'),\n",
              " (0.0, '성별'),\n",
              " (0.0, '구매금액대')]"
            ]
          },
          "execution_count": 20,
          "metadata": {},
          "output_type": "execute_result"
        }
      ],
      "source": [
        "feature_name = X.columns\n",
        "feature_importances = model.feature_importances_\n",
        "sorted(zip(feature_importances, feature_name), reverse=True) "
      ]
    },
    {
      "cell_type": "markdown",
      "metadata": {
        "id": "5YVSZChWlYPW"
      },
      "source": [
        "- 모형의 시각화"
      ]
    },
    {
      "cell_type": "code",
      "execution_count": 21,
      "metadata": {
        "colab": {
          "base_uri": "https://localhost:8080/",
          "height": 954
        },
        "id": "pYzKdZI-lYPW",
        "outputId": "ac478727-2fe7-4066-b561-ab8592aa71c2",
        "scrolled": false
      },
      "outputs": [
        {
          "data": {
            "image/svg+xml": [
              "<?xml version=\"1.0\" encoding=\"UTF-8\" standalone=\"no\"?>\n",
              "<!DOCTYPE svg PUBLIC \"-//W3C//DTD SVG 1.1//EN\"\n",
              " \"http://www.w3.org/Graphics/SVG/1.1/DTD/svg11.dtd\">\n",
              "<!-- Generated by graphviz version 12.1.0 (20240811.2233)\n",
              " -->\n",
              "<!-- Title: Tree Pages: 1 -->\n",
              "<svg width=\"10361pt\" height=\"737pt\"\n",
              " viewBox=\"0.00 0.00 10360.50 736.75\" xmlns=\"http://www.w3.org/2000/svg\" xmlns:xlink=\"http://www.w3.org/1999/xlink\">\n",
              "<g id=\"graph0\" class=\"graph\" transform=\"scale(1 1) rotate(0) translate(4 732.75)\">\n",
              "<title>Tree</title>\n",
              "<polygon fill=\"white\" stroke=\"none\" points=\"-4,4 -4,-732.75 10356.5,-732.75 10356.5,4 -4,4\"/>\n",
              "<!-- 0 -->\n",
              "<g id=\"node1\" class=\"node\">\n",
              "<title>0</title>\n",
              "<polygon fill=\"#fbeee4\" stroke=\"black\" points=\"5505.25,-728.75 5322,-728.75 5322,-652.5 5505.25,-652.5 5505.25,-728.75\"/>\n",
              "<text text-anchor=\"middle\" x=\"5413.62\" y=\"-711.45\" font-family=\"Helvetica,sans-Serif\" font-size=\"14.00\">1회 평균매출액 &lt;= 404797.5</text>\n",
              "<text text-anchor=\"middle\" x=\"5413.62\" y=\"-690.45\" font-family=\"Helvetica,sans-Serif\" font-size=\"14.00\">squared_error = 30931.934</text>\n",
              "<text text-anchor=\"middle\" x=\"5413.62\" y=\"-674.7\" font-family=\"Helvetica,sans-Serif\" font-size=\"14.00\">samples = 490</text>\n",
              "<text text-anchor=\"middle\" x=\"5413.62\" y=\"-658.95\" font-family=\"Helvetica,sans-Serif\" font-size=\"14.00\">value = 223.368</text>\n",
              "</g>\n",
              "<!-- 1 -->\n",
              "<g id=\"node2\" class=\"node\">\n",
              "<title>1</title>\n",
              "<polygon fill=\"#fcf1e9\" stroke=\"black\" points=\"4366.75,-616.5 4186.5,-616.5 4186.5,-540.25 4366.75,-540.25 4366.75,-616.5\"/>\n",
              "<text text-anchor=\"middle\" x=\"4276.62\" y=\"-599.2\" font-family=\"Helvetica,sans-Serif\" font-size=\"14.00\">총매출액 &lt;= 3962600.0</text>\n",
              "<text text-anchor=\"middle\" x=\"4276.62\" y=\"-578.2\" font-family=\"Helvetica,sans-Serif\" font-size=\"14.00\">squared_error = 13644.067</text>\n",
              "<text text-anchor=\"middle\" x=\"4276.62\" y=\"-562.45\" font-family=\"Helvetica,sans-Serif\" font-size=\"14.00\">samples = 386</text>\n",
              "<text text-anchor=\"middle\" x=\"4276.62\" y=\"-546.7\" font-family=\"Helvetica,sans-Serif\" font-size=\"14.00\">value = 183.273</text>\n",
              "</g>\n",
              "<!-- 0&#45;&gt;1 -->\n",
              "<g id=\"edge1\" class=\"edge\">\n",
              "<title>0&#45;&gt;1</title>\n",
              "<path fill=\"none\" stroke=\"black\" d=\"M5321.54,-680.7C5111.35,-660.31 4597.51,-610.49 4378.35,-589.24\"/>\n",
              "<polygon fill=\"black\" stroke=\"black\" points=\"4378.99,-585.78 4368.7,-588.3 4378.31,-592.75 4378.99,-585.78\"/>\n",
              "<text text-anchor=\"middle\" x=\"4383.08\" y=\"-602.03\" font-family=\"Helvetica,sans-Serif\" font-size=\"14.00\">True</text>\n",
              "</g>\n",
              "<!-- 64 -->\n",
              "<g id=\"node65\" class=\"node\">\n",
              "<title>64</title>\n",
              "<polygon fill=\"#f9e1d0\" stroke=\"black\" points=\"6701.75,-616.5 6521.5,-616.5 6521.5,-540.25 6701.75,-540.25 6701.75,-616.5\"/>\n",
              "<text text-anchor=\"middle\" x=\"6611.62\" y=\"-599.2\" font-family=\"Helvetica,sans-Serif\" font-size=\"14.00\">총매출액 &lt;= 4594750.0</text>\n",
              "<text text-anchor=\"middle\" x=\"6611.62\" y=\"-578.2\" font-family=\"Helvetica,sans-Serif\" font-size=\"14.00\">squared_error = 66983.941</text>\n",
              "<text text-anchor=\"middle\" x=\"6611.62\" y=\"-562.45\" font-family=\"Helvetica,sans-Serif\" font-size=\"14.00\">samples = 104</text>\n",
              "<text text-anchor=\"middle\" x=\"6611.62\" y=\"-546.7\" font-family=\"Helvetica,sans-Serif\" font-size=\"14.00\">value = 372.182</text>\n",
              "</g>\n",
              "<!-- 0&#45;&gt;64 -->\n",
              "<g id=\"edge64\" class=\"edge\">\n",
              "<title>0&#45;&gt;64</title>\n",
              "<path fill=\"none\" stroke=\"black\" d=\"M5505.64,-681.16C5725.61,-660.91 6280.63,-609.84 6510.01,-588.73\"/>\n",
              "<polygon fill=\"black\" stroke=\"black\" points=\"6510.2,-592.22 6519.84,-587.82 6509.56,-585.25 6510.2,-592.22\"/>\n",
              "<text text-anchor=\"middle\" x=\"6505.36\" y=\"-601.48\" font-family=\"Helvetica,sans-Serif\" font-size=\"14.00\">False</text>\n",
              "</g>\n",
              "<!-- 2 -->\n",
              "<g id=\"node3\" class=\"node\">\n",
              "<title>2</title>\n",
              "<polygon fill=\"#fbece1\" stroke=\"black\" points=\"2272.25,-504.25 2089,-504.25 2089,-428 2272.25,-428 2272.25,-504.25\"/>\n",
              "<text text-anchor=\"middle\" x=\"2180.62\" y=\"-486.95\" font-family=\"Helvetica,sans-Serif\" font-size=\"14.00\">1회 평균매출액 &lt;= 245163.0</text>\n",
              "<text text-anchor=\"middle\" x=\"2180.62\" y=\"-465.95\" font-family=\"Helvetica,sans-Serif\" font-size=\"14.00\">squared_error = 16390.172</text>\n",
              "<text text-anchor=\"middle\" x=\"2180.62\" y=\"-450.2\" font-family=\"Helvetica,sans-Serif\" font-size=\"14.00\">samples = 180</text>\n",
              "<text text-anchor=\"middle\" x=\"2180.62\" y=\"-434.45\" font-family=\"Helvetica,sans-Serif\" font-size=\"14.00\">value = 248.101</text>\n",
              "</g>\n",
              "<!-- 1&#45;&gt;2 -->\n",
              "<g id=\"edge2\" class=\"edge\">\n",
              "<title>1&#45;&gt;2</title>\n",
              "<path fill=\"none\" stroke=\"black\" d=\"M4186.23,-572.62C3846.24,-554.74 2645.31,-491.57 2284.13,-472.57\"/>\n",
              "<polygon fill=\"black\" stroke=\"black\" points=\"2284.35,-469.08 2274.17,-472.05 2283.98,-476.07 2284.35,-469.08\"/>\n",
              "</g>\n",
              "<!-- 33 -->\n",
              "<g id=\"node34\" class=\"node\">\n",
              "<title>33</title>\n",
              "<polygon fill=\"#fdf6f1\" stroke=\"black\" points=\"4368.25,-504.25 4185,-504.25 4185,-428 4368.25,-428 4368.25,-504.25\"/>\n",
              "<text text-anchor=\"middle\" x=\"4276.62\" y=\"-486.95\" font-family=\"Helvetica,sans-Serif\" font-size=\"14.00\">1회 평균매출액 &lt;= 188518.0</text>\n",
              "<text text-anchor=\"middle\" x=\"4276.62\" y=\"-465.95\" font-family=\"Helvetica,sans-Serif\" font-size=\"14.00\">squared_error = 4363.557</text>\n",
              "<text text-anchor=\"middle\" x=\"4276.62\" y=\"-450.2\" font-family=\"Helvetica,sans-Serif\" font-size=\"14.00\">samples = 206</text>\n",
              "<text text-anchor=\"middle\" x=\"4276.62\" y=\"-434.45\" font-family=\"Helvetica,sans-Serif\" font-size=\"14.00\">value = 126.627</text>\n",
              "</g>\n",
              "<!-- 1&#45;&gt;33 -->\n",
              "<g id=\"edge33\" class=\"edge\">\n",
              "<title>1&#45;&gt;33</title>\n",
              "<path fill=\"none\" stroke=\"black\" d=\"M4276.62,-540.05C4276.62,-532.24 4276.62,-523.89 4276.62,-515.74\"/>\n",
              "<polygon fill=\"black\" stroke=\"black\" points=\"4280.13,-515.93 4276.63,-505.93 4273.13,-515.93 4280.13,-515.93\"/>\n",
              "</g>\n",
              "<!-- 3 -->\n",
              "<g id=\"node4\" class=\"node\">\n",
              "<title>3</title>\n",
              "<polygon fill=\"#fcf1e8\" stroke=\"black\" points=\"1189.25,-392 1006,-392 1006,-315.75 1189.25,-315.75 1189.25,-392\"/>\n",
              "<text text-anchor=\"middle\" x=\"1097.62\" y=\"-374.7\" font-family=\"Helvetica,sans-Serif\" font-size=\"14.00\">1회 평균매출액 &lt;= 122203.0</text>\n",
              "<text text-anchor=\"middle\" x=\"1097.62\" y=\"-353.7\" font-family=\"Helvetica,sans-Serif\" font-size=\"14.00\">squared_error = 6199.507</text>\n",
              "<text text-anchor=\"middle\" x=\"1097.62\" y=\"-337.95\" font-family=\"Helvetica,sans-Serif\" font-size=\"14.00\">samples = 131</text>\n",
              "<text text-anchor=\"middle\" x=\"1097.62\" y=\"-322.2\" font-family=\"Helvetica,sans-Serif\" font-size=\"14.00\">value = 190.682</text>\n",
              "</g>\n",
              "<!-- 2&#45;&gt;3 -->\n",
              "<g id=\"edge3\" class=\"edge\">\n",
              "<title>2&#45;&gt;3</title>\n",
              "<path fill=\"none\" stroke=\"black\" d=\"M2088.76,-455.77C1888.03,-435.34 1411.46,-386.82 1200.8,-365.38\"/>\n",
              "<polygon fill=\"black\" stroke=\"black\" points=\"1201.26,-361.91 1190.95,-364.38 1200.55,-368.87 1201.26,-361.91\"/>\n",
              "</g>\n",
              "<!-- 18 -->\n",
              "<g id=\"node19\" class=\"node\">\n",
              "<title>18</title>\n",
              "<polygon fill=\"#f8dfcd\" stroke=\"black\" points=\"2269.62,-392 2091.62,-392 2091.62,-315.75 2269.62,-315.75 2269.62,-392\"/>\n",
              "<text text-anchor=\"middle\" x=\"2180.62\" y=\"-374.7\" font-family=\"Helvetica,sans-Serif\" font-size=\"14.00\">총매출액 &lt;= 2736500.0</text>\n",
              "<text text-anchor=\"middle\" x=\"2180.62\" y=\"-353.7\" font-family=\"Helvetica,sans-Serif\" font-size=\"14.00\">squared_error = 11256.111</text>\n",
              "<text text-anchor=\"middle\" x=\"2180.62\" y=\"-337.95\" font-family=\"Helvetica,sans-Serif\" font-size=\"14.00\">samples = 49</text>\n",
              "<text text-anchor=\"middle\" x=\"2180.62\" y=\"-322.2\" font-family=\"Helvetica,sans-Serif\" font-size=\"14.00\">value = 401.607</text>\n",
              "</g>\n",
              "<!-- 2&#45;&gt;18 -->\n",
              "<g id=\"edge18\" class=\"edge\">\n",
              "<title>2&#45;&gt;18</title>\n",
              "<path fill=\"none\" stroke=\"black\" d=\"M2180.62,-427.8C2180.62,-419.99 2180.62,-411.64 2180.62,-403.49\"/>\n",
              "<polygon fill=\"black\" stroke=\"black\" points=\"2184.13,-403.68 2180.63,-393.68 2177.13,-403.68 2184.13,-403.68\"/>\n",
              "</g>\n",
              "<!-- 4 -->\n",
              "<g id=\"node5\" class=\"node\">\n",
              "<title>4</title>\n",
              "<polygon fill=\"#fdf6f2\" stroke=\"black\" points=\"631.5,-279.75 455.75,-279.75 455.75,-203.5 631.5,-203.5 631.5,-279.75\"/>\n",
              "<text text-anchor=\"middle\" x=\"543.62\" y=\"-262.45\" font-family=\"Helvetica,sans-Serif\" font-size=\"14.00\">1회 평균매출액 &lt;= 89775.5</text>\n",
              "<text text-anchor=\"middle\" x=\"543.62\" y=\"-241.45\" font-family=\"Helvetica,sans-Serif\" font-size=\"14.00\">squared_error = 2112.146</text>\n",
              "<text text-anchor=\"middle\" x=\"543.62\" y=\"-225.7\" font-family=\"Helvetica,sans-Serif\" font-size=\"14.00\">samples = 45</text>\n",
              "<text text-anchor=\"middle\" x=\"543.62\" y=\"-209.95\" font-family=\"Helvetica,sans-Serif\" font-size=\"14.00\">value = 119.597</text>\n",
              "</g>\n",
              "<!-- 3&#45;&gt;4 -->\n",
              "<g id=\"edge4\" class=\"edge\">\n",
              "<title>3&#45;&gt;4</title>\n",
              "<path fill=\"none\" stroke=\"black\" d=\"M1005.52,-334.55C905.33,-314.61 745.74,-282.85 642.84,-262.37\"/>\n",
              "<polygon fill=\"black\" stroke=\"black\" points=\"643.8,-258.99 633.31,-260.47 642.43,-265.86 643.8,-258.99\"/>\n",
              "</g>\n",
              "<!-- 11 -->\n",
              "<g id=\"node12\" class=\"node\">\n",
              "<title>11</title>\n",
              "<polygon fill=\"#fbede3\" stroke=\"black\" points=\"1184,-279.75 1011.25,-279.75 1011.25,-203.5 1184,-203.5 1184,-279.75\"/>\n",
              "<text text-anchor=\"middle\" x=\"1097.62\" y=\"-262.45\" font-family=\"Helvetica,sans-Serif\" font-size=\"14.00\">총매출액 &lt;= 2583170.0</text>\n",
              "<text text-anchor=\"middle\" x=\"1097.62\" y=\"-241.45\" font-family=\"Helvetica,sans-Serif\" font-size=\"14.00\">squared_error = 4310.651</text>\n",
              "<text text-anchor=\"middle\" x=\"1097.62\" y=\"-225.7\" font-family=\"Helvetica,sans-Serif\" font-size=\"14.00\">samples = 86</text>\n",
              "<text text-anchor=\"middle\" x=\"1097.62\" y=\"-209.95\" font-family=\"Helvetica,sans-Serif\" font-size=\"14.00\">value = 227.878</text>\n",
              "</g>\n",
              "<!-- 3&#45;&gt;11 -->\n",
              "<g id=\"edge11\" class=\"edge\">\n",
              "<title>3&#45;&gt;11</title>\n",
              "<path fill=\"none\" stroke=\"black\" d=\"M1097.62,-315.55C1097.62,-307.74 1097.62,-299.39 1097.62,-291.24\"/>\n",
              "<polygon fill=\"black\" stroke=\"black\" points=\"1101.13,-291.43 1097.63,-281.43 1094.13,-291.43 1101.13,-291.43\"/>\n",
              "</g>\n",
              "<!-- 5 -->\n",
              "<g id=\"node6\" class=\"node\">\n",
              "<title>5</title>\n",
              "<polygon fill=\"#fefaf7\" stroke=\"black\" points=\"351.62,-167.5 179.62,-167.5 179.62,-91.25 351.62,-91.25 351.62,-167.5\"/>\n",
              "<text text-anchor=\"middle\" x=\"265.62\" y=\"-150.2\" font-family=\"Helvetica,sans-Serif\" font-size=\"14.00\">할인민감여부 &lt;= 0.5</text>\n",
              "<text text-anchor=\"middle\" x=\"265.62\" y=\"-129.2\" font-family=\"Helvetica,sans-Serif\" font-size=\"14.00\">squared_error = 1174.933</text>\n",
              "<text text-anchor=\"middle\" x=\"265.62\" y=\"-113.45\" font-family=\"Helvetica,sans-Serif\" font-size=\"14.00\">samples = 18</text>\n",
              "<text text-anchor=\"middle\" x=\"265.62\" y=\"-97.7\" font-family=\"Helvetica,sans-Serif\" font-size=\"14.00\">value = 80.118</text>\n",
              "</g>\n",
              "<!-- 4&#45;&gt;5 -->\n",
              "<g id=\"edge5\" class=\"edge\">\n",
              "<title>4&#45;&gt;5</title>\n",
              "<path fill=\"none\" stroke=\"black\" d=\"M455.28,-205.59C425.7,-193.86 392.57,-180.72 362.38,-168.75\"/>\n",
              "<polygon fill=\"black\" stroke=\"black\" points=\"363.83,-165.56 353.24,-165.12 361.25,-172.06 363.83,-165.56\"/>\n",
              "</g>\n",
              "<!-- 8 -->\n",
              "<g id=\"node9\" class=\"node\">\n",
              "<title>8</title>\n",
              "<polygon fill=\"#fdf4ee\" stroke=\"black\" points=\"630,-167.5 457.25,-167.5 457.25,-91.25 630,-91.25 630,-167.5\"/>\n",
              "<text text-anchor=\"middle\" x=\"543.62\" y=\"-150.2\" font-family=\"Helvetica,sans-Serif\" font-size=\"14.00\">총매출액 &lt;= 2925700.0</text>\n",
              "<text text-anchor=\"middle\" x=\"543.62\" y=\"-129.2\" font-family=\"Helvetica,sans-Serif\" font-size=\"14.00\">squared_error = 1005.179</text>\n",
              "<text text-anchor=\"middle\" x=\"543.62\" y=\"-113.45\" font-family=\"Helvetica,sans-Serif\" font-size=\"14.00\">samples = 27</text>\n",
              "<text text-anchor=\"middle\" x=\"543.62\" y=\"-97.7\" font-family=\"Helvetica,sans-Serif\" font-size=\"14.00\">value = 145.916</text>\n",
              "</g>\n",
              "<!-- 4&#45;&gt;8 -->\n",
              "<g id=\"edge8\" class=\"edge\">\n",
              "<title>4&#45;&gt;8</title>\n",
              "<path fill=\"none\" stroke=\"black\" d=\"M543.62,-203.3C543.62,-195.49 543.62,-187.14 543.62,-178.99\"/>\n",
              "<polygon fill=\"black\" stroke=\"black\" points=\"547.13,-179.18 543.63,-169.18 540.13,-179.18 547.13,-179.18\"/>\n",
              "</g>\n",
              "<!-- 6 -->\n",
              "<g id=\"node7\" class=\"node\">\n",
              "<title>6</title>\n",
              "<polygon fill=\"#fefbf8\" stroke=\"black\" points=\"165.25,-55.25 0,-55.25 0,0 165.25,0 165.25,-55.25\"/>\n",
              "<text text-anchor=\"middle\" x=\"82.62\" y=\"-37.95\" font-family=\"Helvetica,sans-Serif\" font-size=\"14.00\">squared_error = 714.761</text>\n",
              "<text text-anchor=\"middle\" x=\"82.62\" y=\"-22.2\" font-family=\"Helvetica,sans-Serif\" font-size=\"14.00\">samples = 15</text>\n",
              "<text text-anchor=\"middle\" x=\"82.62\" y=\"-6.45\" font-family=\"Helvetica,sans-Serif\" font-size=\"14.00\">value = 69.639</text>\n",
              "</g>\n",
              "<!-- 5&#45;&gt;6 -->\n",
              "<g id=\"edge6\" class=\"edge\">\n",
              "<title>5&#45;&gt;6</title>\n",
              "<path fill=\"none\" stroke=\"black\" d=\"M196.7,-90.81C178.83,-81.06 159.73,-70.66 142.38,-61.2\"/>\n",
              "<polygon fill=\"black\" stroke=\"black\" points=\"144.17,-58.18 133.71,-56.47 140.82,-64.33 144.17,-58.18\"/>\n",
              "</g>\n",
              "<!-- 7 -->\n",
              "<g id=\"node8\" class=\"node\">\n",
              "<title>7</title>\n",
              "<polygon fill=\"#fdf5f0\" stroke=\"black\" points=\"348.25,-55.25 183,-55.25 183,0 348.25,0 348.25,-55.25\"/>\n",
              "<text text-anchor=\"middle\" x=\"265.62\" y=\"-37.95\" font-family=\"Helvetica,sans-Serif\" font-size=\"14.00\">squared_error = 181.494</text>\n",
              "<text text-anchor=\"middle\" x=\"265.62\" y=\"-22.2\" font-family=\"Helvetica,sans-Serif\" font-size=\"14.00\">samples = 3</text>\n",
              "<text text-anchor=\"middle\" x=\"265.62\" y=\"-6.45\" font-family=\"Helvetica,sans-Serif\" font-size=\"14.00\">value = 132.513</text>\n",
              "</g>\n",
              "<!-- 5&#45;&gt;7 -->\n",
              "<g id=\"edge7\" class=\"edge\">\n",
              "<title>5&#45;&gt;7</title>\n",
              "<path fill=\"none\" stroke=\"black\" d=\"M265.62,-90.95C265.62,-83.17 265.62,-74.95 265.62,-67.13\"/>\n",
              "<polygon fill=\"black\" stroke=\"black\" points=\"269.13,-67.18 265.63,-57.18 262.13,-67.18 269.13,-67.18\"/>\n",
              "</g>\n",
              "<!-- 9 -->\n",
              "<g id=\"node10\" class=\"node\">\n",
              "<title>9</title>\n",
              "<polygon fill=\"#fcf3ec\" stroke=\"black\" points=\"531.25,-55.25 366,-55.25 366,0 531.25,0 531.25,-55.25\"/>\n",
              "<text text-anchor=\"middle\" x=\"448.62\" y=\"-37.95\" font-family=\"Helvetica,sans-Serif\" font-size=\"14.00\">squared_error = 686.772</text>\n",
              "<text text-anchor=\"middle\" x=\"448.62\" y=\"-22.2\" font-family=\"Helvetica,sans-Serif\" font-size=\"14.00\">samples = 16</text>\n",
              "<text text-anchor=\"middle\" x=\"448.62\" y=\"-6.45\" font-family=\"Helvetica,sans-Serif\" font-size=\"14.00\">value = 162.367</text>\n",
              "</g>\n",
              "<!-- 8&#45;&gt;9 -->\n",
              "<g id=\"edge9\" class=\"edge\">\n",
              "<title>8&#45;&gt;9</title>\n",
              "<path fill=\"none\" stroke=\"black\" d=\"M507.98,-90.95C499.52,-82.07 490.53,-72.62 482.17,-63.84\"/>\n",
              "<polygon fill=\"black\" stroke=\"black\" points=\"484.86,-61.59 475.43,-56.77 479.79,-66.42 484.86,-61.59\"/>\n",
              "</g>\n",
              "<!-- 10 -->\n",
              "<g id=\"node11\" class=\"node\">\n",
              "<title>10</title>\n",
              "<polygon fill=\"#fdf6f1\" stroke=\"black\" points=\"714.25,-55.25 549,-55.25 549,0 714.25,0 714.25,-55.25\"/>\n",
              "<text text-anchor=\"middle\" x=\"631.62\" y=\"-37.95\" font-family=\"Helvetica,sans-Serif\" font-size=\"14.00\">squared_error = 502.153</text>\n",
              "<text text-anchor=\"middle\" x=\"631.62\" y=\"-22.2\" font-family=\"Helvetica,sans-Serif\" font-size=\"14.00\">samples = 11</text>\n",
              "<text text-anchor=\"middle\" x=\"631.62\" y=\"-6.45\" font-family=\"Helvetica,sans-Serif\" font-size=\"14.00\">value = 121.988</text>\n",
              "</g>\n",
              "<!-- 8&#45;&gt;10 -->\n",
              "<g id=\"edge10\" class=\"edge\">\n",
              "<title>8&#45;&gt;10</title>\n",
              "<path fill=\"none\" stroke=\"black\" d=\"M576.64,-90.95C584.4,-82.16 592.64,-72.82 600.32,-64.12\"/>\n",
              "<polygon fill=\"black\" stroke=\"black\" points=\"602.77,-66.62 606.76,-56.81 597.52,-61.99 602.77,-66.62\"/>\n",
              "</g>\n",
              "<!-- 12 -->\n",
              "<g id=\"node13\" class=\"node\">\n",
              "<title>12</title>\n",
              "<polygon fill=\"#fbeade\" stroke=\"black\" points=\"1088.25,-167.5 905,-167.5 905,-91.25 1088.25,-91.25 1088.25,-167.5\"/>\n",
              "<text text-anchor=\"middle\" x=\"996.62\" y=\"-150.2\" font-family=\"Helvetica,sans-Serif\" font-size=\"14.00\">1회 평균매출액 &lt;= 158596.0</text>\n",
              "<text text-anchor=\"middle\" x=\"996.62\" y=\"-129.2\" font-family=\"Helvetica,sans-Serif\" font-size=\"14.00\">squared_error = 5952.405</text>\n",
              "<text text-anchor=\"middle\" x=\"996.62\" y=\"-113.45\" font-family=\"Helvetica,sans-Serif\" font-size=\"14.00\">samples = 25</text>\n",
              "<text text-anchor=\"middle\" x=\"996.62\" y=\"-97.7\" font-family=\"Helvetica,sans-Serif\" font-size=\"14.00\">value = 267.066</text>\n",
              "</g>\n",
              "<!-- 11&#45;&gt;12 -->\n",
              "<g id=\"edge12\" class=\"edge\">\n",
              "<title>11&#45;&gt;12</title>\n",
              "<path fill=\"none\" stroke=\"black\" d=\"M1063.43,-203.3C1055.37,-194.5 1046.69,-185.02 1038.33,-175.9\"/>\n",
              "<polygon fill=\"black\" stroke=\"black\" points=\"1041.14,-173.79 1031.81,-168.78 1035.98,-178.52 1041.14,-173.79\"/>\n",
              "</g>\n",
              "<!-- 15 -->\n",
              "<g id=\"node16\" class=\"node\">\n",
              "<title>15</title>\n",
              "<polygon fill=\"#fcefe5\" stroke=\"black\" points=\"1289.25,-167.5 1106,-167.5 1106,-91.25 1289.25,-91.25 1289.25,-167.5\"/>\n",
              "<text text-anchor=\"middle\" x=\"1197.62\" y=\"-150.2\" font-family=\"Helvetica,sans-Serif\" font-size=\"14.00\">1회 평균매출액 &lt;= 190938.5</text>\n",
              "<text text-anchor=\"middle\" x=\"1197.62\" y=\"-129.2\" font-family=\"Helvetica,sans-Serif\" font-size=\"14.00\">squared_error = 2750.471</text>\n",
              "<text text-anchor=\"middle\" x=\"1197.62\" y=\"-113.45\" font-family=\"Helvetica,sans-Serif\" font-size=\"14.00\">samples = 61</text>\n",
              "<text text-anchor=\"middle\" x=\"1197.62\" y=\"-97.7\" font-family=\"Helvetica,sans-Serif\" font-size=\"14.00\">value = 211.817</text>\n",
              "</g>\n",
              "<!-- 11&#45;&gt;15 -->\n",
              "<g id=\"edge15\" class=\"edge\">\n",
              "<title>11&#45;&gt;15</title>\n",
              "<path fill=\"none\" stroke=\"black\" d=\"M1131.48,-203.3C1139.38,-194.59 1147.88,-185.21 1156.08,-176.18\"/>\n",
              "<polygon fill=\"black\" stroke=\"black\" points=\"1158.66,-178.54 1162.79,-168.78 1153.48,-173.84 1158.66,-178.54\"/>\n",
              "</g>\n",
              "<!-- 13 -->\n",
              "<g id=\"node14\" class=\"node\">\n",
              "<title>13</title>\n",
              "<polygon fill=\"#fceee4\" stroke=\"black\" points=\"905,-55.25 732.25,-55.25 732.25,0 905,0 905,-55.25\"/>\n",
              "<text text-anchor=\"middle\" x=\"818.62\" y=\"-37.95\" font-family=\"Helvetica,sans-Serif\" font-size=\"14.00\">squared_error = 4128.563</text>\n",
              "<text text-anchor=\"middle\" x=\"818.62\" y=\"-22.2\" font-family=\"Helvetica,sans-Serif\" font-size=\"14.00\">samples = 10</text>\n",
              "<text text-anchor=\"middle\" x=\"818.62\" y=\"-6.45\" font-family=\"Helvetica,sans-Serif\" font-size=\"14.00\">value = 219.529</text>\n",
              "</g>\n",
              "<!-- 12&#45;&gt;13 -->\n",
              "<g id=\"edge13\" class=\"edge\">\n",
              "<title>12&#45;&gt;13</title>\n",
              "<path fill=\"none\" stroke=\"black\" d=\"M929.58,-90.81C912.2,-81.06 893.63,-70.66 876.75,-61.2\"/>\n",
              "<polygon fill=\"black\" stroke=\"black\" points=\"878.78,-58.32 868.34,-56.49 875.36,-64.43 878.78,-58.32\"/>\n",
              "</g>\n",
              "<!-- 14 -->\n",
              "<g id=\"node15\" class=\"node\">\n",
              "<title>14</title>\n",
              "<polygon fill=\"#fae8da\" stroke=\"black\" points=\"1088.25,-55.25 923,-55.25 923,0 1088.25,0 1088.25,-55.25\"/>\n",
              "<text text-anchor=\"middle\" x=\"1005.62\" y=\"-37.95\" font-family=\"Helvetica,sans-Serif\" font-size=\"14.00\">squared_error = 4657.46</text>\n",
              "<text text-anchor=\"middle\" x=\"1005.62\" y=\"-22.2\" font-family=\"Helvetica,sans-Serif\" font-size=\"14.00\">samples = 15</text>\n",
              "<text text-anchor=\"middle\" x=\"1005.62\" y=\"-6.45\" font-family=\"Helvetica,sans-Serif\" font-size=\"14.00\">value = 298.757</text>\n",
              "</g>\n",
              "<!-- 12&#45;&gt;14 -->\n",
              "<g id=\"edge14\" class=\"edge\">\n",
              "<title>12&#45;&gt;14</title>\n",
              "<path fill=\"none\" stroke=\"black\" d=\"M1000,-90.95C1000.7,-83.17 1001.45,-74.95 1002.15,-67.13\"/>\n",
              "<polygon fill=\"black\" stroke=\"black\" points=\"1005.64,-67.45 1003.05,-57.18 998.66,-66.82 1005.64,-67.45\"/>\n",
              "</g>\n",
              "<!-- 16 -->\n",
              "<g id=\"node17\" class=\"node\">\n",
              "<title>16</title>\n",
              "<polygon fill=\"#fcf1e9\" stroke=\"black\" points=\"1270.88,-55.25 1106.38,-55.25 1106.38,0 1270.88,0 1270.88,-55.25\"/>\n",
              "<text text-anchor=\"middle\" x=\"1188.62\" y=\"-37.95\" font-family=\"Helvetica,sans-Serif\" font-size=\"14.00\">squared_error = 1170.97</text>\n",
              "<text text-anchor=\"middle\" x=\"1188.62\" y=\"-22.2\" font-family=\"Helvetica,sans-Serif\" font-size=\"14.00\">samples = 31</text>\n",
              "<text text-anchor=\"middle\" x=\"1188.62\" y=\"-6.45\" font-family=\"Helvetica,sans-Serif\" font-size=\"14.00\">value = 188.438</text>\n",
              "</g>\n",
              "<!-- 15&#45;&gt;16 -->\n",
              "<g id=\"edge16\" class=\"edge\">\n",
              "<title>15&#45;&gt;16</title>\n",
              "<path fill=\"none\" stroke=\"black\" d=\"M1194.25,-90.95C1193.55,-83.17 1192.8,-74.95 1192.1,-67.13\"/>\n",
              "<polygon fill=\"black\" stroke=\"black\" points=\"1195.59,-66.82 1191.2,-57.18 1188.61,-67.45 1195.59,-66.82\"/>\n",
              "</g>\n",
              "<!-- 17 -->\n",
              "<g id=\"node18\" class=\"node\">\n",
              "<title>17</title>\n",
              "<polygon fill=\"#fbede2\" stroke=\"black\" points=\"1454.25,-55.25 1289,-55.25 1289,0 1454.25,0 1454.25,-55.25\"/>\n",
              "<text text-anchor=\"middle\" x=\"1371.62\" y=\"-37.95\" font-family=\"Helvetica,sans-Serif\" font-size=\"14.00\">squared_error = 3234.18</text>\n",
              "<text text-anchor=\"middle\" x=\"1371.62\" y=\"-22.2\" font-family=\"Helvetica,sans-Serif\" font-size=\"14.00\">samples = 30</text>\n",
              "<text text-anchor=\"middle\" x=\"1371.62\" y=\"-6.45\" font-family=\"Helvetica,sans-Serif\" font-size=\"14.00\">value = 235.976</text>\n",
              "</g>\n",
              "<!-- 15&#45;&gt;17 -->\n",
              "<g id=\"edge17\" class=\"edge\">\n",
              "<title>15&#45;&gt;17</title>\n",
              "<path fill=\"none\" stroke=\"black\" d=\"M1262.91,-90.95C1280,-81.15 1298.28,-70.67 1314.89,-61.15\"/>\n",
              "<polygon fill=\"black\" stroke=\"black\" points=\"1316.2,-64.43 1323.14,-56.42 1312.72,-58.36 1316.2,-64.43\"/>\n",
              "</g>\n",
              "<!-- 19 -->\n",
              "<g id=\"node20\" class=\"node\">\n",
              "<title>19</title>\n",
              "<polygon fill=\"#f7d8c1\" stroke=\"black\" points=\"2083.25,-279.75 1900,-279.75 1900,-203.5 2083.25,-203.5 2083.25,-279.75\"/>\n",
              "<text text-anchor=\"middle\" x=\"1991.62\" y=\"-262.45\" font-family=\"Helvetica,sans-Serif\" font-size=\"14.00\">1회 평균매출액 &lt;= 272166.5</text>\n",
              "<text text-anchor=\"middle\" x=\"1991.62\" y=\"-241.45\" font-family=\"Helvetica,sans-Serif\" font-size=\"14.00\">squared_error = 4418.924</text>\n",
              "<text text-anchor=\"middle\" x=\"1991.62\" y=\"-225.7\" font-family=\"Helvetica,sans-Serif\" font-size=\"14.00\">samples = 19</text>\n",
              "<text text-anchor=\"middle\" x=\"1991.62\" y=\"-209.95\" font-family=\"Helvetica,sans-Serif\" font-size=\"14.00\">value = 486.793</text>\n",
              "</g>\n",
              "<!-- 18&#45;&gt;19 -->\n",
              "<g id=\"edge19\" class=\"edge\">\n",
              "<title>18&#45;&gt;19</title>\n",
              "<path fill=\"none\" stroke=\"black\" d=\"M2116.37,-315.4C2100.09,-305.9 2082.47,-295.62 2065.75,-285.86\"/>\n",
              "<polygon fill=\"black\" stroke=\"black\" points=\"2067.73,-282.97 2057.33,-280.95 2064.2,-289.01 2067.73,-282.97\"/>\n",
              "</g>\n",
              "<!-- 26 -->\n",
              "<g id=\"node27\" class=\"node\">\n",
              "<title>26</title>\n",
              "<polygon fill=\"#f9e3d4\" stroke=\"black\" points=\"2451,-279.75 2278.25,-279.75 2278.25,-203.5 2451,-203.5 2451,-279.75\"/>\n",
              "<text text-anchor=\"middle\" x=\"2364.62\" y=\"-262.45\" font-family=\"Helvetica,sans-Serif\" font-size=\"14.00\">할인민감여부 &lt;= 0.5</text>\n",
              "<text text-anchor=\"middle\" x=\"2364.62\" y=\"-241.45\" font-family=\"Helvetica,sans-Serif\" font-size=\"14.00\">squared_error = 8079.776</text>\n",
              "<text text-anchor=\"middle\" x=\"2364.62\" y=\"-225.7\" font-family=\"Helvetica,sans-Serif\" font-size=\"14.00\">samples = 30</text>\n",
              "<text text-anchor=\"middle\" x=\"2364.62\" y=\"-209.95\" font-family=\"Helvetica,sans-Serif\" font-size=\"14.00\">value = 347.657</text>\n",
              "</g>\n",
              "<!-- 18&#45;&gt;26 -->\n",
              "<g id=\"edge26\" class=\"edge\">\n",
              "<title>18&#45;&gt;26</title>\n",
              "<path fill=\"none\" stroke=\"black\" d=\"M2243.18,-315.4C2259.03,-305.9 2276.18,-295.62 2292.46,-285.86\"/>\n",
              "<polygon fill=\"black\" stroke=\"black\" points=\"2293.86,-289.11 2300.64,-280.97 2290.26,-283.1 2293.86,-289.11\"/>\n",
              "</g>\n",
              "<!-- 20 -->\n",
              "<g id=\"node21\" class=\"node\">\n",
              "<title>20</title>\n",
              "<polygon fill=\"#f8dcc7\" stroke=\"black\" points=\"1794,-167.5 1621.25,-167.5 1621.25,-91.25 1794,-91.25 1794,-167.5\"/>\n",
              "<text text-anchor=\"middle\" x=\"1707.62\" y=\"-150.2\" font-family=\"Helvetica,sans-Serif\" font-size=\"14.00\">총매출액 &lt;= 2301195.0</text>\n",
              "<text text-anchor=\"middle\" x=\"1707.62\" y=\"-129.2\" font-family=\"Helvetica,sans-Serif\" font-size=\"14.00\">squared_error = 1714.884</text>\n",
              "<text text-anchor=\"middle\" x=\"1707.62\" y=\"-113.45\" font-family=\"Helvetica,sans-Serif\" font-size=\"14.00\">samples = 5</text>\n",
              "<text text-anchor=\"middle\" x=\"1707.62\" y=\"-97.7\" font-family=\"Helvetica,sans-Serif\" font-size=\"14.00\">value = 440.713</text>\n",
              "</g>\n",
              "<!-- 19&#45;&gt;20 -->\n",
              "<g id=\"edge20\" class=\"edge\">\n",
              "<title>19&#45;&gt;20</title>\n",
              "<path fill=\"none\" stroke=\"black\" d=\"M1899.81,-204.98C1869.51,-193.22 1835.72,-180.1 1805.02,-168.18\"/>\n",
              "<polygon fill=\"black\" stroke=\"black\" points=\"1806.3,-164.93 1795.71,-164.57 1803.76,-171.45 1806.3,-164.93\"/>\n",
              "</g>\n",
              "<!-- 23 -->\n",
              "<g id=\"node24\" class=\"node\">\n",
              "<title>23</title>\n",
              "<polygon fill=\"#f7d6bf\" stroke=\"black\" points=\"2078,-167.5 1905.25,-167.5 1905.25,-91.25 2078,-91.25 2078,-167.5\"/>\n",
              "<text text-anchor=\"middle\" x=\"1991.62\" y=\"-150.2\" font-family=\"Helvetica,sans-Serif\" font-size=\"14.00\">할인민감여부 &lt;= 0.5</text>\n",
              "<text text-anchor=\"middle\" x=\"1991.62\" y=\"-129.2\" font-family=\"Helvetica,sans-Serif\" font-size=\"14.00\">squared_error = 4355.476</text>\n",
              "<text text-anchor=\"middle\" x=\"1991.62\" y=\"-113.45\" font-family=\"Helvetica,sans-Serif\" font-size=\"14.00\">samples = 14</text>\n",
              "<text text-anchor=\"middle\" x=\"1991.62\" y=\"-97.7\" font-family=\"Helvetica,sans-Serif\" font-size=\"14.00\">value = 503.25</text>\n",
              "</g>\n",
              "<!-- 19&#45;&gt;23 -->\n",
              "<g id=\"edge23\" class=\"edge\">\n",
              "<title>19&#45;&gt;23</title>\n",
              "<path fill=\"none\" stroke=\"black\" d=\"M1991.62,-203.3C1991.62,-195.49 1991.62,-187.14 1991.62,-178.99\"/>\n",
              "<polygon fill=\"black\" stroke=\"black\" points=\"1995.13,-179.18 1991.63,-169.18 1988.13,-179.18 1995.13,-179.18\"/>\n",
              "</g>\n",
              "<!-- 21 -->\n",
              "<g id=\"node22\" class=\"node\">\n",
              "<title>21</title>\n",
              "<polygon fill=\"#f7d6be\" stroke=\"black\" points=\"1607.25,-55.25 1472,-55.25 1472,0 1607.25,0 1607.25,-55.25\"/>\n",
              "<text text-anchor=\"middle\" x=\"1539.62\" y=\"-37.95\" font-family=\"Helvetica,sans-Serif\" font-size=\"14.00\">squared_error = 0.0</text>\n",
              "<text text-anchor=\"middle\" x=\"1539.62\" y=\"-22.2\" font-family=\"Helvetica,sans-Serif\" font-size=\"14.00\">samples = 1</text>\n",
              "<text text-anchor=\"middle\" x=\"1539.62\" y=\"-6.45\" font-family=\"Helvetica,sans-Serif\" font-size=\"14.00\">value = 509.333</text>\n",
              "</g>\n",
              "<!-- 20&#45;&gt;21 -->\n",
              "<g id=\"edge21\" class=\"edge\">\n",
              "<title>20&#45;&gt;21</title>\n",
              "<path fill=\"none\" stroke=\"black\" d=\"M1644.59,-90.95C1628.24,-81.24 1610.77,-70.87 1594.86,-61.42\"/>\n",
              "<polygon fill=\"black\" stroke=\"black\" points=\"1596.86,-58.54 1586.48,-56.44 1593.29,-64.56 1596.86,-58.54\"/>\n",
              "</g>\n",
              "<!-- 22 -->\n",
              "<g id=\"node23\" class=\"node\">\n",
              "<title>22</title>\n",
              "<polygon fill=\"#f8ddca\" stroke=\"black\" points=\"1790.25,-55.25 1625,-55.25 1625,0 1790.25,0 1790.25,-55.25\"/>\n",
              "<text text-anchor=\"middle\" x=\"1707.62\" y=\"-37.95\" font-family=\"Helvetica,sans-Serif\" font-size=\"14.00\">squared_error = 672.135</text>\n",
              "<text text-anchor=\"middle\" x=\"1707.62\" y=\"-22.2\" font-family=\"Helvetica,sans-Serif\" font-size=\"14.00\">samples = 4</text>\n",
              "<text text-anchor=\"middle\" x=\"1707.62\" y=\"-6.45\" font-family=\"Helvetica,sans-Serif\" font-size=\"14.00\">value = 423.558</text>\n",
              "</g>\n",
              "<!-- 20&#45;&gt;22 -->\n",
              "<g id=\"edge22\" class=\"edge\">\n",
              "<title>20&#45;&gt;22</title>\n",
              "<path fill=\"none\" stroke=\"black\" d=\"M1707.62,-90.95C1707.62,-83.17 1707.62,-74.95 1707.62,-67.13\"/>\n",
              "<polygon fill=\"black\" stroke=\"black\" points=\"1711.13,-67.18 1707.63,-57.18 1704.13,-67.18 1711.13,-67.18\"/>\n",
              "</g>\n",
              "<!-- 24 -->\n",
              "<g id=\"node25\" class=\"node\">\n",
              "<title>24</title>\n",
              "<polygon fill=\"#f7d8c2\" stroke=\"black\" points=\"1981,-55.25 1808.25,-55.25 1808.25,0 1981,0 1981,-55.25\"/>\n",
              "<text text-anchor=\"middle\" x=\"1894.62\" y=\"-37.95\" font-family=\"Helvetica,sans-Serif\" font-size=\"14.00\">squared_error = 4331.332</text>\n",
              "<text text-anchor=\"middle\" x=\"1894.62\" y=\"-22.2\" font-family=\"Helvetica,sans-Serif\" font-size=\"14.00\">samples = 10</text>\n",
              "<text text-anchor=\"middle\" x=\"1894.62\" y=\"-6.45\" font-family=\"Helvetica,sans-Serif\" font-size=\"14.00\">value = 485.138</text>\n",
              "</g>\n",
              "<!-- 23&#45;&gt;24 -->\n",
              "<g id=\"edge24\" class=\"edge\">\n",
              "<title>23&#45;&gt;24</title>\n",
              "<path fill=\"none\" stroke=\"black\" d=\"M1955.23,-90.95C1946.59,-82.07 1937.41,-72.62 1928.87,-63.84\"/>\n",
              "<polygon fill=\"black\" stroke=\"black\" points=\"1931.46,-61.48 1921.98,-56.76 1926.44,-66.36 1931.46,-61.48\"/>\n",
              "</g>\n",
              "<!-- 25 -->\n",
              "<g id=\"node26\" class=\"node\">\n",
              "<title>25</title>\n",
              "<polygon fill=\"#f6d3b9\" stroke=\"black\" points=\"2172,-55.25 1999.25,-55.25 1999.25,0 2172,0 2172,-55.25\"/>\n",
              "<text text-anchor=\"middle\" x=\"2085.62\" y=\"-37.95\" font-family=\"Helvetica,sans-Serif\" font-size=\"14.00\">squared_error = 1545.201</text>\n",
              "<text text-anchor=\"middle\" x=\"2085.62\" y=\"-22.2\" font-family=\"Helvetica,sans-Serif\" font-size=\"14.00\">samples = 4</text>\n",
              "<text text-anchor=\"middle\" x=\"2085.62\" y=\"-6.45\" font-family=\"Helvetica,sans-Serif\" font-size=\"14.00\">value = 548.532</text>\n",
              "</g>\n",
              "<!-- 23&#45;&gt;25 -->\n",
              "<g id=\"edge25\" class=\"edge\">\n",
              "<title>23&#45;&gt;25</title>\n",
              "<path fill=\"none\" stroke=\"black\" d=\"M2026.89,-90.95C2035.26,-82.07 2044.16,-72.62 2052.44,-63.84\"/>\n",
              "<polygon fill=\"black\" stroke=\"black\" points=\"2054.79,-66.45 2059.1,-56.77 2049.7,-61.65 2054.79,-66.45\"/>\n",
              "</g>\n",
              "<!-- 27 -->\n",
              "<g id=\"node28\" class=\"node\">\n",
              "<title>27</title>\n",
              "<polygon fill=\"#fae6d8\" stroke=\"black\" points=\"2456.25,-167.5 2273,-167.5 2273,-91.25 2456.25,-91.25 2456.25,-167.5\"/>\n",
              "<text text-anchor=\"middle\" x=\"2364.62\" y=\"-150.2\" font-family=\"Helvetica,sans-Serif\" font-size=\"14.00\">1회 평균매출액 &lt;= 361737.5</text>\n",
              "<text text-anchor=\"middle\" x=\"2364.62\" y=\"-129.2\" font-family=\"Helvetica,sans-Serif\" font-size=\"14.00\">squared_error = 6928.004</text>\n",
              "<text text-anchor=\"middle\" x=\"2364.62\" y=\"-113.45\" font-family=\"Helvetica,sans-Serif\" font-size=\"14.00\">samples = 21</text>\n",
              "<text text-anchor=\"middle\" x=\"2364.62\" y=\"-97.7\" font-family=\"Helvetica,sans-Serif\" font-size=\"14.00\">value = 316.153</text>\n",
              "</g>\n",
              "<!-- 26&#45;&gt;27 -->\n",
              "<g id=\"edge27\" class=\"edge\">\n",
              "<title>26&#45;&gt;27</title>\n",
              "<path fill=\"none\" stroke=\"black\" d=\"M2364.62,-203.3C2364.62,-195.49 2364.62,-187.14 2364.62,-178.99\"/>\n",
              "<polygon fill=\"black\" stroke=\"black\" points=\"2368.13,-179.18 2364.63,-169.18 2361.13,-179.18 2368.13,-179.18\"/>\n",
              "</g>\n",
              "<!-- 30 -->\n",
              "<g id=\"node31\" class=\"node\">\n",
              "<title>30</title>\n",
              "<polygon fill=\"#f8ddca\" stroke=\"black\" points=\"2746.25,-167.5 2563,-167.5 2563,-91.25 2746.25,-91.25 2746.25,-167.5\"/>\n",
              "<text text-anchor=\"middle\" x=\"2654.62\" y=\"-150.2\" font-family=\"Helvetica,sans-Serif\" font-size=\"14.00\">1회 평균매출액 &lt;= 290232.0</text>\n",
              "<text text-anchor=\"middle\" x=\"2654.62\" y=\"-129.2\" font-family=\"Helvetica,sans-Serif\" font-size=\"14.00\">squared_error = 3048.211</text>\n",
              "<text text-anchor=\"middle\" x=\"2654.62\" y=\"-113.45\" font-family=\"Helvetica,sans-Serif\" font-size=\"14.00\">samples = 9</text>\n",
              "<text text-anchor=\"middle\" x=\"2654.62\" y=\"-97.7\" font-family=\"Helvetica,sans-Serif\" font-size=\"14.00\">value = 421.164</text>\n",
              "</g>\n",
              "<!-- 26&#45;&gt;30 -->\n",
              "<g id=\"edge30\" class=\"edge\">\n",
              "<title>26&#45;&gt;30</title>\n",
              "<path fill=\"none\" stroke=\"black\" d=\"M2451.24,-207.7C2482.94,-195.64 2519.11,-181.89 2552.08,-169.36\"/>\n",
              "<polygon fill=\"black\" stroke=\"black\" points=\"2553.14,-172.7 2561.24,-165.88 2550.65,-166.16 2553.14,-172.7\"/>\n",
              "</g>\n",
              "<!-- 28 -->\n",
              "<g id=\"node29\" class=\"node\">\n",
              "<title>28</title>\n",
              "<polygon fill=\"#fae8da\" stroke=\"black\" points=\"2363,-55.25 2190.25,-55.25 2190.25,0 2363,0 2363,-55.25\"/>\n",
              "<text text-anchor=\"middle\" x=\"2276.62\" y=\"-37.95\" font-family=\"Helvetica,sans-Serif\" font-size=\"14.00\">squared_error = 5492.403</text>\n",
              "<text text-anchor=\"middle\" x=\"2276.62\" y=\"-22.2\" font-family=\"Helvetica,sans-Serif\" font-size=\"14.00\">samples = 17</text>\n",
              "<text text-anchor=\"middle\" x=\"2276.62\" y=\"-6.45\" font-family=\"Helvetica,sans-Serif\" font-size=\"14.00\">value = 296.308</text>\n",
              "</g>\n",
              "<!-- 27&#45;&gt;28 -->\n",
              "<g id=\"edge28\" class=\"edge\">\n",
              "<title>27&#45;&gt;28</title>\n",
              "<path fill=\"none\" stroke=\"black\" d=\"M2331.61,-90.95C2323.85,-82.16 2315.61,-72.82 2307.93,-64.12\"/>\n",
              "<polygon fill=\"black\" stroke=\"black\" points=\"2310.73,-61.99 2301.49,-56.81 2305.48,-66.62 2310.73,-61.99\"/>\n",
              "</g>\n",
              "<!-- 29 -->\n",
              "<g id=\"node30\" class=\"node\">\n",
              "<title>29</title>\n",
              "<polygon fill=\"#f8dfcd\" stroke=\"black\" points=\"2554,-55.25 2381.25,-55.25 2381.25,0 2554,0 2554,-55.25\"/>\n",
              "<text text-anchor=\"middle\" x=\"2467.62\" y=\"-37.95\" font-family=\"Helvetica,sans-Serif\" font-size=\"14.00\">squared_error = 4241.725</text>\n",
              "<text text-anchor=\"middle\" x=\"2467.62\" y=\"-22.2\" font-family=\"Helvetica,sans-Serif\" font-size=\"14.00\">samples = 4</text>\n",
              "<text text-anchor=\"middle\" x=\"2467.62\" y=\"-6.45\" font-family=\"Helvetica,sans-Serif\" font-size=\"14.00\">value = 400.497</text>\n",
              "</g>\n",
              "<!-- 27&#45;&gt;29 -->\n",
              "<g id=\"edge29\" class=\"edge\">\n",
              "<title>27&#45;&gt;29</title>\n",
              "<path fill=\"none\" stroke=\"black\" d=\"M2403.27,-90.95C2412.54,-81.97 2422.4,-72.43 2431.54,-63.57\"/>\n",
              "<polygon fill=\"black\" stroke=\"black\" points=\"2433.86,-66.19 2438.61,-56.72 2428.99,-61.17 2433.86,-66.19\"/>\n",
              "</g>\n",
              "<!-- 31 -->\n",
              "<g id=\"node32\" class=\"node\">\n",
              "<title>31</title>\n",
              "<polygon fill=\"#f9e3d3\" stroke=\"black\" points=\"2737.25,-55.25 2572,-55.25 2572,0 2737.25,0 2737.25,-55.25\"/>\n",
              "<text text-anchor=\"middle\" x=\"2654.62\" y=\"-37.95\" font-family=\"Helvetica,sans-Serif\" font-size=\"14.00\">squared_error = 500.015</text>\n",
              "<text text-anchor=\"middle\" x=\"2654.62\" y=\"-22.2\" font-family=\"Helvetica,sans-Serif\" font-size=\"14.00\">samples = 3</text>\n",
              "<text text-anchor=\"middle\" x=\"2654.62\" y=\"-6.45\" font-family=\"Helvetica,sans-Serif\" font-size=\"14.00\">value = 352.197</text>\n",
              "</g>\n",
              "<!-- 30&#45;&gt;31 -->\n",
              "<g id=\"edge31\" class=\"edge\">\n",
              "<title>30&#45;&gt;31</title>\n",
              "<path fill=\"none\" stroke=\"black\" d=\"M2654.62,-90.95C2654.62,-83.17 2654.62,-74.95 2654.62,-67.13\"/>\n",
              "<polygon fill=\"black\" stroke=\"black\" points=\"2658.13,-67.18 2654.63,-57.18 2651.13,-67.18 2658.13,-67.18\"/>\n",
              "</g>\n",
              "<!-- 32 -->\n",
              "<g id=\"node33\" class=\"node\">\n",
              "<title>32</title>\n",
              "<polygon fill=\"#f7dac6\" stroke=\"black\" points=\"2920.25,-55.25 2755,-55.25 2755,0 2920.25,0 2920.25,-55.25\"/>\n",
              "<text text-anchor=\"middle\" x=\"2837.62\" y=\"-37.95\" font-family=\"Helvetica,sans-Serif\" font-size=\"14.00\">squared_error = 754.946</text>\n",
              "<text text-anchor=\"middle\" x=\"2837.62\" y=\"-22.2\" font-family=\"Helvetica,sans-Serif\" font-size=\"14.00\">samples = 6</text>\n",
              "<text text-anchor=\"middle\" x=\"2837.62\" y=\"-6.45\" font-family=\"Helvetica,sans-Serif\" font-size=\"14.00\">value = 455.647</text>\n",
              "</g>\n",
              "<!-- 30&#45;&gt;32 -->\n",
              "<g id=\"edge32\" class=\"edge\">\n",
              "<title>30&#45;&gt;32</title>\n",
              "<path fill=\"none\" stroke=\"black\" d=\"M2723.55,-90.81C2741.42,-81.06 2760.52,-70.66 2777.87,-61.2\"/>\n",
              "<polygon fill=\"black\" stroke=\"black\" points=\"2779.43,-64.33 2786.54,-56.47 2776.08,-58.18 2779.43,-64.33\"/>\n",
              "</g>\n",
              "<!-- 34 -->\n",
              "<g id=\"node35\" class=\"node\">\n",
              "<title>34</title>\n",
              "<polygon fill=\"#fef9f6\" stroke=\"black\" points=\"4085,-392 3912.25,-392 3912.25,-315.75 4085,-315.75 4085,-392\"/>\n",
              "<text text-anchor=\"middle\" x=\"3998.62\" y=\"-374.7\" font-family=\"Helvetica,sans-Serif\" font-size=\"14.00\">총매출액 &lt;= 5968500.0</text>\n",
              "<text text-anchor=\"middle\" x=\"3998.62\" y=\"-353.7\" font-family=\"Helvetica,sans-Serif\" font-size=\"14.00\">squared_error = 1882.797</text>\n",
              "<text text-anchor=\"middle\" x=\"3998.62\" y=\"-337.95\" font-family=\"Helvetica,sans-Serif\" font-size=\"14.00\">samples = 70</text>\n",
              "<text text-anchor=\"middle\" x=\"3998.62\" y=\"-322.2\" font-family=\"Helvetica,sans-Serif\" font-size=\"14.00\">value = 83.115</text>\n",
              "</g>\n",
              "<!-- 33&#45;&gt;34 -->\n",
              "<g id=\"edge34\" class=\"edge\">\n",
              "<title>33&#45;&gt;34</title>\n",
              "<path fill=\"none\" stroke=\"black\" d=\"M4184.83,-428.72C4156.23,-417.38 4124.62,-404.84 4095.67,-393.36\"/>\n",
              "<polygon fill=\"black\" stroke=\"black\" points=\"4097.14,-390.18 4086.55,-389.74 4094.56,-396.68 4097.14,-390.18\"/>\n",
              "</g>\n",
              "<!-- 49 -->\n",
              "<g id=\"node50\" class=\"node\">\n",
              "<title>49</title>\n",
              "<polygon fill=\"#fdf4ee\" stroke=\"black\" points=\"4828,-392 4655.25,-392 4655.25,-315.75 4828,-315.75 4828,-392\"/>\n",
              "<text text-anchor=\"middle\" x=\"4741.62\" y=\"-374.7\" font-family=\"Helvetica,sans-Serif\" font-size=\"14.00\">총매출액 &lt;= 8802705.0</text>\n",
              "<text text-anchor=\"middle\" x=\"4741.62\" y=\"-353.7\" font-family=\"Helvetica,sans-Serif\" font-size=\"14.00\">squared_error = 4164.361</text>\n",
              "<text text-anchor=\"middle\" x=\"4741.62\" y=\"-337.95\" font-family=\"Helvetica,sans-Serif\" font-size=\"14.00\">samples = 136</text>\n",
              "<text text-anchor=\"middle\" x=\"4741.62\" y=\"-322.2\" font-family=\"Helvetica,sans-Serif\" font-size=\"14.00\">value = 149.023</text>\n",
              "</g>\n",
              "<!-- 33&#45;&gt;49 -->\n",
              "<g id=\"edge49\" class=\"edge\">\n",
              "<title>33&#45;&gt;49</title>\n",
              "<path fill=\"none\" stroke=\"black\" d=\"M4368.49,-443.34C4448.16,-424.45 4563.11,-397.2 4644.32,-377.94\"/>\n",
              "<polygon fill=\"black\" stroke=\"black\" points=\"4644.66,-381.46 4653.58,-375.75 4643.04,-374.65 4644.66,-381.46\"/>\n",
              "</g>\n",
              "<!-- 35 -->\n",
              "<g id=\"node36\" class=\"node\">\n",
              "<title>35</title>\n",
              "<polygon fill=\"#fef8f4\" stroke=\"black\" points=\"3568.25,-279.75 3385,-279.75 3385,-203.5 3568.25,-203.5 3568.25,-279.75\"/>\n",
              "<text text-anchor=\"middle\" x=\"3476.62\" y=\"-262.45\" font-family=\"Helvetica,sans-Serif\" font-size=\"14.00\">1회 평균매출액 &lt;= 103938.5</text>\n",
              "<text text-anchor=\"middle\" x=\"3476.62\" y=\"-241.45\" font-family=\"Helvetica,sans-Serif\" font-size=\"14.00\">squared_error = 1639.07</text>\n",
              "<text text-anchor=\"middle\" x=\"3476.62\" y=\"-225.7\" font-family=\"Helvetica,sans-Serif\" font-size=\"14.00\">samples = 43</text>\n",
              "<text text-anchor=\"middle\" x=\"3476.62\" y=\"-209.95\" font-family=\"Helvetica,sans-Serif\" font-size=\"14.00\">value = 102.661</text>\n",
              "</g>\n",
              "<!-- 34&#45;&gt;35 -->\n",
              "<g id=\"edge35\" class=\"edge\">\n",
              "<title>34&#45;&gt;35</title>\n",
              "<path fill=\"none\" stroke=\"black\" d=\"M3911.84,-334.55C3820.42,-315.24 3676.52,-284.84 3579.46,-264.34\"/>\n",
              "<polygon fill=\"black\" stroke=\"black\" points=\"3580.44,-260.97 3569.93,-262.33 3578.99,-267.82 3580.44,-260.97\"/>\n",
              "</g>\n",
              "<!-- 42 -->\n",
              "<g id=\"node43\" class=\"node\">\n",
              "<title>42</title>\n",
              "<polygon fill=\"#fefcfa\" stroke=\"black\" points=\"4090.25,-279.75 3907,-279.75 3907,-203.5 4090.25,-203.5 4090.25,-279.75\"/>\n",
              "<text text-anchor=\"middle\" x=\"3998.62\" y=\"-262.45\" font-family=\"Helvetica,sans-Serif\" font-size=\"14.00\">1회 평균매출액 &lt;= 108965.5</text>\n",
              "<text text-anchor=\"middle\" x=\"3998.62\" y=\"-241.45\" font-family=\"Helvetica,sans-Serif\" font-size=\"14.00\">squared_error = 693.439</text>\n",
              "<text text-anchor=\"middle\" x=\"3998.62\" y=\"-225.7\" font-family=\"Helvetica,sans-Serif\" font-size=\"14.00\">samples = 27</text>\n",
              "<text text-anchor=\"middle\" x=\"3998.62\" y=\"-209.95\" font-family=\"Helvetica,sans-Serif\" font-size=\"14.00\">value = 51.985</text>\n",
              "</g>\n",
              "<!-- 34&#45;&gt;42 -->\n",
              "<g id=\"edge42\" class=\"edge\">\n",
              "<title>34&#45;&gt;42</title>\n",
              "<path fill=\"none\" stroke=\"black\" d=\"M3998.62,-315.55C3998.62,-307.74 3998.62,-299.39 3998.62,-291.24\"/>\n",
              "<polygon fill=\"black\" stroke=\"black\" points=\"4002.13,-291.43 3998.63,-281.43 3995.13,-291.43 4002.13,-291.43\"/>\n",
              "</g>\n",
              "<!-- 36 -->\n",
              "<g id=\"node37\" class=\"node\">\n",
              "<title>36</title>\n",
              "<polygon fill=\"#fefbf8\" stroke=\"black\" points=\"3286.25,-167.5 3121,-167.5 3121,-91.25 3286.25,-91.25 3286.25,-167.5\"/>\n",
              "<text text-anchor=\"middle\" x=\"3203.62\" y=\"-150.2\" font-family=\"Helvetica,sans-Serif\" font-size=\"14.00\">할인민감여부 &lt;= 0.5</text>\n",
              "<text text-anchor=\"middle\" x=\"3203.62\" y=\"-129.2\" font-family=\"Helvetica,sans-Serif\" font-size=\"14.00\">squared_error = 546.867</text>\n",
              "<text text-anchor=\"middle\" x=\"3203.62\" y=\"-113.45\" font-family=\"Helvetica,sans-Serif\" font-size=\"14.00\">samples = 13</text>\n",
              "<text text-anchor=\"middle\" x=\"3203.62\" y=\"-97.7\" font-family=\"Helvetica,sans-Serif\" font-size=\"14.00\">value = 67.78</text>\n",
              "</g>\n",
              "<!-- 35&#45;&gt;36 -->\n",
              "<g id=\"edge36\" class=\"edge\">\n",
              "<title>35&#45;&gt;36</title>\n",
              "<path fill=\"none\" stroke=\"black\" d=\"M3384.58,-203.45C3356.32,-192.04 3325.2,-179.47 3296.86,-168.03\"/>\n",
              "<polygon fill=\"black\" stroke=\"black\" points=\"3298.54,-164.93 3287.96,-164.43 3295.92,-171.42 3298.54,-164.93\"/>\n",
              "</g>\n",
              "<!-- 39 -->\n",
              "<g id=\"node40\" class=\"node\">\n",
              "<title>39</title>\n",
              "<polygon fill=\"#fdf7f2\" stroke=\"black\" points=\"3563,-167.5 3390.25,-167.5 3390.25,-91.25 3563,-91.25 3563,-167.5\"/>\n",
              "<text text-anchor=\"middle\" x=\"3476.62\" y=\"-150.2\" font-family=\"Helvetica,sans-Serif\" font-size=\"14.00\">고객등급 &lt;= 1.5</text>\n",
              "<text text-anchor=\"middle\" x=\"3476.62\" y=\"-129.2\" font-family=\"Helvetica,sans-Serif\" font-size=\"14.00\">squared_error = 1356.649</text>\n",
              "<text text-anchor=\"middle\" x=\"3476.62\" y=\"-113.45\" font-family=\"Helvetica,sans-Serif\" font-size=\"14.00\">samples = 30</text>\n",
              "<text text-anchor=\"middle\" x=\"3476.62\" y=\"-97.7\" font-family=\"Helvetica,sans-Serif\" font-size=\"14.00\">value = 117.776</text>\n",
              "</g>\n",
              "<!-- 35&#45;&gt;39 -->\n",
              "<g id=\"edge39\" class=\"edge\">\n",
              "<title>35&#45;&gt;39</title>\n",
              "<path fill=\"none\" stroke=\"black\" d=\"M3476.62,-203.3C3476.62,-195.49 3476.62,-187.14 3476.62,-178.99\"/>\n",
              "<polygon fill=\"black\" stroke=\"black\" points=\"3480.13,-179.18 3476.63,-169.18 3473.13,-179.18 3480.13,-179.18\"/>\n",
              "</g>\n",
              "<!-- 37 -->\n",
              "<g id=\"node38\" class=\"node\">\n",
              "<title>37</title>\n",
              "<polygon fill=\"#fffdfc\" stroke=\"black\" points=\"3103.25,-55.25 2938,-55.25 2938,0 3103.25,0 3103.25,-55.25\"/>\n",
              "<text text-anchor=\"middle\" x=\"3020.62\" y=\"-37.95\" font-family=\"Helvetica,sans-Serif\" font-size=\"14.00\">squared_error = 132.817</text>\n",
              "<text text-anchor=\"middle\" x=\"3020.62\" y=\"-22.2\" font-family=\"Helvetica,sans-Serif\" font-size=\"14.00\">samples = 4</text>\n",
              "<text text-anchor=\"middle\" x=\"3020.62\" y=\"-6.45\" font-family=\"Helvetica,sans-Serif\" font-size=\"14.00\">value = 36.461</text>\n",
              "</g>\n",
              "<!-- 36&#45;&gt;37 -->\n",
              "<g id=\"edge37\" class=\"edge\">\n",
              "<title>36&#45;&gt;37</title>\n",
              "<path fill=\"none\" stroke=\"black\" d=\"M3134.7,-90.81C3116.83,-81.06 3097.73,-70.66 3080.38,-61.2\"/>\n",
              "<polygon fill=\"black\" stroke=\"black\" points=\"3082.17,-58.18 3071.71,-56.47 3078.82,-64.33 3082.17,-58.18\"/>\n",
              "</g>\n",
              "<!-- 38 -->\n",
              "<g id=\"node39\" class=\"node\">\n",
              "<title>38</title>\n",
              "<polygon fill=\"#fefaf7\" stroke=\"black\" points=\"3286.25,-55.25 3121,-55.25 3121,0 3286.25,0 3286.25,-55.25\"/>\n",
              "<text text-anchor=\"middle\" x=\"3203.62\" y=\"-37.95\" font-family=\"Helvetica,sans-Serif\" font-size=\"14.00\">squared_error = 101.172</text>\n",
              "<text text-anchor=\"middle\" x=\"3203.62\" y=\"-22.2\" font-family=\"Helvetica,sans-Serif\" font-size=\"14.00\">samples = 9</text>\n",
              "<text text-anchor=\"middle\" x=\"3203.62\" y=\"-6.45\" font-family=\"Helvetica,sans-Serif\" font-size=\"14.00\">value = 81.7</text>\n",
              "</g>\n",
              "<!-- 36&#45;&gt;38 -->\n",
              "<g id=\"edge38\" class=\"edge\">\n",
              "<title>36&#45;&gt;38</title>\n",
              "<path fill=\"none\" stroke=\"black\" d=\"M3203.62,-90.95C3203.62,-83.17 3203.62,-74.95 3203.62,-67.13\"/>\n",
              "<polygon fill=\"black\" stroke=\"black\" points=\"3207.13,-67.18 3203.63,-57.18 3200.13,-67.18 3207.13,-67.18\"/>\n",
              "</g>\n",
              "<!-- 40 -->\n",
              "<g id=\"node41\" class=\"node\">\n",
              "<title>40</title>\n",
              "<polygon fill=\"#fdf4ee\" stroke=\"black\" points=\"3462.5,-55.25 3304.75,-55.25 3304.75,0 3462.5,0 3462.5,-55.25\"/>\n",
              "<text text-anchor=\"middle\" x=\"3383.62\" y=\"-37.95\" font-family=\"Helvetica,sans-Serif\" font-size=\"14.00\">squared_error = 578.87</text>\n",
              "<text text-anchor=\"middle\" x=\"3383.62\" y=\"-22.2\" font-family=\"Helvetica,sans-Serif\" font-size=\"14.00\">samples = 10</text>\n",
              "<text text-anchor=\"middle\" x=\"3383.62\" y=\"-6.45\" font-family=\"Helvetica,sans-Serif\" font-size=\"14.00\">value = 149.428</text>\n",
              "</g>\n",
              "<!-- 39&#45;&gt;40 -->\n",
              "<g id=\"edge40\" class=\"edge\">\n",
              "<title>39&#45;&gt;40</title>\n",
              "<path fill=\"none\" stroke=\"black\" d=\"M3441.73,-90.95C3433.45,-82.07 3424.65,-72.62 3416.46,-63.84\"/>\n",
              "<polygon fill=\"black\" stroke=\"black\" points=\"3419.25,-61.7 3409.87,-56.78 3414.13,-66.48 3419.25,-61.7\"/>\n",
              "</g>\n",
              "<!-- 41 -->\n",
              "<g id=\"node42\" class=\"node\">\n",
              "<title>41</title>\n",
              "<polygon fill=\"#fef8f4\" stroke=\"black\" points=\"3646.25,-55.25 3481,-55.25 3481,0 3646.25,0 3646.25,-55.25\"/>\n",
              "<text text-anchor=\"middle\" x=\"3563.62\" y=\"-37.95\" font-family=\"Helvetica,sans-Serif\" font-size=\"14.00\">squared_error = 994.186</text>\n",
              "<text text-anchor=\"middle\" x=\"3563.62\" y=\"-22.2\" font-family=\"Helvetica,sans-Serif\" font-size=\"14.00\">samples = 20</text>\n",
              "<text text-anchor=\"middle\" x=\"3563.62\" y=\"-6.45\" font-family=\"Helvetica,sans-Serif\" font-size=\"14.00\">value = 101.951</text>\n",
              "</g>\n",
              "<!-- 39&#45;&gt;41 -->\n",
              "<g id=\"edge41\" class=\"edge\">\n",
              "<title>39&#45;&gt;41</title>\n",
              "<path fill=\"none\" stroke=\"black\" d=\"M3509.27,-90.95C3516.93,-82.16 3525.08,-72.82 3532.67,-64.12\"/>\n",
              "<polygon fill=\"black\" stroke=\"black\" points=\"3535.11,-66.65 3539.04,-56.81 3529.83,-62.05 3535.11,-66.65\"/>\n",
              "</g>\n",
              "<!-- 43 -->\n",
              "<g id=\"node44\" class=\"node\">\n",
              "<title>43</title>\n",
              "<polygon fill=\"#fffefe\" stroke=\"black\" points=\"3990.25,-167.5 3825,-167.5 3825,-91.25 3990.25,-91.25 3990.25,-167.5\"/>\n",
              "<text text-anchor=\"middle\" x=\"3907.62\" y=\"-150.2\" font-family=\"Helvetica,sans-Serif\" font-size=\"14.00\">총매출액 &lt;= 6948065.0</text>\n",
              "<text text-anchor=\"middle\" x=\"3907.62\" y=\"-129.2\" font-family=\"Helvetica,sans-Serif\" font-size=\"14.00\">squared_error = 144.785</text>\n",
              "<text text-anchor=\"middle\" x=\"3907.62\" y=\"-113.45\" font-family=\"Helvetica,sans-Serif\" font-size=\"14.00\">samples = 9</text>\n",
              "<text text-anchor=\"middle\" x=\"3907.62\" y=\"-97.7\" font-family=\"Helvetica,sans-Serif\" font-size=\"14.00\">value = 27.183</text>\n",
              "</g>\n",
              "<!-- 42&#45;&gt;43 -->\n",
              "<g id=\"edge43\" class=\"edge\">\n",
              "<title>42&#45;&gt;43</title>\n",
              "<path fill=\"none\" stroke=\"black\" d=\"M3967.82,-203.3C3960.7,-194.68 3953.05,-185.41 3945.67,-176.46\"/>\n",
              "<polygon fill=\"black\" stroke=\"black\" points=\"3948.43,-174.31 3939.37,-168.83 3943.03,-178.77 3948.43,-174.31\"/>\n",
              "</g>\n",
              "<!-- 46 -->\n",
              "<g id=\"node47\" class=\"node\">\n",
              "<title>46</title>\n",
              "<polygon fill=\"#fefbf9\" stroke=\"black\" points=\"4172.88,-167.5 4008.38,-167.5 4008.38,-91.25 4172.88,-91.25 4172.88,-167.5\"/>\n",
              "<text text-anchor=\"middle\" x=\"4090.62\" y=\"-150.2\" font-family=\"Helvetica,sans-Serif\" font-size=\"14.00\">총매출액 &lt;= 9635615.0</text>\n",
              "<text text-anchor=\"middle\" x=\"4090.62\" y=\"-129.2\" font-family=\"Helvetica,sans-Serif\" font-size=\"14.00\">squared_error = 506.411</text>\n",
              "<text text-anchor=\"middle\" x=\"4090.62\" y=\"-113.45\" font-family=\"Helvetica,sans-Serif\" font-size=\"14.00\">samples = 18</text>\n",
              "<text text-anchor=\"middle\" x=\"4090.62\" y=\"-97.7\" font-family=\"Helvetica,sans-Serif\" font-size=\"14.00\">value = 64.386</text>\n",
              "</g>\n",
              "<!-- 42&#45;&gt;46 -->\n",
              "<g id=\"edge46\" class=\"edge\">\n",
              "<title>42&#45;&gt;46</title>\n",
              "<path fill=\"none\" stroke=\"black\" d=\"M4029.77,-203.3C4036.97,-194.68 4044.7,-185.41 4052.17,-176.46\"/>\n",
              "<polygon fill=\"black\" stroke=\"black\" points=\"4054.82,-178.74 4058.54,-168.82 4049.45,-174.26 4054.82,-178.74\"/>\n",
              "</g>\n",
              "<!-- 44 -->\n",
              "<g id=\"node45\" class=\"node\">\n",
              "<title>44</title>\n",
              "<polygon fill=\"#ffffff\" stroke=\"black\" points=\"3806.62,-55.25 3664.62,-55.25 3664.62,0 3806.62,0 3806.62,-55.25\"/>\n",
              "<text text-anchor=\"middle\" x=\"3735.62\" y=\"-37.95\" font-family=\"Helvetica,sans-Serif\" font-size=\"14.00\">squared_error = 4.11</text>\n",
              "<text text-anchor=\"middle\" x=\"3735.62\" y=\"-22.2\" font-family=\"Helvetica,sans-Serif\" font-size=\"14.00\">samples = 4</text>\n",
              "<text text-anchor=\"middle\" x=\"3735.62\" y=\"-6.45\" font-family=\"Helvetica,sans-Serif\" font-size=\"14.00\">value = 17.044</text>\n",
              "</g>\n",
              "<!-- 43&#45;&gt;44 -->\n",
              "<g id=\"edge44\" class=\"edge\">\n",
              "<title>43&#45;&gt;44</title>\n",
              "<path fill=\"none\" stroke=\"black\" d=\"M3843.09,-90.95C3826.35,-81.24 3808.46,-70.87 3792.17,-61.42\"/>\n",
              "<polygon fill=\"black\" stroke=\"black\" points=\"3793.97,-58.42 3783.57,-56.43 3790.46,-64.47 3793.97,-58.42\"/>\n",
              "</g>\n",
              "<!-- 45 -->\n",
              "<g id=\"node46\" class=\"node\">\n",
              "<title>45</title>\n",
              "<polygon fill=\"#fffdfd\" stroke=\"black\" points=\"3990.25,-55.25 3825,-55.25 3825,0 3990.25,0 3990.25,-55.25\"/>\n",
              "<text text-anchor=\"middle\" x=\"3907.62\" y=\"-37.95\" font-family=\"Helvetica,sans-Serif\" font-size=\"14.00\">squared_error = 109.287</text>\n",
              "<text text-anchor=\"middle\" x=\"3907.62\" y=\"-22.2\" font-family=\"Helvetica,sans-Serif\" font-size=\"14.00\">samples = 5</text>\n",
              "<text text-anchor=\"middle\" x=\"3907.62\" y=\"-6.45\" font-family=\"Helvetica,sans-Serif\" font-size=\"14.00\">value = 35.295</text>\n",
              "</g>\n",
              "<!-- 43&#45;&gt;45 -->\n",
              "<g id=\"edge45\" class=\"edge\">\n",
              "<title>43&#45;&gt;45</title>\n",
              "<path fill=\"none\" stroke=\"black\" d=\"M3907.62,-90.95C3907.62,-83.17 3907.62,-74.95 3907.62,-67.13\"/>\n",
              "<polygon fill=\"black\" stroke=\"black\" points=\"3911.13,-67.18 3907.63,-57.18 3904.13,-67.18 3911.13,-67.18\"/>\n",
              "</g>\n",
              "<!-- 47 -->\n",
              "<g id=\"node48\" class=\"node\">\n",
              "<title>47</title>\n",
              "<polygon fill=\"#fefaf7\" stroke=\"black\" points=\"4173.25,-55.25 4008,-55.25 4008,0 4173.25,0 4173.25,-55.25\"/>\n",
              "<text text-anchor=\"middle\" x=\"4090.62\" y=\"-37.95\" font-family=\"Helvetica,sans-Serif\" font-size=\"14.00\">squared_error = 206.422</text>\n",
              "<text text-anchor=\"middle\" x=\"4090.62\" y=\"-22.2\" font-family=\"Helvetica,sans-Serif\" font-size=\"14.00\">samples = 13</text>\n",
              "<text text-anchor=\"middle\" x=\"4090.62\" y=\"-6.45\" font-family=\"Helvetica,sans-Serif\" font-size=\"14.00\">value = 74.969</text>\n",
              "</g>\n",
              "<!-- 46&#45;&gt;47 -->\n",
              "<g id=\"edge47\" class=\"edge\">\n",
              "<title>46&#45;&gt;47</title>\n",
              "<path fill=\"none\" stroke=\"black\" d=\"M4090.62,-90.95C4090.62,-83.17 4090.62,-74.95 4090.62,-67.13\"/>\n",
              "<polygon fill=\"black\" stroke=\"black\" points=\"4094.13,-67.18 4090.63,-57.18 4087.13,-67.18 4094.13,-67.18\"/>\n",
              "</g>\n",
              "<!-- 48 -->\n",
              "<g id=\"node49\" class=\"node\">\n",
              "<title>48</title>\n",
              "<polygon fill=\"#fffdfc\" stroke=\"black\" points=\"4356.25,-55.25 4191,-55.25 4191,0 4356.25,0 4356.25,-55.25\"/>\n",
              "<text text-anchor=\"middle\" x=\"4273.62\" y=\"-37.95\" font-family=\"Helvetica,sans-Serif\" font-size=\"14.00\">squared_error = 238.219</text>\n",
              "<text text-anchor=\"middle\" x=\"4273.62\" y=\"-22.2\" font-family=\"Helvetica,sans-Serif\" font-size=\"14.00\">samples = 5</text>\n",
              "<text text-anchor=\"middle\" x=\"4273.62\" y=\"-6.45\" font-family=\"Helvetica,sans-Serif\" font-size=\"14.00\">value = 36.873</text>\n",
              "</g>\n",
              "<!-- 46&#45;&gt;48 -->\n",
              "<g id=\"edge48\" class=\"edge\">\n",
              "<title>46&#45;&gt;48</title>\n",
              "<path fill=\"none\" stroke=\"black\" d=\"M4159.55,-90.81C4177.42,-81.06 4196.52,-70.66 4213.87,-61.2\"/>\n",
              "<polygon fill=\"black\" stroke=\"black\" points=\"4215.43,-64.33 4222.54,-56.47 4212.08,-58.18 4215.43,-64.33\"/>\n",
              "</g>\n",
              "<!-- 50 -->\n",
              "<g id=\"node51\" class=\"node\">\n",
              "<title>50</title>\n",
              "<polygon fill=\"#fcf2ea\" stroke=\"black\" points=\"4833.25,-279.75 4650,-279.75 4650,-203.5 4833.25,-203.5 4833.25,-279.75\"/>\n",
              "<text text-anchor=\"middle\" x=\"4741.62\" y=\"-262.45\" font-family=\"Helvetica,sans-Serif\" font-size=\"14.00\">1회 평균매출액 &lt;= 270919.0</text>\n",
              "<text text-anchor=\"middle\" x=\"4741.62\" y=\"-241.45\" font-family=\"Helvetica,sans-Serif\" font-size=\"14.00\">squared_error = 3300.25</text>\n",
              "<text text-anchor=\"middle\" x=\"4741.62\" y=\"-225.7\" font-family=\"Helvetica,sans-Serif\" font-size=\"14.00\">samples = 93</text>\n",
              "<text text-anchor=\"middle\" x=\"4741.62\" y=\"-209.95\" font-family=\"Helvetica,sans-Serif\" font-size=\"14.00\">value = 176.862</text>\n",
              "</g>\n",
              "<!-- 49&#45;&gt;50 -->\n",
              "<g id=\"edge50\" class=\"edge\">\n",
              "<title>49&#45;&gt;50</title>\n",
              "<path fill=\"none\" stroke=\"black\" d=\"M4741.62,-315.55C4741.62,-307.74 4741.62,-299.39 4741.62,-291.24\"/>\n",
              "<polygon fill=\"black\" stroke=\"black\" points=\"4745.13,-291.43 4741.63,-281.43 4738.13,-291.43 4745.13,-291.43\"/>\n",
              "</g>\n",
              "<!-- 57 -->\n",
              "<g id=\"node58\" class=\"node\">\n",
              "<title>57</title>\n",
              "<polygon fill=\"#fef9f6\" stroke=\"black\" points=\"5373.25,-279.75 5208,-279.75 5208,-203.5 5373.25,-203.5 5373.25,-279.75\"/>\n",
              "<text text-anchor=\"middle\" x=\"5290.62\" y=\"-262.45\" font-family=\"Helvetica,sans-Serif\" font-size=\"14.00\">총매출액 &lt;= 18506685.0</text>\n",
              "<text text-anchor=\"middle\" x=\"5290.62\" y=\"-241.45\" font-family=\"Helvetica,sans-Serif\" font-size=\"14.00\">squared_error = 731.735</text>\n",
              "<text text-anchor=\"middle\" x=\"5290.62\" y=\"-225.7\" font-family=\"Helvetica,sans-Serif\" font-size=\"14.00\">samples = 43</text>\n",
              "<text text-anchor=\"middle\" x=\"5290.62\" y=\"-209.95\" font-family=\"Helvetica,sans-Serif\" font-size=\"14.00\">value = 88.812</text>\n",
              "</g>\n",
              "<!-- 49&#45;&gt;57 -->\n",
              "<g id=\"edge57\" class=\"edge\">\n",
              "<title>49&#45;&gt;57</title>\n",
              "<path fill=\"none\" stroke=\"black\" d=\"M4828.31,-335.47C4928.6,-315.33 5093.14,-282.28 5196.49,-261.53\"/>\n",
              "<polygon fill=\"black\" stroke=\"black\" points=\"5196.94,-265.01 5206.05,-259.61 5195.56,-258.15 5196.94,-265.01\"/>\n",
              "</g>\n",
              "<!-- 51 -->\n",
              "<g id=\"node52\" class=\"node\">\n",
              "<title>51</title>\n",
              "<polygon fill=\"#fdf4ed\" stroke=\"black\" points=\"4732,-167.5 4559.25,-167.5 4559.25,-91.25 4732,-91.25 4732,-167.5\"/>\n",
              "<text text-anchor=\"middle\" x=\"4645.62\" y=\"-150.2\" font-family=\"Helvetica,sans-Serif\" font-size=\"14.00\">총매출액 &lt;= 6215220.0</text>\n",
              "<text text-anchor=\"middle\" x=\"4645.62\" y=\"-129.2\" font-family=\"Helvetica,sans-Serif\" font-size=\"14.00\">squared_error = 1651.298</text>\n",
              "<text text-anchor=\"middle\" x=\"4645.62\" y=\"-113.45\" font-family=\"Helvetica,sans-Serif\" font-size=\"14.00\">samples = 52</text>\n",
              "<text text-anchor=\"middle\" x=\"4645.62\" y=\"-97.7\" font-family=\"Helvetica,sans-Serif\" font-size=\"14.00\">value = 150.802</text>\n",
              "</g>\n",
              "<!-- 50&#45;&gt;51 -->\n",
              "<g id=\"edge51\" class=\"edge\">\n",
              "<title>50&#45;&gt;51</title>\n",
              "<path fill=\"none\" stroke=\"black\" d=\"M4709.12,-203.3C4701.54,-194.59 4693.38,-185.21 4685.51,-176.18\"/>\n",
              "<polygon fill=\"black\" stroke=\"black\" points=\"4688.29,-174.05 4679.09,-168.8 4683.01,-178.64 4688.29,-174.05\"/>\n",
              "</g>\n",
              "<!-- 54 -->\n",
              "<g id=\"node55\" class=\"node\">\n",
              "<title>54</title>\n",
              "<polygon fill=\"#fcefe6\" stroke=\"black\" points=\"4923,-167.5 4750.25,-167.5 4750.25,-91.25 4923,-91.25 4923,-167.5\"/>\n",
              "<text text-anchor=\"middle\" x=\"4836.62\" y=\"-150.2\" font-family=\"Helvetica,sans-Serif\" font-size=\"14.00\">할인민감여부 &lt;= 0.5</text>\n",
              "<text text-anchor=\"middle\" x=\"4836.62\" y=\"-129.2\" font-family=\"Helvetica,sans-Serif\" font-size=\"14.00\">squared_error = 3437.865</text>\n",
              "<text text-anchor=\"middle\" x=\"4836.62\" y=\"-113.45\" font-family=\"Helvetica,sans-Serif\" font-size=\"14.00\">samples = 41</text>\n",
              "<text text-anchor=\"middle\" x=\"4836.62\" y=\"-97.7\" font-family=\"Helvetica,sans-Serif\" font-size=\"14.00\">value = 209.913</text>\n",
              "</g>\n",
              "<!-- 50&#45;&gt;54 -->\n",
              "<g id=\"edge54\" class=\"edge\">\n",
              "<title>50&#45;&gt;54</title>\n",
              "<path fill=\"none\" stroke=\"black\" d=\"M4773.79,-203.3C4781.29,-194.59 4789.37,-185.21 4797.15,-176.18\"/>\n",
              "<polygon fill=\"black\" stroke=\"black\" points=\"4799.63,-178.67 4803.51,-168.81 4794.33,-174.1 4799.63,-178.67\"/>\n",
              "</g>\n",
              "<!-- 52 -->\n",
              "<g id=\"node53\" class=\"node\">\n",
              "<title>52</title>\n",
              "<polygon fill=\"#fdf3ec\" stroke=\"black\" points=\"4547,-55.25 4374.25,-55.25 4374.25,0 4547,0 4547,-55.25\"/>\n",
              "<text text-anchor=\"middle\" x=\"4460.62\" y=\"-37.95\" font-family=\"Helvetica,sans-Serif\" font-size=\"14.00\">squared_error = 1734.868</text>\n",
              "<text text-anchor=\"middle\" x=\"4460.62\" y=\"-22.2\" font-family=\"Helvetica,sans-Serif\" font-size=\"14.00\">samples = 39</text>\n",
              "<text text-anchor=\"middle\" x=\"4460.62\" y=\"-6.45\" font-family=\"Helvetica,sans-Serif\" font-size=\"14.00\">value = 159.473</text>\n",
              "</g>\n",
              "<!-- 51&#45;&gt;52 -->\n",
              "<g id=\"edge52\" class=\"edge\">\n",
              "<title>51&#45;&gt;52</title>\n",
              "<path fill=\"none\" stroke=\"black\" d=\"M4575.95,-90.81C4557.88,-81.06 4538.58,-70.66 4521.03,-61.2\"/>\n",
              "<polygon fill=\"black\" stroke=\"black\" points=\"4522.72,-58.13 4512.26,-56.46 4519.4,-64.29 4522.72,-58.13\"/>\n",
              "</g>\n",
              "<!-- 53 -->\n",
              "<g id=\"node54\" class=\"node\">\n",
              "<title>53</title>\n",
              "<polygon fill=\"#fdf6f1\" stroke=\"black\" points=\"4730.25,-55.25 4565,-55.25 4565,0 4730.25,0 4730.25,-55.25\"/>\n",
              "<text text-anchor=\"middle\" x=\"4647.62\" y=\"-37.95\" font-family=\"Helvetica,sans-Serif\" font-size=\"14.00\">squared_error = 498.405</text>\n",
              "<text text-anchor=\"middle\" x=\"4647.62\" y=\"-22.2\" font-family=\"Helvetica,sans-Serif\" font-size=\"14.00\">samples = 13</text>\n",
              "<text text-anchor=\"middle\" x=\"4647.62\" y=\"-6.45\" font-family=\"Helvetica,sans-Serif\" font-size=\"14.00\">value = 124.79</text>\n",
              "</g>\n",
              "<!-- 51&#45;&gt;53 -->\n",
              "<g id=\"edge53\" class=\"edge\">\n",
              "<title>51&#45;&gt;53</title>\n",
              "<path fill=\"none\" stroke=\"black\" d=\"M4646.38,-90.95C4646.53,-83.17 4646.7,-74.95 4646.85,-67.13\"/>\n",
              "<polygon fill=\"black\" stroke=\"black\" points=\"4650.35,-67.25 4647.05,-57.18 4643.35,-67.11 4650.35,-67.25\"/>\n",
              "</g>\n",
              "<!-- 55 -->\n",
              "<g id=\"node56\" class=\"node\">\n",
              "<title>55</title>\n",
              "<polygon fill=\"#fcf1e9\" stroke=\"black\" points=\"4921,-55.25 4748.25,-55.25 4748.25,0 4921,0 4921,-55.25\"/>\n",
              "<text text-anchor=\"middle\" x=\"4834.62\" y=\"-37.95\" font-family=\"Helvetica,sans-Serif\" font-size=\"14.00\">squared_error = 2516.121</text>\n",
              "<text text-anchor=\"middle\" x=\"4834.62\" y=\"-22.2\" font-family=\"Helvetica,sans-Serif\" font-size=\"14.00\">samples = 25</text>\n",
              "<text text-anchor=\"middle\" x=\"4834.62\" y=\"-6.45\" font-family=\"Helvetica,sans-Serif\" font-size=\"14.00\">value = 186.379</text>\n",
              "</g>\n",
              "<!-- 54&#45;&gt;55 -->\n",
              "<g id=\"edge55\" class=\"edge\">\n",
              "<title>54&#45;&gt;55</title>\n",
              "<path fill=\"none\" stroke=\"black\" d=\"M4835.87,-90.95C4835.72,-83.17 4835.55,-74.95 4835.4,-67.13\"/>\n",
              "<polygon fill=\"black\" stroke=\"black\" points=\"4838.9,-67.11 4835.2,-57.18 4831.9,-67.25 4838.9,-67.11\"/>\n",
              "</g>\n",
              "<!-- 56 -->\n",
              "<g id=\"node57\" class=\"node\">\n",
              "<title>56</title>\n",
              "<polygon fill=\"#fbece1\" stroke=\"black\" points=\"5112,-55.25 4939.25,-55.25 4939.25,0 5112,0 5112,-55.25\"/>\n",
              "<text text-anchor=\"middle\" x=\"5025.62\" y=\"-37.95\" font-family=\"Helvetica,sans-Serif\" font-size=\"14.00\">squared_error = 2660.487</text>\n",
              "<text text-anchor=\"middle\" x=\"5025.62\" y=\"-22.2\" font-family=\"Helvetica,sans-Serif\" font-size=\"14.00\">samples = 16</text>\n",
              "<text text-anchor=\"middle\" x=\"5025.62\" y=\"-6.45\" font-family=\"Helvetica,sans-Serif\" font-size=\"14.00\">value = 246.686</text>\n",
              "</g>\n",
              "<!-- 54&#45;&gt;56 -->\n",
              "<g id=\"edge56\" class=\"edge\">\n",
              "<title>54&#45;&gt;56</title>\n",
              "<path fill=\"none\" stroke=\"black\" d=\"M4907.81,-90.81C4926.35,-81.02 4946.17,-70.56 4964.16,-61.06\"/>\n",
              "<polygon fill=\"black\" stroke=\"black\" points=\"4965.69,-64.22 4972.9,-56.45 4962.42,-58.03 4965.69,-64.22\"/>\n",
              "</g>\n",
              "<!-- 58 -->\n",
              "<g id=\"node59\" class=\"node\">\n",
              "<title>58</title>\n",
              "<polygon fill=\"#fef9f5\" stroke=\"black\" points=\"5382.25,-167.5 5199,-167.5 5199,-91.25 5382.25,-91.25 5382.25,-167.5\"/>\n",
              "<text text-anchor=\"middle\" x=\"5290.62\" y=\"-150.2\" font-family=\"Helvetica,sans-Serif\" font-size=\"14.00\">1회 평균매출액 &lt;= 297266.5</text>\n",
              "<text text-anchor=\"middle\" x=\"5290.62\" y=\"-129.2\" font-family=\"Helvetica,sans-Serif\" font-size=\"14.00\">squared_error = 622.567</text>\n",
              "<text text-anchor=\"middle\" x=\"5290.62\" y=\"-113.45\" font-family=\"Helvetica,sans-Serif\" font-size=\"14.00\">samples = 36</text>\n",
              "<text text-anchor=\"middle\" x=\"5290.62\" y=\"-97.7\" font-family=\"Helvetica,sans-Serif\" font-size=\"14.00\">value = 94.926</text>\n",
              "</g>\n",
              "<!-- 57&#45;&gt;58 -->\n",
              "<g id=\"edge58\" class=\"edge\">\n",
              "<title>57&#45;&gt;58</title>\n",
              "<path fill=\"none\" stroke=\"black\" d=\"M5290.62,-203.3C5290.62,-195.49 5290.62,-187.14 5290.62,-178.99\"/>\n",
              "<polygon fill=\"black\" stroke=\"black\" points=\"5294.13,-179.18 5290.63,-169.18 5287.13,-179.18 5294.13,-179.18\"/>\n",
              "</g>\n",
              "<!-- 61 -->\n",
              "<g id=\"node62\" class=\"node\">\n",
              "<title>61</title>\n",
              "<polygon fill=\"#fefcfa\" stroke=\"black\" points=\"5646.88,-167.5 5482.38,-167.5 5482.38,-91.25 5646.88,-91.25 5646.88,-167.5\"/>\n",
              "<text text-anchor=\"middle\" x=\"5564.62\" y=\"-150.2\" font-family=\"Helvetica,sans-Serif\" font-size=\"14.00\">할인권 사용 횟수 &lt;= 19.5</text>\n",
              "<text text-anchor=\"middle\" x=\"5564.62\" y=\"-129.2\" font-family=\"Helvetica,sans-Serif\" font-size=\"14.00\">squared_error = 112.235</text>\n",
              "<text text-anchor=\"middle\" x=\"5564.62\" y=\"-113.45\" font-family=\"Helvetica,sans-Serif\" font-size=\"14.00\">samples = 7</text>\n",
              "<text text-anchor=\"middle\" x=\"5564.62\" y=\"-97.7\" font-family=\"Helvetica,sans-Serif\" font-size=\"14.00\">value = 57.369</text>\n",
              "</g>\n",
              "<!-- 57&#45;&gt;61 -->\n",
              "<g id=\"edge61\" class=\"edge\">\n",
              "<title>57&#45;&gt;61</title>\n",
              "<path fill=\"none\" stroke=\"black\" d=\"M5373.58,-207.25C5404.43,-194.83 5439.63,-180.67 5471.34,-167.91\"/>\n",
              "<polygon fill=\"black\" stroke=\"black\" points=\"5472.58,-171.18 5480.55,-164.2 5469.97,-164.69 5472.58,-171.18\"/>\n",
              "</g>\n",
              "<!-- 59 -->\n",
              "<g id=\"node60\" class=\"node\">\n",
              "<title>59</title>\n",
              "<polygon fill=\"#fefaf7\" stroke=\"black\" points=\"5287.5,-55.25 5129.75,-55.25 5129.75,0 5287.5,0 5287.5,-55.25\"/>\n",
              "<text text-anchor=\"middle\" x=\"5208.62\" y=\"-37.95\" font-family=\"Helvetica,sans-Serif\" font-size=\"14.00\">squared_error = 371.44</text>\n",
              "<text text-anchor=\"middle\" x=\"5208.62\" y=\"-22.2\" font-family=\"Helvetica,sans-Serif\" font-size=\"14.00\">samples = 15</text>\n",
              "<text text-anchor=\"middle\" x=\"5208.62\" y=\"-6.45\" font-family=\"Helvetica,sans-Serif\" font-size=\"14.00\">value = 76.765</text>\n",
              "</g>\n",
              "<!-- 58&#45;&gt;59 -->\n",
              "<g id=\"edge59\" class=\"edge\">\n",
              "<title>58&#45;&gt;59</title>\n",
              "<path fill=\"none\" stroke=\"black\" d=\"M5259.86,-90.95C5252.71,-82.25 5245.11,-73.01 5238.02,-64.39\"/>\n",
              "<polygon fill=\"black\" stroke=\"black\" points=\"5240.87,-62.34 5231.82,-56.84 5235.47,-66.79 5240.87,-62.34\"/>\n",
              "</g>\n",
              "<!-- 60 -->\n",
              "<g id=\"node61\" class=\"node\">\n",
              "<title>60</title>\n",
              "<polygon fill=\"#fdf7f3\" stroke=\"black\" points=\"5471.25,-55.25 5306,-55.25 5306,0 5471.25,0 5471.25,-55.25\"/>\n",
              "<text text-anchor=\"middle\" x=\"5388.62\" y=\"-37.95\" font-family=\"Helvetica,sans-Serif\" font-size=\"14.00\">squared_error = 398.064</text>\n",
              "<text text-anchor=\"middle\" x=\"5388.62\" y=\"-22.2\" font-family=\"Helvetica,sans-Serif\" font-size=\"14.00\">samples = 21</text>\n",
              "<text text-anchor=\"middle\" x=\"5388.62\" y=\"-6.45\" font-family=\"Helvetica,sans-Serif\" font-size=\"14.00\">value = 107.898</text>\n",
              "</g>\n",
              "<!-- 58&#45;&gt;60 -->\n",
              "<g id=\"edge60\" class=\"edge\">\n",
              "<title>58&#45;&gt;60</title>\n",
              "<path fill=\"none\" stroke=\"black\" d=\"M5327.4,-90.95C5336.12,-82.07 5345.4,-72.62 5354.02,-63.84\"/>\n",
              "<polygon fill=\"black\" stroke=\"black\" points=\"5356.48,-66.34 5360.99,-56.75 5351.49,-61.43 5356.48,-66.34\"/>\n",
              "</g>\n",
              "<!-- 62 -->\n",
              "<g id=\"node63\" class=\"node\">\n",
              "<title>62</title>\n",
              "<polygon fill=\"#fefcfb\" stroke=\"black\" points=\"5639.75,-55.25 5489.5,-55.25 5489.5,0 5639.75,0 5639.75,-55.25\"/>\n",
              "<text text-anchor=\"middle\" x=\"5564.62\" y=\"-37.95\" font-family=\"Helvetica,sans-Serif\" font-size=\"14.00\">squared_error = 65.61</text>\n",
              "<text text-anchor=\"middle\" x=\"5564.62\" y=\"-22.2\" font-family=\"Helvetica,sans-Serif\" font-size=\"14.00\">samples = 3</text>\n",
              "<text text-anchor=\"middle\" x=\"5564.62\" y=\"-6.45\" font-family=\"Helvetica,sans-Serif\" font-size=\"14.00\">value = 49.218</text>\n",
              "</g>\n",
              "<!-- 61&#45;&gt;62 -->\n",
              "<g id=\"edge62\" class=\"edge\">\n",
              "<title>61&#45;&gt;62</title>\n",
              "<path fill=\"none\" stroke=\"black\" d=\"M5564.62,-90.95C5564.62,-83.17 5564.62,-74.95 5564.62,-67.13\"/>\n",
              "<polygon fill=\"black\" stroke=\"black\" points=\"5568.13,-67.18 5564.63,-57.18 5561.13,-67.18 5568.13,-67.18\"/>\n",
              "</g>\n",
              "<!-- 63 -->\n",
              "<g id=\"node64\" class=\"node\">\n",
              "<title>63</title>\n",
              "<polygon fill=\"#fefbf9\" stroke=\"black\" points=\"5815.5,-55.25 5657.75,-55.25 5657.75,0 5815.5,0 5815.5,-55.25\"/>\n",
              "<text text-anchor=\"middle\" x=\"5736.62\" y=\"-37.95\" font-family=\"Helvetica,sans-Serif\" font-size=\"14.00\">squared_error = 60.016</text>\n",
              "<text text-anchor=\"middle\" x=\"5736.62\" y=\"-22.2\" font-family=\"Helvetica,sans-Serif\" font-size=\"14.00\">samples = 4</text>\n",
              "<text text-anchor=\"middle\" x=\"5736.62\" y=\"-6.45\" font-family=\"Helvetica,sans-Serif\" font-size=\"14.00\">value = 63.481</text>\n",
              "</g>\n",
              "<!-- 61&#45;&gt;63 -->\n",
              "<g id=\"edge63\" class=\"edge\">\n",
              "<title>61&#45;&gt;63</title>\n",
              "<path fill=\"none\" stroke=\"black\" d=\"M5629.16,-90.95C5645.9,-81.24 5663.79,-70.87 5680.08,-61.42\"/>\n",
              "<polygon fill=\"black\" stroke=\"black\" points=\"5681.79,-64.47 5688.68,-56.43 5678.28,-58.42 5681.79,-64.47\"/>\n",
              "</g>\n",
              "<!-- 65 -->\n",
              "<g id=\"node66\" class=\"node\">\n",
              "<title>65</title>\n",
              "<polygon fill=\"#f5ceb2\" stroke=\"black\" points=\"6703.25,-504.25 6520,-504.25 6520,-428 6703.25,-428 6703.25,-504.25\"/>\n",
              "<text text-anchor=\"middle\" x=\"6611.62\" y=\"-486.95\" font-family=\"Helvetica,sans-Serif\" font-size=\"14.00\">1회 평균매출액 &lt;= 517289.5</text>\n",
              "<text text-anchor=\"middle\" x=\"6611.62\" y=\"-465.95\" font-family=\"Helvetica,sans-Serif\" font-size=\"14.00\">squared_error = 72661.711</text>\n",
              "<text text-anchor=\"middle\" x=\"6611.62\" y=\"-450.2\" font-family=\"Helvetica,sans-Serif\" font-size=\"14.00\">samples = 32</text>\n",
              "<text text-anchor=\"middle\" x=\"6611.62\" y=\"-434.45\" font-family=\"Helvetica,sans-Serif\" font-size=\"14.00\">value = 607.745</text>\n",
              "</g>\n",
              "<!-- 64&#45;&gt;65 -->\n",
              "<g id=\"edge65\" class=\"edge\">\n",
              "<title>64&#45;&gt;65</title>\n",
              "<path fill=\"none\" stroke=\"black\" d=\"M6611.62,-540.05C6611.62,-532.24 6611.62,-523.89 6611.62,-515.74\"/>\n",
              "<polygon fill=\"black\" stroke=\"black\" points=\"6615.13,-515.93 6611.63,-505.93 6608.13,-515.93 6615.13,-515.93\"/>\n",
              "</g>\n",
              "<!-- 92 -->\n",
              "<g id=\"node93\" class=\"node\">\n",
              "<title>92</title>\n",
              "<polygon fill=\"#fbeade\" stroke=\"black\" points=\"8555.75,-504.25 8375.5,-504.25 8375.5,-428 8555.75,-428 8555.75,-504.25\"/>\n",
              "<text text-anchor=\"middle\" x=\"8465.62\" y=\"-486.95\" font-family=\"Helvetica,sans-Serif\" font-size=\"14.00\">총매출액 &lt;= 8856445.0</text>\n",
              "<text text-anchor=\"middle\" x=\"8465.62\" y=\"-465.95\" font-family=\"Helvetica,sans-Serif\" font-size=\"14.00\">squared_error = 28837.358</text>\n",
              "<text text-anchor=\"middle\" x=\"8465.62\" y=\"-450.2\" font-family=\"Helvetica,sans-Serif\" font-size=\"14.00\">samples = 72</text>\n",
              "<text text-anchor=\"middle\" x=\"8465.62\" y=\"-434.45\" font-family=\"Helvetica,sans-Serif\" font-size=\"14.00\">value = 267.488</text>\n",
              "</g>\n",
              "<!-- 64&#45;&gt;92 -->\n",
              "<g id=\"edge92\" class=\"edge\">\n",
              "<title>64&#45;&gt;92</title>\n",
              "<path fill=\"none\" stroke=\"black\" d=\"M6701.99,-572C7012.7,-553.52 8036.02,-492.67 8363.71,-473.19\"/>\n",
              "<polygon fill=\"black\" stroke=\"black\" points=\"8363.79,-476.69 8373.56,-472.6 8363.37,-469.7 8363.79,-476.69\"/>\n",
              "</g>\n",
              "<!-- 66 -->\n",
              "<g id=\"node67\" class=\"node\">\n",
              "<title>66</title>\n",
              "<polygon fill=\"#f7d8c2\" stroke=\"black\" points=\"6583.75,-392 6403.5,-392 6403.5,-315.75 6583.75,-315.75 6583.75,-392\"/>\n",
              "<text text-anchor=\"middle\" x=\"6493.62\" y=\"-374.7\" font-family=\"Helvetica,sans-Serif\" font-size=\"14.00\">총매출액 &lt;= 2403350.0</text>\n",
              "<text text-anchor=\"middle\" x=\"6493.62\" y=\"-353.7\" font-family=\"Helvetica,sans-Serif\" font-size=\"14.00\">squared_error = 36907.012</text>\n",
              "<text text-anchor=\"middle\" x=\"6493.62\" y=\"-337.95\" font-family=\"Helvetica,sans-Serif\" font-size=\"14.00\">samples = 17</text>\n",
              "<text text-anchor=\"middle\" x=\"6493.62\" y=\"-322.2\" font-family=\"Helvetica,sans-Serif\" font-size=\"14.00\">value = 484.28</text>\n",
              "</g>\n",
              "<!-- 65&#45;&gt;66 -->\n",
              "<g id=\"edge66\" class=\"edge\">\n",
              "<title>65&#45;&gt;66</title>\n",
              "<path fill=\"none\" stroke=\"black\" d=\"M6571.68,-427.8C6562.06,-418.82 6551.7,-409.13 6541.76,-399.85\"/>\n",
              "<polygon fill=\"black\" stroke=\"black\" points=\"6544.34,-397.47 6534.64,-393.2 6539.56,-402.58 6544.34,-397.47\"/>\n",
              "</g>\n",
              "<!-- 79 -->\n",
              "<g id=\"node80\" class=\"node\">\n",
              "<title>79</title>\n",
              "<polygon fill=\"#f2c29f\" stroke=\"black\" points=\"7064.75,-392 6884.5,-392 6884.5,-315.75 7064.75,-315.75 7064.75,-392\"/>\n",
              "<text text-anchor=\"middle\" x=\"6974.62\" y=\"-374.7\" font-family=\"Helvetica,sans-Serif\" font-size=\"14.00\">총매출액 &lt;= 2742900.0</text>\n",
              "<text text-anchor=\"middle\" x=\"6974.62\" y=\"-353.7\" font-family=\"Helvetica,sans-Serif\" font-size=\"14.00\">squared_error = 76328.005</text>\n",
              "<text text-anchor=\"middle\" x=\"6974.62\" y=\"-337.95\" font-family=\"Helvetica,sans-Serif\" font-size=\"14.00\">samples = 15</text>\n",
              "<text text-anchor=\"middle\" x=\"6974.62\" y=\"-322.2\" font-family=\"Helvetica,sans-Serif\" font-size=\"14.00\">value = 747.672</text>\n",
              "</g>\n",
              "<!-- 65&#45;&gt;79 -->\n",
              "<g id=\"edge79\" class=\"edge\">\n",
              "<title>65&#45;&gt;79</title>\n",
              "<path fill=\"none\" stroke=\"black\" d=\"M6703.69,-437.16C6755.47,-421.44 6820.2,-401.78 6873.4,-385.62\"/>\n",
              "<polygon fill=\"black\" stroke=\"black\" points=\"6874.22,-389.03 6882.78,-382.77 6872.19,-382.33 6874.22,-389.03\"/>\n",
              "</g>\n",
              "<!-- 67 -->\n",
              "<g id=\"node68\" class=\"node\">\n",
              "<title>67</title>\n",
              "<polygon fill=\"#f1bd97\" stroke=\"black\" points=\"6143.62,-279.75 5971.62,-279.75 5971.62,-203.5 6143.62,-203.5 6143.62,-279.75\"/>\n",
              "<text text-anchor=\"middle\" x=\"6057.62\" y=\"-262.45\" font-family=\"Helvetica,sans-Serif\" font-size=\"14.00\">구매유형 &lt;= 2.5</text>\n",
              "<text text-anchor=\"middle\" x=\"6057.62\" y=\"-241.45\" font-family=\"Helvetica,sans-Serif\" font-size=\"14.00\">squared_error = 2511.849</text>\n",
              "<text text-anchor=\"middle\" x=\"6057.62\" y=\"-225.7\" font-family=\"Helvetica,sans-Serif\" font-size=\"14.00\">samples = 3</text>\n",
              "<text text-anchor=\"middle\" x=\"6057.62\" y=\"-209.95\" font-family=\"Helvetica,sans-Serif\" font-size=\"14.00\">value = 807.467</text>\n",
              "</g>\n",
              "<!-- 66&#45;&gt;67 -->\n",
              "<g id=\"edge67\" class=\"edge\">\n",
              "<title>66&#45;&gt;67</title>\n",
              "<path fill=\"none\" stroke=\"black\" d=\"M6403.02,-329.96C6330.49,-311.62 6228.98,-285.95 6154.77,-267.19\"/>\n",
              "<polygon fill=\"black\" stroke=\"black\" points=\"6156.05,-263.9 6145.5,-264.84 6154.33,-270.69 6156.05,-263.9\"/>\n",
              "</g>\n",
              "<!-- 72 -->\n",
              "<g id=\"node73\" class=\"node\">\n",
              "<title>72</title>\n",
              "<polygon fill=\"#f8decb\" stroke=\"black\" points=\"6583.75,-279.75 6403.5,-279.75 6403.5,-203.5 6583.75,-203.5 6583.75,-279.75\"/>\n",
              "<text text-anchor=\"middle\" x=\"6493.62\" y=\"-262.45\" font-family=\"Helvetica,sans-Serif\" font-size=\"14.00\">구매카테고리수 &lt;= 4.5</text>\n",
              "<text text-anchor=\"middle\" x=\"6493.62\" y=\"-241.45\" font-family=\"Helvetica,sans-Serif\" font-size=\"14.00\">squared_error = 17099.237</text>\n",
              "<text text-anchor=\"middle\" x=\"6493.62\" y=\"-225.7\" font-family=\"Helvetica,sans-Serif\" font-size=\"14.00\">samples = 14</text>\n",
              "<text text-anchor=\"middle\" x=\"6493.62\" y=\"-209.95\" font-family=\"Helvetica,sans-Serif\" font-size=\"14.00\">value = 415.026</text>\n",
              "</g>\n",
              "<!-- 66&#45;&gt;72 -->\n",
              "<g id=\"edge72\" class=\"edge\">\n",
              "<title>66&#45;&gt;72</title>\n",
              "<path fill=\"none\" stroke=\"black\" d=\"M6493.62,-315.55C6493.62,-307.74 6493.62,-299.39 6493.62,-291.24\"/>\n",
              "<polygon fill=\"black\" stroke=\"black\" points=\"6497.13,-291.43 6493.63,-281.43 6490.13,-291.43 6497.13,-291.43\"/>\n",
              "</g>\n",
              "<!-- 68 -->\n",
              "<g id=\"node69\" class=\"node\">\n",
              "<title>68</title>\n",
              "<polygon fill=\"#f3c3a1\" stroke=\"black\" points=\"5959.25,-157 5824,-157 5824,-101.75 5959.25,-101.75 5959.25,-157\"/>\n",
              "<text text-anchor=\"middle\" x=\"5891.62\" y=\"-139.7\" font-family=\"Helvetica,sans-Serif\" font-size=\"14.00\">squared_error = 0.0</text>\n",
              "<text text-anchor=\"middle\" x=\"5891.62\" y=\"-123.95\" font-family=\"Helvetica,sans-Serif\" font-size=\"14.00\">samples = 1</text>\n",
              "<text text-anchor=\"middle\" x=\"5891.62\" y=\"-108.2\" font-family=\"Helvetica,sans-Serif\" font-size=\"14.00\">value = 736.6</text>\n",
              "</g>\n",
              "<!-- 67&#45;&gt;68 -->\n",
              "<g id=\"edge68\" class=\"edge\">\n",
              "<title>67&#45;&gt;68</title>\n",
              "<path fill=\"none\" stroke=\"black\" d=\"M6001.42,-203.3C5982.12,-190.48 5960.65,-176.22 5941.85,-163.73\"/>\n",
              "<polygon fill=\"black\" stroke=\"black\" points=\"5943.82,-160.84 5933.55,-158.22 5939.95,-166.67 5943.82,-160.84\"/>\n",
              "</g>\n",
              "<!-- 69 -->\n",
              "<g id=\"node70\" class=\"node\">\n",
              "<title>69</title>\n",
              "<polygon fill=\"#f1ba93\" stroke=\"black\" points=\"6138.38,-167.5 5976.88,-167.5 5976.88,-91.25 6138.38,-91.25 6138.38,-167.5\"/>\n",
              "<text text-anchor=\"middle\" x=\"6057.62\" y=\"-150.2\" font-family=\"Helvetica,sans-Serif\" font-size=\"14.00\">할인권 사용 횟수 &lt;= 23.5</text>\n",
              "<text text-anchor=\"middle\" x=\"6057.62\" y=\"-129.2\" font-family=\"Helvetica,sans-Serif\" font-size=\"14.00\">squared_error = 1.21</text>\n",
              "<text text-anchor=\"middle\" x=\"6057.62\" y=\"-113.45\" font-family=\"Helvetica,sans-Serif\" font-size=\"14.00\">samples = 2</text>\n",
              "<text text-anchor=\"middle\" x=\"6057.62\" y=\"-97.7\" font-family=\"Helvetica,sans-Serif\" font-size=\"14.00\">value = 842.9</text>\n",
              "</g>\n",
              "<!-- 67&#45;&gt;69 -->\n",
              "<g id=\"edge69\" class=\"edge\">\n",
              "<title>67&#45;&gt;69</title>\n",
              "<path fill=\"none\" stroke=\"black\" d=\"M6057.62,-203.3C6057.62,-195.49 6057.62,-187.14 6057.62,-178.99\"/>\n",
              "<polygon fill=\"black\" stroke=\"black\" points=\"6061.13,-179.18 6057.63,-169.18 6054.13,-179.18 6061.13,-179.18\"/>\n",
              "</g>\n",
              "<!-- 70 -->\n",
              "<g id=\"node71\" class=\"node\">\n",
              "<title>70</title>\n",
              "<polygon fill=\"#f1ba93\" stroke=\"black\" points=\"5969.25,-55.25 5834,-55.25 5834,0 5969.25,0 5969.25,-55.25\"/>\n",
              "<text text-anchor=\"middle\" x=\"5901.62\" y=\"-37.95\" font-family=\"Helvetica,sans-Serif\" font-size=\"14.00\">squared_error = 0.0</text>\n",
              "<text text-anchor=\"middle\" x=\"5901.62\" y=\"-22.2\" font-family=\"Helvetica,sans-Serif\" font-size=\"14.00\">samples = 1</text>\n",
              "<text text-anchor=\"middle\" x=\"5901.62\" y=\"-6.45\" font-family=\"Helvetica,sans-Serif\" font-size=\"14.00\">value = 841.8</text>\n",
              "</g>\n",
              "<!-- 69&#45;&gt;70 -->\n",
              "<g id=\"edge70\" class=\"edge\">\n",
              "<title>69&#45;&gt;70</title>\n",
              "<path fill=\"none\" stroke=\"black\" d=\"M5999.09,-90.95C5984.06,-81.33 5967.99,-71.06 5953.33,-61.69\"/>\n",
              "<polygon fill=\"black\" stroke=\"black\" points=\"5955.51,-58.92 5945.2,-56.49 5951.74,-64.82 5955.51,-58.92\"/>\n",
              "</g>\n",
              "<!-- 71 -->\n",
              "<g id=\"node72\" class=\"node\">\n",
              "<title>71</title>\n",
              "<polygon fill=\"#f1ba93\" stroke=\"black\" points=\"6127.5,-55.25 5987.75,-55.25 5987.75,0 6127.5,0 6127.5,-55.25\"/>\n",
              "<text text-anchor=\"middle\" x=\"6057.62\" y=\"-37.95\" font-family=\"Helvetica,sans-Serif\" font-size=\"14.00\">squared_error = &#45;0.0</text>\n",
              "<text text-anchor=\"middle\" x=\"6057.62\" y=\"-22.2\" font-family=\"Helvetica,sans-Serif\" font-size=\"14.00\">samples = 1</text>\n",
              "<text text-anchor=\"middle\" x=\"6057.62\" y=\"-6.45\" font-family=\"Helvetica,sans-Serif\" font-size=\"14.00\">value = 844.0</text>\n",
              "</g>\n",
              "<!-- 69&#45;&gt;71 -->\n",
              "<g id=\"edge71\" class=\"edge\">\n",
              "<title>69&#45;&gt;71</title>\n",
              "<path fill=\"none\" stroke=\"black\" d=\"M6057.62,-90.95C6057.62,-83.17 6057.62,-74.95 6057.62,-67.13\"/>\n",
              "<polygon fill=\"black\" stroke=\"black\" points=\"6061.13,-67.18 6057.63,-57.18 6054.13,-67.18 6061.13,-67.18\"/>\n",
              "</g>\n",
              "<!-- 73 -->\n",
              "<g id=\"node74\" class=\"node\">\n",
              "<title>73</title>\n",
              "<polygon fill=\"#f9e2d1\" stroke=\"black\" points=\"6485,-167.5 6312.25,-167.5 6312.25,-91.25 6485,-91.25 6485,-167.5\"/>\n",
              "<text text-anchor=\"middle\" x=\"6398.62\" y=\"-150.2\" font-family=\"Helvetica,sans-Serif\" font-size=\"14.00\">구매유형 &lt;= 3.5</text>\n",
              "<text text-anchor=\"middle\" x=\"6398.62\" y=\"-129.2\" font-family=\"Helvetica,sans-Serif\" font-size=\"14.00\">squared_error = 17367.44</text>\n",
              "<text text-anchor=\"middle\" x=\"6398.62\" y=\"-113.45\" font-family=\"Helvetica,sans-Serif\" font-size=\"14.00\">samples = 9</text>\n",
              "<text text-anchor=\"middle\" x=\"6398.62\" y=\"-97.7\" font-family=\"Helvetica,sans-Serif\" font-size=\"14.00\">value = 365.734</text>\n",
              "</g>\n",
              "<!-- 72&#45;&gt;73 -->\n",
              "<g id=\"edge73\" class=\"edge\">\n",
              "<title>72&#45;&gt;73</title>\n",
              "<path fill=\"none\" stroke=\"black\" d=\"M6461.46,-203.3C6453.96,-194.59 6445.88,-185.21 6438.1,-176.18\"/>\n",
              "<polygon fill=\"black\" stroke=\"black\" points=\"6440.92,-174.1 6431.74,-168.81 6435.62,-178.67 6440.92,-174.1\"/>\n",
              "</g>\n",
              "<!-- 76 -->\n",
              "<g id=\"node77\" class=\"node\">\n",
              "<title>76</title>\n",
              "<polygon fill=\"#f7d6bf\" stroke=\"black\" points=\"6676,-167.5 6503.25,-167.5 6503.25,-91.25 6676,-91.25 6676,-167.5\"/>\n",
              "<text text-anchor=\"middle\" x=\"6589.62\" y=\"-150.2\" font-family=\"Helvetica,sans-Serif\" font-size=\"14.00\">총매출액 &lt;= 3806710.0</text>\n",
              "<text text-anchor=\"middle\" x=\"6589.62\" y=\"-129.2\" font-family=\"Helvetica,sans-Serif\" font-size=\"14.00\">squared_error = 4370.845</text>\n",
              "<text text-anchor=\"middle\" x=\"6589.62\" y=\"-113.45\" font-family=\"Helvetica,sans-Serif\" font-size=\"14.00\">samples = 5</text>\n",
              "<text text-anchor=\"middle\" x=\"6589.62\" y=\"-97.7\" font-family=\"Helvetica,sans-Serif\" font-size=\"14.00\">value = 503.751</text>\n",
              "</g>\n",
              "<!-- 72&#45;&gt;76 -->\n",
              "<g id=\"edge76\" class=\"edge\">\n",
              "<title>72&#45;&gt;76</title>\n",
              "<path fill=\"none\" stroke=\"black\" d=\"M6526.13,-203.3C6533.71,-194.59 6541.87,-185.21 6549.74,-176.18\"/>\n",
              "<polygon fill=\"black\" stroke=\"black\" points=\"6552.24,-178.64 6556.16,-168.8 6546.96,-174.05 6552.24,-178.64\"/>\n",
              "</g>\n",
              "<!-- 74 -->\n",
              "<g id=\"node75\" class=\"node\">\n",
              "<title>74</title>\n",
              "<polygon fill=\"#f9e0ce\" stroke=\"black\" points=\"6325.38,-55.25 6145.88,-55.25 6145.88,0 6325.38,0 6325.38,-55.25\"/>\n",
              "<text text-anchor=\"middle\" x=\"6235.62\" y=\"-37.95\" font-family=\"Helvetica,sans-Serif\" font-size=\"14.00\">squared_error = 12490.112</text>\n",
              "<text text-anchor=\"middle\" x=\"6235.62\" y=\"-22.2\" font-family=\"Helvetica,sans-Serif\" font-size=\"14.00\">samples = 8</text>\n",
              "<text text-anchor=\"middle\" x=\"6235.62\" y=\"-6.45\" font-family=\"Helvetica,sans-Serif\" font-size=\"14.00\">value = 393.719</text>\n",
              "</g>\n",
              "<!-- 73&#45;&gt;74 -->\n",
              "<g id=\"edge74\" class=\"edge\">\n",
              "<title>73&#45;&gt;74</title>\n",
              "<path fill=\"none\" stroke=\"black\" d=\"M6337.47,-90.95C6321.61,-81.24 6304.65,-70.87 6289.21,-61.42\"/>\n",
              "<polygon fill=\"black\" stroke=\"black\" points=\"6291.47,-58.69 6281.11,-56.46 6287.81,-64.67 6291.47,-58.69\"/>\n",
              "</g>\n",
              "<!-- 75 -->\n",
              "<g id=\"node76\" class=\"node\">\n",
              "<title>75</title>\n",
              "<polygon fill=\"#fdf5ef\" stroke=\"black\" points=\"6478.25,-55.25 6343,-55.25 6343,0 6478.25,0 6478.25,-55.25\"/>\n",
              "<text text-anchor=\"middle\" x=\"6410.62\" y=\"-37.95\" font-family=\"Helvetica,sans-Serif\" font-size=\"14.00\">squared_error = 0.0</text>\n",
              "<text text-anchor=\"middle\" x=\"6410.62\" y=\"-22.2\" font-family=\"Helvetica,sans-Serif\" font-size=\"14.00\">samples = 1</text>\n",
              "<text text-anchor=\"middle\" x=\"6410.62\" y=\"-6.45\" font-family=\"Helvetica,sans-Serif\" font-size=\"14.00\">value = 141.857</text>\n",
              "</g>\n",
              "<!-- 73&#45;&gt;75 -->\n",
              "<g id=\"edge75\" class=\"edge\">\n",
              "<title>73&#45;&gt;75</title>\n",
              "<path fill=\"none\" stroke=\"black\" d=\"M6403.13,-90.95C6404.07,-83.07 6405.08,-74.76 6406.03,-66.85\"/>\n",
              "<polygon fill=\"black\" stroke=\"black\" points=\"6409.47,-67.52 6407.19,-57.17 6402.52,-66.68 6409.47,-67.52\"/>\n",
              "</g>\n",
              "<!-- 77 -->\n",
              "<g id=\"node78\" class=\"node\">\n",
              "<title>77</title>\n",
              "<polygon fill=\"#f6d2b8\" stroke=\"black\" points=\"6661.25,-55.25 6496,-55.25 6496,0 6661.25,0 6661.25,-55.25\"/>\n",
              "<text text-anchor=\"middle\" x=\"6578.62\" y=\"-37.95\" font-family=\"Helvetica,sans-Serif\" font-size=\"14.00\">squared_error = 362.299</text>\n",
              "<text text-anchor=\"middle\" x=\"6578.62\" y=\"-22.2\" font-family=\"Helvetica,sans-Serif\" font-size=\"14.00\">samples = 3</text>\n",
              "<text text-anchor=\"middle\" x=\"6578.62\" y=\"-6.45\" font-family=\"Helvetica,sans-Serif\" font-size=\"14.00\">value = 556.286</text>\n",
              "</g>\n",
              "<!-- 76&#45;&gt;77 -->\n",
              "<g id=\"edge77\" class=\"edge\">\n",
              "<title>76&#45;&gt;77</title>\n",
              "<path fill=\"none\" stroke=\"black\" d=\"M6585.5,-90.95C6584.63,-83.07 6583.71,-74.76 6582.84,-66.85\"/>\n",
              "<polygon fill=\"black\" stroke=\"black\" points=\"6586.35,-66.73 6581.77,-57.17 6579.39,-67.5 6586.35,-66.73\"/>\n",
              "</g>\n",
              "<!-- 78 -->\n",
              "<g id=\"node79\" class=\"node\">\n",
              "<title>78</title>\n",
              "<polygon fill=\"#f8ddca\" stroke=\"black\" points=\"6837.5,-55.25 6679.75,-55.25 6679.75,0 6837.5,0 6837.5,-55.25\"/>\n",
              "<text text-anchor=\"middle\" x=\"6758.62\" y=\"-37.95\" font-family=\"Helvetica,sans-Serif\" font-size=\"14.00\">squared_error = 34.222</text>\n",
              "<text text-anchor=\"middle\" x=\"6758.62\" y=\"-22.2\" font-family=\"Helvetica,sans-Serif\" font-size=\"14.00\">samples = 2</text>\n",
              "<text text-anchor=\"middle\" x=\"6758.62\" y=\"-6.45\" font-family=\"Helvetica,sans-Serif\" font-size=\"14.00\">value = 424.95</text>\n",
              "</g>\n",
              "<!-- 76&#45;&gt;78 -->\n",
              "<g id=\"edge78\" class=\"edge\">\n",
              "<title>76&#45;&gt;78</title>\n",
              "<path fill=\"none\" stroke=\"black\" d=\"M6653.04,-90.95C6669.48,-81.24 6687.06,-70.87 6703.07,-61.42\"/>\n",
              "<polygon fill=\"black\" stroke=\"black\" points=\"6704.67,-64.54 6711.5,-56.44 6701.11,-58.51 6704.67,-64.54\"/>\n",
              "</g>\n",
              "<!-- 80 -->\n",
              "<g id=\"node81\" class=\"node\">\n",
              "<title>80</title>\n",
              "<polygon fill=\"#efb184\" stroke=\"black\" points=\"7061,-279.75 6888.25,-279.75 6888.25,-203.5 7061,-203.5 7061,-279.75\"/>\n",
              "<text text-anchor=\"middle\" x=\"6974.62\" y=\"-262.45\" font-family=\"Helvetica,sans-Serif\" font-size=\"14.00\">총 할인 금액 &lt;= 203672.5</text>\n",
              "<text text-anchor=\"middle\" x=\"6974.62\" y=\"-241.45\" font-family=\"Helvetica,sans-Serif\" font-size=\"14.00\">squared_error = 95681.16</text>\n",
              "<text text-anchor=\"middle\" x=\"6974.62\" y=\"-225.7\" font-family=\"Helvetica,sans-Serif\" font-size=\"14.00\">samples = 6</text>\n",
              "<text text-anchor=\"middle\" x=\"6974.62\" y=\"-209.95\" font-family=\"Helvetica,sans-Serif\" font-size=\"14.00\">value = 956.7</text>\n",
              "</g>\n",
              "<!-- 79&#45;&gt;80 -->\n",
              "<g id=\"edge80\" class=\"edge\">\n",
              "<title>79&#45;&gt;80</title>\n",
              "<path fill=\"none\" stroke=\"black\" d=\"M6974.62,-315.55C6974.62,-307.74 6974.62,-299.39 6974.62,-291.24\"/>\n",
              "<polygon fill=\"black\" stroke=\"black\" points=\"6978.13,-291.43 6974.63,-281.43 6971.13,-291.43 6978.13,-291.43\"/>\n",
              "</g>\n",
              "<!-- 85 -->\n",
              "<g id=\"node86\" class=\"node\">\n",
              "<title>85</title>\n",
              "<polygon fill=\"#f5ceb2\" stroke=\"black\" points=\"7407.75,-279.75 7227.5,-279.75 7227.5,-203.5 7407.75,-203.5 7407.75,-279.75\"/>\n",
              "<text text-anchor=\"middle\" x=\"7317.62\" y=\"-262.45\" font-family=\"Helvetica,sans-Serif\" font-size=\"14.00\">구매카테고리수 &lt;= 3.5</text>\n",
              "<text text-anchor=\"middle\" x=\"7317.62\" y=\"-241.45\" font-family=\"Helvetica,sans-Serif\" font-size=\"14.00\">squared_error = 14878.666</text>\n",
              "<text text-anchor=\"middle\" x=\"7317.62\" y=\"-225.7\" font-family=\"Helvetica,sans-Serif\" font-size=\"14.00\">samples = 9</text>\n",
              "<text text-anchor=\"middle\" x=\"7317.62\" y=\"-209.95\" font-family=\"Helvetica,sans-Serif\" font-size=\"14.00\">value = 608.321</text>\n",
              "</g>\n",
              "<!-- 79&#45;&gt;85 -->\n",
              "<g id=\"edge85\" class=\"edge\">\n",
              "<title>79&#45;&gt;85</title>\n",
              "<path fill=\"none\" stroke=\"black\" d=\"M7065.19,-323.76C7111.69,-308.82 7168.49,-290.56 7216.43,-275.15\"/>\n",
              "<polygon fill=\"black\" stroke=\"black\" points=\"7217.25,-278.56 7225.7,-272.17 7215.11,-271.9 7217.25,-278.56\"/>\n",
              "</g>\n",
              "<!-- 81 -->\n",
              "<g id=\"node82\" class=\"node\">\n",
              "<title>81</title>\n",
              "<polygon fill=\"#e58139\" stroke=\"black\" points=\"6954.25,-157 6819,-157 6819,-101.75 6954.25,-101.75 6954.25,-157\"/>\n",
              "<text text-anchor=\"middle\" x=\"6886.62\" y=\"-139.7\" font-family=\"Helvetica,sans-Serif\" font-size=\"14.00\">squared_error = 0.0</text>\n",
              "<text text-anchor=\"middle\" x=\"6886.62\" y=\"-123.95\" font-family=\"Helvetica,sans-Serif\" font-size=\"14.00\">samples = 1</text>\n",
              "<text text-anchor=\"middle\" x=\"6886.62\" y=\"-108.2\" font-family=\"Helvetica,sans-Serif\" font-size=\"14.00\">value = 1528.0</text>\n",
              "</g>\n",
              "<!-- 80&#45;&gt;81 -->\n",
              "<g id=\"edge81\" class=\"edge\">\n",
              "<title>80&#45;&gt;81</title>\n",
              "<path fill=\"none\" stroke=\"black\" d=\"M6944.83,-203.3C6935.22,-191.25 6924.59,-177.94 6915.07,-166.01\"/>\n",
              "<polygon fill=\"black\" stroke=\"black\" points=\"6917.96,-164.03 6908.99,-158.4 6912.49,-168.39 6917.96,-164.03\"/>\n",
              "</g>\n",
              "<!-- 82 -->\n",
              "<g id=\"node83\" class=\"node\">\n",
              "<title>82</title>\n",
              "<polygon fill=\"#f1ba93\" stroke=\"black\" points=\"7152.75,-167.5 6972.5,-167.5 6972.5,-91.25 7152.75,-91.25 7152.75,-167.5\"/>\n",
              "<text text-anchor=\"middle\" x=\"7062.62\" y=\"-150.2\" font-family=\"Helvetica,sans-Serif\" font-size=\"14.00\">구매카테고리수 &lt;= 7.0</text>\n",
              "<text text-anchor=\"middle\" x=\"7062.62\" y=\"-129.2\" font-family=\"Helvetica,sans-Serif\" font-size=\"14.00\">squared_error = 36485.306</text>\n",
              "<text text-anchor=\"middle\" x=\"7062.62\" y=\"-113.45\" font-family=\"Helvetica,sans-Serif\" font-size=\"14.00\">samples = 5</text>\n",
              "<text text-anchor=\"middle\" x=\"7062.62\" y=\"-97.7\" font-family=\"Helvetica,sans-Serif\" font-size=\"14.00\">value = 842.44</text>\n",
              "</g>\n",
              "<!-- 80&#45;&gt;82 -->\n",
              "<g id=\"edge82\" class=\"edge\">\n",
              "<title>80&#45;&gt;82</title>\n",
              "<path fill=\"none\" stroke=\"black\" d=\"M7004.42,-203.3C7011.3,-194.68 7018.7,-185.41 7025.84,-176.46\"/>\n",
              "<polygon fill=\"black\" stroke=\"black\" points=\"7028.42,-178.84 7031.92,-168.85 7022.94,-174.48 7028.42,-178.84\"/>\n",
              "</g>\n",
              "<!-- 83 -->\n",
              "<g id=\"node84\" class=\"node\">\n",
              "<title>83</title>\n",
              "<polygon fill=\"#efb388\" stroke=\"black\" points=\"7028,-55.25 6855.25,-55.25 6855.25,0 7028,0 7028,-55.25\"/>\n",
              "<text text-anchor=\"middle\" x=\"6941.62\" y=\"-37.95\" font-family=\"Helvetica,sans-Serif\" font-size=\"14.00\">squared_error = 8746.935</text>\n",
              "<text text-anchor=\"middle\" x=\"6941.62\" y=\"-22.2\" font-family=\"Helvetica,sans-Serif\" font-size=\"14.00\">samples = 4</text>\n",
              "<text text-anchor=\"middle\" x=\"6941.62\" y=\"-6.45\" font-family=\"Helvetica,sans-Serif\" font-size=\"14.00\">value = 928.3</text>\n",
              "</g>\n",
              "<!-- 82&#45;&gt;83 -->\n",
              "<g id=\"edge83\" class=\"edge\">\n",
              "<title>82&#45;&gt;83</title>\n",
              "<path fill=\"none\" stroke=\"black\" d=\"M7017.22,-90.95C7006.01,-81.7 6994.05,-71.84 6983.03,-62.76\"/>\n",
              "<polygon fill=\"black\" stroke=\"black\" points=\"6985.54,-60.29 6975.6,-56.63 6981.09,-65.69 6985.54,-60.29\"/>\n",
              "</g>\n",
              "<!-- 84 -->\n",
              "<g id=\"node85\" class=\"node\">\n",
              "<title>84</title>\n",
              "<polygon fill=\"#f7d7c0\" stroke=\"black\" points=\"7181.25,-55.25 7046,-55.25 7046,0 7181.25,0 7181.25,-55.25\"/>\n",
              "<text text-anchor=\"middle\" x=\"7113.62\" y=\"-37.95\" font-family=\"Helvetica,sans-Serif\" font-size=\"14.00\">squared_error = 0.0</text>\n",
              "<text text-anchor=\"middle\" x=\"7113.62\" y=\"-22.2\" font-family=\"Helvetica,sans-Serif\" font-size=\"14.00\">samples = 1</text>\n",
              "<text text-anchor=\"middle\" x=\"7113.62\" y=\"-6.45\" font-family=\"Helvetica,sans-Serif\" font-size=\"14.00\">value = 499.0</text>\n",
              "</g>\n",
              "<!-- 82&#45;&gt;84 -->\n",
              "<g id=\"edge84\" class=\"edge\">\n",
              "<title>82&#45;&gt;84</title>\n",
              "<path fill=\"none\" stroke=\"black\" d=\"M7081.76,-90.95C7085.97,-82.71 7090.43,-73.98 7094.64,-65.75\"/>\n",
              "<polygon fill=\"black\" stroke=\"black\" points=\"7097.67,-67.51 7099.11,-57.02 7091.44,-64.33 7097.67,-67.51\"/>\n",
              "</g>\n",
              "<!-- 86 -->\n",
              "<g id=\"node87\" class=\"node\">\n",
              "<title>86</title>\n",
              "<polygon fill=\"#f4c8a9\" stroke=\"black\" points=\"7407.75,-167.5 7227.5,-167.5 7227.5,-91.25 7407.75,-91.25 7407.75,-167.5\"/>\n",
              "<text text-anchor=\"middle\" x=\"7317.62\" y=\"-150.2\" font-family=\"Helvetica,sans-Serif\" font-size=\"14.00\">총매출액 &lt;= 3223355.0</text>\n",
              "<text text-anchor=\"middle\" x=\"7317.62\" y=\"-129.2\" font-family=\"Helvetica,sans-Serif\" font-size=\"14.00\">squared_error = 14597.206</text>\n",
              "<text text-anchor=\"middle\" x=\"7317.62\" y=\"-113.45\" font-family=\"Helvetica,sans-Serif\" font-size=\"14.00\">samples = 5</text>\n",
              "<text text-anchor=\"middle\" x=\"7317.62\" y=\"-97.7\" font-family=\"Helvetica,sans-Serif\" font-size=\"14.00\">value = 675.334</text>\n",
              "</g>\n",
              "<!-- 85&#45;&gt;86 -->\n",
              "<g id=\"edge86\" class=\"edge\">\n",
              "<title>85&#45;&gt;86</title>\n",
              "<path fill=\"none\" stroke=\"black\" d=\"M7317.62,-203.3C7317.62,-195.49 7317.62,-187.14 7317.62,-178.99\"/>\n",
              "<polygon fill=\"black\" stroke=\"black\" points=\"7321.13,-179.18 7317.63,-169.18 7314.13,-179.18 7321.13,-179.18\"/>\n",
              "</g>\n",
              "<!-- 89 -->\n",
              "<g id=\"node90\" class=\"node\">\n",
              "<title>89</title>\n",
              "<polygon fill=\"#f6d5bc\" stroke=\"black\" points=\"7708,-167.5 7535.25,-167.5 7535.25,-91.25 7708,-91.25 7708,-167.5\"/>\n",
              "<text text-anchor=\"middle\" x=\"7621.62\" y=\"-150.2\" font-family=\"Helvetica,sans-Serif\" font-size=\"14.00\">구매유형 &lt;= 2.5</text>\n",
              "<text text-anchor=\"middle\" x=\"7621.62\" y=\"-129.2\" font-family=\"Helvetica,sans-Serif\" font-size=\"14.00\">squared_error = 2600.352</text>\n",
              "<text text-anchor=\"middle\" x=\"7621.62\" y=\"-113.45\" font-family=\"Helvetica,sans-Serif\" font-size=\"14.00\">samples = 4</text>\n",
              "<text text-anchor=\"middle\" x=\"7621.62\" y=\"-97.7\" font-family=\"Helvetica,sans-Serif\" font-size=\"14.00\">value = 524.555</text>\n",
              "</g>\n",
              "<!-- 85&#45;&gt;89 -->\n",
              "<g id=\"edge89\" class=\"edge\">\n",
              "<title>85&#45;&gt;89</title>\n",
              "<path fill=\"none\" stroke=\"black\" d=\"M7408.01,-207.84C7444.73,-194.53 7487.22,-179.12 7524.58,-165.57\"/>\n",
              "<polygon fill=\"black\" stroke=\"black\" points=\"7525.35,-169.01 7533.56,-162.31 7522.96,-162.43 7525.35,-169.01\"/>\n",
              "</g>\n",
              "<!-- 87 -->\n",
              "<g id=\"node88\" class=\"node\">\n",
              "<title>87</title>\n",
              "<polygon fill=\"#f0b78e\" stroke=\"black\" points=\"7334.25,-55.25 7199,-55.25 7199,0 7334.25,0 7334.25,-55.25\"/>\n",
              "<text text-anchor=\"middle\" x=\"7266.62\" y=\"-37.95\" font-family=\"Helvetica,sans-Serif\" font-size=\"14.00\">squared_error = 0.0</text>\n",
              "<text text-anchor=\"middle\" x=\"7266.62\" y=\"-22.2\" font-family=\"Helvetica,sans-Serif\" font-size=\"14.00\">samples = 1</text>\n",
              "<text text-anchor=\"middle\" x=\"7266.62\" y=\"-6.45\" font-family=\"Helvetica,sans-Serif\" font-size=\"14.00\">value = 876.4</text>\n",
              "</g>\n",
              "<!-- 86&#45;&gt;87 -->\n",
              "<g id=\"edge87\" class=\"edge\">\n",
              "<title>86&#45;&gt;87</title>\n",
              "<path fill=\"none\" stroke=\"black\" d=\"M7298.49,-90.95C7294.28,-82.71 7289.82,-73.98 7285.61,-65.75\"/>\n",
              "<polygon fill=\"black\" stroke=\"black\" points=\"7288.81,-64.33 7281.14,-57.02 7282.58,-67.51 7288.81,-64.33\"/>\n",
              "</g>\n",
              "<!-- 88 -->\n",
              "<g id=\"node89\" class=\"node\">\n",
              "<title>88</title>\n",
              "<polygon fill=\"#f5ccaf\" stroke=\"black\" points=\"7525,-55.25 7352.25,-55.25 7352.25,0 7525,0 7525,-55.25\"/>\n",
              "<text text-anchor=\"middle\" x=\"7438.62\" y=\"-37.95\" font-family=\"Helvetica,sans-Serif\" font-size=\"14.00\">squared_error = 5612.848</text>\n",
              "<text text-anchor=\"middle\" x=\"7438.62\" y=\"-22.2\" font-family=\"Helvetica,sans-Serif\" font-size=\"14.00\">samples = 4</text>\n",
              "<text text-anchor=\"middle\" x=\"7438.62\" y=\"-6.45\" font-family=\"Helvetica,sans-Serif\" font-size=\"14.00\">value = 625.067</text>\n",
              "</g>\n",
              "<!-- 86&#45;&gt;88 -->\n",
              "<g id=\"edge88\" class=\"edge\">\n",
              "<title>86&#45;&gt;88</title>\n",
              "<path fill=\"none\" stroke=\"black\" d=\"M7363.03,-90.95C7374.24,-81.7 7386.2,-71.84 7397.22,-62.76\"/>\n",
              "<polygon fill=\"black\" stroke=\"black\" points=\"7399.16,-65.69 7404.65,-56.63 7394.71,-60.29 7399.16,-65.69\"/>\n",
              "</g>\n",
              "<!-- 90 -->\n",
              "<g id=\"node91\" class=\"node\">\n",
              "<title>90</title>\n",
              "<polygon fill=\"#f5d1b6\" stroke=\"black\" points=\"7700.5,-55.25 7542.75,-55.25 7542.75,0 7700.5,0 7700.5,-55.25\"/>\n",
              "<text text-anchor=\"middle\" x=\"7621.62\" y=\"-37.95\" font-family=\"Helvetica,sans-Serif\" font-size=\"14.00\">squared_error = 14.878</text>\n",
              "<text text-anchor=\"middle\" x=\"7621.62\" y=\"-22.2\" font-family=\"Helvetica,sans-Serif\" font-size=\"14.00\">samples = 2</text>\n",
              "<text text-anchor=\"middle\" x=\"7621.62\" y=\"-6.45\" font-family=\"Helvetica,sans-Serif\" font-size=\"14.00\">value = 574.143</text>\n",
              "</g>\n",
              "<!-- 89&#45;&gt;90 -->\n",
              "<g id=\"edge90\" class=\"edge\">\n",
              "<title>89&#45;&gt;90</title>\n",
              "<path fill=\"none\" stroke=\"black\" d=\"M7621.62,-90.95C7621.62,-83.17 7621.62,-74.95 7621.62,-67.13\"/>\n",
              "<polygon fill=\"black\" stroke=\"black\" points=\"7625.13,-67.18 7621.63,-57.18 7618.13,-67.18 7625.13,-67.18\"/>\n",
              "</g>\n",
              "<!-- 91 -->\n",
              "<g id=\"node92\" class=\"node\">\n",
              "<title>91</title>\n",
              "<polygon fill=\"#f7d9c3\" stroke=\"black\" points=\"7884.25,-55.25 7719,-55.25 7719,0 7884.25,0 7884.25,-55.25\"/>\n",
              "<text text-anchor=\"middle\" x=\"7801.62\" y=\"-37.95\" font-family=\"Helvetica,sans-Serif\" font-size=\"14.00\">squared_error = 267.868</text>\n",
              "<text text-anchor=\"middle\" x=\"7801.62\" y=\"-22.2\" font-family=\"Helvetica,sans-Serif\" font-size=\"14.00\">samples = 2</text>\n",
              "<text text-anchor=\"middle\" x=\"7801.62\" y=\"-6.45\" font-family=\"Helvetica,sans-Serif\" font-size=\"14.00\">value = 474.967</text>\n",
              "</g>\n",
              "<!-- 89&#45;&gt;91 -->\n",
              "<g id=\"edge91\" class=\"edge\">\n",
              "<title>89&#45;&gt;91</title>\n",
              "<path fill=\"none\" stroke=\"black\" d=\"M7689.42,-90.81C7707,-81.06 7725.78,-70.66 7742.85,-61.2\"/>\n",
              "<polygon fill=\"black\" stroke=\"black\" points=\"7744.31,-64.39 7751.36,-56.48 7740.92,-58.27 7744.31,-64.39\"/>\n",
              "</g>\n",
              "<!-- 93 -->\n",
              "<g id=\"node94\" class=\"node\">\n",
              "<title>93</title>\n",
              "<polygon fill=\"#f9e1d0\" stroke=\"black\" points=\"8557.25,-392 8374,-392 8374,-315.75 8557.25,-315.75 8557.25,-392\"/>\n",
              "<text text-anchor=\"middle\" x=\"8465.62\" y=\"-374.7\" font-family=\"Helvetica,sans-Serif\" font-size=\"14.00\">1회 평균매출액 &lt;= 773149.5</text>\n",
              "<text text-anchor=\"middle\" x=\"8465.62\" y=\"-353.7\" font-family=\"Helvetica,sans-Serif\" font-size=\"14.00\">squared_error = 27937.755</text>\n",
              "<text text-anchor=\"middle\" x=\"8465.62\" y=\"-337.95\" font-family=\"Helvetica,sans-Serif\" font-size=\"14.00\">samples = 37</text>\n",
              "<text text-anchor=\"middle\" x=\"8465.62\" y=\"-322.2\" font-family=\"Helvetica,sans-Serif\" font-size=\"14.00\">value = 374.5</text>\n",
              "</g>\n",
              "<!-- 92&#45;&gt;93 -->\n",
              "<g id=\"edge93\" class=\"edge\">\n",
              "<title>92&#45;&gt;93</title>\n",
              "<path fill=\"none\" stroke=\"black\" d=\"M8465.62,-427.8C8465.62,-419.99 8465.62,-411.64 8465.62,-403.49\"/>\n",
              "<polygon fill=\"black\" stroke=\"black\" points=\"8469.13,-403.68 8465.63,-393.68 8462.13,-403.68 8469.13,-403.68\"/>\n",
              "</g>\n",
              "<!-- 106 -->\n",
              "<g id=\"node107\" class=\"node\">\n",
              "<title>106</title>\n",
              "<polygon fill=\"#fdf4ed\" stroke=\"black\" points=\"9430,-392 9257.25,-392 9257.25,-315.75 9430,-315.75 9430,-392\"/>\n",
              "<text text-anchor=\"middle\" x=\"9343.62\" y=\"-374.7\" font-family=\"Helvetica,sans-Serif\" font-size=\"14.00\">구매카테고리수 &lt;= 3.5</text>\n",
              "<text text-anchor=\"middle\" x=\"9343.62\" y=\"-353.7\" font-family=\"Helvetica,sans-Serif\" font-size=\"14.00\">squared_error = 4884.833</text>\n",
              "<text text-anchor=\"middle\" x=\"9343.62\" y=\"-337.95\" font-family=\"Helvetica,sans-Serif\" font-size=\"14.00\">samples = 35</text>\n",
              "<text text-anchor=\"middle\" x=\"9343.62\" y=\"-322.2\" font-family=\"Helvetica,sans-Serif\" font-size=\"14.00\">value = 154.361</text>\n",
              "</g>\n",
              "<!-- 92&#45;&gt;106 -->\n",
              "<g id=\"edge106\" class=\"edge\">\n",
              "<title>92&#45;&gt;106</title>\n",
              "<path fill=\"none\" stroke=\"black\" d=\"M8555.87,-453.79C8721.82,-432.95 9074.11,-388.72 9245.66,-367.18\"/>\n",
              "<polygon fill=\"black\" stroke=\"black\" points=\"9245.96,-370.67 9255.44,-365.95 9245.08,-363.72 9245.96,-370.67\"/>\n",
              "</g>\n",
              "<!-- 94 -->\n",
              "<g id=\"node95\" class=\"node\">\n",
              "<title>94</title>\n",
              "<polygon fill=\"#fae6d8\" stroke=\"black\" points=\"8465.25,-279.75 8282,-279.75 8282,-203.5 8465.25,-203.5 8465.25,-279.75\"/>\n",
              "<text text-anchor=\"middle\" x=\"8373.62\" y=\"-262.45\" font-family=\"Helvetica,sans-Serif\" font-size=\"14.00\">1회 평균매출액 &lt;= 476492.5</text>\n",
              "<text text-anchor=\"middle\" x=\"8373.62\" y=\"-241.45\" font-family=\"Helvetica,sans-Serif\" font-size=\"14.00\">squared_error = 14255.548</text>\n",
              "<text text-anchor=\"middle\" x=\"8373.62\" y=\"-225.7\" font-family=\"Helvetica,sans-Serif\" font-size=\"14.00\">samples = 30</text>\n",
              "<text text-anchor=\"middle\" x=\"8373.62\" y=\"-209.95\" font-family=\"Helvetica,sans-Serif\" font-size=\"14.00\">value = 318.166</text>\n",
              "</g>\n",
              "<!-- 93&#45;&gt;94 -->\n",
              "<g id=\"edge94\" class=\"edge\">\n",
              "<title>93&#45;&gt;94</title>\n",
              "<path fill=\"none\" stroke=\"black\" d=\"M8434.48,-315.55C8427.28,-306.93 8419.55,-297.66 8412.08,-288.71\"/>\n",
              "<polygon fill=\"black\" stroke=\"black\" points=\"8414.8,-286.51 8405.71,-281.07 8409.43,-290.99 8414.8,-286.51\"/>\n",
              "</g>\n",
              "<!-- 101 -->\n",
              "<g id=\"node102\" class=\"node\">\n",
              "<title>101</title>\n",
              "<polygon fill=\"#f5cdb1\" stroke=\"black\" points=\"8653.25,-279.75 8488,-279.75 8488,-203.5 8653.25,-203.5 8653.25,-279.75\"/>\n",
              "<text text-anchor=\"middle\" x=\"8570.62\" y=\"-262.45\" font-family=\"Helvetica,sans-Serif\" font-size=\"14.00\">총매출액 &lt;= 5045955.0</text>\n",
              "<text text-anchor=\"middle\" x=\"8570.62\" y=\"-241.45\" font-family=\"Helvetica,sans-Serif\" font-size=\"14.00\">squared_error = 14685.7</text>\n",
              "<text text-anchor=\"middle\" x=\"8570.62\" y=\"-225.7\" font-family=\"Helvetica,sans-Serif\" font-size=\"14.00\">samples = 7</text>\n",
              "<text text-anchor=\"middle\" x=\"8570.62\" y=\"-209.95\" font-family=\"Helvetica,sans-Serif\" font-size=\"14.00\">value = 615.931</text>\n",
              "</g>\n",
              "<!-- 93&#45;&gt;101 -->\n",
              "<g id=\"edge101\" class=\"edge\">\n",
              "<title>93&#45;&gt;101</title>\n",
              "<path fill=\"none\" stroke=\"black\" d=\"M8501.17,-315.55C8509.55,-306.75 8518.58,-297.27 8527.26,-288.15\"/>\n",
              "<polygon fill=\"black\" stroke=\"black\" points=\"8529.71,-290.66 8534.07,-281.01 8524.64,-285.84 8529.71,-290.66\"/>\n",
              "</g>\n",
              "<!-- 95 -->\n",
              "<g id=\"node96\" class=\"node\">\n",
              "<title>95</title>\n",
              "<polygon fill=\"#fbede3\" stroke=\"black\" points=\"8265,-167.5 8092.25,-167.5 8092.25,-91.25 8265,-91.25 8265,-167.5\"/>\n",
              "<text text-anchor=\"middle\" x=\"8178.62\" y=\"-150.2\" font-family=\"Helvetica,sans-Serif\" font-size=\"14.00\">총매출액 &lt;= 5539245.0</text>\n",
              "<text text-anchor=\"middle\" x=\"8178.62\" y=\"-129.2\" font-family=\"Helvetica,sans-Serif\" font-size=\"14.00\">squared_error = 8545.689</text>\n",
              "<text text-anchor=\"middle\" x=\"8178.62\" y=\"-113.45\" font-family=\"Helvetica,sans-Serif\" font-size=\"14.00\">samples = 12</text>\n",
              "<text text-anchor=\"middle\" x=\"8178.62\" y=\"-97.7\" font-family=\"Helvetica,sans-Serif\" font-size=\"14.00\">value = 230.462</text>\n",
              "</g>\n",
              "<!-- 94&#45;&gt;95 -->\n",
              "<g id=\"edge95\" class=\"edge\">\n",
              "<title>94&#45;&gt;95</title>\n",
              "<path fill=\"none\" stroke=\"black\" d=\"M8307.33,-203.15C8290.38,-193.56 8272.02,-183.18 8254.62,-173.34\"/>\n",
              "<polygon fill=\"black\" stroke=\"black\" points=\"8256.81,-170.56 8246.38,-168.68 8253.36,-176.65 8256.81,-170.56\"/>\n",
              "</g>\n",
              "<!-- 98 -->\n",
              "<g id=\"node99\" class=\"node\">\n",
              "<title>98</title>\n",
              "<polygon fill=\"#f9e1d0\" stroke=\"black\" points=\"8460,-167.5 8287.25,-167.5 8287.25,-91.25 8460,-91.25 8460,-167.5\"/>\n",
              "<text text-anchor=\"middle\" x=\"8373.62\" y=\"-150.2\" font-family=\"Helvetica,sans-Serif\" font-size=\"14.00\">총 할인 금액 &lt;= 344872.5</text>\n",
              "<text text-anchor=\"middle\" x=\"8373.62\" y=\"-129.2\" font-family=\"Helvetica,sans-Serif\" font-size=\"14.00\">squared_error = 9515.479</text>\n",
              "<text text-anchor=\"middle\" x=\"8373.62\" y=\"-113.45\" font-family=\"Helvetica,sans-Serif\" font-size=\"14.00\">samples = 18</text>\n",
              "<text text-anchor=\"middle\" x=\"8373.62\" y=\"-97.7\" font-family=\"Helvetica,sans-Serif\" font-size=\"14.00\">value = 376.635</text>\n",
              "</g>\n",
              "<!-- 94&#45;&gt;98 -->\n",
              "<g id=\"edge98\" class=\"edge\">\n",
              "<title>94&#45;&gt;98</title>\n",
              "<path fill=\"none\" stroke=\"black\" d=\"M8373.62,-203.3C8373.62,-195.49 8373.62,-187.14 8373.62,-178.99\"/>\n",
              "<polygon fill=\"black\" stroke=\"black\" points=\"8377.13,-179.18 8373.63,-169.18 8370.13,-179.18 8377.13,-179.18\"/>\n",
              "</g>\n",
              "<!-- 96 -->\n",
              "<g id=\"node97\" class=\"node\">\n",
              "<title>96</title>\n",
              "<polygon fill=\"#fae5d7\" stroke=\"black\" points=\"8074.62,-55.25 7902.62,-55.25 7902.62,0 8074.62,0 8074.62,-55.25\"/>\n",
              "<text text-anchor=\"middle\" x=\"7988.62\" y=\"-37.95\" font-family=\"Helvetica,sans-Serif\" font-size=\"14.00\">squared_error = 4311.255</text>\n",
              "<text text-anchor=\"middle\" x=\"7988.62\" y=\"-22.2\" font-family=\"Helvetica,sans-Serif\" font-size=\"14.00\">samples = 4</text>\n",
              "<text text-anchor=\"middle\" x=\"7988.62\" y=\"-6.45\" font-family=\"Helvetica,sans-Serif\" font-size=\"14.00\">value = 325.409</text>\n",
              "</g>\n",
              "<!-- 95&#45;&gt;96 -->\n",
              "<g id=\"edge96\" class=\"edge\">\n",
              "<title>95&#45;&gt;96</title>\n",
              "<path fill=\"none\" stroke=\"black\" d=\"M8107.06,-90.81C8088.42,-81.02 8068.5,-70.56 8050.41,-61.06\"/>\n",
              "<polygon fill=\"black\" stroke=\"black\" points=\"8052.11,-58 8041.63,-56.45 8048.85,-64.2 8052.11,-58\"/>\n",
              "</g>\n",
              "<!-- 97 -->\n",
              "<g id=\"node98\" class=\"node\">\n",
              "<title>97</title>\n",
              "<polygon fill=\"#fcf1e9\" stroke=\"black\" points=\"8265,-55.25 8092.25,-55.25 8092.25,0 8265,0 8265,-55.25\"/>\n",
              "<text text-anchor=\"middle\" x=\"8178.62\" y=\"-37.95\" font-family=\"Helvetica,sans-Serif\" font-size=\"14.00\">squared_error = 3901.691</text>\n",
              "<text text-anchor=\"middle\" x=\"8178.62\" y=\"-22.2\" font-family=\"Helvetica,sans-Serif\" font-size=\"14.00\">samples = 8</text>\n",
              "<text text-anchor=\"middle\" x=\"8178.62\" y=\"-6.45\" font-family=\"Helvetica,sans-Serif\" font-size=\"14.00\">value = 182.988</text>\n",
              "</g>\n",
              "<!-- 95&#45;&gt;97 -->\n",
              "<g id=\"edge97\" class=\"edge\">\n",
              "<title>95&#45;&gt;97</title>\n",
              "<path fill=\"none\" stroke=\"black\" d=\"M8178.62,-90.95C8178.62,-83.17 8178.62,-74.95 8178.62,-67.13\"/>\n",
              "<polygon fill=\"black\" stroke=\"black\" points=\"8182.13,-67.18 8178.63,-57.18 8175.13,-67.18 8182.13,-67.18\"/>\n",
              "</g>\n",
              "<!-- 99 -->\n",
              "<g id=\"node100\" class=\"node\">\n",
              "<title>99</title>\n",
              "<polygon fill=\"#f8dcc7\" stroke=\"black\" points=\"8456,-55.25 8283.25,-55.25 8283.25,0 8456,0 8456,-55.25\"/>\n",
              "<text text-anchor=\"middle\" x=\"8369.62\" y=\"-37.95\" font-family=\"Helvetica,sans-Serif\" font-size=\"14.00\">squared_error = 4729.099</text>\n",
              "<text text-anchor=\"middle\" x=\"8369.62\" y=\"-22.2\" font-family=\"Helvetica,sans-Serif\" font-size=\"14.00\">samples = 8</text>\n",
              "<text text-anchor=\"middle\" x=\"8369.62\" y=\"-6.45\" font-family=\"Helvetica,sans-Serif\" font-size=\"14.00\">value = 441.305</text>\n",
              "</g>\n",
              "<!-- 98&#45;&gt;99 -->\n",
              "<g id=\"edge99\" class=\"edge\">\n",
              "<title>98&#45;&gt;99</title>\n",
              "<path fill=\"none\" stroke=\"black\" d=\"M8372.12,-90.95C8371.81,-83.17 8371.48,-74.95 8371.17,-67.13\"/>\n",
              "<polygon fill=\"black\" stroke=\"black\" points=\"8374.67,-67.03 8370.77,-57.18 8367.67,-67.31 8374.67,-67.03\"/>\n",
              "</g>\n",
              "<!-- 100 -->\n",
              "<g id=\"node101\" class=\"node\">\n",
              "<title>100</title>\n",
              "<polygon fill=\"#fae5d7\" stroke=\"black\" points=\"8647,-55.25 8474.25,-55.25 8474.25,0 8647,0 8647,-55.25\"/>\n",
              "<text text-anchor=\"middle\" x=\"8560.62\" y=\"-37.95\" font-family=\"Helvetica,sans-Serif\" font-size=\"14.00\">squared_error = 7322.103</text>\n",
              "<text text-anchor=\"middle\" x=\"8560.62\" y=\"-22.2\" font-family=\"Helvetica,sans-Serif\" font-size=\"14.00\">samples = 10</text>\n",
              "<text text-anchor=\"middle\" x=\"8560.62\" y=\"-6.45\" font-family=\"Helvetica,sans-Serif\" font-size=\"14.00\">value = 324.898</text>\n",
              "</g>\n",
              "<!-- 98&#45;&gt;100 -->\n",
              "<g id=\"edge100\" class=\"edge\">\n",
              "<title>98&#45;&gt;100</title>\n",
              "<path fill=\"none\" stroke=\"black\" d=\"M8444.06,-90.81C8462.49,-80.97 8482.2,-70.46 8500.06,-60.93\"/>\n",
              "<polygon fill=\"black\" stroke=\"black\" points=\"8501.27,-64.25 8508.45,-56.46 8497.97,-58.08 8501.27,-64.25\"/>\n",
              "</g>\n",
              "<!-- 102 -->\n",
              "<g id=\"node103\" class=\"node\">\n",
              "<title>102</title>\n",
              "<polygon fill=\"#f9e4d4\" stroke=\"black\" points=\"8638.25,-157 8503,-157 8503,-101.75 8638.25,-101.75 8638.25,-157\"/>\n",
              "<text text-anchor=\"middle\" x=\"8570.62\" y=\"-139.7\" font-family=\"Helvetica,sans-Serif\" font-size=\"14.00\">squared_error = 0.0</text>\n",
              "<text text-anchor=\"middle\" x=\"8570.62\" y=\"-123.95\" font-family=\"Helvetica,sans-Serif\" font-size=\"14.00\">samples = 1</text>\n",
              "<text text-anchor=\"middle\" x=\"8570.62\" y=\"-108.2\" font-family=\"Helvetica,sans-Serif\" font-size=\"14.00\">value = 341.4</text>\n",
              "</g>\n",
              "<!-- 101&#45;&gt;102 -->\n",
              "<g id=\"edge102\" class=\"edge\">\n",
              "<title>101&#45;&gt;102</title>\n",
              "<path fill=\"none\" stroke=\"black\" d=\"M8570.62,-203.3C8570.62,-192.08 8570.62,-179.76 8570.62,-168.49\"/>\n",
              "<polygon fill=\"black\" stroke=\"black\" points=\"8574.13,-168.73 8570.63,-158.73 8567.13,-168.73 8574.13,-168.73\"/>\n",
              "</g>\n",
              "<!-- 103 -->\n",
              "<g id=\"node104\" class=\"node\">\n",
              "<title>103</title>\n",
              "<polygon fill=\"#f4c9ab\" stroke=\"black\" points=\"8838,-167.5 8665.25,-167.5 8665.25,-91.25 8838,-91.25 8838,-167.5\"/>\n",
              "<text text-anchor=\"middle\" x=\"8751.62\" y=\"-150.2\" font-family=\"Helvetica,sans-Serif\" font-size=\"14.00\">할인권 사용 횟수 &lt;= 24.5</text>\n",
              "<text text-anchor=\"middle\" x=\"8751.62\" y=\"-129.2\" font-family=\"Helvetica,sans-Serif\" font-size=\"14.00\">squared_error = 2478.539</text>\n",
              "<text text-anchor=\"middle\" x=\"8751.62\" y=\"-113.45\" font-family=\"Helvetica,sans-Serif\" font-size=\"14.00\">samples = 6</text>\n",
              "<text text-anchor=\"middle\" x=\"8751.62\" y=\"-97.7\" font-family=\"Helvetica,sans-Serif\" font-size=\"14.00\">value = 661.687</text>\n",
              "</g>\n",
              "<!-- 101&#45;&gt;103 -->\n",
              "<g id=\"edge103\" class=\"edge\">\n",
              "<title>101&#45;&gt;103</title>\n",
              "<path fill=\"none\" stroke=\"black\" d=\"M8632.16,-203.15C8647.6,-193.74 8664.31,-183.56 8680.19,-173.89\"/>\n",
              "<polygon fill=\"black\" stroke=\"black\" points=\"8681.94,-176.92 8688.66,-168.73 8678.3,-170.94 8681.94,-176.92\"/>\n",
              "</g>\n",
              "<!-- 104 -->\n",
              "<g id=\"node105\" class=\"node\">\n",
              "<title>104</title>\n",
              "<polygon fill=\"#f4c7a8\" stroke=\"black\" points=\"8838,-55.25 8665.25,-55.25 8665.25,0 8838,0 8838,-55.25\"/>\n",
              "<text text-anchor=\"middle\" x=\"8751.62\" y=\"-37.95\" font-family=\"Helvetica,sans-Serif\" font-size=\"14.00\">squared_error = 2208.555</text>\n",
              "<text text-anchor=\"middle\" x=\"8751.62\" y=\"-22.2\" font-family=\"Helvetica,sans-Serif\" font-size=\"14.00\">samples = 4</text>\n",
              "<text text-anchor=\"middle\" x=\"8751.62\" y=\"-6.45\" font-family=\"Helvetica,sans-Serif\" font-size=\"14.00\">value = 684.101</text>\n",
              "</g>\n",
              "<!-- 103&#45;&gt;104 -->\n",
              "<g id=\"edge104\" class=\"edge\">\n",
              "<title>103&#45;&gt;104</title>\n",
              "<path fill=\"none\" stroke=\"black\" d=\"M8751.62,-90.95C8751.62,-83.17 8751.62,-74.95 8751.62,-67.13\"/>\n",
              "<polygon fill=\"black\" stroke=\"black\" points=\"8755.13,-67.18 8751.63,-57.18 8748.13,-67.18 8755.13,-67.18\"/>\n",
              "</g>\n",
              "<!-- 105 -->\n",
              "<g id=\"node106\" class=\"node\">\n",
              "<title>105</title>\n",
              "<polygon fill=\"#f5cdb0\" stroke=\"black\" points=\"8991.25,-55.25 8856,-55.25 8856,0 8991.25,0 8991.25,-55.25\"/>\n",
              "<text text-anchor=\"middle\" x=\"8923.62\" y=\"-37.95\" font-family=\"Helvetica,sans-Serif\" font-size=\"14.00\">squared_error = 4.0</text>\n",
              "<text text-anchor=\"middle\" x=\"8923.62\" y=\"-22.2\" font-family=\"Helvetica,sans-Serif\" font-size=\"14.00\">samples = 2</text>\n",
              "<text text-anchor=\"middle\" x=\"8923.62\" y=\"-6.45\" font-family=\"Helvetica,sans-Serif\" font-size=\"14.00\">value = 616.857</text>\n",
              "</g>\n",
              "<!-- 103&#45;&gt;105 -->\n",
              "<g id=\"edge105\" class=\"edge\">\n",
              "<title>103&#45;&gt;105</title>\n",
              "<path fill=\"none\" stroke=\"black\" d=\"M8816.16,-90.95C8832.9,-81.24 8850.79,-70.87 8867.08,-61.42\"/>\n",
              "<polygon fill=\"black\" stroke=\"black\" points=\"8868.79,-64.47 8875.68,-56.43 8865.28,-58.42 8868.79,-64.47\"/>\n",
              "</g>\n",
              "<!-- 107 -->\n",
              "<g id=\"node108\" class=\"node\">\n",
              "<title>107</title>\n",
              "<polygon fill=\"#fbede3\" stroke=\"black\" points=\"9430,-279.75 9257.25,-279.75 9257.25,-203.5 9430,-203.5 9430,-279.75\"/>\n",
              "<text text-anchor=\"middle\" x=\"9343.62\" y=\"-262.45\" font-family=\"Helvetica,sans-Serif\" font-size=\"14.00\">구매유형 &lt;= 2.5</text>\n",
              "<text text-anchor=\"middle\" x=\"9343.62\" y=\"-241.45\" font-family=\"Helvetica,sans-Serif\" font-size=\"14.00\">squared_error = 3269.366</text>\n",
              "<text text-anchor=\"middle\" x=\"9343.62\" y=\"-225.7\" font-family=\"Helvetica,sans-Serif\" font-size=\"14.00\">samples = 9</text>\n",
              "<text text-anchor=\"middle\" x=\"9343.62\" y=\"-209.95\" font-family=\"Helvetica,sans-Serif\" font-size=\"14.00\">value = 230.0</text>\n",
              "</g>\n",
              "<!-- 106&#45;&gt;107 -->\n",
              "<g id=\"edge107\" class=\"edge\">\n",
              "<title>106&#45;&gt;107</title>\n",
              "<path fill=\"none\" stroke=\"black\" d=\"M9343.62,-315.55C9343.62,-307.74 9343.62,-299.39 9343.62,-291.24\"/>\n",
              "<polygon fill=\"black\" stroke=\"black\" points=\"9347.13,-291.43 9343.63,-281.43 9340.13,-291.43 9347.13,-291.43\"/>\n",
              "</g>\n",
              "<!-- 114 -->\n",
              "<g id=\"node115\" class=\"node\">\n",
              "<title>114</title>\n",
              "<polygon fill=\"#fdf6f0\" stroke=\"black\" points=\"9931,-279.75 9758.25,-279.75 9758.25,-203.5 9931,-203.5 9931,-279.75\"/>\n",
              "<text text-anchor=\"middle\" x=\"9844.62\" y=\"-262.45\" font-family=\"Helvetica,sans-Serif\" font-size=\"14.00\">총매출액 &lt;= 25984160.0</text>\n",
              "<text text-anchor=\"middle\" x=\"9844.62\" y=\"-241.45\" font-family=\"Helvetica,sans-Serif\" font-size=\"14.00\">squared_error = 2778.092</text>\n",
              "<text text-anchor=\"middle\" x=\"9844.62\" y=\"-225.7\" font-family=\"Helvetica,sans-Serif\" font-size=\"14.00\">samples = 26</text>\n",
              "<text text-anchor=\"middle\" x=\"9844.62\" y=\"-209.95\" font-family=\"Helvetica,sans-Serif\" font-size=\"14.00\">value = 128.179</text>\n",
              "</g>\n",
              "<!-- 106&#45;&gt;114 -->\n",
              "<g id=\"edge114\" class=\"edge\">\n",
              "<title>106&#45;&gt;114</title>\n",
              "<path fill=\"none\" stroke=\"black\" d=\"M9430.32,-333.8C9518.59,-314.37 9655.19,-284.31 9747.16,-264.07\"/>\n",
              "<polygon fill=\"black\" stroke=\"black\" points=\"9747.66,-267.55 9756.67,-261.98 9746.16,-260.71 9747.66,-267.55\"/>\n",
              "</g>\n",
              "<!-- 108 -->\n",
              "<g id=\"node109\" class=\"node\">\n",
              "<title>108</title>\n",
              "<polygon fill=\"#fbebe0\" stroke=\"black\" points=\"9337.25,-167.5 9154,-167.5 9154,-91.25 9337.25,-91.25 9337.25,-167.5\"/>\n",
              "<text text-anchor=\"middle\" x=\"9245.62\" y=\"-150.2\" font-family=\"Helvetica,sans-Serif\" font-size=\"14.00\">1회 평균매출액 &lt;= 830967.5</text>\n",
              "<text text-anchor=\"middle\" x=\"9245.62\" y=\"-129.2\" font-family=\"Helvetica,sans-Serif\" font-size=\"14.00\">squared_error = 728.177</text>\n",
              "<text text-anchor=\"middle\" x=\"9245.62\" y=\"-113.45\" font-family=\"Helvetica,sans-Serif\" font-size=\"14.00\">samples = 6</text>\n",
              "<text text-anchor=\"middle\" x=\"9245.62\" y=\"-97.7\" font-family=\"Helvetica,sans-Serif\" font-size=\"14.00\">value = 255.734</text>\n",
              "</g>\n",
              "<!-- 107&#45;&gt;108 -->\n",
              "<g id=\"edge108\" class=\"edge\">\n",
              "<title>107&#45;&gt;108</title>\n",
              "<path fill=\"none\" stroke=\"black\" d=\"M9310.45,-203.3C9302.7,-194.59 9294.37,-185.21 9286.34,-176.18\"/>\n",
              "<polygon fill=\"black\" stroke=\"black\" points=\"9289.03,-173.94 9279.77,-168.79 9283.8,-178.59 9289.03,-173.94\"/>\n",
              "</g>\n",
              "<!-- 111 -->\n",
              "<g id=\"node112\" class=\"node\">\n",
              "<title>111</title>\n",
              "<polygon fill=\"#fcf2ea\" stroke=\"black\" points=\"9528,-167.5 9355.25,-167.5 9355.25,-91.25 9528,-91.25 9528,-167.5\"/>\n",
              "<text text-anchor=\"middle\" x=\"9441.62\" y=\"-150.2\" font-family=\"Helvetica,sans-Serif\" font-size=\"14.00\">총매출액 &lt;= 15029905.0</text>\n",
              "<text text-anchor=\"middle\" x=\"9441.62\" y=\"-129.2\" font-family=\"Helvetica,sans-Serif\" font-size=\"14.00\">squared_error = 4378.195</text>\n",
              "<text text-anchor=\"middle\" x=\"9441.62\" y=\"-113.45\" font-family=\"Helvetica,sans-Serif\" font-size=\"14.00\">samples = 3</text>\n",
              "<text text-anchor=\"middle\" x=\"9441.62\" y=\"-97.7\" font-family=\"Helvetica,sans-Serif\" font-size=\"14.00\">value = 178.531</text>\n",
              "</g>\n",
              "<!-- 107&#45;&gt;111 -->\n",
              "<g id=\"edge111\" class=\"edge\">\n",
              "<title>107&#45;&gt;111</title>\n",
              "<path fill=\"none\" stroke=\"black\" d=\"M9376.8,-203.3C9384.55,-194.59 9392.88,-185.21 9400.91,-176.18\"/>\n",
              "<polygon fill=\"black\" stroke=\"black\" points=\"9403.45,-178.59 9407.48,-168.79 9398.22,-173.94 9403.45,-178.59\"/>\n",
              "</g>\n",
              "<!-- 109 -->\n",
              "<g id=\"node110\" class=\"node\">\n",
              "<title>109</title>\n",
              "<polygon fill=\"#fbece1\" stroke=\"black\" points=\"9174.25,-55.25 9009,-55.25 9009,0 9174.25,0 9174.25,-55.25\"/>\n",
              "<text text-anchor=\"middle\" x=\"9091.62\" y=\"-37.95\" font-family=\"Helvetica,sans-Serif\" font-size=\"14.00\">squared_error = 465.123</text>\n",
              "<text text-anchor=\"middle\" x=\"9091.62\" y=\"-22.2\" font-family=\"Helvetica,sans-Serif\" font-size=\"14.00\">samples = 5</text>\n",
              "<text text-anchor=\"middle\" x=\"9091.62\" y=\"-6.45\" font-family=\"Helvetica,sans-Serif\" font-size=\"14.00\">value = 247.481</text>\n",
              "</g>\n",
              "<!-- 108&#45;&gt;109 -->\n",
              "<g id=\"edge109\" class=\"edge\">\n",
              "<title>108&#45;&gt;109</title>\n",
              "<path fill=\"none\" stroke=\"black\" d=\"M9187.84,-90.95C9173,-81.33 9157.14,-71.06 9142.67,-61.69\"/>\n",
              "<polygon fill=\"black\" stroke=\"black\" points=\"9144.95,-58.99 9134.65,-56.49 9141.14,-64.87 9144.95,-58.99\"/>\n",
              "</g>\n",
              "<!-- 110 -->\n",
              "<g id=\"node111\" class=\"node\">\n",
              "<title>110</title>\n",
              "<polygon fill=\"#fae8da\" stroke=\"black\" points=\"9327.25,-55.25 9192,-55.25 9192,0 9327.25,0 9327.25,-55.25\"/>\n",
              "<text text-anchor=\"middle\" x=\"9259.62\" y=\"-37.95\" font-family=\"Helvetica,sans-Serif\" font-size=\"14.00\">squared_error = 0.0</text>\n",
              "<text text-anchor=\"middle\" x=\"9259.62\" y=\"-22.2\" font-family=\"Helvetica,sans-Serif\" font-size=\"14.00\">samples = 1</text>\n",
              "<text text-anchor=\"middle\" x=\"9259.62\" y=\"-6.45\" font-family=\"Helvetica,sans-Serif\" font-size=\"14.00\">value = 297.0</text>\n",
              "</g>\n",
              "<!-- 108&#45;&gt;110 -->\n",
              "<g id=\"edge110\" class=\"edge\">\n",
              "<title>108&#45;&gt;110</title>\n",
              "<path fill=\"none\" stroke=\"black\" d=\"M9250.88,-90.95C9251.98,-83.07 9253.15,-74.76 9254.26,-66.85\"/>\n",
              "<polygon fill=\"black\" stroke=\"black\" points=\"9257.69,-67.56 9255.62,-57.17 9250.76,-66.59 9257.69,-67.56\"/>\n",
              "</g>\n",
              "<!-- 112 -->\n",
              "<g id=\"node113\" class=\"node\">\n",
              "<title>112</title>\n",
              "<polygon fill=\"#fdf5f0\" stroke=\"black\" points=\"9510.25,-55.25 9345,-55.25 9345,0 9510.25,0 9510.25,-55.25\"/>\n",
              "<text text-anchor=\"middle\" x=\"9427.62\" y=\"-37.95\" font-family=\"Helvetica,sans-Serif\" font-size=\"14.00\">squared_error = 108.087</text>\n",
              "<text text-anchor=\"middle\" x=\"9427.62\" y=\"-22.2\" font-family=\"Helvetica,sans-Serif\" font-size=\"14.00\">samples = 2</text>\n",
              "<text text-anchor=\"middle\" x=\"9427.62\" y=\"-6.45\" font-family=\"Helvetica,sans-Serif\" font-size=\"14.00\">value = 132.13</text>\n",
              "</g>\n",
              "<!-- 111&#45;&gt;112 -->\n",
              "<g id=\"edge112\" class=\"edge\">\n",
              "<title>111&#45;&gt;112</title>\n",
              "<path fill=\"none\" stroke=\"black\" d=\"M9436.37,-90.95C9435.27,-83.07 9434.1,-74.76 9432.99,-66.85\"/>\n",
              "<polygon fill=\"black\" stroke=\"black\" points=\"9436.49,-66.59 9431.63,-57.17 9429.56,-67.56 9436.49,-66.59\"/>\n",
              "</g>\n",
              "<!-- 113 -->\n",
              "<g id=\"node114\" class=\"node\">\n",
              "<title>113</title>\n",
              "<polygon fill=\"#fbeade\" stroke=\"black\" points=\"9663.25,-55.25 9528,-55.25 9528,0 9663.25,0 9663.25,-55.25\"/>\n",
              "<text text-anchor=\"middle\" x=\"9595.62\" y=\"-37.95\" font-family=\"Helvetica,sans-Serif\" font-size=\"14.00\">squared_error = 0.0</text>\n",
              "<text text-anchor=\"middle\" x=\"9595.62\" y=\"-22.2\" font-family=\"Helvetica,sans-Serif\" font-size=\"14.00\">samples = 1</text>\n",
              "<text text-anchor=\"middle\" x=\"9595.62\" y=\"-6.45\" font-family=\"Helvetica,sans-Serif\" font-size=\"14.00\">value = 271.333</text>\n",
              "</g>\n",
              "<!-- 111&#45;&gt;113 -->\n",
              "<g id=\"edge113\" class=\"edge\">\n",
              "<title>111&#45;&gt;113</title>\n",
              "<path fill=\"none\" stroke=\"black\" d=\"M9499.41,-90.95C9514.25,-81.33 9530.11,-71.06 9544.58,-61.69\"/>\n",
              "<polygon fill=\"black\" stroke=\"black\" points=\"9546.11,-64.87 9552.6,-56.49 9542.3,-58.99 9546.11,-64.87\"/>\n",
              "</g>\n",
              "<!-- 115 -->\n",
              "<g id=\"node116\" class=\"node\">\n",
              "<title>115</title>\n",
              "<polygon fill=\"#fdf4ee\" stroke=\"black\" points=\"9925.75,-167.5 9763.5,-167.5 9763.5,-91.25 9925.75,-91.25 9925.75,-167.5\"/>\n",
              "<text text-anchor=\"middle\" x=\"9844.62\" y=\"-150.2\" font-family=\"Helvetica,sans-Serif\" font-size=\"14.00\">총매출액 &lt;= 10682450.0</text>\n",
              "<text text-anchor=\"middle\" x=\"9844.62\" y=\"-129.2\" font-family=\"Helvetica,sans-Serif\" font-size=\"14.00\">squared_error = 1648.0</text>\n",
              "<text text-anchor=\"middle\" x=\"9844.62\" y=\"-113.45\" font-family=\"Helvetica,sans-Serif\" font-size=\"14.00\">samples = 20</text>\n",
              "<text text-anchor=\"middle\" x=\"9844.62\" y=\"-97.7\" font-family=\"Helvetica,sans-Serif\" font-size=\"14.00\">value = 149.108</text>\n",
              "</g>\n",
              "<!-- 114&#45;&gt;115 -->\n",
              "<g id=\"edge115\" class=\"edge\">\n",
              "<title>114&#45;&gt;115</title>\n",
              "<path fill=\"none\" stroke=\"black\" d=\"M9844.62,-203.3C9844.62,-195.49 9844.62,-187.14 9844.62,-178.99\"/>\n",
              "<polygon fill=\"black\" stroke=\"black\" points=\"9848.13,-179.18 9844.63,-169.18 9841.13,-179.18 9848.13,-179.18\"/>\n",
              "</g>\n",
              "<!-- 118 -->\n",
              "<g id=\"node119\" class=\"node\">\n",
              "<title>118</title>\n",
              "<polygon fill=\"#fefcfa\" stroke=\"black\" points=\"10191.25,-167.5 10026,-167.5 10026,-91.25 10191.25,-91.25 10191.25,-167.5\"/>\n",
              "<text text-anchor=\"middle\" x=\"10108.62\" y=\"-150.2\" font-family=\"Helvetica,sans-Serif\" font-size=\"14.00\">구매카테고리수 &lt;= 6.0</text>\n",
              "<text text-anchor=\"middle\" x=\"10108.62\" y=\"-129.2\" font-family=\"Helvetica,sans-Serif\" font-size=\"14.00\">squared_error = 217.714</text>\n",
              "<text text-anchor=\"middle\" x=\"10108.62\" y=\"-113.45\" font-family=\"Helvetica,sans-Serif\" font-size=\"14.00\">samples = 6</text>\n",
              "<text text-anchor=\"middle\" x=\"10108.62\" y=\"-97.7\" font-family=\"Helvetica,sans-Serif\" font-size=\"14.00\">value = 58.413</text>\n",
              "</g>\n",
              "<!-- 114&#45;&gt;118 -->\n",
              "<g id=\"edge118\" class=\"edge\">\n",
              "<title>114&#45;&gt;118</title>\n",
              "<path fill=\"none\" stroke=\"black\" d=\"M9931.43,-204.37C9958.35,-193.13 9988.12,-180.7 10015.45,-169.28\"/>\n",
              "<polygon fill=\"black\" stroke=\"black\" points=\"10016.52,-172.63 10024.4,-165.55 10013.83,-166.17 10016.52,-172.63\"/>\n",
              "</g>\n",
              "<!-- 116 -->\n",
              "<g id=\"node117\" class=\"node\">\n",
              "<title>116</title>\n",
              "<polygon fill=\"#fcf1e8\" stroke=\"black\" points=\"9846.25,-55.25 9681,-55.25 9681,0 9846.25,0 9846.25,-55.25\"/>\n",
              "<text text-anchor=\"middle\" x=\"9763.62\" y=\"-37.95\" font-family=\"Helvetica,sans-Serif\" font-size=\"14.00\">squared_error = 142.291</text>\n",
              "<text text-anchor=\"middle\" x=\"9763.62\" y=\"-22.2\" font-family=\"Helvetica,sans-Serif\" font-size=\"14.00\">samples = 5</text>\n",
              "<text text-anchor=\"middle\" x=\"9763.62\" y=\"-6.45\" font-family=\"Helvetica,sans-Serif\" font-size=\"14.00\">value = 189.472</text>\n",
              "</g>\n",
              "<!-- 115&#45;&gt;116 -->\n",
              "<g id=\"edge116\" class=\"edge\">\n",
              "<title>115&#45;&gt;116</title>\n",
              "<path fill=\"none\" stroke=\"black\" d=\"M9814.23,-90.95C9807.17,-82.25 9799.67,-73.01 9792.67,-64.39\"/>\n",
              "<polygon fill=\"black\" stroke=\"black\" points=\"9795.56,-62.4 9786.54,-56.85 9790.13,-66.81 9795.56,-62.4\"/>\n",
              "</g>\n",
              "<!-- 117 -->\n",
              "<g id=\"node118\" class=\"node\">\n",
              "<title>117</title>\n",
              "<polygon fill=\"#fdf5ef\" stroke=\"black\" points=\"10022.5,-55.25 9864.75,-55.25 9864.75,0 10022.5,0 10022.5,-55.25\"/>\n",
              "<text text-anchor=\"middle\" x=\"9943.62\" y=\"-37.95\" font-family=\"Helvetica,sans-Serif\" font-size=\"14.00\">squared_error = 1425.8</text>\n",
              "<text text-anchor=\"middle\" x=\"9943.62\" y=\"-22.2\" font-family=\"Helvetica,sans-Serif\" font-size=\"14.00\">samples = 15</text>\n",
              "<text text-anchor=\"middle\" x=\"9943.62\" y=\"-6.45\" font-family=\"Helvetica,sans-Serif\" font-size=\"14.00\">value = 135.654</text>\n",
              "</g>\n",
              "<!-- 115&#45;&gt;117 -->\n",
              "<g id=\"edge117\" class=\"edge\">\n",
              "<title>115&#45;&gt;117</title>\n",
              "<path fill=\"none\" stroke=\"black\" d=\"M9881.77,-90.95C9890.68,-81.97 9900.15,-72.43 9908.94,-63.57\"/>\n",
              "<polygon fill=\"black\" stroke=\"black\" points=\"9911.16,-66.31 9915.72,-56.74 9906.19,-61.38 9911.16,-66.31\"/>\n",
              "</g>\n",
              "<!-- 119 -->\n",
              "<g id=\"node120\" class=\"node\">\n",
              "<title>119</title>\n",
              "<polygon fill=\"#fef9f6\" stroke=\"black\" points=\"10176.25,-55.25 10041,-55.25 10041,0 10176.25,0 10176.25,-55.25\"/>\n",
              "<text text-anchor=\"middle\" x=\"10108.62\" y=\"-37.95\" font-family=\"Helvetica,sans-Serif\" font-size=\"14.00\">squared_error = 0.0</text>\n",
              "<text text-anchor=\"middle\" x=\"10108.62\" y=\"-22.2\" font-family=\"Helvetica,sans-Serif\" font-size=\"14.00\">samples = 1</text>\n",
              "<text text-anchor=\"middle\" x=\"10108.62\" y=\"-6.45\" font-family=\"Helvetica,sans-Serif\" font-size=\"14.00\">value = 87.612</text>\n",
              "</g>\n",
              "<!-- 118&#45;&gt;119 -->\n",
              "<g id=\"edge119\" class=\"edge\">\n",
              "<title>118&#45;&gt;119</title>\n",
              "<path fill=\"none\" stroke=\"black\" d=\"M10108.62,-90.95C10108.62,-83.17 10108.62,-74.95 10108.62,-67.13\"/>\n",
              "<polygon fill=\"black\" stroke=\"black\" points=\"10112.13,-67.18 10108.63,-57.18 10105.13,-67.18 10112.13,-67.18\"/>\n",
              "</g>\n",
              "<!-- 120 -->\n",
              "<g id=\"node121\" class=\"node\">\n",
              "<title>120</title>\n",
              "<polygon fill=\"#fefcfa\" stroke=\"black\" points=\"10352.5,-55.25 10194.75,-55.25 10194.75,0 10352.5,0 10352.5,-55.25\"/>\n",
              "<text text-anchor=\"middle\" x=\"10273.62\" y=\"-37.95\" font-family=\"Helvetica,sans-Serif\" font-size=\"14.00\">squared_error = 56.638</text>\n",
              "<text text-anchor=\"middle\" x=\"10273.62\" y=\"-22.2\" font-family=\"Helvetica,sans-Serif\" font-size=\"14.00\">samples = 5</text>\n",
              "<text text-anchor=\"middle\" x=\"10273.62\" y=\"-6.45\" font-family=\"Helvetica,sans-Serif\" font-size=\"14.00\">value = 52.574</text>\n",
              "</g>\n",
              "<!-- 118&#45;&gt;120 -->\n",
              "<g id=\"edge120\" class=\"edge\">\n",
              "<title>118&#45;&gt;120</title>\n",
              "<path fill=\"none\" stroke=\"black\" d=\"M10170.53,-90.95C10186.59,-81.24 10203.75,-70.87 10219.38,-61.42\"/>\n",
              "<polygon fill=\"black\" stroke=\"black\" points=\"10220.85,-64.62 10227.59,-56.45 10217.22,-58.63 10220.85,-64.62\"/>\n",
              "</g>\n",
              "</g>\n",
              "</svg>\n"
            ],
            "text/plain": [
              "<graphviz.sources.Source at 0x7fbc44770520>"
            ]
          },
          "execution_count": 21,
          "metadata": {},
          "output_type": "execute_result"
        }
      ],
      "source": [
        "#1. 모듈 및 함수 불러오기\n",
        "from sklearn.tree import export_graphviz\n",
        "import graphviz\n",
        "\n",
        "#2. tree.dot 파일 생성\n",
        "export_graphviz(model, out_file='tree.dot',feature_names=feature_name, impurity=True, filled=True)\n",
        "\n",
        "#3. tree.dot 파일 읽기\n",
        "with open('tree.dot', encoding = 'utf-8') as f:\n",
        "    dot_graph = f.read()\n",
        "graphviz.Source(dot_graph)"
      ]
    },
    {
      "cell_type": "markdown",
      "metadata": {
        "id": "12WPxkMVlYPW"
      },
      "source": [
        "## (3) 모형 성능 비교"
      ]
    },
    {
      "cell_type": "markdown",
      "metadata": {
        "id": "hDCWmhD2lYPZ"
      },
      "source": [
        "###- 로지스틱 회귀모형 생성"
      ]
    },
    {
      "cell_type": "code",
      "execution_count": 22,
      "metadata": {
        "id": "wVBBnfPFlYPZ"
      },
      "outputs": [],
      "source": [
        "#1. 모듈 및 함수 불러오기\n",
        "from sklearn.linear_model import LogisticRegression\n",
        "from sklearn.preprocessing import StandardScaler\n",
        "\n",
        "#2. 데이터 불러오기\n",
        "df = pd.read_csv('Ashopping.csv', encoding = 'cp949')\n",
        "\n",
        "#3. 변수 지정\n",
        "X1 = df[['총매출액', '거래기간', '방문빈도']]\n",
        "Y1 = df['이탈여부']\n",
        "\n",
        "#4. 데이터 분할\n",
        "X1_train, X1_test, Y1_train, Y1_test = train_test_split(X1, Y1, test_size=0.3, random_state=0)\n",
        "\n",
        "#5. 표준화\n",
        "scaler = StandardScaler()\n",
        "scaler.fit(X1_train)\n",
        "X1_test = scaler.transform(X1_test)\n",
        "X1_train = scaler.transform(X1_train)\n",
        "\n",
        "#6. 오버 샘플링\n",
        "X1_train, Y1_train = SMOTE(random_state=0).fit_resample(X1_train, Y1_train)\n",
        "\n",
        "#7. 모형 학습 및 예측\n",
        "Logr = LogisticRegression(C = 1, random_state=0)\n",
        "Logr.fit(X1_train, Y1_train)\n",
        "Y1_pred = Logr.predict(X1_test)"
      ]
    },
    {
      "cell_type": "markdown",
      "metadata": {
        "id": "TvNUkgLflYPa"
      },
      "source": [
        "### K-최근접 이웃 모형 생성"
      ]
    },
    {
      "cell_type": "code",
      "execution_count": 23,
      "metadata": {
        "id": "aSdjX8XRlYPa"
      },
      "outputs": [],
      "source": [
        "#1. 모듈 및 함수 불러오기\n",
        "from sklearn.neighbors import KNeighborsClassifier\n",
        "\n",
        "\n",
        "#2. 변수 지정\n",
        "X2 = df[['총매출액', '방문빈도', '1회 평균매출액', '거래기간', '평균 구매주기']]\n",
        "Y2 = df['이탈여부']\n",
        "\n",
        "#3. 데이터 분할\n",
        "X2_train, X2_test, Y2_train, Y2_test = train_test_split(X2, Y2, test_size=0.3, random_state=0)\n",
        "\n",
        "#4. 오버 샘플링\n",
        "X2_train, Y2_train = SMOTE(random_state=0).fit_resample(X2_train, Y2_train)\n",
        "\n",
        "\n",
        "#5. 표준화\n",
        "scaler = StandardScaler().fit(X2_train)\n",
        "X2_test = scaler.transform(X2_test)\n",
        "X2_train = scaler.transform(X2_train)\n",
        "\n",
        "\n",
        "#6. 모형 학습 및 예측\n",
        "kNN = KNeighborsClassifier(n_neighbors=7)\n",
        "kNN.fit(X2_train, Y2_train)\n",
        "Y2_pred = kNN.predict(X2_test)\n"
      ]
    },
    {
      "cell_type": "markdown",
      "metadata": {
        "id": "jogbi6X8lYPa"
      },
      "source": [
        "### 의사결정나무 모형 생성"
      ]
    },
    {
      "cell_type": "code",
      "execution_count": 24,
      "metadata": {
        "id": "qTFJ5hHflYPa"
      },
      "outputs": [],
      "source": [
        "#1. 모듈 및 함수 불러오기\n",
        "from sklearn.tree import DecisionTreeClassifier\n",
        "\n",
        "#2. 변수 지정\n",
        "X3=df[['총매출액', '구매금액대', '할인권 사용 횟수', '총 할인 금액',\n",
        "        '구매유형', '구매카테고리수', '성별', '거래기간','방문빈도', '할인민감여부']]\n",
        "Y3= df['이탈여부']\n",
        "\n",
        "#3. 데이터 분할\n",
        "X3_train, X3_test, Y3_train, Y3_test = train_test_split(X3, Y3, test_size=0.3, random_state=0)\n",
        "\n",
        "\n",
        "#4. 모형 학습 및 예측\n",
        "Dtree = DecisionTreeClassifier(random_state=0, max_depth = 3)\n",
        "Dtree.fit(X3_train, Y3_train)\n",
        "Y3_pred=Dtree.predict(X3_test)"
      ]
    },
    {
      "cell_type": "markdown",
      "metadata": {
        "id": "m3EskolBlYPb"
      },
      "source": [
        "### ROC 곡선 및 AUC 점수 출력"
      ]
    },
    {
      "cell_type": "code",
      "execution_count": 25,
      "metadata": {
        "colab": {
          "base_uri": "https://localhost:8080/",
          "height": 524
        },
        "id": "CDd_PJOYlYPb",
        "outputId": "148fa553-ee13-416f-9d9f-7ccd6ab7cfcf"
      },
      "outputs": [
        {
          "data": {
            "image/png": "[encoded data removed]",
            "text/plain": [
              "<Figure size 640x480 with 1 Axes>"
            ]
          },
          "metadata": {},
          "output_type": "display_data"
        },
        {
          "name": "stdout",
          "output_type": "stream",
          "text": [
            "로지스틱 회귀분석 AUC 점수:0.784\n",
            "k-최근접 이웃 AUC 점수::0.849\n",
            "의사결정나무 AUC 점수:0.877\n"
          ]
        }
      ],
      "source": [
        "#1. 모듈 및 함수 불러오기\n",
        "from sklearn.metrics import roc_curve\n",
        "from sklearn.metrics import roc_auc_score\n",
        "from matplotlib import pyplot as plt\n",
        "\n",
        "#2. ROC 곡선 객체 생성\n",
        "fpr1, tpr1, thresholds = roc_curve(Y1_test,  Logr.decision_function(X1_test))\n",
        "fpr2, tpr2, thresholds  = roc_curve(Y2_test, kNN.predict_proba(X2_test)[:, 1])\n",
        "fpr3, tpr3, thresholds = roc_curve(Y3_test, Dtree.predict_proba(X3_test)[:, 1])\n",
        "\n",
        "#3. ROC 곡선 시각화\n",
        "plt.plot(fpr1, tpr1, 'o-', ms=2, label='Logr')\n",
        "plt.plot(fpr2, tpr2, 'o-', ms=2, label='k-NN')\n",
        "plt.plot(fpr3, tpr3, 'o-', ms=2, label='Dtree')\n",
        "plt.plot([0, 1], [0, 1], 'k--', label='random guess')\n",
        "plt.legend()\n",
        "plt.xlabel('False Positive Rate')\n",
        "plt.ylabel('True Positive Rate')\n",
        "plt.title('ROC Curve')\n",
        "plt.show()\n",
        "\n",
        "#4. AUC 점수 계산\n",
        "Logr_auc=roc_auc_score(Y1_test, Logr.decision_function(X1_test))\n",
        "kNN_auc=roc_auc_score(Y2_test, kNN.predict_proba(X2_test)[:, 1])\n",
        "Dtree_auc=roc_auc_score(Y3_test, Dtree.predict_proba(X3_test)[:, 1])\n",
        "\n",
        "#5. AUC 점수 출력\n",
        "print('로지스틱 회귀분석 AUC 점수:{:.3f}'.format(Logr_auc))\n",
        "print('k-최근접 이웃 AUC 점수::{:.3f}'.format(kNN_auc))\n",
        "print('의사결정나무 AUC 점수:{:.3f}'.format(Dtree_auc))"
      ]
    },
    {
      "cell_type": "markdown",
      "metadata": {
        "id": "RmGyWZW1XPD_"
      },
      "source": [
        "# 앙상블"
      ]
    },
    {
      "cell_type": "markdown",
      "metadata": {
        "id": "f2vK13uWtuN6"
      },
      "source": [
        "## 투표 분류기"
      ]
    },
    {
      "cell_type": "markdown",
      "metadata": {
        "id": "sNFd6AdhtBIB"
      },
      "source": [
        "###투표 분류기의 클래스\n",
        "\n",
        "사이킷런에서 제공하는 VotingClassifier 클래스 사용"
      ]
    },
    {
      "cell_type": "code",
      "execution_count": 43,
      "metadata": {
        "id": "a98f5dff"
      },
      "outputs": [],
      "source": [
        "import numpy as np\n",
        "from sklearn.tree import DecisionTreeClassifier\n",
        "from sklearn.linear_model import LogisticRegression\n",
        "from sklearn.naive_bayes import GaussianNB\n",
        "from sklearn.ensemble import VotingClassifier"
      ]
    },
    {
      "cell_type": "markdown",
      "metadata": {
        "id": "WiTOVXSxtKgR"
      },
      "source": [
        "전처리되어 .npy 파일 형태인 데이터를 호출"
      ]
    },
    {
      "cell_type": "code",
      "execution_count": 44,
      "metadata": {
        "id": "ed811a52"
      },
      "outputs": [],
      "source": [
        "X = np.load(\"titanic_X_train.npy\")\n",
        "y = np.load(\"titanic_y_train.npy\")"
      ]
    },
    {
      "cell_type": "code",
      "execution_count": 45,
      "metadata": {
        "colab": {
          "base_uri": "https://localhost:8080/"
        },
        "id": "1c058271",
        "outputId": "4c53d8e2-86db-41e9-9cdb-19a8354e68c4"
      },
      "outputs": [
        {
          "data": {
            "text/plain": [
              "array([0.27345609, 0.01415106, 0.        , 1.        , 0.        ,\n",
              "       0.125     , 0.        , 0.        , 0.        , 1.        ,\n",
              "       0.        , 0.        , 0.        , 0.        , 0.        ,\n",
              "       1.        , 0.        , 0.        , 1.        , 0.        ,\n",
              "       0.        , 0.        , 0.        , 0.        , 0.        ,\n",
              "       0.        , 0.        ])"
            ]
          },
          "execution_count": 45,
          "metadata": {},
          "output_type": "execute_result"
        }
      ],
      "source": [
        "X[0]"
      ]
    },
    {
      "cell_type": "code",
      "execution_count": 46,
      "metadata": {
        "colab": {
          "base_uri": "https://localhost:8080/"
        },
        "id": "83cb0b32",
        "outputId": "ac8016a8-a48e-4ca9-9fc9-419b3fecde46"
      },
      "outputs": [
        {
          "data": {
            "text/plain": [
              "array([0., 1., 1., 1., 0., 0., 0., 0., 1., 1.])"
            ]
          },
          "execution_count": 46,
          "metadata": {},
          "output_type": "execute_result"
        }
      ],
      "source": [
        "y[:10]"
      ]
    },
    {
      "cell_type": "markdown",
      "metadata": {
        "id": "-sZuC81btN9Y"
      },
      "source": [
        "### 기초 모델 생성"
      ]
    },
    {
      "cell_type": "code",
      "execution_count": 47,
      "metadata": {
        "id": "ed03246c"
      },
      "outputs": [],
      "source": [
        "clf1 = LogisticRegression(random_state=1)\n",
        "clf2 = DecisionTreeClassifier(random_state=1, max_depth=4)\n",
        "clf3 = GaussianNB()\n",
        "\n",
        "eclf = VotingClassifier(\n",
        "    estimators=[('lr', clf1), ('rf', clf2), ('gnb',clf3)], voting='hard')"
      ]
    },
    {
      "cell_type": "markdown",
      "metadata": {
        "id": "MOJ8Xo_blGaU"
      },
      "source": [
        "voting 관련 참고 URL: https://devkor.tistory.com/entry/Soft-Voting-%EA%B3%BC-Hard-Voting"
      ]
    },
    {
      "cell_type": "markdown",
      "metadata": {
        "id": "7gUILdJ5lOy4"
      },
      "source": [
        "![image.png](data:image/png;base64,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)"
      ]
    },
    {
      "cell_type": "markdown",
      "metadata": {
        "id": "N2i9Zw9blamT"
      },
      "source": [
        "![image.png](data:image/png;base64,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)"
      ]
    },
    {
      "cell_type": "markdown",
      "metadata": {
        "id": "kUy_CTguljkD"
      },
      "source": [
        "![image.png](data:image/png;base64,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)"
      ]
    },
    {
      "cell_type": "markdown",
      "metadata": {
        "id": "6d74ZPiwtUq3"
      },
      "source": [
        "투표 분류기의 성능과 모델별 성능을 측정"
      ]
    },
    {
      "cell_type": "code",
      "execution_count": 48,
      "metadata": {
        "colab": {
          "base_uri": "https://localhost:8080/"
        },
        "id": "3a19fa7e",
        "outputId": "455f8f77-de07-4d59-aeea-b0615b964d5c"
      },
      "outputs": [
        {
          "data": {
            "text/plain": [
              "0.8222941661905668"
            ]
          },
          "execution_count": 48,
          "metadata": {},
          "output_type": "execute_result"
        }
      ],
      "source": [
        "from sklearn.model_selection import cross_val_score\n",
        "cross_val_score(eclf, X, y, cv=5).mean()"
      ]
    },
    {
      "cell_type": "code",
      "execution_count": 49,
      "metadata": {
        "colab": {
          "base_uri": "https://localhost:8080/"
        },
        "id": "46a2b045",
        "outputId": "026feab4-5fec-4239-c5ca-757c42a6bcec"
      },
      "outputs": [
        {
          "data": {
            "text/plain": [
              "0.8290420872214816"
            ]
          },
          "execution_count": 49,
          "metadata": {},
          "output_type": "execute_result"
        }
      ],
      "source": [
        "cross_val_score(clf1, X, y, cv=5).mean()"
      ]
    },
    {
      "cell_type": "code",
      "execution_count": 50,
      "metadata": {
        "colab": {
          "base_uri": "https://localhost:8080/"
        },
        "id": "8c8f1df2",
        "outputId": "a93baf93-2646-4242-8b36-7b159473a97d"
      },
      "outputs": [
        {
          "data": {
            "text/plain": [
              "0.8223068621849807"
            ]
          },
          "execution_count": 50,
          "metadata": {},
          "output_type": "execute_result"
        }
      ],
      "source": [
        "cross_val_score(clf2, X, y, cv=5).mean()"
      ]
    },
    {
      "cell_type": "code",
      "execution_count": 51,
      "metadata": {
        "colab": {
          "base_uri": "https://localhost:8080/"
        },
        "id": "8b16ce72",
        "outputId": "490bb6d2-18cb-4312-d359-4b405b15bc62"
      },
      "outputs": [
        {
          "data": {
            "text/plain": [
              "0.4600139655938551"
            ]
          },
          "execution_count": 51,
          "metadata": {},
          "output_type": "execute_result"
        }
      ],
      "source": [
        "cross_val_score(clf3, X, y, cv=5).mean()"
      ]
    },
    {
      "cell_type": "markdown",
      "metadata": {
        "id": "y6Wv3HyLtX7E"
      },
      "source": [
        "clf3 제외하면 전체 모델 성능보다 개별 모델 성능이 높다"
      ]
    },
    {
      "cell_type": "markdown",
      "metadata": {
        "id": "PplbEwAztfPA"
      },
      "source": [
        "GaussianNB은 연속적인 데이터를 다루기 위한 모델로 데이터셋과 맞지 않아 해당 모델을 빼고 성능을 측정"
      ]
    },
    {
      "cell_type": "code",
      "execution_count": 52,
      "metadata": {
        "colab": {
          "base_uri": "https://localhost:8080/"
        },
        "id": "beeed110",
        "outputId": "0972b906-ff55-451f-d0ec-812eddea4209"
      },
      "outputs": [
        {
          "data": {
            "text/plain": [
              "0.8301783787215135"
            ]
          },
          "execution_count": 52,
          "metadata": {},
          "output_type": "execute_result"
        }
      ],
      "source": [
        "eclf = VotingClassifier(\n",
        "    estimators=[('lr', clf1), ('rf', clf2)], voting='hard')\n",
        "cross_val_score(eclf, X, y, cv=5).mean()"
      ]
    },
    {
      "cell_type": "markdown",
      "metadata": {
        "id": "VFDBBWhsthj4"
      },
      "source": [
        "앙상블 모델에서는 반드시 많은 수의 모델 조합이 가장 최선의 결과를 내는 것이 아니다"
      ]
    },
    {
      "cell_type": "markdown",
      "metadata": {
        "id": "t5ipqnMztpLM"
      },
      "source": [
        "### 하이퍼 파라미터를 튜닝한 투표 분류기\n",
        "\n",
        "성능이 좋았던 모델 두 개를 각각 VotingClassifer에 할당"
      ]
    },
    {
      "cell_type": "code",
      "execution_count": 53,
      "metadata": {
        "id": "cf39c855"
      },
      "outputs": [],
      "source": [
        "clf1 = LogisticRegression(random_state=1)\n",
        "clf2 = DecisionTreeClassifier(random_state=1)\n",
        "eclf = VotingClassifier(estimators=[('lr', clf1), ('dt', clf2)], voting='hard')"
      ]
    },
    {
      "cell_type": "code",
      "execution_count": 54,
      "metadata": {
        "id": "5d836783"
      },
      "outputs": [],
      "source": [
        "c_params = [0.1, 5.0, 7.0, 10.0, 15.0, 20.0, 100.0]\n",
        "\n",
        "params ={\n",
        "    \"lr__solver\" :\n",
        "        ['liblinear'], \"lr__penalty\" : [\"l2\"], \"lr__C\" : c_params,\n",
        "    \"dt__criterion\" : [\"gini\", \"entropy\"],\n",
        "    \"dt__max_depth\" : [10,8,7,6,5,4,3,2],\n",
        "    \"dt__min_samples_leaf\": [1,2,3,4,5,6,7,8,9]\n",
        "}"
      ]
    },
    {
      "cell_type": "markdown",
      "metadata": {
        "id": "T4rV0ed_t6dT"
      },
      "source": [
        "가장 좋은 모델의 성능을 확인"
      ]
    },
    {
      "cell_type": "code",
      "execution_count": 55,
      "metadata": {
        "colab": {
          "base_uri": "https://localhost:8080/"
        },
        "id": "b728db0a",
        "outputId": "4da52d4b-489c-452a-8d9f-179ad063e75c"
      },
      "outputs": [
        {
          "data": {
            "text/plain": [
              "0.8425569732749316"
            ]
          },
          "execution_count": 55,
          "metadata": {},
          "output_type": "execute_result"
        }
      ],
      "source": [
        "from sklearn.model_selection import GridSearchCV\n",
        "grid = GridSearchCV(estimator=eclf, param_grid=params, cv=5)\n",
        "grid = grid.fit(X, y)\n",
        "grid.best_score_"
      ]
    },
    {
      "cell_type": "markdown",
      "metadata": {
        "id": "CTQFakEjt9KG"
      },
      "source": [
        "가장 좋은 성능을 내는 매개변수 확인"
      ]
    },
    {
      "cell_type": "code",
      "execution_count": 56,
      "metadata": {
        "colab": {
          "base_uri": "https://localhost:8080/"
        },
        "id": "d69054ac",
        "outputId": "0f5f380d-e973-4060-9803-2a783c61824c"
      },
      "outputs": [
        {
          "data": {
            "text/plain": [
              "{'dt__criterion': 'gini',\n",
              " 'dt__max_depth': 10,\n",
              " 'dt__min_samples_leaf': 5,\n",
              " 'lr__C': 5.0,\n",
              " 'lr__penalty': 'l2',\n",
              " 'lr__solver': 'liblinear'}"
            ]
          },
          "execution_count": 56,
          "metadata": {},
          "output_type": "execute_result"
        }
      ],
      "source": [
        "grid.best_params_"
      ]
    },
    {
      "cell_type": "markdown",
      "metadata": {
        "id": "ou8t86jHuRG-"
      },
      "source": [
        "## 배깅과 랜덤 포레스트"
      ]
    },
    {
      "cell_type": "markdown",
      "metadata": {
        "id": "jrt6-0vY0tfm"
      },
      "source": [
        "* base_estimator : 사용될 수 있는 모델(default=None)\n",
        "\n",
        "* n_estimators : int, optional(default=10), subset으로 생성되는 모델의 개수\n",
        "* max_samples : int or float, optional(default=1.0), 최대 데이터 개수 또는 비율\n",
        "* max_features : int or float, optional(default=1.0), 최대 사용 피쳐 또는 비율\n",
        "* bootstrap : boolean, optional(default=True),  bootstrap 사용 여부\n",
        "* oob_score : boolean, oob score 산출 여부\n",
        "* warm_start : booeanl, optional(default=False), 이전에 학습된 모델을 사용할 것인가에 대한 정보"
      ]
    },
    {
      "cell_type": "code",
      "execution_count": 57,
      "metadata": {
        "colab": {
          "base_uri": "https://localhost:8080/"
        },
        "id": "dw5txRe01BqZ",
        "outputId": "2c869ec7-00f1-4b7c-9c0b-4753aa4826c9"
      },
      "outputs": [
        {
          "name": "stderr",
          "output_type": "stream",
          "text": [
            "/home/clip968/miniforge3/envs/pytorch/lib/python3.10/site-packages/sklearn/ensemble/_bagging.py:865: UserWarning: Some inputs do not have OOB scores. This probably means too few estimators were used to compute any reliable oob estimates.\n",
            "  warn(\n",
            "/home/clip968/miniforge3/envs/pytorch/lib/python3.10/site-packages/sklearn/ensemble/_bagging.py:871: RuntimeWarning: invalid value encountered in divide\n",
            "  oob_decision_function = predictions / predictions.sum(axis=1)[:, np.newaxis]\n",
            "/home/clip968/miniforge3/envs/pytorch/lib/python3.10/site-packages/sklearn/ensemble/_bagging.py:865: UserWarning: Some inputs do not have OOB scores. This probably means too few estimators were used to compute any reliable oob estimates.\n",
            "  warn(\n",
            "/home/clip968/miniforge3/envs/pytorch/lib/python3.10/site-packages/sklearn/ensemble/_bagging.py:871: RuntimeWarning: invalid value encountered in divide\n",
            "  oob_decision_function = predictions / predictions.sum(axis=1)[:, np.newaxis]\n",
            "/home/clip968/miniforge3/envs/pytorch/lib/python3.10/site-packages/sklearn/ensemble/_bagging.py:865: UserWarning: Some inputs do not have OOB scores. This probably means too few estimators were used to compute any reliable oob estimates.\n",
            "  warn(\n",
            "/home/clip968/miniforge3/envs/pytorch/lib/python3.10/site-packages/sklearn/ensemble/_bagging.py:871: RuntimeWarning: invalid value encountered in divide\n",
            "  oob_decision_function = predictions / predictions.sum(axis=1)[:, np.newaxis]\n",
            "/home/clip968/miniforge3/envs/pytorch/lib/python3.10/site-packages/sklearn/ensemble/_bagging.py:865: UserWarning: Some inputs do not have OOB scores. This probably means too few estimators were used to compute any reliable oob estimates.\n",
            "  warn(\n",
            "/home/clip968/miniforge3/envs/pytorch/lib/python3.10/site-packages/sklearn/ensemble/_bagging.py:871: RuntimeWarning: invalid value encountered in divide\n",
            "  oob_decision_function = predictions / predictions.sum(axis=1)[:, np.newaxis]\n",
            "/home/clip968/miniforge3/envs/pytorch/lib/python3.10/site-packages/sklearn/ensemble/_bagging.py:865: UserWarning: Some inputs do not have OOB scores. This probably means too few estimators were used to compute any reliable oob estimates.\n",
            "  warn(\n",
            "/home/clip968/miniforge3/envs/pytorch/lib/python3.10/site-packages/sklearn/ensemble/_bagging.py:871: RuntimeWarning: invalid value encountered in divide\n",
            "  oob_decision_function = predictions / predictions.sum(axis=1)[:, np.newaxis]\n"
          ]
        },
        {
          "data": {
            "text/plain": [
              "0.8256522567130069"
            ]
          },
          "execution_count": 57,
          "metadata": {},
          "output_type": "execute_result"
        }
      ],
      "source": [
        "import numpy as np\n",
        "\n",
        "from sklearn.tree import DecisionTreeClassifier\n",
        "from sklearn.linear_model import LogisticRegression\n",
        "from sklearn.ensemble import BaggingClassifier\n",
        "\n",
        "X = np.load(\"titanic_X_train.npy\")\n",
        "y = np.load(\"titanic_y_train.npy\")\n",
        "clf1 = LogisticRegression(random_state=1)\n",
        "eclf = BaggingClassifier(clf1, oob_score=True)\n",
        "\n",
        "from sklearn.model_selection import cross_val_score\n",
        "cross_val_score(eclf, X, y, cv=5).mean()"
      ]
    },
    {
      "cell_type": "code",
      "execution_count": 58,
      "metadata": {
        "colab": {
          "base_uri": "https://localhost:8080/"
        },
        "id": "-T-vmIvL1H4M",
        "outputId": "3c817bf1-1afc-4ca8-f272-339656247d57"
      },
      "outputs": [
        {
          "name": "stderr",
          "output_type": "stream",
          "text": [
            "/home/clip968/miniforge3/envs/pytorch/lib/python3.10/site-packages/sklearn/ensemble/_bagging.py:865: UserWarning: Some inputs do not have OOB scores. This probably means too few estimators were used to compute any reliable oob estimates.\n",
            "  warn(\n",
            "/home/clip968/miniforge3/envs/pytorch/lib/python3.10/site-packages/sklearn/ensemble/_bagging.py:871: RuntimeWarning: invalid value encountered in divide\n",
            "  oob_decision_function = predictions / predictions.sum(axis=1)[:, np.newaxis]\n",
            "/home/clip968/miniforge3/envs/pytorch/lib/python3.10/site-packages/sklearn/ensemble/_bagging.py:865: UserWarning: Some inputs do not have OOB scores. This probably means too few estimators were used to compute any reliable oob estimates.\n",
            "  warn(\n",
            "/home/clip968/miniforge3/envs/pytorch/lib/python3.10/site-packages/sklearn/ensemble/_bagging.py:871: RuntimeWarning: invalid value encountered in divide\n",
            "  oob_decision_function = predictions / predictions.sum(axis=1)[:, np.newaxis]\n",
            "/home/clip968/miniforge3/envs/pytorch/lib/python3.10/site-packages/sklearn/ensemble/_bagging.py:865: UserWarning: Some inputs do not have OOB scores. This probably means too few estimators were used to compute any reliable oob estimates.\n",
            "  warn(\n",
            "/home/clip968/miniforge3/envs/pytorch/lib/python3.10/site-packages/sklearn/ensemble/_bagging.py:871: RuntimeWarning: invalid value encountered in divide\n",
            "  oob_decision_function = predictions / predictions.sum(axis=1)[:, np.newaxis]\n",
            "/home/clip968/miniforge3/envs/pytorch/lib/python3.10/site-packages/sklearn/ensemble/_bagging.py:865: UserWarning: Some inputs do not have OOB scores. This probably means too few estimators were used to compute any reliable oob estimates.\n",
            "  warn(\n",
            "/home/clip968/miniforge3/envs/pytorch/lib/python3.10/site-packages/sklearn/ensemble/_bagging.py:871: RuntimeWarning: invalid value encountered in divide\n",
            "  oob_decision_function = predictions / predictions.sum(axis=1)[:, np.newaxis]\n",
            "/home/clip968/miniforge3/envs/pytorch/lib/python3.10/site-packages/sklearn/ensemble/_bagging.py:865: UserWarning: Some inputs do not have OOB scores. This probably means too few estimators were used to compute any reliable oob estimates.\n",
            "  warn(\n",
            "/home/clip968/miniforge3/envs/pytorch/lib/python3.10/site-packages/sklearn/ensemble/_bagging.py:871: RuntimeWarning: invalid value encountered in divide\n",
            "  oob_decision_function = predictions / predictions.sum(axis=1)[:, np.newaxis]\n",
            "/home/clip968/miniforge3/envs/pytorch/lib/python3.10/site-packages/sklearn/ensemble/_bagging.py:865: UserWarning: Some inputs do not have OOB scores. This probably means too few estimators were used to compute any reliable oob estimates.\n",
            "  warn(\n",
            "/home/clip968/miniforge3/envs/pytorch/lib/python3.10/site-packages/sklearn/ensemble/_bagging.py:871: RuntimeWarning: invalid value encountered in divide\n",
            "  oob_decision_function = predictions / predictions.sum(axis=1)[:, np.newaxis]\n",
            "/home/clip968/miniforge3/envs/pytorch/lib/python3.10/site-packages/sklearn/ensemble/_bagging.py:865: UserWarning: Some inputs do not have OOB scores. This probably means too few estimators were used to compute any reliable oob estimates.\n",
            "  warn(\n",
            "/home/clip968/miniforge3/envs/pytorch/lib/python3.10/site-packages/sklearn/ensemble/_bagging.py:871: RuntimeWarning: invalid value encountered in divide\n",
            "  oob_decision_function = predictions / predictions.sum(axis=1)[:, np.newaxis]\n",
            "/home/clip968/miniforge3/envs/pytorch/lib/python3.10/site-packages/sklearn/ensemble/_bagging.py:865: UserWarning: Some inputs do not have OOB scores. This probably means too few estimators were used to compute any reliable oob estimates.\n",
            "  warn(\n",
            "/home/clip968/miniforge3/envs/pytorch/lib/python3.10/site-packages/sklearn/ensemble/_bagging.py:871: RuntimeWarning: invalid value encountered in divide\n",
            "  oob_decision_function = predictions / predictions.sum(axis=1)[:, np.newaxis]\n",
            "/home/clip968/miniforge3/envs/pytorch/lib/python3.10/site-packages/sklearn/ensemble/_bagging.py:865: UserWarning: Some inputs do not have OOB scores. This probably means too few estimators were used to compute any reliable oob estimates.\n",
            "  warn(\n",
            "/home/clip968/miniforge3/envs/pytorch/lib/python3.10/site-packages/sklearn/ensemble/_bagging.py:871: RuntimeWarning: invalid value encountered in divide\n",
            "  oob_decision_function = predictions / predictions.sum(axis=1)[:, np.newaxis]\n",
            "/home/clip968/miniforge3/envs/pytorch/lib/python3.10/site-packages/sklearn/ensemble/_bagging.py:865: UserWarning: Some inputs do not have OOB scores. This probably means too few estimators were used to compute any reliable oob estimates.\n",
            "  warn(\n",
            "/home/clip968/miniforge3/envs/pytorch/lib/python3.10/site-packages/sklearn/ensemble/_bagging.py:871: RuntimeWarning: invalid value encountered in divide\n",
            "  oob_decision_function = predictions / predictions.sum(axis=1)[:, np.newaxis]\n",
            "/home/clip968/miniforge3/envs/pytorch/lib/python3.10/site-packages/sklearn/ensemble/_bagging.py:865: UserWarning: Some inputs do not have OOB scores. This probably means too few estimators were used to compute any reliable oob estimates.\n",
            "  warn(\n",
            "/home/clip968/miniforge3/envs/pytorch/lib/python3.10/site-packages/sklearn/ensemble/_bagging.py:871: RuntimeWarning: invalid value encountered in divide\n",
            "  oob_decision_function = predictions / predictions.sum(axis=1)[:, np.newaxis]\n"
          ]
        },
        {
          "data": {
            "text/plain": [
              "0.8301720307243065"
            ]
          },
          "execution_count": 58,
          "metadata": {},
          "output_type": "execute_result"
        }
      ],
      "source": [
        "params ={\n",
        "    \"n_estimators\" : [10,20,30,40,50,55],\n",
        "    \"max_samples\" : [0.5,0.6,0.7,0.8,0.9,1]\n",
        "}\n",
        "\n",
        "from sklearn.model_selection import GridSearchCV\n",
        "grid = GridSearchCV(estimator=eclf, param_grid=params, cv=5)\n",
        "grid = grid.fit(X, y)\n",
        "\n",
        "grid.best_score_"
      ]
    },
    {
      "cell_type": "code",
      "execution_count": 59,
      "metadata": {
        "colab": {
          "base_uri": "https://localhost:8080/"
        },
        "id": "sd5kFJla1QIn",
        "outputId": "66caeee2-cadc-4f46-a9d8-bcd3b3becc9e"
      },
      "outputs": [
        {
          "data": {
            "text/plain": [
              "{'max_samples': 0.9, 'n_estimators': 40}"
            ]
          },
          "execution_count": 59,
          "metadata": {},
          "output_type": "execute_result"
        }
      ],
      "source": [
        "grid.best_params_"
      ]
    },
    {
      "cell_type": "code",
      "execution_count": 60,
      "metadata": {
        "colab": {
          "base_uri": "https://localhost:8080/"
        },
        "id": "JtNBRi2C1TEI",
        "outputId": "bf721076-9a6c-4ea9-cc33-6dbd3e311a34"
      },
      "outputs": [
        {
          "data": {
            "text/plain": [
              "0.8166479190101237"
            ]
          },
          "execution_count": 60,
          "metadata": {},
          "output_type": "execute_result"
        }
      ],
      "source": [
        "grid.best_estimator_.oob_score_"
      ]
    },
    {
      "cell_type": "code",
      "execution_count": 61,
      "metadata": {
        "colab": {
          "base_uri": "https://localhost:8080/"
        },
        "id": "mI8ZcfRZ1Wx4",
        "outputId": "4b41c044-8fbd-4d2c-9464-9b445f4bdcfd"
      },
      "outputs": [
        {
          "data": {
            "text/plain": [
              "0.8009521995810323"
            ]
          },
          "execution_count": 61,
          "metadata": {},
          "output_type": "execute_result"
        }
      ],
      "source": [
        "import numpy as np\n",
        "from sklearn.ensemble import RandomForestClassifier\n",
        "X = np.load(\"titanic_X_train.npy\")\n",
        "y = np.load(\"titanic_y_train.npy\")\n",
        "eclf = RandomForestClassifier(n_estimators=100, max_features=2, n_jobs=7, oob_score=True)\n",
        "from sklearn.model_selection import cross_val_score\n",
        "cross_val_score(eclf, X, y, cv=5).mean()"
      ]
    },
    {
      "cell_type": "code",
      "execution_count": 62,
      "metadata": {
        "colab": {
          "base_uri": "https://localhost:8080/"
        },
        "id": "T6PGnEWX1cSX",
        "outputId": "acf34761-67ad-48aa-e5a1-cb9b4571e089"
      },
      "outputs": [
        {
          "name": "stderr",
          "output_type": "stream",
          "text": [
            "/home/clip968/miniforge3/envs/pytorch/lib/python3.10/site-packages/sklearn/ensemble/_forest.py:612: UserWarning: Some inputs do not have OOB scores. This probably means too few trees were used to compute any reliable OOB estimates.\n",
            "  warn(\n",
            "/home/clip968/miniforge3/envs/pytorch/lib/python3.10/site-packages/sklearn/ensemble/_forest.py:612: UserWarning: Some inputs do not have OOB scores. This probably means too few trees were used to compute any reliable OOB estimates.\n",
            "  warn(\n",
            "/home/clip968/miniforge3/envs/pytorch/lib/python3.10/site-packages/sklearn/ensemble/_forest.py:612: UserWarning: Some inputs do not have OOB scores. This probably means too few trees were used to compute any reliable OOB estimates.\n",
            "  warn(\n",
            "/home/clip968/miniforge3/envs/pytorch/lib/python3.10/site-packages/sklearn/ensemble/_forest.py:612: UserWarning: Some inputs do not have OOB scores. This probably means too few trees were used to compute any reliable OOB estimates.\n",
            "  warn(\n",
            "/home/clip968/miniforge3/envs/pytorch/lib/python3.10/site-packages/sklearn/ensemble/_forest.py:612: UserWarning: Some inputs do not have OOB scores. This probably means too few trees were used to compute any reliable OOB estimates.\n",
            "  warn(\n",
            "/home/clip968/miniforge3/envs/pytorch/lib/python3.10/site-packages/sklearn/ensemble/_forest.py:612: UserWarning: Some inputs do not have OOB scores. This probably means too few trees were used to compute any reliable OOB estimates.\n",
            "  warn(\n",
            "/home/clip968/miniforge3/envs/pytorch/lib/python3.10/site-packages/sklearn/ensemble/_forest.py:612: UserWarning: Some inputs do not have OOB scores. This probably means too few trees were used to compute any reliable OOB estimates.\n",
            "  warn(\n",
            "/home/clip968/miniforge3/envs/pytorch/lib/python3.10/site-packages/sklearn/ensemble/_forest.py:612: UserWarning: Some inputs do not have OOB scores. This probably means too few trees were used to compute any reliable OOB estimates.\n",
            "  warn(\n",
            "/home/clip968/miniforge3/envs/pytorch/lib/python3.10/site-packages/sklearn/ensemble/_forest.py:612: UserWarning: Some inputs do not have OOB scores. This probably means too few trees were used to compute any reliable OOB estimates.\n",
            "  warn(\n",
            "/home/clip968/miniforge3/envs/pytorch/lib/python3.10/site-packages/sklearn/ensemble/_forest.py:612: UserWarning: Some inputs do not have OOB scores. This probably means too few trees were used to compute any reliable OOB estimates.\n",
            "  warn(\n",
            "/home/clip968/miniforge3/envs/pytorch/lib/python3.10/site-packages/sklearn/ensemble/_forest.py:612: UserWarning: Some inputs do not have OOB scores. This probably means too few trees were used to compute any reliable OOB estimates.\n",
            "  warn(\n",
            "/home/clip968/miniforge3/envs/pytorch/lib/python3.10/site-packages/sklearn/ensemble/_forest.py:612: UserWarning: Some inputs do not have OOB scores. This probably means too few trees were used to compute any reliable OOB estimates.\n",
            "  warn(\n",
            "/home/clip968/miniforge3/envs/pytorch/lib/python3.10/site-packages/sklearn/ensemble/_forest.py:612: UserWarning: Some inputs do not have OOB scores. This probably means too few trees were used to compute any reliable OOB estimates.\n",
            "  warn(\n",
            "/home/clip968/miniforge3/envs/pytorch/lib/python3.10/site-packages/sklearn/ensemble/_forest.py:612: UserWarning: Some inputs do not have OOB scores. This probably means too few trees were used to compute any reliable OOB estimates.\n",
            "  warn(\n",
            "/home/clip968/miniforge3/envs/pytorch/lib/python3.10/site-packages/sklearn/ensemble/_forest.py:612: UserWarning: Some inputs do not have OOB scores. This probably means too few trees were used to compute any reliable OOB estimates.\n",
            "  warn(\n",
            "/home/clip968/miniforge3/envs/pytorch/lib/python3.10/site-packages/sklearn/ensemble/_forest.py:612: UserWarning: Some inputs do not have OOB scores. This probably means too few trees were used to compute any reliable OOB estimates.\n",
            "  warn(\n",
            "/home/clip968/miniforge3/envs/pytorch/lib/python3.10/site-packages/sklearn/ensemble/_forest.py:612: UserWarning: Some inputs do not have OOB scores. This probably means too few trees were used to compute any reliable OOB estimates.\n",
            "  warn(\n",
            "/home/clip968/miniforge3/envs/pytorch/lib/python3.10/site-packages/sklearn/ensemble/_forest.py:612: UserWarning: Some inputs do not have OOB scores. This probably means too few trees were used to compute any reliable OOB estimates.\n",
            "  warn(\n",
            "/home/clip968/miniforge3/envs/pytorch/lib/python3.10/site-packages/sklearn/ensemble/_forest.py:612: UserWarning: Some inputs do not have OOB scores. This probably means too few trees were used to compute any reliable OOB estimates.\n",
            "  warn(\n",
            "/home/clip968/miniforge3/envs/pytorch/lib/python3.10/site-packages/sklearn/ensemble/_forest.py:612: UserWarning: Some inputs do not have OOB scores. This probably means too few trees were used to compute any reliable OOB estimates.\n",
            "  warn(\n",
            "/home/clip968/miniforge3/envs/pytorch/lib/python3.10/site-packages/sklearn/ensemble/_forest.py:612: UserWarning: Some inputs do not have OOB scores. This probably means too few trees were used to compute any reliable OOB estimates.\n",
            "  warn(\n",
            "/home/clip968/miniforge3/envs/pytorch/lib/python3.10/site-packages/sklearn/ensemble/_forest.py:612: UserWarning: Some inputs do not have OOB scores. This probably means too few trees were used to compute any reliable OOB estimates.\n",
            "  warn(\n",
            "/home/clip968/miniforge3/envs/pytorch/lib/python3.10/site-packages/sklearn/ensemble/_forest.py:612: UserWarning: Some inputs do not have OOB scores. This probably means too few trees were used to compute any reliable OOB estimates.\n",
            "  warn(\n",
            "/home/clip968/miniforge3/envs/pytorch/lib/python3.10/site-packages/sklearn/ensemble/_forest.py:612: UserWarning: Some inputs do not have OOB scores. This probably means too few trees were used to compute any reliable OOB estimates.\n",
            "  warn(\n",
            "/home/clip968/miniforge3/envs/pytorch/lib/python3.10/site-packages/sklearn/ensemble/_forest.py:612: UserWarning: Some inputs do not have OOB scores. This probably means too few trees were used to compute any reliable OOB estimates.\n",
            "  warn(\n",
            "/home/clip968/miniforge3/envs/pytorch/lib/python3.10/site-packages/sklearn/ensemble/_forest.py:612: UserWarning: Some inputs do not have OOB scores. This probably means too few trees were used to compute any reliable OOB estimates.\n",
            "  warn(\n",
            "/home/clip968/miniforge3/envs/pytorch/lib/python3.10/site-packages/sklearn/ensemble/_forest.py:612: UserWarning: Some inputs do not have OOB scores. This probably means too few trees were used to compute any reliable OOB estimates.\n",
            "  warn(\n",
            "/home/clip968/miniforge3/envs/pytorch/lib/python3.10/site-packages/sklearn/ensemble/_forest.py:612: UserWarning: Some inputs do not have OOB scores. This probably means too few trees were used to compute any reliable OOB estimates.\n",
            "  warn(\n",
            "/home/clip968/miniforge3/envs/pytorch/lib/python3.10/site-packages/sklearn/ensemble/_forest.py:612: UserWarning: Some inputs do not have OOB scores. This probably means too few trees were used to compute any reliable OOB estimates.\n",
            "  warn(\n",
            "/home/clip968/miniforge3/envs/pytorch/lib/python3.10/site-packages/sklearn/ensemble/_forest.py:612: UserWarning: Some inputs do not have OOB scores. This probably means too few trees were used to compute any reliable OOB estimates.\n",
            "  warn(\n",
            "/home/clip968/miniforge3/envs/pytorch/lib/python3.10/site-packages/sklearn/ensemble/_forest.py:612: UserWarning: Some inputs do not have OOB scores. This probably means too few trees were used to compute any reliable OOB estimates.\n",
            "  warn(\n",
            "/home/clip968/miniforge3/envs/pytorch/lib/python3.10/site-packages/sklearn/ensemble/_forest.py:612: UserWarning: Some inputs do not have OOB scores. This probably means too few trees were used to compute any reliable OOB estimates.\n",
            "  warn(\n",
            "/home/clip968/miniforge3/envs/pytorch/lib/python3.10/site-packages/sklearn/ensemble/_forest.py:612: UserWarning: Some inputs do not have OOB scores. This probably means too few trees were used to compute any reliable OOB estimates.\n",
            "  warn(\n",
            "/home/clip968/miniforge3/envs/pytorch/lib/python3.10/site-packages/sklearn/ensemble/_forest.py:612: UserWarning: Some inputs do not have OOB scores. This probably means too few trees were used to compute any reliable OOB estimates.\n",
            "  warn(\n",
            "/home/clip968/miniforge3/envs/pytorch/lib/python3.10/site-packages/sklearn/ensemble/_forest.py:612: UserWarning: Some inputs do not have OOB scores. This probably means too few trees were used to compute any reliable OOB estimates.\n",
            "  warn(\n",
            "/home/clip968/miniforge3/envs/pytorch/lib/python3.10/site-packages/sklearn/ensemble/_forest.py:612: UserWarning: Some inputs do not have OOB scores. This probably means too few trees were used to compute any reliable OOB estimates.\n",
            "  warn(\n",
            "/home/clip968/miniforge3/envs/pytorch/lib/python3.10/site-packages/sklearn/ensemble/_forest.py:612: UserWarning: Some inputs do not have OOB scores. This probably means too few trees were used to compute any reliable OOB estimates.\n",
            "  warn(\n",
            "/home/clip968/miniforge3/envs/pytorch/lib/python3.10/site-packages/sklearn/ensemble/_forest.py:612: UserWarning: Some inputs do not have OOB scores. This probably means too few trees were used to compute any reliable OOB estimates.\n",
            "  warn(\n",
            "/home/clip968/miniforge3/envs/pytorch/lib/python3.10/site-packages/sklearn/ensemble/_forest.py:612: UserWarning: Some inputs do not have OOB scores. This probably means too few trees were used to compute any reliable OOB estimates.\n",
            "  warn(\n",
            "/home/clip968/miniforge3/envs/pytorch/lib/python3.10/site-packages/sklearn/ensemble/_forest.py:612: UserWarning: Some inputs do not have OOB scores. This probably means too few trees were used to compute any reliable OOB estimates.\n",
            "  warn(\n",
            "/home/clip968/miniforge3/envs/pytorch/lib/python3.10/site-packages/sklearn/ensemble/_forest.py:612: UserWarning: Some inputs do not have OOB scores. This probably means too few trees were used to compute any reliable OOB estimates.\n",
            "  warn(\n",
            "/home/clip968/miniforge3/envs/pytorch/lib/python3.10/site-packages/sklearn/ensemble/_forest.py:612: UserWarning: Some inputs do not have OOB scores. This probably means too few trees were used to compute any reliable OOB estimates.\n",
            "  warn(\n",
            "/home/clip968/miniforge3/envs/pytorch/lib/python3.10/site-packages/sklearn/ensemble/_forest.py:612: UserWarning: Some inputs do not have OOB scores. This probably means too few trees were used to compute any reliable OOB estimates.\n",
            "  warn(\n",
            "/home/clip968/miniforge3/envs/pytorch/lib/python3.10/site-packages/sklearn/ensemble/_forest.py:612: UserWarning: Some inputs do not have OOB scores. This probably means too few trees were used to compute any reliable OOB estimates.\n",
            "  warn(\n",
            "/home/clip968/miniforge3/envs/pytorch/lib/python3.10/site-packages/sklearn/ensemble/_forest.py:612: UserWarning: Some inputs do not have OOB scores. This probably means too few trees were used to compute any reliable OOB estimates.\n",
            "  warn(\n",
            "/home/clip968/miniforge3/envs/pytorch/lib/python3.10/site-packages/sklearn/ensemble/_forest.py:612: UserWarning: Some inputs do not have OOB scores. This probably means too few trees were used to compute any reliable OOB estimates.\n",
            "  warn(\n",
            "/home/clip968/miniforge3/envs/pytorch/lib/python3.10/site-packages/sklearn/ensemble/_forest.py:612: UserWarning: Some inputs do not have OOB scores. This probably means too few trees were used to compute any reliable OOB estimates.\n",
            "  warn(\n",
            "/home/clip968/miniforge3/envs/pytorch/lib/python3.10/site-packages/sklearn/ensemble/_forest.py:612: UserWarning: Some inputs do not have OOB scores. This probably means too few trees were used to compute any reliable OOB estimates.\n",
            "  warn(\n",
            "/home/clip968/miniforge3/envs/pytorch/lib/python3.10/site-packages/sklearn/ensemble/_forest.py:612: UserWarning: Some inputs do not have OOB scores. This probably means too few trees were used to compute any reliable OOB estimates.\n",
            "  warn(\n",
            "/home/clip968/miniforge3/envs/pytorch/lib/python3.10/site-packages/sklearn/ensemble/_forest.py:612: UserWarning: Some inputs do not have OOB scores. This probably means too few trees were used to compute any reliable OOB estimates.\n",
            "  warn(\n",
            "/home/clip968/miniforge3/envs/pytorch/lib/python3.10/site-packages/sklearn/ensemble/_forest.py:612: UserWarning: Some inputs do not have OOB scores. This probably means too few trees were used to compute any reliable OOB estimates.\n",
            "  warn(\n",
            "/home/clip968/miniforge3/envs/pytorch/lib/python3.10/site-packages/sklearn/ensemble/_forest.py:612: UserWarning: Some inputs do not have OOB scores. This probably means too few trees were used to compute any reliable OOB estimates.\n",
            "  warn(\n",
            "/home/clip968/miniforge3/envs/pytorch/lib/python3.10/site-packages/sklearn/ensemble/_forest.py:612: UserWarning: Some inputs do not have OOB scores. This probably means too few trees were used to compute any reliable OOB estimates.\n",
            "  warn(\n",
            "/home/clip968/miniforge3/envs/pytorch/lib/python3.10/site-packages/sklearn/ensemble/_forest.py:612: UserWarning: Some inputs do not have OOB scores. This probably means too few trees were used to compute any reliable OOB estimates.\n",
            "  warn(\n",
            "/home/clip968/miniforge3/envs/pytorch/lib/python3.10/site-packages/sklearn/ensemble/_forest.py:612: UserWarning: Some inputs do not have OOB scores. This probably means too few trees were used to compute any reliable OOB estimates.\n",
            "  warn(\n",
            "/home/clip968/miniforge3/envs/pytorch/lib/python3.10/site-packages/sklearn/ensemble/_forest.py:612: UserWarning: Some inputs do not have OOB scores. This probably means too few trees were used to compute any reliable OOB estimates.\n",
            "  warn(\n",
            "/home/clip968/miniforge3/envs/pytorch/lib/python3.10/site-packages/sklearn/ensemble/_forest.py:612: UserWarning: Some inputs do not have OOB scores. This probably means too few trees were used to compute any reliable OOB estimates.\n",
            "  warn(\n",
            "/home/clip968/miniforge3/envs/pytorch/lib/python3.10/site-packages/sklearn/ensemble/_forest.py:612: UserWarning: Some inputs do not have OOB scores. This probably means too few trees were used to compute any reliable OOB estimates.\n",
            "  warn(\n",
            "/home/clip968/miniforge3/envs/pytorch/lib/python3.10/site-packages/sklearn/ensemble/_forest.py:612: UserWarning: Some inputs do not have OOB scores. This probably means too few trees were used to compute any reliable OOB estimates.\n",
            "  warn(\n",
            "/home/clip968/miniforge3/envs/pytorch/lib/python3.10/site-packages/sklearn/ensemble/_forest.py:612: UserWarning: Some inputs do not have OOB scores. This probably means too few trees were used to compute any reliable OOB estimates.\n",
            "  warn(\n",
            "/home/clip968/miniforge3/envs/pytorch/lib/python3.10/site-packages/sklearn/ensemble/_forest.py:612: UserWarning: Some inputs do not have OOB scores. This probably means too few trees were used to compute any reliable OOB estimates.\n",
            "  warn(\n",
            "/home/clip968/miniforge3/envs/pytorch/lib/python3.10/site-packages/sklearn/ensemble/_forest.py:612: UserWarning: Some inputs do not have OOB scores. This probably means too few trees were used to compute any reliable OOB estimates.\n",
            "  warn(\n",
            "/home/clip968/miniforge3/envs/pytorch/lib/python3.10/site-packages/sklearn/ensemble/_forest.py:612: UserWarning: Some inputs do not have OOB scores. This probably means too few trees were used to compute any reliable OOB estimates.\n",
            "  warn(\n",
            "/home/clip968/miniforge3/envs/pytorch/lib/python3.10/site-packages/sklearn/ensemble/_forest.py:612: UserWarning: Some inputs do not have OOB scores. This probably means too few trees were used to compute any reliable OOB estimates.\n",
            "  warn(\n",
            "/home/clip968/miniforge3/envs/pytorch/lib/python3.10/site-packages/sklearn/ensemble/_forest.py:612: UserWarning: Some inputs do not have OOB scores. This probably means too few trees were used to compute any reliable OOB estimates.\n",
            "  warn(\n",
            "/home/clip968/miniforge3/envs/pytorch/lib/python3.10/site-packages/sklearn/ensemble/_forest.py:612: UserWarning: Some inputs do not have OOB scores. This probably means too few trees were used to compute any reliable OOB estimates.\n",
            "  warn(\n",
            "/home/clip968/miniforge3/envs/pytorch/lib/python3.10/site-packages/sklearn/ensemble/_forest.py:612: UserWarning: Some inputs do not have OOB scores. This probably means too few trees were used to compute any reliable OOB estimates.\n",
            "  warn(\n",
            "/home/clip968/miniforge3/envs/pytorch/lib/python3.10/site-packages/sklearn/ensemble/_forest.py:612: UserWarning: Some inputs do not have OOB scores. This probably means too few trees were used to compute any reliable OOB estimates.\n",
            "  warn(\n"
          ]
        },
        {
          "data": {
            "text/plain": [
              "0.8245604011934236"
            ]
          },
          "execution_count": 62,
          "metadata": {},
          "output_type": "execute_result"
        }
      ],
      "source": [
        "from sklearn.model_selection import GridSearchCV\n",
        "\n",
        "params ={\n",
        "    \"n_estimators\" : [10, 20, 30, 50, 100],\n",
        "    \"max_features\" : [1,2,3,4,5,6,7, 10, 15, 20, 25, len(X[0])]\n",
        "    }\n",
        "grid = GridSearchCV(estimator=eclf, param_grid=params, cv=5)\n",
        "grid = grid.fit(X, y)\n",
        "\n",
        "grid.best_score_"
      ]
    },
    {
      "cell_type": "code",
      "execution_count": 63,
      "metadata": {
        "colab": {
          "base_uri": "https://localhost:8080/"
        },
        "id": "tMIfxZNd1gsc",
        "outputId": "576a9da6-3da2-4fa7-a7ae-54379e2a1f8d"
      },
      "outputs": [
        {
          "data": {
            "text/plain": [
              "{'max_features': 25, 'n_estimators': 30}"
            ]
          },
          "execution_count": 63,
          "metadata": {},
          "output_type": "execute_result"
        }
      ],
      "source": [
        "grid.best_params_"
      ]
    },
    {
      "cell_type": "code",
      "execution_count": 64,
      "metadata": {
        "colab": {
          "base_uri": "https://localhost:8080/"
        },
        "id": "4X2rUkmw1i5g",
        "outputId": "37067be2-cdfa-4685-f9d3-3d56418e9f6c"
      },
      "outputs": [
        {
          "data": {
            "text/plain": [
              "0.8087739032620922"
            ]
          },
          "execution_count": 64,
          "metadata": {},
          "output_type": "execute_result"
        }
      ],
      "source": [
        "grid.best_estimator_.oob_score_"
      ]
    },
    {
      "cell_type": "markdown",
      "metadata": {
        "id": "XrTcXseP1lOP"
      },
      "source": [
        "※ 기존 로지스틱 분류기 기반의 배깅 모델보다 훨씬 더 시간이 오래 걸린다. 성능 향상은 다른 알고리즘보다 실험에 의해 많이 좌우된다.\n"
      ]
    },
    {
      "cell_type": "markdown",
      "metadata": {
        "id": "rlBjaXGyCNW5"
      },
      "source": [
        "## 에이다부스트\n",
        "\n",
        "사이킷런에서 제공하는 AdaBoostClassifier를 사용"
      ]
    },
    {
      "cell_type": "code",
      "execution_count": 65,
      "metadata": {
        "id": "W4JujdaZCWPZ"
      },
      "outputs": [],
      "source": [
        "import numpy as np\n",
        "X = np.load(\"titanic_X_train.npy\")\n",
        "y = np.load(\"titanic_y_train.npy\")"
      ]
    },
    {
      "cell_type": "code",
      "execution_count": 66,
      "metadata": {
        "id": "OYp0elgeCeF3"
      },
      "outputs": [],
      "source": [
        "from sklearn.ensemble import AdaBoostClassifier\n",
        "from sklearn.tree import DecisionTreeClassifier\n",
        "eclf = AdaBoostClassifier(estimator=DecisionTreeClassifier(max_depth=2), n_estimators=500)"
      ]
    },
    {
      "cell_type": "code",
      "execution_count": 67,
      "metadata": {
        "colab": {
          "base_uri": "https://localhost:8080/"
        },
        "id": "GnsNsGI-ChOH",
        "outputId": "39750b69-7342-4590-9768-193538ac6666"
      },
      "outputs": [
        {
          "data": {
            "text/plain": [
              "0.8279248397130706"
            ]
          },
          "execution_count": 67,
          "metadata": {},
          "output_type": "execute_result"
        }
      ],
      "source": [
        "from sklearn.model_selection import cross_val_score\n",
        "cross_val_score(eclf, X, y, cv=5).mean()"
      ]
    },
    {
      "cell_type": "markdown",
      "metadata": {
        "id": "9X_wSlW0CkQH"
      },
      "source": [
        "비교군으로 RandomForestClassifier를 생성\n"
      ]
    },
    {
      "cell_type": "code",
      "execution_count": 68,
      "metadata": {
        "colab": {
          "base_uri": "https://localhost:8080/"
        },
        "id": "UH2cpgdSCmYR",
        "outputId": "0d2d5fb4-4d51-44cb-a23d-c48c05b1ea64"
      },
      "outputs": [
        {
          "data": {
            "text/plain": [
              "0.8054338856090902"
            ]
          },
          "execution_count": 68,
          "metadata": {},
          "output_type": "execute_result"
        }
      ],
      "source": [
        "from sklearn.ensemble import RandomForestClassifier\n",
        "eclf = RandomForestClassifier(n_estimators=500)\n",
        "cross_val_score(eclf, X, y, cv=5).mean()"
      ]
    },
    {
      "cell_type": "markdown",
      "metadata": {
        "id": "A9V33HjhCoSt"
      },
      "source": [
        "GridSearchCV를 사용하여 가장 좋은 모델을 찾아 모델의 성능을 향상\n"
      ]
    },
    {
      "cell_type": "code",
      "execution_count": 69,
      "metadata": {
        "colab": {
          "base_uri": "https://localhost:8080/"
        },
        "id": "9vZc0H1ACq7O",
        "outputId": "f645826d-9bcf-49ee-aae1-2ef0036649dd"
      },
      "outputs": [
        {
          "data": {
            "text/plain": [
              "0.8200533231765379"
            ]
          },
          "execution_count": 69,
          "metadata": {},
          "output_type": "execute_result"
        }
      ],
      "source": [
        "eclf = AdaBoostClassifier(estimator=DecisionTreeClassifier(max_depth=2), n_estimators=500)\n",
        "params = {\"estimator__criterion\" : [\"gini\", \"entropy\"], # Changed base_estimator__ to estimator__\n",
        "          \"estimator__max_features\" : [7,8,],          # Changed base_estimator__ to estimator__\n",
        "          \"estimator__max_depth\" : [1,2],             # Changed base_estimator__ to estimator__\n",
        "          \"n_estimators\": [23,24, 25, 26, 27],\n",
        "          \"learning_rate\": [0.4, 0.45, 0.5, 0.55, 0.6]\n",
        "          }\n",
        "\n",
        "from sklearn.model_selection import GridSearchCV\n",
        "grid = GridSearchCV(estimator=eclf, param_grid=params, cv=5, n_jobs=7)\n",
        "grid = grid.fit(X, y)\n",
        "\n",
        "grid.best_score_"
      ]
    },
    {
      "cell_type": "code",
      "execution_count": 70,
      "metadata": {
        "colab": {
          "base_uri": "https://localhost:8080/"
        },
        "id": "1s0IVeQjCufD",
        "outputId": "8dcda61c-92e8-40ab-8466-de7a90edc723"
      },
      "outputs": [
        {
          "data": {
            "text/plain": [
              "{'estimator__criterion': 'gini',\n",
              " 'estimator__max_depth': 2,\n",
              " 'estimator__max_features': 8,\n",
              " 'learning_rate': 0.5,\n",
              " 'n_estimators': 27}"
            ]
          },
          "execution_count": 70,
          "metadata": {},
          "output_type": "execute_result"
        }
      ],
      "source": [
        "grid.best_params_"
      ]
    },
    {
      "cell_type": "markdown",
      "metadata": {
        "id": "Df-5aecjCxP1"
      },
      "source": [
        "feature_importances_로 각 피쳐(feature)들이 모델에 영향을 미치는 정도를 나타낼 수 있다\n"
      ]
    },
    {
      "cell_type": "code",
      "execution_count": 71,
      "metadata": {
        "colab": {
          "base_uri": "https://localhost:8080/"
        },
        "id": "tB9b2X5HCzUW",
        "outputId": "c7c76d14-4ec4-4408-ca14-2a7c68660abc"
      },
      "outputs": [
        {
          "data": {
            "text/plain": [
              "array([0.09068656, 0.10170874, 0.04178637, 0.09459894, 0.22410554,\n",
              "       0.1309261 , 0.07178062, 0.00660204, 0.00591842, 0.02379362,\n",
              "       0.        , 0.        , 0.        , 0.06889058, 0.0142964 ,\n",
              "       0.03498878, 0.05654572, 0.00572308, 0.01352898, 0.        ,\n",
              "       0.        , 0.00792772, 0.        , 0.00619178, 0.        ,\n",
              "       0.        , 0.        ])"
            ]
          },
          "execution_count": 71,
          "metadata": {},
          "output_type": "execute_result"
        }
      ],
      "source": [
        "grid.best_estimator_.feature_importances_"
      ]
    },
    {
      "cell_type": "code",
      "execution_count": null,
      "metadata": {
        "id": "tj83cvKoXDln"
      },
      "outputs": [],
      "source": []
    }
  ],
  "metadata": {
    "colab": {
      "provenance": []
    },
    "kernelspec": {
      "display_name": "pytorch",
      "language": "python",
      "name": "python3"
    },
    "language_info": {
      "codemirror_mode": {
        "name": "ipython",
        "version": 3
      },
      "file_extension": ".py",
      "mimetype": "text/x-python",
      "name": "python",
      "nbconvert_exporter": "python",
      "pygments_lexer": "ipython3",
      "version": "3.10.16"
    }
  },
  "nbformat": 4,
  "nbformat_minor": 0
}
