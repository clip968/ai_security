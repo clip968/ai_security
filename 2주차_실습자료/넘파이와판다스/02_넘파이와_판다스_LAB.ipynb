{
  "nbformat": 4,
  "nbformat_minor": 0,
  "metadata": {
    "colab": {
      "provenance": []
    },
    "kernelspec": {
      "name": "python3",
      "display_name": "Python 3"
    },
    "language_info": {
      "name": "python"
    }
  },
  "cells": [
    {
      "cell_type": "markdown",
      "source": [
        "#I. 우수초콜릿분석"
      ],
      "metadata": {
        "id": "mD6x8F7LiHfy"
      }
    },
    {
      "cell_type": "markdown",
      "source": [
        "##1. CSV를 읽어 배열로 반환하는 넘파이의 loadtxt( ) 함수를 사용하고 delimiter 인자로 데이터를 읽어올 때 구분 기호를 콤마(,)로 설정"
      ],
      "metadata": {
        "id": "yQrx4T9ViMJB"
      }
    },
    {
      "cell_type": "code",
      "source": [
        "import numpy as np\n",
        "data = np.loadtxt('chocolate_ranking.csv', delimiter=',')\n",
        "\n",
        "print('차원:', data.ndim)\n",
        "print('모양:', data.shape)\n",
        "print('원소 수:', data.size)\n",
        "print(data)"
      ],
      "metadata": {
        "id": "8vA_Suf34XT7"
      },
      "execution_count": null,
      "outputs": []
    },
    {
      "cell_type": "markdown",
      "source": [
        "##2. 모든 초콜릿의 평균 평점을 알아보기. 슬라이싱한 넘파이 배열에 통계함수 mean( )을 사용"
      ],
      "metadata": {
        "id": "MYV9qum1iTbL"
      }
    },
    {
      "cell_type": "code",
      "source": [
        "ratings_mean = data[:,3].mean()\n",
        "print(ratings_mean)"
      ],
      "metadata": {
        "id": "kX6h26Pt5KT0"
      },
      "execution_count": null,
      "outputs": []
    },
    {
      "cell_type": "markdown",
      "source": [
        "##3.평점이 4 이상인 우수 초콜릿을 high_level로 저장. 우수 초콜릿의 번호를 정수로 변환"
      ],
      "metadata": {
        "id": "9YdqteR8iYJC"
      }
    },
    {
      "cell_type": "code",
      "source": [
        "high_level = data[data[:,3] >= 4]\n",
        "high_id = high_level[:,0].astype(np.int64)\n",
        "print('우수 초콜릿 수:', high_id.size)\n",
        "print(high_id)"
      ],
      "metadata": {
        "id": "YC_fpcYA5hxt"
      },
      "execution_count": null,
      "outputs": []
    },
    {
      "cell_type": "markdown",
      "source": [
        "##4.우수 초콜릿의 카카오 함유량 빈도를 분석합니다. 넘파이의 unique( ) 함수는 배열에서 중복 값을 제거하여 남은 값의 배열과 빈도수를 반환"
      ],
      "metadata": {
        "id": "vzVeTJmSiaiA"
      }
    },
    {
      "cell_type": "code",
      "source": [
        "high_kakao = high_level[:,2]\n",
        "unique_values, value_counts = np.unique(high_kakao, return_counts=True)\n",
        "print('카카오 함유량:', unique_values)\n",
        "print('함유량별 빈도수:', value_counts)"
      ],
      "metadata": {
        "id": "tPZILWO-5hvw"
      },
      "execution_count": null,
      "outputs": []
    },
    {
      "cell_type": "markdown",
      "source": [
        "##5.우수 초콜릿 중 가장 빈도수가 큰 카카오 함유량을 구함"
      ],
      "metadata": {
        "id": "qS1oHrLdifd_"
      }
    },
    {
      "cell_type": "code",
      "source": [
        "max_index = np.argmax(value_counts)\n",
        "print(unique_values[max_index])\n",
        "print('우수 초콜릿', high_id.size, '가지 중', value_counts[max_index],\\\n",
        "      '가지의 카카오 함유량이', unique_values[max_index] * 100, '%입니다.')"
      ],
      "metadata": {
        "id": "TmjSDCNP5hty"
      },
      "execution_count": null,
      "outputs": []
    },
    {
      "cell_type": "markdown",
      "source": [
        "#II.강의 시간표 분석"
      ],
      "metadata": {
        "id": "hyfrtF89ijOs"
      }
    },
    {
      "cell_type": "markdown",
      "source": [
        "##1.열 이름과 시간표 데이터를 리스트로 저장"
      ],
      "metadata": {
        "id": "rEPWFR-_iv7z"
      }
    },
    {
      "cell_type": "code",
      "source": [
        "col_names = ['과목번호', '과목명', '강의실', '시간수']\n",
        "list1 = list([['C1', '인공지능개론', 'R1', 3],\n",
        "              ['C2', '웃음치료', 'R2', 2],\n",
        "              ['C3', '경영학', 'R3', 3],\n",
        "              ['C4', '3D디자인', 'R4', 4],\n",
        "              ['C5', '스포츠경영', 'R2', 2],\n",
        "              ['C6', '예술의 세계', 'R3', 1]])"
      ],
      "metadata": {
        "id": "qy3rYAlvQkEP"
      },
      "execution_count": null,
      "outputs": []
    },
    {
      "cell_type": "markdown",
      "source": [
        "##2.시간표 데이터를 데이터프레임 객체 df로 변환하여 CSV 파일로 저장"
      ],
      "metadata": {
        "id": "KPfa8iJpi0IJ"
      }
    },
    {
      "cell_type": "code",
      "source": [
        "import pandas as pd\n",
        "df = pd.DataFrame(list1, columns=col_names)\n",
        "df.to_csv('./timetable.csv', header=True, index=False, encoding='utf-8')"
      ],
      "metadata": {
        "id": "oP7s69FyRwMJ"
      },
      "execution_count": null,
      "outputs": []
    },
    {
      "cell_type": "markdown",
      "source": [
        "##3.‘timetable.csv’ 파일을 데이터프레임 객체 df2로 읽고, 열 이름이 ‘교수’인 열을 추가. 값으로 ‘김예희’, ‘오정현’, ‘인세훈’, ‘이새봄’, ‘배유진’, ‘이가원’을 저장."
      ],
      "metadata": {
        "id": "G7hwpoCqi45r"
      }
    },
    {
      "cell_type": "code",
      "source": [
        "df2 = pd.read_csv('./timetable.csv', sep=',')\n",
        "df2['교수'] = ['김예희', '오정현', '인세훈', '이새봄', '배유진', '이가원']\n",
        "df2"
      ],
      "metadata": {
        "id": "y6FbVfrTVZ69"
      },
      "execution_count": null,
      "outputs": []
    },
    {
      "cell_type": "markdown",
      "source": [
        "##4.강의실을 기준으로 그룹화하여 max( ) 함수로 최대 시간 수를 구하기."
      ],
      "metadata": {
        "id": "bvAdLJTPjPgb"
      }
    },
    {
      "cell_type": "code",
      "execution_count": null,
      "metadata": {
        "id": "4LkEatnyQYeN"
      },
      "outputs": [],
      "source": [
        "max_hour = df2.groupby(by=['강의실'], as_index=False)['시간수'].max()\n",
        "max_hour"
      ]
    }
  ]
}