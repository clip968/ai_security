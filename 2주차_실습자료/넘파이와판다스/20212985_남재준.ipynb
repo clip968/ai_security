{
  "cells": [
    {
      "cell_type": "markdown",
      "metadata": {
        "id": "mD6x8F7LiHfy"
      },
      "source": [
        "#I. 우수초콜릿분석"
      ]
    },
    {
      "cell_type": "markdown",
      "metadata": {
        "id": "yQrx4T9ViMJB"
      },
      "source": [
        "##1. CSV를 읽어 배열로 반환하는 넘파이의 loadtxt( ) 함수를 사용하고 delimiter 인자로 데이터를 읽어올 때 구분 기호를 콤마(,)로 설정"
      ]
    },
    {
      "cell_type": "code",
      "execution_count": 4,
      "metadata": {
        "id": "8vA_Suf34XT7"
      },
      "outputs": [
        {
          "name": "stdout",
          "output_type": "stream",
          "text": [
            "차원: 2\n",
            "모양: (1795, 4)\n",
            "원소 수: 7180\n",
            "[[1.000e+00 2.016e+03 6.300e-01 3.750e+00]\n",
            " [2.000e+00 2.015e+03 7.000e-01 2.750e+00]\n",
            " [3.000e+00 2.015e+03 7.000e-01 3.000e+00]\n",
            " ...\n",
            " [1.793e+03 2.011e+03 6.500e-01 3.500e+00]\n",
            " [1.794e+03 2.011e+03 6.200e-01 3.250e+00]\n",
            " [1.795e+03 2.010e+03 6.500e-01 3.000e+00]]\n"
          ]
        }
      ],
      "source": [
        "import numpy as np\n",
        "data = np.loadtxt('chocolate_ranking.csv', delimiter=',')\n",
        "\n",
        "#빈칸 채우기\n",
        "print('차원:', data.ndim)\n",
        "print('모양:', data.shape)\n",
        "print('원소 수:', data.size)\n",
        "print(data)"
      ]
    },
    {
      "cell_type": "markdown",
      "metadata": {
        "id": "MYV9qum1iTbL"
      },
      "source": [
        "##2. 모든 초콜릿의 평균 평점을 알아보기. 슬라이싱한 넘파이 배열에 통계함수 mean( )을 사용"
      ]
    },
    {
      "cell_type": "code",
      "execution_count": 5,
      "metadata": {
        "id": "kX6h26Pt5KT0"
      },
      "outputs": [
        {
          "name": "stdout",
          "output_type": "stream",
          "text": [
            "505.8\n"
          ]
        }
      ],
      "source": [
        "#빈칸 채우기\n",
        "ratings_mean =  data[3].mean()\n",
        "print(ratings_mean)"
      ]
    },
    {
      "cell_type": "markdown",
      "metadata": {
        "id": "9YdqteR8iYJC"
      },
      "source": [
        "##3.평점이 4 이상인 우수 초콜릿을 high_level로 저장. 우수 초콜릿의 번호를 정수로 변환"
      ]
    },
    {
      "cell_type": "code",
      "execution_count": 6,
      "metadata": {
        "id": "YC_fpcYA5hxt"
      },
      "outputs": [
        {
          "name": "stdout",
          "output_type": "stream",
          "text": [
            "우수 초콜릿 수: 100\n",
            "[  10   18   21   55   57   77   78   79   84   87   88   93  108  109\n",
            "  118  124  153  180  181  187  223  232  233  240  243  244  245  248\n",
            "  257  312  316  317  358  437  503  567  573  574  582  601  650  687\n",
            "  690  691  701  720  730  800  828  862  864  865  866  883  919  993\n",
            " 1088 1089 1118 1119 1120 1204 1241 1245 1247 1274 1277 1278 1289 1291\n",
            " 1293 1295 1323 1331 1336 1378 1394 1426 1428 1433 1479 1488 1513 1516\n",
            " 1529 1530 1531 1533 1536 1537 1544 1545 1664 1683 1686 1688 1694 1700\n",
            " 1740 1757]\n"
          ]
        }
      ],
      "source": [
        "#빈칸 채우기\n",
        "high_level = data[:, 3] >= 4\n",
        "# print(high_level)\n",
        "high_id = data[high_level][:, 0].astype(int)\n",
        "print('우수 초콜릿 수:', high_id.size)\n",
        "print(high_id)\n",
        "# print(high_level)"
      ]
    },
    {
      "cell_type": "markdown",
      "metadata": {
        "id": "vzVeTJmSiaiA"
      },
      "source": [
        "##4.우수 초콜릿의 카카오 함유량 빈도를 분석합니다. 넘파이의 unique( ) 함수는 배열에서 중복 값을 제거하여 남은 값의 배열과 빈도수를 반환"
      ]
    },
    {
      "cell_type": "code",
      "execution_count": 7,
      "metadata": {
        "id": "tPZILWO-5hvw"
      },
      "outputs": [
        {
          "name": "stdout",
          "output_type": "stream",
          "text": [
            "카카오 함유량: [0.6  0.63 0.64 0.65 0.66 0.67 0.68 0.69 0.7  0.71 0.72 0.73 0.74 0.75\n",
            " 0.78 0.8  0.88]\n",
            "함유량별 빈도수: [ 1  3  4  2  1  3  2  2 45  1 11  1  4 17  1  1  1]\n"
          ]
        }
      ],
      "source": [
        "#빈칸 채우기\n",
        "# high_kakao = high_id\n",
        "high_kakao = data[high_level][:, 2]\n",
        "# print(high_kakao)\n",
        "unique_values, value_counts = np.unique(high_kakao, return_counts=True)\n",
        "print('카카오 함유량:', unique_values)\n",
        "print('함유량별 빈도수:', value_counts)"
      ]
    },
    {
      "cell_type": "markdown",
      "metadata": {
        "id": "qS1oHrLdifd_"
      },
      "source": [
        "##5.우수 초콜릿 중 가장 빈도수가 큰 카카오 함유량을 구함"
      ]
    },
    {
      "cell_type": "code",
      "execution_count": 8,
      "metadata": {
        "id": "TmjSDCNP5hty"
      },
      "outputs": [
        {
          "name": "stdout",
          "output_type": "stream",
          "text": [
            "0.7\n",
            "우수 초콜릿 100 가지 중 45 가지의 카카오 함유량이 70.0 %입니다.\n"
          ]
        }
      ],
      "source": [
        "#빈칸 채우\n",
        "max_index = np.argmax(value_counts)\n",
        "# print(max_index)\n",
        "print(unique_values[max_index])\n",
        "print('우수 초콜릿', high_id.size, '가지 중', value_counts[max_index],\\\n",
        "      '가지의 카카오 함유량이', unique_values[max_index] * 100, '%입니다.')"
      ]
    },
    {
      "cell_type": "markdown",
      "metadata": {
        "id": "hyfrtF89ijOs"
      },
      "source": [
        "#II.강의 시간표 분석"
      ]
    },
    {
      "cell_type": "markdown",
      "metadata": {
        "id": "rEPWFR-_iv7z"
      },
      "source": [
        "##1.열 이름과 시간표 데이터를 리스트로 저장"
      ]
    },
    {
      "cell_type": "code",
      "execution_count": 9,
      "metadata": {
        "id": "qy3rYAlvQkEP"
      },
      "outputs": [],
      "source": [
        "col_names = ['과목번호', '과목명', '강의실', '시간수']\n",
        "list1 = list([['C1', '인공지능개론', 'R1', 3],\n",
        "              ['C2', '웃음치료', 'R2', 2],\n",
        "              ['C3', '경영학', 'R3', 3],\n",
        "              ['C4', '3D디자인', 'R4', 4],\n",
        "              ['C5', '스포츠경영', 'R2', 2],\n",
        "              ['C6', '예술의 세계', 'R3', 1]])"
      ]
    },
    {
      "cell_type": "markdown",
      "metadata": {
        "id": "KPfa8iJpi0IJ"
      },
      "source": [
        "##2.시간표 데이터를 데이터프레임 객체 df로 변환하여 CSV 파일로 저장"
      ]
    },
    {
      "cell_type": "code",
      "execution_count": 10,
      "metadata": {
        "id": "oP7s69FyRwMJ"
      },
      "outputs": [],
      "source": [
        "import pandas as pd\n",
        "df = pd.DataFrame(list1, columns=col_names)\n",
        "df.to_csv('./timetable.csv', header=True, index=False, encoding='utf-8')"
      ]
    },
    {
      "cell_type": "markdown",
      "metadata": {
        "id": "G7hwpoCqi45r"
      },
      "source": [
        "##3.‘timetable.csv’ 파일을 데이터프레임 객체 df2로 읽고, 열 이름이 ‘교수’인 열을 추가. 값으로 ‘김예희’, ‘오정현’, ‘인세훈’, ‘이새봄’, ‘배유진’, ‘이가원’을 저장."
      ]
    },
    {
      "cell_type": "code",
      "execution_count": 11,
      "metadata": {
        "id": "y6FbVfrTVZ69"
      },
      "outputs": [
        {
          "data": {
            "text/html": [
              "<div>\n",
              "<style scoped>\n",
              "    .dataframe tbody tr th:only-of-type {\n",
              "        vertical-align: middle;\n",
              "    }\n",
              "\n",
              "    .dataframe tbody tr th {\n",
              "        vertical-align: top;\n",
              "    }\n",
              "\n",
              "    .dataframe thead th {\n",
              "        text-align: right;\n",
              "    }\n",
              "</style>\n",
              "<table border=\"1\" class=\"dataframe\">\n",
              "  <thead>\n",
              "    <tr style=\"text-align: right;\">\n",
              "      <th></th>\n",
              "      <th>과목번호</th>\n",
              "      <th>과목명</th>\n",
              "      <th>강의실</th>\n",
              "      <th>시간수</th>\n",
              "      <th>교수</th>\n",
              "    </tr>\n",
              "  </thead>\n",
              "  <tbody>\n",
              "    <tr>\n",
              "      <th>0</th>\n",
              "      <td>C1</td>\n",
              "      <td>인공지능개론</td>\n",
              "      <td>R1</td>\n",
              "      <td>3</td>\n",
              "      <td>김예희</td>\n",
              "    </tr>\n",
              "    <tr>\n",
              "      <th>1</th>\n",
              "      <td>C2</td>\n",
              "      <td>웃음치료</td>\n",
              "      <td>R2</td>\n",
              "      <td>2</td>\n",
              "      <td>오정현</td>\n",
              "    </tr>\n",
              "    <tr>\n",
              "      <th>2</th>\n",
              "      <td>C3</td>\n",
              "      <td>경영학</td>\n",
              "      <td>R3</td>\n",
              "      <td>3</td>\n",
              "      <td>인세훈</td>\n",
              "    </tr>\n",
              "    <tr>\n",
              "      <th>3</th>\n",
              "      <td>C4</td>\n",
              "      <td>3D디자인</td>\n",
              "      <td>R4</td>\n",
              "      <td>4</td>\n",
              "      <td>이새봄</td>\n",
              "    </tr>\n",
              "    <tr>\n",
              "      <th>4</th>\n",
              "      <td>C5</td>\n",
              "      <td>스포츠경영</td>\n",
              "      <td>R2</td>\n",
              "      <td>2</td>\n",
              "      <td>배유진</td>\n",
              "    </tr>\n",
              "    <tr>\n",
              "      <th>5</th>\n",
              "      <td>C6</td>\n",
              "      <td>예술의 세계</td>\n",
              "      <td>R3</td>\n",
              "      <td>1</td>\n",
              "      <td>이가원</td>\n",
              "    </tr>\n",
              "  </tbody>\n",
              "</table>\n",
              "</div>"
            ],
            "text/plain": [
              "  과목번호     과목명 강의실  시간수   교수\n",
              "0   C1  인공지능개론  R1    3  김예희\n",
              "1   C2    웃음치료  R2    2  오정현\n",
              "2   C3     경영학  R3    3  인세훈\n",
              "3   C4   3D디자인  R4    4  이새봄\n",
              "4   C5   스포츠경영  R2    2  배유진\n",
              "5   C6  예술의 세계  R3    1  이가원"
            ]
          },
          "execution_count": 11,
          "metadata": {},
          "output_type": "execute_result"
        }
      ],
      "source": [
        "#빈칸 채우기\n",
        "df2 = pd.read_csv('./timetable.csv', sep=',')\n",
        "\n",
        "#열 이름이 ‘교수’인 열을 추가.\n",
        "#값으로 ‘김예희’, ‘오정현’, ‘인세훈’, ‘이새봄’, ‘배유진’, ‘이가원’을 저장\n",
        "##여기에 코드를 작성하시오\n",
        "df2['교수'] = ['김예희', '오정현', '인세훈', '이새봄', '배유진', '이가원']\n",
        "\n",
        "df2"
      ]
    },
    {
      "cell_type": "markdown",
      "metadata": {
        "id": "bvAdLJTPjPgb"
      },
      "source": [
        "##4.강의실을 기준으로 그룹화하여 max( ) 함수로 최대 시간 수를 구하기."
      ]
    },
    {
      "cell_type": "code",
      "execution_count": 12,
      "metadata": {
        "id": "4LkEatnyQYeN"
      },
      "outputs": [
        {
          "data": {
            "text/html": [
              "<div>\n",
              "<style scoped>\n",
              "    .dataframe tbody tr th:only-of-type {\n",
              "        vertical-align: middle;\n",
              "    }\n",
              "\n",
              "    .dataframe tbody tr th {\n",
              "        vertical-align: top;\n",
              "    }\n",
              "\n",
              "    .dataframe thead th {\n",
              "        text-align: right;\n",
              "    }\n",
              "</style>\n",
              "<table border=\"1\" class=\"dataframe\">\n",
              "  <thead>\n",
              "    <tr style=\"text-align: right;\">\n",
              "      <th></th>\n",
              "      <th>강의실</th>\n",
              "      <th>시간수</th>\n",
              "    </tr>\n",
              "  </thead>\n",
              "  <tbody>\n",
              "    <tr>\n",
              "      <th>0</th>\n",
              "      <td>R1</td>\n",
              "      <td>3</td>\n",
              "    </tr>\n",
              "    <tr>\n",
              "      <th>1</th>\n",
              "      <td>R2</td>\n",
              "      <td>2</td>\n",
              "    </tr>\n",
              "    <tr>\n",
              "      <th>2</th>\n",
              "      <td>R3</td>\n",
              "      <td>3</td>\n",
              "    </tr>\n",
              "    <tr>\n",
              "      <th>3</th>\n",
              "      <td>R4</td>\n",
              "      <td>4</td>\n",
              "    </tr>\n",
              "  </tbody>\n",
              "</table>\n",
              "</div>"
            ],
            "text/plain": [
              "  강의실  시간수\n",
              "0  R1    3\n",
              "1  R2    2\n",
              "2  R3    3\n",
              "3  R4    4"
            ]
          },
          "execution_count": 12,
          "metadata": {},
          "output_type": "execute_result"
        }
      ],
      "source": [
        "max_hour = df2.groupby(by=['강의실'], as_index=False)['시간수'].max()\n",
        "max_hour"
      ]
    }
  ],
  "metadata": {
    "colab": {
      "provenance": []
    },
    "kernelspec": {
      "display_name": "venv",
      "language": "python",
      "name": "python3"
    },
    "language_info": {
      "codemirror_mode": {
        "name": "ipython",
        "version": 3
      },
      "file_extension": ".py",
      "mimetype": "text/x-python",
      "name": "python",
      "nbconvert_exporter": "python",
      "pygments_lexer": "ipython3",
      "version": "3.13.2"
    }
  },
  "nbformat": 4,
  "nbformat_minor": 0
}
