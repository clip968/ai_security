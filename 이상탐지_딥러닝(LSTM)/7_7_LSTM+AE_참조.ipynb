{
  "nbformat": 4,
  "nbformat_minor": 0,
  "metadata": {
    "colab": {
      "provenance": []
    },
    "kernelspec": {
      "display_name": "Python 3",
      "language": "python",
      "name": "python3"
    },
    "language_info": {
      "codemirror_mode": {
        "name": "ipython",
        "version": 3
      },
      "file_extension": ".py",
      "mimetype": "text/x-python",
      "name": "python",
      "nbconvert_exporter": "python",
      "pygments_lexer": "ipython3",
      "version": "3.7.10"
    },
    "accelerator": "GPU"
  },
  "cells": [
    {
      "cell_type": "markdown",
      "metadata": {
        "id": "H2PiE6pYmBv7"
      },
      "source": [
        "# LSTM + AE\n",
        "\n"
      ]
    },
    {
      "cell_type": "markdown",
      "metadata": {
        "id": "KC4DsjCWVOJW"
      },
      "source": [
        "# [1] 쉬운 예제"
      ]
    },
    {
      "cell_type": "markdown",
      "metadata": {
        "id": "Wyg1gRj8ZxMK"
      },
      "source": [
        "## 1.환경준비"
      ]
    },
    {
      "cell_type": "markdown",
      "metadata": {
        "id": "dSsCFlrNaQQW"
      },
      "source": [
        "### 1) 라이브러리 로딩"
      ]
    },
    {
      "cell_type": "code",
      "metadata": {
        "id": "NJ_O2dJ1iNH-"
      },
      "source": [
        "# import packages\n",
        "import pandas as pd\n",
        "import numpy as np\n",
        "\n",
        "import tensorflow as tf\n",
        "import matplotlib.pyplot as plt\n",
        "import seaborn as sns\n",
        "\n",
        "from sklearn.model_selection import train_test_split\n",
        "from sklearn.metrics import *\n",
        "from sklearn.preprocessing import StandardScaler\n",
        "\n",
        "import tensorflow.keras as keras\n",
        "from keras.models import Model, Sequential\n",
        "from keras.layers import Input, Dense, LSTM, RepeatVector, TimeDistributed\n",
        "from keras.backend import clear_session"
      ],
      "execution_count": null,
      "outputs": []
    },
    {
      "cell_type": "markdown",
      "metadata": {
        "id": "0MmtQUFVOC7N"
      },
      "source": [
        "### 2) 데이터셋"
      ]
    },
    {
      "cell_type": "code",
      "metadata": {
        "id": "SWWtvpP3O2yQ",
        "colab": {
          "base_uri": "https://localhost:8080/"
        },
        "outputId": "e0175989-633f-436a-bf44-519a0dc0cc85"
      },
      "source": [
        "# 간단한 데이터 생성\n",
        "x = np.array([[0.1, 0.2, 0.3, 0.4, 0.5, 0.6, 0.7, 0.8, 0.9],\n",
        "                       [0.1**3, 0.2**3, 0.3**3, 0.4**3, 0.5**3, 0.6**3, 0.7**3, 0.8**3, 0.9**3]]).transpose()\n",
        "y = np.zeros(9)\n",
        "\n",
        "timesteps = x.shape[0]\n",
        "n_features = x.shape[1]\n",
        "x"
      ],
      "execution_count": null,
      "outputs": [
        {
          "output_type": "execute_result",
          "data": {
            "text/plain": [
              "array([[0.1  , 0.001],\n",
              "       [0.2  , 0.008],\n",
              "       [0.3  , 0.027],\n",
              "       [0.4  , 0.064],\n",
              "       [0.5  , 0.125],\n",
              "       [0.6  , 0.216],\n",
              "       [0.7  , 0.343],\n",
              "       [0.8  , 0.512],\n",
              "       [0.9  , 0.729]])"
            ]
          },
          "metadata": {},
          "execution_count": 2
        }
      ]
    },
    {
      "cell_type": "markdown",
      "metadata": {
        "id": "hZpmnlm_ZoGN"
      },
      "source": [
        "### 3) 필요 함수들 생성"
      ]
    },
    {
      "cell_type": "markdown",
      "metadata": {
        "id": "S6BGTJKAzBCU"
      },
      "source": [
        "* 시계열 데이터 분석을 위한 전처리(for LSTM, CNN)"
      ]
    },
    {
      "cell_type": "code",
      "metadata": {
        "id": "Kno1SnLdzBCZ"
      },
      "source": [
        "def temporalize(x, y, timestep):\n",
        "    output_X = []\n",
        "    output_y = []\n",
        "    for i in range(len(x) - timestep + 1 ):\n",
        "        t = []\n",
        "        for j in range(timestep):\n",
        "            t.append(x[[(i + j)], :])\n",
        "        output_X.append(t)\n",
        "        output_y.append(y[i + timestep - 1])\n",
        "    return np.squeeze(np.array(output_X)), np.array(output_y)"
      ],
      "execution_count": null,
      "outputs": []
    },
    {
      "cell_type": "markdown",
      "metadata": {
        "id": "Gj8GcKR3ar5B"
      },
      "source": [
        "## 2.데이터 준비"
      ]
    },
    {
      "cell_type": "code",
      "source": [
        "x"
      ],
      "metadata": {
        "id": "WSt_4unRtSLT",
        "colab": {
          "base_uri": "https://localhost:8080/"
        },
        "outputId": "a06ce6b9-ee32-4f99-d726-4197f3fc5a68"
      },
      "execution_count": null,
      "outputs": [
        {
          "output_type": "execute_result",
          "data": {
            "text/plain": [
              "array([[0.1  , 0.001],\n",
              "       [0.2  , 0.008],\n",
              "       [0.3  , 0.027],\n",
              "       [0.4  , 0.064],\n",
              "       [0.5  , 0.125],\n",
              "       [0.6  , 0.216],\n",
              "       [0.7  , 0.343],\n",
              "       [0.8  , 0.512],\n",
              "       [0.9  , 0.729]])"
            ]
          },
          "metadata": {},
          "execution_count": 4
        }
      ]
    },
    {
      "cell_type": "code",
      "metadata": {
        "id": "Pl8Um4pJ2e1k"
      },
      "source": [
        "timesteps = 3\n",
        "x1, y1 = temporalize(x, y, timesteps)"
      ],
      "execution_count": null,
      "outputs": []
    },
    {
      "cell_type": "code",
      "metadata": {
        "id": "TmeApqJ12erV",
        "colab": {
          "base_uri": "https://localhost:8080/"
        },
        "outputId": "e29f2f1e-40b1-45a3-ee69-4fd1f123ebcf"
      },
      "source": [
        "x1.shape, y1.shape"
      ],
      "execution_count": null,
      "outputs": [
        {
          "output_type": "execute_result",
          "data": {
            "text/plain": [
              "((7, 3, 2), (7,))"
            ]
          },
          "metadata": {},
          "execution_count": 6
        }
      ]
    },
    {
      "cell_type": "code",
      "metadata": {
        "id": "QlG8Nu0E3Fi2",
        "colab": {
          "base_uri": "https://localhost:8080/"
        },
        "outputId": "253eb3d3-369d-421f-aa20-81bc1b94129d"
      },
      "source": [
        "x1"
      ],
      "execution_count": null,
      "outputs": [
        {
          "output_type": "execute_result",
          "data": {
            "text/plain": [
              "array([[[0.1  , 0.001],\n",
              "        [0.2  , 0.008],\n",
              "        [0.3  , 0.027]],\n",
              "\n",
              "       [[0.2  , 0.008],\n",
              "        [0.3  , 0.027],\n",
              "        [0.4  , 0.064]],\n",
              "\n",
              "       [[0.3  , 0.027],\n",
              "        [0.4  , 0.064],\n",
              "        [0.5  , 0.125]],\n",
              "\n",
              "       [[0.4  , 0.064],\n",
              "        [0.5  , 0.125],\n",
              "        [0.6  , 0.216]],\n",
              "\n",
              "       [[0.5  , 0.125],\n",
              "        [0.6  , 0.216],\n",
              "        [0.7  , 0.343]],\n",
              "\n",
              "       [[0.6  , 0.216],\n",
              "        [0.7  , 0.343],\n",
              "        [0.8  , 0.512]],\n",
              "\n",
              "       [[0.7  , 0.343],\n",
              "        [0.8  , 0.512],\n",
              "        [0.9  , 0.729]]])"
            ]
          },
          "metadata": {},
          "execution_count": 7
        }
      ]
    },
    {
      "cell_type": "markdown",
      "metadata": {
        "id": "K4kA7AsdYKoF"
      },
      "source": [
        "## 3.모델링 : LSTM+AE\n",
        "\n"
      ]
    },
    {
      "cell_type": "code",
      "source": [
        "x1.shape"
      ],
      "metadata": {
        "id": "KoD_UYw_YIs_",
        "colab": {
          "base_uri": "https://localhost:8080/"
        },
        "outputId": "782bf647-760e-4647-f3f3-c32406674b19"
      },
      "execution_count": null,
      "outputs": [
        {
          "output_type": "execute_result",
          "data": {
            "text/plain": [
              "(7, 3, 2)"
            ]
          },
          "metadata": {},
          "execution_count": 8
        }
      ]
    },
    {
      "cell_type": "code",
      "metadata": {
        "id": "KXye9Fi7WfdA"
      },
      "source": [
        "n_features =  x1.shape[2] # 2"
      ],
      "execution_count": null,
      "outputs": []
    },
    {
      "cell_type": "code",
      "metadata": {
        "id": "PhzD2FVF3FMU",
        "colab": {
          "base_uri": "https://localhost:8080/"
        },
        "outputId": "daf08d70-6654-49e3-b25b-2013e1c1dc47"
      },
      "source": [
        "clear_session()\n",
        "\n",
        "# Encoder\n",
        "input_layer = Input(shape=(timesteps, n_features))\n",
        "encoder = LSTM(128, return_sequences=True)(input_layer)\n",
        "encoder = LSTM(64, return_sequences=False)(encoder)\n",
        "encoder = RepeatVector(timesteps)(encoder)\n",
        "# Decoder\n",
        "decoder = LSTM(64, return_sequences=True)(encoder)\n",
        "decoder = LSTM(128, return_sequences=True)(decoder)\n",
        "decoder = TimeDistributed(Dense(n_features))(decoder)\n",
        "lstm_ae = Model(inputs=input_layer, outputs=decoder)\n",
        "\n",
        "lstm_ae.summary()"
      ],
      "execution_count": null,
      "outputs": [
        {
          "output_type": "stream",
          "name": "stdout",
          "text": [
            "Model: \"model\"\n",
            "_________________________________________________________________\n",
            " Layer (type)                Output Shape              Param #   \n",
            "=================================================================\n",
            " input_1 (InputLayer)        [(None, 3, 2)]            0         \n",
            "                                                                 \n",
            " lstm (LSTM)                 (None, 3, 128)            67072     \n",
            "                                                                 \n",
            " lstm_1 (LSTM)               (None, 64)                49408     \n",
            "                                                                 \n",
            " repeat_vector (RepeatVecto  (None, 3, 64)             0         \n",
            " r)                                                              \n",
            "                                                                 \n",
            " lstm_2 (LSTM)               (None, 3, 64)             33024     \n",
            "                                                                 \n",
            " lstm_3 (LSTM)               (None, 3, 128)            98816     \n",
            "                                                                 \n",
            " time_distributed (TimeDist  (None, 3, 2)              258       \n",
            " ributed)                                                        \n",
            "                                                                 \n",
            "=================================================================\n",
            "Total params: 248578 (971.01 KB)\n",
            "Trainable params: 248578 (971.01 KB)\n",
            "Non-trainable params: 0 (0.00 Byte)\n",
            "_________________________________________________________________\n"
          ]
        }
      ]
    },
    {
      "cell_type": "code",
      "metadata": {
        "id": "ux6H7RgKUXCV",
        "colab": {
          "base_uri": "https://localhost:8080/"
        },
        "outputId": "18baaa42-a7e3-4a1b-bdc1-f2c6b3976c05"
      },
      "source": [
        "lstm_ae.compile(optimizer='adam', loss = 'mse')\n",
        "lstm_ae.fit(x1, x1, epochs=50, batch_size=5, verbose=0)\n",
        "\n",
        "pred = lstm_ae.predict(x1)\n",
        "print('---Predicted---')\n",
        "print(np.round(pred,3))\n",
        "print('---Actual---')\n",
        "print(np.round(x1, 3))"
      ],
      "execution_count": null,
      "outputs": [
        {
          "output_type": "stream",
          "name": "stdout",
          "text": [
            "1/1 [==============================] - 3s 3s/step\n",
            "---Predicted---\n",
            "[[[ 0.178  0.009]\n",
            "  [ 0.261 -0.   ]\n",
            "  [ 0.3   -0.015]]\n",
            "\n",
            " [[ 0.222  0.027]\n",
            "  [ 0.334  0.036]\n",
            "  [ 0.382  0.036]]\n",
            "\n",
            " [[ 0.278  0.052]\n",
            "  [ 0.421  0.085]\n",
            "  [ 0.472  0.103]]\n",
            "\n",
            " [[ 0.352  0.087]\n",
            "  [ 0.525  0.152]\n",
            "  [ 0.571  0.196]]\n",
            "\n",
            " [[ 0.45   0.137]\n",
            "  [ 0.646  0.247]\n",
            "  [ 0.67   0.324]]\n",
            "\n",
            " [[ 0.577  0.208]\n",
            "  [ 0.775  0.376]\n",
            "  [ 0.76   0.491]]\n",
            "\n",
            " [[ 0.731  0.306]\n",
            "  [ 0.897  0.539]\n",
            "  [ 0.83   0.695]]]\n",
            "---Actual---\n",
            "[[[0.1   0.001]\n",
            "  [0.2   0.008]\n",
            "  [0.3   0.027]]\n",
            "\n",
            " [[0.2   0.008]\n",
            "  [0.3   0.027]\n",
            "  [0.4   0.064]]\n",
            "\n",
            " [[0.3   0.027]\n",
            "  [0.4   0.064]\n",
            "  [0.5   0.125]]\n",
            "\n",
            " [[0.4   0.064]\n",
            "  [0.5   0.125]\n",
            "  [0.6   0.216]]\n",
            "\n",
            " [[0.5   0.125]\n",
            "  [0.6   0.216]\n",
            "  [0.7   0.343]]\n",
            "\n",
            " [[0.6   0.216]\n",
            "  [0.7   0.343]\n",
            "  [0.8   0.512]]\n",
            "\n",
            " [[0.7   0.343]\n",
            "  [0.8   0.512]\n",
            "  [0.9   0.729]]]\n"
          ]
        }
      ]
    },
    {
      "cell_type": "markdown",
      "metadata": {
        "id": "qHRFpuQsVeC2"
      },
      "source": [
        "# [2] pulp-and-paper mill 공정 데이터"
      ]
    },
    {
      "cell_type": "markdown",
      "metadata": {
        "id": "dsMZZggXVeC2"
      },
      "source": [
        "## 1.환경준비"
      ]
    },
    {
      "cell_type": "markdown",
      "metadata": {
        "id": "rU1_7QpqVeC2"
      },
      "source": [
        "### 1) 라이브러리 로딩"
      ]
    },
    {
      "cell_type": "code",
      "metadata": {
        "id": "leYjtG_sVeC2"
      },
      "source": [
        "# import packages\n",
        "import pandas as pd\n",
        "import numpy as np\n",
        "\n",
        "import tensorflow as tf\n",
        "import matplotlib.pyplot as plt\n",
        "import seaborn as sns\n",
        "\n",
        "from sklearn.model_selection import train_test_split\n",
        "from sklearn.metrics import *\n",
        "from sklearn.preprocessing import StandardScaler\n",
        "\n",
        "import tensorflow.keras as keras\n",
        "from keras.models import Model, load_model, Sequential\n",
        "from keras.layers import Input, Dense, LSTM, RepeatVector, TimeDistributed\n",
        "from keras.backend import clear_session"
      ],
      "execution_count": null,
      "outputs": []
    },
    {
      "cell_type": "markdown",
      "metadata": {
        "id": "agTH_cZVVeC3"
      },
      "source": [
        "### 2) 필요 함수들 생성"
      ]
    },
    {
      "cell_type": "markdown",
      "metadata": {
        "id": "1EmlAdHMfgaj"
      },
      "source": [
        "#### ① reconstruction error plot\n",
        "\n",
        "> * input과 output의 차이(mse)를 계산하고\n",
        "* 시각화 합니다.\n",
        "\n"
      ]
    },
    {
      "cell_type": "code",
      "metadata": {
        "id": "9aSrPkXqfgak"
      },
      "source": [
        "def recon_err_plot(x, x_pred, y, threshold=0):\n",
        "    mse = np.mean(np.power(x_val_s.reshape(x.shape[0], -1) - x_pred.reshape(x_pred.shape[0], -1), 2), axis=1)\n",
        "    error_df = pd.DataFrame({'Reconstruction_error': mse, 'True_class': y})\n",
        "    error_df = error_df.reset_index()\n",
        "\n",
        "    groups = error_df.groupby('True_class')\n",
        "    fig, ax = plt.subplots()\n",
        "    for name, group in groups:\n",
        "        ax.plot(group.index, group.Reconstruction_error, marker='o', ms=3.5, linestyle='',\n",
        "                label= \"Break\" if name == 1 else \"Normal\")\n",
        "    ax.hlines(threshold, ax.get_xlim()[0], ax.get_xlim()[1], colors=\"r\", zorder=100, label='Threshold')\n",
        "    ax.legend()\n",
        "    plt.title(\"Reconstruction error for different classes\")\n",
        "    plt.ylabel(\"Reconstruction error\")\n",
        "    plt.xlabel(\"Data point index\")\n",
        "    plt.show()\n",
        "\n",
        "    return error_df"
      ],
      "execution_count": null,
      "outputs": []
    },
    {
      "cell_type": "markdown",
      "metadata": {
        "id": "E9wqfAgXeKNS"
      },
      "source": [
        "#### ② precision, recall, f1 curve\n",
        "\n",
        "> * sklearn에서는 precision, recall curve만 제공됩니다.\n",
        "* 그래서, f1 curve도 추가해서 구하고, plot을 그립니다.\n",
        "\n"
      ]
    },
    {
      "cell_type": "code",
      "metadata": {
        "id": "YaD3ETNieKNS"
      },
      "source": [
        "from sklearn.metrics import precision_recall_curve\n",
        "import matplotlib.pyplot as plt\n",
        "\n",
        "def prec_rec_f1_curve(y, score, pos = 1) :\n",
        "    precision, recall, thresholds  = precision_recall_curve(y, score, pos_label=1)\n",
        "    f1 = 2 / (1/precision + 1/recall)\n",
        "\n",
        "    plt.plot(thresholds, np.delete(precision, -1), label = 'precision')\n",
        "    plt.plot(thresholds, np.delete(recall, -1), label = 'recall')\n",
        "    plt.plot(thresholds, np.delete(f1, -1), label = 'f1')\n",
        "    plt.xlabel('Anomaly Score')\n",
        "    plt.legend()\n",
        "    plt.grid()\n",
        "    plt.show()\n",
        "\n",
        "    return precision, recall, f1, thresholds"
      ],
      "execution_count": null,
      "outputs": []
    },
    {
      "cell_type": "markdown",
      "metadata": {
        "id": "-umHs8mEk0h2"
      },
      "source": [
        "#### ③ threshold로 잘랐을 때, 분류 평가 함수\n"
      ]
    },
    {
      "cell_type": "code",
      "metadata": {
        "id": "eq6zBfy9k1Vu"
      },
      "source": [
        "from sklearn.metrics import confusion_matrix, classification_report\n",
        "\n",
        "def classification_report2(y, pred, thresholds):\n",
        "    pred_temp = np.where(pred > thresholds , 1, 0)\n",
        "\n",
        "    print('< confusion matrix >\\n')\n",
        "    print(confusion_matrix(y, pred_temp))\n",
        "    print('\\n' + '='*60 + '\\n')\n",
        "\n",
        "    print('< classification_report >\\n')\n",
        "    print(classification_report(y, pred_temp))\n",
        "\n",
        "    return confusion_matrix(y, pred_temp)"
      ],
      "execution_count": null,
      "outputs": []
    },
    {
      "cell_type": "markdown",
      "metadata": {
        "id": "fGcFDTqnEJX0"
      },
      "source": [
        "#### ④ DL 학습곡선 그리기\n"
      ]
    },
    {
      "cell_type": "code",
      "metadata": {
        "id": "2xXRg45kEJX0"
      },
      "source": [
        "def plot_learning_curve(history) :\n",
        "    plt.plot(history['loss'], label='Train')\n",
        "    plt.plot(history['val_loss'], label='Validation')\n",
        "\n",
        "    plt.ylabel('Loss')\n",
        "    plt.xlabel('Epoch')\n",
        "    plt.grid()\n",
        "    plt.show()"
      ],
      "execution_count": null,
      "outputs": []
    },
    {
      "cell_type": "markdown",
      "metadata": {
        "id": "9IAfpL2aVeC4"
      },
      "source": [
        "#### ⑤ 시계열 데이터 분석을 위한 전처리(for LSTM, CNN)"
      ]
    },
    {
      "cell_type": "code",
      "metadata": {
        "id": "fyn6NZRnVeC4"
      },
      "source": [
        "def temporalize(x, y, timestep):\n",
        "    output_X = []\n",
        "    output_y = []\n",
        "    for i in range(len(x) - timestep + 1):\n",
        "        t = []\n",
        "        for j in range(timestep):\n",
        "            t.append(x[[(i + j)], :])\n",
        "        output_X.append(t)\n",
        "        output_y.append(y[i + timestep - 1])\n",
        "    return np.squeeze(np.array(output_X)), np.array(output_y)"
      ],
      "execution_count": null,
      "outputs": []
    },
    {
      "cell_type": "markdown",
      "metadata": {
        "id": "dwXex-m4VeC4"
      },
      "source": [
        "#### ⑥ 스케일링을 위한 함수\n",
        "* LSTM+AE를 위한 데이터를 표준화하는 것은 조금 까다로움.\n",
        "* 원본 데이터는 2D, 모델링 하기 위한 데이터셋(X)은 3D.\n",
        "* 이를 위해 두 함수를 생성합니다.\n",
        "    * flatten : temporalize를 원래대로 돌려 놓는 함수\n",
        "    * scale : 3D 배열의 데이터에 스케일링 적용(transform)"
      ]
    },
    {
      "cell_type": "code",
      "metadata": {
        "id": "2PW8wBi9VeC4"
      },
      "source": [
        "def flatten(X):\n",
        "    flattened_X = np.empty((X.shape[0], X.shape[2]))  # sample x features array.\n",
        "    for i in range(X.shape[0]):\n",
        "        flattened_X[i] = X[i, (X.shape[1]-1), :]\n",
        "    return flattened_X\n",
        "\n",
        "def scale(X, scaler):\n",
        "    for i in range(X.shape[0]):\n",
        "        X[i, :, :] = scaler.transform(X[i, :, :])\n",
        "    return X"
      ],
      "execution_count": null,
      "outputs": []
    },
    {
      "cell_type": "markdown",
      "metadata": {
        "id": "tRa8l7vBVeC2"
      },
      "source": [
        "### 3) 데이터셋 불러오기"
      ]
    },
    {
      "cell_type": "code",
      "metadata": {
        "id": "lu3ixr-OVeC2",
        "colab": {
          "base_uri": "https://localhost:8080/",
          "height": 342
        },
        "outputId": "89110fcb-4d49-4233-ca54-a056751e4c4b"
      },
      "source": [
        "# 공정 데이터 불러오기\n",
        "path = \"processminer2.csv\"\n",
        "data = pd.read_csv(path)\n",
        "data.head()"
      ],
      "execution_count": null,
      "outputs": [
        {
          "output_type": "execute_result",
          "data": {
            "text/plain": [
              "     y         time        x1        x2        x3         x4        x5  \\\n",
              "0  0.0  5/1/99 0:00  0.376665 -4.596435 -4.095756  13.497687 -0.118830   \n",
              "1  0.0  5/1/99 0:02  0.475720 -4.542502 -4.018359  16.230659 -0.128733   \n",
              "2  0.0  5/1/99 0:04  0.363848 -4.681394 -4.353147  14.127997 -0.138636   \n",
              "3  0.0  5/1/99 0:06  0.301590 -4.758934 -4.023612  13.161566 -0.148142   \n",
              "4  0.0  5/1/99 0:08  0.265578 -4.749928 -4.333150  15.267340 -0.155314   \n",
              "\n",
              "          x6        x7        x8  ...        x51        x52       x53  \\\n",
              "0 -20.669883  0.000732 -0.061114  ...  29.984624  10.091721  0.053279   \n",
              "1 -18.758079  0.000732 -0.061114  ...  29.984624  10.095871  0.062801   \n",
              "2 -17.836632  0.010803 -0.061114  ...  29.984624  10.100265  0.072322   \n",
              "3 -18.517601  0.002075 -0.061114  ...  29.984624  10.104660  0.081600   \n",
              "4 -17.505913  0.000732 -0.061114  ...  29.984624  10.109054  0.091121   \n",
              "\n",
              "        x54        x55        x56       x57       x58       x59       x60  \n",
              "0 -4.936434 -24.590146  18.515436  3.473400  0.033444  0.953219  0.006076  \n",
              "1 -4.937179 -32.413266  22.760065  2.682933  0.033536  1.090502  0.006083  \n",
              "2 -4.937924 -34.183774  27.004663  3.537487  0.033629  1.840540  0.006090  \n",
              "3 -4.938669 -35.954281  21.672449  3.986095  0.033721  2.554880  0.006097  \n",
              "4 -4.939414 -37.724789  21.907251  3.601573  0.033777  1.410494  0.006105  \n",
              "\n",
              "[5 rows x 61 columns]"
            ],
            "text/html": [
              "\n",
              "  <div id=\"df-40deff77-1a15-4775-b781-6d3da2281186\" class=\"colab-df-container\">\n",
              "    <div>\n",
              "<style scoped>\n",
              "    .dataframe tbody tr th:only-of-type {\n",
              "        vertical-align: middle;\n",
              "    }\n",
              "\n",
              "    .dataframe tbody tr th {\n",
              "        vertical-align: top;\n",
              "    }\n",
              "\n",
              "    .dataframe thead th {\n",
              "        text-align: right;\n",
              "    }\n",
              "</style>\n",
              "<table border=\"1\" class=\"dataframe\">\n",
              "  <thead>\n",
              "    <tr style=\"text-align: right;\">\n",
              "      <th></th>\n",
              "      <th>y</th>\n",
              "      <th>time</th>\n",
              "      <th>x1</th>\n",
              "      <th>x2</th>\n",
              "      <th>x3</th>\n",
              "      <th>x4</th>\n",
              "      <th>x5</th>\n",
              "      <th>x6</th>\n",
              "      <th>x7</th>\n",
              "      <th>x8</th>\n",
              "      <th>...</th>\n",
              "      <th>x51</th>\n",
              "      <th>x52</th>\n",
              "      <th>x53</th>\n",
              "      <th>x54</th>\n",
              "      <th>x55</th>\n",
              "      <th>x56</th>\n",
              "      <th>x57</th>\n",
              "      <th>x58</th>\n",
              "      <th>x59</th>\n",
              "      <th>x60</th>\n",
              "    </tr>\n",
              "  </thead>\n",
              "  <tbody>\n",
              "    <tr>\n",
              "      <th>0</th>\n",
              "      <td>0.0</td>\n",
              "      <td>5/1/99 0:00</td>\n",
              "      <td>0.376665</td>\n",
              "      <td>-4.596435</td>\n",
              "      <td>-4.095756</td>\n",
              "      <td>13.497687</td>\n",
              "      <td>-0.118830</td>\n",
              "      <td>-20.669883</td>\n",
              "      <td>0.000732</td>\n",
              "      <td>-0.061114</td>\n",
              "      <td>...</td>\n",
              "      <td>29.984624</td>\n",
              "      <td>10.091721</td>\n",
              "      <td>0.053279</td>\n",
              "      <td>-4.936434</td>\n",
              "      <td>-24.590146</td>\n",
              "      <td>18.515436</td>\n",
              "      <td>3.473400</td>\n",
              "      <td>0.033444</td>\n",
              "      <td>0.953219</td>\n",
              "      <td>0.006076</td>\n",
              "    </tr>\n",
              "    <tr>\n",
              "      <th>1</th>\n",
              "      <td>0.0</td>\n",
              "      <td>5/1/99 0:02</td>\n",
              "      <td>0.475720</td>\n",
              "      <td>-4.542502</td>\n",
              "      <td>-4.018359</td>\n",
              "      <td>16.230659</td>\n",
              "      <td>-0.128733</td>\n",
              "      <td>-18.758079</td>\n",
              "      <td>0.000732</td>\n",
              "      <td>-0.061114</td>\n",
              "      <td>...</td>\n",
              "      <td>29.984624</td>\n",
              "      <td>10.095871</td>\n",
              "      <td>0.062801</td>\n",
              "      <td>-4.937179</td>\n",
              "      <td>-32.413266</td>\n",
              "      <td>22.760065</td>\n",
              "      <td>2.682933</td>\n",
              "      <td>0.033536</td>\n",
              "      <td>1.090502</td>\n",
              "      <td>0.006083</td>\n",
              "    </tr>\n",
              "    <tr>\n",
              "      <th>2</th>\n",
              "      <td>0.0</td>\n",
              "      <td>5/1/99 0:04</td>\n",
              "      <td>0.363848</td>\n",
              "      <td>-4.681394</td>\n",
              "      <td>-4.353147</td>\n",
              "      <td>14.127997</td>\n",
              "      <td>-0.138636</td>\n",
              "      <td>-17.836632</td>\n",
              "      <td>0.010803</td>\n",
              "      <td>-0.061114</td>\n",
              "      <td>...</td>\n",
              "      <td>29.984624</td>\n",
              "      <td>10.100265</td>\n",
              "      <td>0.072322</td>\n",
              "      <td>-4.937924</td>\n",
              "      <td>-34.183774</td>\n",
              "      <td>27.004663</td>\n",
              "      <td>3.537487</td>\n",
              "      <td>0.033629</td>\n",
              "      <td>1.840540</td>\n",
              "      <td>0.006090</td>\n",
              "    </tr>\n",
              "    <tr>\n",
              "      <th>3</th>\n",
              "      <td>0.0</td>\n",
              "      <td>5/1/99 0:06</td>\n",
              "      <td>0.301590</td>\n",
              "      <td>-4.758934</td>\n",
              "      <td>-4.023612</td>\n",
              "      <td>13.161566</td>\n",
              "      <td>-0.148142</td>\n",
              "      <td>-18.517601</td>\n",
              "      <td>0.002075</td>\n",
              "      <td>-0.061114</td>\n",
              "      <td>...</td>\n",
              "      <td>29.984624</td>\n",
              "      <td>10.104660</td>\n",
              "      <td>0.081600</td>\n",
              "      <td>-4.938669</td>\n",
              "      <td>-35.954281</td>\n",
              "      <td>21.672449</td>\n",
              "      <td>3.986095</td>\n",
              "      <td>0.033721</td>\n",
              "      <td>2.554880</td>\n",
              "      <td>0.006097</td>\n",
              "    </tr>\n",
              "    <tr>\n",
              "      <th>4</th>\n",
              "      <td>0.0</td>\n",
              "      <td>5/1/99 0:08</td>\n",
              "      <td>0.265578</td>\n",
              "      <td>-4.749928</td>\n",
              "      <td>-4.333150</td>\n",
              "      <td>15.267340</td>\n",
              "      <td>-0.155314</td>\n",
              "      <td>-17.505913</td>\n",
              "      <td>0.000732</td>\n",
              "      <td>-0.061114</td>\n",
              "      <td>...</td>\n",
              "      <td>29.984624</td>\n",
              "      <td>10.109054</td>\n",
              "      <td>0.091121</td>\n",
              "      <td>-4.939414</td>\n",
              "      <td>-37.724789</td>\n",
              "      <td>21.907251</td>\n",
              "      <td>3.601573</td>\n",
              "      <td>0.033777</td>\n",
              "      <td>1.410494</td>\n",
              "      <td>0.006105</td>\n",
              "    </tr>\n",
              "  </tbody>\n",
              "</table>\n",
              "<p>5 rows × 61 columns</p>\n",
              "</div>\n",
              "    <div class=\"colab-df-buttons\">\n",
              "\n",
              "  <div class=\"colab-df-container\">\n",
              "    <button class=\"colab-df-convert\" onclick=\"convertToInteractive('df-40deff77-1a15-4775-b781-6d3da2281186')\"\n",
              "            title=\"Convert this dataframe to an interactive table.\"\n",
              "            style=\"display:none;\">\n",
              "\n",
              "  <svg xmlns=\"http://www.w3.org/2000/svg\" height=\"24px\" viewBox=\"0 -960 960 960\">\n",
              "    <path d=\"M120-120v-720h720v720H120Zm60-500h600v-160H180v160Zm220 220h160v-160H400v160Zm0 220h160v-160H400v160ZM180-400h160v-160H180v160Zm440 0h160v-160H620v160ZM180-180h160v-160H180v160Zm440 0h160v-160H620v160Z\"/>\n",
              "  </svg>\n",
              "    </button>\n",
              "\n",
              "  <style>\n",
              "    .colab-df-container {\n",
              "      display:flex;\n",
              "      gap: 12px;\n",
              "    }\n",
              "\n",
              "    .colab-df-convert {\n",
              "      background-color: #E8F0FE;\n",
              "      border: none;\n",
              "      border-radius: 50%;\n",
              "      cursor: pointer;\n",
              "      display: none;\n",
              "      fill: #1967D2;\n",
              "      height: 32px;\n",
              "      padding: 0 0 0 0;\n",
              "      width: 32px;\n",
              "    }\n",
              "\n",
              "    .colab-df-convert:hover {\n",
              "      background-color: #E2EBFA;\n",
              "      box-shadow: 0px 1px 2px rgba(60, 64, 67, 0.3), 0px 1px 3px 1px rgba(60, 64, 67, 0.15);\n",
              "      fill: #174EA6;\n",
              "    }\n",
              "\n",
              "    .colab-df-buttons div {\n",
              "      margin-bottom: 4px;\n",
              "    }\n",
              "\n",
              "    [theme=dark] .colab-df-convert {\n",
              "      background-color: #3B4455;\n",
              "      fill: #D2E3FC;\n",
              "    }\n",
              "\n",
              "    [theme=dark] .colab-df-convert:hover {\n",
              "      background-color: #434B5C;\n",
              "      box-shadow: 0px 1px 3px 1px rgba(0, 0, 0, 0.15);\n",
              "      filter: drop-shadow(0px 1px 2px rgba(0, 0, 0, 0.3));\n",
              "      fill: #FFFFFF;\n",
              "    }\n",
              "  </style>\n",
              "\n",
              "    <script>\n",
              "      const buttonEl =\n",
              "        document.querySelector('#df-40deff77-1a15-4775-b781-6d3da2281186 button.colab-df-convert');\n",
              "      buttonEl.style.display =\n",
              "        google.colab.kernel.accessAllowed ? 'block' : 'none';\n",
              "\n",
              "      async function convertToInteractive(key) {\n",
              "        const element = document.querySelector('#df-40deff77-1a15-4775-b781-6d3da2281186');\n",
              "        const dataTable =\n",
              "          await google.colab.kernel.invokeFunction('convertToInteractive',\n",
              "                                                    [key], {});\n",
              "        if (!dataTable) return;\n",
              "\n",
              "        const docLinkHtml = 'Like what you see? Visit the ' +\n",
              "          '<a target=\"_blank\" href=https://colab.research.google.com/notebooks/data_table.ipynb>data table notebook</a>'\n",
              "          + ' to learn more about interactive tables.';\n",
              "        element.innerHTML = '';\n",
              "        dataTable['output_type'] = 'display_data';\n",
              "        await google.colab.output.renderOutput(dataTable, element);\n",
              "        const docLink = document.createElement('div');\n",
              "        docLink.innerHTML = docLinkHtml;\n",
              "        element.appendChild(docLink);\n",
              "      }\n",
              "    </script>\n",
              "  </div>\n",
              "\n",
              "\n",
              "<div id=\"df-d318c768-41ee-41d6-9806-ef1f80c18cbd\">\n",
              "  <button class=\"colab-df-quickchart\" onclick=\"quickchart('df-d318c768-41ee-41d6-9806-ef1f80c18cbd')\"\n",
              "            title=\"Suggest charts\"\n",
              "            style=\"display:none;\">\n",
              "\n",
              "<svg xmlns=\"http://www.w3.org/2000/svg\" height=\"24px\"viewBox=\"0 0 24 24\"\n",
              "     width=\"24px\">\n",
              "    <g>\n",
              "        <path d=\"M19 3H5c-1.1 0-2 .9-2 2v14c0 1.1.9 2 2 2h14c1.1 0 2-.9 2-2V5c0-1.1-.9-2-2-2zM9 17H7v-7h2v7zm4 0h-2V7h2v10zm4 0h-2v-4h2v4z\"/>\n",
              "    </g>\n",
              "</svg>\n",
              "  </button>\n",
              "\n",
              "<style>\n",
              "  .colab-df-quickchart {\n",
              "      --bg-color: #E8F0FE;\n",
              "      --fill-color: #1967D2;\n",
              "      --hover-bg-color: #E2EBFA;\n",
              "      --hover-fill-color: #174EA6;\n",
              "      --disabled-fill-color: #AAA;\n",
              "      --disabled-bg-color: #DDD;\n",
              "  }\n",
              "\n",
              "  [theme=dark] .colab-df-quickchart {\n",
              "      --bg-color: #3B4455;\n",
              "      --fill-color: #D2E3FC;\n",
              "      --hover-bg-color: #434B5C;\n",
              "      --hover-fill-color: #FFFFFF;\n",
              "      --disabled-bg-color: #3B4455;\n",
              "      --disabled-fill-color: #666;\n",
              "  }\n",
              "\n",
              "  .colab-df-quickchart {\n",
              "    background-color: var(--bg-color);\n",
              "    border: none;\n",
              "    border-radius: 50%;\n",
              "    cursor: pointer;\n",
              "    display: none;\n",
              "    fill: var(--fill-color);\n",
              "    height: 32px;\n",
              "    padding: 0;\n",
              "    width: 32px;\n",
              "  }\n",
              "\n",
              "  .colab-df-quickchart:hover {\n",
              "    background-color: var(--hover-bg-color);\n",
              "    box-shadow: 0 1px 2px rgba(60, 64, 67, 0.3), 0 1px 3px 1px rgba(60, 64, 67, 0.15);\n",
              "    fill: var(--button-hover-fill-color);\n",
              "  }\n",
              "\n",
              "  .colab-df-quickchart-complete:disabled,\n",
              "  .colab-df-quickchart-complete:disabled:hover {\n",
              "    background-color: var(--disabled-bg-color);\n",
              "    fill: var(--disabled-fill-color);\n",
              "    box-shadow: none;\n",
              "  }\n",
              "\n",
              "  .colab-df-spinner {\n",
              "    border: 2px solid var(--fill-color);\n",
              "    border-color: transparent;\n",
              "    border-bottom-color: var(--fill-color);\n",
              "    animation:\n",
              "      spin 1s steps(1) infinite;\n",
              "  }\n",
              "\n",
              "  @keyframes spin {\n",
              "    0% {\n",
              "      border-color: transparent;\n",
              "      border-bottom-color: var(--fill-color);\n",
              "      border-left-color: var(--fill-color);\n",
              "    }\n",
              "    20% {\n",
              "      border-color: transparent;\n",
              "      border-left-color: var(--fill-color);\n",
              "      border-top-color: var(--fill-color);\n",
              "    }\n",
              "    30% {\n",
              "      border-color: transparent;\n",
              "      border-left-color: var(--fill-color);\n",
              "      border-top-color: var(--fill-color);\n",
              "      border-right-color: var(--fill-color);\n",
              "    }\n",
              "    40% {\n",
              "      border-color: transparent;\n",
              "      border-right-color: var(--fill-color);\n",
              "      border-top-color: var(--fill-color);\n",
              "    }\n",
              "    60% {\n",
              "      border-color: transparent;\n",
              "      border-right-color: var(--fill-color);\n",
              "    }\n",
              "    80% {\n",
              "      border-color: transparent;\n",
              "      border-right-color: var(--fill-color);\n",
              "      border-bottom-color: var(--fill-color);\n",
              "    }\n",
              "    90% {\n",
              "      border-color: transparent;\n",
              "      border-bottom-color: var(--fill-color);\n",
              "    }\n",
              "  }\n",
              "</style>\n",
              "\n",
              "  <script>\n",
              "    async function quickchart(key) {\n",
              "      const quickchartButtonEl =\n",
              "        document.querySelector('#' + key + ' button');\n",
              "      quickchartButtonEl.disabled = true;  // To prevent multiple clicks.\n",
              "      quickchartButtonEl.classList.add('colab-df-spinner');\n",
              "      try {\n",
              "        const charts = await google.colab.kernel.invokeFunction(\n",
              "            'suggestCharts', [key], {});\n",
              "      } catch (error) {\n",
              "        console.error('Error during call to suggestCharts:', error);\n",
              "      }\n",
              "      quickchartButtonEl.classList.remove('colab-df-spinner');\n",
              "      quickchartButtonEl.classList.add('colab-df-quickchart-complete');\n",
              "    }\n",
              "    (() => {\n",
              "      let quickchartButtonEl =\n",
              "        document.querySelector('#df-d318c768-41ee-41d6-9806-ef1f80c18cbd button');\n",
              "      quickchartButtonEl.style.display =\n",
              "        google.colab.kernel.accessAllowed ? 'block' : 'none';\n",
              "    })();\n",
              "  </script>\n",
              "</div>\n",
              "    </div>\n",
              "  </div>\n"
            ],
            "application/vnd.google.colaboratory.intrinsic+json": {
              "type": "dataframe",
              "variable_name": "data"
            }
          },
          "metadata": {},
          "execution_count": 19
        }
      ]
    },
    {
      "cell_type": "markdown",
      "metadata": {
        "id": "pJrxTttiVeC5"
      },
      "source": [
        "## 2.데이터 준비"
      ]
    },
    {
      "cell_type": "markdown",
      "metadata": {
        "id": "Eld6GVxUhHWZ"
      },
      "source": [
        "### 1) 불필요한 변수 제거"
      ]
    },
    {
      "cell_type": "markdown",
      "metadata": {
        "id": "ByD4E0ZMheld"
      },
      "source": [
        "불필요한 변수 제거 : time"
      ]
    },
    {
      "cell_type": "code",
      "metadata": {
        "id": "dyQUA6IGhh_N"
      },
      "source": [
        "data.drop('time', axis=1, inplace=True)"
      ],
      "execution_count": null,
      "outputs": []
    },
    {
      "cell_type": "code",
      "metadata": {
        "id": "DjgZtKbAOC4Q",
        "colab": {
          "base_uri": "https://localhost:8080/"
        },
        "outputId": "57ced4fb-daf1-4571-daa1-aa00592e6fa4"
      },
      "source": [
        "data.shape"
      ],
      "execution_count": null,
      "outputs": [
        {
          "output_type": "execute_result",
          "data": {
            "text/plain": [
              "(18274, 60)"
            ]
          },
          "metadata": {},
          "execution_count": 21
        }
      ]
    },
    {
      "cell_type": "markdown",
      "metadata": {
        "id": "V_W_lGtNxUIO"
      },
      "source": [
        "### 2) 시계열 분석을 위한 데이터 만들기"
      ]
    },
    {
      "cell_type": "markdown",
      "source": [
        "* x, y 분리"
      ],
      "metadata": {
        "id": "cmMBhtUHxUIP"
      }
    },
    {
      "cell_type": "code",
      "metadata": {
        "id": "Q_5Vefq0xUIP"
      },
      "source": [
        "target = 'y'\n",
        "input_x = data.drop(target, axis = 1).values\n",
        "input_y = data['y'].values"
      ],
      "execution_count": null,
      "outputs": []
    },
    {
      "cell_type": "code",
      "metadata": {
        "id": "ztED8qQExUIP",
        "colab": {
          "base_uri": "https://localhost:8080/"
        },
        "outputId": "fe5637ea-ef8b-46b7-fc58-99ccf849487b"
      },
      "source": [
        "input_x.shape"
      ],
      "execution_count": null,
      "outputs": [
        {
          "output_type": "execute_result",
          "data": {
            "text/plain": [
              "(18274, 59)"
            ]
          },
          "metadata": {},
          "execution_count": 23
        }
      ]
    },
    {
      "cell_type": "markdown",
      "source": [
        "* timestep에 맞게 data point를 2차원으로 변환  \n",
        "(data point : 2차원 ==> data set : 3차원)"
      ],
      "metadata": {
        "id": "pgrbr8RrxUIP"
      }
    },
    {
      "cell_type": "code",
      "metadata": {
        "id": "TVOSbMEVxUIQ"
      },
      "source": [
        "timestep = 10\n",
        "x, y = temporalize(input_x, input_y, timestep)"
      ],
      "execution_count": null,
      "outputs": []
    },
    {
      "cell_type": "code",
      "metadata": {
        "id": "yNkE_5bEVeC5",
        "colab": {
          "base_uri": "https://localhost:8080/"
        },
        "outputId": "9cf9ffc4-535b-4d2c-f76e-d0f6ec130bdd"
      },
      "source": [
        "x.shape, y.shape"
      ],
      "execution_count": null,
      "outputs": [
        {
          "output_type": "execute_result",
          "data": {
            "text/plain": [
              "((18265, 10, 59), (18265,))"
            ]
          },
          "metadata": {},
          "execution_count": 25
        }
      ]
    },
    {
      "cell_type": "code",
      "metadata": {
        "id": "lvX5Pn5XVeC5",
        "colab": {
          "base_uri": "https://localhost:8080/",
          "height": 425
        },
        "outputId": "cd463216-9a83-4d9f-c6c0-337d72a16e35"
      },
      "source": [
        "data.iloc[:12, :5]"
      ],
      "execution_count": null,
      "outputs": [
        {
          "output_type": "execute_result",
          "data": {
            "text/plain": [
              "      y        x1        x2        x3         x4\n",
              "0   0.0  0.376665 -4.596435 -4.095756  13.497687\n",
              "1   0.0  0.475720 -4.542502 -4.018359  16.230659\n",
              "2   0.0  0.363848 -4.681394 -4.353147  14.127997\n",
              "3   0.0  0.301590 -4.758934 -4.023612  13.161566\n",
              "4   0.0  0.265578 -4.749928 -4.333150  15.267340\n",
              "5   0.0  0.381253 -4.611746 -4.085072  14.143195\n",
              "6   0.0  0.313325 -4.530210 -4.120931  18.681465\n",
              "7   0.0  0.396401 -4.699047 -4.074193  21.307655\n",
              "8   0.0  0.342688 -4.553506 -4.188885  22.892035\n",
              "9   0.0  0.458252 -4.639561 -4.246547  23.160957\n",
              "10  0.0  0.393756 -4.811998 -4.116455  27.550849\n",
              "11  0.0  0.404946 -4.617799 -4.187462  25.035652"
            ],
            "text/html": [
              "\n",
              "  <div id=\"df-500a5df9-7277-4f0b-9c92-a6d5ddc63c74\" class=\"colab-df-container\">\n",
              "    <div>\n",
              "<style scoped>\n",
              "    .dataframe tbody tr th:only-of-type {\n",
              "        vertical-align: middle;\n",
              "    }\n",
              "\n",
              "    .dataframe tbody tr th {\n",
              "        vertical-align: top;\n",
              "    }\n",
              "\n",
              "    .dataframe thead th {\n",
              "        text-align: right;\n",
              "    }\n",
              "</style>\n",
              "<table border=\"1\" class=\"dataframe\">\n",
              "  <thead>\n",
              "    <tr style=\"text-align: right;\">\n",
              "      <th></th>\n",
              "      <th>y</th>\n",
              "      <th>x1</th>\n",
              "      <th>x2</th>\n",
              "      <th>x3</th>\n",
              "      <th>x4</th>\n",
              "    </tr>\n",
              "  </thead>\n",
              "  <tbody>\n",
              "    <tr>\n",
              "      <th>0</th>\n",
              "      <td>0.0</td>\n",
              "      <td>0.376665</td>\n",
              "      <td>-4.596435</td>\n",
              "      <td>-4.095756</td>\n",
              "      <td>13.497687</td>\n",
              "    </tr>\n",
              "    <tr>\n",
              "      <th>1</th>\n",
              "      <td>0.0</td>\n",
              "      <td>0.475720</td>\n",
              "      <td>-4.542502</td>\n",
              "      <td>-4.018359</td>\n",
              "      <td>16.230659</td>\n",
              "    </tr>\n",
              "    <tr>\n",
              "      <th>2</th>\n",
              "      <td>0.0</td>\n",
              "      <td>0.363848</td>\n",
              "      <td>-4.681394</td>\n",
              "      <td>-4.353147</td>\n",
              "      <td>14.127997</td>\n",
              "    </tr>\n",
              "    <tr>\n",
              "      <th>3</th>\n",
              "      <td>0.0</td>\n",
              "      <td>0.301590</td>\n",
              "      <td>-4.758934</td>\n",
              "      <td>-4.023612</td>\n",
              "      <td>13.161566</td>\n",
              "    </tr>\n",
              "    <tr>\n",
              "      <th>4</th>\n",
              "      <td>0.0</td>\n",
              "      <td>0.265578</td>\n",
              "      <td>-4.749928</td>\n",
              "      <td>-4.333150</td>\n",
              "      <td>15.267340</td>\n",
              "    </tr>\n",
              "    <tr>\n",
              "      <th>5</th>\n",
              "      <td>0.0</td>\n",
              "      <td>0.381253</td>\n",
              "      <td>-4.611746</td>\n",
              "      <td>-4.085072</td>\n",
              "      <td>14.143195</td>\n",
              "    </tr>\n",
              "    <tr>\n",
              "      <th>6</th>\n",
              "      <td>0.0</td>\n",
              "      <td>0.313325</td>\n",
              "      <td>-4.530210</td>\n",
              "      <td>-4.120931</td>\n",
              "      <td>18.681465</td>\n",
              "    </tr>\n",
              "    <tr>\n",
              "      <th>7</th>\n",
              "      <td>0.0</td>\n",
              "      <td>0.396401</td>\n",
              "      <td>-4.699047</td>\n",
              "      <td>-4.074193</td>\n",
              "      <td>21.307655</td>\n",
              "    </tr>\n",
              "    <tr>\n",
              "      <th>8</th>\n",
              "      <td>0.0</td>\n",
              "      <td>0.342688</td>\n",
              "      <td>-4.553506</td>\n",
              "      <td>-4.188885</td>\n",
              "      <td>22.892035</td>\n",
              "    </tr>\n",
              "    <tr>\n",
              "      <th>9</th>\n",
              "      <td>0.0</td>\n",
              "      <td>0.458252</td>\n",
              "      <td>-4.639561</td>\n",
              "      <td>-4.246547</td>\n",
              "      <td>23.160957</td>\n",
              "    </tr>\n",
              "    <tr>\n",
              "      <th>10</th>\n",
              "      <td>0.0</td>\n",
              "      <td>0.393756</td>\n",
              "      <td>-4.811998</td>\n",
              "      <td>-4.116455</td>\n",
              "      <td>27.550849</td>\n",
              "    </tr>\n",
              "    <tr>\n",
              "      <th>11</th>\n",
              "      <td>0.0</td>\n",
              "      <td>0.404946</td>\n",
              "      <td>-4.617799</td>\n",
              "      <td>-4.187462</td>\n",
              "      <td>25.035652</td>\n",
              "    </tr>\n",
              "  </tbody>\n",
              "</table>\n",
              "</div>\n",
              "    <div class=\"colab-df-buttons\">\n",
              "\n",
              "  <div class=\"colab-df-container\">\n",
              "    <button class=\"colab-df-convert\" onclick=\"convertToInteractive('df-500a5df9-7277-4f0b-9c92-a6d5ddc63c74')\"\n",
              "            title=\"Convert this dataframe to an interactive table.\"\n",
              "            style=\"display:none;\">\n",
              "\n",
              "  <svg xmlns=\"http://www.w3.org/2000/svg\" height=\"24px\" viewBox=\"0 -960 960 960\">\n",
              "    <path d=\"M120-120v-720h720v720H120Zm60-500h600v-160H180v160Zm220 220h160v-160H400v160Zm0 220h160v-160H400v160ZM180-400h160v-160H180v160Zm440 0h160v-160H620v160ZM180-180h160v-160H180v160Zm440 0h160v-160H620v160Z\"/>\n",
              "  </svg>\n",
              "    </button>\n",
              "\n",
              "  <style>\n",
              "    .colab-df-container {\n",
              "      display:flex;\n",
              "      gap: 12px;\n",
              "    }\n",
              "\n",
              "    .colab-df-convert {\n",
              "      background-color: #E8F0FE;\n",
              "      border: none;\n",
              "      border-radius: 50%;\n",
              "      cursor: pointer;\n",
              "      display: none;\n",
              "      fill: #1967D2;\n",
              "      height: 32px;\n",
              "      padding: 0 0 0 0;\n",
              "      width: 32px;\n",
              "    }\n",
              "\n",
              "    .colab-df-convert:hover {\n",
              "      background-color: #E2EBFA;\n",
              "      box-shadow: 0px 1px 2px rgba(60, 64, 67, 0.3), 0px 1px 3px 1px rgba(60, 64, 67, 0.15);\n",
              "      fill: #174EA6;\n",
              "    }\n",
              "\n",
              "    .colab-df-buttons div {\n",
              "      margin-bottom: 4px;\n",
              "    }\n",
              "\n",
              "    [theme=dark] .colab-df-convert {\n",
              "      background-color: #3B4455;\n",
              "      fill: #D2E3FC;\n",
              "    }\n",
              "\n",
              "    [theme=dark] .colab-df-convert:hover {\n",
              "      background-color: #434B5C;\n",
              "      box-shadow: 0px 1px 3px 1px rgba(0, 0, 0, 0.15);\n",
              "      filter: drop-shadow(0px 1px 2px rgba(0, 0, 0, 0.3));\n",
              "      fill: #FFFFFF;\n",
              "    }\n",
              "  </style>\n",
              "\n",
              "    <script>\n",
              "      const buttonEl =\n",
              "        document.querySelector('#df-500a5df9-7277-4f0b-9c92-a6d5ddc63c74 button.colab-df-convert');\n",
              "      buttonEl.style.display =\n",
              "        google.colab.kernel.accessAllowed ? 'block' : 'none';\n",
              "\n",
              "      async function convertToInteractive(key) {\n",
              "        const element = document.querySelector('#df-500a5df9-7277-4f0b-9c92-a6d5ddc63c74');\n",
              "        const dataTable =\n",
              "          await google.colab.kernel.invokeFunction('convertToInteractive',\n",
              "                                                    [key], {});\n",
              "        if (!dataTable) return;\n",
              "\n",
              "        const docLinkHtml = 'Like what you see? Visit the ' +\n",
              "          '<a target=\"_blank\" href=https://colab.research.google.com/notebooks/data_table.ipynb>data table notebook</a>'\n",
              "          + ' to learn more about interactive tables.';\n",
              "        element.innerHTML = '';\n",
              "        dataTable['output_type'] = 'display_data';\n",
              "        await google.colab.output.renderOutput(dataTable, element);\n",
              "        const docLink = document.createElement('div');\n",
              "        docLink.innerHTML = docLinkHtml;\n",
              "        element.appendChild(docLink);\n",
              "      }\n",
              "    </script>\n",
              "  </div>\n",
              "\n",
              "\n",
              "<div id=\"df-993b72a0-7544-4d56-9199-46b658671717\">\n",
              "  <button class=\"colab-df-quickchart\" onclick=\"quickchart('df-993b72a0-7544-4d56-9199-46b658671717')\"\n",
              "            title=\"Suggest charts\"\n",
              "            style=\"display:none;\">\n",
              "\n",
              "<svg xmlns=\"http://www.w3.org/2000/svg\" height=\"24px\"viewBox=\"0 0 24 24\"\n",
              "     width=\"24px\">\n",
              "    <g>\n",
              "        <path d=\"M19 3H5c-1.1 0-2 .9-2 2v14c0 1.1.9 2 2 2h14c1.1 0 2-.9 2-2V5c0-1.1-.9-2-2-2zM9 17H7v-7h2v7zm4 0h-2V7h2v10zm4 0h-2v-4h2v4z\"/>\n",
              "    </g>\n",
              "</svg>\n",
              "  </button>\n",
              "\n",
              "<style>\n",
              "  .colab-df-quickchart {\n",
              "      --bg-color: #E8F0FE;\n",
              "      --fill-color: #1967D2;\n",
              "      --hover-bg-color: #E2EBFA;\n",
              "      --hover-fill-color: #174EA6;\n",
              "      --disabled-fill-color: #AAA;\n",
              "      --disabled-bg-color: #DDD;\n",
              "  }\n",
              "\n",
              "  [theme=dark] .colab-df-quickchart {\n",
              "      --bg-color: #3B4455;\n",
              "      --fill-color: #D2E3FC;\n",
              "      --hover-bg-color: #434B5C;\n",
              "      --hover-fill-color: #FFFFFF;\n",
              "      --disabled-bg-color: #3B4455;\n",
              "      --disabled-fill-color: #666;\n",
              "  }\n",
              "\n",
              "  .colab-df-quickchart {\n",
              "    background-color: var(--bg-color);\n",
              "    border: none;\n",
              "    border-radius: 50%;\n",
              "    cursor: pointer;\n",
              "    display: none;\n",
              "    fill: var(--fill-color);\n",
              "    height: 32px;\n",
              "    padding: 0;\n",
              "    width: 32px;\n",
              "  }\n",
              "\n",
              "  .colab-df-quickchart:hover {\n",
              "    background-color: var(--hover-bg-color);\n",
              "    box-shadow: 0 1px 2px rgba(60, 64, 67, 0.3), 0 1px 3px 1px rgba(60, 64, 67, 0.15);\n",
              "    fill: var(--button-hover-fill-color);\n",
              "  }\n",
              "\n",
              "  .colab-df-quickchart-complete:disabled,\n",
              "  .colab-df-quickchart-complete:disabled:hover {\n",
              "    background-color: var(--disabled-bg-color);\n",
              "    fill: var(--disabled-fill-color);\n",
              "    box-shadow: none;\n",
              "  }\n",
              "\n",
              "  .colab-df-spinner {\n",
              "    border: 2px solid var(--fill-color);\n",
              "    border-color: transparent;\n",
              "    border-bottom-color: var(--fill-color);\n",
              "    animation:\n",
              "      spin 1s steps(1) infinite;\n",
              "  }\n",
              "\n",
              "  @keyframes spin {\n",
              "    0% {\n",
              "      border-color: transparent;\n",
              "      border-bottom-color: var(--fill-color);\n",
              "      border-left-color: var(--fill-color);\n",
              "    }\n",
              "    20% {\n",
              "      border-color: transparent;\n",
              "      border-left-color: var(--fill-color);\n",
              "      border-top-color: var(--fill-color);\n",
              "    }\n",
              "    30% {\n",
              "      border-color: transparent;\n",
              "      border-left-color: var(--fill-color);\n",
              "      border-top-color: var(--fill-color);\n",
              "      border-right-color: var(--fill-color);\n",
              "    }\n",
              "    40% {\n",
              "      border-color: transparent;\n",
              "      border-right-color: var(--fill-color);\n",
              "      border-top-color: var(--fill-color);\n",
              "    }\n",
              "    60% {\n",
              "      border-color: transparent;\n",
              "      border-right-color: var(--fill-color);\n",
              "    }\n",
              "    80% {\n",
              "      border-color: transparent;\n",
              "      border-right-color: var(--fill-color);\n",
              "      border-bottom-color: var(--fill-color);\n",
              "    }\n",
              "    90% {\n",
              "      border-color: transparent;\n",
              "      border-bottom-color: var(--fill-color);\n",
              "    }\n",
              "  }\n",
              "</style>\n",
              "\n",
              "  <script>\n",
              "    async function quickchart(key) {\n",
              "      const quickchartButtonEl =\n",
              "        document.querySelector('#' + key + ' button');\n",
              "      quickchartButtonEl.disabled = true;  // To prevent multiple clicks.\n",
              "      quickchartButtonEl.classList.add('colab-df-spinner');\n",
              "      try {\n",
              "        const charts = await google.colab.kernel.invokeFunction(\n",
              "            'suggestCharts', [key], {});\n",
              "      } catch (error) {\n",
              "        console.error('Error during call to suggestCharts:', error);\n",
              "      }\n",
              "      quickchartButtonEl.classList.remove('colab-df-spinner');\n",
              "      quickchartButtonEl.classList.add('colab-df-quickchart-complete');\n",
              "    }\n",
              "    (() => {\n",
              "      let quickchartButtonEl =\n",
              "        document.querySelector('#df-993b72a0-7544-4d56-9199-46b658671717 button');\n",
              "      quickchartButtonEl.style.display =\n",
              "        google.colab.kernel.accessAllowed ? 'block' : 'none';\n",
              "    })();\n",
              "  </script>\n",
              "</div>\n",
              "    </div>\n",
              "  </div>\n"
            ],
            "application/vnd.google.colaboratory.intrinsic+json": {
              "type": "dataframe",
              "summary": "{\n  \"name\": \"data\",\n  \"rows\": 12,\n  \"fields\": [\n    {\n      \"column\": \"y\",\n      \"properties\": {\n        \"dtype\": \"number\",\n        \"std\": 0.0,\n        \"min\": 0.0,\n        \"max\": 0.0,\n        \"num_unique_values\": 1,\n        \"samples\": [\n          0.0\n        ],\n        \"semantic_type\": \"\",\n        \"description\": \"\"\n      }\n    },\n    {\n      \"column\": \"x1\",\n      \"properties\": {\n        \"dtype\": \"number\",\n        \"std\": 0.06112731989103241,\n        \"min\": 0.26557849,\n        \"max\": 0.47572049,\n        \"num_unique_values\": 12,\n        \"samples\": [\n          0.39375649\n        ],\n        \"semantic_type\": \"\",\n        \"description\": \"\"\n      }\n    },\n    {\n      \"column\": \"x2\",\n      \"properties\": {\n        \"dtype\": \"number\",\n        \"std\": 0.09154122884285872,\n        \"min\": -4.8119978,\n        \"max\": -4.5302098,\n        \"num_unique_values\": 12,\n        \"samples\": [\n          -4.8119978\n        ],\n        \"semantic_type\": \"\",\n        \"description\": \"\"\n      }\n    },\n    {\n      \"column\": \"x3\",\n      \"properties\": {\n        \"dtype\": \"number\",\n        \"std\": 0.11081086138931029,\n        \"min\": -4.3531468,\n        \"max\": -4.0183588,\n        \"num_unique_values\": 12,\n        \"samples\": [\n          -4.1164548\n        ],\n        \"semantic_type\": \"\",\n        \"description\": \"\"\n      }\n    },\n    {\n      \"column\": \"x4\",\n      \"properties\": {\n        \"dtype\": \"number\",\n        \"std\": 5.0452704763181595,\n        \"min\": 13.1615665,\n        \"max\": 27.5508485,\n        \"num_unique_values\": 12,\n        \"samples\": [\n          27.5508485\n        ],\n        \"semantic_type\": \"\",\n        \"description\": \"\"\n      }\n    }\n  ]\n}"
            }
          },
          "metadata": {},
          "execution_count": 26
        }
      ]
    },
    {
      "cell_type": "code",
      "metadata": {
        "id": "dp65miQ2VeC6",
        "colab": {
          "base_uri": "https://localhost:8080/",
          "height": 363
        },
        "outputId": "46378af0-eb5a-4779-c4ca-9bc8c69500c3"
      },
      "source": [
        "pd.DataFrame(x[0, :, :4])"
      ],
      "execution_count": null,
      "outputs": [
        {
          "output_type": "execute_result",
          "data": {
            "text/plain": [
              "          0         1         2          3\n",
              "0  0.376665 -4.596435 -4.095756  13.497687\n",
              "1  0.475720 -4.542502 -4.018359  16.230659\n",
              "2  0.363848 -4.681394 -4.353147  14.127997\n",
              "3  0.301590 -4.758934 -4.023612  13.161566\n",
              "4  0.265578 -4.749928 -4.333150  15.267340\n",
              "5  0.381253 -4.611746 -4.085072  14.143195\n",
              "6  0.313325 -4.530210 -4.120931  18.681465\n",
              "7  0.396401 -4.699047 -4.074193  21.307655\n",
              "8  0.342688 -4.553506 -4.188885  22.892035\n",
              "9  0.458252 -4.639561 -4.246547  23.160957"
            ],
            "text/html": [
              "\n",
              "  <div id=\"df-a20f7e68-ff38-4d19-b078-20e559bdd8bd\" class=\"colab-df-container\">\n",
              "    <div>\n",
              "<style scoped>\n",
              "    .dataframe tbody tr th:only-of-type {\n",
              "        vertical-align: middle;\n",
              "    }\n",
              "\n",
              "    .dataframe tbody tr th {\n",
              "        vertical-align: top;\n",
              "    }\n",
              "\n",
              "    .dataframe thead th {\n",
              "        text-align: right;\n",
              "    }\n",
              "</style>\n",
              "<table border=\"1\" class=\"dataframe\">\n",
              "  <thead>\n",
              "    <tr style=\"text-align: right;\">\n",
              "      <th></th>\n",
              "      <th>0</th>\n",
              "      <th>1</th>\n",
              "      <th>2</th>\n",
              "      <th>3</th>\n",
              "    </tr>\n",
              "  </thead>\n",
              "  <tbody>\n",
              "    <tr>\n",
              "      <th>0</th>\n",
              "      <td>0.376665</td>\n",
              "      <td>-4.596435</td>\n",
              "      <td>-4.095756</td>\n",
              "      <td>13.497687</td>\n",
              "    </tr>\n",
              "    <tr>\n",
              "      <th>1</th>\n",
              "      <td>0.475720</td>\n",
              "      <td>-4.542502</td>\n",
              "      <td>-4.018359</td>\n",
              "      <td>16.230659</td>\n",
              "    </tr>\n",
              "    <tr>\n",
              "      <th>2</th>\n",
              "      <td>0.363848</td>\n",
              "      <td>-4.681394</td>\n",
              "      <td>-4.353147</td>\n",
              "      <td>14.127997</td>\n",
              "    </tr>\n",
              "    <tr>\n",
              "      <th>3</th>\n",
              "      <td>0.301590</td>\n",
              "      <td>-4.758934</td>\n",
              "      <td>-4.023612</td>\n",
              "      <td>13.161566</td>\n",
              "    </tr>\n",
              "    <tr>\n",
              "      <th>4</th>\n",
              "      <td>0.265578</td>\n",
              "      <td>-4.749928</td>\n",
              "      <td>-4.333150</td>\n",
              "      <td>15.267340</td>\n",
              "    </tr>\n",
              "    <tr>\n",
              "      <th>5</th>\n",
              "      <td>0.381253</td>\n",
              "      <td>-4.611746</td>\n",
              "      <td>-4.085072</td>\n",
              "      <td>14.143195</td>\n",
              "    </tr>\n",
              "    <tr>\n",
              "      <th>6</th>\n",
              "      <td>0.313325</td>\n",
              "      <td>-4.530210</td>\n",
              "      <td>-4.120931</td>\n",
              "      <td>18.681465</td>\n",
              "    </tr>\n",
              "    <tr>\n",
              "      <th>7</th>\n",
              "      <td>0.396401</td>\n",
              "      <td>-4.699047</td>\n",
              "      <td>-4.074193</td>\n",
              "      <td>21.307655</td>\n",
              "    </tr>\n",
              "    <tr>\n",
              "      <th>8</th>\n",
              "      <td>0.342688</td>\n",
              "      <td>-4.553506</td>\n",
              "      <td>-4.188885</td>\n",
              "      <td>22.892035</td>\n",
              "    </tr>\n",
              "    <tr>\n",
              "      <th>9</th>\n",
              "      <td>0.458252</td>\n",
              "      <td>-4.639561</td>\n",
              "      <td>-4.246547</td>\n",
              "      <td>23.160957</td>\n",
              "    </tr>\n",
              "  </tbody>\n",
              "</table>\n",
              "</div>\n",
              "    <div class=\"colab-df-buttons\">\n",
              "\n",
              "  <div class=\"colab-df-container\">\n",
              "    <button class=\"colab-df-convert\" onclick=\"convertToInteractive('df-a20f7e68-ff38-4d19-b078-20e559bdd8bd')\"\n",
              "            title=\"Convert this dataframe to an interactive table.\"\n",
              "            style=\"display:none;\">\n",
              "\n",
              "  <svg xmlns=\"http://www.w3.org/2000/svg\" height=\"24px\" viewBox=\"0 -960 960 960\">\n",
              "    <path d=\"M120-120v-720h720v720H120Zm60-500h600v-160H180v160Zm220 220h160v-160H400v160Zm0 220h160v-160H400v160ZM180-400h160v-160H180v160Zm440 0h160v-160H620v160ZM180-180h160v-160H180v160Zm440 0h160v-160H620v160Z\"/>\n",
              "  </svg>\n",
              "    </button>\n",
              "\n",
              "  <style>\n",
              "    .colab-df-container {\n",
              "      display:flex;\n",
              "      gap: 12px;\n",
              "    }\n",
              "\n",
              "    .colab-df-convert {\n",
              "      background-color: #E8F0FE;\n",
              "      border: none;\n",
              "      border-radius: 50%;\n",
              "      cursor: pointer;\n",
              "      display: none;\n",
              "      fill: #1967D2;\n",
              "      height: 32px;\n",
              "      padding: 0 0 0 0;\n",
              "      width: 32px;\n",
              "    }\n",
              "\n",
              "    .colab-df-convert:hover {\n",
              "      background-color: #E2EBFA;\n",
              "      box-shadow: 0px 1px 2px rgba(60, 64, 67, 0.3), 0px 1px 3px 1px rgba(60, 64, 67, 0.15);\n",
              "      fill: #174EA6;\n",
              "    }\n",
              "\n",
              "    .colab-df-buttons div {\n",
              "      margin-bottom: 4px;\n",
              "    }\n",
              "\n",
              "    [theme=dark] .colab-df-convert {\n",
              "      background-color: #3B4455;\n",
              "      fill: #D2E3FC;\n",
              "    }\n",
              "\n",
              "    [theme=dark] .colab-df-convert:hover {\n",
              "      background-color: #434B5C;\n",
              "      box-shadow: 0px 1px 3px 1px rgba(0, 0, 0, 0.15);\n",
              "      filter: drop-shadow(0px 1px 2px rgba(0, 0, 0, 0.3));\n",
              "      fill: #FFFFFF;\n",
              "    }\n",
              "  </style>\n",
              "\n",
              "    <script>\n",
              "      const buttonEl =\n",
              "        document.querySelector('#df-a20f7e68-ff38-4d19-b078-20e559bdd8bd button.colab-df-convert');\n",
              "      buttonEl.style.display =\n",
              "        google.colab.kernel.accessAllowed ? 'block' : 'none';\n",
              "\n",
              "      async function convertToInteractive(key) {\n",
              "        const element = document.querySelector('#df-a20f7e68-ff38-4d19-b078-20e559bdd8bd');\n",
              "        const dataTable =\n",
              "          await google.colab.kernel.invokeFunction('convertToInteractive',\n",
              "                                                    [key], {});\n",
              "        if (!dataTable) return;\n",
              "\n",
              "        const docLinkHtml = 'Like what you see? Visit the ' +\n",
              "          '<a target=\"_blank\" href=https://colab.research.google.com/notebooks/data_table.ipynb>data table notebook</a>'\n",
              "          + ' to learn more about interactive tables.';\n",
              "        element.innerHTML = '';\n",
              "        dataTable['output_type'] = 'display_data';\n",
              "        await google.colab.output.renderOutput(dataTable, element);\n",
              "        const docLink = document.createElement('div');\n",
              "        docLink.innerHTML = docLinkHtml;\n",
              "        element.appendChild(docLink);\n",
              "      }\n",
              "    </script>\n",
              "  </div>\n",
              "\n",
              "\n",
              "<div id=\"df-7f0b645e-9250-4dac-9720-b2719e778018\">\n",
              "  <button class=\"colab-df-quickchart\" onclick=\"quickchart('df-7f0b645e-9250-4dac-9720-b2719e778018')\"\n",
              "            title=\"Suggest charts\"\n",
              "            style=\"display:none;\">\n",
              "\n",
              "<svg xmlns=\"http://www.w3.org/2000/svg\" height=\"24px\"viewBox=\"0 0 24 24\"\n",
              "     width=\"24px\">\n",
              "    <g>\n",
              "        <path d=\"M19 3H5c-1.1 0-2 .9-2 2v14c0 1.1.9 2 2 2h14c1.1 0 2-.9 2-2V5c0-1.1-.9-2-2-2zM9 17H7v-7h2v7zm4 0h-2V7h2v10zm4 0h-2v-4h2v4z\"/>\n",
              "    </g>\n",
              "</svg>\n",
              "  </button>\n",
              "\n",
              "<style>\n",
              "  .colab-df-quickchart {\n",
              "      --bg-color: #E8F0FE;\n",
              "      --fill-color: #1967D2;\n",
              "      --hover-bg-color: #E2EBFA;\n",
              "      --hover-fill-color: #174EA6;\n",
              "      --disabled-fill-color: #AAA;\n",
              "      --disabled-bg-color: #DDD;\n",
              "  }\n",
              "\n",
              "  [theme=dark] .colab-df-quickchart {\n",
              "      --bg-color: #3B4455;\n",
              "      --fill-color: #D2E3FC;\n",
              "      --hover-bg-color: #434B5C;\n",
              "      --hover-fill-color: #FFFFFF;\n",
              "      --disabled-bg-color: #3B4455;\n",
              "      --disabled-fill-color: #666;\n",
              "  }\n",
              "\n",
              "  .colab-df-quickchart {\n",
              "    background-color: var(--bg-color);\n",
              "    border: none;\n",
              "    border-radius: 50%;\n",
              "    cursor: pointer;\n",
              "    display: none;\n",
              "    fill: var(--fill-color);\n",
              "    height: 32px;\n",
              "    padding: 0;\n",
              "    width: 32px;\n",
              "  }\n",
              "\n",
              "  .colab-df-quickchart:hover {\n",
              "    background-color: var(--hover-bg-color);\n",
              "    box-shadow: 0 1px 2px rgba(60, 64, 67, 0.3), 0 1px 3px 1px rgba(60, 64, 67, 0.15);\n",
              "    fill: var(--button-hover-fill-color);\n",
              "  }\n",
              "\n",
              "  .colab-df-quickchart-complete:disabled,\n",
              "  .colab-df-quickchart-complete:disabled:hover {\n",
              "    background-color: var(--disabled-bg-color);\n",
              "    fill: var(--disabled-fill-color);\n",
              "    box-shadow: none;\n",
              "  }\n",
              "\n",
              "  .colab-df-spinner {\n",
              "    border: 2px solid var(--fill-color);\n",
              "    border-color: transparent;\n",
              "    border-bottom-color: var(--fill-color);\n",
              "    animation:\n",
              "      spin 1s steps(1) infinite;\n",
              "  }\n",
              "\n",
              "  @keyframes spin {\n",
              "    0% {\n",
              "      border-color: transparent;\n",
              "      border-bottom-color: var(--fill-color);\n",
              "      border-left-color: var(--fill-color);\n",
              "    }\n",
              "    20% {\n",
              "      border-color: transparent;\n",
              "      border-left-color: var(--fill-color);\n",
              "      border-top-color: var(--fill-color);\n",
              "    }\n",
              "    30% {\n",
              "      border-color: transparent;\n",
              "      border-left-color: var(--fill-color);\n",
              "      border-top-color: var(--fill-color);\n",
              "      border-right-color: var(--fill-color);\n",
              "    }\n",
              "    40% {\n",
              "      border-color: transparent;\n",
              "      border-right-color: var(--fill-color);\n",
              "      border-top-color: var(--fill-color);\n",
              "    }\n",
              "    60% {\n",
              "      border-color: transparent;\n",
              "      border-right-color: var(--fill-color);\n",
              "    }\n",
              "    80% {\n",
              "      border-color: transparent;\n",
              "      border-right-color: var(--fill-color);\n",
              "      border-bottom-color: var(--fill-color);\n",
              "    }\n",
              "    90% {\n",
              "      border-color: transparent;\n",
              "      border-bottom-color: var(--fill-color);\n",
              "    }\n",
              "  }\n",
              "</style>\n",
              "\n",
              "  <script>\n",
              "    async function quickchart(key) {\n",
              "      const quickchartButtonEl =\n",
              "        document.querySelector('#' + key + ' button');\n",
              "      quickchartButtonEl.disabled = true;  // To prevent multiple clicks.\n",
              "      quickchartButtonEl.classList.add('colab-df-spinner');\n",
              "      try {\n",
              "        const charts = await google.colab.kernel.invokeFunction(\n",
              "            'suggestCharts', [key], {});\n",
              "      } catch (error) {\n",
              "        console.error('Error during call to suggestCharts:', error);\n",
              "      }\n",
              "      quickchartButtonEl.classList.remove('colab-df-spinner');\n",
              "      quickchartButtonEl.classList.add('colab-df-quickchart-complete');\n",
              "    }\n",
              "    (() => {\n",
              "      let quickchartButtonEl =\n",
              "        document.querySelector('#df-7f0b645e-9250-4dac-9720-b2719e778018 button');\n",
              "      quickchartButtonEl.style.display =\n",
              "        google.colab.kernel.accessAllowed ? 'block' : 'none';\n",
              "    })();\n",
              "  </script>\n",
              "</div>\n",
              "    </div>\n",
              "  </div>\n"
            ],
            "application/vnd.google.colaboratory.intrinsic+json": {
              "type": "dataframe",
              "summary": "{\n  \"name\": \"pd\",\n  \"rows\": 10,\n  \"fields\": [\n    {\n      \"column\": 0,\n      \"properties\": {\n        \"dtype\": \"number\",\n        \"std\": 0.06612447769674001,\n        \"min\": 0.26557849,\n        \"max\": 0.47572049,\n        \"num_unique_values\": 10,\n        \"samples\": [\n          0.34268849,\n          0.47572049,\n          0.38125349\n        ],\n        \"semantic_type\": \"\",\n        \"description\": \"\"\n      }\n    },\n    {\n      \"column\": 1,\n      \"properties\": {\n        \"dtype\": \"number\",\n        \"std\": 0.08368712822179482,\n        \"min\": -4.7589338,\n        \"max\": -4.5302098,\n        \"num_unique_values\": 10,\n        \"samples\": [\n          -4.5535058,\n          -4.5425018,\n          -4.6117458\n        ],\n        \"semantic_type\": \"\",\n        \"description\": \"\"\n      }\n    },\n    {\n      \"column\": 2,\n      \"properties\": {\n        \"dtype\": \"number\",\n        \"std\": 0.12135430614874973,\n        \"min\": -4.3531468,\n        \"max\": -4.0183588,\n        \"num_unique_values\": 10,\n        \"samples\": [\n          -4.1888848,\n          -4.0183588,\n          -4.0850718\n        ],\n        \"semantic_type\": \"\",\n        \"description\": \"\"\n      }\n    },\n    {\n      \"column\": 3,\n      \"properties\": {\n        \"dtype\": \"number\",\n        \"std\": 3.9503839823859828,\n        \"min\": 13.1615665,\n        \"max\": 23.1609565,\n        \"num_unique_values\": 10,\n        \"samples\": [\n          22.8920355,\n          16.2306585,\n          14.1431955\n        ],\n        \"semantic_type\": \"\",\n        \"description\": \"\"\n      }\n    }\n  ]\n}"
            }
          },
          "metadata": {},
          "execution_count": 27
        }
      ]
    },
    {
      "cell_type": "code",
      "metadata": {
        "id": "ldvpYXxUVeC6",
        "colab": {
          "base_uri": "https://localhost:8080/",
          "height": 363
        },
        "outputId": "6a4c393c-f250-4aac-c839-ec478930aa36"
      },
      "source": [
        "pd.DataFrame(x[1, :, :4])"
      ],
      "execution_count": null,
      "outputs": [
        {
          "output_type": "execute_result",
          "data": {
            "text/plain": [
              "          0         1         2          3\n",
              "0  0.475720 -4.542502 -4.018359  16.230659\n",
              "1  0.363848 -4.681394 -4.353147  14.127997\n",
              "2  0.301590 -4.758934 -4.023612  13.161566\n",
              "3  0.265578 -4.749928 -4.333150  15.267340\n",
              "4  0.381253 -4.611746 -4.085072  14.143195\n",
              "5  0.313325 -4.530210 -4.120931  18.681465\n",
              "6  0.396401 -4.699047 -4.074193  21.307655\n",
              "7  0.342688 -4.553506 -4.188885  22.892035\n",
              "8  0.458252 -4.639561 -4.246547  23.160957\n",
              "9  0.393756 -4.811998 -4.116455  27.550849"
            ],
            "text/html": [
              "\n",
              "  <div id=\"df-30cd6f54-030c-4817-a59c-0a39377ff61a\" class=\"colab-df-container\">\n",
              "    <div>\n",
              "<style scoped>\n",
              "    .dataframe tbody tr th:only-of-type {\n",
              "        vertical-align: middle;\n",
              "    }\n",
              "\n",
              "    .dataframe tbody tr th {\n",
              "        vertical-align: top;\n",
              "    }\n",
              "\n",
              "    .dataframe thead th {\n",
              "        text-align: right;\n",
              "    }\n",
              "</style>\n",
              "<table border=\"1\" class=\"dataframe\">\n",
              "  <thead>\n",
              "    <tr style=\"text-align: right;\">\n",
              "      <th></th>\n",
              "      <th>0</th>\n",
              "      <th>1</th>\n",
              "      <th>2</th>\n",
              "      <th>3</th>\n",
              "    </tr>\n",
              "  </thead>\n",
              "  <tbody>\n",
              "    <tr>\n",
              "      <th>0</th>\n",
              "      <td>0.475720</td>\n",
              "      <td>-4.542502</td>\n",
              "      <td>-4.018359</td>\n",
              "      <td>16.230659</td>\n",
              "    </tr>\n",
              "    <tr>\n",
              "      <th>1</th>\n",
              "      <td>0.363848</td>\n",
              "      <td>-4.681394</td>\n",
              "      <td>-4.353147</td>\n",
              "      <td>14.127997</td>\n",
              "    </tr>\n",
              "    <tr>\n",
              "      <th>2</th>\n",
              "      <td>0.301590</td>\n",
              "      <td>-4.758934</td>\n",
              "      <td>-4.023612</td>\n",
              "      <td>13.161566</td>\n",
              "    </tr>\n",
              "    <tr>\n",
              "      <th>3</th>\n",
              "      <td>0.265578</td>\n",
              "      <td>-4.749928</td>\n",
              "      <td>-4.333150</td>\n",
              "      <td>15.267340</td>\n",
              "    </tr>\n",
              "    <tr>\n",
              "      <th>4</th>\n",
              "      <td>0.381253</td>\n",
              "      <td>-4.611746</td>\n",
              "      <td>-4.085072</td>\n",
              "      <td>14.143195</td>\n",
              "    </tr>\n",
              "    <tr>\n",
              "      <th>5</th>\n",
              "      <td>0.313325</td>\n",
              "      <td>-4.530210</td>\n",
              "      <td>-4.120931</td>\n",
              "      <td>18.681465</td>\n",
              "    </tr>\n",
              "    <tr>\n",
              "      <th>6</th>\n",
              "      <td>0.396401</td>\n",
              "      <td>-4.699047</td>\n",
              "      <td>-4.074193</td>\n",
              "      <td>21.307655</td>\n",
              "    </tr>\n",
              "    <tr>\n",
              "      <th>7</th>\n",
              "      <td>0.342688</td>\n",
              "      <td>-4.553506</td>\n",
              "      <td>-4.188885</td>\n",
              "      <td>22.892035</td>\n",
              "    </tr>\n",
              "    <tr>\n",
              "      <th>8</th>\n",
              "      <td>0.458252</td>\n",
              "      <td>-4.639561</td>\n",
              "      <td>-4.246547</td>\n",
              "      <td>23.160957</td>\n",
              "    </tr>\n",
              "    <tr>\n",
              "      <th>9</th>\n",
              "      <td>0.393756</td>\n",
              "      <td>-4.811998</td>\n",
              "      <td>-4.116455</td>\n",
              "      <td>27.550849</td>\n",
              "    </tr>\n",
              "  </tbody>\n",
              "</table>\n",
              "</div>\n",
              "    <div class=\"colab-df-buttons\">\n",
              "\n",
              "  <div class=\"colab-df-container\">\n",
              "    <button class=\"colab-df-convert\" onclick=\"convertToInteractive('df-30cd6f54-030c-4817-a59c-0a39377ff61a')\"\n",
              "            title=\"Convert this dataframe to an interactive table.\"\n",
              "            style=\"display:none;\">\n",
              "\n",
              "  <svg xmlns=\"http://www.w3.org/2000/svg\" height=\"24px\" viewBox=\"0 -960 960 960\">\n",
              "    <path d=\"M120-120v-720h720v720H120Zm60-500h600v-160H180v160Zm220 220h160v-160H400v160Zm0 220h160v-160H400v160ZM180-400h160v-160H180v160Zm440 0h160v-160H620v160ZM180-180h160v-160H180v160Zm440 0h160v-160H620v160Z\"/>\n",
              "  </svg>\n",
              "    </button>\n",
              "\n",
              "  <style>\n",
              "    .colab-df-container {\n",
              "      display:flex;\n",
              "      gap: 12px;\n",
              "    }\n",
              "\n",
              "    .colab-df-convert {\n",
              "      background-color: #E8F0FE;\n",
              "      border: none;\n",
              "      border-radius: 50%;\n",
              "      cursor: pointer;\n",
              "      display: none;\n",
              "      fill: #1967D2;\n",
              "      height: 32px;\n",
              "      padding: 0 0 0 0;\n",
              "      width: 32px;\n",
              "    }\n",
              "\n",
              "    .colab-df-convert:hover {\n",
              "      background-color: #E2EBFA;\n",
              "      box-shadow: 0px 1px 2px rgba(60, 64, 67, 0.3), 0px 1px 3px 1px rgba(60, 64, 67, 0.15);\n",
              "      fill: #174EA6;\n",
              "    }\n",
              "\n",
              "    .colab-df-buttons div {\n",
              "      margin-bottom: 4px;\n",
              "    }\n",
              "\n",
              "    [theme=dark] .colab-df-convert {\n",
              "      background-color: #3B4455;\n",
              "      fill: #D2E3FC;\n",
              "    }\n",
              "\n",
              "    [theme=dark] .colab-df-convert:hover {\n",
              "      background-color: #434B5C;\n",
              "      box-shadow: 0px 1px 3px 1px rgba(0, 0, 0, 0.15);\n",
              "      filter: drop-shadow(0px 1px 2px rgba(0, 0, 0, 0.3));\n",
              "      fill: #FFFFFF;\n",
              "    }\n",
              "  </style>\n",
              "\n",
              "    <script>\n",
              "      const buttonEl =\n",
              "        document.querySelector('#df-30cd6f54-030c-4817-a59c-0a39377ff61a button.colab-df-convert');\n",
              "      buttonEl.style.display =\n",
              "        google.colab.kernel.accessAllowed ? 'block' : 'none';\n",
              "\n",
              "      async function convertToInteractive(key) {\n",
              "        const element = document.querySelector('#df-30cd6f54-030c-4817-a59c-0a39377ff61a');\n",
              "        const dataTable =\n",
              "          await google.colab.kernel.invokeFunction('convertToInteractive',\n",
              "                                                    [key], {});\n",
              "        if (!dataTable) return;\n",
              "\n",
              "        const docLinkHtml = 'Like what you see? Visit the ' +\n",
              "          '<a target=\"_blank\" href=https://colab.research.google.com/notebooks/data_table.ipynb>data table notebook</a>'\n",
              "          + ' to learn more about interactive tables.';\n",
              "        element.innerHTML = '';\n",
              "        dataTable['output_type'] = 'display_data';\n",
              "        await google.colab.output.renderOutput(dataTable, element);\n",
              "        const docLink = document.createElement('div');\n",
              "        docLink.innerHTML = docLinkHtml;\n",
              "        element.appendChild(docLink);\n",
              "      }\n",
              "    </script>\n",
              "  </div>\n",
              "\n",
              "\n",
              "<div id=\"df-cd5db124-9643-4366-9d25-3ce6ed08ec59\">\n",
              "  <button class=\"colab-df-quickchart\" onclick=\"quickchart('df-cd5db124-9643-4366-9d25-3ce6ed08ec59')\"\n",
              "            title=\"Suggest charts\"\n",
              "            style=\"display:none;\">\n",
              "\n",
              "<svg xmlns=\"http://www.w3.org/2000/svg\" height=\"24px\"viewBox=\"0 0 24 24\"\n",
              "     width=\"24px\">\n",
              "    <g>\n",
              "        <path d=\"M19 3H5c-1.1 0-2 .9-2 2v14c0 1.1.9 2 2 2h14c1.1 0 2-.9 2-2V5c0-1.1-.9-2-2-2zM9 17H7v-7h2v7zm4 0h-2V7h2v10zm4 0h-2v-4h2v4z\"/>\n",
              "    </g>\n",
              "</svg>\n",
              "  </button>\n",
              "\n",
              "<style>\n",
              "  .colab-df-quickchart {\n",
              "      --bg-color: #E8F0FE;\n",
              "      --fill-color: #1967D2;\n",
              "      --hover-bg-color: #E2EBFA;\n",
              "      --hover-fill-color: #174EA6;\n",
              "      --disabled-fill-color: #AAA;\n",
              "      --disabled-bg-color: #DDD;\n",
              "  }\n",
              "\n",
              "  [theme=dark] .colab-df-quickchart {\n",
              "      --bg-color: #3B4455;\n",
              "      --fill-color: #D2E3FC;\n",
              "      --hover-bg-color: #434B5C;\n",
              "      --hover-fill-color: #FFFFFF;\n",
              "      --disabled-bg-color: #3B4455;\n",
              "      --disabled-fill-color: #666;\n",
              "  }\n",
              "\n",
              "  .colab-df-quickchart {\n",
              "    background-color: var(--bg-color);\n",
              "    border: none;\n",
              "    border-radius: 50%;\n",
              "    cursor: pointer;\n",
              "    display: none;\n",
              "    fill: var(--fill-color);\n",
              "    height: 32px;\n",
              "    padding: 0;\n",
              "    width: 32px;\n",
              "  }\n",
              "\n",
              "  .colab-df-quickchart:hover {\n",
              "    background-color: var(--hover-bg-color);\n",
              "    box-shadow: 0 1px 2px rgba(60, 64, 67, 0.3), 0 1px 3px 1px rgba(60, 64, 67, 0.15);\n",
              "    fill: var(--button-hover-fill-color);\n",
              "  }\n",
              "\n",
              "  .colab-df-quickchart-complete:disabled,\n",
              "  .colab-df-quickchart-complete:disabled:hover {\n",
              "    background-color: var(--disabled-bg-color);\n",
              "    fill: var(--disabled-fill-color);\n",
              "    box-shadow: none;\n",
              "  }\n",
              "\n",
              "  .colab-df-spinner {\n",
              "    border: 2px solid var(--fill-color);\n",
              "    border-color: transparent;\n",
              "    border-bottom-color: var(--fill-color);\n",
              "    animation:\n",
              "      spin 1s steps(1) infinite;\n",
              "  }\n",
              "\n",
              "  @keyframes spin {\n",
              "    0% {\n",
              "      border-color: transparent;\n",
              "      border-bottom-color: var(--fill-color);\n",
              "      border-left-color: var(--fill-color);\n",
              "    }\n",
              "    20% {\n",
              "      border-color: transparent;\n",
              "      border-left-color: var(--fill-color);\n",
              "      border-top-color: var(--fill-color);\n",
              "    }\n",
              "    30% {\n",
              "      border-color: transparent;\n",
              "      border-left-color: var(--fill-color);\n",
              "      border-top-color: var(--fill-color);\n",
              "      border-right-color: var(--fill-color);\n",
              "    }\n",
              "    40% {\n",
              "      border-color: transparent;\n",
              "      border-right-color: var(--fill-color);\n",
              "      border-top-color: var(--fill-color);\n",
              "    }\n",
              "    60% {\n",
              "      border-color: transparent;\n",
              "      border-right-color: var(--fill-color);\n",
              "    }\n",
              "    80% {\n",
              "      border-color: transparent;\n",
              "      border-right-color: var(--fill-color);\n",
              "      border-bottom-color: var(--fill-color);\n",
              "    }\n",
              "    90% {\n",
              "      border-color: transparent;\n",
              "      border-bottom-color: var(--fill-color);\n",
              "    }\n",
              "  }\n",
              "</style>\n",
              "\n",
              "  <script>\n",
              "    async function quickchart(key) {\n",
              "      const quickchartButtonEl =\n",
              "        document.querySelector('#' + key + ' button');\n",
              "      quickchartButtonEl.disabled = true;  // To prevent multiple clicks.\n",
              "      quickchartButtonEl.classList.add('colab-df-spinner');\n",
              "      try {\n",
              "        const charts = await google.colab.kernel.invokeFunction(\n",
              "            'suggestCharts', [key], {});\n",
              "      } catch (error) {\n",
              "        console.error('Error during call to suggestCharts:', error);\n",
              "      }\n",
              "      quickchartButtonEl.classList.remove('colab-df-spinner');\n",
              "      quickchartButtonEl.classList.add('colab-df-quickchart-complete');\n",
              "    }\n",
              "    (() => {\n",
              "      let quickchartButtonEl =\n",
              "        document.querySelector('#df-cd5db124-9643-4366-9d25-3ce6ed08ec59 button');\n",
              "      quickchartButtonEl.style.display =\n",
              "        google.colab.kernel.accessAllowed ? 'block' : 'none';\n",
              "    })();\n",
              "  </script>\n",
              "</div>\n",
              "    </div>\n",
              "  </div>\n"
            ],
            "application/vnd.google.colaboratory.intrinsic+json": {
              "type": "dataframe",
              "summary": "{\n  \"name\": \"pd\",\n  \"rows\": 10,\n  \"fields\": [\n    {\n      \"column\": 0,\n      \"properties\": {\n        \"dtype\": \"number\",\n        \"std\": 0.06660588497097436,\n        \"min\": 0.26557849,\n        \"max\": 0.47572049,\n        \"num_unique_values\": 10,\n        \"samples\": [\n          0.45825249,\n          0.36384849,\n          0.31332549\n        ],\n        \"semantic_type\": \"\",\n        \"description\": \"\"\n      }\n    },\n    {\n      \"column\": 1,\n      \"properties\": {\n        \"dtype\": \"number\",\n        \"std\": 0.09868823443236689,\n        \"min\": -4.8119978,\n        \"max\": -4.5302098,\n        \"num_unique_values\": 10,\n        \"samples\": [\n          -4.6395608,\n          -4.6813938,\n          -4.5302098\n        ],\n        \"semantic_type\": \"\",\n        \"description\": \"\"\n      }\n    },\n    {\n      \"column\": 2,\n      \"properties\": {\n        \"dtype\": \"number\",\n        \"std\": 0.12042409682585231,\n        \"min\": -4.3531468,\n        \"max\": -4.0183588,\n        \"num_unique_values\": 10,\n        \"samples\": [\n          -4.2465468,\n          -4.3531468,\n          -4.1209308\n        ],\n        \"semantic_type\": \"\",\n        \"description\": \"\"\n      }\n    },\n    {\n      \"column\": 3,\n      \"properties\": {\n        \"dtype\": \"number\",\n        \"std\": 4.862681624503936,\n        \"min\": 13.1615665,\n        \"max\": 27.5508485,\n        \"num_unique_values\": 10,\n        \"samples\": [\n          23.1609565,\n          14.1279975,\n          18.6814645\n        ],\n        \"semantic_type\": \"\",\n        \"description\": \"\"\n      }\n    }\n  ]\n}"
            }
          },
          "metadata": {},
          "execution_count": 28
        }
      ]
    },
    {
      "cell_type": "markdown",
      "source": [
        "* 데이터셋 분할"
      ],
      "metadata": {
        "id": "8QBa-PyExUIQ"
      }
    },
    {
      "cell_type": "code",
      "metadata": {
        "id": "VqvHSZgvxUIR"
      },
      "source": [
        "x_train, x_val, y_train, y_val = train_test_split(x, y, test_size=6000, random_state=2022)"
      ],
      "execution_count": null,
      "outputs": []
    },
    {
      "cell_type": "markdown",
      "source": [
        "* Normal 분리 : Normal 데이터로만 학습하기 위해서"
      ],
      "metadata": {
        "id": "_CMDuXpVxUIR"
      }
    },
    {
      "cell_type": "code",
      "metadata": {
        "id": "l0wzUmQsxUIR"
      },
      "source": [
        "x_train0 = x_train[y_train==0]"
      ],
      "execution_count": null,
      "outputs": []
    },
    {
      "cell_type": "markdown",
      "metadata": {
        "id": "kn2itwjOVeC6"
      },
      "source": [
        "### 3) 스케일링 : Standardization\n",
        "\n",
        "* 학습은 x_train_0을 사용하므로,\n",
        "* 스케일링도 x_train_0 기준으로 수행\n"
      ]
    },
    {
      "cell_type": "code",
      "metadata": {
        "id": "PB4xgq9gVeC6"
      },
      "source": [
        "# Initialize a scaler using the training data.\n",
        "scaler = StandardScaler().fit(flatten(x_train0))\n",
        "x_train0_s = scale(x_train0, scaler)"
      ],
      "execution_count": null,
      "outputs": []
    },
    {
      "cell_type": "code",
      "metadata": {
        "id": "PcchbrqWVeC6"
      },
      "source": [
        "x_val_s = scale(x_val, scaler)"
      ],
      "execution_count": null,
      "outputs": []
    },
    {
      "cell_type": "markdown",
      "metadata": {
        "id": "gIgYFxvmVeC6"
      },
      "source": [
        "## 3.모델링\n",
        "\n"
      ]
    },
    {
      "cell_type": "markdown",
      "metadata": {
        "id": "qigm9r52VeC7"
      },
      "source": [
        "### 1) LSTM + AE ①\n",
        "* 다음과 같이 구조를 정의하시오.\n",
        "    * lstm(64)\n",
        "    * lstm(32)\n",
        "    * RepeatVector(  )\n",
        "    * lstm(32)\n",
        "    * lstm(64)\n",
        "    * TimeDistributed(Dense(  ))\n",
        "\n",
        "* 모델이름 : lstm_ae0\n",
        "\n"
      ]
    },
    {
      "cell_type": "code",
      "metadata": {
        "id": "PG2x5s3u-hOa"
      },
      "source": [
        "n_features =  x_train0_s.shape[2]"
      ],
      "execution_count": null,
      "outputs": []
    },
    {
      "cell_type": "code",
      "metadata": {
        "colab": {
          "base_uri": "https://localhost:8080/"
        },
        "outputId": "d8afa948-d52e-45db-845a-b8e45f34ac7d",
        "id": "GaEfyBxC-hOi"
      },
      "source": [
        "clear_session()\n",
        "\n",
        "# Encoder\n",
        "input_layer = Input(shape=(timestep, n_features))\n",
        "encoder = LSTM(64, return_sequences=True)(input_layer)\n",
        "encoder = LSTM(32, return_sequences=False)(encoder)\n",
        "encoder = RepeatVector(timestep)(encoder)\n",
        "# Decoder\n",
        "decoder = LSTM(32, return_sequences=True)(encoder)\n",
        "decoder = LSTM(64, return_sequences=True)(decoder)\n",
        "decoder = TimeDistributed(Dense(n_features))(decoder)\n",
        "lstm_ae0 = Model(inputs=input_layer, outputs=decoder)\n",
        "\n",
        "lstm_ae0.summary()"
      ],
      "execution_count": null,
      "outputs": [
        {
          "output_type": "stream",
          "name": "stdout",
          "text": [
            "Model: \"model\"\n",
            "_________________________________________________________________\n",
            " Layer (type)                Output Shape              Param #   \n",
            "=================================================================\n",
            " input_1 (InputLayer)        [(None, 10, 59)]          0         \n",
            "                                                                 \n",
            " lstm (LSTM)                 (None, 10, 64)            31744     \n",
            "                                                                 \n",
            " lstm_1 (LSTM)               (None, 32)                12416     \n",
            "                                                                 \n",
            " repeat_vector (RepeatVecto  (None, 10, 32)            0         \n",
            " r)                                                              \n",
            "                                                                 \n",
            " lstm_2 (LSTM)               (None, 10, 32)            8320      \n",
            "                                                                 \n",
            " lstm_3 (LSTM)               (None, 10, 64)            24832     \n",
            "                                                                 \n",
            " time_distributed (TimeDist  (None, 10, 59)            3835      \n",
            " ributed)                                                        \n",
            "                                                                 \n",
            "=================================================================\n",
            "Total params: 81147 (316.98 KB)\n",
            "Trainable params: 81147 (316.98 KB)\n",
            "Non-trainable params: 0 (0.00 Byte)\n",
            "_________________________________________________________________\n"
          ]
        }
      ]
    },
    {
      "cell_type": "markdown",
      "metadata": {
        "id": "LlPHerHq3f-8"
      },
      "source": [
        "* 학습\n",
        "    * epochs : 50"
      ]
    },
    {
      "cell_type": "code",
      "metadata": {
        "id": "i0YVWO4Q3f--",
        "colab": {
          "base_uri": "https://localhost:8080/"
        },
        "outputId": "71db3add-fd89-4403-df30-d04bfa53ea89"
      },
      "source": [
        "lstm_ae0.compile(optimizer='adam', loss = 'mse')\n",
        "history = lstm_ae0.fit(x = x_train0_s, y = x_train0_s, epochs=50, batch_size=64\n",
        "                      , validation_split = 0.2).history"
      ],
      "execution_count": null,
      "outputs": [
        {
          "output_type": "stream",
          "name": "stdout",
          "text": [
            "Epoch 1/50\n",
            "152/152 [==============================] - 11s 23ms/step - loss: 0.6577 - val_loss: 0.4597\n",
            "Epoch 2/50\n",
            "152/152 [==============================] - 2s 12ms/step - loss: 0.3906 - val_loss: 0.3547\n",
            "Epoch 3/50\n",
            "152/152 [==============================] - 2s 10ms/step - loss: 0.3227 - val_loss: 0.3038\n",
            "Epoch 4/50\n",
            "152/152 [==============================] - 2s 11ms/step - loss: 0.2797 - val_loss: 0.2740\n",
            "Epoch 5/50\n",
            "152/152 [==============================] - 2s 10ms/step - loss: 0.2553 - val_loss: 0.2523\n",
            "Epoch 6/50\n",
            "152/152 [==============================] - 2s 11ms/step - loss: 0.2367 - val_loss: 0.2401\n",
            "Epoch 7/50\n",
            "152/152 [==============================] - 2s 14ms/step - loss: 0.2229 - val_loss: 0.2255\n",
            "Epoch 8/50\n",
            "152/152 [==============================] - 2s 14ms/step - loss: 0.2120 - val_loss: 0.2189\n",
            "Epoch 9/50\n",
            "152/152 [==============================] - 2s 11ms/step - loss: 0.2060 - val_loss: 0.2106\n",
            "Epoch 10/50\n",
            "152/152 [==============================] - 2s 10ms/step - loss: 0.1982 - val_loss: 0.2035\n",
            "Epoch 11/50\n",
            "152/152 [==============================] - 2s 11ms/step - loss: 0.1905 - val_loss: 0.2008\n",
            "Epoch 12/50\n",
            "152/152 [==============================] - 2s 11ms/step - loss: 0.1867 - val_loss: 0.1955\n",
            "Epoch 13/50\n",
            "152/152 [==============================] - 2s 11ms/step - loss: 0.1827 - val_loss: 0.1911\n",
            "Epoch 14/50\n",
            "152/152 [==============================] - 2s 12ms/step - loss: 0.1781 - val_loss: 0.1849\n",
            "Epoch 15/50\n",
            "152/152 [==============================] - 2s 15ms/step - loss: 0.1728 - val_loss: 0.1857\n",
            "Epoch 16/50\n",
            "152/152 [==============================] - 2s 12ms/step - loss: 0.1850 - val_loss: 0.1823\n",
            "Epoch 17/50\n",
            "152/152 [==============================] - 2s 13ms/step - loss: 0.1694 - val_loss: 0.1753\n",
            "Epoch 18/50\n",
            "152/152 [==============================] - 2s 11ms/step - loss: 0.1651 - val_loss: 0.1728\n",
            "Epoch 19/50\n",
            "152/152 [==============================] - 2s 11ms/step - loss: 0.1627 - val_loss: 0.1722\n",
            "Epoch 20/50\n",
            "152/152 [==============================] - 2s 10ms/step - loss: 0.1604 - val_loss: 0.1691\n",
            "Epoch 21/50\n",
            "152/152 [==============================] - 2s 10ms/step - loss: 0.1580 - val_loss: 0.1664\n",
            "Epoch 22/50\n",
            "152/152 [==============================] - 2s 13ms/step - loss: 0.1551 - val_loss: 0.1660\n",
            "Epoch 23/50\n",
            "152/152 [==============================] - 2s 14ms/step - loss: 0.1567 - val_loss: 0.1694\n",
            "Epoch 24/50\n",
            "152/152 [==============================] - 2s 11ms/step - loss: 0.1546 - val_loss: 0.1626\n",
            "Epoch 25/50\n",
            "152/152 [==============================] - 2s 10ms/step - loss: 0.1511 - val_loss: 0.1601\n",
            "Epoch 26/50\n",
            "152/152 [==============================] - 2s 10ms/step - loss: 0.1494 - val_loss: 0.1576\n",
            "Epoch 27/50\n",
            "152/152 [==============================] - 2s 10ms/step - loss: 0.1470 - val_loss: 0.1576\n",
            "Epoch 28/50\n",
            "152/152 [==============================] - 2s 11ms/step - loss: 0.1455 - val_loss: 0.1641\n",
            "Epoch 29/50\n",
            "152/152 [==============================] - 2s 10ms/step - loss: 0.1453 - val_loss: 0.1520\n",
            "Epoch 30/50\n",
            "152/152 [==============================] - 2s 15ms/step - loss: 0.1431 - val_loss: 0.1518\n",
            "Epoch 31/50\n",
            "152/152 [==============================] - 2s 12ms/step - loss: 0.1419 - val_loss: 0.1489\n",
            "Epoch 32/50\n",
            "152/152 [==============================] - 2s 10ms/step - loss: 0.1387 - val_loss: 0.1508\n",
            "Epoch 33/50\n",
            "152/152 [==============================] - 2s 11ms/step - loss: 0.1395 - val_loss: 0.1475\n",
            "Epoch 34/50\n",
            "152/152 [==============================] - 2s 11ms/step - loss: 0.1368 - val_loss: 0.1462\n",
            "Epoch 35/50\n",
            "152/152 [==============================] - 2s 10ms/step - loss: 0.1357 - val_loss: 0.1460\n",
            "Epoch 36/50\n",
            "152/152 [==============================] - 2s 11ms/step - loss: 0.1348 - val_loss: 0.1464\n",
            "Epoch 37/50\n",
            "152/152 [==============================] - 2s 12ms/step - loss: 0.1392 - val_loss: 0.1429\n",
            "Epoch 38/50\n",
            "152/152 [==============================] - 2s 14ms/step - loss: 0.1335 - val_loss: 0.1413\n",
            "Epoch 39/50\n",
            "152/152 [==============================] - 2s 11ms/step - loss: 0.1334 - val_loss: 0.1411\n",
            "Epoch 40/50\n",
            "152/152 [==============================] - 2s 10ms/step - loss: 0.1321 - val_loss: 0.1408\n",
            "Epoch 41/50\n",
            "152/152 [==============================] - 3s 20ms/step - loss: 0.1320 - val_loss: 0.1404\n",
            "Epoch 42/50\n",
            "152/152 [==============================] - 3s 18ms/step - loss: 0.1280 - val_loss: 0.1386\n",
            "Epoch 43/50\n",
            "152/152 [==============================] - 4s 24ms/step - loss: 0.1278 - val_loss: 0.1364\n",
            "Epoch 44/50\n",
            "152/152 [==============================] - 3s 21ms/step - loss: 0.1270 - val_loss: 0.1370\n",
            "Epoch 45/50\n",
            "152/152 [==============================] - 2s 15ms/step - loss: 0.1288 - val_loss: 0.1387\n",
            "Epoch 46/50\n",
            "152/152 [==============================] - 2s 10ms/step - loss: 0.1271 - val_loss: 0.1361\n",
            "Epoch 47/50\n",
            "152/152 [==============================] - 2s 10ms/step - loss: 0.1250 - val_loss: 0.1366\n",
            "Epoch 48/50\n",
            "152/152 [==============================] - 2s 10ms/step - loss: 0.1262 - val_loss: 0.1376\n",
            "Epoch 49/50\n",
            "152/152 [==============================] - 2s 12ms/step - loss: 0.1253 - val_loss: 0.1327\n",
            "Epoch 50/50\n",
            "152/152 [==============================] - 2s 14ms/step - loss: 0.1241 - val_loss: 0.1305\n"
          ]
        }
      ]
    },
    {
      "cell_type": "code",
      "metadata": {
        "id": "rvZMNMBL3f-_",
        "colab": {
          "base_uri": "https://localhost:8080/",
          "height": 449
        },
        "outputId": "093edbaf-b396-4b95-c628-25b6f2cd5f47"
      },
      "source": [
        "plot_learning_curve(history)"
      ],
      "execution_count": null,
      "outputs": [
        {
          "output_type": "display_data",
          "data": {
            "text/plain": [
              "<Figure size 640x480 with 1 Axes>"
            ],
            "image/png": "[encoded data removed]"
          },
          "metadata": {}
        }
      ]
    },
    {
      "cell_type": "markdown",
      "metadata": {
        "id": "c8lwXyRL3vuR"
      },
      "source": [
        "### 2) LSTM + AE ②\n",
        "* RepeatVector 제외 모델\n",
        "* 1번과 동일한 구조로 모델링을 수행하되, RepeatVector를 제외하고 수행합니다.\n",
        "* RepeatVector를 제외하게 되면 바로 전 LSTM 층에서, return_sequences = True 이어야 합니다.\n",
        "* 모델이름 : lstm_ae\n"
      ]
    },
    {
      "cell_type": "code",
      "metadata": {
        "id": "lmGa0RTp3vuS",
        "colab": {
          "base_uri": "https://localhost:8080/"
        },
        "outputId": "85081c3e-7351-47c1-b845-531b665b77ae"
      },
      "source": [
        "clear_session()\n",
        "\n",
        "# Encoder\n",
        "input_layer = Input(shape=(timestep, n_features))\n",
        "encoder = LSTM(64, return_sequences=True)(input_layer)\n",
        "encoder = LSTM(32, return_sequences=True)(encoder)\n",
        "# Decoder\n",
        "decoder = LSTM(32, return_sequences=True)(encoder)\n",
        "decoder = LSTM(64, return_sequences=True)(decoder)\n",
        "decoder = TimeDistributed(Dense(n_features))(decoder)\n",
        "lstm_ae = Model(inputs=input_layer, outputs=decoder)\n",
        "\n",
        "lstm_ae.summary()"
      ],
      "execution_count": null,
      "outputs": [
        {
          "output_type": "stream",
          "name": "stdout",
          "text": [
            "Model: \"model\"\n",
            "_________________________________________________________________\n",
            " Layer (type)                Output Shape              Param #   \n",
            "=================================================================\n",
            " input_1 (InputLayer)        [(None, 10, 59)]          0         \n",
            "                                                                 \n",
            " lstm (LSTM)                 (None, 10, 64)            31744     \n",
            "                                                                 \n",
            " lstm_1 (LSTM)               (None, 10, 32)            12416     \n",
            "                                                                 \n",
            " lstm_2 (LSTM)               (None, 10, 32)            8320      \n",
            "                                                                 \n",
            " lstm_3 (LSTM)               (None, 10, 64)            24832     \n",
            "                                                                 \n",
            " time_distributed (TimeDist  (None, 10, 59)            3835      \n",
            " ributed)                                                        \n",
            "                                                                 \n",
            "=================================================================\n",
            "Total params: 81147 (316.98 KB)\n",
            "Trainable params: 81147 (316.98 KB)\n",
            "Non-trainable params: 0 (0.00 Byte)\n",
            "_________________________________________________________________\n"
          ]
        }
      ]
    },
    {
      "cell_type": "markdown",
      "metadata": {
        "id": "5XPdMjdt2vNA"
      },
      "source": [
        "* 학습\n",
        "    * epochs : 50~100"
      ]
    },
    {
      "cell_type": "code",
      "metadata": {
        "id": "Cg_gLhs8fkzW",
        "colab": {
          "base_uri": "https://localhost:8080/"
        },
        "outputId": "24087e33-28b4-43be-eec9-ac82d8eacfa7"
      },
      "source": [
        "lstm_ae.compile(optimizer='adam', loss = 'mse')\n",
        "history = lstm_ae.fit(x = x_train0_s, y = x_train0_s, epochs=50, batch_size=64\n",
        "                      , validation_split = 0.2).history"
      ],
      "execution_count": null,
      "outputs": [
        {
          "output_type": "stream",
          "name": "stdout",
          "text": [
            "Epoch 1/50\n",
            "152/152 [==============================] - 10s 19ms/step - loss: 0.7269 - val_loss: 0.5300\n",
            "Epoch 2/50\n",
            "152/152 [==============================] - 2s 10ms/step - loss: 0.4511 - val_loss: 0.4003\n",
            "Epoch 3/50\n",
            "152/152 [==============================] - 2s 12ms/step - loss: 0.3583 - val_loss: 0.3383\n",
            "Epoch 4/50\n",
            "152/152 [==============================] - 2s 14ms/step - loss: 0.3077 - val_loss: 0.2989\n",
            "Epoch 5/50\n",
            "152/152 [==============================] - 2s 11ms/step - loss: 0.2751 - val_loss: 0.2697\n",
            "Epoch 6/50\n",
            "152/152 [==============================] - 2s 10ms/step - loss: 0.2491 - val_loss: 0.2478\n",
            "Epoch 7/50\n",
            "152/152 [==============================] - 2s 10ms/step - loss: 0.2284 - val_loss: 0.2279\n",
            "Epoch 8/50\n",
            "152/152 [==============================] - 2s 12ms/step - loss: 0.2113 - val_loss: 0.2122\n",
            "Epoch 9/50\n",
            "152/152 [==============================] - 2s 10ms/step - loss: 0.1970 - val_loss: 0.1991\n",
            "Epoch 10/50\n",
            "152/152 [==============================] - 2s 10ms/step - loss: 0.1856 - val_loss: 0.1884\n",
            "Epoch 11/50\n",
            "152/152 [==============================] - 2s 13ms/step - loss: 0.1763 - val_loss: 0.1805\n",
            "Epoch 12/50\n",
            "152/152 [==============================] - 2s 14ms/step - loss: 0.1682 - val_loss: 0.1720\n",
            "Epoch 13/50\n",
            "152/152 [==============================] - 2s 10ms/step - loss: 0.1616 - val_loss: 0.1653\n",
            "Epoch 14/50\n",
            "152/152 [==============================] - 2s 11ms/step - loss: 0.1551 - val_loss: 0.1590\n",
            "Epoch 15/50\n",
            "152/152 [==============================] - 2s 10ms/step - loss: 0.1496 - val_loss: 0.1538\n",
            "Epoch 16/50\n",
            "152/152 [==============================] - 2s 10ms/step - loss: 0.1452 - val_loss: 0.1488\n",
            "Epoch 17/50\n",
            "152/152 [==============================] - 2s 10ms/step - loss: 0.1406 - val_loss: 0.1446\n",
            "Epoch 18/50\n",
            "152/152 [==============================] - 2s 11ms/step - loss: 0.1365 - val_loss: 0.1407\n",
            "Epoch 19/50\n",
            "152/152 [==============================] - 2s 14ms/step - loss: 0.1329 - val_loss: 0.1369\n",
            "Epoch 20/50\n",
            "152/152 [==============================] - 2s 13ms/step - loss: 0.1297 - val_loss: 0.1328\n",
            "Epoch 21/50\n",
            "152/152 [==============================] - 2s 10ms/step - loss: 0.1255 - val_loss: 0.1295\n",
            "Epoch 22/50\n",
            "152/152 [==============================] - 2s 10ms/step - loss: 0.1223 - val_loss: 0.1255\n",
            "Epoch 23/50\n",
            "152/152 [==============================] - 2s 10ms/step - loss: 0.1186 - val_loss: 0.1218\n",
            "Epoch 24/50\n",
            "152/152 [==============================] - 2s 14ms/step - loss: 0.1148 - val_loss: 0.1185\n",
            "Epoch 25/50\n",
            "152/152 [==============================] - 2s 11ms/step - loss: 0.1115 - val_loss: 0.1150\n",
            "Epoch 26/50\n",
            "152/152 [==============================] - 2s 12ms/step - loss: 0.1078 - val_loss: 0.1107\n",
            "Epoch 27/50\n",
            "152/152 [==============================] - 2s 14ms/step - loss: 0.1049 - val_loss: 0.1080\n",
            "Epoch 28/50\n",
            "152/152 [==============================] - 2s 10ms/step - loss: 0.1020 - val_loss: 0.1049\n",
            "Epoch 29/50\n",
            "152/152 [==============================] - 2s 11ms/step - loss: 0.0998 - val_loss: 0.1027\n",
            "Epoch 30/50\n",
            "152/152 [==============================] - 2s 10ms/step - loss: 0.0981 - val_loss: 0.1018\n",
            "Epoch 31/50\n",
            "152/152 [==============================] - 2s 10ms/step - loss: 0.0957 - val_loss: 0.0989\n",
            "Epoch 32/50\n",
            "152/152 [==============================] - 2s 10ms/step - loss: 0.0942 - val_loss: 0.0967\n",
            "Epoch 33/50\n",
            "152/152 [==============================] - 2s 11ms/step - loss: 0.0921 - val_loss: 0.0945\n",
            "Epoch 34/50\n",
            "152/152 [==============================] - 2s 13ms/step - loss: 0.0903 - val_loss: 0.0934\n",
            "Epoch 35/50\n",
            "152/152 [==============================] - 2s 14ms/step - loss: 0.0886 - val_loss: 0.0916\n",
            "Epoch 36/50\n",
            "152/152 [==============================] - 2s 12ms/step - loss: 0.0874 - val_loss: 0.0903\n",
            "Epoch 37/50\n",
            "152/152 [==============================] - 2s 10ms/step - loss: 0.0857 - val_loss: 0.0888\n",
            "Epoch 38/50\n",
            "152/152 [==============================] - 2s 10ms/step - loss: 0.0845 - val_loss: 0.0879\n",
            "Epoch 39/50\n",
            "152/152 [==============================] - 2s 10ms/step - loss: 0.0835 - val_loss: 0.0866\n",
            "Epoch 40/50\n",
            "152/152 [==============================] - 2s 10ms/step - loss: 0.0820 - val_loss: 0.0852\n",
            "Epoch 41/50\n",
            "152/152 [==============================] - 2s 10ms/step - loss: 0.0807 - val_loss: 0.0838\n",
            "Epoch 42/50\n",
            "152/152 [==============================] - 2s 13ms/step - loss: 0.0795 - val_loss: 0.0830\n",
            "Epoch 43/50\n",
            "152/152 [==============================] - 2s 13ms/step - loss: 0.0786 - val_loss: 0.0814\n",
            "Epoch 44/50\n",
            "152/152 [==============================] - 2s 11ms/step - loss: 0.0775 - val_loss: 0.0805\n",
            "Epoch 45/50\n",
            "152/152 [==============================] - 2s 10ms/step - loss: 0.0764 - val_loss: 0.0793\n",
            "Epoch 46/50\n",
            "152/152 [==============================] - 2s 11ms/step - loss: 0.0757 - val_loss: 0.0783\n",
            "Epoch 47/50\n",
            "152/152 [==============================] - 2s 10ms/step - loss: 0.0745 - val_loss: 0.0773\n",
            "Epoch 48/50\n",
            "152/152 [==============================] - 2s 11ms/step - loss: 0.0733 - val_loss: 0.0782\n",
            "Epoch 49/50\n",
            "152/152 [==============================] - 2s 11ms/step - loss: 0.0729 - val_loss: 0.0753\n",
            "Epoch 50/50\n",
            "152/152 [==============================] - 2s 15ms/step - loss: 0.0713 - val_loss: 0.0741\n"
          ]
        }
      ]
    },
    {
      "cell_type": "code",
      "metadata": {
        "id": "9eJB2u9TfkzY",
        "colab": {
          "base_uri": "https://localhost:8080/",
          "height": 449
        },
        "outputId": "1b062c89-8e3b-4082-915e-0205554c837f"
      },
      "source": [
        "plot_learning_curve(history)"
      ],
      "execution_count": null,
      "outputs": [
        {
          "output_type": "display_data",
          "data": {
            "text/plain": [
              "<Figure size 640x480 with 1 Axes>"
            ],
            "image/png": "[encoded data removed]"
          },
          "metadata": {}
        }
      ]
    },
    {
      "cell_type": "markdown",
      "metadata": {
        "id": "cQZPq7QO3f-_"
      },
      "source": [
        "### 3) 분류에 대한 평가"
      ]
    },
    {
      "cell_type": "markdown",
      "source": [
        "#### LSTM+AE ①"
      ],
      "metadata": {
        "id": "EUpZcrH_5Qbb"
      }
    },
    {
      "cell_type": "markdown",
      "metadata": {
        "id": "b0l2zF-F3f-_"
      },
      "source": [
        "* val 셋으로 예측하고 reconstruction error로 평가해 봅시다."
      ]
    },
    {
      "cell_type": "code",
      "metadata": {
        "id": "kt8TjzN13f_A",
        "colab": {
          "base_uri": "https://localhost:8080/"
        },
        "outputId": "98bed17e-58c9-4b2f-8c5d-9525d4621cf9"
      },
      "source": [
        "pred0 = lstm_ae0.predict(x_val_s)"
      ],
      "execution_count": null,
      "outputs": [
        {
          "output_type": "stream",
          "name": "stdout",
          "text": [
            "188/188 [==============================] - 2s 4ms/step\n"
          ]
        }
      ]
    },
    {
      "cell_type": "code",
      "metadata": {
        "id": "4fM5fzW-3f_B",
        "colab": {
          "base_uri": "https://localhost:8080/",
          "height": 472
        },
        "outputId": "ea4226a4-4f22-4fe4-a238-613095c20456"
      },
      "source": [
        "result0 = recon_err_plot(x_val_s, pred0, y_val, 0.3)"
      ],
      "execution_count": null,
      "outputs": [
        {
          "output_type": "display_data",
          "data": {
            "text/plain": [
              "<Figure size 640x480 with 1 Axes>"
            ],
            "image/png": "[encoded data removed]"
          },
          "metadata": {}
        }
      ]
    },
    {
      "cell_type": "markdown",
      "metadata": {
        "id": "1qYlTN0E3f_B"
      },
      "source": [
        "* thresholds 값을 조절하면서, precision, recall, f1 score 그래프를 그려 봅시다."
      ]
    },
    {
      "cell_type": "code",
      "metadata": {
        "id": "NxuTWoyc3f_H",
        "colab": {
          "base_uri": "https://localhost:8080/",
          "height": 484
        },
        "outputId": "8bb9163b-7a81-4ca5-a7ae-f77de28f5c30"
      },
      "source": [
        "_, _, f1_0, thresholds = prec_rec_f1_curve(result0['True_class'], result0['Reconstruction_error'])"
      ],
      "execution_count": null,
      "outputs": [
        {
          "output_type": "stream",
          "name": "stderr",
          "text": [
            "<ipython-input-14-a823bf1fd488>:6: RuntimeWarning: divide by zero encountered in divide\n",
            "  f1 = 2 / (1/precision + 1/recall)\n"
          ]
        },
        {
          "output_type": "display_data",
          "data": {
            "text/plain": [
              "<Figure size 640x480 with 1 Axes>"
            ],
            "image/png": "[encoded data removed]"
          },
          "metadata": {}
        }
      ]
    },
    {
      "cell_type": "markdown",
      "metadata": {
        "id": "I2pp9RJt3f_f"
      },
      "source": [
        "* f1 score를 가장 높이는 thresholds 값을 찾고 평가해 봅시다."
      ]
    },
    {
      "cell_type": "code",
      "metadata": {
        "id": "Kcre4s5rs0qo",
        "colab": {
          "base_uri": "https://localhost:8080/"
        },
        "outputId": "ff4316b8-a735-4c0b-a0ca-fae2b9119e57"
      },
      "source": [
        "thres_f1_max = thresholds[np.argmax(f1_0)]\n",
        "thres_f1_max"
      ],
      "execution_count": null,
      "outputs": [
        {
          "output_type": "execute_result",
          "data": {
            "text/plain": [
              "0.26301919256065065"
            ]
          },
          "metadata": {},
          "execution_count": 43
        }
      ]
    },
    {
      "cell_type": "code",
      "metadata": {
        "id": "GYDm4cZMs0qo",
        "colab": {
          "base_uri": "https://localhost:8080/"
        },
        "outputId": "e1dc60e3-ad3f-44db-f027-8c491b9d7e37"
      },
      "source": [
        "cm0 = classification_report2(result0['True_class'], result0['Reconstruction_error'], thres_f1_max)"
      ],
      "execution_count": null,
      "outputs": [
        {
          "output_type": "stream",
          "name": "stdout",
          "text": [
            "< confusion matrix >\n",
            "\n",
            "[[5614  320]\n",
            " [  55   11]]\n",
            "\n",
            "============================================================\n",
            "\n",
            "< classification_report >\n",
            "\n",
            "              precision    recall  f1-score   support\n",
            "\n",
            "         0.0       0.99      0.95      0.97      5934\n",
            "         1.0       0.03      0.17      0.06        66\n",
            "\n",
            "    accuracy                           0.94      6000\n",
            "   macro avg       0.51      0.56      0.51      6000\n",
            "weighted avg       0.98      0.94      0.96      6000\n",
            "\n"
          ]
        }
      ]
    },
    {
      "cell_type": "markdown",
      "source": [
        "#### LSTM + AE ②"
      ],
      "metadata": {
        "id": "xJx36pDX4-1n"
      }
    },
    {
      "cell_type": "code",
      "metadata": {
        "id": "Enjlzz8yIu6h",
        "colab": {
          "base_uri": "https://localhost:8080/"
        },
        "outputId": "19e153ec-f03f-4ca2-ecae-128871483bd3"
      },
      "source": [
        "pred1 = lstm_ae.predict(x_val_s)"
      ],
      "execution_count": null,
      "outputs": [
        {
          "output_type": "stream",
          "name": "stdout",
          "text": [
            "188/188 [==============================] - 2s 4ms/step\n"
          ]
        }
      ]
    },
    {
      "cell_type": "code",
      "metadata": {
        "colab": {
          "base_uri": "https://localhost:8080/",
          "height": 472
        },
        "outputId": "67f2e229-bbcd-4494-8145-6e7879fa7e95",
        "id": "ctzV6bTlIu6h"
      },
      "source": [
        "result1 = recon_err_plot(x_val_s, pred1, y_val, 0.3)"
      ],
      "execution_count": null,
      "outputs": [
        {
          "output_type": "display_data",
          "data": {
            "text/plain": [
              "<Figure size 640x480 with 1 Axes>"
            ],
            "image/png": "[encoded data removed]"
          },
          "metadata": {}
        }
      ]
    },
    {
      "cell_type": "markdown",
      "metadata": {
        "id": "U3Imq4rtIu6i"
      },
      "source": [
        "* thresholds 값을 조절하면서, precision, recall, f1 score 그래프를 그려 봅시다."
      ]
    },
    {
      "cell_type": "code",
      "metadata": {
        "colab": {
          "base_uri": "https://localhost:8080/",
          "height": 484
        },
        "outputId": "ea11fae2-3a19-4d56-8ee9-e2a96d0138b6",
        "id": "MSv7wViTIu6i"
      },
      "source": [
        "_, _, f1_1, thresholds = prec_rec_f1_curve(result1['True_class'], result1['Reconstruction_error'])"
      ],
      "execution_count": null,
      "outputs": [
        {
          "output_type": "stream",
          "name": "stderr",
          "text": [
            "<ipython-input-14-a823bf1fd488>:6: RuntimeWarning: divide by zero encountered in divide\n",
            "  f1 = 2 / (1/precision + 1/recall)\n"
          ]
        },
        {
          "output_type": "display_data",
          "data": {
            "text/plain": [
              "<Figure size 640x480 with 1 Axes>"
            ],
            "image/png": "[encoded data removed]"
          },
          "metadata": {}
        }
      ]
    },
    {
      "cell_type": "markdown",
      "metadata": {
        "id": "RIIqDChGIu6i"
      },
      "source": [
        "* f1 score를 가장 높이는 thresholds 값을 찾고 평가해 봅시다."
      ]
    },
    {
      "cell_type": "code",
      "metadata": {
        "colab": {
          "base_uri": "https://localhost:8080/"
        },
        "outputId": "57f08829-c384-4e00-cba8-7fe8e22b9006",
        "id": "vIHLcjhOIu6i"
      },
      "source": [
        "thres_f1_max = thresholds[np.argmax(f1_1)]\n",
        "thres_f1_max"
      ],
      "execution_count": null,
      "outputs": [
        {
          "output_type": "execute_result",
          "data": {
            "text/plain": [
              "0.16921583928398315"
            ]
          },
          "metadata": {},
          "execution_count": 48
        }
      ]
    },
    {
      "cell_type": "code",
      "metadata": {
        "colab": {
          "base_uri": "https://localhost:8080/"
        },
        "outputId": "32c493ba-f42a-43ba-da83-818a7f8ed13d",
        "id": "8CQHNTzaIu6i"
      },
      "source": [
        "cm1 = classification_report2(result1['True_class'], result1['Reconstruction_error'], thres_f1_max)"
      ],
      "execution_count": null,
      "outputs": [
        {
          "output_type": "stream",
          "name": "stdout",
          "text": [
            "< confusion matrix >\n",
            "\n",
            "[[5682  252]\n",
            " [  57    9]]\n",
            "\n",
            "============================================================\n",
            "\n",
            "< classification_report >\n",
            "\n",
            "              precision    recall  f1-score   support\n",
            "\n",
            "         0.0       0.99      0.96      0.97      5934\n",
            "         1.0       0.03      0.14      0.06        66\n",
            "\n",
            "    accuracy                           0.95      6000\n",
            "   macro avg       0.51      0.55      0.51      6000\n",
            "weighted avg       0.98      0.95      0.96      6000\n",
            "\n"
          ]
        }
      ]
    },
    {
      "cell_type": "markdown",
      "metadata": {
        "id": "FgruJhn3xgRb"
      },
      "source": [
        "## 4.비즈니스 관점에서의 모델 평가\n",
        "\n",
        "> * 한 롤로 종이를 말다가 찢어지는 사고가 하루에 한번 정도 발생.\n",
        "* 이때마다 공정 중단 및 수율 저하 등, 평균적으로 100백만원의 손실이 발생\n",
        "* 이를 사전에 감지하는 것은 굉장히 어려움. 이런 사고를 5%만 감소시키더라도 회사 입장에서는 상당한 비용 절감효과 예상.\n",
        "* 장애가 예상된다면, 속도를 줄여 장애를 예방할 수 있다. 단, 속도를 줄이면 생산성이 저하되므로, 1회당 평균 3만원의 손실이 발생됩니다.\n"
      ]
    },
    {
      "cell_type": "markdown",
      "source": [
        "### 1) 비즈니스 기대가치 매트릭스"
      ],
      "metadata": {
        "id": "LGhtXHlRxgRb"
      }
    },
    {
      "cell_type": "code",
      "metadata": {
        "id": "mWN-vcsh1EG9",
        "colab": {
          "base_uri": "https://localhost:8080/"
        },
        "outputId": "d76b8955-dbb4-4fd9-808f-85dbd8a6cf88"
      },
      "source": [
        "bv = np.array([[0,3],[100,3]])\n",
        "bv"
      ],
      "execution_count": null,
      "outputs": [
        {
          "output_type": "execute_result",
          "data": {
            "text/plain": [
              "array([[  0,   3],\n",
              "       [100,   3]])"
            ]
          },
          "metadata": {},
          "execution_count": 50
        }
      ]
    },
    {
      "cell_type": "markdown",
      "source": [
        "### 2) cost 계산"
      ],
      "metadata": {
        "id": "th4emI_yxgRc"
      }
    },
    {
      "cell_type": "markdown",
      "source": [
        "* base cost 계산 : 두가지로 계산할 필요가 있습니다.\n",
        "    * 1) 예방활동을 하지 않고, 장애 발생에 대한 조치 비용 계산(계산가능!)\n",
        "    * 2) 현재 수행중인 예방활동 비용 + 장애발생 비용 계산(이 부분은 현재 모르므로 여기서는 다루지 않음)"
      ],
      "metadata": {
        "id": "czB5v64-xgRd"
      }
    },
    {
      "cell_type": "code",
      "source": [
        "base_cost = y_val.sum() * 100\n",
        "base_cost"
      ],
      "metadata": {
        "id": "9BqkO6nxxgRd",
        "colab": {
          "base_uri": "https://localhost:8080/"
        },
        "outputId": "2b396787-47a9-44b6-eb17-ef611a972252"
      },
      "execution_count": null,
      "outputs": [
        {
          "output_type": "execute_result",
          "data": {
            "text/plain": [
              "6600.0"
            ]
          },
          "metadata": {},
          "execution_count": 51
        }
      ]
    },
    {
      "cell_type": "markdown",
      "source": [
        "* 예측값에 대한 cost 계산"
      ],
      "metadata": {
        "id": "mt2Lo7cyxgRc"
      }
    },
    {
      "cell_type": "code",
      "source": [
        "thresholds = np.linspace(0,6, 1000)"
      ],
      "metadata": {
        "id": "xf876KskLaIc"
      },
      "execution_count": null,
      "outputs": []
    },
    {
      "cell_type": "code",
      "metadata": {
        "id": "NiGXGdlDxgRc"
      },
      "source": [
        "cost = []\n",
        "for v in thresholds :\n",
        "    y_pred = np.where(result0['Reconstruction_error']> v, 1, 0)\n",
        "    cm = confusion_matrix(result0['True_class'], y_pred)\n",
        "    cost.append(np.sum(cm * bv))\n",
        "\n",
        "cost = np.array(cost)"
      ],
      "execution_count": null,
      "outputs": []
    },
    {
      "cell_type": "code",
      "source": [
        "cost2 = []\n",
        "for v in thresholds :\n",
        "    y_pred2 = np.where(result1['Reconstruction_error']> v, 1, 0)\n",
        "    cm2 = confusion_matrix(result1['True_class'], y_pred2)\n",
        "    cost2.append(np.sum(cm2 * bv))\n",
        "\n",
        "cost2 = np.array(cost2)"
      ],
      "metadata": {
        "id": "4GHBNz53-RPC"
      },
      "execution_count": null,
      "outputs": []
    },
    {
      "cell_type": "markdown",
      "source": [
        "### 3) 평가해봅시다."
      ],
      "metadata": {
        "id": "-IpU4PewxgRd"
      }
    },
    {
      "cell_type": "markdown",
      "source": [
        "* LSTM+AE"
      ],
      "metadata": {
        "id": "pi0Mn5BX3cj2"
      }
    },
    {
      "cell_type": "code",
      "metadata": {
        "id": "oxUkCBm91ueX",
        "colab": {
          "base_uri": "https://localhost:8080/",
          "height": 411
        },
        "outputId": "7c2eaada-18b0-4a90-c7d2-f5174e5e14d0"
      },
      "source": [
        "min_tres = round(thresholds[np.argmin(cost)],5)\n",
        "\n",
        "print(f'Anomaly Score : {min_tres},  Min Cost : {min(cost)}' )\n",
        "plt.figure(figsize = (15, 8))\n",
        "plt.plot(thresholds, cost)\n",
        "\n",
        "plt.axhline(base_cost, color = 'r', linestyle = \":\")\n",
        "plt.axhline(min(cost), color = 'g', linestyle = \":\")\n",
        "plt.axvline(min_tres, color = 'g', linestyle = \":\")\n",
        "\n",
        "plt.text(max(thresholds)/2+ 0.3, base_cost-100, f\"base cost : {base_cost}\", color = 'r')\n",
        "plt.text(max(thresholds)/2, min(cost)-100, f\"min cost : {min(cost)}\", color = 'g')\n",
        "\n",
        "plt.ylim(6000, 7000)\n",
        "plt.xlabel(\"Anomaly Score\")\n",
        "plt.ylabel(\"Cost\")\n",
        "\n",
        "plt.show()"
      ],
      "execution_count": null,
      "outputs": [
        {
          "output_type": "stream",
          "name": "stdout",
          "text": [
            "Anomaly Score : 0.28228,  Min Cost : 6400\n"
          ]
        },
        {
          "output_type": "display_data",
          "data": {
            "text/plain": [
              "<Figure size 1500x800 with 1 Axes>"
            ],
            "image/png": "[encoded data removed]"
          },
          "metadata": {}
        }
      ]
    },
    {
      "cell_type": "markdown",
      "source": [
        "* LSTM+AE2"
      ],
      "metadata": {
        "id": "VVdC9LaJ3gGX"
      }
    },
    {
      "cell_type": "code",
      "source": [
        "min_tres2 = round(thresholds[np.argmin(cost2)],5)\n",
        "\n",
        "print(f'Anomaly Score : {min_tres2},  Min Cost : {min(cost2)}' )\n",
        "plt.figure(figsize = (15, 8))\n",
        "plt.plot(thresholds, cost2)\n",
        "\n",
        "plt.axhline(base_cost, color = 'r', linestyle = \":\")\n",
        "plt.axhline(min(cost2), color = 'g', linestyle = \":\")\n",
        "plt.axvline(min_tres2, color = 'g', linestyle = \":\")\n",
        "\n",
        "plt.text(max(thresholds)/2 + 0.3, base_cost-100, f\"base cost : {base_cost}\", color = 'r')\n",
        "plt.text(max(thresholds)/2, min(cost2)-100, f\"min cost : {min(cost2)}\", color = 'g')\n",
        "\n",
        "plt.ylim(6000, 7000)\n",
        "plt.xlabel(\"Anomaly Score\")\n",
        "plt.ylabel(\"Cost\")\n",
        "\n",
        "plt.show()"
      ],
      "metadata": {
        "id": "nU6slJtA5jPO",
        "colab": {
          "base_uri": "https://localhost:8080/",
          "height": 411
        },
        "outputId": "ddf78197-8a21-4081-e8b5-b91d2db58050"
      },
      "execution_count": null,
      "outputs": [
        {
          "output_type": "stream",
          "name": "stdout",
          "text": [
            "Anomaly Score : 0.16817,  Min Cost : 6395\n"
          ]
        },
        {
          "output_type": "display_data",
          "data": {
            "text/plain": [
              "<Figure size 1500x800 with 1 Axes>"
            ],
            "image/png": "[encoded data removed]"
          },
          "metadata": {}
        }
      ]
    },
    {
      "cell_type": "code",
      "source": [],
      "metadata": {
        "id": "a0kYLBEmZwBz"
      },
      "execution_count": null,
      "outputs": []
    }
  ]
}